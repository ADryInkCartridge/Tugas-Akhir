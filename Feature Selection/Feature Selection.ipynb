{
 "cells": [
  {
   "cell_type": "code",
   "execution_count": 1,
   "metadata": {},
   "outputs": [],
   "source": [
    "import pandas as pd \n",
    "from sklearn.preprocessing import MinMaxScaler\n",
    "from sklearn.model_selection import train_test_split\n",
    "from sklearn.model_selection import RepeatedKFold\n",
    "from sklearn.ensemble import RandomForestRegressor\n",
    "\n",
    "\n",
    "df = pd.read_csv('Data/Dataset.csv', decimal =\".\", thousands=\",\")\n",
    "df = df.drop(['Kota','Paslon 1','Paslon 2','Total'],axis=1)\n",
    "\n",
    "scaler = MinMaxScaler()\n",
    "\n",
    "df_minmax = pd.DataFrame(scaler.fit_transform(df.values), columns=df.columns, index=df.index)\n",
    "dfX, dfY = df_minmax.iloc[:, :-1], df_minmax.iloc[:, [-1]]\n",
    "kf = RepeatedKFold(n_splits=10, n_repeats = 3 , random_state=1)\n",
    "kf.get_n_splits(dfX)\n",
    "y = df['Partisipasi']\n",
    "\n",
    "\n",
    "def flatten(x):\n",
    "    return [item for sublist in x for item in sublist]\n"
   ]
  },
  {
   "attachments": {},
   "cell_type": "markdown",
   "metadata": {},
   "source": [
    "# Feature Selection\n",
    "Feature selection merupakan sebuah teknik untuk memilih fitur yang paling relevan untuk membangun model. Fitur yang tidak relevan akan dihapus sehingga dapat mengurangi overfitting dan meningkatkan akurasi model.  \n",
    "Terdapat 3 cara untuk melakukan feature selection, yaitu:\n",
    "1. Filter Method\n",
    "2. Wrapper Method\n",
    "3. Embedded Method\n",
    "\n",
    "Ketiga metode tersebut akan dipakai untuk mencari subset fitur terbaik dari dataset yang digunakan."
   ]
  },
  {
   "attachments": {},
   "cell_type": "markdown",
   "metadata": {},
   "source": [
    "## Subset \n",
    "\n",
    "Dataset demografis dapat dibagi menjadi 4 subset besar yaitu:\n",
    "1. Penduduk \n",
    "2. Pendidikan\n",
    "3. Ekonomi\n",
    "4. Sentimen\n",
    "\n",
    "Kombinasi dari keempat subset tersebut akan diuji sebagai acuan dalam melakukan seleksi fitur."
   ]
  },
  {
   "attachments": {},
   "cell_type": "markdown",
   "metadata": {},
   "source": [
    "Untuk mempermudah proses seleksi fitur, sebuah fungsi yang menggabungkan pembuatan model dan evaluasi model akan dibuat.  \n",
    "Fungsi ini akan dibuaat di Utils.py\n",
    "\n",
    "## Eval Models"
   ]
  },
  {
   "cell_type": "code",
   "execution_count": 3,
   "metadata": {},
   "outputs": [],
   "source": [
    "def eval_models(dfX,y,kf):\n",
    "  evals = []\n",
    "  evals.append(evaluate_linreg(dfX,y,kf))  \n",
    "  evals.append(evaluate_svr(dfX,y,kf))  \n",
    "  evals.append(evaluate_dt(dfX,y,kf))  \n",
    "  evals.append(evaluate_rf(dfX,y,kf))  \n",
    "  evals.append(evaluate_xgboost(dfX,y,kf))  \n",
    "  evals.append(evaluate_catboost(dfX,y,kf))  \n",
    "  evals.append(evaluate_lightgbm(dfX,y,kf))  \n",
    "  dfEval = pd.DataFrame(evals,columns=[\"Method\",\"RSME\",\"MAE\",\"R2\"])\n",
    "  return dfEval\n",
    "\n",
    "def compare_models(x1,x2,y,kf):\n",
    "    dfEval_1 = eval_models(x1,y,kf)\n",
    "    dfEval_2 = eval_models(x2,y,kf)\n",
    "    dfDiff = dfEval_1.copy()\n",
    "    dfDiff[\"RSME Diff\"] = dfEval_1[\"RSME\"] - dfEval_2[\"RSME\"]\n",
    "    dfDiff[\"MAE Diff\"] = dfEval_1[\"MAE\"] - dfEval_2[\"MAE\"]\n",
    "    dfDiff[\"R2 Diff\"] = dfEval_1[\"R2\"] - dfEval_2[\"R2\"]\n",
    "    dfDiff.drop([\"Method\",\"RSME\",\"MAE\",\"R2\"],axis=1,inplace=True)\n",
    "    return pd.concat([dfEval_1,dfEval_2,dfDiff],axis=1)\n"
   ]
  },
  {
   "cell_type": "code",
   "execution_count": 4,
   "metadata": {},
   "outputs": [],
   "source": [
    "Subset = [\"Penduduk\",\"Pendidikan\",\"Ekonomi\",\"Sentimen\"]\n",
    "Fitur = ['Laju Pertumbuhan', 'Laki', 'Perempuan', 'Umur', 'Umur Squared','DPT'],['APM SD', 'APM SMP', 'APM SMA', 'Literate', 'TPAK', 'pendidikan_SD','pendidikan_SMP', 'pendidikan_SMA', 'pendidikan_Universitas', 'TK', 'SD', 'SMP', 'SMA', 'SMK', 'Universitas'],['Pengeluaran Bulanan','Persentase Kemiskinan', 'Indeks Pembangunan Manusia'],['Sentiment', 'Weighted Sentiment']"
   ]
  },
  {
   "cell_type": "code",
   "execution_count": 5,
   "metadata": {},
   "outputs": [],
   "source": [
    "import itertools\n",
    "\n",
    "combinations = []\n",
    "\n",
    "for r in range(len(Fitur)+1):\n",
    "    for combination in itertools.combinations(Fitur, r):\n",
    "        combinations.append(combination)\n",
    "\n",
    "combinations_name = []\n",
    "\n",
    "for r in range(len(Subset)+1):\n",
    "    for combination in itertools.combinations(Subset, r):\n",
    "        combinations_name.append(combination)\n",
    "\n",
    "dfResults = pd.DataFrame()\n"
   ]
  },
  {
   "cell_type": "code",
   "execution_count": 6,
   "metadata": {},
   "outputs": [
    {
     "name": "stdout",
     "output_type": "stream",
     "text": [
      "Penduduk\n",
      "              Method      RSME       MAE        R2    Subset\n",
      "0  Linear Regression  0.039146  0.031339  0.348727  Penduduk\n",
      "1                SVR  0.045557  0.036148  0.117960  Penduduk\n",
      "2      Decision Tree  0.056154  0.044861 -0.340104  Penduduk\n",
      "3      Random Forest  0.042081  0.033502  0.247428  Penduduk\n",
      "4            XGBoost  0.047816  0.037428  0.028327  Penduduk\n",
      "5           Catboost  0.043899  0.035173  0.180984  Penduduk\n",
      "6           LightGBM  0.041608  0.032873  0.264244  Penduduk\n",
      "Pendidikan\n",
      "              Method      RSME       MAE        R2      Subset\n",
      "0  Linear Regression  0.046319  0.036545  0.088201  Pendidikan\n",
      "1                SVR  0.047664  0.038493  0.034482  Pendidikan\n",
      "2      Decision Tree  0.054108  0.043685 -0.244225  Pendidikan\n",
      "3      Random Forest  0.040805  0.032964  0.292357  Pendidikan\n",
      "4            XGBoost  0.044113  0.036136  0.173002  Pendidikan\n",
      "5           Catboost  0.042237  0.034181  0.241829  Pendidikan\n",
      "6           LightGBM  0.044534  0.035836  0.157129  Pendidikan\n",
      "Ekonomi\n",
      "              Method      RSME       MAE        R2   Subset\n",
      "0  Linear Regression  0.047353  0.036300  0.047043  Ekonomi\n",
      "1                SVR  0.046810  0.037420  0.068781  Ekonomi\n",
      "2      Decision Tree  0.051502  0.040899 -0.127253  Ekonomi\n",
      "3      Random Forest  0.040461  0.031870  0.304243  Ekonomi\n",
      "4            XGBoost  0.044153  0.035298  0.171499  Ekonomi\n",
      "5           Catboost  0.042746  0.033235  0.223458  Ekonomi\n",
      "6           LightGBM  0.045851  0.035081  0.106520  Ekonomi\n",
      "Sentimen\n",
      "              Method      RSME       MAE        R2    Subset\n",
      "0  Linear Regression  0.049217  0.040296 -0.029474  Sentimen\n",
      "1                SVR  0.048881  0.040131 -0.015456  Sentimen\n",
      "2      Decision Tree  0.049506  0.040649 -0.041601  Sentimen\n",
      "3      Random Forest  0.049462  0.040547 -0.039729  Sentimen\n",
      "4            XGBoost  0.049478  0.040624 -0.040416  Sentimen\n",
      "5           Catboost  0.049506  0.040649 -0.041601  Sentimen\n",
      "6           LightGBM  0.049462  0.040609 -0.039728  Sentimen\n"
     ]
    },
    {
     "data": {
      "text/html": [
       "<div>\n",
       "<style scoped>\n",
       "    .dataframe tbody tr th:only-of-type {\n",
       "        vertical-align: middle;\n",
       "    }\n",
       "\n",
       "    .dataframe tbody tr th {\n",
       "        vertical-align: top;\n",
       "    }\n",
       "\n",
       "    .dataframe thead th {\n",
       "        text-align: right;\n",
       "    }\n",
       "</style>\n",
       "<table border=\"1\" class=\"dataframe\">\n",
       "  <thead>\n",
       "    <tr style=\"text-align: right;\">\n",
       "      <th></th>\n",
       "      <th>Method</th>\n",
       "      <th>RSME</th>\n",
       "      <th>MAE</th>\n",
       "      <th>R2</th>\n",
       "      <th>Subset</th>\n",
       "    </tr>\n",
       "  </thead>\n",
       "  <tbody>\n",
       "    <tr>\n",
       "      <th>0</th>\n",
       "      <td>Linear Regression</td>\n",
       "      <td>0.039146</td>\n",
       "      <td>0.031339</td>\n",
       "      <td>0.348727</td>\n",
       "      <td>Penduduk</td>\n",
       "    </tr>\n",
       "    <tr>\n",
       "      <th>1</th>\n",
       "      <td>SVR</td>\n",
       "      <td>0.045557</td>\n",
       "      <td>0.036148</td>\n",
       "      <td>0.117960</td>\n",
       "      <td>Penduduk</td>\n",
       "    </tr>\n",
       "    <tr>\n",
       "      <th>2</th>\n",
       "      <td>Decision Tree</td>\n",
       "      <td>0.056154</td>\n",
       "      <td>0.044861</td>\n",
       "      <td>-0.340104</td>\n",
       "      <td>Penduduk</td>\n",
       "    </tr>\n",
       "    <tr>\n",
       "      <th>3</th>\n",
       "      <td>Random Forest</td>\n",
       "      <td>0.042081</td>\n",
       "      <td>0.033502</td>\n",
       "      <td>0.247428</td>\n",
       "      <td>Penduduk</td>\n",
       "    </tr>\n",
       "    <tr>\n",
       "      <th>4</th>\n",
       "      <td>XGBoost</td>\n",
       "      <td>0.047816</td>\n",
       "      <td>0.037428</td>\n",
       "      <td>0.028327</td>\n",
       "      <td>Penduduk</td>\n",
       "    </tr>\n",
       "    <tr>\n",
       "      <th>5</th>\n",
       "      <td>Catboost</td>\n",
       "      <td>0.043899</td>\n",
       "      <td>0.035173</td>\n",
       "      <td>0.180984</td>\n",
       "      <td>Penduduk</td>\n",
       "    </tr>\n",
       "    <tr>\n",
       "      <th>6</th>\n",
       "      <td>LightGBM</td>\n",
       "      <td>0.041608</td>\n",
       "      <td>0.032873</td>\n",
       "      <td>0.264244</td>\n",
       "      <td>Penduduk</td>\n",
       "    </tr>\n",
       "    <tr>\n",
       "      <th>0</th>\n",
       "      <td>Linear Regression</td>\n",
       "      <td>0.046319</td>\n",
       "      <td>0.036545</td>\n",
       "      <td>0.088201</td>\n",
       "      <td>Pendidikan</td>\n",
       "    </tr>\n",
       "    <tr>\n",
       "      <th>1</th>\n",
       "      <td>SVR</td>\n",
       "      <td>0.047664</td>\n",
       "      <td>0.038493</td>\n",
       "      <td>0.034482</td>\n",
       "      <td>Pendidikan</td>\n",
       "    </tr>\n",
       "    <tr>\n",
       "      <th>2</th>\n",
       "      <td>Decision Tree</td>\n",
       "      <td>0.054108</td>\n",
       "      <td>0.043685</td>\n",
       "      <td>-0.244225</td>\n",
       "      <td>Pendidikan</td>\n",
       "    </tr>\n",
       "    <tr>\n",
       "      <th>3</th>\n",
       "      <td>Random Forest</td>\n",
       "      <td>0.040805</td>\n",
       "      <td>0.032964</td>\n",
       "      <td>0.292357</td>\n",
       "      <td>Pendidikan</td>\n",
       "    </tr>\n",
       "    <tr>\n",
       "      <th>4</th>\n",
       "      <td>XGBoost</td>\n",
       "      <td>0.044113</td>\n",
       "      <td>0.036136</td>\n",
       "      <td>0.173002</td>\n",
       "      <td>Pendidikan</td>\n",
       "    </tr>\n",
       "    <tr>\n",
       "      <th>5</th>\n",
       "      <td>Catboost</td>\n",
       "      <td>0.042237</td>\n",
       "      <td>0.034181</td>\n",
       "      <td>0.241829</td>\n",
       "      <td>Pendidikan</td>\n",
       "    </tr>\n",
       "    <tr>\n",
       "      <th>6</th>\n",
       "      <td>LightGBM</td>\n",
       "      <td>0.044534</td>\n",
       "      <td>0.035836</td>\n",
       "      <td>0.157129</td>\n",
       "      <td>Pendidikan</td>\n",
       "    </tr>\n",
       "    <tr>\n",
       "      <th>0</th>\n",
       "      <td>Linear Regression</td>\n",
       "      <td>0.047353</td>\n",
       "      <td>0.036300</td>\n",
       "      <td>0.047043</td>\n",
       "      <td>Ekonomi</td>\n",
       "    </tr>\n",
       "    <tr>\n",
       "      <th>1</th>\n",
       "      <td>SVR</td>\n",
       "      <td>0.046810</td>\n",
       "      <td>0.037420</td>\n",
       "      <td>0.068781</td>\n",
       "      <td>Ekonomi</td>\n",
       "    </tr>\n",
       "    <tr>\n",
       "      <th>2</th>\n",
       "      <td>Decision Tree</td>\n",
       "      <td>0.051502</td>\n",
       "      <td>0.040899</td>\n",
       "      <td>-0.127253</td>\n",
       "      <td>Ekonomi</td>\n",
       "    </tr>\n",
       "    <tr>\n",
       "      <th>3</th>\n",
       "      <td>Random Forest</td>\n",
       "      <td>0.040461</td>\n",
       "      <td>0.031870</td>\n",
       "      <td>0.304243</td>\n",
       "      <td>Ekonomi</td>\n",
       "    </tr>\n",
       "    <tr>\n",
       "      <th>4</th>\n",
       "      <td>XGBoost</td>\n",
       "      <td>0.044153</td>\n",
       "      <td>0.035298</td>\n",
       "      <td>0.171499</td>\n",
       "      <td>Ekonomi</td>\n",
       "    </tr>\n",
       "    <tr>\n",
       "      <th>5</th>\n",
       "      <td>Catboost</td>\n",
       "      <td>0.042746</td>\n",
       "      <td>0.033235</td>\n",
       "      <td>0.223458</td>\n",
       "      <td>Ekonomi</td>\n",
       "    </tr>\n",
       "    <tr>\n",
       "      <th>6</th>\n",
       "      <td>LightGBM</td>\n",
       "      <td>0.045851</td>\n",
       "      <td>0.035081</td>\n",
       "      <td>0.106520</td>\n",
       "      <td>Ekonomi</td>\n",
       "    </tr>\n",
       "    <tr>\n",
       "      <th>0</th>\n",
       "      <td>Linear Regression</td>\n",
       "      <td>0.049217</td>\n",
       "      <td>0.040296</td>\n",
       "      <td>-0.029474</td>\n",
       "      <td>Sentimen</td>\n",
       "    </tr>\n",
       "    <tr>\n",
       "      <th>1</th>\n",
       "      <td>SVR</td>\n",
       "      <td>0.048881</td>\n",
       "      <td>0.040131</td>\n",
       "      <td>-0.015456</td>\n",
       "      <td>Sentimen</td>\n",
       "    </tr>\n",
       "    <tr>\n",
       "      <th>2</th>\n",
       "      <td>Decision Tree</td>\n",
       "      <td>0.049506</td>\n",
       "      <td>0.040649</td>\n",
       "      <td>-0.041601</td>\n",
       "      <td>Sentimen</td>\n",
       "    </tr>\n",
       "    <tr>\n",
       "      <th>3</th>\n",
       "      <td>Random Forest</td>\n",
       "      <td>0.049462</td>\n",
       "      <td>0.040547</td>\n",
       "      <td>-0.039729</td>\n",
       "      <td>Sentimen</td>\n",
       "    </tr>\n",
       "    <tr>\n",
       "      <th>4</th>\n",
       "      <td>XGBoost</td>\n",
       "      <td>0.049478</td>\n",
       "      <td>0.040624</td>\n",
       "      <td>-0.040416</td>\n",
       "      <td>Sentimen</td>\n",
       "    </tr>\n",
       "    <tr>\n",
       "      <th>5</th>\n",
       "      <td>Catboost</td>\n",
       "      <td>0.049506</td>\n",
       "      <td>0.040649</td>\n",
       "      <td>-0.041601</td>\n",
       "      <td>Sentimen</td>\n",
       "    </tr>\n",
       "    <tr>\n",
       "      <th>6</th>\n",
       "      <td>LightGBM</td>\n",
       "      <td>0.049462</td>\n",
       "      <td>0.040609</td>\n",
       "      <td>-0.039728</td>\n",
       "      <td>Sentimen</td>\n",
       "    </tr>\n",
       "  </tbody>\n",
       "</table>\n",
       "</div>"
      ],
      "text/plain": [
       "              Method      RSME       MAE        R2      Subset\n",
       "0  Linear Regression  0.039146  0.031339  0.348727    Penduduk\n",
       "1                SVR  0.045557  0.036148  0.117960    Penduduk\n",
       "2      Decision Tree  0.056154  0.044861 -0.340104    Penduduk\n",
       "3      Random Forest  0.042081  0.033502  0.247428    Penduduk\n",
       "4            XGBoost  0.047816  0.037428  0.028327    Penduduk\n",
       "5           Catboost  0.043899  0.035173  0.180984    Penduduk\n",
       "6           LightGBM  0.041608  0.032873  0.264244    Penduduk\n",
       "0  Linear Regression  0.046319  0.036545  0.088201  Pendidikan\n",
       "1                SVR  0.047664  0.038493  0.034482  Pendidikan\n",
       "2      Decision Tree  0.054108  0.043685 -0.244225  Pendidikan\n",
       "3      Random Forest  0.040805  0.032964  0.292357  Pendidikan\n",
       "4            XGBoost  0.044113  0.036136  0.173002  Pendidikan\n",
       "5           Catboost  0.042237  0.034181  0.241829  Pendidikan\n",
       "6           LightGBM  0.044534  0.035836  0.157129  Pendidikan\n",
       "0  Linear Regression  0.047353  0.036300  0.047043     Ekonomi\n",
       "1                SVR  0.046810  0.037420  0.068781     Ekonomi\n",
       "2      Decision Tree  0.051502  0.040899 -0.127253     Ekonomi\n",
       "3      Random Forest  0.040461  0.031870  0.304243     Ekonomi\n",
       "4            XGBoost  0.044153  0.035298  0.171499     Ekonomi\n",
       "5           Catboost  0.042746  0.033235  0.223458     Ekonomi\n",
       "6           LightGBM  0.045851  0.035081  0.106520     Ekonomi\n",
       "0  Linear Regression  0.049217  0.040296 -0.029474    Sentimen\n",
       "1                SVR  0.048881  0.040131 -0.015456    Sentimen\n",
       "2      Decision Tree  0.049506  0.040649 -0.041601    Sentimen\n",
       "3      Random Forest  0.049462  0.040547 -0.039729    Sentimen\n",
       "4            XGBoost  0.049478  0.040624 -0.040416    Sentimen\n",
       "5           Catboost  0.049506  0.040649 -0.041601    Sentimen\n",
       "6           LightGBM  0.049462  0.040609 -0.039728    Sentimen"
      ]
     },
     "execution_count": 6,
     "metadata": {},
     "output_type": "execute_result"
    }
   ],
   "source": [
    "import Utils \n",
    "\n",
    "for i in range(1, 5):\n",
    "  dfEval = dfX[Utils.flatten(list(combinations[i]))]\n",
    "  results = Utils.eval_models(dfEval,y,kf)\n",
    "  name = ' '.join(list(combinations_name[i]))\n",
    "  results[\"Subset\"] = name\n",
    "  dfResults = pd.concat([dfResults,results])\n",
    "  print(name)\n",
    "  print(results)\n",
    "dfResults"
   ]
  },
  {
   "attachments": {},
   "cell_type": "markdown",
   "metadata": {},
   "source": [
    "Program Akan dirun hingga seluruh kombinasi subset fitur terpilih telah diuji.  \n",
    "Hasil yang terbaik antar model antara lain:\n",
    "\n",
    "## Hasil Evaluasi Model dengan Subset\n",
    "\n",
    "| Method            | RSME      | MAE       | R2         | Subset                    |\n",
    "|-------------------|-----------|-----------|------------|---------------------------|\n",
    "| Linear Regression | 0,0391464 | 0,0313390 | 0,3487265  | Penduduk                  |\n",
    "| SVR               | 0,0455569 | 0,0361479 | 0,1179601  | Penduduk                  |\n",
    "| Decision Tree     | 0,0491608 | 0,0398620 | -0,0271097 | Penduduk Ekonomi Sentimen |\n",
    "| Random Forest     | 0,0394041 | 0,0316941 | 0,3401233  | Penduduk Ekonomi Sentimen |\n",
    "| XGBoost           | 0,0403263 | 0,0331756 | 0,3088773  | Penduduk Ekonomi Sentimen |\n",
    "| LightGBM          | 0,0380277 | 0,0298752 | 0,3854200  | Penduduk Ekonomi Sentimen |\n",
    "| Catboost          | 0,0384789 | 0,0308619 | 0,3707467  | Penduduk Ekonomi Sentimen |"
   ]
  },
  {
   "attachments": {},
   "cell_type": "markdown",
   "metadata": {},
   "source": [
    "## Filter\n",
    "Filter merupakan metode yang menggunakan teknik statistik untuk memilih fitur yang paling relevan. Filter method tidak memerlukan model untuk memilih fitur namun biasanya menghasilkan akurasi yang lebih rendah dibandingkan dengan wrapper method dan embedded method. Oleh karena itu, filter akan dijadikan acuan untuk membandingkan akurasi dari kedua metode lainnya."
   ]
  },
  {
   "attachments": {},
   "cell_type": "markdown",
   "metadata": {},
   "source": [
    "## SelectKBest Mutual Information\n",
    "\n",
    "SelectKBest merupakan salah satu metode filter yang digunakan untuk memilih fitur yang paling relevan. SelectKBest menggunakan mutual_info_regression untuk menentukan fitur yang paling relevan."
   ]
  },
  {
   "cell_type": "code",
   "execution_count": 10,
   "metadata": {},
   "outputs": [
    {
     "name": "stdout",
     "output_type": "stream",
     "text": [
      "Indeks Pembangunan Manusia\n",
      "              Method      RSME       MAE        R2                  Attributes\n",
      "0  Linear Regression  0.046515  0.036040  0.080456  Indeks Pembangunan Manusia\n",
      "1                SVR  0.048040  0.039052  0.019208  Indeks Pembangunan Manusia\n",
      "2      Decision Tree  0.059062  0.046238 -0.482498  Indeks Pembangunan Manusia\n",
      "3      Random Forest  0.051971  0.041027 -0.147887  Indeks Pembangunan Manusia\n",
      "4            XGBoost  0.057876  0.045275 -0.423546  Indeks Pembangunan Manusia\n",
      "5           Catboost  0.050399  0.039891 -0.079501  Indeks Pembangunan Manusia\n",
      "6           LightGBM  0.044722  0.034718  0.149976  Indeks Pembangunan Manusia\n",
      "TK ,Indeks Pembangunan Manusia\n",
      "              Method      RSME       MAE        R2   \n",
      "0  Linear Regression  0.045945  0.035437  0.102886  \\\n",
      "1                SVR  0.047248  0.037882  0.051262   \n",
      "2      Decision Tree  0.060734  0.046587 -0.567649   \n",
      "3      Random Forest  0.048924  0.037962 -0.017241   \n",
      "4            XGBoost  0.053222  0.041591 -0.203831   \n",
      "5           Catboost  0.050613  0.038910 -0.088670   \n",
      "6           LightGBM  0.045790  0.035727  0.108905   \n",
      "\n",
      "                       Attributes  \n",
      "0  TK ,Indeks Pembangunan Manusia  \n",
      "1  TK ,Indeks Pembangunan Manusia  \n",
      "2  TK ,Indeks Pembangunan Manusia  \n",
      "3  TK ,Indeks Pembangunan Manusia  \n",
      "4  TK ,Indeks Pembangunan Manusia  \n",
      "5  TK ,Indeks Pembangunan Manusia  \n",
      "6  TK ,Indeks Pembangunan Manusia  \n",
      "TK ,SD ,Indeks Pembangunan Manusia\n",
      "              Method      RSME       MAE        R2   \n",
      "0  Linear Regression  0.045791  0.035289  0.108879  \\\n",
      "1                SVR  0.046904  0.037827  0.065028   \n",
      "2      Decision Tree  0.051561  0.040184 -0.129843   \n",
      "3      Random Forest  0.042229  0.033517  0.242130   \n",
      "4            XGBoost  0.045660  0.036665  0.113980   \n",
      "5           Catboost  0.043576  0.034756  0.192993   \n",
      "6           LightGBM  0.043863  0.034496  0.182329   \n",
      "\n",
      "                           Attributes  \n",
      "0  TK ,SD ,Indeks Pembangunan Manusia  \n",
      "1  TK ,SD ,Indeks Pembangunan Manusia  \n",
      "2  TK ,SD ,Indeks Pembangunan Manusia  \n",
      "3  TK ,SD ,Indeks Pembangunan Manusia  \n",
      "4  TK ,SD ,Indeks Pembangunan Manusia  \n",
      "5  TK ,SD ,Indeks Pembangunan Manusia  \n",
      "6  TK ,SD ,Indeks Pembangunan Manusia  \n",
      "TK ,SD ,Pengeluaran Bulanan ,Indeks Pembangunan Manusia\n",
      "              Method      RSME       MAE        R2   \n",
      "0  Linear Regression  0.046153  0.035688  0.094735  \\\n",
      "1                SVR  0.047024  0.037922  0.060230   \n",
      "2      Decision Tree  0.050313  0.040355 -0.075833   \n",
      "3      Random Forest  0.039146  0.031755  0.348728   \n",
      "4            XGBoost  0.040654  0.032761  0.297612   \n",
      "5           Catboost  0.040402  0.032852  0.306285   \n",
      "6           LightGBM  0.043830  0.034585  0.183551   \n",
      "\n",
      "                                          Attributes  \n",
      "0  TK ,SD ,Pengeluaran Bulanan ,Indeks Pembanguna...  \n",
      "1  TK ,SD ,Pengeluaran Bulanan ,Indeks Pembanguna...  \n",
      "2  TK ,SD ,Pengeluaran Bulanan ,Indeks Pembanguna...  \n",
      "3  TK ,SD ,Pengeluaran Bulanan ,Indeks Pembanguna...  \n",
      "4  TK ,SD ,Pengeluaran Bulanan ,Indeks Pembanguna...  \n",
      "5  TK ,SD ,Pengeluaran Bulanan ,Indeks Pembanguna...  \n",
      "6  TK ,SD ,Pengeluaran Bulanan ,Indeks Pembanguna...  \n"
     ]
    },
    {
     "data": {
      "text/html": [
       "<div>\n",
       "<style scoped>\n",
       "    .dataframe tbody tr th:only-of-type {\n",
       "        vertical-align: middle;\n",
       "    }\n",
       "\n",
       "    .dataframe tbody tr th {\n",
       "        vertical-align: top;\n",
       "    }\n",
       "\n",
       "    .dataframe thead th {\n",
       "        text-align: right;\n",
       "    }\n",
       "</style>\n",
       "<table border=\"1\" class=\"dataframe\">\n",
       "  <thead>\n",
       "    <tr style=\"text-align: right;\">\n",
       "      <th></th>\n",
       "      <th>Method</th>\n",
       "      <th>RSME</th>\n",
       "      <th>MAE</th>\n",
       "      <th>R2</th>\n",
       "      <th>Attributes</th>\n",
       "    </tr>\n",
       "  </thead>\n",
       "  <tbody>\n",
       "    <tr>\n",
       "      <th>0</th>\n",
       "      <td>Linear Regression</td>\n",
       "      <td>0.046515</td>\n",
       "      <td>0.036040</td>\n",
       "      <td>0.080456</td>\n",
       "      <td>Indeks Pembangunan Manusia</td>\n",
       "    </tr>\n",
       "    <tr>\n",
       "      <th>1</th>\n",
       "      <td>SVR</td>\n",
       "      <td>0.048040</td>\n",
       "      <td>0.039052</td>\n",
       "      <td>0.019208</td>\n",
       "      <td>Indeks Pembangunan Manusia</td>\n",
       "    </tr>\n",
       "    <tr>\n",
       "      <th>2</th>\n",
       "      <td>Decision Tree</td>\n",
       "      <td>0.059062</td>\n",
       "      <td>0.046238</td>\n",
       "      <td>-0.482498</td>\n",
       "      <td>Indeks Pembangunan Manusia</td>\n",
       "    </tr>\n",
       "    <tr>\n",
       "      <th>3</th>\n",
       "      <td>Random Forest</td>\n",
       "      <td>0.051971</td>\n",
       "      <td>0.041027</td>\n",
       "      <td>-0.147887</td>\n",
       "      <td>Indeks Pembangunan Manusia</td>\n",
       "    </tr>\n",
       "    <tr>\n",
       "      <th>4</th>\n",
       "      <td>XGBoost</td>\n",
       "      <td>0.057876</td>\n",
       "      <td>0.045275</td>\n",
       "      <td>-0.423546</td>\n",
       "      <td>Indeks Pembangunan Manusia</td>\n",
       "    </tr>\n",
       "    <tr>\n",
       "      <th>5</th>\n",
       "      <td>Catboost</td>\n",
       "      <td>0.050399</td>\n",
       "      <td>0.039891</td>\n",
       "      <td>-0.079501</td>\n",
       "      <td>Indeks Pembangunan Manusia</td>\n",
       "    </tr>\n",
       "    <tr>\n",
       "      <th>6</th>\n",
       "      <td>LightGBM</td>\n",
       "      <td>0.044722</td>\n",
       "      <td>0.034718</td>\n",
       "      <td>0.149976</td>\n",
       "      <td>Indeks Pembangunan Manusia</td>\n",
       "    </tr>\n",
       "    <tr>\n",
       "      <th>0</th>\n",
       "      <td>Linear Regression</td>\n",
       "      <td>0.045945</td>\n",
       "      <td>0.035437</td>\n",
       "      <td>0.102886</td>\n",
       "      <td>TK ,Indeks Pembangunan Manusia</td>\n",
       "    </tr>\n",
       "    <tr>\n",
       "      <th>1</th>\n",
       "      <td>SVR</td>\n",
       "      <td>0.047248</td>\n",
       "      <td>0.037882</td>\n",
       "      <td>0.051262</td>\n",
       "      <td>TK ,Indeks Pembangunan Manusia</td>\n",
       "    </tr>\n",
       "    <tr>\n",
       "      <th>2</th>\n",
       "      <td>Decision Tree</td>\n",
       "      <td>0.060734</td>\n",
       "      <td>0.046587</td>\n",
       "      <td>-0.567649</td>\n",
       "      <td>TK ,Indeks Pembangunan Manusia</td>\n",
       "    </tr>\n",
       "    <tr>\n",
       "      <th>3</th>\n",
       "      <td>Random Forest</td>\n",
       "      <td>0.048924</td>\n",
       "      <td>0.037962</td>\n",
       "      <td>-0.017241</td>\n",
       "      <td>TK ,Indeks Pembangunan Manusia</td>\n",
       "    </tr>\n",
       "    <tr>\n",
       "      <th>4</th>\n",
       "      <td>XGBoost</td>\n",
       "      <td>0.053222</td>\n",
       "      <td>0.041591</td>\n",
       "      <td>-0.203831</td>\n",
       "      <td>TK ,Indeks Pembangunan Manusia</td>\n",
       "    </tr>\n",
       "    <tr>\n",
       "      <th>5</th>\n",
       "      <td>Catboost</td>\n",
       "      <td>0.050613</td>\n",
       "      <td>0.038910</td>\n",
       "      <td>-0.088670</td>\n",
       "      <td>TK ,Indeks Pembangunan Manusia</td>\n",
       "    </tr>\n",
       "    <tr>\n",
       "      <th>6</th>\n",
       "      <td>LightGBM</td>\n",
       "      <td>0.045790</td>\n",
       "      <td>0.035727</td>\n",
       "      <td>0.108905</td>\n",
       "      <td>TK ,Indeks Pembangunan Manusia</td>\n",
       "    </tr>\n",
       "    <tr>\n",
       "      <th>0</th>\n",
       "      <td>Linear Regression</td>\n",
       "      <td>0.045791</td>\n",
       "      <td>0.035289</td>\n",
       "      <td>0.108879</td>\n",
       "      <td>TK ,SD ,Indeks Pembangunan Manusia</td>\n",
       "    </tr>\n",
       "    <tr>\n",
       "      <th>1</th>\n",
       "      <td>SVR</td>\n",
       "      <td>0.046904</td>\n",
       "      <td>0.037827</td>\n",
       "      <td>0.065028</td>\n",
       "      <td>TK ,SD ,Indeks Pembangunan Manusia</td>\n",
       "    </tr>\n",
       "    <tr>\n",
       "      <th>2</th>\n",
       "      <td>Decision Tree</td>\n",
       "      <td>0.051561</td>\n",
       "      <td>0.040184</td>\n",
       "      <td>-0.129843</td>\n",
       "      <td>TK ,SD ,Indeks Pembangunan Manusia</td>\n",
       "    </tr>\n",
       "    <tr>\n",
       "      <th>3</th>\n",
       "      <td>Random Forest</td>\n",
       "      <td>0.042229</td>\n",
       "      <td>0.033517</td>\n",
       "      <td>0.242130</td>\n",
       "      <td>TK ,SD ,Indeks Pembangunan Manusia</td>\n",
       "    </tr>\n",
       "    <tr>\n",
       "      <th>4</th>\n",
       "      <td>XGBoost</td>\n",
       "      <td>0.045660</td>\n",
       "      <td>0.036665</td>\n",
       "      <td>0.113980</td>\n",
       "      <td>TK ,SD ,Indeks Pembangunan Manusia</td>\n",
       "    </tr>\n",
       "    <tr>\n",
       "      <th>5</th>\n",
       "      <td>Catboost</td>\n",
       "      <td>0.043576</td>\n",
       "      <td>0.034756</td>\n",
       "      <td>0.192993</td>\n",
       "      <td>TK ,SD ,Indeks Pembangunan Manusia</td>\n",
       "    </tr>\n",
       "    <tr>\n",
       "      <th>6</th>\n",
       "      <td>LightGBM</td>\n",
       "      <td>0.043863</td>\n",
       "      <td>0.034496</td>\n",
       "      <td>0.182329</td>\n",
       "      <td>TK ,SD ,Indeks Pembangunan Manusia</td>\n",
       "    </tr>\n",
       "    <tr>\n",
       "      <th>0</th>\n",
       "      <td>Linear Regression</td>\n",
       "      <td>0.046153</td>\n",
       "      <td>0.035688</td>\n",
       "      <td>0.094735</td>\n",
       "      <td>TK ,SD ,Pengeluaran Bulanan ,Indeks Pembanguna...</td>\n",
       "    </tr>\n",
       "    <tr>\n",
       "      <th>1</th>\n",
       "      <td>SVR</td>\n",
       "      <td>0.047024</td>\n",
       "      <td>0.037922</td>\n",
       "      <td>0.060230</td>\n",
       "      <td>TK ,SD ,Pengeluaran Bulanan ,Indeks Pembanguna...</td>\n",
       "    </tr>\n",
       "    <tr>\n",
       "      <th>2</th>\n",
       "      <td>Decision Tree</td>\n",
       "      <td>0.050313</td>\n",
       "      <td>0.040355</td>\n",
       "      <td>-0.075833</td>\n",
       "      <td>TK ,SD ,Pengeluaran Bulanan ,Indeks Pembanguna...</td>\n",
       "    </tr>\n",
       "    <tr>\n",
       "      <th>3</th>\n",
       "      <td>Random Forest</td>\n",
       "      <td>0.039146</td>\n",
       "      <td>0.031755</td>\n",
       "      <td>0.348728</td>\n",
       "      <td>TK ,SD ,Pengeluaran Bulanan ,Indeks Pembanguna...</td>\n",
       "    </tr>\n",
       "    <tr>\n",
       "      <th>4</th>\n",
       "      <td>XGBoost</td>\n",
       "      <td>0.040654</td>\n",
       "      <td>0.032761</td>\n",
       "      <td>0.297612</td>\n",
       "      <td>TK ,SD ,Pengeluaran Bulanan ,Indeks Pembanguna...</td>\n",
       "    </tr>\n",
       "    <tr>\n",
       "      <th>5</th>\n",
       "      <td>Catboost</td>\n",
       "      <td>0.040402</td>\n",
       "      <td>0.032852</td>\n",
       "      <td>0.306285</td>\n",
       "      <td>TK ,SD ,Pengeluaran Bulanan ,Indeks Pembanguna...</td>\n",
       "    </tr>\n",
       "    <tr>\n",
       "      <th>6</th>\n",
       "      <td>LightGBM</td>\n",
       "      <td>0.043830</td>\n",
       "      <td>0.034585</td>\n",
       "      <td>0.183551</td>\n",
       "      <td>TK ,SD ,Pengeluaran Bulanan ,Indeks Pembanguna...</td>\n",
       "    </tr>\n",
       "  </tbody>\n",
       "</table>\n",
       "</div>"
      ],
      "text/plain": [
       "              Method      RSME       MAE        R2   \n",
       "0  Linear Regression  0.046515  0.036040  0.080456  \\\n",
       "1                SVR  0.048040  0.039052  0.019208   \n",
       "2      Decision Tree  0.059062  0.046238 -0.482498   \n",
       "3      Random Forest  0.051971  0.041027 -0.147887   \n",
       "4            XGBoost  0.057876  0.045275 -0.423546   \n",
       "5           Catboost  0.050399  0.039891 -0.079501   \n",
       "6           LightGBM  0.044722  0.034718  0.149976   \n",
       "0  Linear Regression  0.045945  0.035437  0.102886   \n",
       "1                SVR  0.047248  0.037882  0.051262   \n",
       "2      Decision Tree  0.060734  0.046587 -0.567649   \n",
       "3      Random Forest  0.048924  0.037962 -0.017241   \n",
       "4            XGBoost  0.053222  0.041591 -0.203831   \n",
       "5           Catboost  0.050613  0.038910 -0.088670   \n",
       "6           LightGBM  0.045790  0.035727  0.108905   \n",
       "0  Linear Regression  0.045791  0.035289  0.108879   \n",
       "1                SVR  0.046904  0.037827  0.065028   \n",
       "2      Decision Tree  0.051561  0.040184 -0.129843   \n",
       "3      Random Forest  0.042229  0.033517  0.242130   \n",
       "4            XGBoost  0.045660  0.036665  0.113980   \n",
       "5           Catboost  0.043576  0.034756  0.192993   \n",
       "6           LightGBM  0.043863  0.034496  0.182329   \n",
       "0  Linear Regression  0.046153  0.035688  0.094735   \n",
       "1                SVR  0.047024  0.037922  0.060230   \n",
       "2      Decision Tree  0.050313  0.040355 -0.075833   \n",
       "3      Random Forest  0.039146  0.031755  0.348728   \n",
       "4            XGBoost  0.040654  0.032761  0.297612   \n",
       "5           Catboost  0.040402  0.032852  0.306285   \n",
       "6           LightGBM  0.043830  0.034585  0.183551   \n",
       "\n",
       "                                          Attributes  \n",
       "0                         Indeks Pembangunan Manusia  \n",
       "1                         Indeks Pembangunan Manusia  \n",
       "2                         Indeks Pembangunan Manusia  \n",
       "3                         Indeks Pembangunan Manusia  \n",
       "4                         Indeks Pembangunan Manusia  \n",
       "5                         Indeks Pembangunan Manusia  \n",
       "6                         Indeks Pembangunan Manusia  \n",
       "0                     TK ,Indeks Pembangunan Manusia  \n",
       "1                     TK ,Indeks Pembangunan Manusia  \n",
       "2                     TK ,Indeks Pembangunan Manusia  \n",
       "3                     TK ,Indeks Pembangunan Manusia  \n",
       "4                     TK ,Indeks Pembangunan Manusia  \n",
       "5                     TK ,Indeks Pembangunan Manusia  \n",
       "6                     TK ,Indeks Pembangunan Manusia  \n",
       "0                 TK ,SD ,Indeks Pembangunan Manusia  \n",
       "1                 TK ,SD ,Indeks Pembangunan Manusia  \n",
       "2                 TK ,SD ,Indeks Pembangunan Manusia  \n",
       "3                 TK ,SD ,Indeks Pembangunan Manusia  \n",
       "4                 TK ,SD ,Indeks Pembangunan Manusia  \n",
       "5                 TK ,SD ,Indeks Pembangunan Manusia  \n",
       "6                 TK ,SD ,Indeks Pembangunan Manusia  \n",
       "0  TK ,SD ,Pengeluaran Bulanan ,Indeks Pembanguna...  \n",
       "1  TK ,SD ,Pengeluaran Bulanan ,Indeks Pembanguna...  \n",
       "2  TK ,SD ,Pengeluaran Bulanan ,Indeks Pembanguna...  \n",
       "3  TK ,SD ,Pengeluaran Bulanan ,Indeks Pembanguna...  \n",
       "4  TK ,SD ,Pengeluaran Bulanan ,Indeks Pembanguna...  \n",
       "5  TK ,SD ,Pengeluaran Bulanan ,Indeks Pembanguna...  \n",
       "6  TK ,SD ,Pengeluaran Bulanan ,Indeks Pembanguna...  "
      ]
     },
     "execution_count": 10,
     "metadata": {},
     "output_type": "execute_result"
    }
   ],
   "source": [
    "from sklearn.model_selection import train_test_split\n",
    "from sklearn.feature_selection import SelectKBest\n",
    "from sklearn.feature_selection import mutual_info_regression\n",
    "\n",
    "\n",
    "def select_features(X_train, y_train, X_test,k):\n",
    " fs = SelectKBest(score_func=mutual_info_regression, k=k)\n",
    " fs.fit(X_train, y_train)\n",
    " mask = fs.get_support()\n",
    " new_features = dfX.columns[mask]\n",
    " return new_features\n",
    " \n",
    "\n",
    "\n",
    "X_train, X_test, y_train, y_test = train_test_split(dfX, y, test_size=0.2, random_state=1)\n",
    "\n",
    "dfResultsKBest = pd.DataFrame()\n",
    "for i in range (1,5):\n",
    "  features = select_features(X_train, y_train, X_test,i)\n",
    "  dfEval = dfX[features]\n",
    "  results = Utils.eval_models(dfEval,y,kf)\n",
    "  name = ' ,'.join(features)\n",
    "  results[\"Attributes\"] = name\n",
    "  dfResultsKBest = pd.concat([dfResultsKBest,results])\n",
    "  print(name)\n",
    "  print(results)\n",
    "dfResultsKBest\n"
   ]
  },
  {
   "attachments": {},
   "cell_type": "markdown",
   "metadata": {},
   "source": [
    "Hasil Hasil terbaik SelectKBest antara lain:\n",
    "\n",
    "### Hasil Evaluasi Model dengan SelectKBest\n",
    "\n",
    "| Method            | RSME      | MAE       | R2         | Fitur SelectKBest                                                                                                                                                                                                                                               |\n",
    "|-------------------|-----------|-----------|------------|-----------------------------------------------------------------------------------------------------------------------------------------------------------------------------------------------------------------------------------------------------------------|\n",
    "| Linear Regression | 0,0402219 | 0,0330630 |  0,3124502 | Laki, Perempuan, Umur, Umur Squared, Literate, pendidikan_SD, pendidikan_SMP, pendidikan_SMA, pendidikan_Universitas, TK, SD, SMP, SMK, Pengeluaran Bulanan, Persentase Kemiskinan, Indeks Pembangunan Manusia, DPT                                             |\n",
    "| SVR               | 0,0463914 | 0,0373972 |  0,0853518 | SD, Indeks Pembangunan Manusia                                                                                                                                                                                                                                  |\n",
    "| Decision Tree     | 0,0509548 | 0,0409336 | -0,1034442 | Umur, Umur Squared, pendidikan_SD, pendidikan_SMA, SD, Pengeluaran Bulanan, Persentase Kemiskinan, Indeks Pembangunan Manusia, DPT                                                                                                                              |\n",
    "| Random Forest     | 0,0411838 | 0,0336680 |  0,2791694 | Umur, Umur Squared, pendidikan_SD, pendidikan_SMA, SD, Pengeluaran Bulanan, Persentase Kemiskinan, Indeks Pembangunan Manusia, DPT                                                                                                                              |\n",
    "| XGBoost           | 0,0396851 | 0,0330491 |  0,3306786 | Umur, Umur Squared, pendidikan_SD, pendidikan_SMA, SD, Pengeluaran Bulanan, Persentase Kemiskinan, Indeks Pembangunan Manusia, DPT                                                                                                                              |\n",
    "| LightGBM          | 0,0404047 | 0,0314712 |  0,3061873 | Laju Pertumbuhan, Laki, Perempuan, Umur, Umur Squared, APM SD, APM SMP, APM SMA, Literate, pendidikan_SD, pendidikan_SMP, pendidikan_SMA, pendidikan_Universitas, TK, SD, SMP, SMK, Pengeluaran Bulanan, Persentase Kemiskinan, Indeks Pembangunan Manusia, DPT |\n",
    "| Catboost          | 0,0393219 | 0,0324618 |  0,3428736 | Laju Pertumbuhan, Laki, Perempuan, Umur, Umur Squared, APM SD, APM SMA, Literate, pendidikan_SD, pendidikan_SMP, pendidikan_SMA, pendidikan_Universitas, TK, SD, SMP, SMK, Pengeluaran Bulanan, Persentase Kemiskinan, Indeks Pembangunan Manusia, DPT          |"
   ]
  },
  {
   "attachments": {},
   "cell_type": "markdown",
   "metadata": {},
   "source": [
    "Seperti Hasil Modelling, kembali terlihat bahwa model linear regression, dan model ensemble learning memiliki akurasi yang lebih baik dibandingkan dengan model lainnya."
   ]
  },
  {
   "attachments": {},
   "cell_type": "markdown",
   "metadata": {},
   "source": [
    "## ReliefF \n",
    "\n",
    "ReliefF merupakan salah satu metode filter yang digunakan untuk memilih fitur yang paling relevan. ReliefF menggunakan teknik pengurangan dimensi berbasis nearest neighbor untuk menentukan fitur yang paling relevan.  \n",
    "Implementasi ReliefF yang digunakan berasal dari library skrebate.\n"
   ]
  },
  {
   "cell_type": "code",
   "execution_count": 3,
   "metadata": {},
   "outputs": [
    {
     "data": {
      "text/plain": [
       "{'Indeks Pembangunan Manusia': 0.13284091911102613,\n",
       " 'SD': 0.12034276029063282,\n",
       " 'pendidikan_SMA': 0.11226924394021717,\n",
       " 'pendidikan_SD': 0.09862159114928643,\n",
       " 'DPT': 0.08951284040805399,\n",
       " 'Persentase Kemiskinan': 0.08670741003840189,\n",
       " 'pendidikan_Universitas': 0.0770181753771101,\n",
       " 'Pengeluaran Bulanan': 0.06752418168824369,\n",
       " 'Literate': 0.058178733750543235,\n",
       " 'Perempuan': 0.052779796704443833,\n",
       " 'Laki': 0.04879084066123379,\n",
       " 'TK': 0.04016274053710977,\n",
       " 'TPAK': 0.03947882612619671,\n",
       " 'Laju Pertumbuhan': 0.03707727177524649,\n",
       " 'Umur': 0.03485968154348226,\n",
       " 'Umur Squared': 0.03442564055727986,\n",
       " 'SMK': 0.033480552990718025,\n",
       " 'SMP': 0.02936339912835733,\n",
       " 'Sentiment': 0.017851810718429697,\n",
       " 'Weighted Sentiment': 0.017851810718429697,\n",
       " 'APM SD': 0.015954416625980503,\n",
       " 'SMA': 0.014888048240001402,\n",
       " 'pendidikan_SMP': 0.013984129438205239,\n",
       " 'APM SMP': 0.013054998632209899,\n",
       " 'APM SMA': 0.012096499861815853,\n",
       " 'Universitas': -0.013497161469518246}"
      ]
     },
     "execution_count": 3,
     "metadata": {},
     "output_type": "execute_result"
    }
   ],
   "source": [
    "from skrebate import ReliefF\n",
    "\n",
    "fs = ReliefF(n_features_to_select=4, n_neighbors=100, n_jobs=-1)\n",
    "fs.fit(dfX.values, y)\n",
    "sorted_dict = {}\n",
    "for name, score in zip(dfX.columns, fs.feature_importances_):\n",
    "    sorted_dict[name] = score\n",
    "sorted_dict = dict(sorted(sorted_dict.items(), key=lambda item: item[1], reverse=True))\n",
    "sorted_dict"
   ]
  },
  {
   "attachments": {},
   "cell_type": "markdown",
   "metadata": {},
   "source": [
    "Hasil diatas merupakan feature importance yang dihasilkan oleh ReliefF. Hasil tersebut akan diuji menggunakan semua model untuk melihat akurasi yang dihasilkan.\n",
    "\n",
    "## Hasil Evaluasi Model dengan ReliefF\n",
    "| Method           | RSME     | MAE      | R2        | Fitur SelectKBest                                                                                                                                                                                                                                                                 |\n",
    "|------------------|----------|----------|-----------|-----------------------------------------------------------------------------------------------------------------------------------------------------------------------------------------------------------------------------------------------------------------------------------|\n",
    "| LinearRegression | 0,040827 | 0,032958 |  0,291616 | Indeks Pembangunan Manusia SD pendidikan_SMA pendidikan_SD DPT Persentase Kemiskinan pendidikan_Universitas Pengeluaran Bulanan Literate Perempuan Laki TK TPAK Laju Pertumbuhan Umur Umur Squared SMK SMP Sentiment Weighted Sentiment APM SD SMA pendidikan_SMP APM SMP APM SMA |\n",
    "| SVR              | 0,046285 | 0,037046 |  0,089537 | Indeks Pembangunan Manusia SD pendidikan_SMA pendidikan_SD                                                                                                                                                                                                                        |\n",
    "| DecisionTree     | 0,052342 | 0,041820 | -0,164340 | Indeks Pembangunan Manusia SD                                                                                                                                                                                                                                                     |\n",
    "| RandomForest     | 0,040009 | 0,032160 |  0,319714 | Indeks Pembangunan Manusia SD pendidikan_SMA pendidikan_SD DPT Persentase Kemiskinan pendidikan_Universitas Pengeluaran Bulanan Literate Perempuan Laki TK TPAK Laju Pertumbuhan Umur Umur Squared SMK SMP Sentiment Weighted Sentiment APM SD SMA pendidikan_SMP APM SMP APM SMA |\n",
    "| XGBoost          | 0,042302 | 0,035010 |  0,239495 | Indeks Pembangunan Manusia SD pendidikan_SMA pendidikan_SD DPT Persentase Kemiskinan pendidikan_Universitas Pengeluaran Bulanan                                                                                                                                                   |\n",
    "| LightGBM         | 0,042743 | 0,034286 |  0,223575 | Indeks Pembangunan Manusia SD                                                                                                                                                                                                                                                     |\n",
    "| Catboost         | 0,039739 | 0,032746 |  0,328858 | Indeks Pembangunan Manusia SD pendidikan_SMA pendidikan_SD DPT Persentase Kemiskinan pendidikan_Universitas Pengeluaran Bulanan Literate Perempuan Laki TK TPAK Laju Pertumbuhan Umur Umur Squared SMK SMP Sentiment Weighted Sentiment APM SD SMA pendidikan_SMP APM SMP APM SMA |"
   ]
  },
  {
   "attachments": {},
   "cell_type": "markdown",
   "metadata": {},
   "source": [
    "Hasil reliefF jauh lebih buruk dibandingkan Hasil yang diberikan subset. "
   ]
  },
  {
   "attachments": {},
   "cell_type": "markdown",
   "metadata": {},
   "source": [
    "## Wrapper Method\n",
    "\n",
    "Seperti namanya, metode wrapper membalut model machine learning dan mengukur kinerja model berdasarkan fitur yang dipilih. Metode wrapper memilih fitur berdasarkan kinerja model yang dibalut.  \n",
    "Metode wrapper identik dengan penggunaan metode optimisasi sebagai algoritma pencari fitur. Beberapa metode optimisasi yang digunakan antara lain:\n",
    "1. Genetic Algorithm\n",
    "2. Particle Swarm Optimization\n",
    "3. Dragonfly Algorithm\n",
    "4. Grey Wolf Optimizer\n",
    "5. Harris Hawks Optimization\n"
   ]
  },
  {
   "attachments": {},
   "cell_type": "markdown",
   "metadata": {},
   "source": [
    "## Genetic Algorithm 1\n",
    "\n",
    "GA merupakan teknik seleksi fitur yang menggunakan konsep algoritma genetika. Implementasi dari GA yang digunakan berasal dari library genetic_selection.  \n",
    "Estimator yang dipakai adalah Linear Regression, dan Random Forest.  \n",
    "Kedua estimator tersebut dipakai karena Linear regression memiliki hasil terbaik diantara model yang tidak berbasis tree dan random forest merupakan model yang seimbang dalam hal akurasi dan kecepatan."
   ]
  },
  {
   "cell_type": "code",
   "execution_count": 3,
   "metadata": {},
   "outputs": [
    {
     "name": "stdout",
     "output_type": "stream",
     "text": [
      "Features: Index(['APM SD', 'pendidikan_SMA', 'Universitas',\n",
      "       'Indeks Pembangunan Manusia'],\n",
      "      dtype='object')\n"
     ]
    }
   ],
   "source": [
    "from genetic_selection import GeneticSelectionCV\n",
    "from sklearn.metrics import *\n",
    "from sklearn.linear_model import LinearRegression\n",
    "import math\n",
    "\n",
    "\n",
    "def RMSEScore(actual, predict):\n",
    "  score = math.sqrt(mean_squared_error(actual,predict))\n",
    "  return score\n",
    "\n",
    "estimator = LinearRegression()\n",
    "\n",
    "report = pd.DataFrame()\n",
    "nofeats = [] \n",
    "chosen_feats = [] \n",
    "cvscore = [] \n",
    "\n",
    "# range diganti untuk mempercepat training(visualisasi), range(1,15) untuk full range\n",
    "for i in range (14,15):\n",
    "  model = GeneticSelectionCV(estimator,\n",
    "                                cv = kf,\n",
    "                                verbose = 0,\n",
    "                                scoring = RMSEScore,\n",
    "                                max_features = i,\n",
    "                                n_population = 200,\n",
    "                                crossover_proba = 0.5,\n",
    "                                mutation_proba = 0.2,\n",
    "                                n_generations = 10,\n",
    "                                crossover_independent_proba=0.5,\n",
    "                                mutation_independent_proba=0.05,\n",
    "                                n_gen_no_change=10,\n",
    "                                caching=True,\n",
    "                                n_jobs=-1)\n",
    "  model = model.fit(dfX, y)\n",
    "  genfeats = dfX.columns[model.support_]\n",
    "  print('Features:', genfeats)\n",
    "\n",
    "  cv_score = model.generation_scores_[-1]\n",
    "  nofeats.append(len(genfeats)) \n",
    "  chosen_feats.append(genfeats) \n",
    "  cvscore.append(cv_score)\n",
    "  \n",
    "report[\"No of Feats\"] = nofeats\n",
    "report[\"Chosen Feats\"] = chosen_feats\n",
    "report[\"Scores\"] = cvscore"
   ]
  },
  {
   "attachments": {},
   "cell_type": "markdown",
   "metadata": {},
   "source": [
    "### Genetic Algorithm 1 dengan basis Linear Regression\n",
    "\n",
    "Angka paling dekat ke 0 merupakan hasil terbaik.\n",
    "\n",
    "| Maximum Feats | No of Feats | Scores         | Chosen Feats                                                                                                                           |\n",
    "|---------------|-------------|----------------|----------------------------------------------------------------------------------------------------------------------------------------|\n",
    "|            11 |          10 | -0,03525054205 | Laki', 'Umur', 'Umur Squared', 'APM SMA', 'SMA', 'SMK','Pengeluaran Bulanan', 'Indeks Pembangunan Manusia', 'DPT','Weighted Sentiment' |\n",
    "|             6 |           6 |  -0,0357277118 | Laki', 'Umur', 'Umur Squared', 'TK', 'SMA', 'DPT'                                                                                      |\n",
    "|             7 |           6 |  -0,0357277118 | Laki', 'Umur', 'Umur Squared', 'TK', 'SMA', 'DPT'                                                                                      |\n",
    "|             8 |           6 |  -0,0357277118 | Laki', 'Umur', 'Umur Squared', 'TK', 'SMA', 'DPT'                                                                                      |\n",
    "|             9 |           6 |  -0,0357277118 | Laki', 'Umur', 'Umur Squared', 'TK', 'SMA', 'DPT'                                                                                      |\n",
    "|            10 |           6 |  -0,0357277118 | Laki', 'Umur', 'Umur Squared', 'TK', 'SMA', 'DPT'                                                                                      |\n",
    "|            12 |           6 |  -0,0357277118 | Laki', 'Umur', 'Umur Squared', 'TK', 'SMA', 'DPT'                                                                                      |\n",
    "|            13 |           6 |  -0,0357277118 | Laki', 'Umur', 'Umur Squared', 'TK', 'SMA', 'DPT'                                                                                      |\n",
    "|             4 |           5 | -0,03578968066 | Laki', 'Umur Squared', 'TK', 'SMA', 'DPT'                                                                                              |\n",
    "|             5 |           5 | -0,03578968066 | Laki', 'Umur Squared', 'TK', 'SMA', 'DPT'                                                                                              |\n",
    "|             3 |           4 | -0,03620506409 | Laki', 'Umur Squared', 'SMA', 'DPT'                                                                                                    |\n",
    "|             2 |           3 | -0,03648223628 | Laki', 'SMA', 'DPT'                                                                                                                    |\n",
    "|             1 |           2 | -0,03901257704 | Perempuan', 'DPT'                                                                                                                      |\n",
    "|             0 |           1 | -0,04497598781 | Indeks Pembangunan Manusia'                                                                                                            |\n",
    "\n",
    "Model lalu dibandingkan dengan menggunakan fitur yang dipilih."
   ]
  },
  {
   "attachments": {},
   "cell_type": "markdown",
   "metadata": {},
   "source": [
    "### Hasil Evaluasi Model dengan Genetic Algorithm 1 dengan basis Linear Regression\n",
    "\n",
    "| index | Method            | RSME          | MAE           | R2            |\n",
    "|-------|-------------------|---------------|---------------|---------------|\n",
    "| 0     | Linear Regression | 0,03557438313 | 0,02960915453 | 0,4621587294  |\n",
    "| 5     | Catboost          | 0,03595601986 | 0,0294830146  | 0,4505570674  |\n",
    "| 6     | LightGBM          | 0,03745373452 | 0,02988114094 | 0,4038306784  |\n",
    "| 3     | Random Forest     | 0,03829253303 | 0,0310056919  | 0,3768285337  |\n",
    "| 4     | XGBoost           | 0,03860404978 | 0,03184476503 | 0,3666480642  |\n",
    "| 1     | SVR               | 0,0480342043  | 0,03912312819 | 0,01942555658 |\n",
    "| 2     | Decision Tree     | 0,0512191436  | 0,04058513843 | -0,1149207382 |"
   ]
  },
  {
   "cell_type": "code",
   "execution_count": 2,
   "metadata": {},
   "outputs": [
    {
     "name": "stdout",
     "output_type": "stream",
     "text": [
      "Features: Index(['SMK'], dtype='object')\n"
     ]
    }
   ],
   "source": [
    "from genetic_selection import GeneticSelectionCV\n",
    "from sklearn.metrics import *\n",
    "from sklearn.ensemble import RandomForestRegressor\n",
    "import math\n",
    "\n",
    "\n",
    "def RMSEScore(actual, predict):\n",
    "  score = math.sqrt(mean_squared_error(actual,predict))\n",
    "  return score\n",
    "\n",
    "estimator = RandomForestRegressor(n_estimators=100, random_state=0)\n",
    "\n",
    "report = pd.DataFrame()\n",
    "nofeats = [] \n",
    "chosen_feats = [] \n",
    "cvscore = [] \n",
    "\n",
    "# range diganti untuk mempercepat training(visualisasi), range(1,15) untuk full range\n",
    "for i in range (2,3):\n",
    "  model = GeneticSelectionCV(estimator,\n",
    "                                cv = kf,\n",
    "                                verbose = 0,\n",
    "                                scoring = RMSEScore,\n",
    "                                max_features = i,\n",
    "                                n_population = 200,\n",
    "                                crossover_proba = 0.5,\n",
    "                                mutation_proba = 0.2,\n",
    "                                n_generations = 10,\n",
    "                                crossover_independent_proba=0.5,\n",
    "                                mutation_independent_proba=0.05,\n",
    "                                n_gen_no_change=10,\n",
    "                                caching=True,\n",
    "                                n_jobs=-1)\n",
    "  model = model.fit(dfX, y)\n",
    "  genfeats = dfX.columns[model.support_]\n",
    "  print('Features:', genfeats)\n",
    "\n",
    "  cv_score = model.generation_scores_[-1]\n",
    "  nofeats.append(len(genfeats)) \n",
    "  chosen_feats.append(genfeats) \n",
    "  cvscore.append(cv_score)\n",
    "  \n",
    "report[\"No of Feats\"] = nofeats\n",
    "report[\"Chosen Feats\"] = chosen_feats\n",
    "report[\"Scores\"] = cvscore"
   ]
  },
  {
   "attachments": {},
   "cell_type": "markdown",
   "metadata": {},
   "source": [
    "### Genetic Algorithm 1 menggunakan basis Random Forest\n",
    "\n",
    "| Maximum Feats | No of Feats | Scores    | Chosen Feats                                                                                                                              |\n",
    "|---------------|-------------|-----------|-------------------------------------------------------------------------------------------------------------------------------------------|\n",
    "| 8             | 8           | -0,036165 | Laki', 'Umur', 'Umur Squared', 'Pengeluaran Bulanan','Indeks Pembangunan Manusia', 'DPT', 'Sentiment', 'Weighted Sentiment'               |\n",
    "| 10            | 8           | -0,036165 | Laki', 'Umur', 'Umur Squared', 'Pengeluaran Bulanan','Indeks Pembangunan Manusia', 'DPT', 'Sentiment', 'Weighted Sentiment'               |\n",
    "| 13            | 8           | -0,036165 | Laki', 'Umur', 'Umur Squared', 'Pengeluaran Bulanan','Indeks Pembangunan Manusia', 'DPT', 'Sentiment', 'Weighted Sentiment'               |\n",
    "| 7             | 8           | -0,036322 | Laki', 'Umur', 'Umur Squared', 'APM SMA', 'Pengeluaran Bulanan','Indeks Pembangunan Manusia', 'DPT', 'Weighted Sentiment'                 |\n",
    "| 9             | 8           | -0,036483 | Laki', 'Umur', 'APM SMA', 'Pengeluaran Bulanan', 'Indeks Pembangunan Manusia', 'DPT', 'Sentiment', 'Weighted Sentiment'                   |\n",
    "| 11            | 10          | -0,036618 | Laki', 'Perempuan', 'Umur', 'Umur Squared', 'SMP', 'SMA','Pengeluaran Bulanan', 'Indeks Pembangunan Manusia', 'DPT', 'Weighted Sentiment' |\n",
    "| 6             | 7           | -0,036674 | Perempuan', 'Umur', 'Umur Squared', 'Pengeluaran Bulanan','Indeks Pembangunan Manusia', 'DPT', 'Weighted Sentiment'                       |\n",
    "| 12            | 8           | -0,036674 | Laju Pertumbuhan', 'Umur', 'Umur Squared', 'Pengeluaran Bulanan','Indeks Pembangunan Manusia', 'DPT', 'Sentiment', 'Weighted Sentiment'   |\n",
    "| 4             | 5           | -0,036801 | APM SMA', 'Pengeluaran Bulanan', 'Indeks Pembangunan Manusia', 'DPT','Weighted Sentiment'                                                 |\n",
    "| 5             | 6           | -0,036845 | Umur', 'Umur Squared', 'Pengeluaran Bulanan','Indeks Pembangunan Manusia', 'DPT', 'Weighted Sentiment'                                    |\n",
    "| 3             | 4           | -0,03774  | Pengeluaran Bulanan', 'Indeks Pembangunan Manusia', 'DPT','Weighted Sentiment'                                                            |\n",
    "| 2             | 3           | -0,038195 | Pengeluaran Bulanan', 'Indeks Pembangunan Manusia','Weighted Sentiment'                                                                   |\n",
    "| 1             | 2           | -0,039841 | Pengeluaran Bulanan', 'Indeks Pembangunan Manusia'                                                                                        |\n",
    "| 0             | 1           | -0,044483 | Pengeluaran Bulanan'                                                                                                                      |"
   ]
  },
  {
   "attachments": {},
   "cell_type": "markdown",
   "metadata": {},
   "source": [
    "### Hasil Evaluasi Model dengan Genetic Algorithm 1 dengan basis Random Forest\n",
    "\n",
    "| Index | Method            | RSME    | MAE     | R2       |\n",
    "|-------|-------------------|---------|---------|----------|\n",
    "| 5     | Catboost          | 0,03688 | 0,02968 | 0,42195  |\n",
    "| 3     | Random Forest     | 0,03717 | 0,03020 | 0,41300  |\n",
    "| 6     | LightGBM          | 0,03786 | 0,02964 | 0,39081  |\n",
    "| 4     | XGBoost           | 0,03813 | 0,03140 | 0,38227  |\n",
    "| 0     | Linear Regression | 0,03870 | 0,03088 | 0,36363  |\n",
    "| 1     | SVR               | 0,04786 | 0,03918 | 0,02665  |\n",
    "| 2     | Decision Tree     | 0,04977 | 0,03914 | -0,05278 |"
   ]
  },
  {
   "attachments": {},
   "cell_type": "markdown",
   "metadata": {},
   "source": [
    "## Swarm Algorithm dan Bio-Inspired Algorithm\n",
    "\n",
    "Semua algorithm akan dirun dengan 3 kondisi dengan model random forest untuk membandingkan hasil antar kondisi.\n",
    "1. Konfigurasi 1 =  Iterasi = 10, Populasi = 30\n",
    "2. Konfigurasi 2 =  Iterasi = 30, Populasi = 30\n",
    "3. Konfigurasi 3 =  Iterasi = 100, Populasi = 30\n",
    "\n",
    "Penambahan populasi tidak dilakukan karena terlalu besar komputasi yang dibutuhkan."
   ]
  },
  {
   "attachments": {},
   "cell_type": "markdown",
   "metadata": {},
   "source": [
    "## Particle Swarm Optimization\n",
    "\n",
    "Particle Swarm Optimization atau PSO merupakan teknik optimasi berbasis swarm optimization. Varian Binary dari PSO sering digunakan dalam seleksi fitur.\n"
   ]
  },
  {
   "cell_type": "code",
   "execution_count": 7,
   "metadata": {},
   "outputs": [
    {
     "name": "stderr",
     "output_type": "stream",
     "text": [
      "\u001b[32m [ 2023-06-06 16:42:30,033 ] \u001b[0mFinished iteration #0 with objective value 0.03993526006320904. Current best value is 0.03993526006320904 \u001b[0m\n",
      "\u001b[32m [ 2023-06-06 16:42:39,233 ] \u001b[0mFinished iteration #1 with objective value 0.04047258485011633. Current best value is 0.03993526006320904 \u001b[0m\n",
      "\u001b[32m [ 2023-06-06 16:42:48,457 ] \u001b[0mFinished iteration #2 with objective value 0.039051104144212534. Current best value is 0.039051104144212534 \u001b[0m\n",
      "\u001b[32m [ 2023-06-06 16:42:57,590 ] \u001b[0mFinished iteration #3 with objective value 0.0396776854538726. Current best value is 0.039051104144212534 \u001b[0m\n",
      "\u001b[32m [ 2023-06-06 16:43:07,030 ] \u001b[0mFinished iteration #4 with objective value 0.039597165988187286. Current best value is 0.039051104144212534 \u001b[0m\n",
      "\u001b[32m [ 2023-06-06 16:43:16,246 ] \u001b[0mFinished iteration #5 with objective value 0.03921744094642794. Current best value is 0.039051104144212534 \u001b[0m\n",
      "\u001b[32m [ 2023-06-06 16:43:25,630 ] \u001b[0mFinished iteration #6 with objective value 0.03942683782395794. Current best value is 0.039051104144212534 \u001b[0m\n",
      "\u001b[32m [ 2023-06-06 16:43:34,870 ] \u001b[0mFinished iteration #7 with objective value 0.039181878415698874. Current best value is 0.039051104144212534 \u001b[0m\n",
      "\u001b[32m [ 2023-06-06 16:43:44,214 ] \u001b[0mFinished iteration #8 with objective value 0.03978899977507265. Current best value is 0.039051104144212534 \u001b[0m\n",
      "\u001b[32m [ 2023-06-06 16:43:53,740 ] \u001b[0mFinished iteration #9 with objective value 0.03942225179737296. Current best value is 0.039051104144212534 \u001b[0m\n"
     ]
    },
    {
     "name": "stdout",
     "output_type": "stream",
     "text": [
      "['Umur', 'APM SMP', 'APM SMA', 'Literate', 'pendidikan_SD', 'pendidikan_SMA', 'SD', 'SMP', 'Pengeluaran Bulanan', 'Persentase Kemiskinan', 'DPT', 'Sentiment', 'Weighted Sentiment']\n"
     ]
    },
    {
     "data": {
      "application/vnd.plotly.v1+json": {
       "config": {
        "plotlyServerURL": "https://plot.ly"
       },
       "data": [
        {
         "mode": "markers",
         "name": "objective_score",
         "type": "scatter",
         "x": [
          0,
          1,
          2,
          3,
          4,
          5,
          6,
          7,
          8,
          9
         ],
         "y": [
          0.03993526006320904,
          0.04047258485011633,
          0.039051104144212534,
          0.0396776854538726,
          0.039597165988187286,
          0.03921744094642794,
          0.03942683782395794,
          0.039181878415698874,
          0.03978899977507265,
          0.03942225179737296
         ]
        },
        {
         "mode": "lines+markers",
         "name": "best_score",
         "type": "scatter",
         "x": [
          0,
          1,
          2,
          3,
          4,
          5,
          6,
          7,
          8,
          9
         ],
         "y": [
          0.03993526006320904,
          0.03993526006320904,
          0.039051104144212534,
          0.039051104144212534,
          0.039051104144212534,
          0.039051104144212534,
          0.039051104144212534,
          0.039051104144212534,
          0.039051104144212534,
          0.039051104144212534
         ]
        }
       ],
       "layout": {
        "template": {
         "data": {
          "bar": [
           {
            "error_x": {
             "color": "#2a3f5f"
            },
            "error_y": {
             "color": "#2a3f5f"
            },
            "marker": {
             "line": {
              "color": "#E5ECF6",
              "width": 0.5
             },
             "pattern": {
              "fillmode": "overlay",
              "size": 10,
              "solidity": 0.2
             }
            },
            "type": "bar"
           }
          ],
          "barpolar": [
           {
            "marker": {
             "line": {
              "color": "#E5ECF6",
              "width": 0.5
             },
             "pattern": {
              "fillmode": "overlay",
              "size": 10,
              "solidity": 0.2
             }
            },
            "type": "barpolar"
           }
          ],
          "carpet": [
           {
            "aaxis": {
             "endlinecolor": "#2a3f5f",
             "gridcolor": "white",
             "linecolor": "white",
             "minorgridcolor": "white",
             "startlinecolor": "#2a3f5f"
            },
            "baxis": {
             "endlinecolor": "#2a3f5f",
             "gridcolor": "white",
             "linecolor": "white",
             "minorgridcolor": "white",
             "startlinecolor": "#2a3f5f"
            },
            "type": "carpet"
           }
          ],
          "choropleth": [
           {
            "colorbar": {
             "outlinewidth": 0,
             "ticks": ""
            },
            "type": "choropleth"
           }
          ],
          "contour": [
           {
            "colorbar": {
             "outlinewidth": 0,
             "ticks": ""
            },
            "colorscale": [
             [
              0,
              "#0d0887"
             ],
             [
              0.1111111111111111,
              "#46039f"
             ],
             [
              0.2222222222222222,
              "#7201a8"
             ],
             [
              0.3333333333333333,
              "#9c179e"
             ],
             [
              0.4444444444444444,
              "#bd3786"
             ],
             [
              0.5555555555555556,
              "#d8576b"
             ],
             [
              0.6666666666666666,
              "#ed7953"
             ],
             [
              0.7777777777777778,
              "#fb9f3a"
             ],
             [
              0.8888888888888888,
              "#fdca26"
             ],
             [
              1,
              "#f0f921"
             ]
            ],
            "type": "contour"
           }
          ],
          "contourcarpet": [
           {
            "colorbar": {
             "outlinewidth": 0,
             "ticks": ""
            },
            "type": "contourcarpet"
           }
          ],
          "heatmap": [
           {
            "colorbar": {
             "outlinewidth": 0,
             "ticks": ""
            },
            "colorscale": [
             [
              0,
              "#0d0887"
             ],
             [
              0.1111111111111111,
              "#46039f"
             ],
             [
              0.2222222222222222,
              "#7201a8"
             ],
             [
              0.3333333333333333,
              "#9c179e"
             ],
             [
              0.4444444444444444,
              "#bd3786"
             ],
             [
              0.5555555555555556,
              "#d8576b"
             ],
             [
              0.6666666666666666,
              "#ed7953"
             ],
             [
              0.7777777777777778,
              "#fb9f3a"
             ],
             [
              0.8888888888888888,
              "#fdca26"
             ],
             [
              1,
              "#f0f921"
             ]
            ],
            "type": "heatmap"
           }
          ],
          "heatmapgl": [
           {
            "colorbar": {
             "outlinewidth": 0,
             "ticks": ""
            },
            "colorscale": [
             [
              0,
              "#0d0887"
             ],
             [
              0.1111111111111111,
              "#46039f"
             ],
             [
              0.2222222222222222,
              "#7201a8"
             ],
             [
              0.3333333333333333,
              "#9c179e"
             ],
             [
              0.4444444444444444,
              "#bd3786"
             ],
             [
              0.5555555555555556,
              "#d8576b"
             ],
             [
              0.6666666666666666,
              "#ed7953"
             ],
             [
              0.7777777777777778,
              "#fb9f3a"
             ],
             [
              0.8888888888888888,
              "#fdca26"
             ],
             [
              1,
              "#f0f921"
             ]
            ],
            "type": "heatmapgl"
           }
          ],
          "histogram": [
           {
            "marker": {
             "pattern": {
              "fillmode": "overlay",
              "size": 10,
              "solidity": 0.2
             }
            },
            "type": "histogram"
           }
          ],
          "histogram2d": [
           {
            "colorbar": {
             "outlinewidth": 0,
             "ticks": ""
            },
            "colorscale": [
             [
              0,
              "#0d0887"
             ],
             [
              0.1111111111111111,
              "#46039f"
             ],
             [
              0.2222222222222222,
              "#7201a8"
             ],
             [
              0.3333333333333333,
              "#9c179e"
             ],
             [
              0.4444444444444444,
              "#bd3786"
             ],
             [
              0.5555555555555556,
              "#d8576b"
             ],
             [
              0.6666666666666666,
              "#ed7953"
             ],
             [
              0.7777777777777778,
              "#fb9f3a"
             ],
             [
              0.8888888888888888,
              "#fdca26"
             ],
             [
              1,
              "#f0f921"
             ]
            ],
            "type": "histogram2d"
           }
          ],
          "histogram2dcontour": [
           {
            "colorbar": {
             "outlinewidth": 0,
             "ticks": ""
            },
            "colorscale": [
             [
              0,
              "#0d0887"
             ],
             [
              0.1111111111111111,
              "#46039f"
             ],
             [
              0.2222222222222222,
              "#7201a8"
             ],
             [
              0.3333333333333333,
              "#9c179e"
             ],
             [
              0.4444444444444444,
              "#bd3786"
             ],
             [
              0.5555555555555556,
              "#d8576b"
             ],
             [
              0.6666666666666666,
              "#ed7953"
             ],
             [
              0.7777777777777778,
              "#fb9f3a"
             ],
             [
              0.8888888888888888,
              "#fdca26"
             ],
             [
              1,
              "#f0f921"
             ]
            ],
            "type": "histogram2dcontour"
           }
          ],
          "mesh3d": [
           {
            "colorbar": {
             "outlinewidth": 0,
             "ticks": ""
            },
            "type": "mesh3d"
           }
          ],
          "parcoords": [
           {
            "line": {
             "colorbar": {
              "outlinewidth": 0,
              "ticks": ""
             }
            },
            "type": "parcoords"
           }
          ],
          "pie": [
           {
            "automargin": true,
            "type": "pie"
           }
          ],
          "scatter": [
           {
            "fillpattern": {
             "fillmode": "overlay",
             "size": 10,
             "solidity": 0.2
            },
            "type": "scatter"
           }
          ],
          "scatter3d": [
           {
            "line": {
             "colorbar": {
              "outlinewidth": 0,
              "ticks": ""
             }
            },
            "marker": {
             "colorbar": {
              "outlinewidth": 0,
              "ticks": ""
             }
            },
            "type": "scatter3d"
           }
          ],
          "scattercarpet": [
           {
            "marker": {
             "colorbar": {
              "outlinewidth": 0,
              "ticks": ""
             }
            },
            "type": "scattercarpet"
           }
          ],
          "scattergeo": [
           {
            "marker": {
             "colorbar": {
              "outlinewidth": 0,
              "ticks": ""
             }
            },
            "type": "scattergeo"
           }
          ],
          "scattergl": [
           {
            "marker": {
             "colorbar": {
              "outlinewidth": 0,
              "ticks": ""
             }
            },
            "type": "scattergl"
           }
          ],
          "scattermapbox": [
           {
            "marker": {
             "colorbar": {
              "outlinewidth": 0,
              "ticks": ""
             }
            },
            "type": "scattermapbox"
           }
          ],
          "scatterpolar": [
           {
            "marker": {
             "colorbar": {
              "outlinewidth": 0,
              "ticks": ""
             }
            },
            "type": "scatterpolar"
           }
          ],
          "scatterpolargl": [
           {
            "marker": {
             "colorbar": {
              "outlinewidth": 0,
              "ticks": ""
             }
            },
            "type": "scatterpolargl"
           }
          ],
          "scatterternary": [
           {
            "marker": {
             "colorbar": {
              "outlinewidth": 0,
              "ticks": ""
             }
            },
            "type": "scatterternary"
           }
          ],
          "surface": [
           {
            "colorbar": {
             "outlinewidth": 0,
             "ticks": ""
            },
            "colorscale": [
             [
              0,
              "#0d0887"
             ],
             [
              0.1111111111111111,
              "#46039f"
             ],
             [
              0.2222222222222222,
              "#7201a8"
             ],
             [
              0.3333333333333333,
              "#9c179e"
             ],
             [
              0.4444444444444444,
              "#bd3786"
             ],
             [
              0.5555555555555556,
              "#d8576b"
             ],
             [
              0.6666666666666666,
              "#ed7953"
             ],
             [
              0.7777777777777778,
              "#fb9f3a"
             ],
             [
              0.8888888888888888,
              "#fdca26"
             ],
             [
              1,
              "#f0f921"
             ]
            ],
            "type": "surface"
           }
          ],
          "table": [
           {
            "cells": {
             "fill": {
              "color": "#EBF0F8"
             },
             "line": {
              "color": "white"
             }
            },
            "header": {
             "fill": {
              "color": "#C8D4E3"
             },
             "line": {
              "color": "white"
             }
            },
            "type": "table"
           }
          ]
         },
         "layout": {
          "annotationdefaults": {
           "arrowcolor": "#2a3f5f",
           "arrowhead": 0,
           "arrowwidth": 1
          },
          "autotypenumbers": "strict",
          "coloraxis": {
           "colorbar": {
            "outlinewidth": 0,
            "ticks": ""
           }
          },
          "colorscale": {
           "diverging": [
            [
             0,
             "#8e0152"
            ],
            [
             0.1,
             "#c51b7d"
            ],
            [
             0.2,
             "#de77ae"
            ],
            [
             0.3,
             "#f1b6da"
            ],
            [
             0.4,
             "#fde0ef"
            ],
            [
             0.5,
             "#f7f7f7"
            ],
            [
             0.6,
             "#e6f5d0"
            ],
            [
             0.7,
             "#b8e186"
            ],
            [
             0.8,
             "#7fbc41"
            ],
            [
             0.9,
             "#4d9221"
            ],
            [
             1,
             "#276419"
            ]
           ],
           "sequential": [
            [
             0,
             "#0d0887"
            ],
            [
             0.1111111111111111,
             "#46039f"
            ],
            [
             0.2222222222222222,
             "#7201a8"
            ],
            [
             0.3333333333333333,
             "#9c179e"
            ],
            [
             0.4444444444444444,
             "#bd3786"
            ],
            [
             0.5555555555555556,
             "#d8576b"
            ],
            [
             0.6666666666666666,
             "#ed7953"
            ],
            [
             0.7777777777777778,
             "#fb9f3a"
            ],
            [
             0.8888888888888888,
             "#fdca26"
            ],
            [
             1,
             "#f0f921"
            ]
           ],
           "sequentialminus": [
            [
             0,
             "#0d0887"
            ],
            [
             0.1111111111111111,
             "#46039f"
            ],
            [
             0.2222222222222222,
             "#7201a8"
            ],
            [
             0.3333333333333333,
             "#9c179e"
            ],
            [
             0.4444444444444444,
             "#bd3786"
            ],
            [
             0.5555555555555556,
             "#d8576b"
            ],
            [
             0.6666666666666666,
             "#ed7953"
            ],
            [
             0.7777777777777778,
             "#fb9f3a"
            ],
            [
             0.8888888888888888,
             "#fdca26"
            ],
            [
             1,
             "#f0f921"
            ]
           ]
          },
          "colorway": [
           "#636efa",
           "#EF553B",
           "#00cc96",
           "#ab63fa",
           "#FFA15A",
           "#19d3f3",
           "#FF6692",
           "#B6E880",
           "#FF97FF",
           "#FECB52"
          ],
          "font": {
           "color": "#2a3f5f"
          },
          "geo": {
           "bgcolor": "white",
           "lakecolor": "white",
           "landcolor": "#E5ECF6",
           "showlakes": true,
           "showland": true,
           "subunitcolor": "white"
          },
          "hoverlabel": {
           "align": "left"
          },
          "hovermode": "closest",
          "mapbox": {
           "style": "light"
          },
          "paper_bgcolor": "white",
          "plot_bgcolor": "#E5ECF6",
          "polar": {
           "angularaxis": {
            "gridcolor": "white",
            "linecolor": "white",
            "ticks": ""
           },
           "bgcolor": "#E5ECF6",
           "radialaxis": {
            "gridcolor": "white",
            "linecolor": "white",
            "ticks": ""
           }
          },
          "scene": {
           "xaxis": {
            "backgroundcolor": "#E5ECF6",
            "gridcolor": "white",
            "gridwidth": 2,
            "linecolor": "white",
            "showbackground": true,
            "ticks": "",
            "zerolinecolor": "white"
           },
           "yaxis": {
            "backgroundcolor": "#E5ECF6",
            "gridcolor": "white",
            "gridwidth": 2,
            "linecolor": "white",
            "showbackground": true,
            "ticks": "",
            "zerolinecolor": "white"
           },
           "zaxis": {
            "backgroundcolor": "#E5ECF6",
            "gridcolor": "white",
            "gridwidth": 2,
            "linecolor": "white",
            "showbackground": true,
            "ticks": "",
            "zerolinecolor": "white"
           }
          },
          "shapedefaults": {
           "line": {
            "color": "#2a3f5f"
           }
          },
          "ternary": {
           "aaxis": {
            "gridcolor": "white",
            "linecolor": "white",
            "ticks": ""
           },
           "baxis": {
            "gridcolor": "white",
            "linecolor": "white",
            "ticks": ""
           },
           "bgcolor": "#E5ECF6",
           "caxis": {
            "gridcolor": "white",
            "linecolor": "white",
            "ticks": ""
           }
          },
          "title": {
           "x": 0.05
          },
          "xaxis": {
           "automargin": true,
           "gridcolor": "white",
           "linecolor": "white",
           "ticks": "",
           "title": {
            "standoff": 15
           },
           "zerolinecolor": "white",
           "zerolinewidth": 2
          },
          "yaxis": {
           "automargin": true,
           "gridcolor": "white",
           "linecolor": "white",
           "ticks": "",
           "title": {
            "standoff": 15
           },
           "zerolinecolor": "white",
           "zerolinewidth": 2
          }
         }
        },
        "title": {
         "text": "Optimization History Plot"
        },
        "xaxis": {
         "title": {
          "text": "Iteration"
         }
        },
        "yaxis": {
         "title": {
          "text": "objective_score"
         }
        }
       }
      }
     },
     "metadata": {},
     "output_type": "display_data"
    }
   ],
   "source": [
    "import math\n",
    "from sklearn.metrics import mean_squared_error\n",
    "from zoofs import ParticleSwarmOptimization\n",
    "\n",
    "def objective_function_topass(model, X_train, y_train, X_valid, y_valid):\n",
    "  # Objective function merupakan fungsi yang akan dioptimasi hasilnya\n",
    "  # RMSE merupakan nilai yang akan dioptimasi\n",
    "  preds = []\n",
    "  vals = []\n",
    "  for train_index, test_index in kf.split(X_train):\n",
    "    xtrain, xtest = X_train.iloc[train_index], X_valid.iloc[test_index]\n",
    "    ytrain, ytest = y_train.iloc[train_index], y_valid.iloc[test_index]\n",
    "    model.fit(xtrain, ytrain)\n",
    "    preds.append(model.predict(xtest))\n",
    "    vals.append(ytest)\n",
    "\n",
    "  score = math.sqrt(mean_squared_error(flatten(vals),flatten(preds)))\n",
    "\n",
    "  return score\n",
    "\n",
    "\n",
    "\n",
    "# iteration diganti untuk mempercepat training(visualisasi), gunakan 10,30,100 untuk full range\n",
    "algo_object=ParticleSwarmOptimization(objective_function_topass,n_iteration=10,population_size=2,minimize=True)\n",
    "RF_Model = RandomForestRegressor(n_estimators=100, max_depth=5, random_state=1, n_jobs=-1)\n",
    "\n",
    "algo_object.fit(RF_Model,dfX, y, dfX, y,verbose=True)\n",
    "print(algo_object.best_feature_list)\n",
    "algo_object.plot_history()"
   ]
  },
  {
   "attachments": {},
   "cell_type": "markdown",
   "metadata": {},
   "source": [
    "### Hasil PSO dengan basis Random Forest\n",
    "\n",
    "| Optimization Method | Best Value (RMSE) | Best Feature at iteration | Total Iterations | Population Size | Time (s) | N Features | Feature List                                                                                                                                              |\n",
    "|---------------------|-------------------|---------------------------|------------------|-----------------|----------|------------|-----------------------------------------------------------------------------------------------------------------------------------------------------------|\n",
    "| PSO                 | 0,03722           | 8                         | 10               | 30              | 912,4    | 9          | ['Umur',   'Umur Squared', 'APM SMA', 'SMA', 'Pengeluaran Bulanan', 'Indeks Pembangunan   Manusia', 'DPT', 'Sentiment', 'Weighted Sentiment']             |\n",
    "| PSO                 | 0,03733           | 24                        | 30               | 30              | 2.769,7  | 11         | ['Laki',   'Perempuan', 'Umur', 'APM SMA', 'SMP', 'SMA', 'Pengeluaran Bulanan', 'Indeks   Pembangunan Manusia', 'DPT', 'Sentiment', 'Weighted Sentiment'] |\n",
    "| PSO                 | 0,03714           | 21                        | 100              | 30              | 9.575,5  | 9          | ['Laki',   'Umur Squared', 'APM SMA', 'SMA', 'Pengeluaran Bulanan', 'Indeks Pembangunan   Manusia', 'DPT', 'Sentiment', 'Weighted Sentiment']             |"
   ]
  },
  {
   "attachments": {},
   "cell_type": "markdown",
   "metadata": {},
   "source": [
    "## Dragonfly Algorithm\n",
    "\n",
    "DFA atau Dragonfly Algorithm merupakan teknik optimasi berbasis bio-inspired algorithm. Varian Binary dari DFA sering digunakan dalam seleksi fitur.\n",
    "\n",
    "Dragonfly Algorithm memiliki 4 method yang dapat diubah, yaitu:\n",
    "1. Linear\n",
    "2. Random\n",
    "3. Quadraic \n",
    "4. Sinusoidal\n",
    "\n",
    "[Berdasarkan paper yang dikutip zoofs](https://doi.org/10.1016/j.neucom.2015.06.083), sinusoidal merupakan method yang menghasilkan hasil terbaik. Oleh karena itu, method yang digunakan adalah sinusoidal."
   ]
  },
  {
   "cell_type": "code",
   "execution_count": null,
   "metadata": {},
   "outputs": [],
   "source": [
    "from zoofs import DragonFlyOptimization\n",
    "\n",
    "def objective_function_topass(model, X_train, y_train, X_valid, y_valid):\n",
    "  preds = []\n",
    "  vals = []\n",
    "  for train_index, test_index in kf.split(X_train):\n",
    "    xtrain, xtest = X_train.iloc[train_index], X_valid.iloc[test_index]\n",
    "    ytrain, ytest = y_train.iloc[train_index], y_valid.iloc[test_index]\n",
    "    model.fit(xtrain, ytrain)\n",
    "    preds.append(model.predict(xtest))\n",
    "    vals.append(ytest)\n",
    "\n",
    "  score = math.sqrt(mean_squared_error(flatten(vals),flatten(preds)))\n",
    "\n",
    "  return score\n",
    "\n",
    "\n",
    "\n",
    "algo_object=DragonFlyOptimization(objective_function_topass,n_iteration=10,population_size=30,minimize=True)\n",
    "RF_Model = RandomForestRegressor(n_estimators=100, max_depth=5, random_state=1)    \n",
    "                                \n",
    "algo_object.fit(RF_Model,dfX, y, dfX, y,verbose=True)\n",
    "print(algo_object.best_feature_list)\n",
    "algo_object.plot_history()"
   ]
  },
  {
   "attachments": {},
   "cell_type": "markdown",
   "metadata": {},
   "source": [
    "### Hasil Dragonfly Algorithm dengan basis Random Forest\n",
    "\n",
    "| Optimization Method | Best Value (RMSE) | Best Feature at iteration | Total Iterations | Population Size | Time (s) | N Features | Feature List                                                                                                                                                                                                        |\n",
    "|---------------------|-------------------|---------------------------|------------------|-----------------|----------|------------|---------------------------------------------------------------------------------------------------------------------------------------------------------------------------------------------------------------------|\n",
    "| DFA                 | 0,03806           | 13                        | 10               | 30              | 1.074,4  | 13         | ['Laju   Pertumbuhan', 'Perempuan', 'Umur', 'Umur Squared', 'APM SMP',   'pendidikan_SD', 'pendidikan_SMP', 'SMA', 'Pengeluaran Bulanan', 'Indeks   Pembangunan Manusia', 'DPT', 'Sentiment', 'Weighted Sentiment'] |\n",
    "| DFA                 | 0,03804           | 25                        | 30               | 30              | 3.447,8  | 11         | ['Perempuan',   'Umur', 'Umur Squared', 'pendidikan_SMP', 'SMP', 'SMA', 'Pengeluaran   Bulanan', 'Persentase Kemiskinan', 'Indeks Pembangunan Manusia', 'DPT',   'Weighted Sentiment']                              |\n",
    "| DFA                 | 0,03769           | 59                        | 100              | 30              | 11.621,0 | 11         | ['Laki',   'Perempuan', 'Umur', 'APM SMP', 'pendidikan_SMP', 'SMP', 'Pengeluaran   Bulanan', 'Indeks Pembangunan Manusia', 'DPT', 'Sentiment', 'Weighted   Sentiment']                                              |"
   ]
  },
  {
   "attachments": {},
   "cell_type": "markdown",
   "metadata": {},
   "source": [
    "### Grey Wolf Optimizer\n",
    "\n",
    "Grey Wolf Optimizer atau GWO merupakan teknik optimasi berbasis bio-inspired algorithm. Varian Binary dari GWO sering digunakan dalam seleksi fitur.  \n",
    "GWO terinspirasi dari perilaku serigala dalam mencari mangsa. Serigala akan berburu dengan cara berkelompok dan berkoordinasi untuk mengejar mangsa. Serigala yang paling dominan akan menjadi alpha, yang kedua akan menjadi beta, dan yang ketiga akan menjadi delta. Serigala yang lain akan menjadi omega. Posisi alpha, beta, dan delta akan diupdate setiap iterasi.  \n",
    "\n",
    "GWO memiliki parameter method, method merupakan parameter yang digunakan untuk mengupdate posisi alpha, beta, dan delta. Terdapat 2 method yang dapat digunakan.  \n",
    "[Pada paper yang dikutip oleh Zoofs]((https://doi.org/10.1016/j.neucom.2015.06.083)), Metode kedua menghasilkan hasil yang lebih baik dibandingkan metode pertama. Oleh karena itu, metode 2 yang digunakan dalam eksperimen ini. "
   ]
  },
  {
   "cell_type": "code",
   "execution_count": null,
   "metadata": {},
   "outputs": [],
   "source": [
    "from zoofs import GreyWolfOptimization\n",
    "\n",
    "def objective_function_topass(model, X_train, y_train, X_valid, y_valid):\n",
    "  preds = []\n",
    "  vals = []\n",
    "  for train_index, test_index in kf.split(X_train):\n",
    "    xtrain, xtest = X_train.iloc[train_index], X_valid.iloc[test_index]\n",
    "    ytrain, ytest = y_train.iloc[train_index], y_valid.iloc[test_index]\n",
    "    model.fit(xtrain, ytrain)\n",
    "    preds.append(model.predict(xtest))\n",
    "    vals.append(ytest)\n",
    "\n",
    "  score = math.sqrt(mean_squared_error(flatten(vals),flatten(preds)))\n",
    "\n",
    "  return score\n",
    "\n",
    "\n",
    "\n",
    "algo_object=GreyWolfOptimization(objective_function_topass,n_iteration=10,population_size=30,minimize=True, method=2)\n",
    "RF_Model = RandomForestRegressor(n_estimators=100, max_depth=5, random_state=1)                                    \n",
    "algo_object.fit(RF_Model,dfX, y, dfX, y,verbose=True)\n",
    "print(algo_object.best_feature_list)\n",
    "algo_object.plot_history()"
   ]
  },
  {
   "attachments": {},
   "cell_type": "markdown",
   "metadata": {},
   "source": [
    "### Hasil Grey Wolf Optimizer dengan basis Random Forest\n",
    "\n",
    "| Optimization Method | Best Value (RMSE) | Best Feature at iteration | Total Iterations | Population Size | Time (s) | N Features | Feature List                                                                                                                                                                                                        |\n",
    "|---------------------|-------------------|---------------------------|------------------|-----------------|----------|------------|---------------------------------------------------------------------------------------------------------------------------------------------------------------------------------------------------------------------|\n",
    "| DFA                 | 0,03806           | 13                        | 10               | 30              | 1.074,4  | 13         | ['Laju   Pertumbuhan', 'Perempuan', 'Umur', 'Umur Squared', 'APM SMP',   'pendidikan_SD', 'pendidikan_SMP', 'SMA', 'Pengeluaran Bulanan', 'Indeks   Pembangunan Manusia', 'DPT', 'Sentiment', 'Weighted Sentiment'] |\n",
    "| DFA                 | 0,03804           | 25                        | 30               | 30              | 3.447,8  | 11         | ['Perempuan',   'Umur', 'Umur Squared', 'pendidikan_SMP', 'SMP', 'SMA', 'Pengeluaran   Bulanan', 'Persentase Kemiskinan', 'Indeks Pembangunan Manusia', 'DPT',   'Weighted Sentiment']                              |\n",
    "| DFA                 | 0,03769           | 59                        | 100              | 30              | 11.621,0 | 11         | ['Laki',   'Perempuan', 'Umur', 'APM SMP', 'pendidikan_SMP', 'SMP', 'Pengeluaran   Bulanan', 'Indeks Pembangunan Manusia', 'DPT', 'Sentiment', 'Weighted   Sentiment']                                              |"
   ]
  },
  {
   "attachments": {},
   "cell_type": "markdown",
   "metadata": {},
   "source": [
    "### Harris Hawks Optimization\n",
    "\n",
    "Harris Hawks Optimization atau HHO merupakan teknik optimasi berbasis bio-inspired algorithm. Varian Binary dari HHO sering digunakan dalam seleksi fitur. HHO terinspirasi dari cara elang berburu, HHO membedakan dirinya dengan teknik seleksi fitur metaheuristic lainya dengan menggunakan dua fase eksplorasai dan empat fase eksploitasi. "
   ]
  },
  {
   "cell_type": "code",
   "execution_count": null,
   "metadata": {},
   "outputs": [],
   "source": [
    "from zoofs import HarrisHawkOptimization\n",
    "\n",
    "def objective_function_topass(model, X_train, y_train, X_valid, y_valid):\n",
    "  preds = []\n",
    "  vals = []\n",
    "  for train_index, test_index in kf.split(X_train):\n",
    "    xtrain, xtest = X_train.iloc[train_index], X_valid.iloc[test_index]\n",
    "    ytrain, ytest = y_train.iloc[train_index], y_valid.iloc[test_index]\n",
    "    model.fit(xtrain, ytrain)\n",
    "    preds.append(model.predict(xtest))\n",
    "    vals.append(ytest)\n",
    "\n",
    "  score = math.sqrt(mean_squared_error(flatten(vals),flatten(preds)))\n",
    "\n",
    "  return score\n",
    "\n",
    "\n",
    "algo_object=HarrisHawkOptimization(objective_function_topass,n_iteration=10,population_size=30,minimize=True)\n",
    "\n",
    "RF_Model = RandomForestRegressor(n_estimators=100, max_depth=5, random_state=1, n_jobs=-1)                                      \n",
    "algo_object.fit(RF_Model,dfX, y, dfX, y,verbose=True)\n",
    "print(algo_object.best_feature_list)\n",
    "algo_object.plot_history()"
   ]
  },
  {
   "attachments": {},
   "cell_type": "markdown",
   "metadata": {},
   "source": [
    "### Hasil Harris Hawk Optimization dengan basis Random Forest\n",
    "\n",
    "| Optimization Method | Best Value (RMSE) | Best Feature at iteration | Total Iterations | Population Size | Time (s) | N Features | Feature List                                                                                                                                                                                                                                                                                                           |\n",
    "|---------------------|-------------------|---------------------------|------------------|-----------------|----------|------------|------------------------------------------------------------------------------------------------------------------------------------------------------------------------------------------------------------------------------------------------------------------------------------------------------------------------|\n",
    "| HHO                 | 0,03802           | 0                         | 10               | 30              | 1.665,0  | 21         | ['Laju   Pertumbuhan', 'Perempuan', 'Umur', 'Umur Squared', 'APM SD', 'APM SMP', 'APM   SMA', 'Literate', 'pendidikan_SD', 'pendidikan_SMA',   'pendidikan_Universitas', 'TK', 'SD', 'SMP', 'SMK', 'Universitas',   'Persentase Kemiskinan', 'Indeks Pembangunan Manusia', 'DPT', 'Sentiment',   'Weighted Sentiment'] |\n",
    "| HHO                 | 0,03814           | 28                        | 30               | 30              | 6.223,7  | 17         | ['Laju   Pertumbuhan', 'Laki', 'Perempuan', 'Umur', 'APM SMP', 'APM SMA',   'pendidikan_SD', 'pendidikan_SMP', 'TK', 'SD', 'SMA', 'SMK', 'Pengeluaran   Bulanan', 'Indeks Pembangunan Manusia', 'DPT', 'Sentiment', 'Weighted   Sentiment']                                                                            |\n",
    "| HHO                 | 0,03823           | 10                        | 100              | 30              | 19.950,2 | 18         | ['Perempuan',   'Umur', 'APM SD', 'APM SMA', 'TPAK', 'pendidikan_SD', 'pendidikan_SMA',   'pendidikan_Universitas', 'SD', 'SMP', 'SMA', 'SMK', 'Universitas',   'Pengeluaran Bulanan', 'Persentase Kemiskinan', 'Indeks Pembangunan Manusia',   'DPT', 'Weighted Sentiment']                                           |"
   ]
  },
  {
   "attachments": {},
   "cell_type": "markdown",
   "metadata": {},
   "source": [
    "### Genetic Algorithm ZooFS \n",
    "\n",
    "ZooFS juga memiliki varian GA. Karena GA sudah diimplementasi dengan package lain, GA ZooFS akan dibandingkan dengan GA diatas.\n"
   ]
  },
  {
   "cell_type": "code",
   "execution_count": null,
   "metadata": {},
   "outputs": [],
   "source": [
    "def objective_function_topass(model, X_train, y_train, X_valid, y_valid):\n",
    "  preds = []\n",
    "  vals = []\n",
    "  for train_index, test_index in kf.split(X_train):\n",
    "    xtrain, xtest = X_train.iloc[train_index], X_valid.iloc[test_index]\n",
    "    ytrain, ytest = y_train.iloc[train_index], y_valid.iloc[test_index]\n",
    "    model.fit(xtrain, ytrain)\n",
    "    preds.append(model.predict(xtest))\n",
    "    vals.append(ytest)\n",
    "\n",
    "  score = math.sqrt(mean_squared_error(flatten(vals),flatten(preds)))\n",
    "\n",
    "  return score\n",
    "\n",
    "from zoofs import GeneticOptimization\n",
    "algo_object=GeneticOptimization(objective_function_topass,n_iteration=10,population_size=30,minimize=True)\n",
    "\n",
    "RF_Model = RandomForestRegressor(n_estimators=100, max_depth=5, random_state=1, n_jobs=-1)                                      \n",
    "algo_object.fit(RF_Model,dfX, y, dfX, y,verbose=True)\n",
    "print(algo_object.best_feature_list)\n",
    "algo_object.plot_history()"
   ]
  },
  {
   "attachments": {},
   "cell_type": "markdown",
   "metadata": {},
   "source": [
    "### Hasil Genetic Algorithm Zoofs dengan basis Random Forest\n",
    "\n",
    "| Optimization Method | Best Value (RMSE) | Best Feature at iteration | Total Iterations | Population Size | Time (s) | N Features | Feature List                                                                                                                                                                                                              |\n",
    "|---------------------|-------------------|---------------------------|------------------|-----------------|----------|------------|---------------------------------------------------------------------------------------------------------------------------------------------------------------------------------------------------------------------------|\n",
    "| GA                  | 0,03888           | 8                         | 10               | 30              | 666,7    | 12         | ['Laki',   'Perempuan', 'Umur', 'Umur Squared', 'pendidikan_SMA',   'pendidikan_Universitas', 'TK', 'SD', 'Pengeluaran Bulanan', 'Indeks   Pembangunan Manusia', 'DPT', 'Weighted Sentiment']                             |\n",
    "| GA                  | 0,03830           | 9                         | 30               | 30              | 345,4    | 9          | ['Laki',   'Umur Squared', 'APM SMP', 'pendidikan_SD', 'TK', 'SD', 'SMP', 'Pengeluaran   Bulanan', 'Weighted Sentiment']                                                                                                  |\n",
    "| GA                  | 0,03794           | 10                        | 100              | 30              | 529,3    | 13         | ['Laju   Pertumbuhan', 'Perempuan', 'Umur Squared', 'APM SMA', 'pendidikan_SD',   'pendidikan_SMP', 'SD', 'Universitas', 'Pengeluaran Bulanan', 'Indeks   Pembangunan Manusia', 'DPT', 'Sentiment', 'Weighted Sentiment'] |"
   ]
  },
  {
   "attachments": {},
   "cell_type": "markdown",
   "metadata": {},
   "source": [
    "## Rekap Hasil Seleksi Fitur Per Skenario\n",
    "\n",
    "### 10 Iterasi\n",
    "\n",
    "| Optimization Method | Best Value (RMSE) | Best Feature at iteration | Total Iterations | Population Size | Time (s) | N Features | Feature List                                                                                                                                                                                                                                                                                                           |\n",
    "|---------------------|-------------------|---------------------------|------------------|-----------------|----------|------------|------------------------------------------------------------------------------------------------------------------------------------------------------------------------------------------------------------------------------------------------------------------------------------------------------------------------|\n",
    "| GA                  | 0,03888           | 8                         | 10               | 30              | 666,7    | 12         | ['Laki',   'Perempuan', 'Umur', 'Umur Squared', 'pendidikan_SMA',   'pendidikan_Universitas', 'TK', 'SD', 'Pengeluaran Bulanan', 'Indeks   Pembangunan Manusia', 'DPT', 'Weighted Sentiment']                                                                                                                          |\n",
    "| GWO                 | 0,03866           | 0                         | 10               | 30              | 867,3    | 10         | ['Umur',   'Umur Squared', 'APM SMP', 'pendidikan_SD', 'SD', 'SMP', 'SMA', 'Indeks   Pembangunan Manusia', 'DPT', 'Weighted Sentiment']                                                                                                                                                                                |\n",
    "| PSO                 | 0,03722           | 8                         | 10               | 30              | 912,4    | 9          | ['Umur',   'Umur Squared', 'APM SMA', 'SMA', 'Pengeluaran Bulanan', 'Indeks Pembangunan   Manusia', 'DPT', 'Sentiment', 'Weighted Sentiment']                                                                                                                                                                          |\n",
    "| DFA                 | 0,03806           | 13                        | 10               | 30              | 1.074,4  | 13         | ['Laju   Pertumbuhan', 'Perempuan', 'Umur', 'Umur Squared', 'APM SMP',   'pendidikan_SD', 'pendidikan_SMP', 'SMA', 'Pengeluaran Bulanan', 'Indeks   Pembangunan Manusia', 'DPT', 'Sentiment', 'Weighted Sentiment']                                                                                                    |\n",
    "| HHO                 | 0,03802           | 0                         | 10               | 30              | 1.665,0  | 21         | ['Laju   Pertumbuhan', 'Perempuan', 'Umur', 'Umur Squared', 'APM SD', 'APM SMP', 'APM   SMA', 'Literate', 'pendidikan_SD', 'pendidikan_SMA',   'pendidikan_Universitas', 'TK', 'SD', 'SMP', 'SMK', 'Universitas',   'Persentase Kemiskinan', 'Indeks Pembangunan Manusia', 'DPT', 'Sentiment',   'Weighted Sentiment'] |\n",
    "\n",
    "### 30 Iterasi\n",
    "| Optimization Method | Best Value (RMSE) | Best Feature at iteration | Total Iterations | Population Size | Time (s) | N Features | Feature List                                                                                                                                                                                                                                |\n",
    "|---------------------|-------------------|---------------------------|------------------|-----------------|----------|------------|---------------------------------------------------------------------------------------------------------------------------------------------------------------------------------------------------------------------------------------------|\n",
    "| GA                  | 0,03830           | 9                         | 30               | 30              | 345,4    | 9          | ['Laki',   'Umur Squared', 'APM SMP', 'pendidikan_SD', 'TK', 'SD', 'SMP', 'Pengeluaran   Bulanan', 'Weighted Sentiment']                                                                                                                    |\n",
    "| PSO                 | 0,03733           | 24                        | 30               | 30              | 2.769,7  | 11         | ['Laki',   'Perempuan', 'Umur', 'APM SMA', 'SMP', 'SMA', 'Pengeluaran Bulanan', 'Indeks   Pembangunan Manusia', 'DPT', 'Sentiment', 'Weighted Sentiment']                                                                                   |\n",
    "| DFA                 | 0,03804           | 25                        | 30               | 30              | 3.447,8  | 11         | ['Perempuan',   'Umur', 'Umur Squared', 'pendidikan_SMP', 'SMP', 'SMA', 'Pengeluaran   Bulanan', 'Persentase Kemiskinan', 'Indeks Pembangunan Manusia', 'DPT',   'Weighted Sentiment']                                                      |\n",
    "| GWO                 | 0,03835           | 13                        | 30               | 30              | 4.046,6  | 11         | ['Laju   Pertumbuhan', 'Laki', 'Umur', 'Umur Squared', 'SMA', 'Universitas',   'Pengeluaran Bulanan', 'Indeks Pembangunan Manusia', 'DPT', 'Sentiment',   'Weighted Sentiment']                                                             |\n",
    "| HHO                 | 0,03814           | 28                        | 30               | 30              | 6.223,7  | 17         | ['Laju   Pertumbuhan', 'Laki', 'Perempuan', 'Umur', 'APM SMP', 'APM SMA',   'pendidikan_SD', 'pendidikan_SMP', 'TK', 'SD', 'SMA', 'SMK', 'Pengeluaran   Bulanan', 'Indeks Pembangunan Manusia', 'DPT', 'Sentiment', 'Weighted   Sentiment'] |\n",
    "\n",
    "### 100 Iterasi\n",
    "| Optimization Method | Best Value (RMSE) | Best Feature at iteration | Total Iterations | Population Size | Time (s) | N Features | Feature List                                                                                                                                                                                                                                |\n",
    "|---------------------|-------------------|---------------------------|------------------|-----------------|----------|------------|---------------------------------------------------------------------------------------------------------------------------------------------------------------------------------------------------------------------------------------------|\n",
    "| GA                  | 0,03830           | 9                         | 30               | 30              | 345,4    | 9          | ['Laki',   'Umur Squared', 'APM SMP', 'pendidikan_SD', 'TK', 'SD', 'SMP', 'Pengeluaran   Bulanan', 'Weighted Sentiment']                                                                                                                    |\n",
    "| PSO                 | 0,03733           | 24                        | 30               | 30              | 2.769,7  | 11         | ['Laki',   'Perempuan', 'Umur', 'APM SMA', 'SMP', 'SMA', 'Pengeluaran Bulanan', 'Indeks   Pembangunan Manusia', 'DPT', 'Sentiment', 'Weighted Sentiment']                                                                                   |\n",
    "| DFA                 | 0,03804           | 25                        | 30               | 30              | 3.447,8  | 11         | ['Perempuan',   'Umur', 'Umur Squared', 'pendidikan_SMP', 'SMP', 'SMA', 'Pengeluaran   Bulanan', 'Persentase Kemiskinan', 'Indeks Pembangunan Manusia', 'DPT',   'Weighted Sentiment']                                                      |\n",
    "| GWO                 | 0,03835           | 13                        | 30               | 30              | 4.046,6  | 11         | ['Laju   Pertumbuhan', 'Laki', 'Umur', 'Umur Squared', 'SMA', 'Universitas',   'Pengeluaran Bulanan', 'Indeks Pembangunan Manusia', 'DPT', 'Sentiment',   'Weighted Sentiment']                                                             |\n",
    "| HHO                 | 0,03814           | 28                        | 30               | 30              | 6.223,7  | 17         | ['Laju   Pertumbuhan', 'Laki', 'Perempuan', 'Umur', 'APM SMP', 'APM SMA',   'pendidikan_SD', 'pendidikan_SMP', 'TK', 'SD', 'SMA', 'SMK', 'Pengeluaran   Bulanan', 'Indeks Pembangunan Manusia', 'DPT', 'Sentiment', 'Weighted   Sentiment'] |\n"
   ]
  },
  {
   "attachments": {},
   "cell_type": "markdown",
   "metadata": {},
   "source": [
    "## Rekap Hasil Secara Keseluruhan\n",
    "\n",
    "| Optimization Method | Best Value (RMSE) | Best Feature at iteration | Total Iterations | Population Size | Time (s) | N Features | Feature List                                                                                                                                                                                                                                                                                                           |\n",
    "|---------------------|-------------------|---------------------------|------------------|-----------------|----------|------------|------------------------------------------------------------------------------------------------------------------------------------------------------------------------------------------------------------------------------------------------------------------------------------------------------------------------|\n",
    "| PSO                 | 0,03714           | 21                        | 100              | 30              | 9.575,5  | 9          | ['Laki',   'Umur Squared', 'APM SMA', 'SMA', 'Pengeluaran Bulanan', 'Indeks Pembangunan   Manusia', 'DPT', 'Sentiment', 'Weighted Sentiment']                                                                                                                                                                          |\n",
    "| PSO                 | 0,03722           | 8                         | 10               | 30              | 912,4    | 9          | ['Umur',   'Umur Squared', 'APM SMA', 'SMA', 'Pengeluaran Bulanan', 'Indeks Pembangunan   Manusia', 'DPT', 'Sentiment', 'Weighted Sentiment']                                                                                                                                                                          |\n",
    "| PSO                 | 0,03733           | 24                        | 30               | 30              | 2.769,7  | 11         | ['Laki',   'Perempuan', 'Umur', 'APM SMA', 'SMP', 'SMA', 'Pengeluaran Bulanan', 'Indeks   Pembangunan Manusia', 'DPT', 'Sentiment', 'Weighted Sentiment']                                                                                                                                                              |\n",
    "| DFA                 | 0,03769           | 59                        | 100              | 30              | 11.621,0 | 11         | ['Laki',   'Perempuan', 'Umur', 'APM SMP', 'pendidikan_SMP', 'SMP', 'Pengeluaran   Bulanan', 'Indeks Pembangunan Manusia', 'DPT', 'Sentiment', 'Weighted   Sentiment']                                                                                                                                                 |\n",
    "| GA                  | 0,03794           | 10                        | 100              | 30              | 529,3    | 13         | ['Laju   Pertumbuhan', 'Perempuan', 'Umur Squared', 'APM SMA', 'pendidikan_SD',   'pendidikan_SMP', 'SD', 'Universitas', 'Pengeluaran Bulanan', 'Indeks   Pembangunan Manusia', 'DPT', 'Sentiment', 'Weighted Sentiment']                                                                                              |\n",
    "| HHO                 | 0,03802           | 0                         | 10               | 30              | 1.665,0  | 21         | ['Laju   Pertumbuhan', 'Perempuan', 'Umur', 'Umur Squared', 'APM SD', 'APM SMP', 'APM   SMA', 'Literate', 'pendidikan_SD', 'pendidikan_SMA',   'pendidikan_Universitas', 'TK', 'SD', 'SMP', 'SMK', 'Universitas',   'Persentase Kemiskinan', 'Indeks Pembangunan Manusia', 'DPT', 'Sentiment',   'Weighted Sentiment'] |\n",
    "| DFA                 | 0,03804           | 25                        | 30               | 30              | 3.447,8  | 11         | ['Perempuan',   'Umur', 'Umur Squared', 'pendidikan_SMP', 'SMP', 'SMA', 'Pengeluaran   Bulanan', 'Persentase Kemiskinan', 'Indeks Pembangunan Manusia', 'DPT',   'Weighted Sentiment']                                                                                                                                 |\n",
    "| DFA                 | 0,03806           | 13                        | 10               | 30              | 1.074,4  | 13         | ['Laju   Pertumbuhan', 'Perempuan', 'Umur', 'Umur Squared', 'APM SMP',   'pendidikan_SD', 'pendidikan_SMP', 'SMA', 'Pengeluaran Bulanan', 'Indeks   Pembangunan Manusia', 'DPT', 'Sentiment', 'Weighted Sentiment']                                                                                                    |\n",
    "| GWO                 | 0,03812           | 76                        | 100              | 30              | 13.173,6 | 14         | ['Laju   Pertumbuhan', 'Laki', 'Perempuan', 'Umur', 'Umur Squared', 'APM SMP', 'APM   SMA', 'pendidikan_SD', 'pendidikan_SMP', 'Universitas', 'Pengeluaran   Bulanan', 'Indeks Pembangunan Manusia', 'DPT', 'Weighted Sentiment']                                                                                      |\n",
    "| HHO                 | 0,03814           | 28                        | 30               | 30              | 6.223,7  | 17         | ['Laju   Pertumbuhan', 'Laki', 'Perempuan', 'Umur', 'APM SMP', 'APM SMA',   'pendidikan_SD', 'pendidikan_SMP', 'TK', 'SD', 'SMA', 'SMK', 'Pengeluaran   Bulanan', 'Indeks Pembangunan Manusia', 'DPT', 'Sentiment', 'Weighted   Sentiment']                                                                            |\n",
    "| HHO                 | 0,03823           | 10                        | 100              | 30              | 19.950,2 | 18         | ['Perempuan',   'Umur', 'APM SD', 'APM SMA', 'TPAK', 'pendidikan_SD', 'pendidikan_SMA',   'pendidikan_Universitas', 'SD', 'SMP', 'SMA', 'SMK', 'Universitas',   'Pengeluaran Bulanan', 'Persentase Kemiskinan', 'Indeks Pembangunan Manusia',   'DPT', 'Weighted Sentiment']                                           |\n",
    "| GA                  | 0,03830           | 9                         | 30               | 30              | 345,4    | 9          | ['Laki',   'Umur Squared', 'APM SMP', 'pendidikan_SD', 'TK', 'SD', 'SMP', 'Pengeluaran   Bulanan', 'Weighted Sentiment']                                                                                                                                                                                               |\n",
    "| GWO                 | 0,03835           | 13                        | 30               | 30              | 4.046,6  | 11         | ['Laju   Pertumbuhan', 'Laki', 'Umur', 'Umur Squared', 'SMA', 'Universitas',   'Pengeluaran Bulanan', 'Indeks Pembangunan Manusia', 'DPT', 'Sentiment',   'Weighted Sentiment']                                                                                                                                        |\n",
    "| GWO                 | 0,03866           | 0                         | 10               | 30              | 867,3    | 10         | ['Umur',   'Umur Squared', 'APM SMP', 'pendidikan_SD', 'SD', 'SMP', 'SMA', 'Indeks   Pembangunan Manusia', 'DPT', 'Weighted Sentiment']                                                                                                                                                                                |\n",
    "| GA                  | 0,03888           | 8                         | 10               | 30              | 666,7    | 12         | ['Laki',   'Perempuan', 'Umur', 'Umur Squared', 'pendidikan_SMA',   'pendidikan_Universitas', 'TK', 'SD', 'Pengeluaran Bulanan', 'Indeks   Pembangunan Manusia', 'DPT', 'Weighted Sentiment']                                                                                                                          |"
   ]
  },
  {
   "attachments": {},
   "cell_type": "markdown",
   "metadata": {},
   "source": [
    "## Embedded Feature Selection\n",
    "\n",
    "Embedded feature selection merupakan teknik seleksi fitur yang menggabungkan proses pelatihan model dan seleksi fitur. Teknik ini memanfaatkan algoritma pembelajaran mesin untuk mengekstraksi fitur yang paling penting.  "
   ]
  },
  {
   "attachments": {},
   "cell_type": "markdown",
   "metadata": {},
   "source": [
    "## CatBoost Recursive Feature Elimination\n",
    "\n",
    "CatBoost memiliki algoritma feature selection yang disebut Recursive Feature Elimination (RFE). Algoritma ini menghilangkan fitur yang memiliki pengaruh paling kecil terhadap performa model. Algoritma ini menghilangkan fitur satu per satu hingga performa model menurun. RFE pada CatBoost merupakan algoritma feature selection embedded karena proses pelatihan model dan seleksi fitur dilakukan secara bersamaan.  \n"
   ]
  },
  {
   "cell_type": "code",
   "execution_count": 2,
   "metadata": {},
   "outputs": [
    {
     "data": {
      "application/vnd.jupyter.widget-view+json": {
       "model_id": "85a71243d4774a9b9b10fe490d93d333",
       "version_major": 2,
       "version_minor": 0
      },
      "text/plain": [
       "MetricVisualizer(layout=Layout(align_self='stretch', height='500px'))"
      ]
     },
     "metadata": {},
     "output_type": "display_data"
    },
    {
     "name": "stdout",
     "output_type": "stream",
     "text": [
      "Learning rate set to 0.134398\n",
      "Step #1 out of 5\n",
      "\n",
      "bestTest = 0.0453662099\n",
      "bestIteration = 64\n",
      "\n",
      "Shrink model to first 65 iterations.\n",
      "Feature #12 eliminated\n",
      "Feature #0 eliminated\n",
      "Feature #14 eliminated\n",
      "Feature #8 eliminated\n",
      "Feature #21 eliminated\n",
      "Step #2 out of 5\n",
      "\n",
      "bestTest = 0.04307168082\n",
      "bestIteration = 71\n",
      "\n",
      "Shrink model to first 72 iterations.\n",
      "Feature #10 eliminated\n",
      "Feature #17 eliminated\n",
      "Feature #19 eliminated\n",
      "Step #3 out of 5\n",
      "\n",
      "bestTest = 0.04309668493\n",
      "bestIteration = 37\n",
      "\n",
      "Shrink model to first 38 iterations.\n",
      "Feature #9 eliminated\n",
      "Feature #13 eliminated\n",
      "Feature #16 eliminated\n",
      "Step #4 out of 5\n",
      "\n",
      "bestTest = 0.0398663503\n",
      "bestIteration = 51\n",
      "\n",
      "Shrink model to first 52 iterations.\n",
      "Feature #18 eliminated\n",
      "Feature #24 eliminated\n",
      "Feature #22 eliminated\n",
      "Step #5 out of 5\n",
      "\n",
      "bestTest = 0.03897128664\n",
      "bestIteration = 82\n",
      "\n",
      "Shrink model to first 83 iterations.\n",
      "Feature #6 eliminated\n",
      "Feature #2 eliminated\n"
     ]
    },
    {
     "data": {
      "application/vnd.plotly.v1+json": {
       "config": {
        "plotlyServerURL": "https://plot.ly"
       },
       "data": [
        {
         "line": {
          "color": "rgb(51,160,44)"
         },
         "mode": "lines+markers",
         "name": "",
         "text": [
          "",
          "pendidikan_SMA",
          "Laju Pertumbuhan",
          "TK",
          "Literate",
          "Persentase Kemiskinan",
          "pendidikan_SD",
          "SMA",
          "Universitas",
          "TPAK",
          "pendidikan_Universitas",
          "SMP",
          "SMK",
          "Sentiment",
          "Indeks Pembangunan Manusia",
          "APM SMP",
          "Perempuan"
         ],
         "type": "scatter",
         "x": [
          0,
          1,
          2,
          3,
          4,
          5,
          6,
          7,
          8,
          9,
          10,
          11,
          12,
          13,
          14,
          15,
          16
         ],
         "y": [
          0.0453662099024885,
          0.04392904124103499,
          0.043556646972716495,
          0.04330827687850317,
          0.043158465903938466,
          0.04307168081771862,
          0.043083495732810576,
          0.04309065724771348,
          0.04309668493421189,
          0.040856126254067086,
          0.040154031428797504,
          0.039866350299369774,
          0.03927216731224115,
          0.03888626953506212,
          0.038971286636678835,
          0.03884177276047014,
          0.03890324459319157
         ]
        },
        {
         "marker": {
          "size": 10,
          "symbol": "square"
         },
         "mode": "markers",
         "name": "",
         "text": [
          "",
          "Persentase Kemiskinan",
          "Universitas",
          "SMP",
          "Indeks Pembangunan Manusia"
         ],
         "type": "scatter",
         "x": [
          0,
          5,
          8,
          11,
          14
         ],
         "y": [
          0.0453662099024885,
          0.04307168081771862,
          0.04309668493421189,
          0.039866350299369774,
          0.038971286636678835
         ]
        },
        {
         "mode": "text",
         "name": "",
         "text": [
          "",
          "12",
          "0",
          "14",
          "8",
          "21",
          "10",
          "17",
          "19",
          "9",
          "13",
          "16",
          "18",
          "24",
          "22",
          "6",
          "2"
         ],
         "textfont": {
          "color": "rgb(51,160,44)",
          "family": "sans serif",
          "size": 18
         },
         "textposition": "bottom center",
         "type": "scatter",
         "visible": false,
         "x": [
          0,
          1,
          2,
          3,
          4,
          5,
          6,
          7,
          8,
          9,
          10,
          11,
          12,
          13,
          14,
          15,
          16
         ],
         "y": [
          0.0453662099024885,
          0.04392904124103499,
          0.043556646972716495,
          0.04330827687850317,
          0.043158465903938466,
          0.04307168081771862,
          0.043083495732810576,
          0.04309065724771348,
          0.04309668493421189,
          0.040856126254067086,
          0.040154031428797504,
          0.039866350299369774,
          0.03927216731224115,
          0.03888626953506212,
          0.038971286636678835,
          0.03884177276047014,
          0.03890324459319157
         ]
        },
        {
         "mode": "text",
         "name": "",
         "text": [
          "",
          "pendidikan_SMA",
          "Laju Pertumbuhan",
          "TK",
          "Literate",
          "Persentase Kemiskinan",
          "pendidikan_SD",
          "SMA",
          "Universitas",
          "TPAK",
          "pendidikan_Universitas",
          "SMP",
          "SMK",
          "Sentiment",
          "Indeks Pembangunan Manusia",
          "APM SMP",
          "Perempuan"
         ],
         "textfont": {
          "color": "rgb(51,160,44)",
          "family": "sans serif",
          "size": 18
         },
         "textposition": "bottom center",
         "type": "scatter",
         "visible": false,
         "x": [
          0,
          1,
          2,
          3,
          4,
          5,
          6,
          7,
          8,
          9,
          10,
          11,
          12,
          13,
          14,
          15,
          16
         ],
         "y": [
          0.0453662099024885,
          0.04392904124103499,
          0.043556646972716495,
          0.04330827687850317,
          0.043158465903938466,
          0.04307168081771862,
          0.043083495732810576,
          0.04309065724771348,
          0.04309668493421189,
          0.040856126254067086,
          0.040154031428797504,
          0.039866350299369774,
          0.03927216731224115,
          0.03888626953506212,
          0.038971286636678835,
          0.03884177276047014,
          0.03890324459319157
         ]
        }
       ],
       "layout": {
        "showlegend": false,
        "template": {
         "data": {
          "bar": [
           {
            "error_x": {
             "color": "#2a3f5f"
            },
            "error_y": {
             "color": "#2a3f5f"
            },
            "marker": {
             "line": {
              "color": "#E5ECF6",
              "width": 0.5
             },
             "pattern": {
              "fillmode": "overlay",
              "size": 10,
              "solidity": 0.2
             }
            },
            "type": "bar"
           }
          ],
          "barpolar": [
           {
            "marker": {
             "line": {
              "color": "#E5ECF6",
              "width": 0.5
             },
             "pattern": {
              "fillmode": "overlay",
              "size": 10,
              "solidity": 0.2
             }
            },
            "type": "barpolar"
           }
          ],
          "carpet": [
           {
            "aaxis": {
             "endlinecolor": "#2a3f5f",
             "gridcolor": "white",
             "linecolor": "white",
             "minorgridcolor": "white",
             "startlinecolor": "#2a3f5f"
            },
            "baxis": {
             "endlinecolor": "#2a3f5f",
             "gridcolor": "white",
             "linecolor": "white",
             "minorgridcolor": "white",
             "startlinecolor": "#2a3f5f"
            },
            "type": "carpet"
           }
          ],
          "choropleth": [
           {
            "colorbar": {
             "outlinewidth": 0,
             "ticks": ""
            },
            "type": "choropleth"
           }
          ],
          "contour": [
           {
            "colorbar": {
             "outlinewidth": 0,
             "ticks": ""
            },
            "colorscale": [
             [
              0,
              "#0d0887"
             ],
             [
              0.1111111111111111,
              "#46039f"
             ],
             [
              0.2222222222222222,
              "#7201a8"
             ],
             [
              0.3333333333333333,
              "#9c179e"
             ],
             [
              0.4444444444444444,
              "#bd3786"
             ],
             [
              0.5555555555555556,
              "#d8576b"
             ],
             [
              0.6666666666666666,
              "#ed7953"
             ],
             [
              0.7777777777777778,
              "#fb9f3a"
             ],
             [
              0.8888888888888888,
              "#fdca26"
             ],
             [
              1,
              "#f0f921"
             ]
            ],
            "type": "contour"
           }
          ],
          "contourcarpet": [
           {
            "colorbar": {
             "outlinewidth": 0,
             "ticks": ""
            },
            "type": "contourcarpet"
           }
          ],
          "heatmap": [
           {
            "colorbar": {
             "outlinewidth": 0,
             "ticks": ""
            },
            "colorscale": [
             [
              0,
              "#0d0887"
             ],
             [
              0.1111111111111111,
              "#46039f"
             ],
             [
              0.2222222222222222,
              "#7201a8"
             ],
             [
              0.3333333333333333,
              "#9c179e"
             ],
             [
              0.4444444444444444,
              "#bd3786"
             ],
             [
              0.5555555555555556,
              "#d8576b"
             ],
             [
              0.6666666666666666,
              "#ed7953"
             ],
             [
              0.7777777777777778,
              "#fb9f3a"
             ],
             [
              0.8888888888888888,
              "#fdca26"
             ],
             [
              1,
              "#f0f921"
             ]
            ],
            "type": "heatmap"
           }
          ],
          "heatmapgl": [
           {
            "colorbar": {
             "outlinewidth": 0,
             "ticks": ""
            },
            "colorscale": [
             [
              0,
              "#0d0887"
             ],
             [
              0.1111111111111111,
              "#46039f"
             ],
             [
              0.2222222222222222,
              "#7201a8"
             ],
             [
              0.3333333333333333,
              "#9c179e"
             ],
             [
              0.4444444444444444,
              "#bd3786"
             ],
             [
              0.5555555555555556,
              "#d8576b"
             ],
             [
              0.6666666666666666,
              "#ed7953"
             ],
             [
              0.7777777777777778,
              "#fb9f3a"
             ],
             [
              0.8888888888888888,
              "#fdca26"
             ],
             [
              1,
              "#f0f921"
             ]
            ],
            "type": "heatmapgl"
           }
          ],
          "histogram": [
           {
            "marker": {
             "pattern": {
              "fillmode": "overlay",
              "size": 10,
              "solidity": 0.2
             }
            },
            "type": "histogram"
           }
          ],
          "histogram2d": [
           {
            "colorbar": {
             "outlinewidth": 0,
             "ticks": ""
            },
            "colorscale": [
             [
              0,
              "#0d0887"
             ],
             [
              0.1111111111111111,
              "#46039f"
             ],
             [
              0.2222222222222222,
              "#7201a8"
             ],
             [
              0.3333333333333333,
              "#9c179e"
             ],
             [
              0.4444444444444444,
              "#bd3786"
             ],
             [
              0.5555555555555556,
              "#d8576b"
             ],
             [
              0.6666666666666666,
              "#ed7953"
             ],
             [
              0.7777777777777778,
              "#fb9f3a"
             ],
             [
              0.8888888888888888,
              "#fdca26"
             ],
             [
              1,
              "#f0f921"
             ]
            ],
            "type": "histogram2d"
           }
          ],
          "histogram2dcontour": [
           {
            "colorbar": {
             "outlinewidth": 0,
             "ticks": ""
            },
            "colorscale": [
             [
              0,
              "#0d0887"
             ],
             [
              0.1111111111111111,
              "#46039f"
             ],
             [
              0.2222222222222222,
              "#7201a8"
             ],
             [
              0.3333333333333333,
              "#9c179e"
             ],
             [
              0.4444444444444444,
              "#bd3786"
             ],
             [
              0.5555555555555556,
              "#d8576b"
             ],
             [
              0.6666666666666666,
              "#ed7953"
             ],
             [
              0.7777777777777778,
              "#fb9f3a"
             ],
             [
              0.8888888888888888,
              "#fdca26"
             ],
             [
              1,
              "#f0f921"
             ]
            ],
            "type": "histogram2dcontour"
           }
          ],
          "mesh3d": [
           {
            "colorbar": {
             "outlinewidth": 0,
             "ticks": ""
            },
            "type": "mesh3d"
           }
          ],
          "parcoords": [
           {
            "line": {
             "colorbar": {
              "outlinewidth": 0,
              "ticks": ""
             }
            },
            "type": "parcoords"
           }
          ],
          "pie": [
           {
            "automargin": true,
            "type": "pie"
           }
          ],
          "scatter": [
           {
            "fillpattern": {
             "fillmode": "overlay",
             "size": 10,
             "solidity": 0.2
            },
            "type": "scatter"
           }
          ],
          "scatter3d": [
           {
            "line": {
             "colorbar": {
              "outlinewidth": 0,
              "ticks": ""
             }
            },
            "marker": {
             "colorbar": {
              "outlinewidth": 0,
              "ticks": ""
             }
            },
            "type": "scatter3d"
           }
          ],
          "scattercarpet": [
           {
            "marker": {
             "colorbar": {
              "outlinewidth": 0,
              "ticks": ""
             }
            },
            "type": "scattercarpet"
           }
          ],
          "scattergeo": [
           {
            "marker": {
             "colorbar": {
              "outlinewidth": 0,
              "ticks": ""
             }
            },
            "type": "scattergeo"
           }
          ],
          "scattergl": [
           {
            "marker": {
             "colorbar": {
              "outlinewidth": 0,
              "ticks": ""
             }
            },
            "type": "scattergl"
           }
          ],
          "scattermapbox": [
           {
            "marker": {
             "colorbar": {
              "outlinewidth": 0,
              "ticks": ""
             }
            },
            "type": "scattermapbox"
           }
          ],
          "scatterpolar": [
           {
            "marker": {
             "colorbar": {
              "outlinewidth": 0,
              "ticks": ""
             }
            },
            "type": "scatterpolar"
           }
          ],
          "scatterpolargl": [
           {
            "marker": {
             "colorbar": {
              "outlinewidth": 0,
              "ticks": ""
             }
            },
            "type": "scatterpolargl"
           }
          ],
          "scatterternary": [
           {
            "marker": {
             "colorbar": {
              "outlinewidth": 0,
              "ticks": ""
             }
            },
            "type": "scatterternary"
           }
          ],
          "surface": [
           {
            "colorbar": {
             "outlinewidth": 0,
             "ticks": ""
            },
            "colorscale": [
             [
              0,
              "#0d0887"
             ],
             [
              0.1111111111111111,
              "#46039f"
             ],
             [
              0.2222222222222222,
              "#7201a8"
             ],
             [
              0.3333333333333333,
              "#9c179e"
             ],
             [
              0.4444444444444444,
              "#bd3786"
             ],
             [
              0.5555555555555556,
              "#d8576b"
             ],
             [
              0.6666666666666666,
              "#ed7953"
             ],
             [
              0.7777777777777778,
              "#fb9f3a"
             ],
             [
              0.8888888888888888,
              "#fdca26"
             ],
             [
              1,
              "#f0f921"
             ]
            ],
            "type": "surface"
           }
          ],
          "table": [
           {
            "cells": {
             "fill": {
              "color": "#EBF0F8"
             },
             "line": {
              "color": "white"
             }
            },
            "header": {
             "fill": {
              "color": "#C8D4E3"
             },
             "line": {
              "color": "white"
             }
            },
            "type": "table"
           }
          ]
         },
         "layout": {
          "annotationdefaults": {
           "arrowcolor": "#2a3f5f",
           "arrowhead": 0,
           "arrowwidth": 1
          },
          "autotypenumbers": "strict",
          "coloraxis": {
           "colorbar": {
            "outlinewidth": 0,
            "ticks": ""
           }
          },
          "colorscale": {
           "diverging": [
            [
             0,
             "#8e0152"
            ],
            [
             0.1,
             "#c51b7d"
            ],
            [
             0.2,
             "#de77ae"
            ],
            [
             0.3,
             "#f1b6da"
            ],
            [
             0.4,
             "#fde0ef"
            ],
            [
             0.5,
             "#f7f7f7"
            ],
            [
             0.6,
             "#e6f5d0"
            ],
            [
             0.7,
             "#b8e186"
            ],
            [
             0.8,
             "#7fbc41"
            ],
            [
             0.9,
             "#4d9221"
            ],
            [
             1,
             "#276419"
            ]
           ],
           "sequential": [
            [
             0,
             "#0d0887"
            ],
            [
             0.1111111111111111,
             "#46039f"
            ],
            [
             0.2222222222222222,
             "#7201a8"
            ],
            [
             0.3333333333333333,
             "#9c179e"
            ],
            [
             0.4444444444444444,
             "#bd3786"
            ],
            [
             0.5555555555555556,
             "#d8576b"
            ],
            [
             0.6666666666666666,
             "#ed7953"
            ],
            [
             0.7777777777777778,
             "#fb9f3a"
            ],
            [
             0.8888888888888888,
             "#fdca26"
            ],
            [
             1,
             "#f0f921"
            ]
           ],
           "sequentialminus": [
            [
             0,
             "#0d0887"
            ],
            [
             0.1111111111111111,
             "#46039f"
            ],
            [
             0.2222222222222222,
             "#7201a8"
            ],
            [
             0.3333333333333333,
             "#9c179e"
            ],
            [
             0.4444444444444444,
             "#bd3786"
            ],
            [
             0.5555555555555556,
             "#d8576b"
            ],
            [
             0.6666666666666666,
             "#ed7953"
            ],
            [
             0.7777777777777778,
             "#fb9f3a"
            ],
            [
             0.8888888888888888,
             "#fdca26"
            ],
            [
             1,
             "#f0f921"
            ]
           ]
          },
          "colorway": [
           "#636efa",
           "#EF553B",
           "#00cc96",
           "#ab63fa",
           "#FFA15A",
           "#19d3f3",
           "#FF6692",
           "#B6E880",
           "#FF97FF",
           "#FECB52"
          ],
          "font": {
           "color": "#2a3f5f"
          },
          "geo": {
           "bgcolor": "white",
           "lakecolor": "white",
           "landcolor": "#E5ECF6",
           "showlakes": true,
           "showland": true,
           "subunitcolor": "white"
          },
          "hoverlabel": {
           "align": "left"
          },
          "hovermode": "closest",
          "mapbox": {
           "style": "light"
          },
          "paper_bgcolor": "white",
          "plot_bgcolor": "#E5ECF6",
          "polar": {
           "angularaxis": {
            "gridcolor": "white",
            "linecolor": "white",
            "ticks": ""
           },
           "bgcolor": "#E5ECF6",
           "radialaxis": {
            "gridcolor": "white",
            "linecolor": "white",
            "ticks": ""
           }
          },
          "scene": {
           "xaxis": {
            "backgroundcolor": "#E5ECF6",
            "gridcolor": "white",
            "gridwidth": 2,
            "linecolor": "white",
            "showbackground": true,
            "ticks": "",
            "zerolinecolor": "white"
           },
           "yaxis": {
            "backgroundcolor": "#E5ECF6",
            "gridcolor": "white",
            "gridwidth": 2,
            "linecolor": "white",
            "showbackground": true,
            "ticks": "",
            "zerolinecolor": "white"
           },
           "zaxis": {
            "backgroundcolor": "#E5ECF6",
            "gridcolor": "white",
            "gridwidth": 2,
            "linecolor": "white",
            "showbackground": true,
            "ticks": "",
            "zerolinecolor": "white"
           }
          },
          "shapedefaults": {
           "line": {
            "color": "#2a3f5f"
           }
          },
          "ternary": {
           "aaxis": {
            "gridcolor": "white",
            "linecolor": "white",
            "ticks": ""
           },
           "baxis": {
            "gridcolor": "white",
            "linecolor": "white",
            "ticks": ""
           },
           "bgcolor": "#E5ECF6",
           "caxis": {
            "gridcolor": "white",
            "linecolor": "white",
            "ticks": ""
           }
          },
          "title": {
           "x": 0.05
          },
          "xaxis": {
           "automargin": true,
           "gridcolor": "white",
           "linecolor": "white",
           "ticks": "",
           "title": {
            "standoff": 15
           },
           "zerolinecolor": "white",
           "zerolinewidth": 2
          },
          "yaxis": {
           "automargin": true,
           "gridcolor": "white",
           "linecolor": "white",
           "ticks": "",
           "title": {
            "standoff": 15
           },
           "zerolinecolor": "white",
           "zerolinewidth": 2
          }
         }
        },
        "title": {
         "text": "Loss by eliminated features"
        },
        "updatemenus": [
         {
          "active": 0,
          "buttons": [
           {
            "args": [
             {
              "visible": [
               true,
               true,
               false,
               false
              ]
             }
            ],
            "label": "Hide features",
            "method": "update"
           },
           {
            "args": [
             {
              "visible": [
               true,
               true,
               true,
               false
              ]
             }
            ],
            "label": "Show indices",
            "method": "update"
           },
           {
            "args": [
             {
              "visible": [
               true,
               true,
               false,
               true
              ]
             }
            ],
            "label": "Show names",
            "method": "update"
           }
          ],
          "pad": {
           "r": 10,
           "t": 10
          },
          "showactive": true,
          "x": -0.25,
          "xanchor": "left",
          "y": 1.03,
          "yanchor": "top"
         }
        ],
        "xaxis": {
         "gridcolor": "rgb(255,255,255)",
         "showgrid": true,
         "showline": false,
         "showticklabels": true,
         "tickcolor": "rgb(127,127,127)",
         "ticks": "outside",
         "title": {
          "text": "number of removed features"
         },
         "zeroline": false
        },
        "yaxis": {
         "gridcolor": "rgb(255,255,255)",
         "showgrid": true,
         "showline": false,
         "showticklabels": true,
         "tickcolor": "rgb(127,127,127)",
         "tickfont": {
          "color": "rgb(51,160,44)"
         },
         "ticks": "outside",
         "title": {
          "font": {
           "color": "rgb(51,160,44)"
          },
          "text": "loss value"
         },
         "zeroline": false
        }
       }
      }
     },
     "metadata": {},
     "output_type": "display_data"
    }
   ],
   "source": [
    "from catboost import CatBoostRegressor\n",
    "\n",
    "\n",
    "regressor = CatBoostRegressor(eval_metric='RMSE', \n",
    "                              iterations = 100,\n",
    "                              random_state = 1\n",
    "                              )\n",
    "\n",
    "X_train, X_test, y_train, y_test = train_test_split(dfX, y, test_size=0.2, random_state=1)\n",
    "\n",
    "X_train, X_val, y_train, y_val = train_test_split(X_train, y_train, test_size=0.25, random_state=1) \n",
    "\n",
    "rfe_dict = regressor.select_features(X = X_train, \n",
    "                                     y = y_train, \n",
    "                                     eval_set = (X_val,y_val), \n",
    "                                     features_for_select = '0-25', \n",
    "                                     num_features_to_select = 10, \n",
    "                                     steps = 5, \n",
    "                                     verbose = False,\n",
    "                                     train_final_model = False, \n",
    "                                     plot = True \n",
    "                                     )\n"
   ]
  },
  {
   "cell_type": "code",
   "execution_count": 9,
   "metadata": {},
   "outputs": [
    {
     "name": "stdout",
     "output_type": "stream",
     "text": [
      "['Laki', 'Umur', 'Umur Squared', 'APM SD', 'APM SMA', 'pendidikan_SMP', 'SD', 'Pengeluaran Bulanan', 'DPT', 'Weighted Sentiment']\n"
     ]
    },
    {
     "data": {
      "text/html": [
       "<div>\n",
       "<style scoped>\n",
       "    .dataframe tbody tr th:only-of-type {\n",
       "        vertical-align: middle;\n",
       "    }\n",
       "\n",
       "    .dataframe tbody tr th {\n",
       "        vertical-align: top;\n",
       "    }\n",
       "\n",
       "    .dataframe thead th {\n",
       "        text-align: right;\n",
       "    }\n",
       "</style>\n",
       "<table border=\"1\" class=\"dataframe\">\n",
       "  <thead>\n",
       "    <tr style=\"text-align: right;\">\n",
       "      <th></th>\n",
       "      <th>Method</th>\n",
       "      <th>RSME</th>\n",
       "      <th>MAE</th>\n",
       "      <th>R2</th>\n",
       "    </tr>\n",
       "  </thead>\n",
       "  <tbody>\n",
       "    <tr>\n",
       "      <th>0</th>\n",
       "      <td>Linear Regression</td>\n",
       "      <td>0.040812</td>\n",
       "      <td>0.032367</td>\n",
       "      <td>0.292136</td>\n",
       "    </tr>\n",
       "    <tr>\n",
       "      <th>1</th>\n",
       "      <td>SVR</td>\n",
       "      <td>0.047896</td>\n",
       "      <td>0.038916</td>\n",
       "      <td>0.025071</td>\n",
       "    </tr>\n",
       "    <tr>\n",
       "      <th>2</th>\n",
       "      <td>Decision Tree</td>\n",
       "      <td>0.054813</td>\n",
       "      <td>0.044355</td>\n",
       "      <td>-0.276866</td>\n",
       "    </tr>\n",
       "    <tr>\n",
       "      <th>3</th>\n",
       "      <td>Random Forest</td>\n",
       "      <td>0.039495</td>\n",
       "      <td>0.032634</td>\n",
       "      <td>0.337066</td>\n",
       "    </tr>\n",
       "    <tr>\n",
       "      <th>4</th>\n",
       "      <td>XGBoost</td>\n",
       "      <td>0.043445</td>\n",
       "      <td>0.035171</td>\n",
       "      <td>0.197859</td>\n",
       "    </tr>\n",
       "    <tr>\n",
       "      <th>5</th>\n",
       "      <td>Catboost</td>\n",
       "      <td>0.038451</td>\n",
       "      <td>0.031515</td>\n",
       "      <td>0.371669</td>\n",
       "    </tr>\n",
       "    <tr>\n",
       "      <th>6</th>\n",
       "      <td>LightGBM</td>\n",
       "      <td>0.041618</td>\n",
       "      <td>0.033593</td>\n",
       "      <td>0.263880</td>\n",
       "    </tr>\n",
       "  </tbody>\n",
       "</table>\n",
       "</div>"
      ],
      "text/plain": [
       "              Method      RSME       MAE        R2\n",
       "0  Linear Regression  0.040812  0.032367  0.292136\n",
       "1                SVR  0.047896  0.038916  0.025071\n",
       "2      Decision Tree  0.054813  0.044355 -0.276866\n",
       "3      Random Forest  0.039495  0.032634  0.337066\n",
       "4            XGBoost  0.043445  0.035171  0.197859\n",
       "5           Catboost  0.038451  0.031515  0.371669\n",
       "6           LightGBM  0.041618  0.033593  0.263880"
      ]
     },
     "execution_count": 9,
     "metadata": {},
     "output_type": "execute_result"
    }
   ],
   "source": [
    "import Utils as utils\n",
    "\n",
    "\n",
    "\n",
    "print(rfe_dict['selected_features_names'])\n",
    "utils.eval_models(dfX[rfe_dict['selected_features_names']], y, kf) "
   ]
  },
  {
   "attachments": {},
   "cell_type": "markdown",
   "metadata": {},
   "source": [
    "### Hasil Evaluasi CatBoost RFE \n",
    "\n",
    "| No | Method            | RSME          | MAE           | R2           | Features                                                                                                                                                                         |\n",
    "|----|-------------------|---------------|---------------|--------------|----------------------------------------------------------------------------------------------------------------------------------------------------------------------------------|\n",
    "|  5 | Catboost          | 0,03616670817 | 0,02940776189 | 0,4440991577 | Perempuan, Umur Squared, APM SMA, pendidikan_SMP, SD, Pengeluaran Bulanan, Indeks Pembangunan Manusia, DPT, Weighted Sentiment                                                   |\n",
    "|  5 | Catboost          | 0,03744954854 | 0,03101037007 | 0,4039639315 | Laki, Perempuan, Umur, Umur Squared, APM SMP, APM SMA, pendidikan_SMP, pendidikan_Universitas, SD, SMP, Pengeluaran Bulanan, Indeks Pembangunan Manusia, DPT, Weighted Sentiment |\n",
    "|  0 | Linear Regression | 0,03747535333 | 0,03069829856 | 0,4031422453 | Laki, Perempuan, Umur, Umur Squared, APM SMP, APM SMA, pendidikan_SMP, pendidikan_Universitas, SD, SMP, Pengeluaran Bulanan, Indeks Pembangunan Manusia, DPT, Weighted Sentiment |\n",
    "|  3 | Random Forest     | 0,03782791378 | 0,03047475347 | 0,3918591886 | Perempuan, Umur Squared, APM SMA, pendidikan_SMP, SD, Pengeluaran Bulanan, Indeks Pembangunan Manusia, DPT, Weighted Sentiment                                                   |\n",
    "|  0 | Linear Regression | 0,03804527728 | 0,03089460299 | 0,3848502164 | Perempuan, Umur Squared, APM SMA, pendidikan_SMP, SD, Pengeluaran Bulanan, Indeks Pembangunan Manusia, DPT, Weighted Sentiment                                                   |\n"
   ]
  },
  {
   "attachments": {},
   "cell_type": "markdown",
   "metadata": {},
   "source": [
    "## Pendekatan Dimensionality Reduction\n",
    "\n",
    "### Rough Set Reduction\n",
    "\n",
    "Rough set reduction merupakan teknik seleksi fitur yang memanfaatkan teori rough set. Teknik ini mengelompokkan fitur berdasarkan nilai-nilai yang dimilikinya. Fitur yang memiliki nilai yang sama akan dikelompokkan dalam satu kelas. Teknik ini menghasilkan himpunan fitur yang disebut reduct."
   ]
  },
  {
   "attachments": {},
   "cell_type": "markdown",
   "metadata": {},
   "source": [
    "Karena rough set tidak bisa digunakan pada data numeric, perlu dilakukan proses diskritisasi terlebih dahulu. Proses diskritisasi dilakukan dengan menggunakan algoritma D.local.discernibility.heuristic.RST. Algoritma ini menghasilkan cut values yang digunakan untuk membagi data menjadi beberapa interval. Setelah data diskritisasi, proses rough set reduction dapat dilakukan.\n",
    "```r\n",
    "library(RoughSets)\n",
    "decision.table <- SF.asDecisionTable(dataset = data, decision.attr = 26)\n",
    "cut.values <-D.local.discernibility.heuristic.RST(decision.table)\n",
    "data.discretized <- SF.applyDecTable(decision.table, cut.values)\n",
    "dim(data.discretized)\n",
    "lapply(data.discretized, unique)\n",
    "```"
   ]
  },
  {
   "attachments": {},
   "cell_type": "markdown",
   "metadata": {},
   "source": [
    "Data yang telah terdiskritisasi dapat digunakan untuk melakukan rough set reduction.\n",
    "\n",
    "```r\n",
    "library(Rcpp)\n",
    "\n",
    "# Mengubah data diskrit menjadi numeric\n",
    "data.PSO.100n <- data[c('Laju.Pertumbuhan', 'Laki', 'Perempuan', 'Umur', 'Umur.Squared', 'APM.SMP', 'APM.SMA', 'pendidikan_SD', 'pendidikan_SMP', 'Universitas', 'Pengeluaran.Bulanan', 'Indeks.Pembangunan.Manusia', 'DPT', 'Weighted.Sentiment','Partisipasi')]\n",
    "table.pso.100 <- SF.asDecisionTable(dataset = data.PSO.100n, decision.attr = 15)\n",
    "cut.equal.pso.100.4 <- D.discretize.equal.intervals.RST(table.pso.100, nOfIntervals = 6)\n",
    "discretized.pso.100.4.equal <- SF.applyDecTable(table.pso.100, cut.equal.pso.100.4)\n",
    "dim(discretized.pso.100.4.equal)\n",
    "lapply(discretized.pso.100.4.equal, unique)\n",
    "\n",
    "# Mengubah data diskrit menjadi numeric\n",
    "reduct.equal.pso.100.4 <- FS.reduct.computation(discretized.pso.100.4.equal, method = \"greedy.heuristic\")\n",
    "result.equal.pso.100.4 <- SF.applyDecTable(discretized.pso.100.4.equal, reduct.equal.pso.100.4)\n",
    "print(colnames(result.equal.pso.100.4))\n",
    "```"
   ]
  },
  {
   "attachments": {},
   "cell_type": "markdown",
   "metadata": {},
   "source": [
    "Karena rough set merupakan dimensionality reduction, maka rough set akan dibandingkan berdasarkan set awal yang digunakan. Set awal yang digunakan merupakan hasil PSO dari feature selection diatas\n",
    "\n",
    "### Hasil Evaluasi Rough Set Reduction\n",
    "\n",
    "PSO vs Rough Set Reduction (4 Interval)\n",
    "| No | Method            | RSME    | MAE     | R2       | Method2 | RSME_RED | MAE_RED | R2_RED   |\n",
    "|----|-------------------|---------|---------|----------|---------|----------|---------|----------|\n",
    "| 0  | Linear Regression | 0,03657 | 0,03030 | 0,43162  | Reduced | 0,03742  | 0,03067 | 0,40501  |\n",
    "| 1  | SVR               | 0,04803 | 0,03928 | 0,01972  | Reduced | 0,04754  | 0,03867 | 0,03936  |\n",
    "| 2  | Decision Tree     | 0,05109 | 0,04087 | -0,10925 | Reduced | 0,05160  | 0,04125 | -0,13154 |\n",
    "| 3  | Random   Forest   | 0,03829 | 0,03116 | 0,37694  | Reduced | 0,03870  | 0,03129 | 0,36347  |\n",
    "| 4  | XGBoost           | 0,04155 | 0,03468 | 0,26620  | Reduced | 0,04257  | 0,03542 | 0,22990  |\n",
    "| 5  | Catboost          | 0,03561 | 0,02932 | 0,46101  | Reduced | 0,03653  | 0,03031 | 0,43294  |\n",
    "| 6  | LightGBM          | 0,03911 | 0,03088 | 0,35006  | Reduced | 0,03918  | 0,03096 | 0,34759  |\n",
    "\n",
    "PSO vs Rough Set Reduction (6 Interval)\n",
    "| No | Method            | RSME    | MAE     | R2       | Method2 | RSME_RED | MAE_RED | R2_RED   |\n",
    "|----|-------------------|---------|---------|----------|---------|----------|---------|----------|\n",
    "| 0  | Linear Regression | 0,03657 | 0,03030 | 0,43162  | Reduced | 0,03998  | 0,03264 | 0,32075  |\n",
    "| 1  | SVR               | 0,04803 | 0,03928 | 0,01972  | Reduced | 0,04756  | 0,03867 | 0,03884  |\n",
    "| 2  | Decision Tree     | 0,05280 | 0,04216 | -0,18460 | Reduced | 0,05075  | 0,04107 | -0,09441 |\n",
    "| 3  | Random   Forest   | 0,03829 | 0,03116 | 0,37694  | Reduced | 0,03886  | 0,03163 | 0,35833  |\n",
    "| 4  | XGBoost           | 0,04155 | 0,03468 | 0,26620  | Reduced | 0,04205  | 0,03518 | 0,24858  |\n",
    "| 5  | Catboost          | 0,03561 | 0,02932 | 0,46101  | Reduced | 0,03621  | 0,02998 | 0,44282  |\n",
    "| 6  | LightGBM          | 0,03911 | 0,03088 | 0,35006  | Reduced | 0,03915  | 0,03084 | 0,34871  |\n",
    "\n",
    "GWO vs Rough Set Reduction (Greedy Heuristic Interval)\n",
    "\n",
    "| No | Method            | RSME    | MAE     | R2       | Method2 | RSME_RED | MAE_RED | R2_RED   |\n",
    "|----|-------------------|---------|---------|----------|---------|----------|---------|----------|\n",
    "| 0  | Linear Regression | 0,03657 | 0,03030 | 0,43162  | Reduced | 0,03998  | 0,03264 | 0,32075  |\n",
    "| 1  | SVR               | 0,04803 | 0,03928 | 0,01972  | Reduced | 0,04756  | 0,03867 | 0,03884  |\n",
    "| 2  | Decision Tree     | 0,05280 | 0,04216 | -0,18460 | Reduced | 0,05075  | 0,04107 | -0,09441 |\n",
    "| 3  | Random   Forest   | 0,03829 | 0,03116 | 0,37694  | Reduced | 0,03886  | 0,03163 | 0,35833  |\n",
    "| 4  | XGBoost           | 0,04155 | 0,03468 | 0,26620  | Reduced | 0,04205  | 0,03518 | 0,24858  |\n",
    "| 5  | Catboost          | 0,03561 | 0,02932 | 0,46101  | Reduced | 0,03621  | 0,02998 | 0,44282  |\n",
    "| 6  | LightGBM          | 0,03911 | 0,03088 | 0,35006  | Reduced | 0,03915  | 0,03084 | 0,34871  |"
   ]
  },
  {
   "attachments": {},
   "cell_type": "markdown",
   "metadata": {},
   "source": [
    "### DIfference between Rough Set Reduction and PSO\n",
    "\n",
    "4 Intervals\n",
    "| RSME Diff | MAE Diff |  R2 Diff |\n",
    "|:---------:|:--------:|:--------:|\n",
    "| -0,00085  | -0,00037 | 0,02661  |\n",
    "| 0,00048   | 0,00060  | -0,01964 |\n",
    "| -0,00051  | -0,00038 | 0,02228  |\n",
    "| -0,00041  | -0,00013 | 0,01347  |\n",
    "| -0,00102  | -0,00075 | 0,03630  |\n",
    "| -0,00092  | -0,00098 | 0,02807  |\n",
    "| -0,00007  | -0,00008 | 0,00247  |\n",
    "\n",
    "6 Intervals\n",
    "| RSME Diff | MAE Diff |  R2 Diff |\n",
    "|:---------:|:--------:|:--------:|\n",
    "| -0,00341  | -0,00235 | 0,11087  |\n",
    "| 0,00047   | 0,00061  | -0,01912 |\n",
    "| 0,00205   | 0,00109  | -0,09019 |\n",
    "| -0,00057  | -0,00047 | 0,01861  |\n",
    "| -0,00050  | -0,00050 | 0,01762  |\n",
    "| -0,00060  | -0,00065 | 0,01819  |\n",
    "| -0,00004  | 0,00004  | 0,00135  |\n",
    "\n",
    "Greedy Heuristic\n",
    "| RSME Diff | MAE Diff |  R2 Diff |\n",
    "|:---------:|:--------:|:--------:|\n",
    "| -0,00649  | -0,00402 | 0,23256  |\n",
    "| -0,00018  | -0,00019 | 0,00740  |\n",
    "| 0,00369   | 0,00280  | -0,15819 |\n",
    "| -0,00140  | -0,00112 | 0,04814  |\n",
    "| -0,00222  | -0,00282 | 0,08370  |\n",
    "| -0,00093  | -0,00018 | 0,03076  |\n",
    "| -0,00105  | -0,00115 | 0,03526  |\n",
    "\n",
    "Pada ketiga skenario tersebut, rough set reduction banyak mengurangi akurasi model, kecuali pada decision tree. Pada model - model terbaik seperti CatBoost dan Linear Regression, penggunaan rough set reduction cenderun mengurangi performa model. Oleh karena itu, rough set reduction tidak digunakan pada skenario selanjutnya."
   ]
  }
 ],
 "metadata": {
  "kernelspec": {
   "display_name": "Python 3",
   "language": "python",
   "name": "python3"
  },
  "language_info": {
   "codemirror_mode": {
    "name": "ipython",
    "version": 3
   },
   "file_extension": ".py",
   "mimetype": "text/x-python",
   "name": "python",
   "nbconvert_exporter": "python",
   "pygments_lexer": "ipython3",
   "version": "3.10.4"
  },
  "orig_nbformat": 4
 },
 "nbformat": 4,
 "nbformat_minor": 2
}
