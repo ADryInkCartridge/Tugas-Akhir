{
 "cells": [
  {
   "cell_type": "code",
   "execution_count": 1,
   "metadata": {},
   "outputs": [],
   "source": [
    "import pandas as pd \n",
    "from sklearn.preprocessing import MinMaxScaler\n",
    "from sklearn.model_selection import train_test_split\n",
    "from sklearn.model_selection import RepeatedKFold\n",
    "\n",
    "df = pd.read_csv('Data/Dataset.csv', decimal =\".\", thousands=\",\")\n",
    "df = df.drop(['Kota','Paslon 1','Paslon 2','Total'],axis=1)\n",
    "\n",
    "scaler = MinMaxScaler()\n",
    "\n",
    "df_minmax = pd.DataFrame(scaler.fit_transform(df.values), columns=df.columns, index=df.index)\n",
    "dfX, dfY = df_minmax.iloc[:, :-1], df_minmax.iloc[:, [-1]]\n",
    "kf = RepeatedKFold(n_splits=10, n_repeats = 3 , random_state=1)\n",
    "kf.get_n_splits(dfX)\n",
    "y = df['Partisipasi']\n"
   ]
  },
  {
   "attachments": {},
   "cell_type": "markdown",
   "metadata": {},
   "source": [
    "## Load Data and preprocess"
   ]
  },
  {
   "attachments": {},
   "cell_type": "markdown",
   "metadata": {},
   "source": [
    "## Metrics\n",
    "\n",
    "3 metrik akan digunakan untuk mengevaluasi model yang telah dibuat, yaitu:\n",
    "1. Mean Absolute Error (MAE)\n",
    "- MAE merupakan rata - rata dari selisih absolut antara nilai prediksi dengan nilai aktual. MAE merupakan metrik yang paling mudah diinterpretasikan karena tidak melibatkan satuan. MAE yang semakin kecil menunjukkan model yang semakin baik.\n",
    "2. Root Mean Squared Error (RMSE)\n",
    "- RMSE merupakan akar kuadrat dari rata - rata dari selisih kuadrat antara nilai prediksi dengan nilai aktual. RMSE yang semakin kecil menunjukkan model yang semakin baik.\n",
    "3. R-Squared (R2)\n",
    "- R2 merupakan koefisien determinasi yang menunjukkan seberapa baik model yang dibuat dapat menjelaskan variabilitas dari data yang diamati. R2 yang semakin besar menunjukkan model yang semakin baik."
   ]
  },
  {
   "cell_type": "code",
   "execution_count": 12,
   "metadata": {},
   "outputs": [],
   "source": [
    "import math\n",
    "from sklearn.metrics import mean_squared_error\n",
    "from sklearn.metrics import mean_absolute_error\n",
    "from sklearn.metrics import r2_score\n",
    "\n",
    "def error_rate(methods,preds,vals):\n",
    "  rmse = math.sqrt(mean_squared_error(vals,preds))\n",
    "  mae = mean_absolute_error(vals, preds)\n",
    "  r2 = r2_score(vals, preds)\n",
    "  \n",
    "  return methods,rmse,mae,r2"
   ]
  },
  {
   "attachments": {},
   "cell_type": "markdown",
   "metadata": {},
   "source": [
    "## Modelling\n",
    "\n",
    "Sebelum seleksi fitur, akan dilakukan pemodelan dengan menggunakan semua fitur yang ada. Pemodelan dilakukan terlebih dahulu untuk mencari model terbaik yang akan digunakan pada seleksi fitur.  \n",
    "Pemodelan dilakukan dengan menggunakan 7 algoritma, yaitu:\n",
    "1. Linear Regression\n",
    "2. SVR\n",
    "3. Decision Tree\n",
    "4. Random Forest\n",
    "5. XGBoost\n",
    "6. LightGBM\n",
    "7. CatBoost"
   ]
  },
  {
   "attachments": {},
   "cell_type": "markdown",
   "metadata": {},
   "source": [
    "## Flatten\n",
    "\n",
    "Flatten merupakan sebuah fungsi utilitas untuk mengubah array 2 dimensi menjadi array 1 dimensi. Fungsi ini akan digunakan untuk mengubah array 2 dimensi hasil prediksi menjadi array 1 dimensi agar dapat digunakan pada metrik evaluasi."
   ]
  },
  {
   "cell_type": "code",
   "execution_count": 13,
   "metadata": {},
   "outputs": [],
   "source": [
    "def flatten(l):\n",
    "    # flatten list of list menjadi sebuah list\n",
    "    return [item for sublist in l for item in sublist]"
   ]
  },
  {
   "attachments": {},
   "cell_type": "markdown",
   "metadata": {},
   "source": [
    "## Linear Regression"
   ]
  },
  {
   "cell_type": "code",
   "execution_count": 18,
   "metadata": {},
   "outputs": [
    {
     "data": {
      "text/plain": [
       "('Linear Regression',\n",
       " 0.041151108859387615,\n",
       " 0.03339395849373654,\n",
       " 0.2803149971364153)"
      ]
     },
     "execution_count": 18,
     "metadata": {},
     "output_type": "execute_result"
    }
   ],
   "source": [
    "from sklearn.linear_model import LinearRegression\n",
    "import pandas as pd\n",
    "\n",
    "def evaluate_linreg(dfX,y,kf):\n",
    "  reg = LinearRegression()\n",
    "  vals = []\n",
    "  preds = []\n",
    "  for train_index, test_index in kf.split(dfX):\n",
    "      X_train, X_test = dfX.iloc[train_index], dfX.iloc[test_index]\n",
    "      y_train, y_test = y.iloc[train_index], y.iloc[test_index]\n",
    "\n",
    "      reg.fit(X_train, y_train)\n",
    "      pred = reg.predict(X_test)\n",
    "\n",
    "      preds.append(pred)\n",
    "      vals.append(y_test)\n",
    "  linear_reg_df = pd.DataFrame({'Prediction':flatten(preds),'Actual Values':flatten(vals)})\n",
    "  return error_rate(\"Linear Regression\",linear_reg_df['Prediction'],linear_reg_df['Actual Values'])\n",
    "\n",
    "evaluate_linreg(dfX, y, kf)"
   ]
  },
  {
   "attachments": {},
   "cell_type": "markdown",
   "metadata": {},
   "source": [
    "## SVR"
   ]
  },
  {
   "cell_type": "code",
   "execution_count": 17,
   "metadata": {},
   "outputs": [
    {
     "data": {
      "text/plain": [
       "('SVR', 0.04773394043795352, 0.03884803361188745, 0.03164646558058193)"
      ]
     },
     "execution_count": 17,
     "metadata": {},
     "output_type": "execute_result"
    }
   ],
   "source": [
    "from sklearn.svm import SVR\n",
    "\n",
    "def evaluate_svr(dfX,y,kf):\n",
    "  \n",
    "  svr_reg = SVR()\n",
    "  vals = []\n",
    "  preds = []\n",
    "\n",
    "  for train_index, test_index in kf.split(dfX):\n",
    "      X_train, X_test = dfX.iloc[train_index], dfX.iloc[test_index]\n",
    "      y_train, y_test = y.iloc[train_index], y.iloc[test_index]\n",
    "\n",
    "      svr_reg.fit(X_train,y_train)\n",
    "      svr_pred = svr_reg.predict(X_test)\n",
    "      \n",
    "      preds.append(svr_pred)\n",
    "      vals.append(y_test)\n",
    "\n",
    "  svr_df = pd.DataFrame({'Prediction':flatten(preds),'Actual Values':flatten(vals)})\n",
    "  return error_rate(\"SVR\",svr_df['Prediction'],svr_df['Actual Values'])\n",
    "\n",
    "evaluate_svr(dfX, y, kf)"
   ]
  },
  {
   "attachments": {},
   "cell_type": "markdown",
   "metadata": {},
   "source": [
    "## Decision Tree"
   ]
  },
  {
   "cell_type": "code",
   "execution_count": 21,
   "metadata": {},
   "outputs": [
    {
     "data": {
      "text/plain": [
       "('Decision Tree',\n",
       " 0.05523462757282909,\n",
       " 0.04503630844654088,\n",
       " -0.2965886883579478)"
      ]
     },
     "execution_count": 21,
     "metadata": {},
     "output_type": "execute_result"
    }
   ],
   "source": [
    "from sklearn.tree import DecisionTreeRegressor\n",
    "\n",
    "def evaluate_dt(dfX,y,kf):\n",
    "  \n",
    "  dt_reg = DecisionTreeRegressor()\n",
    "  vals = []\n",
    "  preds = []\n",
    "  for train_index, test_index in kf.split(dfX):\n",
    "      \n",
    "      X_train, X_test = dfX.iloc[train_index], dfX.iloc[test_index]\n",
    "      y_train, y_test = y.iloc[train_index], y.iloc[test_index]\n",
    "\n",
    "      dt_reg.fit(X_train,y_train)\n",
    "      dt_pred = dt_reg.predict(X_test)\n",
    "\n",
    "      preds.append(dt_pred)\n",
    "      vals.append(y_test)\n",
    "\n",
    "  dt_df = pd.DataFrame({'Prediction':flatten(preds),'Actual Values':flatten(vals)})\n",
    "  return error_rate(\"Decision Tree\",dt_df['Prediction'],dt_df['Actual Values'])\n",
    "  \n",
    "evaluate_dt(dfX,y,kf)\n"
   ]
  },
  {
   "cell_type": "code",
   "execution_count": 22,
   "metadata": {},
   "outputs": [
    {
     "data": {
      "text/plain": [
       "('Random Forest',\n",
       " 0.04015124271912773,\n",
       " 0.03232011222889938,\n",
       " 0.31486311058980954)"
      ]
     },
     "execution_count": 22,
     "metadata": {},
     "output_type": "execute_result"
    }
   ],
   "source": [
    "from sklearn.ensemble import RandomForestRegressor\n",
    "\n",
    "def evaluate_rf(dfX,y,kf):\n",
    "  \n",
    "  vals = []\n",
    "  preds = []\n",
    "\n",
    "  rf = RandomForestRegressor(n_estimators= 100, random_state = 0)\n",
    "\n",
    "  for train_index, test_index in kf.split(dfX):\n",
    "      X_train, X_test = dfX.iloc[train_index], dfX.iloc[test_index]\n",
    "      y_train, y_test = y.iloc[train_index], y.iloc[test_index]\n",
    "\n",
    "      rf.fit(X_train,y_train)\n",
    "      rf_pred = rf.predict(X_test)\n",
    "\n",
    "      preds.append(rf_pred)\n",
    "      vals.append(y_test)\n",
    "\n",
    "  rf_df = pd.DataFrame({'Prediction':flatten(preds),'Actual Values':flatten(vals)})\n",
    "  return error_rate(\"Random Forest\",rf_df['Prediction'],rf_df['Actual Values'])\n",
    "\n",
    "evaluate_rf(dfX,y,kf)"
   ]
  },
  {
   "cell_type": "code",
   "execution_count": 23,
   "metadata": {},
   "outputs": [
    {
     "data": {
      "text/plain": [
       "('XGBoost', 0.04671284884163465, 0.03846689642337487, 0.07263206290551683)"
      ]
     },
     "execution_count": 23,
     "metadata": {},
     "output_type": "execute_result"
    }
   ],
   "source": [
    "from xgboost import XGBRegressor\n",
    "\n",
    "def evaluate_xgboost(dfX,y,kf):\n",
    "  \n",
    "  vals = []\n",
    "  preds = []\n",
    "\n",
    "  xgb = XGBRegressor()\n",
    "\n",
    "  for train_index, test_index in kf.split(dfX):\n",
    "      X_train, X_test = dfX.iloc[train_index], dfX.iloc[test_index]\n",
    "      y_train, y_test = y.iloc[train_index], y.iloc[test_index]\n",
    "\n",
    "      xgb.fit(X_train,y_train)\n",
    "      xgb_pred = xgb.predict(X_test)\n",
    "\n",
    "      preds.append(xgb_pred)\n",
    "      vals.append(y_test)\n",
    "\n",
    "  xgb_df = pd.DataFrame({'Prediction':flatten(preds),'Actual Values':flatten(vals)})\n",
    "  return error_rate(\"XGBoost\",xgb_df['Prediction'],xgb_df['Actual Values'])\n",
    "\n",
    "evaluate_xgboost(dfX,y,kf)"
   ]
  },
  {
   "cell_type": "code",
   "execution_count": 29,
   "metadata": {},
   "outputs": [
    {
     "data": {
      "text/plain": [
       "('LightGBM', 0.04281453667792947, 0.034679282965554566, 0.22095621803714005)"
      ]
     },
     "execution_count": 29,
     "metadata": {},
     "output_type": "execute_result"
    }
   ],
   "source": [
    "import lightgbm as lgb  \n",
    "\n",
    "def evaluate_lightgbm(dfX,y):\n",
    "  \n",
    "  params = {\n",
    "      'task': 'train', \n",
    "      'boosting': 'gbdt',\n",
    "      'objective': 'regression',\n",
    "      'num_leaves': 10,\n",
    "      'learning_rate': 0.05,\n",
    "      'metric': {'l2','l1'},\n",
    "      'verbose': -1\n",
    "  }\n",
    "  \n",
    "  vals = []\n",
    "  preds = []\n",
    "\n",
    "  for train_index, test_index in kf.split(dfX):\n",
    "\n",
    "      X_train, X_test = dfX.iloc[train_index], dfX.iloc[test_index]\n",
    "      y_train, y_test = y.iloc[train_index], y.iloc[test_index]\n",
    "\n",
    "      lgb_train = lgb.Dataset(X_train, y_train)\n",
    "\n",
    "      lgb_reg = lgb.train(params,train_set=lgb_train)\n",
    "      lgb_pred = lgb_reg.predict(X_test)\n",
    "      \n",
    "      preds.append(lgb_pred)\n",
    "      vals.append(y_test)\n",
    "\n",
    "  lgb_df = pd.DataFrame({'Prediction':flatten(preds),'Actual Values':flatten(vals)})\n",
    "  return error_rate(\"LightGBM\",lgb_df['Prediction'],lgb_df['Actual Values'])\n",
    "evaluate_lightgbm(dfX,y)"
   ]
  },
  {
   "cell_type": "code",
   "execution_count": 32,
   "metadata": {},
   "outputs": [
    {
     "data": {
      "text/plain": [
       "('Catboost', 0.04001594428986717, 0.0326771489029961, 0.3194727692532964)"
      ]
     },
     "execution_count": 32,
     "metadata": {},
     "output_type": "execute_result"
    }
   ],
   "source": [
    "from catboost import CatBoostRegressor\n",
    "from catboost import Pool\n",
    "\n",
    "def evaluate_catboost(dfX,y):\n",
    "  vals = []\n",
    "  preds = []\n",
    "\n",
    "  cbr = CatBoostRegressor()\n",
    "  for train_index, test_index in kf.split(dfX):\n",
    "      X_train, X_test = dfX.iloc[train_index], dfX.iloc[test_index]\n",
    "      y_train, y_test = y.iloc[train_index], y.iloc[test_index]\n",
    "      \n",
    "      train_pool = Pool(data=X_train, label=y_train)\n",
    "      test_pool = Pool(data=X_test, label=y_test)\n",
    "\n",
    "      cbr.fit(train_pool, verbose=False)\n",
    "      cbr_pred = cbr.predict(test_pool)\n",
    "      \n",
    "      preds.append(cbr_pred)\n",
    "      vals.append(y_test)\n",
    "\n",
    "  cat_df = pd.DataFrame({'Prediction':flatten(preds),'Actual Values':flatten(vals)})\n",
    "  return error_rate(\"Catboost\",cat_df['Prediction'],cat_df['Actual Values'])\n",
    "\n",
    "evaluate_catboost(dfX,y)"
   ]
  },
  {
   "attachments": {},
   "cell_type": "markdown",
   "metadata": {},
   "source": [
    "## Takeaway\n",
    "\n",
    "Pada modelling pertama, terlihat metode - metode yang menggunakan ensemble learning seperti random forest dan gradient boosting seperti XGBoost, LightGBM, dan CatBoost memiliki performa yang lebih baik dibandingkan dengan metode - metode lainnya.  Selain itu, linear regression juga mempunyai performa yang cukup baik dengan waktu training yang sangat cepat.  \n",
    "Oleh karena itu, feature selection akan dilakukan dengan menggunakan metode - metode tersebut.\n"
   ]
  },
  {
   "cell_type": "code",
   "execution_count": 2,
   "metadata": {},
   "outputs": [
    {
     "data": {
      "text/html": [
       "<div>\n",
       "<style scoped>\n",
       "    .dataframe tbody tr th:only-of-type {\n",
       "        vertical-align: middle;\n",
       "    }\n",
       "\n",
       "    .dataframe tbody tr th {\n",
       "        vertical-align: top;\n",
       "    }\n",
       "\n",
       "    .dataframe thead th {\n",
       "        text-align: right;\n",
       "    }\n",
       "</style>\n",
       "<table border=\"1\" class=\"dataframe\">\n",
       "  <thead>\n",
       "    <tr style=\"text-align: right;\">\n",
       "      <th></th>\n",
       "      <th>Method</th>\n",
       "      <th>RSME</th>\n",
       "      <th>MAE</th>\n",
       "      <th>R2</th>\n",
       "      <th>Time</th>\n",
       "    </tr>\n",
       "  </thead>\n",
       "  <tbody>\n",
       "    <tr>\n",
       "      <th>0</th>\n",
       "      <td>Linear Regression</td>\n",
       "      <td>0.041151</td>\n",
       "      <td>0.033394</td>\n",
       "      <td>0.280315</td>\n",
       "      <td>0.211999</td>\n",
       "    </tr>\n",
       "    <tr>\n",
       "      <th>1</th>\n",
       "      <td>SVR</td>\n",
       "      <td>0.047734</td>\n",
       "      <td>0.038848</td>\n",
       "      <td>0.031646</td>\n",
       "      <td>0.079000</td>\n",
       "    </tr>\n",
       "    <tr>\n",
       "      <th>2</th>\n",
       "      <td>Decision Tree</td>\n",
       "      <td>0.053375</td>\n",
       "      <td>0.043663</td>\n",
       "      <td>-0.210760</td>\n",
       "      <td>0.143433</td>\n",
       "    </tr>\n",
       "    <tr>\n",
       "      <th>3</th>\n",
       "      <td>Random Forest</td>\n",
       "      <td>0.040151</td>\n",
       "      <td>0.032320</td>\n",
       "      <td>0.314863</td>\n",
       "      <td>4.476046</td>\n",
       "    </tr>\n",
       "    <tr>\n",
       "      <th>4</th>\n",
       "      <td>XGBoost</td>\n",
       "      <td>0.046713</td>\n",
       "      <td>0.038467</td>\n",
       "      <td>0.072632</td>\n",
       "      <td>2.510956</td>\n",
       "    </tr>\n",
       "    <tr>\n",
       "      <th>5</th>\n",
       "      <td>Catboost</td>\n",
       "      <td>0.040016</td>\n",
       "      <td>0.032677</td>\n",
       "      <td>0.319473</td>\n",
       "      <td>55.239744</td>\n",
       "    </tr>\n",
       "    <tr>\n",
       "      <th>6</th>\n",
       "      <td>LightGBM</td>\n",
       "      <td>0.042815</td>\n",
       "      <td>0.034679</td>\n",
       "      <td>0.220956</td>\n",
       "      <td>2.071497</td>\n",
       "    </tr>\n",
       "  </tbody>\n",
       "</table>\n",
       "</div>"
      ],
      "text/plain": [
       "              Method      RSME       MAE        R2       Time\n",
       "0  Linear Regression  0.041151  0.033394  0.280315   0.211999\n",
       "1                SVR  0.047734  0.038848  0.031646   0.079000\n",
       "2      Decision Tree  0.053375  0.043663 -0.210760   0.143433\n",
       "3      Random Forest  0.040151  0.032320  0.314863   4.476046\n",
       "4            XGBoost  0.046713  0.038467  0.072632   2.510956\n",
       "5           Catboost  0.040016  0.032677  0.319473  55.239744\n",
       "6           LightGBM  0.042815  0.034679  0.220956   2.071497"
      ]
     },
     "execution_count": 2,
     "metadata": {},
     "output_type": "execute_result"
    }
   ],
   "source": [
    "import Utils as utils\n",
    "\n",
    "res = utils.timed_eval_models(dfX,y,kf)\n",
    "res"
   ]
  },
  {
   "cell_type": "code",
   "execution_count": 35,
   "metadata": {},
   "outputs": [
    {
     "data": {
      "text/plain": [
       "['Umur',\n",
       " 'Umur Squared',\n",
       " 'APM SMA',\n",
       " 'SMA',\n",
       " 'Pengeluaran Bulanan',\n",
       " 'Indeks Pembangunan Manusia',\n",
       " 'DPT',\n",
       " 'Sentiment',\n",
       " 'Weighted Sentiment']"
      ]
     },
     "execution_count": 35,
     "metadata": {},
     "output_type": "execute_result"
    }
   ],
   "source": [
    "# convert string representation of list to list\n",
    "import ast\n",
    "with open('./Data/test.txt', 'r') as f:\n",
    "    lines = f.readlines()\n",
    "\n",
    "lines = [ast.literal_eval(line) for line in lines]\n"
   ]
  },
  {
   "cell_type": "code",
   "execution_count": 36,
   "metadata": {},
   "outputs": [],
   "source": [
    "import Utils as utils\n",
    "results = []\n",
    "\n",
    "for line in lines:\n",
    "    res = utils.eval_models(dfX[line],y,kf)\n",
    "    results.append(res)\n"
   ]
  },
  {
   "cell_type": "code",
   "execution_count": 37,
   "metadata": {},
   "outputs": [
    {
     "data": {
      "text/plain": [
       "[              Method      RSME       MAE        R2\n",
       " 0  Linear Regression  0.038674  0.031984  0.364365\n",
       " 1                SVR  0.047962  0.039158  0.022366\n",
       " 2      Decision Tree  0.050628  0.040904 -0.089313\n",
       " 3      Random Forest  0.036851  0.029604  0.422864\n",
       " 4            XGBoost  0.041047  0.034247  0.283967\n",
       " 5           Catboost  0.035489  0.029195  0.464729\n",
       " 6           LightGBM  0.038818  0.032098  0.359600,\n",
       "               Method      RSME       MAE        R2\n",
       " 0  Linear Regression  0.037221  0.030639  0.411223\n",
       " 1                SVR  0.048033  0.039287  0.019458\n",
       " 2      Decision Tree  0.050446  0.040281 -0.081498\n",
       " 3      Random Forest  0.037040  0.029700  0.416925\n",
       " 4            XGBoost  0.041158  0.034057  0.280076\n",
       " 5           Catboost  0.036098  0.029472  0.446212\n",
       " 6           LightGBM  0.038998  0.032277  0.353659,\n",
       "               Method      RSME       MAE        R2\n",
       " 0  Linear Regression  0.036570  0.030298  0.431620\n",
       " 1                SVR  0.048027  0.039276  0.019723\n",
       " 2      Decision Tree  0.050877  0.040639 -0.100088\n",
       " 3      Random Forest  0.036925  0.029626  0.420533\n",
       " 4            XGBoost  0.041553  0.034677  0.266200\n",
       " 5           Catboost  0.035612  0.029322  0.461013\n",
       " 6           LightGBM  0.038844  0.032034  0.358744,\n",
       "               Method      RSME       MAE        R2\n",
       " 0  Linear Regression  0.038117  0.031735  0.382536\n",
       " 1                SVR  0.047807  0.038972  0.028660\n",
       " 2      Decision Tree  0.053227  0.042644 -0.204058\n",
       " 3      Random Forest  0.037980  0.030662  0.386954\n",
       " 4            XGBoost  0.044481  0.036289  0.159116\n",
       " 5           Catboost  0.038194  0.030945  0.380043\n",
       " 6           LightGBM  0.039171  0.031576  0.347901,\n",
       "               Method      RSME       MAE        R2\n",
       " 0  Linear Regression  0.037306  0.030742  0.408539\n",
       " 1                SVR  0.047828  0.038969  0.027816\n",
       " 2      Decision Tree  0.053164  0.042267 -0.201194\n",
       " 3      Random Forest  0.037901  0.030310  0.389493\n",
       " 4            XGBoost  0.041876  0.033841  0.254747\n",
       " 5           Catboost  0.037509  0.030504  0.402070\n",
       " 6           LightGBM  0.039592  0.032535  0.333828,\n",
       "               Method      RSME       MAE        R2\n",
       " 0  Linear Regression  0.038536  0.032255  0.368892\n",
       " 1                SVR  0.047839  0.039077  0.027399\n",
       " 2      Decision Tree  0.052731  0.041385 -0.181716\n",
       " 3      Random Forest  0.037487  0.029635  0.402766\n",
       " 4            XGBoost  0.041563  0.032633  0.265851\n",
       " 5           Catboost  0.037094  0.029064  0.415215\n",
       " 6           LightGBM  0.039918  0.032121  0.322816,\n",
       "               Method      RSME       MAE        R2\n",
       " 0  Linear Regression  0.039588  0.033184  0.333948\n",
       " 1                SVR  0.047820  0.038873  0.028171\n",
       " 2      Decision Tree  0.053464  0.043517 -0.214783\n",
       " 3      Random Forest  0.038694  0.031611  0.363698\n",
       " 4            XGBoost  0.043681  0.035869  0.189098\n",
       " 5           Catboost  0.038794  0.032069  0.360405\n",
       " 6           LightGBM  0.040624  0.033900  0.298640,\n",
       "               Method      RSME       MAE        R2\n",
       " 0  Linear Regression  0.037496  0.030883  0.402494\n",
       " 1                SVR  0.047886  0.039190  0.025482\n",
       " 2      Decision Tree  0.053236  0.042635 -0.204451\n",
       " 3      Random Forest  0.037678  0.030035  0.396678\n",
       " 4            XGBoost  0.043185  0.034126  0.207429\n",
       " 5           Catboost  0.038340  0.031066  0.375275\n",
       " 6           LightGBM  0.039714  0.032511  0.329706,\n",
       "               Method      RSME       MAE        R2\n",
       " 0  Linear Regression  0.038879  0.031978  0.357584\n",
       " 1                SVR  0.047894  0.038944  0.025127\n",
       " 2      Decision Tree  0.052262  0.041372 -0.160792\n",
       " 3      Random Forest  0.038291  0.030663  0.376889\n",
       " 4            XGBoost  0.043236  0.034466  0.205529\n",
       " 5           Catboost  0.038489  0.031374  0.370410\n",
       " 6           LightGBM  0.039823  0.031252  0.326017,\n",
       "               Method      RSME       MAE        R2\n",
       " 0  Linear Regression  0.041228  0.033942  0.277606\n",
       " 1                SVR  0.047778  0.038874  0.029878\n",
       " 2      Decision Tree  0.054832  0.044115 -0.277735\n",
       " 3      Random Forest  0.040229  0.032315  0.312221\n",
       " 4            XGBoost  0.047371  0.038466  0.046310\n",
       " 5           Catboost  0.040801  0.033052  0.292514\n",
       " 6           LightGBM  0.043462  0.035406  0.197231,\n",
       "               Method      RSME       MAE        R2\n",
       " 0  Linear Regression  0.039141  0.031811  0.348910\n",
       " 1                SVR  0.047801  0.038946  0.028926\n",
       " 2      Decision Tree  0.052000  0.041955 -0.149196\n",
       " 3      Random Forest  0.038933  0.031559  0.355802\n",
       " 4            XGBoost  0.042992  0.034451  0.214477\n",
       " 5           Catboost  0.038181  0.031396  0.380450\n",
       " 6           LightGBM  0.041202  0.033483  0.278520,\n",
       "               Method      RSME       MAE        R2\n",
       " 0  Linear Regression  0.039509  0.033334  0.336611\n",
       " 1                SVR  0.047767  0.038898  0.030298\n",
       " 2      Decision Tree  0.054206  0.044069 -0.248748\n",
       " 3      Random Forest  0.040361  0.032719  0.307683\n",
       " 4            XGBoost  0.043048  0.035846  0.212448\n",
       " 5           Catboost  0.039957  0.033380  0.321491\n",
       " 6           LightGBM  0.042786  0.035469  0.222009]"
      ]
     },
     "execution_count": 37,
     "metadata": {},
     "output_type": "execute_result"
    }
   ],
   "source": [
    "results"
   ]
  },
  {
   "cell_type": "code",
   "execution_count": 48,
   "metadata": {},
   "outputs": [],
   "source": [
    "\n",
    "count = 1\n",
    "\n",
    "with pd.ExcelWriter('Res.xlsx') as writer:\n",
    "    for res in results:\n",
    "        res.to_excel(writer, sheet_name='Sheet'+str(count))\n",
    "        count += 1\n",
    "# writer.save()"
   ]
  }
 ],
 "metadata": {
  "kernelspec": {
   "display_name": "Python 3",
   "language": "python",
   "name": "python3"
  },
  "language_info": {
   "codemirror_mode": {
    "name": "ipython",
    "version": 3
   },
   "file_extension": ".py",
   "mimetype": "text/x-python",
   "name": "python",
   "nbconvert_exporter": "python",
   "pygments_lexer": "ipython3",
   "version": "3.10.4"
  },
  "orig_nbformat": 4
 },
 "nbformat": 4,
 "nbformat_minor": 2
}
