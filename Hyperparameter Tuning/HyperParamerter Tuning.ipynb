{
 "cells": [
  {
   "cell_type": "code",
   "execution_count": 2,
   "metadata": {},
   "outputs": [],
   "source": [
    "import pandas as pd \n",
    "from sklearn.preprocessing import MinMaxScaler\n",
    "from sklearn.model_selection import train_test_split\n",
    "from sklearn.model_selection import RepeatedKFold\n",
    "\n",
    "df = pd.read_csv('Data/Dataset.csv', decimal =\".\", thousands=\",\")\n",
    "df = df.drop(['Kota','Paslon 1','Paslon 2','Total'],axis=1)\n",
    "\n",
    "scaler = MinMaxScaler()\n",
    "\n",
    "df_minmax = pd.DataFrame(scaler.fit_transform(df.values), columns=df.columns, index=df.index)\n",
    "dfX, dfY = df_minmax.iloc[:, :-1], df_minmax.iloc[:, [-1]]\n",
    "kf = RepeatedKFold(n_splits=10, n_repeats = 3 , random_state=1)\n",
    "kf.get_n_splits(dfX)\n",
    "y = df['Partisipasi']\n",
    "\n",
    "\n",
    "def beep():\n",
    "    import IPython\n",
    "    IPython.display.Audio(\"beep.mp3\", autoplay=True)\n",
    "\n",
    "def flatten(l):\n",
    "    return [item for sublist in l for item in sublist]"
   ]
  },
  {
   "cell_type": "code",
   "execution_count": 7,
   "metadata": {},
   "outputs": [
    {
     "name": "stderr",
     "output_type": "stream",
     "text": [
      "[I 2023-06-07 20:12:20,347] A new study created in memory with name: no-name-1f5096c1-7af5-48ed-a82d-ebf1bc8438f1\n",
      "C:\\Users\\Bayu Adjie Sidharta\\AppData\\Local\\Temp\\ipykernel_32688\\3008741279.py:33: ExperimentalWarning: CatBoostPruningCallback is experimental (supported from v3.0.0). The interface can change in the future.\n",
      "  pruning_callback = optuna.integration.CatBoostPruningCallback(trial, \"RMSE\")\n"
     ]
    },
    {
     "name": "stdout",
     "output_type": "stream",
     "text": [
      "Learning rate set to 0.032991\n",
      "0:\tlearn: 0.0480222\ttest: 0.0526873\tbest: 0.0526873 (0)\ttotal: 2.35ms\tremaining: 2.35s\n",
      "500:\tlearn: 0.0352131\ttest: 0.0473180\tbest: 0.0473180 (500)\ttotal: 579ms\tremaining: 576ms\n"
     ]
    },
    {
     "name": "stderr",
     "output_type": "stream",
     "text": [
      "[I 2023-06-07 20:12:22,229] Trial 0 finished with value: 0.0349815838846568 and parameters: {'objective': 'RMSE', 'colsample_bylevel': 0.019294785961930627, 'depth': 6, 'boosting_type': 'Ordered', 'bootstrap_type': 'Bayesian', 'bagging_temperature': 4.6044011355658085}. Best is trial 0 with value: 0.0349815838846568.\n"
     ]
    },
    {
     "name": "stdout",
     "output_type": "stream",
     "text": [
      "Stopped by overfitting detector  (100 iterations wait)\n",
      "\n",
      "bestTest = 0.04686541213\n",
      "bestIteration = 596\n",
      "\n",
      "Shrink model to first 597 iterations.\n",
      "('Catboost', 0.0349815838846568, 0.027204473841132337, 0.4295501324368346)\n",
      "Learning rate set to 0.032991\n",
      "0:\tlearn: 0.0491757\ttest: 0.0445211\tbest: 0.0445211 (0)\ttotal: 249us\tremaining: 249ms\n"
     ]
    },
    {
     "name": "stderr",
     "output_type": "stream",
     "text": [
      "C:\\Users\\Bayu Adjie Sidharta\\AppData\\Local\\Temp\\ipykernel_32688\\3008741279.py:33: ExperimentalWarning: CatBoostPruningCallback is experimental (supported from v3.0.0). The interface can change in the future.\n",
      "  pruning_callback = optuna.integration.CatBoostPruningCallback(trial, \"RMSE\")\n"
     ]
    },
    {
     "name": "stdout",
     "output_type": "stream",
     "text": [
      "500:\tlearn: 0.0322074\ttest: 0.0356184\tbest: 0.0355469 (476)\ttotal: 111ms\tremaining: 110ms\n"
     ]
    },
    {
     "name": "stderr",
     "output_type": "stream",
     "text": [
      "[I 2023-06-07 20:12:24,056] Trial 1 finished with value: 0.04388894224343549 and parameters: {'objective': 'RMSE', 'colsample_bylevel': 0.01963944856240657, 'depth': 7, 'boosting_type': 'Plain', 'bootstrap_type': 'Bernoulli', 'subsample': 0.3167168268977043}. Best is trial 0 with value: 0.0349815838846568.\n"
     ]
    },
    {
     "name": "stdout",
     "output_type": "stream",
     "text": [
      "Stopped by overfitting detector  (100 iterations wait)\n",
      "\n",
      "bestTest = 0.03381543904\n",
      "bestIteration = 822\n",
      "\n",
      "Shrink model to first 823 iterations.\n",
      "('Catboost', 0.04388894224343549, 0.03892649273438394, 0.23679946805274021)\n",
      "Learning rate set to 0.032991\n",
      "0:\tlearn: 0.0468309\ttest: 0.0449228\tbest: 0.0449228 (0)\ttotal: 6ms\tremaining: 6s\n"
     ]
    },
    {
     "name": "stderr",
     "output_type": "stream",
     "text": [
      "C:\\Users\\Bayu Adjie Sidharta\\AppData\\Local\\Temp\\ipykernel_32688\\3008741279.py:33: ExperimentalWarning: CatBoostPruningCallback is experimental (supported from v3.0.0). The interface can change in the future.\n",
      "  pruning_callback = optuna.integration.CatBoostPruningCallback(trial, \"RMSE\")\n",
      "[I 2023-06-07 20:12:26,265] Trial 2 finished with value: 0.044715973279318484 and parameters: {'objective': 'RMSE', 'colsample_bylevel': 0.06995412897307672, 'depth': 11, 'boosting_type': 'Ordered', 'bootstrap_type': 'MVS'}. Best is trial 0 with value: 0.0349815838846568.\n"
     ]
    },
    {
     "name": "stdout",
     "output_type": "stream",
     "text": [
      "Stopped by overfitting detector  (100 iterations wait)\n",
      "\n",
      "bestTest = 0.03663033953\n",
      "bestIteration = 271\n",
      "\n",
      "Shrink model to first 272 iterations.\n",
      "('Catboost', 0.044715973279318484, 0.037193473324274084, 0.3400660383260722)\n",
      "Learning rate set to 0.032991\n",
      "0:\tlearn: 0.0469066\ttest: 0.0511806\tbest: 0.0511806 (0)\ttotal: 1.21ms\tremaining: 1.21s\n"
     ]
    },
    {
     "name": "stderr",
     "output_type": "stream",
     "text": [
      "C:\\Users\\Bayu Adjie Sidharta\\AppData\\Local\\Temp\\ipykernel_32688\\3008741279.py:33: ExperimentalWarning: CatBoostPruningCallback is experimental (supported from v3.0.0). The interface can change in the future.\n",
      "  pruning_callback = optuna.integration.CatBoostPruningCallback(trial, \"RMSE\")\n"
     ]
    },
    {
     "name": "stdout",
     "output_type": "stream",
     "text": [
      "500:\tlearn: 0.0137702\ttest: 0.0381150\tbest: 0.0381150 (500)\ttotal: 317ms\tremaining: 315ms\n"
     ]
    },
    {
     "name": "stderr",
     "output_type": "stream",
     "text": [
      "[I 2023-06-07 20:12:28,476] Trial 3 finished with value: 0.04087864500088105 and parameters: {'objective': 'RMSE', 'colsample_bylevel': 0.06240098761259884, 'depth': 7, 'boosting_type': 'Plain', 'bootstrap_type': 'Bernoulli', 'subsample': 0.14374365063187686}. Best is trial 0 with value: 0.0349815838846568.\n"
     ]
    },
    {
     "name": "stdout",
     "output_type": "stream",
     "text": [
      "Stopped by overfitting detector  (100 iterations wait)\n",
      "\n",
      "bestTest = 0.03742691549\n",
      "bestIteration = 857\n",
      "\n",
      "Shrink model to first 858 iterations.\n",
      "('Catboost', 0.04087864500088105, 0.032604605964705956, 0.27540672839229474)\n",
      "Learning rate set to 0.032991\n",
      "0:\tlearn: 0.0501196\ttest: 0.0407744\tbest: 0.0407744 (0)\ttotal: 543us\tremaining: 543ms\n"
     ]
    },
    {
     "name": "stderr",
     "output_type": "stream",
     "text": [
      "C:\\Users\\Bayu Adjie Sidharta\\AppData\\Local\\Temp\\ipykernel_32688\\3008741279.py:33: ExperimentalWarning: CatBoostPruningCallback is experimental (supported from v3.0.0). The interface can change in the future.\n",
      "  pruning_callback = optuna.integration.CatBoostPruningCallback(trial, \"RMSE\")\n",
      "[I 2023-06-07 20:12:29,551] Trial 4 finished with value: 0.03981095379961922 and parameters: {'objective': 'RMSE', 'colsample_bylevel': 0.06505397670618852, 'depth': 4, 'boosting_type': 'Plain', 'bootstrap_type': 'Bernoulli', 'subsample': 0.36776856836508587}. Best is trial 0 with value: 0.0349815838846568.\n"
     ]
    },
    {
     "name": "stdout",
     "output_type": "stream",
     "text": [
      "500:\tlearn: 0.0188225\ttest: 0.0284757\tbest: 0.0284611 (435)\ttotal: 261ms\tremaining: 260ms\n",
      "Stopped by overfitting detector  (100 iterations wait)\n",
      "\n",
      "bestTest = 0.02846109937\n",
      "bestIteration = 435\n",
      "\n",
      "Shrink model to first 436 iterations.\n",
      "('Catboost', 0.03981095379961922, 0.030669424675023503, 0.31081574992191174)\n",
      "Learning rate set to 0.032991\n",
      "0:\tlearn: 0.0485112\ttest: 0.0440313\tbest: 0.0440313 (0)\ttotal: 1.41ms\tremaining: 1.41s\n"
     ]
    },
    {
     "name": "stderr",
     "output_type": "stream",
     "text": [
      "C:\\Users\\Bayu Adjie Sidharta\\AppData\\Local\\Temp\\ipykernel_32688\\3008741279.py:33: ExperimentalWarning: CatBoostPruningCallback is experimental (supported from v3.0.0). The interface can change in the future.\n",
      "  pruning_callback = optuna.integration.CatBoostPruningCallback(trial, \"RMSE\")\n",
      "[I 2023-06-07 20:12:29,699] Trial 5 pruned. Trial was pruned at iteration 39.\n",
      "[I 2023-06-07 20:12:29,757] Trial 6 pruned. Trial was pruned at iteration 10.\n",
      "[I 2023-06-07 20:12:29,823] Trial 7 pruned. Trial was pruned at iteration 10.\n"
     ]
    },
    {
     "name": "stdout",
     "output_type": "stream",
     "text": [
      "\n",
      "bestTest = 0.04258461055\n",
      "bestIteration = 37\n",
      "\n",
      "Shrink model to first 38 iterations.\n",
      "Learning rate set to 0.032991\n",
      "0:\tlearn: 0.0484210\ttest: 0.0578228\tbest: 0.0578228 (0)\ttotal: 352us\tremaining: 352ms\n",
      "\n",
      "bestTest = 0.0568419763\n",
      "bestIteration = 10\n",
      "\n",
      "Shrink model to first 11 iterations.\n",
      "Learning rate set to 0.032991\n",
      "0:\tlearn: 0.0459391\ttest: 0.0603960\tbest: 0.0603960 (0)\ttotal: 949us\tremaining: 948ms\n",
      "\n",
      "bestTest = 0.05911193028\n",
      "bestIteration = 10\n",
      "\n",
      "Shrink model to first 11 iterations.\n",
      "Learning rate set to 0.032991\n",
      "0:\tlearn: 0.0516369\ttest: 0.0477992\tbest: 0.0477992 (0)\ttotal: 1.22ms\tremaining: 1.22s\n",
      "\n",
      "bestTest = 0.04760009433\n",
      "bestIteration = 10\n",
      "\n",
      "Shrink model to first 11 iterations.\n"
     ]
    },
    {
     "name": "stderr",
     "output_type": "stream",
     "text": [
      "[I 2023-06-07 20:12:29,891] Trial 8 pruned. Trial was pruned at iteration 10.\n",
      "[I 2023-06-07 20:12:30,000] Trial 9 pruned. Trial was pruned at iteration 21.\n"
     ]
    },
    {
     "name": "stdout",
     "output_type": "stream",
     "text": [
      "Learning rate set to 0.032991\n",
      "0:\tlearn: 0.0439325\ttest: 0.0441419\tbest: 0.0441419 (0)\ttotal: 1.21ms\tremaining: 1.21s\n",
      "\n",
      "bestTest = 0.04383620437\n",
      "bestIteration = 21\n",
      "\n",
      "Shrink model to first 22 iterations.\n",
      "Learning rate set to 0.032991\n",
      "0:\tlearn: 0.0498080\ttest: 0.0381625\tbest: 0.0381625 (0)\ttotal: 3.92ms\tremaining: 3.91s\n",
      "500:\tlearn: 0.0424810\ttest: 0.0301237\tbest: 0.0301237 (500)\ttotal: 566ms\tremaining: 563ms\n"
     ]
    },
    {
     "name": "stderr",
     "output_type": "stream",
     "text": [
      "[I 2023-06-07 20:12:33,594] Trial 10 finished with value: 0.04360800310706779 and parameters: {'objective': 'RMSE', 'colsample_bylevel': 0.010030108200589447, 'depth': 9, 'boosting_type': 'Ordered', 'bootstrap_type': 'Bayesian', 'bagging_temperature': 9.78908269016841}. Best is trial 0 with value: 0.0349815838846568.\n"
     ]
    },
    {
     "name": "stdout",
     "output_type": "stream",
     "text": [
      "999:\tlearn: 0.0380534\ttest: 0.0275655\tbest: 0.0275454 (947)\ttotal: 1.14s\tremaining: 0us\n",
      "\n",
      "bestTest = 0.02754540111\n",
      "bestIteration = 947\n",
      "\n",
      "Shrink model to first 948 iterations.\n",
      "('Catboost', 0.04360800310706779, 0.03599348457717497, 0.31137453609701204)\n",
      "Learning rate set to 0.032991\n",
      "0:\tlearn: 0.0478574\ttest: 0.0372229\tbest: 0.0372229 (0)\ttotal: 205us\tremaining: 206ms\n"
     ]
    },
    {
     "name": "stderr",
     "output_type": "stream",
     "text": [
      "C:\\Users\\Bayu Adjie Sidharta\\AppData\\Local\\Temp\\ipykernel_32688\\3008741279.py:33: ExperimentalWarning: CatBoostPruningCallback is experimental (supported from v3.0.0). The interface can change in the future.\n",
      "  pruning_callback = optuna.integration.CatBoostPruningCallback(trial, \"RMSE\")\n",
      "[I 2023-06-07 20:12:34,086] Trial 11 finished with value: 0.04844227042657443 and parameters: {'objective': 'RMSE', 'colsample_bylevel': 0.03392717641182594, 'depth': 4, 'boosting_type': 'Plain', 'bootstrap_type': 'Bernoulli', 'subsample': 0.9584768917996317}. Best is trial 0 with value: 0.0349815838846568.\n",
      "C:\\Users\\Bayu Adjie Sidharta\\AppData\\Local\\Temp\\ipykernel_32688\\3008741279.py:33: ExperimentalWarning: CatBoostPruningCallback is experimental (supported from v3.0.0). The interface can change in the future.\n",
      "  pruning_callback = optuna.integration.CatBoostPruningCallback(trial, \"RMSE\")\n",
      "[I 2023-06-07 20:12:34,168] Trial 12 pruned. Trial was pruned at iteration 10.\n"
     ]
    },
    {
     "name": "stdout",
     "output_type": "stream",
     "text": [
      "Stopped by overfitting detector  (100 iterations wait)\n",
      "\n",
      "bestTest = 0.03182696143\n",
      "bestIteration = 173\n",
      "\n",
      "Shrink model to first 174 iterations.\n",
      "('Catboost', 0.04844227042657443, 0.04088448850762006, 0.28941534242537015)\n",
      "Learning rate set to 0.032991\n",
      "0:\tlearn: 0.0483076\ttest: 0.0534578\tbest: 0.0534578 (0)\ttotal: 329us\tremaining: 330ms\n",
      "\n",
      "bestTest = 0.05267083322\n",
      "bestIteration = 10\n",
      "\n",
      "Shrink model to first 11 iterations.\n",
      "Learning rate set to 0.032991\n",
      "0:\tlearn: 0.0476253\ttest: 0.0488992\tbest: 0.0488992 (0)\ttotal: 1.85ms\tremaining: 1.85s\n",
      "\n",
      "bestTest = 0.0479902286\n",
      "bestIteration = 10\n",
      "\n",
      "Shrink model to first 11 iterations.\n"
     ]
    },
    {
     "name": "stderr",
     "output_type": "stream",
     "text": [
      "[I 2023-06-07 20:12:34,265] Trial 13 pruned. Trial was pruned at iteration 10.\n",
      "[I 2023-06-07 20:12:34,358] Trial 14 pruned. Trial was pruned at iteration 10.\n",
      "[I 2023-06-07 20:12:34,439] Trial 15 pruned. Trial was pruned at iteration 10.\n"
     ]
    },
    {
     "name": "stdout",
     "output_type": "stream",
     "text": [
      "Learning rate set to 0.032991\n",
      "0:\tlearn: 0.0461547\ttest: 0.0531790\tbest: 0.0531790 (0)\ttotal: 1.02ms\tremaining: 1.02s\n",
      "\n",
      "bestTest = 0.05149391879\n",
      "bestIteration = 10\n",
      "\n",
      "Shrink model to first 11 iterations.\n",
      "Learning rate set to 0.032991\n",
      "0:\tlearn: 0.0452820\ttest: 0.0572792\tbest: 0.0572792 (0)\ttotal: 756us\tremaining: 755ms\n",
      "\n",
      "bestTest = 0.0551351239\n",
      "bestIteration = 10\n",
      "\n",
      "Shrink model to first 11 iterations.\n",
      "Learning rate set to 0.032991\n",
      "0:\tlearn: 0.0531153\ttest: 0.0449271\tbest: 0.0449271 (0)\ttotal: 201us\tremaining: 202ms\n",
      "\n",
      "bestTest = 0.04473025802\n",
      "bestIteration = 9\n",
      "\n",
      "Shrink model to first 10 iterations.\n"
     ]
    },
    {
     "name": "stderr",
     "output_type": "stream",
     "text": [
      "[I 2023-06-07 20:12:34,525] Trial 16 pruned. Trial was pruned at iteration 10.\n",
      "[I 2023-06-07 20:12:34,621] Trial 17 pruned. Trial was pruned at iteration 10.\n",
      "[I 2023-06-07 20:12:34,701] Trial 18 pruned. Trial was pruned at iteration 10.\n"
     ]
    },
    {
     "name": "stdout",
     "output_type": "stream",
     "text": [
      "Learning rate set to 0.032991\n",
      "0:\tlearn: 0.0478897\ttest: 0.0467908\tbest: 0.0467908 (0)\ttotal: 1.27ms\tremaining: 1.27s\n",
      "\n",
      "bestTest = 0.04627975821\n",
      "bestIteration = 10\n",
      "\n",
      "Shrink model to first 11 iterations.\n",
      "Learning rate set to 0.032991\n",
      "0:\tlearn: 0.0476088\ttest: 0.0537500\tbest: 0.0537500 (0)\ttotal: 400us\tremaining: 400ms\n",
      "\n",
      "bestTest = 0.05232895633\n",
      "bestIteration = 10\n",
      "\n",
      "Shrink model to first 11 iterations.\n",
      "Learning rate set to 0.032991\n",
      "0:\tlearn: 0.0457582\ttest: 0.0538639\tbest: 0.0538639 (0)\ttotal: 1.18ms\tremaining: 1.18s\n",
      "\n",
      "bestTest = 0.05305792277\n",
      "bestIteration = 10\n",
      "\n",
      "Shrink model to first 11 iterations.\n"
     ]
    },
    {
     "name": "stderr",
     "output_type": "stream",
     "text": [
      "[I 2023-06-07 20:12:34,782] Trial 19 pruned. Trial was pruned at iteration 10.\n",
      "[I 2023-06-07 20:12:34,868] Trial 20 pruned. Trial was pruned at iteration 10.\n"
     ]
    },
    {
     "name": "stdout",
     "output_type": "stream",
     "text": [
      "Learning rate set to 0.032991\n",
      "0:\tlearn: 0.0478581\ttest: 0.0475956\tbest: 0.0475956 (0)\ttotal: 1.18ms\tremaining: 1.18s\n",
      "\n",
      "bestTest = 0.04700926064\n",
      "bestIteration = 5\n",
      "\n",
      "Shrink model to first 6 iterations.\n",
      "Learning rate set to 0.032991\n",
      "0:\tlearn: 0.0502881\ttest: 0.0409247\tbest: 0.0409247 (0)\ttotal: 1.32ms\tremaining: 1.32s\n"
     ]
    },
    {
     "name": "stderr",
     "output_type": "stream",
     "text": [
      "[I 2023-06-07 20:12:35,879] Trial 21 finished with value: 0.0396582090631114 and parameters: {'objective': 'RMSE', 'colsample_bylevel': 0.057397531021142374, 'depth': 8, 'boosting_type': 'Plain', 'bootstrap_type': 'Bernoulli', 'subsample': 0.11222986138789078}. Best is trial 0 with value: 0.0349815838846568.\n",
      "C:\\Users\\Bayu Adjie Sidharta\\AppData\\Local\\Temp\\ipykernel_32688\\3008741279.py:33: ExperimentalWarning: CatBoostPruningCallback is experimental (supported from v3.0.0). The interface can change in the future.\n",
      "  pruning_callback = optuna.integration.CatBoostPruningCallback(trial, \"RMSE\")\n",
      "[I 2023-06-07 20:12:35,960] Trial 22 pruned. Trial was pruned at iteration 10.\n"
     ]
    },
    {
     "name": "stdout",
     "output_type": "stream",
     "text": [
      "Stopped by overfitting detector  (100 iterations wait)\n",
      "\n",
      "bestTest = 0.02940659656\n",
      "bestIteration = 397\n",
      "\n",
      "Shrink model to first 398 iterations.\n",
      "('Catboost', 0.0396582090631114, 0.0322978522868402, 0.2796696758559961)\n",
      "Learning rate set to 0.032991\n",
      "0:\tlearn: 0.0466392\ttest: 0.0546537\tbest: 0.0546537 (0)\ttotal: 628us\tremaining: 628ms\n",
      "\n",
      "bestTest = 0.05312171918\n",
      "bestIteration = 10\n",
      "\n",
      "Shrink model to first 11 iterations.\n",
      "Learning rate set to 0.032991\n",
      "0:\tlearn: 0.0520393\ttest: 0.0356312\tbest: 0.0356312 (0)\ttotal: 893us\tremaining: 893ms\n"
     ]
    },
    {
     "name": "stderr",
     "output_type": "stream",
     "text": [
      "[I 2023-06-07 20:12:36,282] Trial 23 finished with value: 0.03836162733992323 and parameters: {'objective': 'RMSE', 'colsample_bylevel': 0.07738091991236123, 'depth': 6, 'boosting_type': 'Plain', 'bootstrap_type': 'Bernoulli', 'subsample': 0.22584244788266333}. Best is trial 0 with value: 0.0349815838846568.\n",
      "C:\\Users\\Bayu Adjie Sidharta\\AppData\\Local\\Temp\\ipykernel_32688\\3008741279.py:33: ExperimentalWarning: CatBoostPruningCallback is experimental (supported from v3.0.0). The interface can change in the future.\n",
      "  pruning_callback = optuna.integration.CatBoostPruningCallback(trial, \"RMSE\")\n",
      "[I 2023-06-07 20:12:36,396] Trial 24 pruned. Trial was pruned at iteration 10.\n"
     ]
    },
    {
     "name": "stdout",
     "output_type": "stream",
     "text": [
      "Stopped by overfitting detector  (100 iterations wait)\n",
      "\n",
      "bestTest = 0.03181781317\n",
      "bestIteration = 68\n",
      "\n",
      "Shrink model to first 69 iterations.\n",
      "('Catboost', 0.03836162733992323, 0.0312533729194585, 0.33859159341494016)\n",
      "Learning rate set to 0.032991\n",
      "0:\tlearn: 0.0438401\ttest: 0.0567082\tbest: 0.0567082 (0)\ttotal: 6.24ms\tremaining: 6.24s\n",
      "\n",
      "bestTest = 0.0555258163\n",
      "bestIteration = 10\n",
      "\n",
      "Shrink model to first 11 iterations.\n",
      "Learning rate set to 0.032991\n",
      "0:\tlearn: 0.0474724\ttest: 0.0544478\tbest: 0.0544478 (0)\ttotal: 352us\tremaining: 352ms\n",
      "\n",
      "bestTest = 0.053329979\n",
      "bestIteration = 10\n",
      "\n",
      "Shrink model to first 11 iterations.\n"
     ]
    },
    {
     "name": "stderr",
     "output_type": "stream",
     "text": [
      "[I 2023-06-07 20:12:36,476] Trial 25 pruned. Trial was pruned at iteration 10.\n"
     ]
    },
    {
     "name": "stdout",
     "output_type": "stream",
     "text": [
      "Learning rate set to 0.032991\n",
      "0:\tlearn: 0.0477155\ttest: 0.0380940\tbest: 0.0380940 (0)\ttotal: 1.24ms\tremaining: 1.24s\n"
     ]
    },
    {
     "name": "stderr",
     "output_type": "stream",
     "text": [
      "[I 2023-06-07 20:12:37,451] Trial 26 finished with value: 0.04700466708387599 and parameters: {'objective': 'RMSE', 'colsample_bylevel': 0.08164152487810865, 'depth': 8, 'boosting_type': 'Plain', 'bootstrap_type': 'Bernoulli', 'subsample': 0.10133485845120119}. Best is trial 0 with value: 0.0349815838846568.\n",
      "C:\\Users\\Bayu Adjie Sidharta\\AppData\\Local\\Temp\\ipykernel_32688\\3008741279.py:33: ExperimentalWarning: CatBoostPruningCallback is experimental (supported from v3.0.0). The interface can change in the future.\n",
      "  pruning_callback = optuna.integration.CatBoostPruningCallback(trial, \"RMSE\")\n",
      "[I 2023-06-07 20:12:37,526] Trial 27 pruned. Trial was pruned at iteration 10.\n",
      "[I 2023-06-07 20:12:37,611] Trial 28 pruned. Trial was pruned at iteration 10.\n"
     ]
    },
    {
     "name": "stdout",
     "output_type": "stream",
     "text": [
      "Stopped by overfitting detector  (100 iterations wait)\n",
      "\n",
      "bestTest = 0.02698106508\n",
      "bestIteration = 289\n",
      "\n",
      "Shrink model to first 290 iterations.\n",
      "('Catboost', 0.04700466708387599, 0.040251129084795646, 0.29539365679659246)\n",
      "Learning rate set to 0.032991\n",
      "0:\tlearn: 0.0444746\ttest: 0.0401415\tbest: 0.0401415 (0)\ttotal: 585us\tremaining: 585ms\n",
      "\n",
      "bestTest = 0.03955141287\n",
      "bestIteration = 9\n",
      "\n",
      "Shrink model to first 10 iterations.\n",
      "Learning rate set to 0.032991\n",
      "0:\tlearn: 0.0467072\ttest: 0.0499611\tbest: 0.0499611 (0)\ttotal: 1.3ms\tremaining: 1.3s\n",
      "\n",
      "bestTest = 0.04968424318\n",
      "bestIteration = 10\n",
      "\n",
      "Shrink model to first 11 iterations.\n"
     ]
    },
    {
     "name": "stderr",
     "output_type": "stream",
     "text": [
      "[I 2023-06-07 20:12:37,701] Trial 29 pruned. Trial was pruned at iteration 10.\n",
      "[I 2023-06-07 20:12:37,784] Trial 30 pruned. Trial was pruned at iteration 10.\n"
     ]
    },
    {
     "name": "stdout",
     "output_type": "stream",
     "text": [
      "Learning rate set to 0.032991\n",
      "0:\tlearn: 0.0453814\ttest: 0.0553588\tbest: 0.0553588 (0)\ttotal: 361us\tremaining: 361ms\n",
      "\n",
      "bestTest = 0.05423310026\n",
      "bestIteration = 10\n",
      "\n",
      "Shrink model to first 11 iterations.\n",
      "Learning rate set to 0.032991\n",
      "0:\tlearn: 0.0461476\ttest: 0.0574518\tbest: 0.0574518 (0)\ttotal: 1.47ms\tremaining: 1.47s\n",
      "\n",
      "bestTest = 0.0568778674\n",
      "bestIteration = 10\n",
      "\n",
      "Shrink model to first 11 iterations.\n",
      "Learning rate set to 0.032991\n",
      "0:\tlearn: 0.0464233\ttest: 0.0547011\tbest: 0.0547011 (0)\ttotal: 641us\tremaining: 641ms\n",
      "\n",
      "bestTest = 0.05416916069\n",
      "bestIteration = 10\n",
      "\n",
      "Shrink model to first 11 iterations.\n"
     ]
    },
    {
     "name": "stderr",
     "output_type": "stream",
     "text": [
      "[I 2023-06-07 20:12:37,871] Trial 31 pruned. Trial was pruned at iteration 10.\n",
      "[I 2023-06-07 20:12:37,963] Trial 32 pruned. Trial was pruned at iteration 10.\n",
      "[I 2023-06-07 20:12:38,042] Trial 33 pruned. Trial was pruned at iteration 10.\n",
      "[I 2023-06-07 20:12:38,124] Trial 34 pruned. Trial was pruned at iteration 10.\n"
     ]
    },
    {
     "name": "stdout",
     "output_type": "stream",
     "text": [
      "Learning rate set to 0.032991\n",
      "0:\tlearn: 0.0462900\ttest: 0.0420695\tbest: 0.0420695 (0)\ttotal: 670us\tremaining: 670ms\n",
      "\n",
      "bestTest = 0.04125491917\n",
      "bestIteration = 9\n",
      "\n",
      "Shrink model to first 10 iterations.\n",
      "Learning rate set to 0.032991\n",
      "0:\tlearn: 0.0461198\ttest: 0.0527037\tbest: 0.0527037 (0)\ttotal: 972us\tremaining: 972ms\n",
      "\n",
      "bestTest = 0.05046471152\n",
      "bestIteration = 10\n",
      "\n",
      "Shrink model to first 11 iterations.\n",
      "Learning rate set to 0.032991\n",
      "0:\tlearn: 0.0454381\ttest: 0.0536745\tbest: 0.0536745 (0)\ttotal: 448us\tremaining: 449ms\n",
      "\n",
      "bestTest = 0.05187722789\n",
      "bestIteration = 10\n",
      "\n",
      "Shrink model to first 11 iterations.\n"
     ]
    },
    {
     "name": "stderr",
     "output_type": "stream",
     "text": [
      "[I 2023-06-07 20:12:38,211] Trial 35 pruned. Trial was pruned at iteration 10.\n",
      "[I 2023-06-07 20:12:38,287] Trial 36 pruned. Trial was pruned at iteration 10.\n"
     ]
    },
    {
     "name": "stdout",
     "output_type": "stream",
     "text": [
      "Learning rate set to 0.032991\n",
      "0:\tlearn: 0.0511379\ttest: 0.0483350\tbest: 0.0483350 (0)\ttotal: 1.55ms\tremaining: 1.55s\n",
      "\n",
      "bestTest = 0.04642114225\n",
      "bestIteration = 10\n",
      "\n",
      "Shrink model to first 11 iterations.\n",
      "Learning rate set to 0.032991\n",
      "0:\tlearn: 0.0438926\ttest: 0.0578705\tbest: 0.0578705 (0)\ttotal: 368us\tremaining: 368ms\n",
      "\n",
      "bestTest = 0.05609147293\n",
      "bestIteration = 10\n",
      "\n",
      "Shrink model to first 11 iterations.\n",
      "Learning rate set to 0.032991\n",
      "0:\tlearn: 0.0475684\ttest: 0.0468506\tbest: 0.0468506 (0)\ttotal: 1.67ms\tremaining: 1.67s\n",
      "\n",
      "bestTest = 0.0464574213\n",
      "bestIteration = 6\n",
      "\n",
      "Shrink model to first 7 iterations.\n"
     ]
    },
    {
     "name": "stderr",
     "output_type": "stream",
     "text": [
      "[I 2023-06-07 20:12:38,385] Trial 37 pruned. Trial was pruned at iteration 10.\n",
      "[I 2023-06-07 20:12:38,469] Trial 38 pruned. Trial was pruned at iteration 10.\n",
      "[I 2023-06-07 20:12:38,632] Trial 39 pruned. Trial was pruned at iteration 10.\n"
     ]
    },
    {
     "name": "stdout",
     "output_type": "stream",
     "text": [
      "Learning rate set to 0.032991\n",
      "0:\tlearn: 0.0496466\ttest: 0.0525855\tbest: 0.0525855 (0)\ttotal: 241us\tremaining: 241ms\n",
      "\n",
      "bestTest = 0.05165678014\n",
      "bestIteration = 10\n",
      "\n",
      "Shrink model to first 11 iterations.\n",
      "Learning rate set to 0.032991\n",
      "0:\tlearn: 0.0503021\ttest: 0.0462733\tbest: 0.0462733 (0)\ttotal: 1.62ms\tremaining: 1.62s\n",
      "\n",
      "bestTest = 0.04509384852\n",
      "bestIteration = 9\n",
      "\n",
      "Shrink model to first 10 iterations.\n"
     ]
    },
    {
     "name": "stderr",
     "output_type": "stream",
     "text": [
      "[I 2023-06-07 20:12:38,720] Trial 40 pruned. Trial was pruned at iteration 10.\n",
      "[I 2023-06-07 20:12:38,801] Trial 41 pruned. Trial was pruned at iteration 10.\n",
      "[I 2023-06-07 20:12:38,879] Trial 42 pruned. Trial was pruned at iteration 10.\n"
     ]
    },
    {
     "name": "stdout",
     "output_type": "stream",
     "text": [
      "Learning rate set to 0.032991\n",
      "0:\tlearn: 0.0524591\ttest: 0.0410299\tbest: 0.0410299 (0)\ttotal: 438us\tremaining: 438ms\n",
      "\n",
      "bestTest = 0.03987282144\n",
      "bestIteration = 10\n",
      "\n",
      "Shrink model to first 11 iterations.\n",
      "Learning rate set to 0.032991\n",
      "0:\tlearn: 0.0427220\ttest: 0.0619425\tbest: 0.0619425 (0)\ttotal: 1.15ms\tremaining: 1.15s\n",
      "\n",
      "bestTest = 0.06056973567\n",
      "bestIteration = 10\n",
      "\n",
      "Shrink model to first 11 iterations.\n",
      "Learning rate set to 0.032991\n",
      "0:\tlearn: 0.0483920\ttest: 0.0504315\tbest: 0.0504315 (0)\ttotal: 990us\tremaining: 989ms\n",
      "\n",
      "bestTest = 0.04987332523\n",
      "bestIteration = 7\n",
      "\n",
      "Shrink model to first 8 iterations.\n"
     ]
    },
    {
     "name": "stderr",
     "output_type": "stream",
     "text": [
      "[I 2023-06-07 20:12:38,958] Trial 43 pruned. Trial was pruned at iteration 10.\n",
      "[I 2023-06-07 20:12:39,058] Trial 44 pruned. Trial was pruned at iteration 10.\n"
     ]
    },
    {
     "name": "stdout",
     "output_type": "stream",
     "text": [
      "Learning rate set to 0.032991\n",
      "0:\tlearn: 0.0475150\ttest: 0.0446491\tbest: 0.0446491 (0)\ttotal: 1.03ms\tremaining: 1.02s\n",
      "\n",
      "bestTest = 0.04404327933\n",
      "bestIteration = 10\n",
      "\n",
      "Shrink model to first 11 iterations.\n",
      "Learning rate set to 0.032991\n",
      "0:\tlearn: 0.0470371\ttest: 0.0579650\tbest: 0.0579650 (0)\ttotal: 8.68ms\tremaining: 8.67s\n",
      "\n",
      "bestTest = 0.05599304994\n",
      "bestIteration = 10\n",
      "\n",
      "Shrink model to first 11 iterations.\n",
      "Learning rate set to 0.032991\n",
      "0:\tlearn: 0.0503105\ttest: 0.0446896\tbest: 0.0446896 (0)\ttotal: 3.66ms\tremaining: 3.66s\n",
      "\n",
      "bestTest = 0.04297843434\n",
      "bestIteration = 10\n",
      "\n",
      "Shrink model to first 11 iterations.\n"
     ]
    },
    {
     "name": "stderr",
     "output_type": "stream",
     "text": [
      "[I 2023-06-07 20:12:39,147] Trial 45 pruned. Trial was pruned at iteration 10.\n",
      "[I 2023-06-07 20:12:39,276] Trial 46 pruned. Trial was pruned at iteration 10.\n",
      "[I 2023-06-07 20:12:39,388] Trial 47 pruned. Trial was pruned at iteration 10.\n"
     ]
    },
    {
     "name": "stdout",
     "output_type": "stream",
     "text": [
      "Learning rate set to 0.032991\n",
      "0:\tlearn: 0.0500081\ttest: 0.0484142\tbest: 0.0484142 (0)\ttotal: 283us\tremaining: 283ms\n",
      "\n",
      "bestTest = 0.04690199482\n",
      "bestIteration = 10\n",
      "\n",
      "Shrink model to first 11 iterations.\n",
      "Learning rate set to 0.032991\n",
      "0:\tlearn: 0.0460342\ttest: 0.0501320\tbest: 0.0501320 (0)\ttotal: 1.39ms\tremaining: 1.39s\n",
      "\n",
      "bestTest = 0.05013202507\n",
      "bestIteration = 0\n",
      "\n",
      "Shrink model to first 1 iterations.\n"
     ]
    },
    {
     "name": "stderr",
     "output_type": "stream",
     "text": [
      "[I 2023-06-07 20:12:39,487] Trial 48 pruned. Trial was pruned at iteration 10.\n",
      "[I 2023-06-07 20:12:39,583] Trial 49 pruned. Trial was pruned at iteration 10.\n"
     ]
    },
    {
     "name": "stdout",
     "output_type": "stream",
     "text": [
      "Learning rate set to 0.032991\n",
      "0:\tlearn: 0.0459838\ttest: 0.0449124\tbest: 0.0449124 (0)\ttotal: 1.69ms\tremaining: 1.69s\n",
      "\n",
      "bestTest = 0.04400755445\n",
      "bestIteration = 10\n",
      "\n",
      "Shrink model to first 11 iterations.\n",
      "Learning rate set to 0.032991\n",
      "0:\tlearn: 0.0464328\ttest: 0.0416491\tbest: 0.0416491 (0)\ttotal: 1.4ms\tremaining: 1.39s\n",
      "\n",
      "bestTest = 0.04102396081\n",
      "bestIteration = 10\n",
      "\n",
      "Shrink model to first 11 iterations.\n",
      "Learning rate set to 0.032991\n",
      "0:\tlearn: 0.0509954\ttest: 0.0484312\tbest: 0.0484312 (0)\ttotal: 219us\tremaining: 219ms\n",
      "\n",
      "bestTest = 0.04815545572\n",
      "bestIteration = 8\n",
      "\n",
      "Shrink model to first 9 iterations.\n"
     ]
    },
    {
     "name": "stderr",
     "output_type": "stream",
     "text": [
      "[I 2023-06-07 20:12:39,664] Trial 50 pruned. Trial was pruned at iteration 10.\n",
      "[I 2023-06-07 20:12:39,841] Trial 51 pruned. Trial was pruned at iteration 10.\n",
      "[I 2023-06-07 20:12:39,947] Trial 52 pruned. Trial was pruned at iteration 10.\n"
     ]
    },
    {
     "name": "stdout",
     "output_type": "stream",
     "text": [
      "Learning rate set to 0.032991\n",
      "0:\tlearn: 0.0474305\ttest: 0.0445943\tbest: 0.0445943 (0)\ttotal: 1.05ms\tremaining: 1.05s\n",
      "\n",
      "bestTest = 0.04441180918\n",
      "bestIteration = 1\n",
      "\n",
      "Shrink model to first 2 iterations.\n",
      "Learning rate set to 0.032991\n",
      "0:\tlearn: 0.0480304\ttest: 0.0520633\tbest: 0.0520633 (0)\ttotal: 1.13ms\tremaining: 1.13s\n",
      "\n",
      "bestTest = 0.0518790217\n",
      "bestIteration = 1\n",
      "\n",
      "Shrink model to first 2 iterations.\n",
      "Learning rate set to 0.032991\n",
      "0:\tlearn: 0.0461770\ttest: 0.0493212\tbest: 0.0493212 (0)\ttotal: 1.11ms\tremaining: 1.11s\n"
     ]
    },
    {
     "name": "stderr",
     "output_type": "stream",
     "text": [
      "[I 2023-06-07 20:12:40,046] Trial 53 pruned. Trial was pruned at iteration 10.\n"
     ]
    },
    {
     "name": "stdout",
     "output_type": "stream",
     "text": [
      "\n",
      "bestTest = 0.04905261893\n",
      "bestIteration = 10\n",
      "\n",
      "Shrink model to first 11 iterations.\n",
      "Learning rate set to 0.032991\n",
      "0:\tlearn: 0.0417127\ttest: 0.0534972\tbest: 0.0534972 (0)\ttotal: 1.13ms\tremaining: 1.13s\n",
      "\n",
      "bestTest = 0.05331546882\n",
      "bestIteration = 10\n",
      "\n",
      "Shrink model to first 11 iterations.\n"
     ]
    },
    {
     "name": "stderr",
     "output_type": "stream",
     "text": [
      "[I 2023-06-07 20:12:40,217] Trial 54 pruned. Trial was pruned at iteration 10.\n",
      "[I 2023-06-07 20:12:40,319] Trial 55 pruned. Trial was pruned at iteration 10.\n",
      "[I 2023-06-07 20:12:40,416] Trial 56 pruned. Trial was pruned at iteration 10.\n"
     ]
    },
    {
     "name": "stdout",
     "output_type": "stream",
     "text": [
      "Learning rate set to 0.032991\n",
      "0:\tlearn: 0.0484878\ttest: 0.0526167\tbest: 0.0526167 (0)\ttotal: 1.25ms\tremaining: 1.25s\n",
      "\n",
      "bestTest = 0.05250378461\n",
      "bestIteration = 9\n",
      "\n",
      "Shrink model to first 10 iterations.\n",
      "Learning rate set to 0.032991\n",
      "0:\tlearn: 0.0481628\ttest: 0.0495363\tbest: 0.0495363 (0)\ttotal: 1.06ms\tremaining: 1.05s\n",
      "\n",
      "bestTest = 0.0487197676\n",
      "bestIteration = 10\n",
      "\n",
      "Shrink model to first 11 iterations.\n",
      "Learning rate set to 0.032991\n",
      "0:\tlearn: 0.0465198\ttest: 0.0570077\tbest: 0.0570077 (0)\ttotal: 342us\tremaining: 343ms\n",
      "\n",
      "bestTest = 0.05653678911\n",
      "bestIteration = 10\n",
      "\n",
      "Shrink model to first 11 iterations.\n"
     ]
    },
    {
     "name": "stderr",
     "output_type": "stream",
     "text": [
      "[I 2023-06-07 20:12:40,485] Trial 57 pruned. Trial was pruned at iteration 10.\n",
      "[I 2023-06-07 20:12:40,616] Trial 58 pruned. Trial was pruned at iteration 10.\n",
      "[I 2023-06-07 20:12:40,730] Trial 59 pruned. Trial was pruned at iteration 10.\n"
     ]
    },
    {
     "name": "stdout",
     "output_type": "stream",
     "text": [
      "Learning rate set to 0.032991\n",
      "0:\tlearn: 0.0407455\ttest: 0.0490472\tbest: 0.0490472 (0)\ttotal: 1.05ms\tremaining: 1.05s\n",
      "\n",
      "bestTest = 0.04843768608\n",
      "bestIteration = 10\n",
      "\n",
      "Shrink model to first 11 iterations.\n",
      "Learning rate set to 0.032991\n",
      "0:\tlearn: 0.0490703\ttest: 0.0476530\tbest: 0.0476530 (0)\ttotal: 2.09ms\tremaining: 2.09s\n",
      "\n",
      "bestTest = 0.04659504631\n",
      "bestIteration = 10\n",
      "\n",
      "Shrink model to first 11 iterations.\n"
     ]
    },
    {
     "name": "stderr",
     "output_type": "stream",
     "text": [
      "[I 2023-06-07 20:12:40,828] Trial 60 pruned. Trial was pruned at iteration 10.\n"
     ]
    },
    {
     "name": "stdout",
     "output_type": "stream",
     "text": [
      "Learning rate set to 0.032991\n",
      "0:\tlearn: 0.0456460\ttest: 0.0524873\tbest: 0.0524873 (0)\ttotal: 372us\tremaining: 372ms\n",
      "\n",
      "bestTest = 0.05204342687\n",
      "bestIteration = 5\n",
      "\n",
      "Shrink model to first 6 iterations.\n",
      "Learning rate set to 0.032991\n",
      "0:\tlearn: 0.0487313\ttest: 0.0394733\tbest: 0.0394733 (0)\ttotal: 228us\tremaining: 228ms\n",
      "\n",
      "bestTest = 0.03930256227\n",
      "bestIteration = 10\n",
      "\n",
      "Shrink model to first 11 iterations.\n"
     ]
    },
    {
     "name": "stderr",
     "output_type": "stream",
     "text": [
      "[I 2023-06-07 20:12:40,979] Trial 61 pruned. Trial was pruned at iteration 11.\n",
      "[I 2023-06-07 20:12:41,079] Trial 62 pruned. Trial was pruned at iteration 10.\n",
      "[I 2023-06-07 20:12:41,182] Trial 63 pruned. Trial was pruned at iteration 10.\n"
     ]
    },
    {
     "name": "stdout",
     "output_type": "stream",
     "text": [
      "Learning rate set to 0.032991\n",
      "0:\tlearn: 0.0479399\ttest: 0.0555871\tbest: 0.0555871 (0)\ttotal: 290us\tremaining: 290ms\n",
      "\n",
      "bestTest = 0.05471183262\n",
      "bestIteration = 9\n",
      "\n",
      "Shrink model to first 10 iterations.\n",
      "Learning rate set to 0.032991\n",
      "0:\tlearn: 0.0474174\ttest: 0.0513706\tbest: 0.0513706 (0)\ttotal: 302us\tremaining: 302ms\n",
      "\n",
      "bestTest = 0.05079864414\n",
      "bestIteration = 8\n",
      "\n",
      "Shrink model to first 9 iterations.\n"
     ]
    },
    {
     "name": "stderr",
     "output_type": "stream",
     "text": [
      "[I 2023-06-07 20:12:41,295] Trial 64 pruned. Trial was pruned at iteration 10.\n",
      "[I 2023-06-07 20:12:41,438] Trial 65 pruned. Trial was pruned at iteration 10.\n"
     ]
    },
    {
     "name": "stdout",
     "output_type": "stream",
     "text": [
      "Learning rate set to 0.032991\n",
      "0:\tlearn: 0.0514668\ttest: 0.0461336\tbest: 0.0461336 (0)\ttotal: 198us\tremaining: 198ms\n",
      "\n",
      "bestTest = 0.04560184939\n",
      "bestIteration = 9\n",
      "\n",
      "Shrink model to first 10 iterations.\n",
      "Learning rate set to 0.032991\n",
      "0:\tlearn: 0.0484616\ttest: 0.0581208\tbest: 0.0581208 (0)\ttotal: 271us\tremaining: 272ms\n",
      "\n",
      "bestTest = 0.05750726435\n",
      "bestIteration = 10\n",
      "\n",
      "Shrink model to first 11 iterations.\n"
     ]
    },
    {
     "name": "stderr",
     "output_type": "stream",
     "text": [
      "[I 2023-06-07 20:12:41,531] Trial 66 pruned. Trial was pruned at iteration 10.\n",
      "[I 2023-06-07 20:12:41,610] Trial 67 pruned. Trial was pruned at iteration 10.\n"
     ]
    },
    {
     "name": "stdout",
     "output_type": "stream",
     "text": [
      "Learning rate set to 0.032991\n",
      "0:\tlearn: 0.0417817\ttest: 0.0604238\tbest: 0.0604238 (0)\ttotal: 839us\tremaining: 839ms\n",
      "\n",
      "bestTest = 0.05979981016\n",
      "bestIteration = 9\n",
      "\n",
      "Shrink model to first 10 iterations.\n",
      "Learning rate set to 0.032991\n",
      "0:\tlearn: 0.0498787\ttest: 0.0473253\tbest: 0.0473253 (0)\ttotal: 377us\tremaining: 378ms\n",
      "\n",
      "bestTest = 0.04609565421\n",
      "bestIteration = 10\n",
      "\n",
      "Shrink model to first 11 iterations.\n",
      "Learning rate set to 0.032991\n",
      "0:\tlearn: 0.0510448\ttest: 0.0475900\tbest: 0.0475900 (0)\ttotal: 5.55ms\tremaining: 5.54s\n",
      "\n",
      "bestTest = 0.04602495822\n",
      "bestIteration = 10\n",
      "\n",
      "Shrink model to first 11 iterations."
     ]
    },
    {
     "name": "stderr",
     "output_type": "stream",
     "text": [
      "[I 2023-06-07 20:12:41,727] Trial 68 pruned. Trial was pruned at iteration 10.\n",
      "[I 2023-06-07 20:12:41,824] Trial 69 pruned. Trial was pruned at iteration 10.\n"
     ]
    },
    {
     "name": "stdout",
     "output_type": "stream",
     "text": [
      "\n",
      "Learning rate set to 0.032991\n",
      "0:\tlearn: 0.0471878\ttest: 0.0491362\tbest: 0.0491362 (0)\ttotal: 366us\tremaining: 366ms\n",
      "\n",
      "bestTest = 0.04748541472\n",
      "bestIteration = 10\n",
      "\n",
      "Shrink model to first 11 iterations.\n",
      "Learning rate set to 0.032991\n",
      "0:\tlearn: 0.0485965\ttest: 0.0455023\tbest: 0.0455023 (0)\ttotal: 1.5ms\tremaining: 1.5s\n",
      "\n",
      "bestTest = 0.04435168293\n",
      "bestIteration = 10\n",
      "\n",
      "Shrink model to first 11 iterations.\n"
     ]
    },
    {
     "name": "stderr",
     "output_type": "stream",
     "text": [
      "[I 2023-06-07 20:12:41,925] Trial 70 pruned. Trial was pruned at iteration 10.\n",
      "[I 2023-06-07 20:12:42,047] Trial 71 pruned. Trial was pruned at iteration 10.\n",
      "[I 2023-06-07 20:12:42,156] Trial 72 pruned. Trial was pruned at iteration 10.\n"
     ]
    },
    {
     "name": "stdout",
     "output_type": "stream",
     "text": [
      "Learning rate set to 0.032991\n",
      "0:\tlearn: 0.0503524\ttest: 0.0406909\tbest: 0.0406909 (0)\ttotal: 6.47ms\tremaining: 6.47s\n",
      "\n",
      "bestTest = 0.04016717166\n",
      "bestIteration = 10\n",
      "\n",
      "Shrink model to first 11 iterations.\n",
      "Learning rate set to 0.032991\n",
      "0:\tlearn: 0.0500717\ttest: 0.0524927\tbest: 0.0524927 (0)\ttotal: 1.09ms\tremaining: 1.09s\n",
      "\n",
      "bestTest = 0.05036540114\n",
      "bestIteration = 10\n",
      "\n",
      "Shrink model to first 11 iterations.\n"
     ]
    },
    {
     "name": "stderr",
     "output_type": "stream",
     "text": [
      "[I 2023-06-07 20:12:42,256] Trial 73 pruned. Trial was pruned at iteration 10.\n"
     ]
    },
    {
     "name": "stdout",
     "output_type": "stream",
     "text": [
      "Learning rate set to 0.032991\n",
      "0:\tlearn: 0.0488212\ttest: 0.0510611\tbest: 0.0510611 (0)\ttotal: 3.24ms\tremaining: 3.23s\n",
      "\n",
      "bestTest = 0.04955884844\n",
      "bestIteration = 9\n",
      "\n",
      "Shrink model to first 10 iterations.\n",
      "Learning rate set to 0.032991\n",
      "0:\tlearn: 0.0492519\ttest: 0.0502191\tbest: 0.0502191 (0)\ttotal: 26.9ms\tremaining: 26.9s\n",
      "\n",
      "bestTest = 0.0488072109\n",
      "bestIteration = 10\n",
      "\n",
      "Shrink model to first 11 iterations.\n"
     ]
    },
    {
     "name": "stderr",
     "output_type": "stream",
     "text": [
      "[I 2023-06-07 20:12:42,426] Trial 74 pruned. Trial was pruned at iteration 10.\n",
      "[I 2023-06-07 20:12:42,522] Trial 75 pruned. Trial was pruned at iteration 10.\n",
      "[I 2023-06-07 20:12:42,604] Trial 76 pruned. Trial was pruned at iteration 10.\n"
     ]
    },
    {
     "name": "stdout",
     "output_type": "stream",
     "text": [
      "Learning rate set to 0.032991\n",
      "0:\tlearn: 0.0490901\ttest: 0.0477631\tbest: 0.0477631 (0)\ttotal: 1.37ms\tremaining: 1.37s\n",
      "\n",
      "bestTest = 0.0466480775\n",
      "bestIteration = 8\n",
      "\n",
      "Shrink model to first 9 iterations.\n",
      "Learning rate set to 0.032991\n",
      "0:\tlearn: 0.0477469\ttest: 0.0513898\tbest: 0.0513898 (0)\ttotal: 950us\tremaining: 949ms\n",
      "\n",
      "bestTest = 0.05010264031\n",
      "bestIteration = 10\n",
      "\n",
      "Shrink model to first 11 iterations.\n",
      "Learning rate set to 0.032991\n",
      "0:\tlearn: 0.0485591\ttest: 0.0439271\tbest: 0.0439271 (0)\ttotal: 1.12ms\tremaining: 1.12s\n"
     ]
    },
    {
     "name": "stderr",
     "output_type": "stream",
     "text": [
      "[I 2023-06-07 20:12:42,757] Trial 77 pruned. Trial was pruned at iteration 10.\n",
      "[I 2023-06-07 20:12:42,847] Trial 78 pruned. Trial was pruned at iteration 11.\n"
     ]
    },
    {
     "name": "stdout",
     "output_type": "stream",
     "text": [
      "\n",
      "bestTest = 0.04299852985\n",
      "bestIteration = 10\n",
      "\n",
      "Shrink model to first 11 iterations.\n",
      "Learning rate set to 0.032991\n",
      "0:\tlearn: 0.0466569\ttest: 0.0392576\tbest: 0.0392576 (0)\ttotal: 421us\tremaining: 421ms\n",
      "\n",
      "bestTest = 0.03924141175\n",
      "bestIteration = 3\n",
      "\n",
      "Shrink model to first 4 iterations.\n",
      "Learning rate set to 0.032991\n",
      "0:\tlearn: 0.0480066\ttest: 0.0485107\tbest: 0.0485107 (0)\ttotal: 168us\tremaining: 168ms\n",
      "\n",
      "bestTest = 0.04807150445\n",
      "bestIteration = 8\n",
      "\n",
      "Shrink model to first 9 iterations.\n"
     ]
    },
    {
     "name": "stderr",
     "output_type": "stream",
     "text": [
      "[I 2023-06-07 20:12:42,931] Trial 79 pruned. Trial was pruned at iteration 10.\n",
      "[I 2023-06-07 20:12:43,031] Trial 80 pruned. Trial was pruned at iteration 10.\n",
      "[I 2023-06-07 20:12:43,119] Trial 81 pruned. Trial was pruned at iteration 10.\n"
     ]
    },
    {
     "name": "stdout",
     "output_type": "stream",
     "text": [
      "Learning rate set to 0.032991\n",
      "0:\tlearn: 0.0465758\ttest: 0.0499485\tbest: 0.0499485 (0)\ttotal: 1.63ms\tremaining: 1.63s\n",
      "\n",
      "bestTest = 0.04848975397\n",
      "bestIteration = 10\n",
      "\n",
      "Shrink model to first 11 iterations.\n",
      "Learning rate set to 0.032991\n",
      "0:\tlearn: 0.0446563\ttest: 0.0566436\tbest: 0.0566436 (0)\ttotal: 1.46ms\tremaining: 1.46s\n",
      "\n",
      "bestTest = 0.05559359168\n",
      "bestIteration = 10\n",
      "\n",
      "Shrink model to first 11 iterations.\n",
      "Learning rate set to 0.032991\n",
      "0:\tlearn: 0.0506921\ttest: 0.0510611\tbest: 0.0510611 (0)\ttotal: 1.49ms\tremaining: 1.48s\n",
      "\n",
      "bestTest = 0.04935238772\n",
      "bestIteration = 10\n",
      "\n",
      "Shrink model to first 11 iterations.\n"
     ]
    },
    {
     "name": "stderr",
     "output_type": "stream",
     "text": [
      "[I 2023-06-07 20:12:43,205] Trial 82 pruned. Trial was pruned at iteration 10.\n",
      "[I 2023-06-07 20:12:43,325] Trial 83 pruned. Trial was pruned at iteration 10.\n",
      "[I 2023-06-07 20:12:43,434] Trial 84 pruned. Trial was pruned at iteration 10.\n"
     ]
    },
    {
     "name": "stdout",
     "output_type": "stream",
     "text": [
      "Learning rate set to 0.032991\n",
      "0:\tlearn: 0.0436733\ttest: 0.0542942\tbest: 0.0542942 (0)\ttotal: 1.91ms\tremaining: 1.91s\n",
      "\n",
      "bestTest = 0.05272644584\n",
      "bestIteration = 10\n",
      "\n",
      "Shrink model to first 11 iterations.\n",
      "Learning rate set to 0.032991\n",
      "0:\tlearn: 0.0483904\ttest: 0.0443952\tbest: 0.0443952 (0)\ttotal: 984us\tremaining: 984ms\n",
      "\n",
      "bestTest = 0.04438820591\n",
      "bestIteration = 1\n",
      "\n",
      "Shrink model to first 2 iterations.\n"
     ]
    },
    {
     "name": "stderr",
     "output_type": "stream",
     "text": [
      "[I 2023-06-07 20:12:43,524] Trial 85 pruned. Trial was pruned at iteration 10.\n",
      "[I 2023-06-07 20:12:43,608] Trial 86 pruned. Trial was pruned at iteration 10.\n"
     ]
    },
    {
     "name": "stdout",
     "output_type": "stream",
     "text": [
      "Learning rate set to 0.032991\n",
      "0:\tlearn: 0.0511436\ttest: 0.0422791\tbest: 0.0422791 (0)\ttotal: 1.64ms\tremaining: 1.64s\n",
      "\n",
      "bestTest = 0.04209845139\n",
      "bestIteration = 5\n",
      "\n",
      "Shrink model to first 6 iterations.\n",
      "Learning rate set to 0.032991\n",
      "0:\tlearn: 0.0482756\ttest: 0.0535584\tbest: 0.0535584 (0)\ttotal: 944us\tremaining: 943ms\n",
      "\n",
      "bestTest = 0.05184416892\n",
      "bestIteration = 10\n",
      "\n",
      "Shrink model to first 11 iterations.\n",
      "Learning rate set to 0.032991\n",
      "0:\tlearn: 0.0488914\ttest: 0.0383588\tbest: 0.0383588 (0)\ttotal: 5.11ms\tremaining: 5.11s\n"
     ]
    },
    {
     "name": "stderr",
     "output_type": "stream",
     "text": [
      "[I 2023-06-07 20:12:44,718] Trial 87 pruned. Trial was pruned at iteration 235.\n",
      "[I 2023-06-07 20:12:44,824] Trial 88 pruned. Trial was pruned at iteration 10.\n"
     ]
    },
    {
     "name": "stdout",
     "output_type": "stream",
     "text": [
      "\n",
      "bestTest = 0.03274738393\n",
      "bestIteration = 197\n",
      "\n",
      "Shrink model to first 198 iterations.\n",
      "Learning rate set to 0.032991\n",
      "0:\tlearn: 0.0465151\ttest: 0.0400515\tbest: 0.0400515 (0)\ttotal: 1.49ms\tremaining: 1.49s\n",
      "\n",
      "bestTest = 0.03947344675\n",
      "bestIteration = 10\n",
      "\n",
      "Shrink model to first 11 iterations.\n",
      "Learning rate set to 0.032991\n",
      "0:\tlearn: 0.0488029\ttest: 0.0483880\tbest: 0.0483880 (0)\ttotal: 275us\tremaining: 275ms\n",
      "\n",
      "bestTest = 0.04794172178\n",
      "bestIteration = 8\n",
      "\n",
      "Shrink model to first 9 iterations.\n"
     ]
    },
    {
     "name": "stderr",
     "output_type": "stream",
     "text": [
      "[I 2023-06-07 20:12:44,900] Trial 89 pruned. Trial was pruned at iteration 10.\n",
      "[I 2023-06-07 20:12:44,999] Trial 90 pruned. Trial was pruned at iteration 10.\n",
      "[I 2023-06-07 20:12:45,075] Trial 91 pruned. Trial was pruned at iteration 10.\n"
     ]
    },
    {
     "name": "stdout",
     "output_type": "stream",
     "text": [
      "Learning rate set to 0.032991\n",
      "0:\tlearn: 0.0485307\ttest: 0.0510930\tbest: 0.0510930 (0)\ttotal: 1.15ms\tremaining: 1.15s\n",
      "\n",
      "bestTest = 0.05109301689\n",
      "bestIteration = 0\n",
      "\n",
      "Shrink model to first 1 iterations.\n",
      "Learning rate set to 0.032991\n",
      "0:\tlearn: 0.0491136\ttest: 0.0546014\tbest: 0.0546014 (0)\ttotal: 195us\tremaining: 196ms\n",
      "\n",
      "bestTest = 0.05437664606\n",
      "bestIteration = 5\n",
      "\n",
      "Shrink model to first 6 iterations.\n",
      "Learning rate set to 0.032991\n",
      "0:\tlearn: 0.0488832\ttest: 0.0494318\tbest: 0.0494318 (0)\ttotal: 220us\tremaining: 221ms\n",
      "\n",
      "bestTest = 0.04857793028\n",
      "bestIteration = 9\n",
      "\n",
      "Shrink model to first 10 iterations.\n"
     ]
    },
    {
     "name": "stderr",
     "output_type": "stream",
     "text": [
      "[I 2023-06-07 20:12:45,169] Trial 92 pruned. Trial was pruned at iteration 10.\n"
     ]
    },
    {
     "name": "stdout",
     "output_type": "stream",
     "text": [
      "Learning rate set to 0.032991\n",
      "0:\tlearn: 0.0503085\ttest: 0.0315210\tbest: 0.0315210 (0)\ttotal: 244us\tremaining: 244ms\n",
      "500:\tlearn: 0.0361110\ttest: 0.0244420\tbest: 0.0242953 (483)\ttotal: 122ms\tremaining: 121ms\n"
     ]
    },
    {
     "name": "stderr",
     "output_type": "stream",
     "text": [
      "[I 2023-06-07 20:12:46,494] Trial 93 finished with value: 0.04416431334818277 and parameters: {'objective': 'RMSE', 'colsample_bylevel': 0.019371257489827005, 'depth': 2, 'boosting_type': 'Plain', 'bootstrap_type': 'Bernoulli', 'subsample': 0.4044864564659565}. Best is trial 0 with value: 0.0349815838846568.\n",
      "C:\\Users\\Bayu Adjie Sidharta\\AppData\\Local\\Temp\\ipykernel_32688\\3008741279.py:33: ExperimentalWarning: CatBoostPruningCallback is experimental (supported from v3.0.0). The interface can change in the future.\n",
      "  pruning_callback = optuna.integration.CatBoostPruningCallback(trial, \"RMSE\")\n",
      "[I 2023-06-07 20:12:46,583] Trial 94 pruned. Trial was pruned at iteration 10.\n"
     ]
    },
    {
     "name": "stdout",
     "output_type": "stream",
     "text": [
      "Stopped by overfitting detector  (100 iterations wait)\n",
      "\n",
      "bestTest = 0.02427514856\n",
      "bestIteration = 541\n",
      "\n",
      "Shrink model to first 542 iterations.\n",
      "('Catboost', 0.04416431334818277, 0.03544916439497689, 0.35909972571587734)\n",
      "Learning rate set to 0.032991\n",
      "0:\tlearn: 0.0511224\ttest: 0.0486495\tbest: 0.0486495 (0)\ttotal: 225us\tremaining: 225ms\n",
      "\n",
      "bestTest = 0.04862017937\n",
      "bestIteration = 8\n",
      "\n",
      "Shrink model to first 9 iterations.\n",
      "Learning rate set to 0.032991\n"
     ]
    },
    {
     "name": "stderr",
     "output_type": "stream",
     "text": [
      "[I 2023-06-07 20:12:46,682] Trial 95 pruned. Trial was pruned at iteration 10.\n",
      "[I 2023-06-07 20:12:46,784] Trial 96 pruned. Trial was pruned at iteration 10.\n"
     ]
    },
    {
     "name": "stdout",
     "output_type": "stream",
     "text": [
      "0:\tlearn: 0.0510492\ttest: 0.0538492\tbest: 0.0538492 (0)\ttotal: 242us\tremaining: 243ms\n",
      "\n",
      "bestTest = 0.05277874674\n",
      "bestIteration = 10\n",
      "\n",
      "Shrink model to first 11 iterations.\n",
      "Learning rate set to 0.032991\n",
      "0:\tlearn: 0.0489718\ttest: 0.0520263\tbest: 0.0520263 (0)\ttotal: 281us\tremaining: 282ms\n",
      "\n",
      "bestTest = 0.05202625615\n",
      "bestIteration = 0\n",
      "\n",
      "Shrink model to first 1 iterations.\n",
      "Learning rate set to 0.032991\n",
      "0:\tlearn: 0.0458405\ttest: 0.0536157\tbest: 0.0536157 (0)\ttotal: 240us\tremaining: 240ms\n",
      "\n",
      "bestTest = 0.05361573074\n",
      "bestIteration = 1\n",
      "\n",
      "Shrink model to first 2 iterations.\n"
     ]
    },
    {
     "name": "stderr",
     "output_type": "stream",
     "text": [
      "[I 2023-06-07 20:12:46,878] Trial 97 pruned. Trial was pruned at iteration 10.\n",
      "[I 2023-06-07 20:12:46,997] Trial 98 pruned. Trial was pruned at iteration 10.\n"
     ]
    },
    {
     "name": "stdout",
     "output_type": "stream",
     "text": [
      "Learning rate set to 0.032991\n",
      "0:\tlearn: 0.0475042\ttest: 0.0443993\tbest: 0.0443993 (0)\ttotal: 5.14ms\tremaining: 5.14s\n",
      "\n",
      "bestTest = 0.04325713696\n",
      "bestIteration = 10\n",
      "\n",
      "Shrink model to first 11 iterations.\n",
      "Learning rate set to 0.032991\n",
      "0:\tlearn: 0.0550404\ttest: 0.0359751\tbest: 0.0359751 (0)\ttotal: 270us\tremaining: 271ms\n"
     ]
    },
    {
     "name": "stderr",
     "output_type": "stream",
     "text": [
      "[I 2023-06-07 20:12:47,161] Trial 99 pruned. Trial was pruned at iteration 95.\n"
     ]
    },
    {
     "name": "stdout",
     "output_type": "stream",
     "text": [
      "\n",
      "bestTest = 0.03364072166\n",
      "bestIteration = 89\n",
      "\n",
      "Shrink model to first 90 iterations.\n",
      "Number of finished trials: 100\n",
      "Best trial:\n",
      "  Value: 0.0349815838846568\n",
      "  Params: \n",
      "    objective: RMSE\n",
      "    colsample_bylevel: 0.019294785961930627\n",
      "    depth: 6\n",
      "    boosting_type: Ordered\n",
      "    bootstrap_type: Bayesian\n",
      "    bagging_temperature: 4.6044011355658085\n"
     ]
    }
   ],
   "source": [
    "from catboost import CatBoostRegressor\n",
    "from catboost import Pool\n",
    "import optuna\n",
    "from sklearn.metrics import mean_squared_error\n",
    "import Utils as utils\n",
    "\n",
    "def objective(trial):\n",
    "    data, target = dfX, y\n",
    "    train_x, test_x, train_y, test_y = train_test_split(data, target, test_size=0.2)\n",
    "    train_x, val_x, train_y, val_y = train_test_split(train_x, train_y, test_size=0.25)\n",
    "    train_pool = Pool(train_x, train_y)\n",
    "    val_pool = Pool(val_x, val_y)\n",
    "    test_pool = Pool(test_x)\n",
    "\n",
    "    params = {\n",
    "        \"objective\": trial.suggest_categorical(\"objective\", [\"RMSE\"]),\n",
    "        \"colsample_bylevel\": trial.suggest_float(\"colsample_bylevel\", 0.01, 0.1, log=True),\n",
    "        \"depth\": trial.suggest_int(\"depth\", 1, 12),\n",
    "        \"boosting_type\": trial.suggest_categorical(\"boosting_type\", [\"Ordered\", \"Plain\"]),\n",
    "         \"bootstrap_type\": trial.suggest_categorical(\n",
    "            \"bootstrap_type\", [\"Bayesian\", \"Bernoulli\", \"MVS\"]\n",
    "        ),\n",
    "        \"used_ram_limit\": \"3gb\",\n",
    "    }\n",
    "\n",
    "    if params[\"bootstrap_type\"] == \"Bayesian\":\n",
    "        params[\"bagging_temperature\"] = trial.suggest_float(\"bagging_temperature\", 0, 10)\n",
    "    elif params[\"bootstrap_type\"] == \"Bernoulli\":\n",
    "        params[\"subsample\"] = trial.suggest_float(\"subsample\", 0.1, 1, log=True)\n",
    "\n",
    "    model = CatBoostRegressor(**params)\n",
    "\n",
    "    pruning_callback = optuna.integration.CatBoostPruningCallback(trial, \"RMSE\")\n",
    "    model.fit(train_pool, eval_set=val_pool, callbacks=[pruning_callback], verbose=500, early_stopping_rounds=100)\n",
    "\n",
    "    pruning_callback.check_pruned()\n",
    "\n",
    "    preds = model.predict(test_pool)\n",
    "\n",
    "    results = utils.error_rate(\"Catboost\",preds,test_y)\n",
    "    print(results)\n",
    "\n",
    "    rmse = mean_squared_error(test_y, preds, squared=False)\n",
    "    return rmse\n",
    "\n",
    "\n",
    "study = optuna.create_study(direction=\"minimize\", pruner=optuna.pruners.MedianPruner(n_warmup_steps=10))\n",
    "\n",
    "study.optimize(objective, n_trials=100, timeout=600)\n",
    "\n",
    "print(\"Number of finished trials: {}\".format(len(study.trials)))\n",
    "print(\"Best trial:\")\n",
    "trial = study.best_trial\n",
    "\n",
    "print(\"  Value: {}\".format(trial.value))\n",
    "\n",
    "print(\"  Params: \")\n",
    "for key, value in trial.params.items():\n",
    "    print(\"    {}: {}\".format(key, value))\n",
    "\n",
    "\n",
    "    \n",
    "\n",
    "\n",
    "    \n",
    "\n",
    "\n",
    "\n",
    "\n"
   ]
  },
  {
   "cell_type": "code",
   "execution_count": 8,
   "metadata": {},
   "outputs": [
    {
     "name": "stderr",
     "output_type": "stream",
     "text": [
      "[I 2023-06-07 20:14:59,108] A new study created in memory with name: no-name-e719ca62-4c82-45dd-8d65-6e076a7b18e0\n",
      "C:\\Users\\Bayu Adjie Sidharta\\AppData\\Local\\Temp\\ipykernel_32688\\1628479321.py:34: ExperimentalWarning: CatBoostPruningCallback is experimental (supported from v3.0.0). The interface can change in the future.\n",
      "  pruning_callback = optuna.integration.CatBoostPruningCallback(trial, \"RMSE\")\n"
     ]
    },
    {
     "name": "stdout",
     "output_type": "stream",
     "text": [
      "Learning rate set to 0.032991\n",
      "0:\tlearn: 0.0486389\ttest: 0.0492778\tbest: 0.0492778 (0)\ttotal: 977us\tremaining: 976ms\n",
      "500:\tlearn: 0.0322777\ttest: 0.0391103\tbest: 0.0390906 (491)\ttotal: 518ms\tremaining: 516ms\n"
     ]
    },
    {
     "name": "stderr",
     "output_type": "stream",
     "text": [
      "[I 2023-06-07 20:15:02,012] Trial 0 finished with value: 0.036636711002973305 and parameters: {'objective': 'RMSE', 'colsample_bylevel': 0.052503740365612624, 'depth': 9, 'boosting_type': 'Ordered', 'bootstrap_type': 'MVS'}. Best is trial 0 with value: 0.036636711002973305.\n"
     ]
    },
    {
     "name": "stdout",
     "output_type": "stream",
     "text": [
      "999:\tlearn: 0.0268657\ttest: 0.0361930\tbest: 0.0361658 (958)\ttotal: 1.06s\tremaining: 0us\n",
      "\n",
      "bestTest = 0.03616579889\n",
      "bestIteration = 958\n",
      "\n",
      "Shrink model to first 959 iterations.\n",
      "('Catboost', 0.036636711002973305, 0.028105386558936983, 0.40950852705839)\n",
      "Learning rate set to 0.032991\n",
      "0:\tlearn: 0.0453744\ttest: 0.0597449\tbest: 0.0597449 (0)\ttotal: 267us\tremaining: 267ms\n"
     ]
    },
    {
     "name": "stderr",
     "output_type": "stream",
     "text": [
      "C:\\Users\\Bayu Adjie Sidharta\\AppData\\Local\\Temp\\ipykernel_32688\\1628479321.py:34: ExperimentalWarning: CatBoostPruningCallback is experimental (supported from v3.0.0). The interface can change in the future.\n",
      "  pruning_callback = optuna.integration.CatBoostPruningCallback(trial, \"RMSE\")\n"
     ]
    },
    {
     "name": "stdout",
     "output_type": "stream",
     "text": [
      "500:\tlearn: 0.0379600\ttest: 0.0544692\tbest: 0.0544099 (477)\ttotal: 76.8ms\tremaining: 76.5ms\n"
     ]
    },
    {
     "name": "stderr",
     "output_type": "stream",
     "text": [
      "[I 2023-06-07 20:15:03,822] Trial 1 finished with value: 0.040289937198733534 and parameters: {'objective': 'RMSE', 'colsample_bylevel': 0.024852371843516564, 'depth': 7, 'boosting_type': 'Plain', 'bootstrap_type': 'Bernoulli', 'subsample': 0.29616916980830804}. Best is trial 0 with value: 0.036636711002973305.\n"
     ]
    },
    {
     "name": "stdout",
     "output_type": "stream",
     "text": [
      "999:\tlearn: 0.0344715\ttest: 0.0524882\tbest: 0.0524881 (998)\ttotal: 166ms\tremaining: 0us\n",
      "\n",
      "bestTest = 0.05248810775\n",
      "bestIteration = 998\n",
      "\n",
      "Shrink model to first 999 iterations.\n",
      "('Catboost', 0.040289937198733534, 0.02802684320199307, 0.2211705302043815)\n",
      "Learning rate set to 0.032991\n",
      "0:\tlearn: 0.0465541\ttest: 0.0535208\tbest: 0.0535208 (0)\ttotal: 308us\tremaining: 308ms\n"
     ]
    },
    {
     "name": "stderr",
     "output_type": "stream",
     "text": [
      "C:\\Users\\Bayu Adjie Sidharta\\AppData\\Local\\Temp\\ipykernel_32688\\1628479321.py:34: ExperimentalWarning: CatBoostPruningCallback is experimental (supported from v3.0.0). The interface can change in the future.\n",
      "  pruning_callback = optuna.integration.CatBoostPruningCallback(trial, \"RMSE\")\n"
     ]
    },
    {
     "name": "stdout",
     "output_type": "stream",
     "text": [
      "500:\tlearn: 0.0410711\ttest: 0.0492811\tbest: 0.0492773 (493)\ttotal: 67.6ms\tremaining: 67.3ms\n"
     ]
    },
    {
     "name": "stderr",
     "output_type": "stream",
     "text": [
      "[I 2023-06-07 20:15:05,724] Trial 2 finished with value: 0.04886966022860354 and parameters: {'objective': 'RMSE', 'colsample_bylevel': 0.019744499109366074, 'depth': 8, 'boosting_type': 'Plain', 'bootstrap_type': 'Bayesian', 'bagging_temperature': 5.198272504075248}. Best is trial 0 with value: 0.036636711002973305.\n"
     ]
    },
    {
     "name": "stdout",
     "output_type": "stream",
     "text": [
      "999:\tlearn: 0.0384941\ttest: 0.0472645\tbest: 0.0471984 (990)\ttotal: 168ms\tremaining: 0us\n",
      "\n",
      "bestTest = 0.04719836794\n",
      "bestIteration = 990\n",
      "\n",
      "Shrink model to first 991 iterations.\n",
      "('Catboost', 0.04886966022860354, 0.039717340745024005, -0.4339433329071516)\n",
      "Learning rate set to 0.032991\n",
      "0:\tlearn: 0.0478008\ttest: 0.0500654\tbest: 0.0500654 (0)\ttotal: 258us\tremaining: 259ms\n"
     ]
    },
    {
     "name": "stderr",
     "output_type": "stream",
     "text": [
      "C:\\Users\\Bayu Adjie Sidharta\\AppData\\Local\\Temp\\ipykernel_32688\\1628479321.py:34: ExperimentalWarning: CatBoostPruningCallback is experimental (supported from v3.0.0). The interface can change in the future.\n",
      "  pruning_callback = optuna.integration.CatBoostPruningCallback(trial, \"RMSE\")\n"
     ]
    },
    {
     "name": "stdout",
     "output_type": "stream",
     "text": [
      "500:\tlearn: 0.0391410\ttest: 0.0459656\tbest: 0.0459656 (500)\ttotal: 79.1ms\tremaining: 78.8ms\n"
     ]
    },
    {
     "name": "stderr",
     "output_type": "stream",
     "text": [
      "[I 2023-06-07 20:15:07,323] Trial 3 finished with value: 0.04013155678232498 and parameters: {'objective': 'RMSE', 'colsample_bylevel': 0.0340265765948738, 'depth': 1, 'boosting_type': 'Plain', 'bootstrap_type': 'Bayesian', 'bagging_temperature': 4.266823929783542}. Best is trial 0 with value: 0.036636711002973305.\n"
     ]
    },
    {
     "name": "stdout",
     "output_type": "stream",
     "text": [
      "Stopped by overfitting detector  (100 iterations wait)\n",
      "\n",
      "bestTest = 0.04537259468\n",
      "bestIteration = 795\n",
      "\n",
      "Shrink model to first 796 iterations.\n",
      "('Catboost', 0.04013155678232498, 0.03290782728618466, 0.33630365768687165)\n",
      "Learning rate set to 0.032991\n",
      "0:\tlearn: 0.0498740\ttest: 0.0502905\tbest: 0.0502905 (0)\ttotal: 1.18ms\tremaining: 1.18s\n"
     ]
    },
    {
     "name": "stderr",
     "output_type": "stream",
     "text": [
      "C:\\Users\\Bayu Adjie Sidharta\\AppData\\Local\\Temp\\ipykernel_32688\\1628479321.py:34: ExperimentalWarning: CatBoostPruningCallback is experimental (supported from v3.0.0). The interface can change in the future.\n",
      "  pruning_callback = optuna.integration.CatBoostPruningCallback(trial, \"RMSE\")\n"
     ]
    },
    {
     "name": "stdout",
     "output_type": "stream",
     "text": [
      "500:\tlearn: 0.0462398\ttest: 0.0472298\tbest: 0.0472298 (500)\ttotal: 510ms\tremaining: 508ms\n"
     ]
    },
    {
     "name": "stderr",
     "output_type": "stream",
     "text": [
      "[I 2023-06-07 20:15:09,994] Trial 4 finished with value: 0.037499405605529945 and parameters: {'objective': 'RMSE', 'colsample_bylevel': 0.011312975860288201, 'depth': 8, 'boosting_type': 'Ordered', 'bootstrap_type': 'MVS'}. Best is trial 0 with value: 0.036636711002973305.\n"
     ]
    },
    {
     "name": "stdout",
     "output_type": "stream",
     "text": [
      "999:\tlearn: 0.0424467\ttest: 0.0433767\tbest: 0.0433767 (999)\ttotal: 1.03s\tremaining: 0us\n",
      "\n",
      "bestTest = 0.04337668297\n",
      "bestIteration = 999\n",
      "\n",
      "('Catboost', 0.037499405605529945, 0.02894272917750925, 0.13943617625327986)\n",
      "Learning rate set to 0.032991\n",
      "0:\tlearn: 0.0510450\ttest: 0.0377610\tbest: 0.0377610 (0)\ttotal: 1.22ms\tremaining: 1.22s\n"
     ]
    },
    {
     "name": "stderr",
     "output_type": "stream",
     "text": [
      "C:\\Users\\Bayu Adjie Sidharta\\AppData\\Local\\Temp\\ipykernel_32688\\1628479321.py:34: ExperimentalWarning: CatBoostPruningCallback is experimental (supported from v3.0.0). The interface can change in the future.\n",
      "  pruning_callback = optuna.integration.CatBoostPruningCallback(trial, \"RMSE\")\n"
     ]
    },
    {
     "name": "stdout",
     "output_type": "stream",
     "text": [
      "500:\tlearn: 0.0448292\ttest: 0.0345243\tbest: 0.0345243 (500)\ttotal: 553ms\tremaining: 550ms\n"
     ]
    },
    {
     "name": "stderr",
     "output_type": "stream",
     "text": [
      "[I 2023-06-07 20:15:13,162] Trial 5 finished with value: 0.04416807806590251 and parameters: {'objective': 'RMSE', 'colsample_bylevel': 0.012729581057403959, 'depth': 12, 'boosting_type': 'Ordered', 'bootstrap_type': 'MVS'}. Best is trial 0 with value: 0.036636711002973305.\n",
      "C:\\Users\\Bayu Adjie Sidharta\\AppData\\Local\\Temp\\ipykernel_32688\\1628479321.py:34: ExperimentalWarning: CatBoostPruningCallback is experimental (supported from v3.0.0). The interface can change in the future.\n",
      "  pruning_callback = optuna.integration.CatBoostPruningCallback(trial, \"RMSE\")\n",
      "[I 2023-06-07 20:15:13,230] Trial 6 pruned. Trial was pruned at iteration 10.\n",
      "C:\\Users\\Bayu Adjie Sidharta\\AppData\\Local\\Temp\\ipykernel_32688\\1628479321.py:34: ExperimentalWarning: CatBoostPruningCallback is experimental (supported from v3.0.0). The interface can change in the future.\n",
      "  pruning_callback = optuna.integration.CatBoostPruningCallback(trial, \"RMSE\")\n",
      "[I 2023-06-07 20:15:13,281] Trial 7 pruned. Trial was pruned at iteration 10.\n"
     ]
    },
    {
     "name": "stdout",
     "output_type": "stream",
     "text": [
      "999:\tlearn: 0.0403273\ttest: 0.0337421\tbest: 0.0337016 (957)\ttotal: 1.11s\tremaining: 0us\n",
      "\n",
      "bestTest = 0.03370157694\n",
      "bestIteration = 957\n",
      "\n",
      "Shrink model to first 958 iterations.\n",
      "('Catboost', 0.04416807806590251, 0.03668870793717504, 0.12856832158672238)\n",
      "Learning rate set to 0.032991\n",
      "0:\tlearn: 0.0470309\ttest: 0.0541767\tbest: 0.0541767 (0)\ttotal: 1.13ms\tremaining: 1.13s\n",
      "\n",
      "bestTest = 0.05353693316\n",
      "bestIteration = 8\n",
      "\n",
      "Shrink model to first 9 iterations.\n",
      "Learning rate set to 0.032991\n",
      "0:\tlearn: 0.0473765\ttest: 0.0520776\tbest: 0.0520776 (0)\ttotal: 328us\tremaining: 328ms\n",
      "\n",
      "bestTest = 0.05186351708\n",
      "bestIteration = 9\n",
      "\n",
      "Shrink model to first 10 iterations.\n",
      "Learning rate set to 0.032991\n",
      "0:\tlearn: 0.0484565\ttest: 0.0562089\tbest: 0.0562089 (0)\ttotal: 1.11ms\tremaining: 1.11s\n",
      "\n",
      "bestTest = 0.05591079477\n",
      "bestIteration = 10\n",
      "\n",
      "Shrink model to first 11 iterations.\n"
     ]
    },
    {
     "name": "stderr",
     "output_type": "stream",
     "text": [
      "C:\\Users\\Bayu Adjie Sidharta\\AppData\\Local\\Temp\\ipykernel_32688\\1628479321.py:34: ExperimentalWarning: CatBoostPruningCallback is experimental (supported from v3.0.0). The interface can change in the future.\n",
      "  pruning_callback = optuna.integration.CatBoostPruningCallback(trial, \"RMSE\")\n",
      "[I 2023-06-07 20:15:13,347] Trial 8 pruned. Trial was pruned at iteration 10.\n",
      "C:\\Users\\Bayu Adjie Sidharta\\AppData\\Local\\Temp\\ipykernel_32688\\1628479321.py:34: ExperimentalWarning: CatBoostPruningCallback is experimental (supported from v3.0.0). The interface can change in the future.\n",
      "  pruning_callback = optuna.integration.CatBoostPruningCallback(trial, \"RMSE\")\n",
      "[I 2023-06-07 20:15:13,415] Trial 9 pruned. Trial was pruned at iteration 10.\n",
      "C:\\Users\\Bayu Adjie Sidharta\\AppData\\Local\\Temp\\ipykernel_32688\\1628479321.py:34: ExperimentalWarning: CatBoostPruningCallback is experimental (supported from v3.0.0). The interface can change in the future.\n",
      "  pruning_callback = optuna.integration.CatBoostPruningCallback(trial, \"RMSE\")\n"
     ]
    },
    {
     "name": "stdout",
     "output_type": "stream",
     "text": [
      "Learning rate set to 0.032991\n",
      "0:\tlearn: 0.0480436\ttest: 0.0503828\tbest: 0.0503828 (0)\ttotal: 1.25ms\tremaining: 1.25s\n",
      "\n",
      "bestTest = 0.05014267357\n",
      "bestIteration = 10\n",
      "\n",
      "Shrink model to first 11 iterations.\n",
      "Learning rate set to 0.032991\n",
      "0:\tlearn: 0.0467123\ttest: 0.0400406\tbest: 0.0400406 (0)\ttotal: 1.08ms\tremaining: 1.08s\n"
     ]
    },
    {
     "name": "stderr",
     "output_type": "stream",
     "text": [
      "[I 2023-06-07 20:15:14,478] Trial 10 finished with value: 0.05233273641154647 and parameters: {'objective': 'RMSE', 'colsample_bylevel': 0.048159925202024355, 'depth': 5, 'boosting_type': 'Ordered', 'bootstrap_type': 'MVS'}. Best is trial 0 with value: 0.036636711002973305.\n",
      "C:\\Users\\Bayu Adjie Sidharta\\AppData\\Local\\Temp\\ipykernel_32688\\1628479321.py:34: ExperimentalWarning: CatBoostPruningCallback is experimental (supported from v3.0.0). The interface can change in the future.\n",
      "  pruning_callback = optuna.integration.CatBoostPruningCallback(trial, \"RMSE\")\n",
      "[I 2023-06-07 20:15:14,562] Trial 11 pruned. Trial was pruned at iteration 10.\n"
     ]
    },
    {
     "name": "stdout",
     "output_type": "stream",
     "text": [
      "Stopped by overfitting detector  (100 iterations wait)\n",
      "\n",
      "bestTest = 0.03622738982\n",
      "bestIteration = 347\n",
      "\n",
      "Shrink model to first 348 iterations.\n",
      "('Catboost', 0.05233273641154647, 0.04217447817917235, 0.22510041980929807)\n",
      "Learning rate set to 0.032991\n",
      "0:\tlearn: 0.0481364\ttest: 0.0549618\tbest: 0.0549618 (0)\ttotal: 1.05ms\tremaining: 1.05s\n",
      "\n",
      "bestTest = 0.05473293954\n",
      "bestIteration = 4\n",
      "\n",
      "Shrink model to first 5 iterations.\n",
      "Learning rate set to 0.032991\n",
      "0:\tlearn: 0.0483960\ttest: 0.0456168\tbest: 0.0456168 (0)\ttotal: 1.16ms\tremaining: 1.16s\n"
     ]
    },
    {
     "name": "stderr",
     "output_type": "stream",
     "text": [
      "C:\\Users\\Bayu Adjie Sidharta\\AppData\\Local\\Temp\\ipykernel_32688\\1628479321.py:34: ExperimentalWarning: CatBoostPruningCallback is experimental (supported from v3.0.0). The interface can change in the future.\n",
      "  pruning_callback = optuna.integration.CatBoostPruningCallback(trial, \"RMSE\")\n"
     ]
    },
    {
     "name": "stdout",
     "output_type": "stream",
     "text": [
      "500:\tlearn: 0.0350661\ttest: 0.0377557\tbest: 0.0377240 (494)\ttotal: 539ms\tremaining: 537ms\n"
     ]
    },
    {
     "name": "stderr",
     "output_type": "stream",
     "text": [
      "[I 2023-06-07 20:15:17,749] Trial 12 finished with value: 0.04228962458797814 and parameters: {'objective': 'RMSE', 'colsample_bylevel': 0.03764445666943533, 'depth': 6, 'boosting_type': 'Ordered', 'bootstrap_type': 'MVS'}. Best is trial 0 with value: 0.036636711002973305.\n",
      "C:\\Users\\Bayu Adjie Sidharta\\AppData\\Local\\Temp\\ipykernel_32688\\1628479321.py:34: ExperimentalWarning: CatBoostPruningCallback is experimental (supported from v3.0.0). The interface can change in the future.\n",
      "  pruning_callback = optuna.integration.CatBoostPruningCallback(trial, \"RMSE\")\n",
      "[I 2023-06-07 20:15:17,829] Trial 13 pruned. Trial was pruned at iteration 10.\n",
      "C:\\Users\\Bayu Adjie Sidharta\\AppData\\Local\\Temp\\ipykernel_32688\\1628479321.py:34: ExperimentalWarning: CatBoostPruningCallback is experimental (supported from v3.0.0). The interface can change in the future.\n",
      "  pruning_callback = optuna.integration.CatBoostPruningCallback(trial, \"RMSE\")\n",
      "[I 2023-06-07 20:15:17,914] Trial 14 pruned. Trial was pruned at iteration 10.\n"
     ]
    },
    {
     "name": "stdout",
     "output_type": "stream",
     "text": [
      "Stopped by overfitting detector  (100 iterations wait)\n",
      "\n",
      "bestTest = 0.03634122055\n",
      "bestIteration = 897\n",
      "\n",
      "Shrink model to first 898 iterations.\n",
      "('Catboost', 0.04228962458797814, 0.0338232884709933, 0.3125891165417415)\n",
      "Learning rate set to 0.032991\n",
      "0:\tlearn: 0.0488101\ttest: 0.0546905\tbest: 0.0546905 (0)\ttotal: 1.2ms\tremaining: 1.2s\n",
      "\n",
      "bestTest = 0.05366264287\n",
      "bestIteration = 10\n",
      "\n",
      "Shrink model to first 11 iterations.\n",
      "Learning rate set to 0.032991\n",
      "0:\tlearn: 0.0475310\ttest: 0.0554368\tbest: 0.0554368 (0)\ttotal: 1.18ms\tremaining: 1.17s\n",
      "\n",
      "bestTest = 0.05418817996\n",
      "bestIteration = 10\n",
      "\n",
      "Shrink model to first 11 iterations.\n"
     ]
    },
    {
     "name": "stderr",
     "output_type": "stream",
     "text": [
      "C:\\Users\\Bayu Adjie Sidharta\\AppData\\Local\\Temp\\ipykernel_32688\\1628479321.py:34: ExperimentalWarning: CatBoostPruningCallback is experimental (supported from v3.0.0). The interface can change in the future.\n",
      "  pruning_callback = optuna.integration.CatBoostPruningCallback(trial, \"RMSE\")\n",
      "[I 2023-06-07 20:15:18,000] Trial 15 pruned. Trial was pruned at iteration 10.\n",
      "C:\\Users\\Bayu Adjie Sidharta\\AppData\\Local\\Temp\\ipykernel_32688\\1628479321.py:34: ExperimentalWarning: CatBoostPruningCallback is experimental (supported from v3.0.0). The interface can change in the future.\n",
      "  pruning_callback = optuna.integration.CatBoostPruningCallback(trial, \"RMSE\")\n"
     ]
    },
    {
     "name": "stdout",
     "output_type": "stream",
     "text": [
      "Learning rate set to 0.032991\n",
      "0:\tlearn: 0.0471224\ttest: 0.0539081\tbest: 0.0539081 (0)\ttotal: 1.17ms\tremaining: 1.17s\n",
      "\n",
      "bestTest = 0.05332731088\n",
      "bestIteration = 8\n",
      "\n",
      "Shrink model to first 9 iterations.\n",
      "Learning rate set to 0.032991\n",
      "0:\tlearn: 0.0500619\ttest: 0.0481559\tbest: 0.0481559 (0)\ttotal: 1.64ms\tremaining: 1.64s\n"
     ]
    },
    {
     "name": "stderr",
     "output_type": "stream",
     "text": [
      "[I 2023-06-07 20:15:18,350] Trial 16 pruned. Trial was pruned at iteration 137.\n"
     ]
    },
    {
     "name": "stdout",
     "output_type": "stream",
     "text": [
      "\n",
      "bestTest = 0.04645956783\n",
      "bestIteration = 124\n",
      "\n",
      "Shrink model to first 125 iterations.\n",
      "Learning rate set to 0.032991\n",
      "0:\tlearn: 0.0508360\ttest: 0.0479018\tbest: 0.0479018 (0)\ttotal: 1.15ms\tremaining: 1.15s\n",
      "\n",
      "bestTest = 0.04762275831\n",
      "bestIteration = 74\n",
      "\n",
      "Shrink model to first 75 iterations.\n"
     ]
    },
    {
     "name": "stderr",
     "output_type": "stream",
     "text": [
      "C:\\Users\\Bayu Adjie Sidharta\\AppData\\Local\\Temp\\ipykernel_32688\\1628479321.py:34: ExperimentalWarning: CatBoostPruningCallback is experimental (supported from v3.0.0). The interface can change in the future.\n",
      "  pruning_callback = optuna.integration.CatBoostPruningCallback(trial, \"RMSE\")\n",
      "[I 2023-06-07 20:15:18,562] Trial 17 pruned. Trial was pruned at iteration 74.\n",
      "C:\\Users\\Bayu Adjie Sidharta\\AppData\\Local\\Temp\\ipykernel_32688\\1628479321.py:34: ExperimentalWarning: CatBoostPruningCallback is experimental (supported from v3.0.0). The interface can change in the future.\n",
      "  pruning_callback = optuna.integration.CatBoostPruningCallback(trial, \"RMSE\")\n"
     ]
    },
    {
     "name": "stdout",
     "output_type": "stream",
     "text": [
      "Learning rate set to 0.032991\n",
      "0:\tlearn: 0.0451736\ttest: 0.0446094\tbest: 0.0446094 (0)\ttotal: 265us\tremaining: 265ms\n",
      "500:\tlearn: 0.0312864\ttest: 0.0389079\tbest: 0.0388936 (497)\ttotal: 153ms\tremaining: 152ms\n"
     ]
    },
    {
     "name": "stderr",
     "output_type": "stream",
     "text": [
      "[I 2023-06-07 20:15:20,715] Trial 18 finished with value: 0.05275871384163919 and parameters: {'objective': 'RMSE', 'colsample_bylevel': 0.04018678783493958, 'depth': 12, 'boosting_type': 'Plain', 'bootstrap_type': 'MVS'}. Best is trial 0 with value: 0.036636711002973305.\n"
     ]
    },
    {
     "name": "stdout",
     "output_type": "stream",
     "text": [
      "Stopped by overfitting detector  (100 iterations wait)\n",
      "\n",
      "bestTest = 0.03850777975\n",
      "bestIteration = 637\n",
      "\n",
      "Shrink model to first 638 iterations.\n",
      "('Catboost', 0.05275871384163919, 0.04445086063799067, 0.12425503979314245)\n",
      "Learning rate set to 0.032991\n",
      "0:\tlearn: 0.0517613\ttest: 0.0360371\tbest: 0.0360371 (0)\ttotal: 1.2ms\tremaining: 1.2s\n"
     ]
    },
    {
     "name": "stderr",
     "output_type": "stream",
     "text": [
      "C:\\Users\\Bayu Adjie Sidharta\\AppData\\Local\\Temp\\ipykernel_32688\\1628479321.py:34: ExperimentalWarning: CatBoostPruningCallback is experimental (supported from v3.0.0). The interface can change in the future.\n",
      "  pruning_callback = optuna.integration.CatBoostPruningCallback(trial, \"RMSE\")\n"
     ]
    },
    {
     "name": "stdout",
     "output_type": "stream",
     "text": [
      "500:\tlearn: 0.0388667\ttest: 0.0291216\tbest: 0.0291216 (500)\ttotal: 559ms\tremaining: 557ms\n"
     ]
    },
    {
     "name": "stderr",
     "output_type": "stream",
     "text": [
      "[I 2023-06-07 20:15:22,692] Trial 19 finished with value: 0.0432542943777916 and parameters: {'objective': 'RMSE', 'colsample_bylevel': 0.027800946368374366, 'depth': 6, 'boosting_type': 'Ordered', 'bootstrap_type': 'Bernoulli', 'subsample': 0.9848114977765494}. Best is trial 0 with value: 0.036636711002973305.\n",
      "C:\\Users\\Bayu Adjie Sidharta\\AppData\\Local\\Temp\\ipykernel_32688\\1628479321.py:34: ExperimentalWarning: CatBoostPruningCallback is experimental (supported from v3.0.0). The interface can change in the future.\n",
      "  pruning_callback = optuna.integration.CatBoostPruningCallback(trial, \"RMSE\")\n",
      "[I 2023-06-07 20:15:22,786] Trial 20 pruned. Trial was pruned at iteration 10.\n",
      "C:\\Users\\Bayu Adjie Sidharta\\AppData\\Local\\Temp\\ipykernel_32688\\1628479321.py:34: ExperimentalWarning: CatBoostPruningCallback is experimental (supported from v3.0.0). The interface can change in the future.\n",
      "  pruning_callback = optuna.integration.CatBoostPruningCallback(trial, \"RMSE\")\n",
      "[I 2023-06-07 20:15:22,860] Trial 21 pruned. Trial was pruned at iteration 10.\n"
     ]
    },
    {
     "name": "stdout",
     "output_type": "stream",
     "text": [
      "Stopped by overfitting detector  (100 iterations wait)\n",
      "\n",
      "bestTest = 0.02911489676\n",
      "bestIteration = 539\n",
      "\n",
      "Shrink model to first 540 iterations.\n",
      "('Catboost', 0.0432542943777916, 0.03242867226395915, 0.10219838436415274)\n",
      "Learning rate set to 0.032991\n",
      "0:\tlearn: 0.0478631\ttest: 0.0493447\tbest: 0.0493447 (0)\ttotal: 947us\tremaining: 946ms\n",
      "\n",
      "bestTest = 0.04863798295\n",
      "bestIteration = 10\n",
      "\n",
      "Shrink model to first 11 iterations.\n",
      "Learning rate set to 0.032991\n",
      "0:\tlearn: 0.0489931\ttest: 0.0554580\tbest: 0.0554580 (0)\ttotal: 238us\tremaining: 239ms\n",
      "\n",
      "bestTest = 0.05538196645\n",
      "bestIteration = 10\n",
      "\n",
      "Shrink model to first 11 iterations.\n"
     ]
    },
    {
     "name": "stderr",
     "output_type": "stream",
     "text": [
      "C:\\Users\\Bayu Adjie Sidharta\\AppData\\Local\\Temp\\ipykernel_32688\\1628479321.py:34: ExperimentalWarning: CatBoostPruningCallback is experimental (supported from v3.0.0). The interface can change in the future.\n",
      "  pruning_callback = optuna.integration.CatBoostPruningCallback(trial, \"RMSE\")\n"
     ]
    },
    {
     "name": "stdout",
     "output_type": "stream",
     "text": [
      "Learning rate set to 0.032991\n",
      "0:\tlearn: 0.0512074\ttest: 0.0421817\tbest: 0.0421817 (0)\ttotal: 273us\tremaining: 273ms\n",
      "500:\tlearn: 0.0415270\ttest: 0.0360066\tbest: 0.0360066 (500)\ttotal: 111ms\tremaining: 111ms\n"
     ]
    },
    {
     "name": "stderr",
     "output_type": "stream",
     "text": [
      "[I 2023-06-07 20:15:25,577] Trial 22 finished with value: 0.03668736324133321 and parameters: {'objective': 'RMSE', 'colsample_bylevel': 0.03253933328980005, 'depth': 3, 'boosting_type': 'Plain', 'bootstrap_type': 'Bayesian', 'bagging_temperature': 4.2032926419969066}. Best is trial 0 with value: 0.036636711002973305.\n",
      "C:\\Users\\Bayu Adjie Sidharta\\AppData\\Local\\Temp\\ipykernel_32688\\1628479321.py:34: ExperimentalWarning: CatBoostPruningCallback is experimental (supported from v3.0.0). The interface can change in the future.\n",
      "  pruning_callback = optuna.integration.CatBoostPruningCallback(trial, \"RMSE\")\n",
      "[I 2023-06-07 20:15:25,649] Trial 23 pruned. Trial was pruned at iteration 10.\n",
      "C:\\Users\\Bayu Adjie Sidharta\\AppData\\Local\\Temp\\ipykernel_32688\\1628479321.py:34: ExperimentalWarning: CatBoostPruningCallback is experimental (supported from v3.0.0). The interface can change in the future.\n",
      "  pruning_callback = optuna.integration.CatBoostPruningCallback(trial, \"RMSE\")\n",
      "[I 2023-06-07 20:15:25,762] Trial 24 pruned. Trial was pruned at iteration 10.\n"
     ]
    },
    {
     "name": "stdout",
     "output_type": "stream",
     "text": [
      "999:\tlearn: 0.0365763\ttest: 0.0330646\tbest: 0.0330502 (990)\ttotal: 232ms\tremaining: 0us\n",
      "\n",
      "bestTest = 0.03305023439\n",
      "bestIteration = 990\n",
      "\n",
      "Shrink model to first 991 iterations.\n",
      "('Catboost', 0.03668736324133321, 0.030091063632566518, 0.36023604659133657)\n",
      "Learning rate set to 0.032991\n",
      "0:\tlearn: 0.0490370\ttest: 0.0515178\tbest: 0.0515178 (0)\ttotal: 381us\tremaining: 382ms\n",
      "\n",
      "bestTest = 0.05148358844\n",
      "bestIteration = 10\n",
      "\n",
      "Shrink model to first 11 iterations.\n",
      "Learning rate set to 0.032991\n",
      "0:\tlearn: 0.0470894\ttest: 0.0498227\tbest: 0.0498227 (0)\ttotal: 300us\tremaining: 301ms\n",
      "\n",
      "bestTest = 0.0495654487\n",
      "bestIteration = 9\n",
      "\n",
      "Shrink model to first 10 iterations.\n"
     ]
    },
    {
     "name": "stderr",
     "output_type": "stream",
     "text": [
      "C:\\Users\\Bayu Adjie Sidharta\\AppData\\Local\\Temp\\ipykernel_32688\\1628479321.py:34: ExperimentalWarning: CatBoostPruningCallback is experimental (supported from v3.0.0). The interface can change in the future.\n",
      "  pruning_callback = optuna.integration.CatBoostPruningCallback(trial, \"RMSE\")\n",
      "[I 2023-06-07 20:15:25,842] Trial 25 pruned. Trial was pruned at iteration 10.\n",
      "C:\\Users\\Bayu Adjie Sidharta\\AppData\\Local\\Temp\\ipykernel_32688\\1628479321.py:34: ExperimentalWarning: CatBoostPruningCallback is experimental (supported from v3.0.0). The interface can change in the future.\n",
      "  pruning_callback = optuna.integration.CatBoostPruningCallback(trial, \"RMSE\")\n",
      "[I 2023-06-07 20:15:25,907] Trial 26 pruned. Trial was pruned at iteration 10.\n",
      "C:\\Users\\Bayu Adjie Sidharta\\AppData\\Local\\Temp\\ipykernel_32688\\1628479321.py:34: ExperimentalWarning: CatBoostPruningCallback is experimental (supported from v3.0.0). The interface can change in the future.\n",
      "  pruning_callback = optuna.integration.CatBoostPruningCallback(trial, \"RMSE\")\n"
     ]
    },
    {
     "name": "stdout",
     "output_type": "stream",
     "text": [
      "Learning rate set to 0.032991\n",
      "0:\tlearn: 0.0499238\ttest: 0.0473788\tbest: 0.0473788 (0)\ttotal: 320us\tremaining: 320ms\n",
      "\n",
      "bestTest = 0.04737865238\n",
      "bestIteration = 10\n",
      "\n",
      "Shrink model to first 11 iterations.\n",
      "Learning rate set to 0.032991\n",
      "0:\tlearn: 0.0478424\ttest: 0.0535133\tbest: 0.0535133 (0)\ttotal: 238us\tremaining: 238ms\n",
      "\n",
      "bestTest = 0.05316540206\n",
      "bestIteration = 10\n",
      "\n",
      "Shrink model to first 11 iterations.\n",
      "Learning rate set to 0.032991\n",
      "0:\tlearn: 0.0529637\ttest: 0.0377325\tbest: 0.0377325 (0)\ttotal: 1.11ms\tremaining: 1.11s\n",
      "500:\tlearn: 0.0423591\ttest: 0.0334739\tbest: 0.0334739 (500)\ttotal: 543ms\tremaining: 541ms\n"
     ]
    },
    {
     "name": "stderr",
     "output_type": "stream",
     "text": [
      "[I 2023-06-07 20:15:27,841] Trial 27 finished with value: 0.038067106702611285 and parameters: {'objective': 'RMSE', 'colsample_bylevel': 0.019661648877883135, 'depth': 7, 'boosting_type': 'Ordered', 'bootstrap_type': 'MVS'}. Best is trial 0 with value: 0.036636711002973305.\n",
      "C:\\Users\\Bayu Adjie Sidharta\\AppData\\Local\\Temp\\ipykernel_32688\\1628479321.py:34: ExperimentalWarning: CatBoostPruningCallback is experimental (supported from v3.0.0). The interface can change in the future.\n",
      "  pruning_callback = optuna.integration.CatBoostPruningCallback(trial, \"RMSE\")\n",
      "[I 2023-06-07 20:15:27,917] Trial 28 pruned. Trial was pruned at iteration 10.\n",
      "C:\\Users\\Bayu Adjie Sidharta\\AppData\\Local\\Temp\\ipykernel_32688\\1628479321.py:34: ExperimentalWarning: CatBoostPruningCallback is experimental (supported from v3.0.0). The interface can change in the future.\n",
      "  pruning_callback = optuna.integration.CatBoostPruningCallback(trial, \"RMSE\")\n",
      "[I 2023-06-07 20:15:27,993] Trial 29 pruned. Trial was pruned at iteration 10.\n"
     ]
    },
    {
     "name": "stdout",
     "output_type": "stream",
     "text": [
      "Stopped by overfitting detector  (100 iterations wait)\n",
      "\n",
      "bestTest = 0.0333222246\n",
      "bestIteration = 536\n",
      "\n",
      "Shrink model to first 537 iterations.\n",
      "('Catboost', 0.038067106702611285, 0.030297669174257778, 0.13075025595076384)\n",
      "Learning rate set to 0.032991\n",
      "0:\tlearn: 0.0446515\ttest: 0.0543466\tbest: 0.0543466 (0)\ttotal: 404us\tremaining: 404ms\n",
      "\n",
      "bestTest = 0.05389605244\n",
      "bestIteration = 10\n",
      "\n",
      "Shrink model to first 11 iterations.\n",
      "Learning rate set to 0.032991\n",
      "0:\tlearn: 0.0477652\ttest: 0.0577683\tbest: 0.0577683 (0)\ttotal: 258us\tremaining: 258ms\n",
      "\n",
      "bestTest = 0.05749021558\n",
      "bestIteration = 9\n",
      "\n",
      "Shrink model to first 10 iterations.\n"
     ]
    },
    {
     "name": "stderr",
     "output_type": "stream",
     "text": [
      "C:\\Users\\Bayu Adjie Sidharta\\AppData\\Local\\Temp\\ipykernel_32688\\1628479321.py:34: ExperimentalWarning: CatBoostPruningCallback is experimental (supported from v3.0.0). The interface can change in the future.\n",
      "  pruning_callback = optuna.integration.CatBoostPruningCallback(trial, \"RMSE\")\n",
      "[I 2023-06-07 20:15:28,096] Trial 30 pruned. Trial was pruned at iteration 10.\n",
      "C:\\Users\\Bayu Adjie Sidharta\\AppData\\Local\\Temp\\ipykernel_32688\\1628479321.py:34: ExperimentalWarning: CatBoostPruningCallback is experimental (supported from v3.0.0). The interface can change in the future.\n",
      "  pruning_callback = optuna.integration.CatBoostPruningCallback(trial, \"RMSE\")\n",
      "[I 2023-06-07 20:15:28,196] Trial 31 pruned. Trial was pruned at iteration 10.\n",
      "C:\\Users\\Bayu Adjie Sidharta\\AppData\\Local\\Temp\\ipykernel_32688\\1628479321.py:34: ExperimentalWarning: CatBoostPruningCallback is experimental (supported from v3.0.0). The interface can change in the future.\n",
      "  pruning_callback = optuna.integration.CatBoostPruningCallback(trial, \"RMSE\")\n"
     ]
    },
    {
     "name": "stdout",
     "output_type": "stream",
     "text": [
      "Learning rate set to 0.032991\n",
      "0:\tlearn: 0.0487366\ttest: 0.0454796\tbest: 0.0454796 (0)\ttotal: 1.36ms\tremaining: 1.36s\n",
      "\n",
      "bestTest = 0.04526232977\n",
      "bestIteration = 8\n",
      "\n",
      "Shrink model to first 9 iterations.\n",
      "Learning rate set to 0.032991\n",
      "0:\tlearn: 0.0476947\ttest: 0.0461936\tbest: 0.0461936 (0)\ttotal: 1.07ms\tremaining: 1.07s\n",
      "\n",
      "bestTest = 0.04606573754\n",
      "bestIteration = 10\n",
      "\n",
      "Shrink model to first 11 iterations.\n",
      "Learning rate set to 0.032991\n",
      "0:\tlearn: 0.0480650\ttest: 0.0572412\tbest: 0.0572412 (0)\ttotal: 1.06ms\tremaining: 1.05s\n",
      "\n",
      "bestTest = 0.05688455079\n",
      "bestIteration = 10\n",
      "\n",
      "Shrink model to first 11 iterations.\n"
     ]
    },
    {
     "name": "stderr",
     "output_type": "stream",
     "text": [
      "[I 2023-06-07 20:15:28,281] Trial 32 pruned. Trial was pruned at iteration 10.\n",
      "C:\\Users\\Bayu Adjie Sidharta\\AppData\\Local\\Temp\\ipykernel_32688\\1628479321.py:34: ExperimentalWarning: CatBoostPruningCallback is experimental (supported from v3.0.0). The interface can change in the future.\n",
      "  pruning_callback = optuna.integration.CatBoostPruningCallback(trial, \"RMSE\")\n",
      "[I 2023-06-07 20:15:28,371] Trial 33 pruned. Trial was pruned at iteration 10.\n",
      "C:\\Users\\Bayu Adjie Sidharta\\AppData\\Local\\Temp\\ipykernel_32688\\1628479321.py:34: ExperimentalWarning: CatBoostPruningCallback is experimental (supported from v3.0.0). The interface can change in the future.\n",
      "  pruning_callback = optuna.integration.CatBoostPruningCallback(trial, \"RMSE\")\n",
      "[I 2023-06-07 20:15:28,461] Trial 34 pruned. Trial was pruned at iteration 10.\n",
      "C:\\Users\\Bayu Adjie Sidharta\\AppData\\Local\\Temp\\ipykernel_32688\\1628479321.py:34: ExperimentalWarning: CatBoostPruningCallback is experimental (supported from v3.0.0). The interface can change in the future.\n",
      "  pruning_callback = optuna.integration.CatBoostPruningCallback(trial, \"RMSE\")\n"
     ]
    },
    {
     "name": "stdout",
     "output_type": "stream",
     "text": [
      "Learning rate set to 0.032991\n",
      "0:\tlearn: 0.0489823\ttest: 0.0503161\tbest: 0.0503161 (0)\ttotal: 1.13ms\tremaining: 1.13s\n",
      "\n",
      "bestTest = 0.04990742757\n",
      "bestIteration = 10\n",
      "\n",
      "Shrink model to first 11 iterations.\n",
      "Learning rate set to 0.032991\n",
      "0:\tlearn: 0.0480780\ttest: 0.0519959\tbest: 0.0519959 (0)\ttotal: 1.12ms\tremaining: 1.12s\n",
      "\n",
      "bestTest = 0.05175447918\n",
      "bestIteration = 10\n",
      "\n",
      "Shrink model to first 11 iterations.\n",
      "Learning rate set to 0.032991\n",
      "0:\tlearn: 0.0524178\ttest: 0.0438393\tbest: 0.0438393 (0)\ttotal: 1.1ms\tremaining: 1.1s\n"
     ]
    },
    {
     "name": "stderr",
     "output_type": "stream",
     "text": [
      "[I 2023-06-07 20:15:28,624] Trial 35 pruned. Trial was pruned at iteration 42.\n",
      "C:\\Users\\Bayu Adjie Sidharta\\AppData\\Local\\Temp\\ipykernel_32688\\1628479321.py:34: ExperimentalWarning: CatBoostPruningCallback is experimental (supported from v3.0.0). The interface can change in the future.\n",
      "  pruning_callback = optuna.integration.CatBoostPruningCallback(trial, \"RMSE\")\n",
      "[I 2023-06-07 20:15:28,706] Trial 36 pruned. Trial was pruned at iteration 27.\n",
      "C:\\Users\\Bayu Adjie Sidharta\\AppData\\Local\\Temp\\ipykernel_32688\\1628479321.py:34: ExperimentalWarning: CatBoostPruningCallback is experimental (supported from v3.0.0). The interface can change in the future.\n",
      "  pruning_callback = optuna.integration.CatBoostPruningCallback(trial, \"RMSE\")\n",
      "[I 2023-06-07 20:15:28,790] Trial 37 pruned. Trial was pruned at iteration 10.\n"
     ]
    },
    {
     "name": "stdout",
     "output_type": "stream",
     "text": [
      "\n",
      "bestTest = 0.04324727963\n",
      "bestIteration = 27\n",
      "\n",
      "Shrink model to first 28 iterations.\n",
      "Learning rate set to 0.032991\n",
      "0:\tlearn: 0.0512851\ttest: 0.0440056\tbest: 0.0440056 (0)\ttotal: 267us\tremaining: 267ms\n",
      "\n",
      "bestTest = 0.04398589623\n",
      "bestIteration = 17\n",
      "\n",
      "Shrink model to first 18 iterations.\n",
      "Learning rate set to 0.032991\n",
      "0:\tlearn: 0.0480273\ttest: 0.0529945\tbest: 0.0529945 (0)\ttotal: 1.06ms\tremaining: 1.06s\n",
      "\n",
      "bestTest = 0.05249748139\n",
      "bestIteration = 10\n",
      "\n",
      "Shrink model to first 11 iterations.\n"
     ]
    },
    {
     "name": "stderr",
     "output_type": "stream",
     "text": [
      "C:\\Users\\Bayu Adjie Sidharta\\AppData\\Local\\Temp\\ipykernel_32688\\1628479321.py:34: ExperimentalWarning: CatBoostPruningCallback is experimental (supported from v3.0.0). The interface can change in the future.\n",
      "  pruning_callback = optuna.integration.CatBoostPruningCallback(trial, \"RMSE\")\n",
      "[I 2023-06-07 20:15:28,857] Trial 38 pruned. Trial was pruned at iteration 10.\n",
      "C:\\Users\\Bayu Adjie Sidharta\\AppData\\Local\\Temp\\ipykernel_32688\\1628479321.py:34: ExperimentalWarning: CatBoostPruningCallback is experimental (supported from v3.0.0). The interface can change in the future.\n",
      "  pruning_callback = optuna.integration.CatBoostPruningCallback(trial, \"RMSE\")\n"
     ]
    },
    {
     "name": "stdout",
     "output_type": "stream",
     "text": [
      "Learning rate set to 0.032991\n",
      "0:\tlearn: 0.0482970\ttest: 0.0569523\tbest: 0.0569523 (0)\ttotal: 284us\tremaining: 285ms\n",
      "\n",
      "bestTest = 0.05657191442\n",
      "bestIteration = 10\n",
      "\n",
      "Shrink model to first 11 iterations.\n",
      "Learning rate set to 0.032991\n",
      "0:\tlearn: 0.0520507\ttest: 0.0413726\tbest: 0.0413726 (0)\ttotal: 1.23ms\tremaining: 1.23s\n",
      "500:\tlearn: 0.0435354\ttest: 0.0345264\tbest: 0.0345148 (447)\ttotal: 530ms\tremaining: 528ms\n"
     ]
    },
    {
     "name": "stderr",
     "output_type": "stream",
     "text": [
      "[I 2023-06-07 20:15:32,217] Trial 39 finished with value: 0.03834814552357715 and parameters: {'objective': 'RMSE', 'colsample_bylevel': 0.03177945805431129, 'depth': 8, 'boosting_type': 'Ordered', 'bootstrap_type': 'Bayesian', 'bagging_temperature': 5.700127327337446}. Best is trial 0 with value: 0.036636711002973305.\n",
      "C:\\Users\\Bayu Adjie Sidharta\\AppData\\Local\\Temp\\ipykernel_32688\\1628479321.py:34: ExperimentalWarning: CatBoostPruningCallback is experimental (supported from v3.0.0). The interface can change in the future.\n",
      "  pruning_callback = optuna.integration.CatBoostPruningCallback(trial, \"RMSE\")\n",
      "[I 2023-06-07 20:15:32,297] Trial 40 pruned. Trial was pruned at iteration 10.\n"
     ]
    },
    {
     "name": "stdout",
     "output_type": "stream",
     "text": [
      "999:\tlearn: 0.0387960\ttest: 0.0314901\tbest: 0.0314475 (985)\ttotal: 1.11s\tremaining: 0us\n",
      "\n",
      "bestTest = 0.03144748272\n",
      "bestIteration = 985\n",
      "\n",
      "Shrink model to first 986 iterations.\n",
      "('Catboost', 0.03834814552357715, 0.029386115162968587, 0.20406034798122474)\n",
      "Learning rate set to 0.032991\n",
      "0:\tlearn: 0.0479374\ttest: 0.0552601\tbest: 0.0552601 (0)\ttotal: 1.56ms\tremaining: 1.56s\n",
      "\n",
      "bestTest = 0.05494130903\n",
      "bestIteration = 6\n",
      "\n",
      "Shrink model to first 7 iterations.\n",
      "Learning rate set to 0.032991\n",
      "0:\tlearn: 0.0512239\ttest: 0.0430582\tbest: 0.0430582 (0)\ttotal: 1.2ms\tremaining: 1.2s\n"
     ]
    },
    {
     "name": "stderr",
     "output_type": "stream",
     "text": [
      "C:\\Users\\Bayu Adjie Sidharta\\AppData\\Local\\Temp\\ipykernel_32688\\1628479321.py:34: ExperimentalWarning: CatBoostPruningCallback is experimental (supported from v3.0.0). The interface can change in the future.\n",
      "  pruning_callback = optuna.integration.CatBoostPruningCallback(trial, \"RMSE\")\n",
      "[I 2023-06-07 20:15:32,542] Trial 41 pruned. Trial was pruned at iteration 87.\n",
      "C:\\Users\\Bayu Adjie Sidharta\\AppData\\Local\\Temp\\ipykernel_32688\\1628479321.py:34: ExperimentalWarning: CatBoostPruningCallback is experimental (supported from v3.0.0). The interface can change in the future.\n",
      "  pruning_callback = optuna.integration.CatBoostPruningCallback(trial, \"RMSE\")\n",
      "[I 2023-06-07 20:15:32,635] Trial 42 pruned. Trial was pruned at iteration 10.\n"
     ]
    },
    {
     "name": "stdout",
     "output_type": "stream",
     "text": [
      "\n",
      "bestTest = 0.04236989258\n",
      "bestIteration = 70\n",
      "\n",
      "Shrink model to first 71 iterations.\n",
      "Learning rate set to 0.032991\n",
      "0:\tlearn: 0.0468395\ttest: 0.0461831\tbest: 0.0461831 (0)\ttotal: 966us\tremaining: 966ms\n",
      "\n",
      "bestTest = 0.04595110566\n",
      "bestIteration = 10\n",
      "\n",
      "Shrink model to first 11 iterations.\n",
      "Learning rate set to 0.032991\n",
      "0:\tlearn: 0.0481586\ttest: 0.0431421\tbest: 0.0431421 (0)\ttotal: 1.24ms\tremaining: 1.24s\n"
     ]
    },
    {
     "name": "stderr",
     "output_type": "stream",
     "text": [
      "C:\\Users\\Bayu Adjie Sidharta\\AppData\\Local\\Temp\\ipykernel_32688\\1628479321.py:34: ExperimentalWarning: CatBoostPruningCallback is experimental (supported from v3.0.0). The interface can change in the future.\n",
      "  pruning_callback = optuna.integration.CatBoostPruningCallback(trial, \"RMSE\")\n",
      "[I 2023-06-07 20:15:32,882] Trial 43 pruned. Trial was pruned at iteration 87.\n",
      "C:\\Users\\Bayu Adjie Sidharta\\AppData\\Local\\Temp\\ipykernel_32688\\1628479321.py:34: ExperimentalWarning: CatBoostPruningCallback is experimental (supported from v3.0.0). The interface can change in the future.\n",
      "  pruning_callback = optuna.integration.CatBoostPruningCallback(trial, \"RMSE\")\n",
      "[I 2023-06-07 20:15:33,008] Trial 44 pruned. Trial was pruned at iteration 33.\n"
     ]
    },
    {
     "name": "stdout",
     "output_type": "stream",
     "text": [
      "\n",
      "bestTest = 0.04221380858\n",
      "bestIteration = 78\n",
      "\n",
      "Shrink model to first 79 iterations.\n",
      "Learning rate set to 0.032991\n",
      "0:\tlearn: 0.0477099\ttest: 0.0436858\tbest: 0.0436858 (0)\ttotal: 1.16ms\tremaining: 1.16s\n",
      "\n",
      "bestTest = 0.04339235894\n",
      "bestIteration = 24\n",
      "\n",
      "Shrink model to first 25 iterations.\n",
      "Learning rate set to 0.032991\n",
      "0:\tlearn: 0.0479905\ttest: 0.0419074\tbest: 0.0419074 (0)\ttotal: 1.05ms\tremaining: 1.05s\n"
     ]
    },
    {
     "name": "stderr",
     "output_type": "stream",
     "text": [
      "C:\\Users\\Bayu Adjie Sidharta\\AppData\\Local\\Temp\\ipykernel_32688\\1628479321.py:34: ExperimentalWarning: CatBoostPruningCallback is experimental (supported from v3.0.0). The interface can change in the future.\n",
      "  pruning_callback = optuna.integration.CatBoostPruningCallback(trial, \"RMSE\")\n",
      "[I 2023-06-07 20:15:33,333] Trial 45 pruned. Trial was pruned at iteration 120.\n",
      "C:\\Users\\Bayu Adjie Sidharta\\AppData\\Local\\Temp\\ipykernel_32688\\1628479321.py:34: ExperimentalWarning: CatBoostPruningCallback is experimental (supported from v3.0.0). The interface can change in the future.\n",
      "  pruning_callback = optuna.integration.CatBoostPruningCallback(trial, \"RMSE\")\n",
      "[I 2023-06-07 20:15:33,421] Trial 46 pruned. Trial was pruned at iteration 10.\n"
     ]
    },
    {
     "name": "stdout",
     "output_type": "stream",
     "text": [
      "\n",
      "bestTest = 0.04143489931\n",
      "bestIteration = 98\n",
      "\n",
      "Shrink model to first 99 iterations.\n",
      "Learning rate set to 0.032991\n",
      "0:\tlearn: 0.0486901\ttest: 0.0513325\tbest: 0.0513325 (0)\ttotal: 1.05ms\tremaining: 1.05s\n",
      "\n",
      "bestTest = 0.0511594985\n",
      "bestIteration = 9\n",
      "\n",
      "Shrink model to first 10 iterations.\n",
      "Learning rate set to 0.032991\n",
      "0:\tlearn: 0.0507513\ttest: 0.0406981\tbest: 0.0406981 (0)\ttotal: 1.08ms\tremaining: 1.08s\n"
     ]
    },
    {
     "name": "stderr",
     "output_type": "stream",
     "text": [
      "C:\\Users\\Bayu Adjie Sidharta\\AppData\\Local\\Temp\\ipykernel_32688\\1628479321.py:34: ExperimentalWarning: CatBoostPruningCallback is experimental (supported from v3.0.0). The interface can change in the future.\n",
      "  pruning_callback = optuna.integration.CatBoostPruningCallback(trial, \"RMSE\")\n",
      "[I 2023-06-07 20:15:33,868] Trial 47 pruned. Trial was pruned at iteration 173.\n",
      "C:\\Users\\Bayu Adjie Sidharta\\AppData\\Local\\Temp\\ipykernel_32688\\1628479321.py:34: ExperimentalWarning: CatBoostPruningCallback is experimental (supported from v3.0.0). The interface can change in the future.\n",
      "  pruning_callback = optuna.integration.CatBoostPruningCallback(trial, \"RMSE\")\n",
      "[I 2023-06-07 20:15:33,962] Trial 48 pruned. Trial was pruned at iteration 10.\n",
      "C:\\Users\\Bayu Adjie Sidharta\\AppData\\Local\\Temp\\ipykernel_32688\\1628479321.py:34: ExperimentalWarning: CatBoostPruningCallback is experimental (supported from v3.0.0). The interface can change in the future.\n",
      "  pruning_callback = optuna.integration.CatBoostPruningCallback(trial, \"RMSE\")\n",
      "[I 2023-06-07 20:15:34,047] Trial 49 pruned. Trial was pruned at iteration 10.\n"
     ]
    },
    {
     "name": "stdout",
     "output_type": "stream",
     "text": [
      "\n",
      "bestTest = 0.04035528751\n",
      "bestIteration = 129\n",
      "\n",
      "Shrink model to first 130 iterations.\n",
      "Learning rate set to 0.032991\n",
      "0:\tlearn: 0.0479869\ttest: 0.0518498\tbest: 0.0518498 (0)\ttotal: 1.43ms\tremaining: 1.43s\n",
      "\n",
      "bestTest = 0.05157755598\n",
      "bestIteration = 10\n",
      "\n",
      "Shrink model to first 11 iterations.\n",
      "Learning rate set to 0.032991\n",
      "0:\tlearn: 0.0513649\ttest: 0.0462869\tbest: 0.0462869 (0)\ttotal: 1.3ms\tremaining: 1.3s\n",
      "\n",
      "bestTest = 0.04622312527\n",
      "bestIteration = 4\n",
      "\n",
      "Shrink model to first 5 iterations.\n"
     ]
    },
    {
     "name": "stderr",
     "output_type": "stream",
     "text": [
      "C:\\Users\\Bayu Adjie Sidharta\\AppData\\Local\\Temp\\ipykernel_32688\\1628479321.py:34: ExperimentalWarning: CatBoostPruningCallback is experimental (supported from v3.0.0). The interface can change in the future.\n",
      "  pruning_callback = optuna.integration.CatBoostPruningCallback(trial, \"RMSE\")\n",
      "[I 2023-06-07 20:15:34,128] Trial 50 pruned. Trial was pruned at iteration 10.\n",
      "C:\\Users\\Bayu Adjie Sidharta\\AppData\\Local\\Temp\\ipykernel_32688\\1628479321.py:34: ExperimentalWarning: CatBoostPruningCallback is experimental (supported from v3.0.0). The interface can change in the future.\n",
      "  pruning_callback = optuna.integration.CatBoostPruningCallback(trial, \"RMSE\")\n",
      "[I 2023-06-07 20:15:34,219] Trial 51 pruned. Trial was pruned at iteration 10.\n",
      "C:\\Users\\Bayu Adjie Sidharta\\AppData\\Local\\Temp\\ipykernel_32688\\1628479321.py:34: ExperimentalWarning: CatBoostPruningCallback is experimental (supported from v3.0.0). The interface can change in the future.\n",
      "  pruning_callback = optuna.integration.CatBoostPruningCallback(trial, \"RMSE\")\n"
     ]
    },
    {
     "name": "stdout",
     "output_type": "stream",
     "text": [
      "Learning rate set to 0.032991\n",
      "0:\tlearn: 0.0469941\ttest: 0.0556456\tbest: 0.0556456 (0)\ttotal: 262us\tremaining: 262ms\n",
      "\n",
      "bestTest = 0.05564556166\n",
      "bestIteration = 0\n",
      "\n",
      "Shrink model to first 1 iterations.\n",
      "Learning rate set to 0.032991\n",
      "0:\tlearn: 0.0475578\ttest: 0.0490518\tbest: 0.0490518 (0)\ttotal: 302us\tremaining: 303ms\n",
      "\n",
      "bestTest = 0.048916518\n",
      "bestIteration = 9\n",
      "\n",
      "Shrink model to first 10 iterations.\n",
      "Learning rate set to 0.032991\n",
      "0:\tlearn: 0.0543525\ttest: 0.0429205\tbest: 0.0429205 (0)\ttotal: 379us\tremaining: 379ms\n"
     ]
    },
    {
     "name": "stderr",
     "output_type": "stream",
     "text": [
      "[I 2023-06-07 20:15:34,429] Trial 52 pruned. Trial was pruned at iteration 126.\n",
      "C:\\Users\\Bayu Adjie Sidharta\\AppData\\Local\\Temp\\ipykernel_32688\\1628479321.py:34: ExperimentalWarning: CatBoostPruningCallback is experimental (supported from v3.0.0). The interface can change in the future.\n",
      "  pruning_callback = optuna.integration.CatBoostPruningCallback(trial, \"RMSE\")\n",
      "[I 2023-06-07 20:15:34,514] Trial 53 pruned. Trial was pruned at iteration 10.\n",
      "C:\\Users\\Bayu Adjie Sidharta\\AppData\\Local\\Temp\\ipykernel_32688\\1628479321.py:34: ExperimentalWarning: CatBoostPruningCallback is experimental (supported from v3.0.0). The interface can change in the future.\n",
      "  pruning_callback = optuna.integration.CatBoostPruningCallback(trial, \"RMSE\")\n",
      "[I 2023-06-07 20:15:34,594] Trial 54 pruned. Trial was pruned at iteration 10.\n"
     ]
    },
    {
     "name": "stdout",
     "output_type": "stream",
     "text": [
      "\n",
      "bestTest = 0.04127167423\n",
      "bestIteration = 125\n",
      "\n",
      "Shrink model to first 126 iterations.\n",
      "Learning rate set to 0.032991\n",
      "0:\tlearn: 0.0526197\ttest: 0.0449971\tbest: 0.0449971 (0)\ttotal: 313us\tremaining: 313ms\n",
      "\n",
      "bestTest = 0.0447592346\n",
      "bestIteration = 8\n",
      "\n",
      "Shrink model to first 9 iterations.\n",
      "Learning rate set to 0.032991\n",
      "0:\tlearn: 0.0443420\ttest: 0.0579456\tbest: 0.0579456 (0)\ttotal: 321us\tremaining: 321ms\n",
      "\n",
      "bestTest = 0.0577125406\n",
      "bestIteration = 10\n",
      "\n",
      "Shrink model to first 11 iterations.\n"
     ]
    },
    {
     "name": "stderr",
     "output_type": "stream",
     "text": [
      "C:\\Users\\Bayu Adjie Sidharta\\AppData\\Local\\Temp\\ipykernel_32688\\1628479321.py:34: ExperimentalWarning: CatBoostPruningCallback is experimental (supported from v3.0.0). The interface can change in the future.\n",
      "  pruning_callback = optuna.integration.CatBoostPruningCallback(trial, \"RMSE\")\n",
      "[I 2023-06-07 20:15:34,718] Trial 55 pruned. Trial was pruned at iteration 10.\n",
      "C:\\Users\\Bayu Adjie Sidharta\\AppData\\Local\\Temp\\ipykernel_32688\\1628479321.py:34: ExperimentalWarning: CatBoostPruningCallback is experimental (supported from v3.0.0). The interface can change in the future.\n",
      "  pruning_callback = optuna.integration.CatBoostPruningCallback(trial, \"RMSE\")\n",
      "[I 2023-06-07 20:15:34,801] Trial 56 pruned. Trial was pruned at iteration 10.\n"
     ]
    },
    {
     "name": "stdout",
     "output_type": "stream",
     "text": [
      "Learning rate set to 0.032991\n",
      "0:\tlearn: 0.0470432\ttest: 0.0581607\tbest: 0.0581607 (0)\ttotal: 1.09ms\tremaining: 1.09s\n",
      "\n",
      "bestTest = 0.05770119716\n",
      "bestIteration = 8\n",
      "\n",
      "Shrink model to first 9 iterations.\n",
      "Learning rate set to 0.032991\n",
      "0:\tlearn: 0.0465163\ttest: 0.0548861\tbest: 0.0548861 (0)\ttotal: 273us\tremaining: 273ms\n",
      "\n",
      "bestTest = 0.05464035462\n",
      "bestIteration = 10\n",
      "\n",
      "Shrink model to first 11 iterations.\n"
     ]
    },
    {
     "name": "stderr",
     "output_type": "stream",
     "text": [
      "C:\\Users\\Bayu Adjie Sidharta\\AppData\\Local\\Temp\\ipykernel_32688\\1628479321.py:34: ExperimentalWarning: CatBoostPruningCallback is experimental (supported from v3.0.0). The interface can change in the future.\n",
      "  pruning_callback = optuna.integration.CatBoostPruningCallback(trial, \"RMSE\")\n",
      "[I 2023-06-07 20:15:34,907] Trial 57 pruned. Trial was pruned at iteration 10.\n",
      "C:\\Users\\Bayu Adjie Sidharta\\AppData\\Local\\Temp\\ipykernel_32688\\1628479321.py:34: ExperimentalWarning: CatBoostPruningCallback is experimental (supported from v3.0.0). The interface can change in the future.\n",
      "  pruning_callback = optuna.integration.CatBoostPruningCallback(trial, \"RMSE\")\n",
      "[I 2023-06-07 20:15:34,982] Trial 58 pruned. Trial was pruned at iteration 10.\n",
      "C:\\Users\\Bayu Adjie Sidharta\\AppData\\Local\\Temp\\ipykernel_32688\\1628479321.py:34: ExperimentalWarning: CatBoostPruningCallback is experimental (supported from v3.0.0). The interface can change in the future.\n",
      "  pruning_callback = optuna.integration.CatBoostPruningCallback(trial, \"RMSE\")\n"
     ]
    },
    {
     "name": "stdout",
     "output_type": "stream",
     "text": [
      "Learning rate set to 0.032991\n",
      "0:\tlearn: 0.0487626\ttest: 0.0528982\tbest: 0.0528982 (0)\ttotal: 1.17ms\tremaining: 1.17s\n",
      "\n",
      "bestTest = 0.05258780574\n",
      "bestIteration = 9\n",
      "\n",
      "Shrink model to first 10 iterations.\n",
      "Learning rate set to 0.032991\n",
      "0:\tlearn: 0.0504115\ttest: 0.0468731\tbest: 0.0468731 (0)\ttotal: 262us\tremaining: 263ms\n",
      "\n",
      "bestTest = 0.04658488046\n",
      "bestIteration = 10\n",
      "\n",
      "Shrink model to first 11 iterations.\n",
      "Learning rate set to 0.032991\n",
      "0:\tlearn: 0.0478251\ttest: 0.0473442\tbest: 0.0473442 (0)\ttotal: 2.4ms\tremaining: 2.39s\n"
     ]
    },
    {
     "name": "stderr",
     "output_type": "stream",
     "text": [
      "[I 2023-06-07 20:15:35,080] Trial 59 pruned. Trial was pruned at iteration 10.\n",
      "C:\\Users\\Bayu Adjie Sidharta\\AppData\\Local\\Temp\\ipykernel_32688\\1628479321.py:34: ExperimentalWarning: CatBoostPruningCallback is experimental (supported from v3.0.0). The interface can change in the future.\n",
      "  pruning_callback = optuna.integration.CatBoostPruningCallback(trial, \"RMSE\")\n",
      "[I 2023-06-07 20:15:35,190] Trial 60 pruned. Trial was pruned at iteration 10.\n",
      "C:\\Users\\Bayu Adjie Sidharta\\AppData\\Local\\Temp\\ipykernel_32688\\1628479321.py:34: ExperimentalWarning: CatBoostPruningCallback is experimental (supported from v3.0.0). The interface can change in the future.\n",
      "  pruning_callback = optuna.integration.CatBoostPruningCallback(trial, \"RMSE\")\n",
      "[I 2023-06-07 20:15:35,268] Trial 61 pruned. Trial was pruned at iteration 10.\n"
     ]
    },
    {
     "name": "stdout",
     "output_type": "stream",
     "text": [
      "\n",
      "bestTest = 0.04691246643\n",
      "bestIteration = 10\n",
      "\n",
      "Shrink model to first 11 iterations.\n",
      "Learning rate set to 0.032991\n",
      "0:\tlearn: 0.0517178\ttest: 0.0456979\tbest: 0.0456979 (0)\ttotal: 353us\tremaining: 353ms\n",
      "\n",
      "bestTest = 0.04547617461\n",
      "bestIteration = 10\n",
      "\n",
      "Shrink model to first 11 iterations.\n",
      "Learning rate set to 0.032991\n",
      "0:\tlearn: 0.0454954\ttest: 0.0458149\tbest: 0.0458149 (0)\ttotal: 200us\tremaining: 200ms\n",
      "\n",
      "bestTest = 0.04549152043\n",
      "bestIteration = 4\n",
      "\n",
      "Shrink model to first 5 iterations.\n"
     ]
    },
    {
     "name": "stderr",
     "output_type": "stream",
     "text": [
      "C:\\Users\\Bayu Adjie Sidharta\\AppData\\Local\\Temp\\ipykernel_32688\\1628479321.py:34: ExperimentalWarning: CatBoostPruningCallback is experimental (supported from v3.0.0). The interface can change in the future.\n",
      "  pruning_callback = optuna.integration.CatBoostPruningCallback(trial, \"RMSE\")\n",
      "[I 2023-06-07 20:15:35,345] Trial 62 pruned. Trial was pruned at iteration 10.\n",
      "C:\\Users\\Bayu Adjie Sidharta\\AppData\\Local\\Temp\\ipykernel_32688\\1628479321.py:34: ExperimentalWarning: CatBoostPruningCallback is experimental (supported from v3.0.0). The interface can change in the future.\n",
      "  pruning_callback = optuna.integration.CatBoostPruningCallback(trial, \"RMSE\")\n"
     ]
    },
    {
     "name": "stdout",
     "output_type": "stream",
     "text": [
      "Learning rate set to 0.032991\n",
      "0:\tlearn: 0.0475603\ttest: 0.0499309\tbest: 0.0499309 (0)\ttotal: 380us\tremaining: 380ms\n",
      "\n",
      "bestTest = 0.04931400861\n",
      "bestIteration = 8\n",
      "\n",
      "Shrink model to first 9 iterations.\n",
      "Learning rate set to 0.032991\n",
      "0:\tlearn: 0.0501984\ttest: 0.0385698\tbest: 0.0385698 (0)\ttotal: 203us\tremaining: 203ms\n",
      "500:\tlearn: 0.0398380\ttest: 0.0312502\tbest: 0.0312502 (500)\ttotal: 91.6ms\tremaining: 91.3ms\n"
     ]
    },
    {
     "name": "stderr",
     "output_type": "stream",
     "text": [
      "[I 2023-06-07 20:15:36,466] Trial 63 finished with value: 0.04551118601528584 and parameters: {'objective': 'RMSE', 'colsample_bylevel': 0.03386927591305926, 'depth': 8, 'boosting_type': 'Plain', 'bootstrap_type': 'Bernoulli', 'subsample': 0.19458574707110549}. Best is trial 0 with value: 0.036636711002973305.\n",
      "C:\\Users\\Bayu Adjie Sidharta\\AppData\\Local\\Temp\\ipykernel_32688\\1628479321.py:34: ExperimentalWarning: CatBoostPruningCallback is experimental (supported from v3.0.0). The interface can change in the future.\n",
      "  pruning_callback = optuna.integration.CatBoostPruningCallback(trial, \"RMSE\")\n",
      "[I 2023-06-07 20:15:36,537] Trial 64 pruned. Trial was pruned at iteration 10.\n",
      "C:\\Users\\Bayu Adjie Sidharta\\AppData\\Local\\Temp\\ipykernel_32688\\1628479321.py:34: ExperimentalWarning: CatBoostPruningCallback is experimental (supported from v3.0.0). The interface can change in the future.\n",
      "  pruning_callback = optuna.integration.CatBoostPruningCallback(trial, \"RMSE\")\n",
      "[I 2023-06-07 20:15:36,617] Trial 65 pruned. Trial was pruned at iteration 10.\n"
     ]
    },
    {
     "name": "stdout",
     "output_type": "stream",
     "text": [
      "Stopped by overfitting detector  (100 iterations wait)\n",
      "\n",
      "bestTest = 0.03116241432\n",
      "bestIteration = 531\n",
      "\n",
      "Shrink model to first 532 iterations.\n",
      "('Catboost', 0.04551118601528584, 0.03349429502269046, 0.19500254660956373)\n",
      "Learning rate set to 0.032991\n",
      "0:\tlearn: 0.0466758\ttest: 0.0518593\tbest: 0.0518593 (0)\ttotal: 251us\tremaining: 252ms\n",
      "\n",
      "bestTest = 0.05108377923\n",
      "bestIteration = 4\n",
      "\n",
      "Shrink model to first 5 iterations.\n",
      "Learning rate set to 0.032991\n",
      "0:\tlearn: 0.0479701\ttest: 0.0477919\tbest: 0.0477919 (0)\ttotal: 1.19ms\tremaining: 1.19s\n",
      "\n",
      "bestTest = 0.04774547634\n",
      "bestIteration = 5\n",
      "\n",
      "Shrink model to first 6 iterations.\n"
     ]
    },
    {
     "name": "stderr",
     "output_type": "stream",
     "text": [
      "C:\\Users\\Bayu Adjie Sidharta\\AppData\\Local\\Temp\\ipykernel_32688\\1628479321.py:34: ExperimentalWarning: CatBoostPruningCallback is experimental (supported from v3.0.0). The interface can change in the future.\n",
      "  pruning_callback = optuna.integration.CatBoostPruningCallback(trial, \"RMSE\")\n",
      "[I 2023-06-07 20:15:36,689] Trial 66 pruned. Trial was pruned at iteration 10.\n",
      "C:\\Users\\Bayu Adjie Sidharta\\AppData\\Local\\Temp\\ipykernel_32688\\1628479321.py:34: ExperimentalWarning: CatBoostPruningCallback is experimental (supported from v3.0.0). The interface can change in the future.\n",
      "  pruning_callback = optuna.integration.CatBoostPruningCallback(trial, \"RMSE\")\n",
      "[I 2023-06-07 20:15:36,780] Trial 67 pruned. Trial was pruned at iteration 10.\n",
      "C:\\Users\\Bayu Adjie Sidharta\\AppData\\Local\\Temp\\ipykernel_32688\\1628479321.py:34: ExperimentalWarning: CatBoostPruningCallback is experimental (supported from v3.0.0). The interface can change in the future.\n",
      "  pruning_callback = optuna.integration.CatBoostPruningCallback(trial, \"RMSE\")\n"
     ]
    },
    {
     "name": "stdout",
     "output_type": "stream",
     "text": [
      "Learning rate set to 0.032991\n",
      "0:\tlearn: 0.0447342\ttest: 0.0513078\tbest: 0.0513078 (0)\ttotal: 139us\tremaining: 140ms\n",
      "\n",
      "bestTest = 0.05105048745\n",
      "bestIteration = 10\n",
      "\n",
      "Shrink model to first 11 iterations.\n",
      "Learning rate set to 0.032991\n",
      "0:\tlearn: 0.0459325\ttest: 0.0589210\tbest: 0.0589210 (0)\ttotal: 1.16ms\tremaining: 1.16s\n",
      "\n",
      "bestTest = 0.05878943932\n",
      "bestIteration = 10\n",
      "\n",
      "Shrink model to first 11 iterations.\n",
      "Learning rate set to 0.032991\n",
      "0:\tlearn: 0.0480506\ttest: 0.0460199\tbest: 0.0460199 (0)\ttotal: 296us\tremaining: 296ms\n",
      "\n",
      "bestTest = 0.0456882391\n",
      "bestIteration = 10\n",
      "\n",
      "Shrink model to first 11 iterations.\n"
     ]
    },
    {
     "name": "stderr",
     "output_type": "stream",
     "text": [
      "[I 2023-06-07 20:15:36,859] Trial 68 pruned. Trial was pruned at iteration 10.\n",
      "C:\\Users\\Bayu Adjie Sidharta\\AppData\\Local\\Temp\\ipykernel_32688\\1628479321.py:34: ExperimentalWarning: CatBoostPruningCallback is experimental (supported from v3.0.0). The interface can change in the future.\n",
      "  pruning_callback = optuna.integration.CatBoostPruningCallback(trial, \"RMSE\")\n",
      "[I 2023-06-07 20:15:36,940] Trial 69 pruned. Trial was pruned at iteration 10.\n",
      "C:\\Users\\Bayu Adjie Sidharta\\AppData\\Local\\Temp\\ipykernel_32688\\1628479321.py:34: ExperimentalWarning: CatBoostPruningCallback is experimental (supported from v3.0.0). The interface can change in the future.\n",
      "  pruning_callback = optuna.integration.CatBoostPruningCallback(trial, \"RMSE\")\n",
      "[I 2023-06-07 20:15:37,032] Trial 70 pruned. Trial was pruned at iteration 10.\n",
      "C:\\Users\\Bayu Adjie Sidharta\\AppData\\Local\\Temp\\ipykernel_32688\\1628479321.py:34: ExperimentalWarning: CatBoostPruningCallback is experimental (supported from v3.0.0). The interface can change in the future.\n",
      "  pruning_callback = optuna.integration.CatBoostPruningCallback(trial, \"RMSE\")\n"
     ]
    },
    {
     "name": "stdout",
     "output_type": "stream",
     "text": [
      "Learning rate set to 0.032991\n",
      "0:\tlearn: 0.0475789\ttest: 0.0483365\tbest: 0.0483365 (0)\ttotal: 1.16ms\tremaining: 1.16s\n",
      "\n",
      "bestTest = 0.04831878251\n",
      "bestIteration = 3\n",
      "\n",
      "Shrink model to first 4 iterations.\n",
      "Learning rate set to 0.032991\n",
      "0:\tlearn: 0.0507211\ttest: 0.0471641\tbest: 0.0471641 (0)\ttotal: 1.24ms\tremaining: 1.24s\n",
      "\n",
      "bestTest = 0.04648304885\n",
      "bestIteration = 10\n",
      "\n",
      "Shrink model to first 11 iterations.\n",
      "Learning rate set to 0.032991\n",
      "0:\tlearn: 0.0493742\ttest: 0.0413392\tbest: 0.0413392 (0)\ttotal: 1.15ms\tremaining: 1.15s\n"
     ]
    },
    {
     "name": "stderr",
     "output_type": "stream",
     "text": [
      "[I 2023-06-07 20:15:37,404] Trial 71 pruned. Trial was pruned at iteration 151.\n",
      "C:\\Users\\Bayu Adjie Sidharta\\AppData\\Local\\Temp\\ipykernel_32688\\1628479321.py:34: ExperimentalWarning: CatBoostPruningCallback is experimental (supported from v3.0.0). The interface can change in the future.\n",
      "  pruning_callback = optuna.integration.CatBoostPruningCallback(trial, \"RMSE\")\n",
      "[I 2023-06-07 20:15:37,497] Trial 72 pruned. Trial was pruned at iteration 10.\n",
      "C:\\Users\\Bayu Adjie Sidharta\\AppData\\Local\\Temp\\ipykernel_32688\\1628479321.py:34: ExperimentalWarning: CatBoostPruningCallback is experimental (supported from v3.0.0). The interface can change in the future.\n",
      "  pruning_callback = optuna.integration.CatBoostPruningCallback(trial, \"RMSE\")\n",
      "[I 2023-06-07 20:15:37,586] Trial 73 pruned. Trial was pruned at iteration 10.\n"
     ]
    },
    {
     "name": "stdout",
     "output_type": "stream",
     "text": [
      "\n",
      "bestTest = 0.0399848121\n",
      "bestIteration = 145\n",
      "\n",
      "Shrink model to first 146 iterations.\n",
      "Learning rate set to 0.032991\n",
      "0:\tlearn: 0.0484971\ttest: 0.0461747\tbest: 0.0461747 (0)\ttotal: 1.16ms\tremaining: 1.16s\n",
      "\n",
      "bestTest = 0.04578850293\n",
      "bestIteration = 10\n",
      "\n",
      "Shrink model to first 11 iterations.\n",
      "Learning rate set to 0.032991\n",
      "0:\tlearn: 0.0507951\ttest: 0.0481571\tbest: 0.0481571 (0)\ttotal: 1.2ms\tremaining: 1.2s\n",
      "\n",
      "bestTest = 0.04795151785\n",
      "bestIteration = 10\n",
      "\n",
      "Shrink model to first 11 iterations.\n"
     ]
    },
    {
     "name": "stderr",
     "output_type": "stream",
     "text": [
      "C:\\Users\\Bayu Adjie Sidharta\\AppData\\Local\\Temp\\ipykernel_32688\\1628479321.py:34: ExperimentalWarning: CatBoostPruningCallback is experimental (supported from v3.0.0). The interface can change in the future.\n",
      "  pruning_callback = optuna.integration.CatBoostPruningCallback(trial, \"RMSE\")\n",
      "[I 2023-06-07 20:15:37,766] Trial 74 pruned. Trial was pruned at iteration 33.\n",
      "C:\\Users\\Bayu Adjie Sidharta\\AppData\\Local\\Temp\\ipykernel_32688\\1628479321.py:34: ExperimentalWarning: CatBoostPruningCallback is experimental (supported from v3.0.0). The interface can change in the future.\n",
      "  pruning_callback = optuna.integration.CatBoostPruningCallback(trial, \"RMSE\")\n",
      "[I 2023-06-07 20:15:37,858] Trial 75 pruned. Trial was pruned at iteration 10.\n"
     ]
    },
    {
     "name": "stdout",
     "output_type": "stream",
     "text": [
      "Learning rate set to 0.032991\n",
      "0:\tlearn: 0.0455352\ttest: 0.0425294\tbest: 0.0425294 (0)\ttotal: 1.17ms\tremaining: 1.17s\n",
      "\n",
      "bestTest = 0.04250772801\n",
      "bestIteration = 3\n",
      "\n",
      "Shrink model to first 4 iterations.\n",
      "Learning rate set to 0.032991\n",
      "0:\tlearn: 0.0507040\ttest: 0.0454248\tbest: 0.0454248 (0)\ttotal: 1.02ms\tremaining: 1.02s\n",
      "\n",
      "bestTest = 0.04484257559\n",
      "bestIteration = 10\n",
      "\n",
      "Shrink model to first 11 iterations.\n"
     ]
    },
    {
     "name": "stderr",
     "output_type": "stream",
     "text": [
      "C:\\Users\\Bayu Adjie Sidharta\\AppData\\Local\\Temp\\ipykernel_32688\\1628479321.py:34: ExperimentalWarning: CatBoostPruningCallback is experimental (supported from v3.0.0). The interface can change in the future.\n",
      "  pruning_callback = optuna.integration.CatBoostPruningCallback(trial, \"RMSE\")\n",
      "[I 2023-06-07 20:15:37,953] Trial 76 pruned. Trial was pruned at iteration 10.\n",
      "C:\\Users\\Bayu Adjie Sidharta\\AppData\\Local\\Temp\\ipykernel_32688\\1628479321.py:34: ExperimentalWarning: CatBoostPruningCallback is experimental (supported from v3.0.0). The interface can change in the future.\n",
      "  pruning_callback = optuna.integration.CatBoostPruningCallback(trial, \"RMSE\")\n",
      "[I 2023-06-07 20:15:38,036] Trial 77 pruned. Trial was pruned at iteration 10.\n",
      "C:\\Users\\Bayu Adjie Sidharta\\AppData\\Local\\Temp\\ipykernel_32688\\1628479321.py:34: ExperimentalWarning: CatBoostPruningCallback is experimental (supported from v3.0.0). The interface can change in the future.\n",
      "  pruning_callback = optuna.integration.CatBoostPruningCallback(trial, \"RMSE\")\n"
     ]
    },
    {
     "name": "stdout",
     "output_type": "stream",
     "text": [
      "Learning rate set to 0.032991\n",
      "0:\tlearn: 0.0506327\ttest: 0.0455349\tbest: 0.0455349 (0)\ttotal: 1.21ms\tremaining: 1.21s\n",
      "\n",
      "bestTest = 0.04530460457\n",
      "bestIteration = 10\n",
      "\n",
      "Shrink model to first 11 iterations.\n",
      "Learning rate set to 0.032991\n",
      "0:\tlearn: 0.0447496\ttest: 0.0543380\tbest: 0.0543380 (0)\ttotal: 286us\tremaining: 287ms\n",
      "\n",
      "bestTest = 0.0541848682\n",
      "bestIteration = 10\n",
      "\n",
      "Shrink model to first 11 iterations.\n",
      "Learning rate set to 0.032991\n",
      "0:\tlearn: 0.0485170\ttest: 0.0554651\tbest: 0.0554651 (0)\ttotal: 1.3ms\tremaining: 1.3s\n",
      "\n",
      "bestTest = 0.05502639487\n",
      "bestIteration = 10\n",
      "\n",
      "Shrink model to first 11 iterations.\n"
     ]
    },
    {
     "name": "stderr",
     "output_type": "stream",
     "text": [
      "[I 2023-06-07 20:15:38,133] Trial 78 pruned. Trial was pruned at iteration 10.\n",
      "C:\\Users\\Bayu Adjie Sidharta\\AppData\\Local\\Temp\\ipykernel_32688\\1628479321.py:34: ExperimentalWarning: CatBoostPruningCallback is experimental (supported from v3.0.0). The interface can change in the future.\n",
      "  pruning_callback = optuna.integration.CatBoostPruningCallback(trial, \"RMSE\")\n",
      "[I 2023-06-07 20:15:38,230] Trial 79 pruned. Trial was pruned at iteration 10.\n",
      "C:\\Users\\Bayu Adjie Sidharta\\AppData\\Local\\Temp\\ipykernel_32688\\1628479321.py:34: ExperimentalWarning: CatBoostPruningCallback is experimental (supported from v3.0.0). The interface can change in the future.\n",
      "  pruning_callback = optuna.integration.CatBoostPruningCallback(trial, \"RMSE\")\n"
     ]
    },
    {
     "name": "stdout",
     "output_type": "stream",
     "text": [
      "Learning rate set to 0.032991\n",
      "0:\tlearn: 0.0481345\ttest: 0.0518823\tbest: 0.0518823 (0)\ttotal: 1.27ms\tremaining: 1.27s\n",
      "\n",
      "bestTest = 0.05158162632\n",
      "bestIteration = 6\n",
      "\n",
      "Shrink model to first 7 iterations.\n",
      "Learning rate set to 0.032991\n",
      "0:\tlearn: 0.0504548\ttest: 0.0388677\tbest: 0.0388677 (0)\ttotal: 269us\tremaining: 269ms\n",
      "500:\tlearn: 0.0396471\ttest: 0.0334709\tbest: 0.0334592 (484)\ttotal: 117ms\tremaining: 116ms\n"
     ]
    },
    {
     "name": "stderr",
     "output_type": "stream",
     "text": [
      "[I 2023-06-07 20:15:41,031] Trial 80 finished with value: 0.043682730118987045 and parameters: {'objective': 'RMSE', 'colsample_bylevel': 0.036243754170971657, 'depth': 2, 'boosting_type': 'Plain', 'bootstrap_type': 'Bayesian', 'bagging_temperature': 3.7709045630830733}. Best is trial 0 with value: 0.036636711002973305.\n"
     ]
    },
    {
     "name": "stdout",
     "output_type": "stream",
     "text": [
      "999:\tlearn: 0.0344079\ttest: 0.0316434\tbest: 0.0315302 (984)\ttotal: 249ms\tremaining: 0us\n",
      "\n",
      "bestTest = 0.03153019614\n",
      "bestIteration = 984\n",
      "\n",
      "Shrink model to first 985 iterations.\n",
      "('Catboost', 0.043682730118987045, 0.035901537296467695, 0.26552705801701704)\n",
      "Learning rate set to 0.032991\n",
      "0:\tlearn: 0.0483560\ttest: 0.0405556\tbest: 0.0405556 (0)\ttotal: 1.4ms\tremaining: 1.4s\n"
     ]
    },
    {
     "name": "stderr",
     "output_type": "stream",
     "text": [
      "C:\\Users\\Bayu Adjie Sidharta\\AppData\\Local\\Temp\\ipykernel_32688\\1628479321.py:34: ExperimentalWarning: CatBoostPruningCallback is experimental (supported from v3.0.0). The interface can change in the future.\n",
      "  pruning_callback = optuna.integration.CatBoostPruningCallback(trial, \"RMSE\")\n",
      "[I 2023-06-07 20:15:41,444] Trial 81 pruned. Trial was pruned at iteration 143.\n",
      "C:\\Users\\Bayu Adjie Sidharta\\AppData\\Local\\Temp\\ipykernel_32688\\1628479321.py:34: ExperimentalWarning: CatBoostPruningCallback is experimental (supported from v3.0.0). The interface can change in the future.\n",
      "  pruning_callback = optuna.integration.CatBoostPruningCallback(trial, \"RMSE\")\n",
      "[I 2023-06-07 20:15:41,545] Trial 82 pruned. Trial was pruned at iteration 10.\n"
     ]
    },
    {
     "name": "stdout",
     "output_type": "stream",
     "text": [
      "\n",
      "bestTest = 0.03963823146\n",
      "bestIteration = 95\n",
      "\n",
      "Shrink model to first 96 iterations.\n",
      "Learning rate set to 0.032991\n",
      "0:\tlearn: 0.0502949\ttest: 0.0479480\tbest: 0.0479480 (0)\ttotal: 1.34ms\tremaining: 1.34s\n",
      "\n",
      "bestTest = 0.0476119133\n",
      "bestIteration = 8\n",
      "\n",
      "Shrink model to first 9 iterations.\n",
      "Learning rate set to 0.032991\n",
      "0:\tlearn: 0.0533707\ttest: 0.0341468\tbest: 0.0341468 (0)\ttotal: 1.38ms\tremaining: 1.38s\n"
     ]
    },
    {
     "name": "stderr",
     "output_type": "stream",
     "text": [
      "C:\\Users\\Bayu Adjie Sidharta\\AppData\\Local\\Temp\\ipykernel_32688\\1628479321.py:34: ExperimentalWarning: CatBoostPruningCallback is experimental (supported from v3.0.0). The interface can change in the future.\n",
      "  pruning_callback = optuna.integration.CatBoostPruningCallback(trial, \"RMSE\")\n",
      "[I 2023-06-07 20:15:42,333] Trial 83 finished with value: 0.041432100415282204 and parameters: {'objective': 'RMSE', 'colsample_bylevel': 0.02789091970525695, 'depth': 5, 'boosting_type': 'Ordered', 'bootstrap_type': 'Bernoulli', 'subsample': 0.6372804051329629}. Best is trial 0 with value: 0.036636711002973305.\n",
      "C:\\Users\\Bayu Adjie Sidharta\\AppData\\Local\\Temp\\ipykernel_32688\\1628479321.py:34: ExperimentalWarning: CatBoostPruningCallback is experimental (supported from v3.0.0). The interface can change in the future.\n",
      "  pruning_callback = optuna.integration.CatBoostPruningCallback(trial, \"RMSE\")\n",
      "[I 2023-06-07 20:15:42,427] Trial 84 pruned. Trial was pruned at iteration 10.\n"
     ]
    },
    {
     "name": "stdout",
     "output_type": "stream",
     "text": [
      "Stopped by overfitting detector  (100 iterations wait)\n",
      "\n",
      "bestTest = 0.03280118379\n",
      "bestIteration = 184\n",
      "\n",
      "Shrink model to first 185 iterations.\n",
      "('Catboost', 0.041432100415282204, 0.03230230472365153, 0.08552698854777707)\n",
      "Learning rate set to 0.032991\n",
      "0:\tlearn: 0.0501711\ttest: 0.0434869\tbest: 0.0434869 (0)\ttotal: 1.3ms\tremaining: 1.3s\n",
      "\n",
      "bestTest = 0.04300125512\n",
      "bestIteration = 8\n",
      "\n",
      "Shrink model to first 9 iterations.\n",
      "Learning rate set to 0.032991\n",
      "0:\tlearn: 0.0523305\ttest: 0.0395271\tbest: 0.0395271 (0)\ttotal: 1.44ms\tremaining: 1.44s\n"
     ]
    },
    {
     "name": "stderr",
     "output_type": "stream",
     "text": [
      "C:\\Users\\Bayu Adjie Sidharta\\AppData\\Local\\Temp\\ipykernel_32688\\1628479321.py:34: ExperimentalWarning: CatBoostPruningCallback is experimental (supported from v3.0.0). The interface can change in the future.\n",
      "  pruning_callback = optuna.integration.CatBoostPruningCallback(trial, \"RMSE\")\n"
     ]
    },
    {
     "name": "stdout",
     "output_type": "stream",
     "text": [
      "500:\tlearn: 0.0387962\ttest: 0.0333319\tbest: 0.0332923 (475)\ttotal: 624ms\tremaining: 621ms\n"
     ]
    },
    {
     "name": "stderr",
     "output_type": "stream",
     "text": [
      "[I 2023-06-07 20:15:45,355] Trial 85 finished with value: 0.0383418350230637 and parameters: {'objective': 'RMSE', 'colsample_bylevel': 0.03896995582780438, 'depth': 5, 'boosting_type': 'Ordered', 'bootstrap_type': 'Bernoulli', 'subsample': 0.2543329623540803}. Best is trial 0 with value: 0.036636711002973305.\n",
      "C:\\Users\\Bayu Adjie Sidharta\\AppData\\Local\\Temp\\ipykernel_32688\\1628479321.py:34: ExperimentalWarning: CatBoostPruningCallback is experimental (supported from v3.0.0). The interface can change in the future.\n",
      "  pruning_callback = optuna.integration.CatBoostPruningCallback(trial, \"RMSE\")\n",
      "[I 2023-06-07 20:15:45,453] Trial 86 pruned. Trial was pruned at iteration 10.\n",
      "C:\\Users\\Bayu Adjie Sidharta\\AppData\\Local\\Temp\\ipykernel_32688\\1628479321.py:34: ExperimentalWarning: CatBoostPruningCallback is experimental (supported from v3.0.0). The interface can change in the future.\n",
      "  pruning_callback = optuna.integration.CatBoostPruningCallback(trial, \"RMSE\")\n",
      "[I 2023-06-07 20:15:45,552] Trial 87 pruned. Trial was pruned at iteration 10.\n"
     ]
    },
    {
     "name": "stdout",
     "output_type": "stream",
     "text": [
      "Stopped by overfitting detector  (100 iterations wait)\n",
      "\n",
      "bestTest = 0.03290384544\n",
      "bestIteration = 689\n",
      "\n",
      "Shrink model to first 690 iterations.\n",
      "('Catboost', 0.0383418350230637, 0.029989858704142128, 0.09780659312281903)\n",
      "Learning rate set to 0.032991\n",
      "0:\tlearn: 0.0483164\ttest: 0.0482546\tbest: 0.0482546 (0)\ttotal: 1.28ms\tremaining: 1.28s\n",
      "\n",
      "bestTest = 0.04814130543\n",
      "bestIteration = 10\n",
      "\n",
      "Shrink model to first 11 iterations.\n",
      "Learning rate set to 0.032991\n",
      "0:\tlearn: 0.0476647\ttest: 0.0439992\tbest: 0.0439992 (0)\ttotal: 1.14ms\tremaining: 1.14s\n",
      "\n",
      "bestTest = 0.04399922666\n",
      "bestIteration = 0\n",
      "\n",
      "Shrink model to first 1 iterations.\n"
     ]
    },
    {
     "name": "stderr",
     "output_type": "stream",
     "text": [
      "C:\\Users\\Bayu Adjie Sidharta\\AppData\\Local\\Temp\\ipykernel_32688\\1628479321.py:34: ExperimentalWarning: CatBoostPruningCallback is experimental (supported from v3.0.0). The interface can change in the future.\n",
      "  pruning_callback = optuna.integration.CatBoostPruningCallback(trial, \"RMSE\")\n",
      "[I 2023-06-07 20:15:45,654] Trial 88 pruned. Trial was pruned at iteration 10.\n",
      "C:\\Users\\Bayu Adjie Sidharta\\AppData\\Local\\Temp\\ipykernel_32688\\1628479321.py:34: ExperimentalWarning: CatBoostPruningCallback is experimental (supported from v3.0.0). The interface can change in the future.\n",
      "  pruning_callback = optuna.integration.CatBoostPruningCallback(trial, \"RMSE\")\n",
      "[I 2023-06-07 20:15:45,740] Trial 89 pruned. Trial was pruned at iteration 10.\n"
     ]
    },
    {
     "name": "stdout",
     "output_type": "stream",
     "text": [
      "Learning rate set to 0.032991\n",
      "0:\tlearn: 0.0436296\ttest: 0.0549341\tbest: 0.0549341 (0)\ttotal: 1.23ms\tremaining: 1.23s\n",
      "\n",
      "bestTest = 0.05474050384\n",
      "bestIteration = 8\n",
      "\n",
      "Shrink model to first 9 iterations.\n",
      "Learning rate set to 0.032991\n",
      "0:\tlearn: 0.0470243\ttest: 0.0500719\tbest: 0.0500719 (0)\ttotal: 256us\tremaining: 256ms\n",
      "\n",
      "bestTest = 0.0496496403\n",
      "bestIteration = 8\n",
      "\n",
      "Shrink model to first 9 iterations.\n"
     ]
    },
    {
     "name": "stderr",
     "output_type": "stream",
     "text": [
      "C:\\Users\\Bayu Adjie Sidharta\\AppData\\Local\\Temp\\ipykernel_32688\\1628479321.py:34: ExperimentalWarning: CatBoostPruningCallback is experimental (supported from v3.0.0). The interface can change in the future.\n",
      "  pruning_callback = optuna.integration.CatBoostPruningCallback(trial, \"RMSE\")\n",
      "[I 2023-06-07 20:15:45,872] Trial 90 pruned. Trial was pruned at iteration 10.\n",
      "C:\\Users\\Bayu Adjie Sidharta\\AppData\\Local\\Temp\\ipykernel_32688\\1628479321.py:34: ExperimentalWarning: CatBoostPruningCallback is experimental (supported from v3.0.0). The interface can change in the future.\n",
      "  pruning_callback = optuna.integration.CatBoostPruningCallback(trial, \"RMSE\")\n"
     ]
    },
    {
     "name": "stdout",
     "output_type": "stream",
     "text": [
      "Learning rate set to 0.032991\n",
      "0:\tlearn: 0.0492200\ttest: 0.0477125\tbest: 0.0477125 (0)\ttotal: 1.28ms\tremaining: 1.28s\n",
      "\n",
      "bestTest = 0.04767449522\n",
      "bestIteration = 10\n",
      "\n",
      "Shrink model to first 11 iterations.\n",
      "Learning rate set to 0.032991\n",
      "0:\tlearn: 0.0498117\ttest: 0.0399906\tbest: 0.0399906 (0)\ttotal: 1.12ms\tremaining: 1.12s\n"
     ]
    },
    {
     "name": "stderr",
     "output_type": "stream",
     "text": [
      "[I 2023-06-07 20:15:47,302] Trial 91 finished with value: 0.04992761289022155 and parameters: {'objective': 'RMSE', 'colsample_bylevel': 0.029297041966203873, 'depth': 6, 'boosting_type': 'Ordered', 'bootstrap_type': 'Bayesian', 'bagging_temperature': 5.084557282294862}. Best is trial 0 with value: 0.036636711002973305.\n",
      "C:\\Users\\Bayu Adjie Sidharta\\AppData\\Local\\Temp\\ipykernel_32688\\1628479321.py:34: ExperimentalWarning: CatBoostPruningCallback is experimental (supported from v3.0.0). The interface can change in the future.\n",
      "  pruning_callback = optuna.integration.CatBoostPruningCallback(trial, \"RMSE\")\n",
      "[I 2023-06-07 20:15:47,391] Trial 92 pruned. Trial was pruned at iteration 10.\n",
      "C:\\Users\\Bayu Adjie Sidharta\\AppData\\Local\\Temp\\ipykernel_32688\\1628479321.py:34: ExperimentalWarning: CatBoostPruningCallback is experimental (supported from v3.0.0). The interface can change in the future.\n",
      "  pruning_callback = optuna.integration.CatBoostPruningCallback(trial, \"RMSE\")\n",
      "[I 2023-06-07 20:15:47,492] Trial 93 pruned. Trial was pruned at iteration 10.\n"
     ]
    },
    {
     "name": "stdout",
     "output_type": "stream",
     "text": [
      "Stopped by overfitting detector  (100 iterations wait)\n",
      "\n",
      "bestTest = 0.03571262211\n",
      "bestIteration = 363\n",
      "\n",
      "Shrink model to first 364 iterations.\n",
      "('Catboost', 0.04992761289022155, 0.03917825153697176, 0.12589426330309694)\n",
      "Learning rate set to 0.032991\n",
      "0:\tlearn: 0.0470467\ttest: 0.0415433\tbest: 0.0415433 (0)\ttotal: 1.1ms\tremaining: 1.09s\n",
      "\n",
      "bestTest = 0.04096568785\n",
      "bestIteration = 7\n",
      "\n",
      "Shrink model to first 8 iterations.\n",
      "Learning rate set to 0.032991\n",
      "0:\tlearn: 0.0482239\ttest: 0.0499596\tbest: 0.0499596 (0)\ttotal: 1.16ms\tremaining: 1.16s\n",
      "\n",
      "bestTest = 0.04942963457\n",
      "bestIteration = 10\n",
      "\n",
      "Shrink model to first 11 iterations.\n"
     ]
    },
    {
     "name": "stderr",
     "output_type": "stream",
     "text": [
      "C:\\Users\\Bayu Adjie Sidharta\\AppData\\Local\\Temp\\ipykernel_32688\\1628479321.py:34: ExperimentalWarning: CatBoostPruningCallback is experimental (supported from v3.0.0). The interface can change in the future.\n",
      "  pruning_callback = optuna.integration.CatBoostPruningCallback(trial, \"RMSE\")\n",
      "[I 2023-06-07 20:15:47,603] Trial 94 pruned. Trial was pruned at iteration 10.\n",
      "C:\\Users\\Bayu Adjie Sidharta\\AppData\\Local\\Temp\\ipykernel_32688\\1628479321.py:34: ExperimentalWarning: CatBoostPruningCallback is experimental (supported from v3.0.0). The interface can change in the future.\n",
      "  pruning_callback = optuna.integration.CatBoostPruningCallback(trial, \"RMSE\")\n",
      "[I 2023-06-07 20:15:47,682] Trial 95 pruned. Trial was pruned at iteration 10.\n",
      "C:\\Users\\Bayu Adjie Sidharta\\AppData\\Local\\Temp\\ipykernel_32688\\1628479321.py:34: ExperimentalWarning: CatBoostPruningCallback is experimental (supported from v3.0.0). The interface can change in the future.\n",
      "  pruning_callback = optuna.integration.CatBoostPruningCallback(trial, \"RMSE\")\n"
     ]
    },
    {
     "name": "stdout",
     "output_type": "stream",
     "text": [
      "Learning rate set to 0.032991\n",
      "0:\tlearn: 0.0484320\ttest: 0.0412963\tbest: 0.0412963 (0)\ttotal: 1.28ms\tremaining: 1.28s\n",
      "\n",
      "bestTest = 0.04119179183\n",
      "bestIteration = 10\n",
      "\n",
      "Shrink model to first 11 iterations.\n",
      "Learning rate set to 0.032991\n",
      "0:\tlearn: 0.0492385\ttest: 0.0512994\tbest: 0.0512994 (0)\ttotal: 308us\tremaining: 309ms\n",
      "\n",
      "bestTest = 0.0506999177\n",
      "bestIteration = 6\n",
      "\n",
      "Shrink model to first 7 iterations.\n",
      "Learning rate set to 0.032991\n",
      "0:\tlearn: 0.0496944\ttest: 0.0426903\tbest: 0.0426903 (0)\ttotal: 1.28ms\tremaining: 1.28s\n"
     ]
    },
    {
     "name": "stderr",
     "output_type": "stream",
     "text": [
      "[I 2023-06-07 20:15:47,810] Trial 96 pruned. Trial was pruned at iteration 10.\n",
      "C:\\Users\\Bayu Adjie Sidharta\\AppData\\Local\\Temp\\ipykernel_32688\\1628479321.py:34: ExperimentalWarning: CatBoostPruningCallback is experimental (supported from v3.0.0). The interface can change in the future.\n",
      "  pruning_callback = optuna.integration.CatBoostPruningCallback(trial, \"RMSE\")\n",
      "[I 2023-06-07 20:15:47,893] Trial 97 pruned. Trial was pruned at iteration 10.\n",
      "C:\\Users\\Bayu Adjie Sidharta\\AppData\\Local\\Temp\\ipykernel_32688\\1628479321.py:34: ExperimentalWarning: CatBoostPruningCallback is experimental (supported from v3.0.0). The interface can change in the future.\n",
      "  pruning_callback = optuna.integration.CatBoostPruningCallback(trial, \"RMSE\")\n",
      "[I 2023-06-07 20:15:48,001] Trial 98 pruned. Trial was pruned at iteration 10.\n"
     ]
    },
    {
     "name": "stdout",
     "output_type": "stream",
     "text": [
      "\n",
      "bestTest = 0.04199504562\n",
      "bestIteration = 10\n",
      "\n",
      "Shrink model to first 11 iterations.\n",
      "Learning rate set to 0.032991\n",
      "0:\tlearn: 0.0455415\ttest: 0.0541023\tbest: 0.0541023 (0)\ttotal: 302us\tremaining: 302ms\n",
      "\n",
      "bestTest = 0.05316446872\n",
      "bestIteration = 10\n",
      "\n",
      "Shrink model to first 11 iterations.\n",
      "Learning rate set to 0.032991\n",
      "0:\tlearn: 0.0444556\ttest: 0.0510119\tbest: 0.0510119 (0)\ttotal: 1.15ms\tremaining: 1.15s\n",
      "\n",
      "bestTest = 0.0509160874\n",
      "bestIteration = 6\n",
      "\n",
      "Shrink model to first 7 iterations.\n"
     ]
    },
    {
     "name": "stderr",
     "output_type": "stream",
     "text": [
      "C:\\Users\\Bayu Adjie Sidharta\\AppData\\Local\\Temp\\ipykernel_32688\\1628479321.py:34: ExperimentalWarning: CatBoostPruningCallback is experimental (supported from v3.0.0). The interface can change in the future.\n",
      "  pruning_callback = optuna.integration.CatBoostPruningCallback(trial, \"RMSE\")\n",
      "[I 2023-06-07 20:15:48,105] Trial 99 pruned. Trial was pruned at iteration 10.\n"
     ]
    },
    {
     "name": "stdout",
     "output_type": "stream",
     "text": [
      "Learning rate set to 0.032991\n",
      "0:\tlearn: 0.0480794\ttest: 0.0538179\tbest: 0.0538179 (0)\ttotal: 1.21ms\tremaining: 1.21s\n",
      "\n",
      "bestTest = 0.05374895923\n",
      "bestIteration = 8\n",
      "\n",
      "Shrink model to first 9 iterations.\n",
      "Number of finished trials: 100\n",
      "Best trial:\n",
      "  Value: 0.036636711002973305\n",
      "  Params: \n",
      "    objective: RMSE\n",
      "    colsample_bylevel: 0.052503740365612624\n",
      "    depth: 9\n",
      "    boosting_type: Ordered\n",
      "    bootstrap_type: MVS\n"
     ]
    }
   ],
   "source": [
    "from catboost import CatBoostRegressor\n",
    "from catboost import Pool\n",
    "import optuna\n",
    "from sklearn.metrics import mean_squared_error\n",
    "import Utils as utils\n",
    "\n",
    "def objective(trial):\n",
    "    cols = ['Umur', 'Umur Squared', 'APM SMA', 'Pengeluaran Bulanan','Indeks Pembangunan Manusia', 'DPT', 'Sentiment', 'Weighted Sentiment']\n",
    "    data, target = dfX[cols], y\n",
    "    train_x, test_x, train_y, test_y = train_test_split(data, target, test_size=0.2)\n",
    "    train_x, val_x, train_y, val_y = train_test_split(train_x, train_y, test_size=0.25)\n",
    "    train_pool = Pool(train_x, train_y)\n",
    "    val_pool = Pool(val_x, val_y)\n",
    "    test_pool = Pool(test_x)\n",
    "\n",
    "    params = {\n",
    "        \"objective\": trial.suggest_categorical(\"objective\", [\"RMSE\"]),\n",
    "        \"colsample_bylevel\": trial.suggest_float(\"colsample_bylevel\", 0.01, 0.1, log=True),\n",
    "        \"depth\": trial.suggest_int(\"depth\", 1, 12),\n",
    "        \"boosting_type\": trial.suggest_categorical(\"boosting_type\", [\"Ordered\", \"Plain\"]),\n",
    "         \"bootstrap_type\": trial.suggest_categorical(\n",
    "            \"bootstrap_type\", [\"Bayesian\", \"Bernoulli\", \"MVS\"]\n",
    "        ),\n",
    "        \"used_ram_limit\": \"3gb\",\n",
    "    }\n",
    "\n",
    "    if params[\"bootstrap_type\"] == \"Bayesian\":\n",
    "        params[\"bagging_temperature\"] = trial.suggest_float(\"bagging_temperature\", 0, 10)\n",
    "    elif params[\"bootstrap_type\"] == \"Bernoulli\":\n",
    "        params[\"subsample\"] = trial.suggest_float(\"subsample\", 0.1, 1, log=True)\n",
    "\n",
    "    model = CatBoostRegressor(**params)\n",
    "\n",
    "    pruning_callback = optuna.integration.CatBoostPruningCallback(trial, \"RMSE\")\n",
    "    model.fit(train_pool, eval_set=val_pool, callbacks=[pruning_callback], verbose=500, early_stopping_rounds=100)\n",
    "\n",
    "    pruning_callback.check_pruned()\n",
    "\n",
    "    preds = model.predict(test_pool)\n",
    "\n",
    "    results = utils.error_rate(\"Catboost\",preds,test_y)\n",
    "    print(results)\n",
    "\n",
    "    rmse = mean_squared_error(test_y, preds, squared=False)\n",
    "    return rmse\n",
    "\n",
    "\n",
    "\n",
    "study = optuna.create_study(direction=\"minimize\", pruner=optuna.pruners.MedianPruner(n_warmup_steps=10))\n",
    "\n",
    "study.optimize(objective, n_trials=100, timeout=600)\n",
    "\n",
    "print(\"Number of finished trials: {}\".format(len(study.trials)))\n",
    "print(\"Best trial:\")\n",
    "trial = study.best_trial\n",
    "\n",
    "print(\"  Value: {}\".format(trial.value))\n",
    "\n",
    "print(\"  Params: \")\n",
    "for key, value in trial.params.items():\n",
    "    print(\"    {}: {}\".format(key, value))\n",
    "\n",
    "\n",
    "    \n",
    "\n",
    "\n",
    "    \n",
    "\n",
    "\n",
    "\n",
    "\n"
   ]
  },
  {
   "cell_type": "code",
   "execution_count": 9,
   "metadata": {},
   "outputs": [
    {
     "data": {
      "text/plain": [
       "('Catboost', 0.03512429844587696, 0.028615520062230004, 0.47568209883632273)"
      ]
     },
     "execution_count": 9,
     "metadata": {},
     "output_type": "execute_result"
    }
   ],
   "source": [
    "cols = ['Umur', 'Umur Squared', 'APM SMA', 'Pengeluaran Bulanan','Indeks Pembangunan Manusia', 'DPT', 'Sentiment', 'Weighted Sentiment']\n",
    "utils.evaluate_catboost(dfX[cols],y,kf)"
   ]
  },
  {
   "cell_type": "code",
   "execution_count": 11,
   "metadata": {},
   "outputs": [
    {
     "data": {
      "text/plain": [
       "('Catboost', 0.0379735377563578, 0.030907234780759615, 0.3871679255729855)"
      ]
     },
     "execution_count": 11,
     "metadata": {},
     "output_type": "execute_result"
    }
   ],
   "source": [
    "\n",
    "\n",
    "def evaluate_catboost(dfX,y,kf):\n",
    "  from catboost import CatBoostRegressor\n",
    "  from catboost import Pool\n",
    "  from sklearn.metrics import r2_score, mean_squared_error\n",
    "  vals = []\n",
    "  preds = []\n",
    "  error_rates_dt = []\n",
    "\n",
    "  cbr = CatBoostRegressor(\n",
    "    boosting_type= 'Ordered',\n",
    "    colsample_bylevel= 0.052503740365612624,\n",
    "    depth= 9,\n",
    "    bootstrap_type= 'MVS',\n",
    "    )\n",
    "  for train_index, test_index in kf.split(dfX):\n",
    "    # print(\"TRAIN:\", train_index, \"TEST:\", test_index)\n",
    "      X_train, X_test = dfX.iloc[train_index], dfX.iloc[test_index]\n",
    "      y_train, y_test = y.iloc[train_index], y.iloc[test_index]\n",
    "      train_pool = Pool(data=X_train, label=y_train)\n",
    "      test_pool = Pool(data=X_test, label=y_test)\n",
    "\n",
    "      cbr.fit(train_pool, verbose=False)\n",
    "      cbr_pred = cbr.predict(test_pool)\n",
    "      preds.append(cbr_pred)\n",
    "      vals.append(y_test)\n",
    "\n",
    "  cat_df = pd.DataFrame({'Prediction':utils.flatten(preds),'Actual Values': utils.flatten(vals)})\n",
    "  return utils.error_rate(\"Catboost\",cat_df['Prediction'],cat_df['Actual Values'])\n",
    "\n",
    "evaluate_catboost(dfX[cols],y,kf)"
   ]
  },
  {
   "attachments": {},
   "cell_type": "markdown",
   "metadata": {},
   "source": [
    "Shrink model to first 90 iterations.\n",
    "Number of finished trials: 100\n",
    "Best trial:\n",
    "  Value: 0.0349815838846568\n",
    "  Params: \n",
    "    objective: RMSE\n",
    "    colsample_bylevel: 0.019294785961930627\n",
    "    depth: 6\n",
    "    boosting_type: Ordered\n",
    "    bootstrap_type: Bayesian\n",
    "    bagging_temperature: 4.6044011355658085"
   ]
  },
  {
   "cell_type": "code",
   "execution_count": 12,
   "metadata": {},
   "outputs": [
    {
     "data": {
      "text/plain": [
       "('Catboost', 0.04339805479488252, 0.03453902698156212, 0.19957637991715627)"
      ]
     },
     "execution_count": 12,
     "metadata": {},
     "output_type": "execute_result"
    }
   ],
   "source": [
    "\n",
    "\n",
    "def evaluate_catboost(dfX,y,kf):\n",
    "  from catboost import CatBoostRegressor\n",
    "  from catboost import Pool\n",
    "  from sklearn.metrics import r2_score, mean_squared_error\n",
    "  vals = []\n",
    "  preds = []\n",
    "  error_rates_dt = []\n",
    "\n",
    "  cbr = CatBoostRegressor(\n",
    "    boosting_type= 'Ordered',\n",
    "    colsample_bylevel= 0.019294785961930627,\n",
    "    depth= 6,\n",
    "    bootstrap_type= 'Bayesian',\n",
    "    bagging_temperature= 4.6044011355658085,\n",
    "    )\n",
    "  for train_index, test_index in kf.split(dfX):\n",
    "    # print(\"TRAIN:\", train_index, \"TEST:\", test_index)\n",
    "      X_train, X_test = dfX.iloc[train_index], dfX.iloc[test_index]\n",
    "      y_train, y_test = y.iloc[train_index], y.iloc[test_index]\n",
    "      train_pool = Pool(data=X_train, label=y_train)\n",
    "      test_pool = Pool(data=X_test, label=y_test)\n",
    "\n",
    "      cbr.fit(train_pool, verbose=False)\n",
    "      cbr_pred = cbr.predict(test_pool)\n",
    "      preds.append(cbr_pred)\n",
    "      vals.append(y_test)\n",
    "\n",
    "  cat_df = pd.DataFrame({'Prediction':utils.flatten(preds),'Actual Values': utils.flatten(vals)})\n",
    "  return utils.error_rate(\"Catboost\",cat_df['Prediction'],cat_df['Actual Values'])\n",
    "\n",
    "evaluate_catboost(dfX[cols],y,kf)"
   ]
  },
  {
   "cell_type": "code",
   "execution_count": 14,
   "metadata": {},
   "outputs": [
    {
     "data": {
      "application/vnd.jupyter.widget-view+json": {
       "model_id": "e3c71c86f0b646bcb0bf08e1d5c7cd59",
       "version_major": 2,
       "version_minor": 0
      },
      "text/plain": [
       "MetricVisualizer(layout=Layout(align_self='stretch', height='500px'))"
      ]
     },
     "metadata": {},
     "output_type": "display_data"
    },
    {
     "name": "stdout",
     "output_type": "stream",
     "text": [
      "0:\tlearn: 0.7794596\ttest: 0.8047215\tbest: 0.8047215 (0)\ttotal: 704us\tremaining: 704ms\n",
      "999:\tlearn: 0.0017389\ttest: 0.0857531\tbest: 0.0857467 (985)\ttotal: 600ms\tremaining: 0us\n",
      "\n",
      "bestTest = 0.08574666853\n",
      "bestIteration = 985\n",
      "\n",
      "0:\tlearn: 0.7657917\ttest: 0.7909031\tbest: 0.7909031 (0)\ttotal: 519us\tremaining: 519ms\n",
      "999:\tlearn: 0.0004218\ttest: 0.0934371\tbest: 0.0934209 (979)\ttotal: 753ms\tremaining: 0us\n",
      "\n",
      "bestTest = 0.09342090662\n",
      "bestIteration = 979\n",
      "\n",
      "0:\tlearn: 0.7521271\ttest: 0.7770863\tbest: 0.7770863 (0)\ttotal: 654us\tremaining: 654ms\n",
      "999:\tlearn: 0.0000640\ttest: 0.0936871\tbest: 0.0936867 (995)\ttotal: 688ms\tremaining: 0us\n",
      "\n",
      "bestTest = 0.09368672517\n",
      "bestIteration = 995\n",
      "\n",
      "0:\tlearn: 0.7316370\ttest: 0.7563645\tbest: 0.7563645 (0)\ttotal: 476us\tremaining: 476ms\n",
      "999:\tlearn: 0.0000073\ttest: 0.0916838\tbest: 0.0916838 (999)\ttotal: 648ms\tremaining: 0us\n",
      "\n",
      "bestTest = 0.0916838414\n",
      "bestIteration = 999\n",
      "\n",
      "0:\tlearn: 0.7836079\ttest: 0.8090148\tbest: 0.8090148 (0)\ttotal: 781us\tremaining: 781ms\n",
      "999:\tlearn: 0.0037578\ttest: 0.0945903\tbest: 0.0945903 (999)\ttotal: 746ms\tremaining: 0us\n",
      "\n",
      "bestTest = 0.09459033187\n",
      "bestIteration = 999\n",
      "\n",
      "0:\tlearn: 0.7727094\ttest: 0.7980606\tbest: 0.7980606 (0)\ttotal: 535us\tremaining: 535ms\n",
      "999:\tlearn: 0.0013734\ttest: 0.1109392\tbest: 0.1109388 (991)\ttotal: 737ms\tremaining: 0us\n",
      "\n",
      "bestTest = 0.1109387667\n",
      "bestIteration = 991\n",
      "\n",
      "0:\tlearn: 0.7618176\ttest: 0.7871099\tbest: 0.7871099 (0)\ttotal: 1.12ms\tremaining: 1.11s\n",
      "999:\tlearn: 0.0004956\ttest: 0.1170497\tbest: 0.1170497 (999)\ttotal: 703ms\tremaining: 0us\n",
      "\n",
      "bestTest = 0.1170496743\n",
      "bestIteration = 999\n",
      "\n",
      "0:\tlearn: 0.7454930\ttest: 0.7706904\tbest: 0.7706904 (0)\ttotal: 705us\tremaining: 705ms\n",
      "999:\tlearn: 0.0001317\ttest: 0.1151277\tbest: 0.1151277 (999)\ttotal: 618ms\tremaining: 0us\n",
      "\n",
      "bestTest = 0.1151276812\n",
      "bestIteration = 999\n",
      "\n",
      "0:\tlearn: 0.7862139\ttest: 0.8117446\tbest: 0.8117446 (0)\ttotal: 775us\tremaining: 775ms\n",
      "999:\tlearn: 0.0056535\ttest: 0.1070574\tbest: 0.1070438 (992)\ttotal: 610ms\tremaining: 0us\n",
      "\n",
      "bestTest = 0.1070438079\n",
      "bestIteration = 992\n",
      "\n",
      "0:\tlearn: 0.7770535\ttest: 0.8026112\tbest: 0.8026112 (0)\ttotal: 734us\tremaining: 734ms\n",
      "999:\tlearn: 0.0022723\ttest: 0.1193602\tbest: 0.1193352 (958)\ttotal: 743ms\tremaining: 0us\n",
      "\n",
      "bestTest = 0.1193352037\n",
      "bestIteration = 958\n",
      "\n",
      "0:\tlearn: 0.7679002\ttest: 0.7934818\tbest: 0.7934818 (0)\ttotal: 2.75ms\tremaining: 2.75s\n",
      "999:\tlearn: 0.0011504\ttest: 0.1203116\tbest: 0.1202897 (980)\ttotal: 1s\tremaining: 0us\n",
      "\n",
      "bestTest = 0.1202897403\n",
      "bestIteration = 980\n",
      "\n",
      "0:\tlearn: 0.7541841\ttest: 0.7797956\tbest: 0.7797956 (0)\ttotal: 496us\tremaining: 496ms\n",
      "999:\tlearn: 0.0003631\ttest: 0.1153968\tbest: 0.1153942 (986)\ttotal: 618ms\tremaining: 0us\n",
      "\n",
      "bestTest = 0.1153941869\n",
      "bestIteration = 986\n",
      "\n",
      "0:\tlearn: 0.7880558\ttest: 0.8136598\tbest: 0.8136598 (0)\ttotal: 619us\tremaining: 618ms\n",
      "999:\tlearn: 0.0067019\ttest: 0.1154734\tbest: 0.1154620 (998)\ttotal: 688ms\tremaining: 0us\n",
      "\n",
      "bestTest = 0.1154619707\n",
      "bestIteration = 998\n",
      "\n",
      "0:\tlearn: 0.7801228\ttest: 0.8058031\tbest: 0.8058031 (0)\ttotal: 541us\tremaining: 541ms\n",
      "999:\tlearn: 0.0033320\ttest: 0.1237369\tbest: 0.1236869 (984)\ttotal: 771ms\tremaining: 0us\n",
      "\n",
      "bestTest = 0.1236869186\n",
      "bestIteration = 984\n",
      "\n",
      "0:\tlearn: 0.7721965\ttest: 0.7979505\tbest: 0.7979505 (0)\ttotal: 2.43ms\tremaining: 2.43s\n",
      "999:\tlearn: 0.0016083\ttest: 0.1179984\tbest: 0.1179132 (785)\ttotal: 1.02s\tremaining: 0us\n",
      "\n",
      "bestTest = 0.1179132294\n",
      "bestIteration = 785\n",
      "\n",
      "0:\tlearn: 0.7603202\ttest: 0.7861796\tbest: 0.7861796 (0)\ttotal: 424us\tremaining: 424ms\n",
      "999:\tlearn: 0.0006958\ttest: 0.1140587\tbest: 0.1140567 (997)\ttotal: 767ms\tremaining: 0us\n",
      "\n",
      "bestTest = 0.1140566942\n",
      "bestIteration = 997\n",
      "\n",
      "0:\tlearn: 0.7894420\ttest: 0.8150877\tbest: 0.8150877 (0)\ttotal: 488us\tremaining: 488ms\n",
      "999:\tlearn: 0.0085115\ttest: 0.1172142\tbest: 0.1172142 (999)\ttotal: 718ms\tremaining: 0us\n",
      "\n",
      "bestTest = 0.1172141644\n",
      "bestIteration = 999\n",
      "\n",
      "0:\tlearn: 0.7824323\ttest: 0.8081827\tbest: 0.8081827 (0)\ttotal: 1.51ms\tremaining: 1.51s\n",
      "999:\tlearn: 0.0045169\ttest: 0.1196841\tbest: 0.1196629 (993)\ttotal: 728ms\tremaining: 0us\n",
      "\n",
      "bestTest = 0.1196628748\n",
      "bestIteration = 993\n",
      "\n",
      "0:\tlearn: 0.7754288\ttest: 0.8012816\tbest: 0.8012816 (0)\ttotal: 487us\tremaining: 487ms\n",
      "999:\tlearn: 0.0024662\ttest: 0.1140858\tbest: 0.1140646 (983)\ttotal: 783ms\tremaining: 0us\n",
      "\n",
      "bestTest = 0.1140645645\n",
      "bestIteration = 983\n",
      "\n",
      "0:\tlearn: 0.7649353\ttest: 0.7909374\tbest: 0.7909374 (0)\ttotal: 724us\tremaining: 724ms\n",
      "999:\tlearn: 0.0011238\ttest: 0.1304192\tbest: 0.1304081 (996)\ttotal: 736ms\tremaining: 0us\n",
      "\n",
      "bestTest = 0.1304080693\n",
      "bestIteration = 996\n",
      "\n",
      "0:\tlearn: 0.7814691\ttest: 0.8096537\tbest: 0.8096537 (0)\ttotal: 1.2ms\tremaining: 1.19s\n",
      "999:\tlearn: 0.0002292\ttest: 0.1535160\tbest: 0.1535160 (999)\ttotal: 1.9s\tremaining: 0us\n",
      "\n",
      "bestTest = 0.1535160406\n",
      "bestIteration = 999\n",
      "\n",
      "0:\tlearn: 0.7691450\ttest: 0.7991483\tbest: 0.7991483 (0)\ttotal: 1.33ms\tremaining: 1.33s\n",
      "999:\tlearn: 0.0000116\ttest: 0.1660450\tbest: 0.1660008 (317)\ttotal: 1.45s\tremaining: 0us\n",
      "\n",
      "bestTest = 0.1660007831\n",
      "bestIteration = 317\n",
      "\n",
      "0:\tlearn: 0.7568277\ttest: 0.7886653\tbest: 0.7886653 (0)\ttotal: 1.98ms\tremaining: 1.98s\n",
      "999:\tlearn: 0.0000010\ttest: 0.1649132\tbest: 0.1649131 (983)\ttotal: 1.61s\tremaining: 0us\n",
      "\n",
      "bestTest = 0.1649131086\n",
      "bestIteration = 983\n",
      "\n",
      "0:\tlearn: 0.7383655\ttest: 0.7729850\tbest: 0.7729850 (0)\ttotal: 1.47ms\tremaining: 1.47s\n",
      "999:\tlearn: 0.0000000\ttest: 0.1875966\tbest: 0.1875966 (999)\ttotal: 1.89s\tremaining: 0us\n",
      "\n",
      "bestTest = 0.1875965544\n",
      "bestIteration = 999\n",
      "\n",
      "0:\tlearn: 0.7865083\ttest: 0.8148535\tbest: 0.8148535 (0)\ttotal: 1.28ms\tremaining: 1.28s\n",
      "999:\tlearn: 0.0012329\ttest: 0.1854257\tbest: 0.1854241 (998)\ttotal: 1.98s\tremaining: 0us\n",
      "\n",
      "bestTest = 0.1854240815\n",
      "bestIteration = 998\n",
      "\n",
      "0:\tlearn: 0.7775481\ttest: 0.8078049\tbest: 0.8078049 (0)\ttotal: 1.36ms\tremaining: 1.36s\n",
      "999:\tlearn: 0.0001361\ttest: 0.1835228\tbest: 0.1835210 (959)\ttotal: 1.44s\tremaining: 0us\n",
      "\n",
      "bestTest = 0.1835210416\n",
      "bestIteration = 959\n",
      "\n",
      "0:\tlearn: 0.7685983\ttest: 0.8007703\tbest: 0.8007703 (0)\ttotal: 1.19ms\tremaining: 1.19s\n",
      "999:\tlearn: 0.0000278\ttest: 0.1916059\tbest: 0.1916058 (997)\ttotal: 1.92s\tremaining: 0us\n",
      "\n",
      "bestTest = 0.1916057906\n",
      "bestIteration = 997\n",
      "\n",
      "0:\tlearn: 0.7551940\ttest: 0.7902458\tbest: 0.7902458 (0)\ttotal: 1.15ms\tremaining: 1.15s\n",
      "999:\tlearn: 0.0000015\ttest: 0.1967396\tbest: 0.1967394 (867)\ttotal: 1.46s\tremaining: 0us\n",
      "\n",
      "bestTest = 0.1967394259\n",
      "bestIteration = 867\n",
      "\n",
      "0:\tlearn: 0.7892024\ttest: 0.8173624\tbest: 0.8173624 (0)\ttotal: 1.48ms\tremaining: 1.48s\n",
      "999:\tlearn: 0.0030463\ttest: 0.1821343\tbest: 0.1821343 (999)\ttotal: 1.56s\tremaining: 0us\n",
      "\n",
      "bestTest = 0.1821343343\n",
      "bestIteration = 999\n",
      "\n",
      "0:\tlearn: 0.7820369\ttest: 0.8119816\tbest: 0.8119816 (0)\ttotal: 1.26ms\tremaining: 1.26s\n",
      "999:\tlearn: 0.0005391\ttest: 0.1805271\tbest: 0.1805271 (999)\ttotal: 1.49s\tremaining: 0us\n",
      "\n",
      "bestTest = 0.1805271084\n",
      "bestIteration = 999\n",
      "\n",
      "0:\tlearn: 0.7748809\ttest: 0.8066108\tbest: 0.8066108 (0)\ttotal: 1.29ms\tremaining: 1.29s\n",
      "999:\tlearn: 0.0001556\ttest: 0.1907459\tbest: 0.1907459 (999)\ttotal: 1.56s\tremaining: 0us\n",
      "\n",
      "bestTest = 0.1907458903\n",
      "bestIteration = 999\n",
      "\n",
      "0:\tlearn: 0.7641650\ttest: 0.7985742\tbest: 0.7985742 (0)\ttotal: 1.62ms\tremaining: 1.62s\n",
      "999:\tlearn: 0.0000238\ttest: 0.2003261\tbest: 0.2003261 (999)\ttotal: 1.54s\tremaining: 0us\n",
      "\n",
      "bestTest = 0.2003261306\n",
      "bestIteration = 999\n",
      "\n",
      "0:\tlearn: 0.7909492\ttest: 0.8188758\tbest: 0.8188758 (0)\ttotal: 1.54ms\tremaining: 1.54s\n",
      "999:\tlearn: 0.0052191\ttest: 0.1987037\tbest: 0.1987037 (998)\ttotal: 1.62s\tremaining: 0us\n",
      "\n",
      "bestTest = 0.1987037365\n",
      "bestIteration = 998\n",
      "\n",
      "0:\tlearn: 0.7849466\ttest: 0.8145009\tbest: 0.8145009 (0)\ttotal: 953us\tremaining: 953ms\n",
      "999:\tlearn: 0.0015331\ttest: 0.1954907\tbest: 0.1954907 (999)\ttotal: 1.44s\tremaining: 0us\n",
      "\n",
      "bestTest = 0.1954906609\n",
      "bestIteration = 999\n",
      "\n",
      "0:\tlearn: 0.7789518\ttest: 0.8101337\tbest: 0.8101337 (0)\ttotal: 1.19ms\tremaining: 1.19s\n",
      "999:\tlearn: 0.0004956\ttest: 0.2052443\tbest: 0.2052433 (997)\ttotal: 1.34s\tremaining: 0us\n",
      "\n",
      "bestTest = 0.2052433418\n",
      "bestIteration = 997\n",
      "\n",
      "0:\tlearn: 0.7699747\ttest: 0.8035976\tbest: 0.8035976 (0)\ttotal: 1.25ms\tremaining: 1.25s\n",
      "999:\tlearn: 0.0001032\ttest: 0.2100266\tbest: 0.2100266 (999)\ttotal: 1.34s\tremaining: 0us\n",
      "\n",
      "bestTest = 0.210026636\n",
      "bestIteration = 999\n",
      "\n",
      "0:\tlearn: 0.7921905\ttest: 0.8198982\tbest: 0.8198982 (0)\ttotal: 1.17ms\tremaining: 1.17s\n",
      "999:\tlearn: 0.0077613\ttest: 0.2012672\tbest: 0.2012672 (999)\ttotal: 1.63s\tremaining: 0us\n",
      "\n",
      "bestTest = 0.201267173\n",
      "bestIteration = 999\n",
      "\n",
      "0:\tlearn: 0.7870138\ttest: 0.8162029\tbest: 0.8162029 (0)\ttotal: 955us\tremaining: 955ms\n",
      "999:\tlearn: 0.0025114\ttest: 0.1873159\tbest: 0.1873152 (998)\ttotal: 1.6s\tremaining: 0us\n",
      "\n",
      "bestTest = 0.1873152464\n",
      "bestIteration = 998\n",
      "\n",
      "0:\tlearn: 0.7818436\ttest: 0.8125136\tbest: 0.8125136 (0)\ttotal: 3.64ms\tremaining: 3.64s\n",
      "999:\tlearn: 0.0010512\ttest: 0.1958338\tbest: 0.1958336 (997)\ttotal: 1.58s\tremaining: 0us\n",
      "\n",
      "bestTest = 0.1958336139\n",
      "bestIteration = 997\n",
      "\n",
      "0:\tlearn: 0.7741007\ttest: 0.8069912\tbest: 0.8069912 (0)\ttotal: 1.29ms\tremaining: 1.29s\n",
      "999:\tlearn: 0.0002422\ttest: 0.2207861\tbest: 0.2207853 (985)\ttotal: 1.76s\tremaining: 0us\n",
      "\n",
      "bestTest = 0.2207853185\n",
      "bestIteration = 985\n",
      "\n",
      "0:\tlearn: 0.7843992\ttest: 0.8222044\tbest: 0.8222044 (0)\ttotal: 11ms\tremaining: 11s\n",
      "999:\tlearn: 0.0000048\ttest: 0.2599009\tbest: 0.2598997 (732)\ttotal: 8.13s\tremaining: 0us\n",
      "\n",
      "bestTest = 0.2598996586\n",
      "bestIteration = 732\n",
      "\n",
      "0:\tlearn: 0.7740293\ttest: 0.8200772\tbest: 0.8200772 (0)\ttotal: 8.4ms\tremaining: 8.39s\n",
      "999:\tlearn: 0.0000000\ttest: 0.2609006\tbest: 0.2609006 (779)\ttotal: 7.08s\tremaining: 0us\n",
      "\n",
      "bestTest = 0.2609005728\n",
      "bestIteration = 779\n",
      "\n",
      "0:\tlearn: 0.7636668\ttest: 0.8179804\tbest: 0.8179804 (0)\ttotal: 9.62ms\tremaining: 9.61s\n",
      "999:\tlearn: 0.0000000\ttest: 0.2806918\tbest: 0.2806917 (451)\ttotal: 7.38s\tremaining: 0us\n",
      "\n",
      "bestTest = 0.2806917488\n",
      "bestIteration = 451\n",
      "\n",
      "0:\tlearn: 0.7481379\ttest: 0.8148932\tbest: 0.8148932 (0)\ttotal: 8.78ms\tremaining: 8.77s\n",
      "999:\tlearn: 0.0000000\ttest: 0.2840938\tbest: 0.2840853 (180)\ttotal: 7.39s\tremaining: 0us\n",
      "\n",
      "bestTest = 0.2840852596\n",
      "bestIteration = 180\n",
      "\n",
      "0:\tlearn: 0.7900158\ttest: 0.8231254\tbest: 0.8231254 (0)\ttotal: 8.56ms\tremaining: 8.55s\n",
      "999:\tlearn: 0.0001736\ttest: 0.2882692\tbest: 0.2882692 (999)\ttotal: 7.76s\tremaining: 0us\n",
      "\n",
      "bestTest = 0.2882692316\n",
      "bestIteration = 999\n",
      "\n",
      "0:\tlearn: 0.7833924\ttest: 0.8215935\tbest: 0.8215935 (0)\ttotal: 11.3ms\tremaining: 11.3s\n",
      "999:\tlearn: 0.0000050\ttest: 0.2979253\tbest: 0.2979252 (966)\ttotal: 7.7s\tremaining: 0us\n",
      "\n",
      "bestTest = 0.2979251758\n",
      "bestIteration = 966\n",
      "\n",
      "0:\tlearn: 0.7767782\ttest: 0.8200772\tbest: 0.8200772 (0)\ttotal: 9.14ms\tremaining: 9.13s\n",
      "999:\tlearn: 0.0000002\ttest: 0.3106451\tbest: 0.3106439 (623)\ttotal: 7.37s\tremaining: 0us\n",
      "\n",
      "bestTest = 0.3106438795\n",
      "bestIteration = 623\n",
      "\n",
      "0:\tlearn: 0.7668744\ttest: 0.8178319\tbest: 0.8178319 (0)\ttotal: 7.94ms\tremaining: 7.93s\n",
      "999:\tlearn: 0.0000000\ttest: 0.3368676\tbest: 0.3368670 (473)\ttotal: 6.94s\tremaining: 0us\n",
      "\n",
      "bestTest = 0.3368670473\n",
      "bestIteration = 473\n",
      "\n",
      "0:\tlearn: 0.7925323\ttest: 0.8236395\tbest: 0.8236395 (0)\ttotal: 8.62ms\tremaining: 8.61s\n",
      "999:\tlearn: 0.0009743\ttest: 0.2661412\tbest: 0.2661412 (999)\ttotal: 8.05s\tremaining: 0us\n",
      "\n",
      "bestTest = 0.2661412467\n",
      "bestIteration = 999\n",
      "\n",
      "0:\tlearn: 0.7875843\ttest: 0.8224427\tbest: 0.8224427 (0)\ttotal: 9.35ms\tremaining: 9.34s\n",
      "999:\tlearn: 0.0000668\ttest: 0.2721579\tbest: 0.2721579 (999)\ttotal: 8.5s\tremaining: 0us\n",
      "\n",
      "bestTest = 0.2721578633\n",
      "bestIteration = 999\n",
      "\n",
      "0:\tlearn: 0.7826436\ttest: 0.8212552\tbest: 0.8212552 (0)\ttotal: 9.12ms\tremaining: 9.11s\n",
      "999:\tlearn: 0.0000090\ttest: 0.2856330\tbest: 0.2856330 (999)\ttotal: 7.74s\tremaining: 0us\n",
      "\n",
      "bestTest = 0.2856330297\n",
      "bestIteration = 999\n",
      "\n",
      "0:\tlearn: 0.7752465\ttest: 0.8194917\tbest: 0.8194917 (0)\ttotal: 8.58ms\tremaining: 8.57s\n",
      "999:\tlearn: 0.0000008\ttest: 0.2921088\tbest: 0.2921086 (778)\ttotal: 7.26s\tremaining: 0us\n",
      "\n",
      "bestTest = 0.2921085733\n",
      "bestIteration = 778\n",
      "\n",
      "0:\tlearn: 0.7939965\ttest: 0.8239675\tbest: 0.8239675 (0)\ttotal: 8.65ms\tremaining: 8.65s\n",
      "999:\tlearn: 0.0022374\ttest: 0.2471200\tbest: 0.2471191 (997)\ttotal: 7.08s\tremaining: 0us\n",
      "\n",
      "bestTest = 0.2471191454\n",
      "bestIteration = 997\n",
      "\n",
      "0:\tlearn: 0.7900227\ttest: 0.8229855\tbest: 0.8229855 (0)\ttotal: 8.66ms\tremaining: 8.65s\n",
      "999:\tlearn: 0.0003124\ttest: 0.2426971\tbest: 0.2426967 (996)\ttotal: 7.69s\tremaining: 0us\n",
      "\n",
      "bestTest = 0.242696728\n",
      "bestIteration = 996\n",
      "\n",
      "0:\tlearn: 0.7860546\ttest: 0.8220098\tbest: 0.8220098 (0)\ttotal: 8.94ms\tremaining: 8.93s\n",
      "999:\tlearn: 0.0000437\ttest: 0.2413724\tbest: 0.2413724 (999)\ttotal: 7.33s\tremaining: 0us\n",
      "\n",
      "bestTest = 0.2413723527\n",
      "bestIteration = 999\n",
      "\n",
      "0:\tlearn: 0.7801131\ttest: 0.8205580\tbest: 0.8205580 (0)\ttotal: 8.75ms\tremaining: 8.74s\n",
      "999:\tlearn: 0.0000049\ttest: 0.2727208\tbest: 0.2727208 (996)\ttotal: 7.4s\tremaining: 0us\n",
      "\n",
      "bestTest = 0.2727208156\n",
      "bestIteration = 996\n",
      "\n",
      "0:\tlearn: 0.7949661\ttest: 0.8241950\tbest: 0.8241950 (0)\ttotal: 9.63ms\tremaining: 9.62s\n",
      "999:\tlearn: 0.0042022\ttest: 0.2333894\tbest: 0.2333894 (999)\ttotal: 7.93s\tremaining: 0us\n",
      "\n",
      "bestTest = 0.2333893554\n",
      "bestIteration = 999\n",
      "\n",
      "0:\tlearn: 0.7916374\ttest: 0.8233625\tbest: 0.8233625 (0)\ttotal: 9.82ms\tremaining: 9.81s\n",
      "999:\tlearn: 0.0007790\ttest: 0.2438459\tbest: 0.2438459 (999)\ttotal: 8.08s\tremaining: 0us\n",
      "\n",
      "bestTest = 0.2438459421\n",
      "bestIteration = 999\n",
      "\n",
      "0:\tlearn: 0.7883130\ttest: 0.8225344\tbest: 0.8225344 (0)\ttotal: 8.61ms\tremaining: 8.6s\n",
      "999:\tlearn: 0.0001338\ttest: 0.2382401\tbest: 0.2382401 (999)\ttotal: 7.33s\tremaining: 0us\n",
      "\n",
      "bestTest = 0.238240117\n",
      "bestIteration = 999\n",
      "\n",
      "0:\tlearn: 0.7833349\ttest: 0.8213007\tbest: 0.8213007 (0)\ttotal: 9.12ms\tremaining: 9.11s\n",
      "999:\tlearn: 0.0000160\ttest: 0.2444184\tbest: 0.2444184 (999)\ttotal: 7.78s\tremaining: 0us\n",
      "\n",
      "bestTest = 0.2444184403\n",
      "bestIteration = 999\n",
      "\n",
      "0:\tlearn: 0.7850174\ttest: 0.8224574\tbest: 0.8224574 (0)\ttotal: 28ms\tremaining: 28s\n",
      "999:\tlearn: 0.0000006\ttest: 0.2809419\tbest: 0.2809415 (790)\ttotal: 24.4s\tremaining: 0us\n",
      "\n",
      "bestTest = 0.2809415411\n",
      "bestIteration = 790\n",
      "\n",
      "0:\tlearn: 0.7750572\ttest: 0.8204931\tbest: 0.8204931 (0)\ttotal: 30ms\tremaining: 30s\n",
      "999:\tlearn: 0.0000000\ttest: 0.3446699\tbest: 0.3446699 (999)\ttotal: 23.3s\tremaining: 0us\n",
      "\n",
      "bestTest = 0.3446699268\n",
      "bestIteration = 999\n",
      "\n",
      "0:\tlearn: 0.7651026\ttest: 0.8185546\tbest: 0.8185546 (0)\ttotal: 27.7ms\tremaining: 27.7s\n",
      "999:\tlearn: 0.0000000\ttest: 0.3716625\tbest: 0.3716625 (507)\ttotal: 23.4s\tremaining: 0us\n",
      "\n",
      "bestTest = 0.3716624718\n",
      "bestIteration = 507\n",
      "\n",
      "0:\tlearn: 0.7501814\ttest: 0.8156959\tbest: 0.8156959 (0)\ttotal: 28.3ms\tremaining: 28.2s\n",
      "999:\tlearn: 0.0000000\ttest: 0.3999967\tbest: 0.3999967 (288)\ttotal: 23.7s\tremaining: 0us\n",
      "\n",
      "bestTest = 0.3999966819\n",
      "bestIteration = 288\n",
      "\n",
      "0:\tlearn: 0.7908579\ttest: 0.8234493\tbest: 0.8234493 (0)\ttotal: 28.6ms\tremaining: 28.6s\n",
      "999:\tlearn: 0.0001064\ttest: 0.2979366\tbest: 0.2979366 (999)\ttotal: 23.8s\tremaining: 0us\n",
      "\n",
      "bestTest = 0.2979365595\n",
      "bestIteration = 999\n",
      "\n",
      "0:\tlearn: 0.7847920\ttest: 0.8221283\tbest: 0.8221283 (0)\ttotal: 30.6ms\tremaining: 30.6s\n",
      "999:\tlearn: 0.0000011\ttest: 0.3128945\tbest: 0.3128945 (999)\ttotal: 25.4s\tremaining: 0us\n",
      "\n",
      "bestTest = 0.3128944832\n",
      "bestIteration = 999\n",
      "\n",
      "0:\tlearn: 0.7787321\ttest: 0.8208187\tbest: 0.8208187 (0)\ttotal: 26.8ms\tremaining: 26.7s\n",
      "999:\tlearn: 0.0000000\ttest: 0.3282014\tbest: 0.3282014 (914)\ttotal: 25.5s\tremaining: 0us\n",
      "\n",
      "bestTest = 0.3282013623\n",
      "bestIteration = 914\n",
      "\n",
      "0:\tlearn: 0.7696535\ttest: 0.8188759\tbest: 0.8188759 (0)\ttotal: 27.1ms\tremaining: 27.1s\n",
      "999:\tlearn: 0.0000000\ttest: 0.3463771\tbest: 0.3463771 (872)\ttotal: 24.8s\tremaining: 0us\n",
      "\n",
      "bestTest = 0.346377114\n",
      "bestIteration = 872\n",
      "\n",
      "0:\tlearn: 0.7933531\ttest: 0.8239476\tbest: 0.8239476 (0)\ttotal: 29.3ms\tremaining: 29.3s\n",
      "999:\tlearn: 0.0008444\ttest: 0.2839902\tbest: 0.2839902 (999)\ttotal: 23.3s\tremaining: 0us\n",
      "\n",
      "bestTest = 0.2839901913\n",
      "bestIteration = 999\n",
      "\n",
      "0:\tlearn: 0.7889488\ttest: 0.8229526\tbest: 0.8229526 (0)\ttotal: 24.4ms\tremaining: 24.4s\n",
      "999:\tlearn: 0.0000374\ttest: 0.2919827\tbest: 0.2919827 (999)\ttotal: 26.7s\tremaining: 0us\n",
      "\n",
      "bestTest = 0.2919827368\n",
      "bestIteration = 999\n",
      "\n",
      "0:\tlearn: 0.7845487\ttest: 0.8219639\tbest: 0.8219639 (0)\ttotal: 28.2ms\tremaining: 28.2s\n",
      "999:\tlearn: 0.0000025\ttest: 0.3096707\tbest: 0.3096706 (937)\ttotal: 25.4s\tremaining: 0us\n",
      "\n",
      "bestTest = 0.3096705908\n",
      "bestIteration = 937\n",
      "\n",
      "0:\tlearn: 0.7779569\ttest: 0.8204931\tbest: 0.8204931 (0)\ttotal: 30.5ms\tremaining: 30.5s\n",
      "999:\tlearn: 0.0000001\ttest: 0.3455200\tbest: 0.3455200 (994)\ttotal: 25.4s\tremaining: 0us\n",
      "\n",
      "bestTest = 0.345519972\n",
      "bestIteration = 994\n",
      "\n",
      "0:\tlearn: 0.7947563\ttest: 0.8242474\tbest: 0.8242474 (0)\ttotal: 28.5ms\tremaining: 28.5s\n",
      "999:\tlearn: 0.0023972\ttest: 0.2655345\tbest: 0.2655345 (999)\ttotal: 24.3s\tremaining: 0us\n",
      "\n",
      "bestTest = 0.2655344622\n",
      "bestIteration = 999\n",
      "\n",
      "0:\tlearn: 0.7912860\ttest: 0.8234493\tbest: 0.8234493 (0)\ttotal: 27.6ms\tremaining: 27.5s\n",
      "999:\tlearn: 0.0002146\ttest: 0.2777079\tbest: 0.2777079 (999)\ttotal: 25.2s\tremaining: 0us\n",
      "\n",
      "bestTest = 0.2777078655\n",
      "bestIteration = 999\n",
      "\n",
      "0:\tlearn: 0.7878189\ttest: 0.8226553\tbest: 0.8226553 (0)\ttotal: 28.3ms\tremaining: 28.3s\n",
      "999:\tlearn: 0.0000211\ttest: 0.2952231\tbest: 0.2952231 (999)\ttotal: 26s\tremaining: 0us\n",
      "\n",
      "bestTest = 0.2952230705\n",
      "bestIteration = 999\n",
      "\n",
      "0:\tlearn: 0.7826242\ttest: 0.8214720\tbest: 0.8214720 (0)\ttotal: 29.5ms\tremaining: 29.4s\n",
      "999:\tlearn: 0.0000015\ttest: 0.3125562\tbest: 0.3125562 (999)\ttotal: 26s\tremaining: 0us\n",
      "\n",
      "bestTest = 0.3125562204\n",
      "bestIteration = 999\n",
      "\n",
      "0:\tlearn: 0.7956622\ttest: 0.8244475\tbest: 0.8244475 (0)\ttotal: 29.5ms\tremaining: 29.5s\n",
      "999:\tlearn: 0.0046191\ttest: 0.2391737\tbest: 0.2391737 (999)\ttotal: 23.7s\tremaining: 0us\n",
      "\n",
      "bestTest = 0.2391736999\n",
      "bestIteration = 999\n",
      "\n",
      "0:\tlearn: 0.7927950\ttest: 0.8237813\tbest: 0.8237813 (0)\ttotal: 29.3ms\tremaining: 29.3s\n",
      "999:\tlearn: 0.0006473\ttest: 0.2340443\tbest: 0.2340443 (999)\ttotal: 25.2s\tremaining: 0us\n",
      "\n",
      "bestTest = 0.2340443148\n",
      "bestIteration = 999\n",
      "\n",
      "0:\tlearn: 0.7899301\ttest: 0.8231180\tbest: 0.8231180 (0)\ttotal: 30.2ms\tremaining: 30.2s\n",
      "999:\tlearn: 0.0001182\ttest: 0.2631292\tbest: 0.2631292 (999)\ttotal: 26.1s\tremaining: 0us\n",
      "\n",
      "bestTest = 0.2631292327\n",
      "bestIteration = 999\n",
      "\n",
      "0:\tlearn: 0.7856373\ttest: 0.8221283\tbest: 0.8221283 (0)\ttotal: 29.1ms\tremaining: 29.1s\n",
      "999:\tlearn: 0.0000101\ttest: 0.3063858\tbest: 0.3063858 (999)\ttotal: 26s\tremaining: 0us\n",
      "\n",
      "bestTest = 0.3063857716\n",
      "bestIteration = 999\n",
      "\n",
      "Training on fold [0/30]\n",
      "0:\tlearn: 0.7850757\ttest: 0.7809982\tbest: 0.7809982 (0)\ttotal: 898us\tremaining: 898ms\n",
      "999:\tlearn: 0.0027191\ttest: 0.0384374\tbest: 0.0384374 (999)\ttotal: 673ms\tremaining: 0us\n",
      "\n",
      "bestTest = 0.03843741936\n",
      "bestIteration = 999\n",
      "\n",
      "Training on fold [1/30]\n",
      "0:\tlearn: 0.7872934\ttest: 0.7587982\tbest: 0.7587982 (0)\ttotal: 979us\tremaining: 979ms\n",
      "999:\tlearn: 0.0023117\ttest: 0.0281864\tbest: 0.0242939 (184)\ttotal: 676ms\tremaining: 0us\n",
      "\n",
      "bestTest = 0.02429393622\n",
      "bestIteration = 184\n",
      "\n",
      "Training on fold [2/30]\n",
      "0:\tlearn: 0.7848579\ttest: 0.7808327\tbest: 0.7808327 (0)\ttotal: 2.14ms\tremaining: 2.14s\n",
      "999:\tlearn: 0.0020968\ttest: 0.0352290\tbest: 0.0349338 (430)\ttotal: 759ms\tremaining: 0us\n",
      "\n",
      "bestTest = 0.03493383307\n",
      "bestIteration = 430\n",
      "\n",
      "Training on fold [3/30]\n",
      "0:\tlearn: 0.7814468\ttest: 0.8118552\tbest: 0.8118552 (0)\ttotal: 555us\tremaining: 555ms\n",
      "999:\tlearn: 0.0028821\ttest: 0.0588871\tbest: 0.0588871 (999)\ttotal: 678ms\tremaining: 0us\n",
      "\n",
      "bestTest = 0.05888707116\n",
      "bestIteration = 999\n",
      "\n",
      "Training on fold [4/30]\n",
      "0:\tlearn: 0.7825255\ttest: 0.8017784\tbest: 0.8017784 (0)\ttotal: 558us\tremaining: 557ms\n",
      "999:\tlearn: 0.0022408\ttest: 0.0515434\tbest: 0.0500327 (266)\ttotal: 650ms\tremaining: 0us\n",
      "\n",
      "bestTest = 0.05003271453\n",
      "bestIteration = 266\n",
      "\n",
      "Training on fold [5/30]\n",
      "0:\tlearn: 0.7816608\ttest: 0.8094603\tbest: 0.8094603 (0)\ttotal: 869us\tremaining: 868ms\n",
      "999:\tlearn: 0.0017572\ttest: 0.0461615\tbest: 0.0441978 (176)\ttotal: 629ms\tremaining: 0us\n",
      "\n",
      "bestTest = 0.04419783274\n",
      "bestIteration = 176\n",
      "\n",
      "Training on fold [6/30]\n",
      "0:\tlearn: 0.7854475\ttest: 0.7735734\tbest: 0.7735734 (0)\ttotal: 605us\tremaining: 605ms\n",
      "999:\tlearn: 0.0022456\ttest: 0.0325466\tbest: 0.0325466 (999)\ttotal: 672ms\tremaining: 0us\n",
      "\n",
      "bestTest = 0.03254658585\n",
      "bestIteration = 999\n",
      "\n",
      "Training on fold [7/30]\n",
      "0:\tlearn: 0.7861965\ttest: 0.7659596\tbest: 0.7659596 (0)\ttotal: 529us\tremaining: 529ms\n",
      "999:\tlearn: 0.0023362\ttest: 0.0328427\tbest: 0.0324759 (609)\ttotal: 738ms\tremaining: 0us\n",
      "\n",
      "bestTest = 0.03247589616\n",
      "bestIteration = 609\n",
      "\n",
      "Training on fold [8/30]\n",
      "0:\tlearn: 0.7849145\ttest: 0.7773210\tbest: 0.7773210 (0)\ttotal: 500us\tremaining: 500ms\n",
      "999:\tlearn: 0.0020925\ttest: 0.0269498\tbest: 0.0193975 (224)\ttotal: 663ms\tremaining: 0us\n",
      "\n",
      "bestTest = 0.01939749674\n",
      "bestIteration = 224\n",
      "\n",
      "Training on fold [9/30]\n",
      "0:\tlearn: 0.7842941\ttest: 0.7847988\tbest: 0.7847988 (0)\ttotal: 618us\tremaining: 618ms\n",
      "999:\tlearn: 0.0021823\ttest: 0.0393128\tbest: 0.0393128 (999)\ttotal: 710ms\tremaining: 0us\n",
      "\n",
      "bestTest = 0.03931280849\n",
      "bestIteration = 999\n",
      "\n",
      "Training on fold [10/30]\n",
      "0:\tlearn: 0.7830806\ttest: 0.7971353\tbest: 0.7971353 (0)\ttotal: 594us\tremaining: 594ms\n",
      "999:\tlearn: 0.0017826\ttest: 0.0498155\tbest: 0.0491076 (470)\ttotal: 686ms\tremaining: 0us\n",
      "\n",
      "bestTest = 0.04910764469\n",
      "bestIteration = 470\n",
      "\n",
      "Training on fold [11/30]\n",
      "0:\tlearn: 0.7847833\ttest: 0.7813544\tbest: 0.7813544 (0)\ttotal: 747us\tremaining: 747ms\n",
      "999:\tlearn: 0.0021833\ttest: 0.0352272\tbest: 0.0298265 (229)\ttotal: 659ms\tremaining: 0us\n",
      "\n",
      "bestTest = 0.02982648903\n",
      "bestIteration = 229\n",
      "\n",
      "Training on fold [12/30]\n",
      "0:\tlearn: 0.7844875\ttest: 0.7828088\tbest: 0.7828088 (0)\ttotal: 721us\tremaining: 720ms\n",
      "999:\tlearn: 0.0022448\ttest: 0.0417950\tbest: 0.0417810 (885)\ttotal: 661ms\tremaining: 0us\n",
      "\n",
      "bestTest = 0.04178101176\n",
      "bestIteration = 885\n",
      "\n",
      "Training on fold [13/30]\n",
      "0:\tlearn: 0.7861972\ttest: 0.7676243\tbest: 0.7676243 (0)\ttotal: 550us\tremaining: 550ms\n",
      "999:\tlearn: 0.0025045\ttest: 0.0237019\tbest: 0.0229485 (324)\ttotal: 705ms\tremaining: 0us\n",
      "\n",
      "bestTest = 0.02294845746\n",
      "bestIteration = 324\n",
      "\n",
      "Training on fold [14/30]\n",
      "0:\tlearn: 0.7842935\ttest: 0.7858522\tbest: 0.7858522 (0)\ttotal: 2.59ms\tremaining: 2.59s\n",
      "999:\tlearn: 0.0022436\ttest: 0.0398730\tbest: 0.0391628 (308)\ttotal: 705ms\tremaining: 0us\n",
      "\n",
      "bestTest = 0.03916283836\n",
      "bestIteration = 308\n",
      "\n",
      "Training on fold [15/30]\n",
      "0:\tlearn: 0.7844231\ttest: 0.7864817\tbest: 0.7864817 (0)\ttotal: 1.9ms\tremaining: 1.9s\n",
      "999:\tlearn: 0.0022465\ttest: 0.0329510\tbest: 0.0326053 (241)\ttotal: 726ms\tremaining: 0us\n",
      "\n",
      "bestTest = 0.03260525442\n",
      "bestIteration = 241\n",
      "\n",
      "Training on fold [16/30]\n",
      "0:\tlearn: 0.7835901\ttest: 0.7925819\tbest: 0.7925819 (0)\ttotal: 539us\tremaining: 539ms\n",
      "999:\tlearn: 0.0026612\ttest: 0.0642176\tbest: 0.0642017 (922)\ttotal: 744ms\tremaining: 0us\n",
      "\n",
      "bestTest = 0.06420165733\n",
      "bestIteration = 922\n",
      "\n",
      "Training on fold [17/30]\n",
      "0:\tlearn: 0.7837381\ttest: 0.7911425\tbest: 0.7911425 (0)\ttotal: 591us\tremaining: 591ms\n",
      "999:\tlearn: 0.0024094\ttest: 0.0395843\tbest: 0.0392174 (553)\ttotal: 855ms\tremaining: 0us\n",
      "\n",
      "bestTest = 0.03921737626\n",
      "bestIteration = 553\n",
      "\n",
      "Training on fold [18/30]\n",
      "0:\tlearn: 0.7834832\ttest: 0.7926663\tbest: 0.7926663 (0)\ttotal: 1.09ms\tremaining: 1.09s\n",
      "999:\tlearn: 0.0022815\ttest: 0.0417950\tbest: 0.0386791 (259)\ttotal: 729ms\tremaining: 0us\n",
      "\n",
      "bestTest = 0.03867909115\n",
      "bestIteration = 259\n",
      "\n",
      "Training on fold [19/30]\n",
      "0:\tlearn: 0.7855551\ttest: 0.7734573\tbest: 0.7734573 (0)\ttotal: 925us\tremaining: 925ms\n",
      "999:\tlearn: 0.0022294\ttest: 0.0237447\tbest: 0.0202409 (278)\ttotal: 681ms\tremaining: 0us\n",
      "\n",
      "bestTest = 0.0202408758\n",
      "bestIteration = 278\n",
      "\n",
      "Training on fold [20/30]\n",
      "0:\tlearn: 0.7838108\ttest: 0.7890441\tbest: 0.7890441 (0)\ttotal: 720us\tremaining: 720ms\n",
      "999:\tlearn: 0.0024969\ttest: 0.0289021\tbest: 0.0287623 (692)\ttotal: 738ms\tremaining: 0us\n",
      "\n",
      "bestTest = 0.02876225417\n",
      "bestIteration = 692\n",
      "\n",
      "Training on fold [21/30]\n",
      "0:\tlearn: 0.7848616\ttest: 0.7799070\tbest: 0.7799070 (0)\ttotal: 2.54ms\tremaining: 2.53s\n",
      "999:\tlearn: 0.0020140\ttest: 0.0434858\tbest: 0.0423828 (408)\ttotal: 845ms\tremaining: 0us\n",
      "\n",
      "bestTest = 0.04238282652\n",
      "bestIteration = 408\n",
      "\n",
      "Training on fold [22/30]\n",
      "0:\tlearn: 0.7844521\ttest: 0.7839630\tbest: 0.7839630 (0)\ttotal: 614us\tremaining: 613ms\n",
      "999:\tlearn: 0.0024454\ttest: 0.0484613\tbest: 0.0483981 (916)\ttotal: 744ms\tremaining: 0us\n",
      "\n",
      "bestTest = 0.04839813154\n",
      "bestIteration = 916\n",
      "\n",
      "Training on fold [23/30]\n",
      "0:\tlearn: 0.7846869\ttest: 0.7822606\tbest: 0.7822606 (0)\ttotal: 2.41ms\tremaining: 2.41s\n",
      "999:\tlearn: 0.0020595\ttest: 0.0415181\tbest: 0.0369855 (204)\ttotal: 675ms\tremaining: 0us\n",
      "\n",
      "bestTest = 0.03698551824\n",
      "bestIteration = 204\n",
      "\n",
      "Training on fold [24/30]\n",
      "0:\tlearn: 0.7846962\ttest: 0.7818374\tbest: 0.7818374 (0)\ttotal: 2.17ms\tremaining: 2.17s\n",
      "999:\tlearn: 0.0021820\ttest: 0.0422040\tbest: 0.0367944 (186)\ttotal: 671ms\tremaining: 0us\n",
      "\n",
      "bestTest = 0.03679436791\n",
      "bestIteration = 186\n",
      "\n",
      "Training on fold [25/30]\n",
      "0:\tlearn: 0.7832313\ttest: 0.7950144\tbest: 0.7950144 (0)\ttotal: 517us\tremaining: 517ms\n",
      "999:\tlearn: 0.0021028\ttest: 0.0556926\tbest: 0.0555691 (894)\ttotal: 748ms\tremaining: 0us\n",
      "\n",
      "bestTest = 0.05556911394\n",
      "bestIteration = 894\n",
      "\n",
      "Training on fold [26/30]\n",
      "0:\tlearn: 0.7833521\ttest: 0.7955276\tbest: 0.7955276 (0)\ttotal: 1.17ms\tremaining: 1.17s\n",
      "999:\tlearn: 0.0022583\ttest: 0.0383139\tbest: 0.0383115 (998)\ttotal: 650ms\tremaining: 0us\n",
      "\n",
      "bestTest = 0.03831146335\n",
      "bestIteration = 998\n",
      "\n",
      "Training on fold [27/30]\n",
      "0:\tlearn: 0.7837601\ttest: 0.7918937\tbest: 0.7918937 (0)\ttotal: 1.75ms\tremaining: 1.75s\n",
      "999:\tlearn: 0.0022045\ttest: 0.0499786\tbest: 0.0486140 (459)\ttotal: 642ms\tremaining: 0us\n",
      "\n",
      "bestTest = 0.04861400226\n",
      "bestIteration = 459\n",
      "\n",
      "Training on fold [28/30]\n",
      "0:\tlearn: 0.7857407\ttest: 0.7714899\tbest: 0.7714899 (0)\ttotal: 970us\tremaining: 970ms\n",
      "999:\tlearn: 0.0019638\ttest: 0.0449014\tbest: 0.0389097 (154)\ttotal: 676ms\tremaining: 0us\n",
      "\n",
      "bestTest = 0.03890971672\n",
      "bestIteration = 154\n",
      "\n",
      "Training on fold [29/30]\n",
      "0:\tlearn: 0.7850592\ttest: 0.7760757\tbest: 0.7760757 (0)\ttotal: 1.28ms\tremaining: 1.28s\n",
      "999:\tlearn: 0.0023815\ttest: 0.0322620\tbest: 0.0266704 (220)\ttotal: 740ms\tremaining: 0us\n",
      "\n",
      "bestTest = 0.02667035078\n",
      "bestIteration = 220\n",
      "\n"
     ]
    }
   ],
   "source": [
    "model = CatBoostRegressor(verbose=1000)\n",
    "grid = {\n",
    "    'learning_rate': [0.03, 0.05, 0.07, 0.1],\n",
    "    'depth': [4, 6, 10, 12],\n",
    "    'l2_leaf_reg': [1, 3, 5, 7, 9]\n",
    "}\n",
    "grid_search_result = model.grid_search(grid, X=dfX[cols], y=y, plot=True, cv=kf, verbose=False)"
   ]
  },
  {
   "cell_type": "code",
   "execution_count": 17,
   "metadata": {},
   "outputs": [
    {
     "data": {
      "text/plain": [
       "{'depth': 4, 'l2_leaf_reg': 1, 'learning_rate': 0.03}"
      ]
     },
     "execution_count": 17,
     "metadata": {},
     "output_type": "execute_result"
    }
   ],
   "source": [
    "grid_search_result['params']"
   ]
  },
  {
   "cell_type": "code",
   "execution_count": 18,
   "metadata": {},
   "outputs": [
    {
     "data": {
      "text/plain": [
       "('Catboost', 0.03603586259414829, 0.029358332918660912, 0.4481142088724709)"
      ]
     },
     "execution_count": 18,
     "metadata": {},
     "output_type": "execute_result"
    }
   ],
   "source": [
    "\n",
    "\n",
    "def evaluate_catboost(dfX,y,kf):\n",
    "  from catboost import CatBoostRegressor\n",
    "  from catboost import Pool\n",
    "  from sklearn.metrics import r2_score, mean_squared_error\n",
    "  vals = []\n",
    "  preds = []\n",
    "  error_rates_dt = []\n",
    "\n",
    "  cbr = CatBoostRegressor(\n",
    "    depth= 4,\n",
    "    l2_leaf_reg= 1,\n",
    "    learning_rate= 0.03,\n",
    "    )\n",
    "  for train_index, test_index in kf.split(dfX):\n",
    "    # print(\"TRAIN:\", train_index, \"TEST:\", test_index)\n",
    "      X_train, X_test = dfX.iloc[train_index], dfX.iloc[test_index]\n",
    "      y_train, y_test = y.iloc[train_index], y.iloc[test_index]\n",
    "      train_pool = Pool(data=X_train, label=y_train)\n",
    "      test_pool = Pool(data=X_test, label=y_test)\n",
    "\n",
    "      cbr.fit(train_pool, verbose=False)\n",
    "      cbr_pred = cbr.predict(test_pool)\n",
    "      preds.append(cbr_pred)\n",
    "      vals.append(y_test)\n",
    "\n",
    "  cat_df = pd.DataFrame({'Prediction':utils.flatten(preds),'Actual Values': utils.flatten(vals)})\n",
    "  return utils.error_rate(\"Catboost\",cat_df['Prediction'],cat_df['Actual Values'])\n",
    "\n",
    "evaluate_catboost(dfX[cols],y,kf)"
   ]
  },
  {
   "cell_type": "code",
   "execution_count": 7,
   "metadata": {},
   "outputs": [
    {
     "name": "stderr",
     "output_type": "stream",
     "text": [
      "[I 2023-06-08 14:38:08,042] A new study created in memory with name: no-name-a820b070-628f-4db5-9c86-d7caba9e046e\n",
      "C:\\Users\\Bayu Adjie Sidharta\\AppData\\Local\\Temp\\ipykernel_26256\\3613356961.py:26: FutureWarning: suggest_discrete_uniform has been deprecated in v3.0.0. This feature will be removed in v6.0.0. See https://github.com/optuna/optuna/releases/tag/v3.0.0. Use suggest_float(..., step=...) instead.\n",
      "  \"learning_rate\": trial.suggest_discrete_uniform(\"learning_rate\", 0.001, 0.05, 0.005),\n",
      "c:\\Users\\Bayu Adjie Sidharta\\AppData\\Local\\Programs\\Python\\Python310\\lib\\site-packages\\optuna\\distributions.py:685: UserWarning: The distribution is specified by [0.001, 0.05] and step=0.005, but the range is not divisible by `step`. It will be replaced by [0.001, 0.046].\n",
      "  warnings.warn(\n",
      "C:\\Users\\Bayu Adjie Sidharta\\AppData\\Local\\Temp\\ipykernel_26256\\3613356961.py:28: FutureWarning: suggest_discrete_uniform has been deprecated in v3.0.0. This feature will be removed in v6.0.0. See https://github.com/optuna/optuna/releases/tag/v3.0.0. Use suggest_float(..., step=...) instead.\n",
      "  \"l2_leaf_reg\": trial.suggest_discrete_uniform(\"l2_leaf_reg\", 1, 5.5, 0.5),\n"
     ]
    },
    {
     "name": "stdout",
     "output_type": "stream",
     "text": [
      "{'objective': 'RMSE', 'learning_rate': 0.001, 'depth': 16, 'l2_leaf_reg': 2.0, 'use_best_model': True, 'random_seed': 0}\n"
     ]
    },
    {
     "name": "stderr",
     "output_type": "stream",
     "text": [
      "[W 2023-06-08 14:38:28,381] Trial 0 failed with parameters: {'objective': 'RMSE', 'learning_rate': 0.001, 'depth': 16, 'l2_leaf_reg': 2.0} because of the following error: KeyboardInterrupt('').\n",
      "Traceback (most recent call last):\n",
      "  File \"c:\\Users\\Bayu Adjie Sidharta\\AppData\\Local\\Programs\\Python\\Python310\\lib\\site-packages\\optuna\\study\\_optimize.py\", line 200, in _run_trial\n",
      "    value_or_values = func(trial)\n",
      "  File \"C:\\Users\\Bayu Adjie Sidharta\\AppData\\Local\\Temp\\ipykernel_26256\\3613356961.py\", line 53, in objective\n",
      "    model.fit(train_pool, eval_set=val_pool)\n",
      "  File \"c:\\Users\\Bayu Adjie Sidharta\\AppData\\Local\\Programs\\Python\\Python310\\lib\\site-packages\\catboost\\core.py\", line 5730, in fit\n",
      "    return self._fit(X, y, cat_features, text_features, embedding_features, None, sample_weight, None, None, None, None, baseline,\n",
      "  File \"c:\\Users\\Bayu Adjie Sidharta\\AppData\\Local\\Programs\\Python\\Python310\\lib\\site-packages\\catboost\\core.py\", line 2355, in _fit\n",
      "    self._train(\n",
      "  File \"c:\\Users\\Bayu Adjie Sidharta\\AppData\\Local\\Programs\\Python\\Python310\\lib\\site-packages\\catboost\\core.py\", line 1759, in _train\n",
      "    self._object._train(train_pool, test_pool, params, allow_clear_pool, init_model._object if init_model else None)\n",
      "  File \"_catboost.pyx\", line 4623, in _catboost._CatBoost._train\n",
      "  File \"_catboost.pyx\", line 4672, in _catboost._CatBoost._train\n",
      "KeyboardInterrupt\n",
      "[W 2023-06-08 14:38:28,386] Trial 0 failed with value None.\n"
     ]
    },
    {
     "ename": "KeyboardInterrupt",
     "evalue": "",
     "output_type": "error",
     "traceback": [
      "\u001b[1;31m---------------------------------------------------------------------------\u001b[0m",
      "\u001b[1;31mKeyboardInterrupt\u001b[0m                         Traceback (most recent call last)",
      "Cell \u001b[1;32mIn[7], line 75\u001b[0m\n\u001b[0;32m     69\u001b[0m     \u001b[39mreturn\u001b[39;00m rmse\n\u001b[0;32m     73\u001b[0m study \u001b[39m=\u001b[39m optuna\u001b[39m.\u001b[39mcreate_study(direction\u001b[39m=\u001b[39m\u001b[39m\"\u001b[39m\u001b[39mminimize\u001b[39m\u001b[39m\"\u001b[39m, pruner\u001b[39m=\u001b[39moptuna\u001b[39m.\u001b[39mpruners\u001b[39m.\u001b[39mMedianPruner(n_warmup_steps\u001b[39m=\u001b[39m\u001b[39m10\u001b[39m))\n\u001b[1;32m---> 75\u001b[0m study\u001b[39m.\u001b[39;49moptimize(objective, n_trials\u001b[39m=\u001b[39;49m\u001b[39m15\u001b[39;49m)\n\u001b[0;32m     77\u001b[0m \u001b[39mprint\u001b[39m(\u001b[39m\"\u001b[39m\u001b[39mNumber of finished trials: \u001b[39m\u001b[39m{}\u001b[39;00m\u001b[39m\"\u001b[39m\u001b[39m.\u001b[39mformat(\u001b[39mlen\u001b[39m(study\u001b[39m.\u001b[39mtrials)))\n\u001b[0;32m     78\u001b[0m \u001b[39mprint\u001b[39m(\u001b[39m\"\u001b[39m\u001b[39mBest trial:\u001b[39m\u001b[39m\"\u001b[39m)\n",
      "File \u001b[1;32mc:\\Users\\Bayu Adjie Sidharta\\AppData\\Local\\Programs\\Python\\Python310\\lib\\site-packages\\optuna\\study\\study.py:443\u001b[0m, in \u001b[0;36mStudy.optimize\u001b[1;34m(self, func, n_trials, timeout, n_jobs, catch, callbacks, gc_after_trial, show_progress_bar)\u001b[0m\n\u001b[0;32m    339\u001b[0m \u001b[39mdef\u001b[39;00m \u001b[39moptimize\u001b[39m(\n\u001b[0;32m    340\u001b[0m     \u001b[39mself\u001b[39m,\n\u001b[0;32m    341\u001b[0m     func: ObjectiveFuncType,\n\u001b[1;32m   (...)\u001b[0m\n\u001b[0;32m    348\u001b[0m     show_progress_bar: \u001b[39mbool\u001b[39m \u001b[39m=\u001b[39m \u001b[39mFalse\u001b[39;00m,\n\u001b[0;32m    349\u001b[0m ) \u001b[39m-\u001b[39m\u001b[39m>\u001b[39m \u001b[39mNone\u001b[39;00m:\n\u001b[0;32m    350\u001b[0m     \u001b[39m\"\"\"Optimize an objective function.\u001b[39;00m\n\u001b[0;32m    351\u001b[0m \n\u001b[0;32m    352\u001b[0m \u001b[39m    Optimization is done by choosing a suitable set of hyperparameter values from a given\u001b[39;00m\n\u001b[1;32m   (...)\u001b[0m\n\u001b[0;32m    440\u001b[0m \u001b[39m            If nested invocation of this method occurs.\u001b[39;00m\n\u001b[0;32m    441\u001b[0m \u001b[39m    \"\"\"\u001b[39;00m\n\u001b[1;32m--> 443\u001b[0m     _optimize(\n\u001b[0;32m    444\u001b[0m         study\u001b[39m=\u001b[39;49m\u001b[39mself\u001b[39;49m,\n\u001b[0;32m    445\u001b[0m         func\u001b[39m=\u001b[39;49mfunc,\n\u001b[0;32m    446\u001b[0m         n_trials\u001b[39m=\u001b[39;49mn_trials,\n\u001b[0;32m    447\u001b[0m         timeout\u001b[39m=\u001b[39;49mtimeout,\n\u001b[0;32m    448\u001b[0m         n_jobs\u001b[39m=\u001b[39;49mn_jobs,\n\u001b[0;32m    449\u001b[0m         catch\u001b[39m=\u001b[39;49m\u001b[39mtuple\u001b[39;49m(catch) \u001b[39mif\u001b[39;49;00m \u001b[39misinstance\u001b[39;49m(catch, Iterable) \u001b[39melse\u001b[39;49;00m (catch,),\n\u001b[0;32m    450\u001b[0m         callbacks\u001b[39m=\u001b[39;49mcallbacks,\n\u001b[0;32m    451\u001b[0m         gc_after_trial\u001b[39m=\u001b[39;49mgc_after_trial,\n\u001b[0;32m    452\u001b[0m         show_progress_bar\u001b[39m=\u001b[39;49mshow_progress_bar,\n\u001b[0;32m    453\u001b[0m     )\n",
      "File \u001b[1;32mc:\\Users\\Bayu Adjie Sidharta\\AppData\\Local\\Programs\\Python\\Python310\\lib\\site-packages\\optuna\\study\\_optimize.py:66\u001b[0m, in \u001b[0;36m_optimize\u001b[1;34m(study, func, n_trials, timeout, n_jobs, catch, callbacks, gc_after_trial, show_progress_bar)\u001b[0m\n\u001b[0;32m     64\u001b[0m \u001b[39mtry\u001b[39;00m:\n\u001b[0;32m     65\u001b[0m     \u001b[39mif\u001b[39;00m n_jobs \u001b[39m==\u001b[39m \u001b[39m1\u001b[39m:\n\u001b[1;32m---> 66\u001b[0m         _optimize_sequential(\n\u001b[0;32m     67\u001b[0m             study,\n\u001b[0;32m     68\u001b[0m             func,\n\u001b[0;32m     69\u001b[0m             n_trials,\n\u001b[0;32m     70\u001b[0m             timeout,\n\u001b[0;32m     71\u001b[0m             catch,\n\u001b[0;32m     72\u001b[0m             callbacks,\n\u001b[0;32m     73\u001b[0m             gc_after_trial,\n\u001b[0;32m     74\u001b[0m             reseed_sampler_rng\u001b[39m=\u001b[39;49m\u001b[39mFalse\u001b[39;49;00m,\n\u001b[0;32m     75\u001b[0m             time_start\u001b[39m=\u001b[39;49m\u001b[39mNone\u001b[39;49;00m,\n\u001b[0;32m     76\u001b[0m             progress_bar\u001b[39m=\u001b[39;49mprogress_bar,\n\u001b[0;32m     77\u001b[0m         )\n\u001b[0;32m     78\u001b[0m     \u001b[39melse\u001b[39;00m:\n\u001b[0;32m     79\u001b[0m         \u001b[39mif\u001b[39;00m n_jobs \u001b[39m==\u001b[39m \u001b[39m-\u001b[39m\u001b[39m1\u001b[39m:\n",
      "File \u001b[1;32mc:\\Users\\Bayu Adjie Sidharta\\AppData\\Local\\Programs\\Python\\Python310\\lib\\site-packages\\optuna\\study\\_optimize.py:163\u001b[0m, in \u001b[0;36m_optimize_sequential\u001b[1;34m(study, func, n_trials, timeout, catch, callbacks, gc_after_trial, reseed_sampler_rng, time_start, progress_bar)\u001b[0m\n\u001b[0;32m    160\u001b[0m         \u001b[39mbreak\u001b[39;00m\n\u001b[0;32m    162\u001b[0m \u001b[39mtry\u001b[39;00m:\n\u001b[1;32m--> 163\u001b[0m     frozen_trial \u001b[39m=\u001b[39m _run_trial(study, func, catch)\n\u001b[0;32m    164\u001b[0m \u001b[39mfinally\u001b[39;00m:\n\u001b[0;32m    165\u001b[0m     \u001b[39m# The following line mitigates memory problems that can be occurred in some\u001b[39;00m\n\u001b[0;32m    166\u001b[0m     \u001b[39m# environments (e.g., services that use computing containers such as GitHub Actions).\u001b[39;00m\n\u001b[0;32m    167\u001b[0m     \u001b[39m# Please refer to the following PR for further details:\u001b[39;00m\n\u001b[0;32m    168\u001b[0m     \u001b[39m# https://github.com/optuna/optuna/pull/325.\u001b[39;00m\n\u001b[0;32m    169\u001b[0m     \u001b[39mif\u001b[39;00m gc_after_trial:\n",
      "File \u001b[1;32mc:\\Users\\Bayu Adjie Sidharta\\AppData\\Local\\Programs\\Python\\Python310\\lib\\site-packages\\optuna\\study\\_optimize.py:251\u001b[0m, in \u001b[0;36m_run_trial\u001b[1;34m(study, func, catch)\u001b[0m\n\u001b[0;32m    244\u001b[0m         \u001b[39massert\u001b[39;00m \u001b[39mFalse\u001b[39;00m, \u001b[39m\"\u001b[39m\u001b[39mShould not reach.\u001b[39m\u001b[39m\"\u001b[39m\n\u001b[0;32m    246\u001b[0m \u001b[39mif\u001b[39;00m (\n\u001b[0;32m    247\u001b[0m     frozen_trial\u001b[39m.\u001b[39mstate \u001b[39m==\u001b[39m TrialState\u001b[39m.\u001b[39mFAIL\n\u001b[0;32m    248\u001b[0m     \u001b[39mand\u001b[39;00m func_err \u001b[39mis\u001b[39;00m \u001b[39mnot\u001b[39;00m \u001b[39mNone\u001b[39;00m\n\u001b[0;32m    249\u001b[0m     \u001b[39mand\u001b[39;00m \u001b[39mnot\u001b[39;00m \u001b[39misinstance\u001b[39m(func_err, catch)\n\u001b[0;32m    250\u001b[0m ):\n\u001b[1;32m--> 251\u001b[0m     \u001b[39mraise\u001b[39;00m func_err\n\u001b[0;32m    252\u001b[0m \u001b[39mreturn\u001b[39;00m frozen_trial\n",
      "File \u001b[1;32mc:\\Users\\Bayu Adjie Sidharta\\AppData\\Local\\Programs\\Python\\Python310\\lib\\site-packages\\optuna\\study\\_optimize.py:200\u001b[0m, in \u001b[0;36m_run_trial\u001b[1;34m(study, func, catch)\u001b[0m\n\u001b[0;32m    198\u001b[0m \u001b[39mwith\u001b[39;00m get_heartbeat_thread(trial\u001b[39m.\u001b[39m_trial_id, study\u001b[39m.\u001b[39m_storage):\n\u001b[0;32m    199\u001b[0m     \u001b[39mtry\u001b[39;00m:\n\u001b[1;32m--> 200\u001b[0m         value_or_values \u001b[39m=\u001b[39m func(trial)\n\u001b[0;32m    201\u001b[0m     \u001b[39mexcept\u001b[39;00m exceptions\u001b[39m.\u001b[39mTrialPruned \u001b[39mas\u001b[39;00m e:\n\u001b[0;32m    202\u001b[0m         \u001b[39m# TODO(mamu): Handle multi-objective cases.\u001b[39;00m\n\u001b[0;32m    203\u001b[0m         state \u001b[39m=\u001b[39m TrialState\u001b[39m.\u001b[39mPRUNED\n",
      "Cell \u001b[1;32mIn[7], line 53\u001b[0m, in \u001b[0;36mobjective\u001b[1;34m(trial)\u001b[0m\n\u001b[0;32m     50\u001b[0m val_pool \u001b[39m=\u001b[39m Pool(val_x, val_y)\n\u001b[0;32m     51\u001b[0m test_pool \u001b[39m=\u001b[39m Pool(test_x)\n\u001b[1;32m---> 53\u001b[0m model\u001b[39m.\u001b[39;49mfit(train_pool, eval_set\u001b[39m=\u001b[39;49mval_pool)\n\u001b[0;32m     55\u001b[0m pred \u001b[39m=\u001b[39m model\u001b[39m.\u001b[39mpredict(test_pool)\n\u001b[0;32m     56\u001b[0m \u001b[39m# convert np float array to list\u001b[39;00m\n",
      "File \u001b[1;32mc:\\Users\\Bayu Adjie Sidharta\\AppData\\Local\\Programs\\Python\\Python310\\lib\\site-packages\\catboost\\core.py:5730\u001b[0m, in \u001b[0;36mCatBoostRegressor.fit\u001b[1;34m(self, X, y, cat_features, text_features, embedding_features, sample_weight, baseline, use_best_model, eval_set, verbose, logging_level, plot, plot_file, column_description, verbose_eval, metric_period, silent, early_stopping_rounds, save_snapshot, snapshot_file, snapshot_interval, init_model, callbacks, log_cout, log_cerr)\u001b[0m\n\u001b[0;32m   5727\u001b[0m \u001b[39mif\u001b[39;00m \u001b[39m'\u001b[39m\u001b[39mloss_function\u001b[39m\u001b[39m'\u001b[39m \u001b[39min\u001b[39;00m params:\n\u001b[0;32m   5728\u001b[0m     CatBoostRegressor\u001b[39m.\u001b[39m_check_is_compatible_loss(params[\u001b[39m'\u001b[39m\u001b[39mloss_function\u001b[39m\u001b[39m'\u001b[39m])\n\u001b[1;32m-> 5730\u001b[0m \u001b[39mreturn\u001b[39;00m \u001b[39mself\u001b[39;49m\u001b[39m.\u001b[39;49m_fit(X, y, cat_features, text_features, embedding_features, \u001b[39mNone\u001b[39;49;00m, sample_weight, \u001b[39mNone\u001b[39;49;00m, \u001b[39mNone\u001b[39;49;00m, \u001b[39mNone\u001b[39;49;00m, \u001b[39mNone\u001b[39;49;00m, baseline,\n\u001b[0;32m   5731\u001b[0m                  use_best_model, eval_set, verbose, logging_level, plot, plot_file, column_description,\n\u001b[0;32m   5732\u001b[0m                  verbose_eval, metric_period, silent, early_stopping_rounds,\n\u001b[0;32m   5733\u001b[0m                  save_snapshot, snapshot_file, snapshot_interval, init_model, callbacks, log_cout, log_cerr)\n",
      "File \u001b[1;32mc:\\Users\\Bayu Adjie Sidharta\\AppData\\Local\\Programs\\Python\\Python310\\lib\\site-packages\\catboost\\core.py:2355\u001b[0m, in \u001b[0;36mCatBoost._fit\u001b[1;34m(self, X, y, cat_features, text_features, embedding_features, pairs, sample_weight, group_id, group_weight, subgroup_id, pairs_weight, baseline, use_best_model, eval_set, verbose, logging_level, plot, plot_file, column_description, verbose_eval, metric_period, silent, early_stopping_rounds, save_snapshot, snapshot_file, snapshot_interval, init_model, callbacks, log_cout, log_cerr)\u001b[0m\n\u001b[0;32m   2351\u001b[0m allow_clear_pool \u001b[39m=\u001b[39m train_params[\u001b[39m\"\u001b[39m\u001b[39mallow_clear_pool\u001b[39m\u001b[39m\"\u001b[39m]\n\u001b[0;32m   2353\u001b[0m \u001b[39mwith\u001b[39;00m log_fixup(log_cout, log_cerr), \\\n\u001b[0;32m   2354\u001b[0m     plot_wrapper(plot, plot_file, \u001b[39m'\u001b[39m\u001b[39mTraining plots\u001b[39m\u001b[39m'\u001b[39m, [_get_train_dir(\u001b[39mself\u001b[39m\u001b[39m.\u001b[39mget_params())]):\n\u001b[1;32m-> 2355\u001b[0m     \u001b[39mself\u001b[39;49m\u001b[39m.\u001b[39;49m_train(\n\u001b[0;32m   2356\u001b[0m         train_pool,\n\u001b[0;32m   2357\u001b[0m         train_params[\u001b[39m\"\u001b[39;49m\u001b[39meval_sets\u001b[39;49m\u001b[39m\"\u001b[39;49m],\n\u001b[0;32m   2358\u001b[0m         params,\n\u001b[0;32m   2359\u001b[0m         allow_clear_pool,\n\u001b[0;32m   2360\u001b[0m         train_params[\u001b[39m\"\u001b[39;49m\u001b[39minit_model\u001b[39;49m\u001b[39m\"\u001b[39;49m]\n\u001b[0;32m   2361\u001b[0m     )\n\u001b[0;32m   2363\u001b[0m \u001b[39m# Have property feature_importance possibly set\u001b[39;00m\n\u001b[0;32m   2364\u001b[0m loss \u001b[39m=\u001b[39m \u001b[39mself\u001b[39m\u001b[39m.\u001b[39m_object\u001b[39m.\u001b[39m_get_loss_function_name()\n",
      "File \u001b[1;32mc:\\Users\\Bayu Adjie Sidharta\\AppData\\Local\\Programs\\Python\\Python310\\lib\\site-packages\\catboost\\core.py:1759\u001b[0m, in \u001b[0;36m_CatBoostBase._train\u001b[1;34m(self, train_pool, test_pool, params, allow_clear_pool, init_model)\u001b[0m\n\u001b[0;32m   1758\u001b[0m \u001b[39mdef\u001b[39;00m \u001b[39m_train\u001b[39m(\u001b[39mself\u001b[39m, train_pool, test_pool, params, allow_clear_pool, init_model):\n\u001b[1;32m-> 1759\u001b[0m     \u001b[39mself\u001b[39;49m\u001b[39m.\u001b[39;49m_object\u001b[39m.\u001b[39;49m_train(train_pool, test_pool, params, allow_clear_pool, init_model\u001b[39m.\u001b[39;49m_object \u001b[39mif\u001b[39;49;00m init_model \u001b[39melse\u001b[39;49;00m \u001b[39mNone\u001b[39;49;00m)\n\u001b[0;32m   1760\u001b[0m     \u001b[39mself\u001b[39m\u001b[39m.\u001b[39m_set_trained_model_attributes()\n",
      "File \u001b[1;32m_catboost.pyx:4623\u001b[0m, in \u001b[0;36m_catboost._CatBoost._train\u001b[1;34m()\u001b[0m\n",
      "File \u001b[1;32m_catboost.pyx:4672\u001b[0m, in \u001b[0;36m_catboost._CatBoost._train\u001b[1;34m()\u001b[0m\n",
      "\u001b[1;31mKeyboardInterrupt\u001b[0m: "
     ]
    }
   ],
   "source": [
    "from catboost import CatBoostRegressor\n",
    "from catboost import Pool\n",
    "import optuna\n",
    "import Utils as utils\n",
    "from sklearn.metrics import mean_squared_error\n",
    "from sklearn.model_selection import train_test_split\n",
    "from sklearn.pipeline import Pipeline\n",
    "from optuna.integration import CatBoostPruningCallback\n",
    "\n",
    "\n",
    "def objective(trial):\n",
    "    cols = ['Umur', 'Umur Squared', 'APM SMA', 'Pengeluaran Bulanan','Indeks Pembangunan Manusia', 'DPT', 'Sentiment', 'Weighted Sentiment']\n",
    "    usedDF = dfX[cols]\n",
    "    # data, target = dfX[cols], y\n",
    "    # train_x, test_x, train_y, test_y = train_test_split(data, target, test_size=0.2)\n",
    "    # train_x, val_x, train_y, val_y = train_test_split(train_x, train_y, test_size=0.25)\n",
    "    # train_pool = Pool(train_x, train_y)\n",
    "    # val_pool = Pool(val_x, val_y)\n",
    "    # test_pool = Pool(test_x)\n",
    "\n",
    "    preds = []\n",
    "    vals = []\n",
    "\n",
    "    params = {\n",
    "        \"objective\": trial.suggest_categorical(\"objective\", [\"RMSE\"]),\n",
    "        \"learning_rate\": trial.suggest_discrete_uniform(\"learning_rate\", 0.001, 0.05, 0.005),\n",
    "        \"depth\": trial.suggest_int(\"depth\", 8, 16),\n",
    "        \"l2_leaf_reg\": trial.suggest_discrete_uniform(\"l2_leaf_reg\", 1, 5.5, 0.5),\n",
    "        \"use_best_model\": True,\n",
    "        \"random_seed\": 0,\n",
    "    }\n",
    "\n",
    "    print(params)\n",
    "\n",
    "    # if params[\"bootstrap_type\"] == \"Bayesian\":\n",
    "    #     params[\"bagging_temperature\"] = trial.suggest_float(\"bagging_temperature\", 0, 10)\n",
    "    # elif params[\"bootstrap_type\"] == \"Bernoulli\":\n",
    "    #     params[\"subsample\"] = trial.suggest_float(\"subsample\", 0.1, 1, log=True)\n",
    "\n",
    "    model = CatBoostRegressor(**params, verbose=False)\n",
    "\n",
    "    # pruning_callback = CatBoostPruningCallback(trial, \"RMSE\")\n",
    "\n",
    "    for i, (train_index , test_index) in enumerate(kf.split(usedDF)):\n",
    "        train_x, test_x = usedDF.iloc[train_index], usedDF.iloc[test_index]\n",
    "        train_y, test_y = y.iloc[train_index], y.iloc[test_index]\n",
    "        \n",
    "        train_x, val_x, train_y, val_y = train_test_split(train_x, train_y, test_size=0.25)\n",
    "        train_pool = Pool(train_x, train_y)\n",
    "        val_pool = Pool(val_x, val_y)\n",
    "        test_pool = Pool(test_x)\n",
    "\n",
    "        model.fit(train_pool, eval_set=val_pool)\n",
    "\n",
    "        pred = model.predict(test_pool)\n",
    "        # convert np float array to list\n",
    "\n",
    "        preds.append(pred.tolist())\n",
    "        vals.append(test_y.values)\n",
    "        \n",
    "    \n",
    "    preds = flatten(preds)\n",
    "    vals = flatten(vals)\n",
    "    \n",
    "    results = utils.error_rate(\"Catboost\",preds ,vals)\n",
    "    print(results)\n",
    "\n",
    "    rmse = mean_squared_error(vals, preds, squared=False)\n",
    "    return rmse\n",
    "\n",
    "\n",
    "\n",
    "study = optuna.create_study(direction=\"minimize\", pruner=optuna.pruners.MedianPruner(n_warmup_steps=10))\n",
    "\n",
    "study.optimize(objective, n_trials=15)\n",
    "\n",
    "print(\"Number of finished trials: {}\".format(len(study.trials)))\n",
    "print(\"Best trial:\")\n",
    "trial = study.best_trial\n",
    "\n",
    "print(\"  Value: {}\".format(trial.value))\n",
    "\n",
    "print(\"  Params: \")\n",
    "for key, value in trial.params.items():\n",
    "    print(\"    {}: {}\".format(key, value))\n",
    "\n",
    "\n"
   ]
  },
  {
   "cell_type": "code",
   "execution_count": 43,
   "metadata": {},
   "outputs": [],
   "source": [
    "from winsound import Beep\n",
    "\n",
    "Beep(300, 200)\n",
    "Beep(300, 200)\n",
    "Beep(300, 700)"
   ]
  },
  {
   "cell_type": "code",
   "execution_count": 8,
   "metadata": {},
   "outputs": [
    {
     "name": "stdout",
     "output_type": "stream",
     "text": [
      "{'nan_mode': 'Min', 'eval_metric': 'RMSE', 'iterations': 1000, 'sampling_frequency': 'PerTree', 'leaf_estimation_method': 'Newton', 'grow_policy': 'SymmetricTree', 'penalties_coefficient': 1, 'boosting_type': 'Plain', 'model_shrink_mode': 'Constant', 'feature_border_type': 'GreedyLogSum', 'bayesian_matrix_reg': 0.10000000149011612, 'eval_fraction': 0, 'force_unit_auto_pair_weights': False, 'l2_leaf_reg': 3, 'random_strength': 1, 'rsm': 1, 'boost_from_average': True, 'model_size_reg': 0.5, 'pool_metainfo_options': {'tags': {}}, 'subsample': 1, 'use_best_model': False, 'random_seed': 0, 'depth': 6, 'posterior_sampling': False, 'border_count': 254, 'classes_count': 0, 'auto_class_weights': 'None', 'sparse_features_conflict_fraction': 0, 'leaf_estimation_backtracking': 'AnyImprovement', 'best_model_min_trees': 1, 'model_shrink_rate': 0, 'min_data_in_leaf': 1, 'loss_function': 'RMSE', 'learning_rate': 0.028226999565958977, 'score_function': 'Cosine', 'task_type': 'CPU', 'leaf_estimation_iterations': 1, 'bootstrap_type': 'MVS', 'max_leaves': 64}\n",
      "{'nan_mode': 'Min', 'eval_metric': 'RMSE', 'iterations': 1000, 'sampling_frequency': 'PerTree', 'leaf_estimation_method': 'Newton', 'grow_policy': 'SymmetricTree', 'penalties_coefficient': 1, 'boosting_type': 'Plain', 'model_shrink_mode': 'Constant', 'feature_border_type': 'GreedyLogSum', 'bayesian_matrix_reg': 0.10000000149011612, 'eval_fraction': 0, 'force_unit_auto_pair_weights': False, 'l2_leaf_reg': 3, 'random_strength': 1, 'rsm': 1, 'boost_from_average': True, 'model_size_reg': 0.5, 'pool_metainfo_options': {'tags': {}}, 'subsample': 1, 'use_best_model': False, 'random_seed': 0, 'depth': 6, 'posterior_sampling': False, 'border_count': 254, 'classes_count': 0, 'auto_class_weights': 'None', 'sparse_features_conflict_fraction': 0, 'leaf_estimation_backtracking': 'AnyImprovement', 'best_model_min_trees': 1, 'model_shrink_rate': 0, 'min_data_in_leaf': 1, 'loss_function': 'RMSE', 'learning_rate': 0.028226999565958977, 'score_function': 'Cosine', 'task_type': 'CPU', 'leaf_estimation_iterations': 1, 'bootstrap_type': 'MVS', 'max_leaves': 64}\n",
      "{'nan_mode': 'Min', 'eval_metric': 'RMSE', 'iterations': 1000, 'sampling_frequency': 'PerTree', 'leaf_estimation_method': 'Newton', 'grow_policy': 'SymmetricTree', 'penalties_coefficient': 1, 'boosting_type': 'Plain', 'model_shrink_mode': 'Constant', 'feature_border_type': 'GreedyLogSum', 'bayesian_matrix_reg': 0.10000000149011612, 'eval_fraction': 0, 'force_unit_auto_pair_weights': False, 'l2_leaf_reg': 3, 'random_strength': 1, 'rsm': 1, 'boost_from_average': True, 'model_size_reg': 0.5, 'pool_metainfo_options': {'tags': {}}, 'subsample': 1, 'use_best_model': False, 'random_seed': 0, 'depth': 6, 'posterior_sampling': False, 'border_count': 254, 'classes_count': 0, 'auto_class_weights': 'None', 'sparse_features_conflict_fraction': 0, 'leaf_estimation_backtracking': 'AnyImprovement', 'best_model_min_trees': 1, 'model_shrink_rate': 0, 'min_data_in_leaf': 1, 'loss_function': 'RMSE', 'learning_rate': 0.028226999565958977, 'score_function': 'Cosine', 'task_type': 'CPU', 'leaf_estimation_iterations': 1, 'bootstrap_type': 'MVS', 'max_leaves': 64}\n",
      "{'nan_mode': 'Min', 'eval_metric': 'RMSE', 'iterations': 1000, 'sampling_frequency': 'PerTree', 'leaf_estimation_method': 'Newton', 'grow_policy': 'SymmetricTree', 'penalties_coefficient': 1, 'boosting_type': 'Plain', 'model_shrink_mode': 'Constant', 'feature_border_type': 'GreedyLogSum', 'bayesian_matrix_reg': 0.10000000149011612, 'eval_fraction': 0, 'force_unit_auto_pair_weights': False, 'l2_leaf_reg': 3, 'random_strength': 1, 'rsm': 1, 'boost_from_average': True, 'model_size_reg': 0.5, 'pool_metainfo_options': {'tags': {}}, 'subsample': 1, 'use_best_model': False, 'random_seed': 0, 'depth': 6, 'posterior_sampling': False, 'border_count': 254, 'classes_count': 0, 'auto_class_weights': 'None', 'sparse_features_conflict_fraction': 0, 'leaf_estimation_backtracking': 'AnyImprovement', 'best_model_min_trees': 1, 'model_shrink_rate': 0, 'min_data_in_leaf': 1, 'loss_function': 'RMSE', 'learning_rate': 0.028226999565958977, 'score_function': 'Cosine', 'task_type': 'CPU', 'leaf_estimation_iterations': 1, 'bootstrap_type': 'MVS', 'max_leaves': 64}\n",
      "{'nan_mode': 'Min', 'eval_metric': 'RMSE', 'iterations': 1000, 'sampling_frequency': 'PerTree', 'leaf_estimation_method': 'Newton', 'grow_policy': 'SymmetricTree', 'penalties_coefficient': 1, 'boosting_type': 'Plain', 'model_shrink_mode': 'Constant', 'feature_border_type': 'GreedyLogSum', 'bayesian_matrix_reg': 0.10000000149011612, 'eval_fraction': 0, 'force_unit_auto_pair_weights': False, 'l2_leaf_reg': 3, 'random_strength': 1, 'rsm': 1, 'boost_from_average': True, 'model_size_reg': 0.5, 'pool_metainfo_options': {'tags': {}}, 'subsample': 1, 'use_best_model': False, 'random_seed': 0, 'depth': 6, 'posterior_sampling': False, 'border_count': 254, 'classes_count': 0, 'auto_class_weights': 'None', 'sparse_features_conflict_fraction': 0, 'leaf_estimation_backtracking': 'AnyImprovement', 'best_model_min_trees': 1, 'model_shrink_rate': 0, 'min_data_in_leaf': 1, 'loss_function': 'RMSE', 'learning_rate': 0.028226999565958977, 'score_function': 'Cosine', 'task_type': 'CPU', 'leaf_estimation_iterations': 1, 'bootstrap_type': 'MVS', 'max_leaves': 64}\n",
      "{'nan_mode': 'Min', 'eval_metric': 'RMSE', 'iterations': 1000, 'sampling_frequency': 'PerTree', 'leaf_estimation_method': 'Newton', 'grow_policy': 'SymmetricTree', 'penalties_coefficient': 1, 'boosting_type': 'Plain', 'model_shrink_mode': 'Constant', 'feature_border_type': 'GreedyLogSum', 'bayesian_matrix_reg': 0.10000000149011612, 'eval_fraction': 0, 'force_unit_auto_pair_weights': False, 'l2_leaf_reg': 3, 'random_strength': 1, 'rsm': 1, 'boost_from_average': True, 'model_size_reg': 0.5, 'pool_metainfo_options': {'tags': {}}, 'subsample': 1, 'use_best_model': False, 'random_seed': 0, 'depth': 6, 'posterior_sampling': False, 'border_count': 254, 'classes_count': 0, 'auto_class_weights': 'None', 'sparse_features_conflict_fraction': 0, 'leaf_estimation_backtracking': 'AnyImprovement', 'best_model_min_trees': 1, 'model_shrink_rate': 0, 'min_data_in_leaf': 1, 'loss_function': 'RMSE', 'learning_rate': 0.028226999565958977, 'score_function': 'Cosine', 'task_type': 'CPU', 'leaf_estimation_iterations': 1, 'bootstrap_type': 'MVS', 'max_leaves': 64}\n",
      "{'nan_mode': 'Min', 'eval_metric': 'RMSE', 'iterations': 1000, 'sampling_frequency': 'PerTree', 'leaf_estimation_method': 'Newton', 'grow_policy': 'SymmetricTree', 'penalties_coefficient': 1, 'boosting_type': 'Plain', 'model_shrink_mode': 'Constant', 'feature_border_type': 'GreedyLogSum', 'bayesian_matrix_reg': 0.10000000149011612, 'eval_fraction': 0, 'force_unit_auto_pair_weights': False, 'l2_leaf_reg': 3, 'random_strength': 1, 'rsm': 1, 'boost_from_average': True, 'model_size_reg': 0.5, 'pool_metainfo_options': {'tags': {}}, 'subsample': 1, 'use_best_model': False, 'random_seed': 0, 'depth': 6, 'posterior_sampling': False, 'border_count': 254, 'classes_count': 0, 'auto_class_weights': 'None', 'sparse_features_conflict_fraction': 0, 'leaf_estimation_backtracking': 'AnyImprovement', 'best_model_min_trees': 1, 'model_shrink_rate': 0, 'min_data_in_leaf': 1, 'loss_function': 'RMSE', 'learning_rate': 0.028272999450564384, 'score_function': 'Cosine', 'task_type': 'CPU', 'leaf_estimation_iterations': 1, 'bootstrap_type': 'MVS', 'max_leaves': 64}\n",
      "{'nan_mode': 'Min', 'eval_metric': 'RMSE', 'iterations': 1000, 'sampling_frequency': 'PerTree', 'leaf_estimation_method': 'Newton', 'grow_policy': 'SymmetricTree', 'penalties_coefficient': 1, 'boosting_type': 'Plain', 'model_shrink_mode': 'Constant', 'feature_border_type': 'GreedyLogSum', 'bayesian_matrix_reg': 0.10000000149011612, 'eval_fraction': 0, 'force_unit_auto_pair_weights': False, 'l2_leaf_reg': 3, 'random_strength': 1, 'rsm': 1, 'boost_from_average': True, 'model_size_reg': 0.5, 'pool_metainfo_options': {'tags': {}}, 'subsample': 1, 'use_best_model': False, 'random_seed': 0, 'depth': 6, 'posterior_sampling': False, 'border_count': 254, 'classes_count': 0, 'auto_class_weights': 'None', 'sparse_features_conflict_fraction': 0, 'leaf_estimation_backtracking': 'AnyImprovement', 'best_model_min_trees': 1, 'model_shrink_rate': 0, 'min_data_in_leaf': 1, 'loss_function': 'RMSE', 'learning_rate': 0.028272999450564384, 'score_function': 'Cosine', 'task_type': 'CPU', 'leaf_estimation_iterations': 1, 'bootstrap_type': 'MVS', 'max_leaves': 64}\n",
      "{'nan_mode': 'Min', 'eval_metric': 'RMSE', 'iterations': 1000, 'sampling_frequency': 'PerTree', 'leaf_estimation_method': 'Newton', 'grow_policy': 'SymmetricTree', 'penalties_coefficient': 1, 'boosting_type': 'Plain', 'model_shrink_mode': 'Constant', 'feature_border_type': 'GreedyLogSum', 'bayesian_matrix_reg': 0.10000000149011612, 'eval_fraction': 0, 'force_unit_auto_pair_weights': False, 'l2_leaf_reg': 3, 'random_strength': 1, 'rsm': 1, 'boost_from_average': True, 'model_size_reg': 0.5, 'pool_metainfo_options': {'tags': {}}, 'subsample': 1, 'use_best_model': False, 'random_seed': 0, 'depth': 6, 'posterior_sampling': False, 'border_count': 254, 'classes_count': 0, 'auto_class_weights': 'None', 'sparse_features_conflict_fraction': 0, 'leaf_estimation_backtracking': 'AnyImprovement', 'best_model_min_trees': 1, 'model_shrink_rate': 0, 'min_data_in_leaf': 1, 'loss_function': 'RMSE', 'learning_rate': 0.028272999450564384, 'score_function': 'Cosine', 'task_type': 'CPU', 'leaf_estimation_iterations': 1, 'bootstrap_type': 'MVS', 'max_leaves': 64}\n",
      "{'nan_mode': 'Min', 'eval_metric': 'RMSE', 'iterations': 1000, 'sampling_frequency': 'PerTree', 'leaf_estimation_method': 'Newton', 'grow_policy': 'SymmetricTree', 'penalties_coefficient': 1, 'boosting_type': 'Plain', 'model_shrink_mode': 'Constant', 'feature_border_type': 'GreedyLogSum', 'bayesian_matrix_reg': 0.10000000149011612, 'eval_fraction': 0, 'force_unit_auto_pair_weights': False, 'l2_leaf_reg': 3, 'random_strength': 1, 'rsm': 1, 'boost_from_average': True, 'model_size_reg': 0.5, 'pool_metainfo_options': {'tags': {}}, 'subsample': 1, 'use_best_model': False, 'random_seed': 0, 'depth': 6, 'posterior_sampling': False, 'border_count': 254, 'classes_count': 0, 'auto_class_weights': 'None', 'sparse_features_conflict_fraction': 0, 'leaf_estimation_backtracking': 'AnyImprovement', 'best_model_min_trees': 1, 'model_shrink_rate': 0, 'min_data_in_leaf': 1, 'loss_function': 'RMSE', 'learning_rate': 0.028272999450564384, 'score_function': 'Cosine', 'task_type': 'CPU', 'leaf_estimation_iterations': 1, 'bootstrap_type': 'MVS', 'max_leaves': 64}\n",
      "{'nan_mode': 'Min', 'eval_metric': 'RMSE', 'iterations': 1000, 'sampling_frequency': 'PerTree', 'leaf_estimation_method': 'Newton', 'grow_policy': 'SymmetricTree', 'penalties_coefficient': 1, 'boosting_type': 'Plain', 'model_shrink_mode': 'Constant', 'feature_border_type': 'GreedyLogSum', 'bayesian_matrix_reg': 0.10000000149011612, 'eval_fraction': 0, 'force_unit_auto_pair_weights': False, 'l2_leaf_reg': 3, 'random_strength': 1, 'rsm': 1, 'boost_from_average': True, 'model_size_reg': 0.5, 'pool_metainfo_options': {'tags': {}}, 'subsample': 1, 'use_best_model': False, 'random_seed': 0, 'depth': 6, 'posterior_sampling': False, 'border_count': 254, 'classes_count': 0, 'auto_class_weights': 'None', 'sparse_features_conflict_fraction': 0, 'leaf_estimation_backtracking': 'AnyImprovement', 'best_model_min_trees': 1, 'model_shrink_rate': 0, 'min_data_in_leaf': 1, 'loss_function': 'RMSE', 'learning_rate': 0.028226999565958977, 'score_function': 'Cosine', 'task_type': 'CPU', 'leaf_estimation_iterations': 1, 'bootstrap_type': 'MVS', 'max_leaves': 64}\n",
      "{'nan_mode': 'Min', 'eval_metric': 'RMSE', 'iterations': 1000, 'sampling_frequency': 'PerTree', 'leaf_estimation_method': 'Newton', 'grow_policy': 'SymmetricTree', 'penalties_coefficient': 1, 'boosting_type': 'Plain', 'model_shrink_mode': 'Constant', 'feature_border_type': 'GreedyLogSum', 'bayesian_matrix_reg': 0.10000000149011612, 'eval_fraction': 0, 'force_unit_auto_pair_weights': False, 'l2_leaf_reg': 3, 'random_strength': 1, 'rsm': 1, 'boost_from_average': True, 'model_size_reg': 0.5, 'pool_metainfo_options': {'tags': {}}, 'subsample': 1, 'use_best_model': False, 'random_seed': 0, 'depth': 6, 'posterior_sampling': False, 'border_count': 254, 'classes_count': 0, 'auto_class_weights': 'None', 'sparse_features_conflict_fraction': 0, 'leaf_estimation_backtracking': 'AnyImprovement', 'best_model_min_trees': 1, 'model_shrink_rate': 0, 'min_data_in_leaf': 1, 'loss_function': 'RMSE', 'learning_rate': 0.028226999565958977, 'score_function': 'Cosine', 'task_type': 'CPU', 'leaf_estimation_iterations': 1, 'bootstrap_type': 'MVS', 'max_leaves': 64}\n",
      "{'nan_mode': 'Min', 'eval_metric': 'RMSE', 'iterations': 1000, 'sampling_frequency': 'PerTree', 'leaf_estimation_method': 'Newton', 'grow_policy': 'SymmetricTree', 'penalties_coefficient': 1, 'boosting_type': 'Plain', 'model_shrink_mode': 'Constant', 'feature_border_type': 'GreedyLogSum', 'bayesian_matrix_reg': 0.10000000149011612, 'eval_fraction': 0, 'force_unit_auto_pair_weights': False, 'l2_leaf_reg': 3, 'random_strength': 1, 'rsm': 1, 'boost_from_average': True, 'model_size_reg': 0.5, 'pool_metainfo_options': {'tags': {}}, 'subsample': 1, 'use_best_model': False, 'random_seed': 0, 'depth': 6, 'posterior_sampling': False, 'border_count': 254, 'classes_count': 0, 'auto_class_weights': 'None', 'sparse_features_conflict_fraction': 0, 'leaf_estimation_backtracking': 'AnyImprovement', 'best_model_min_trees': 1, 'model_shrink_rate': 0, 'min_data_in_leaf': 1, 'loss_function': 'RMSE', 'learning_rate': 0.028226999565958977, 'score_function': 'Cosine', 'task_type': 'CPU', 'leaf_estimation_iterations': 1, 'bootstrap_type': 'MVS', 'max_leaves': 64}\n",
      "{'nan_mode': 'Min', 'eval_metric': 'RMSE', 'iterations': 1000, 'sampling_frequency': 'PerTree', 'leaf_estimation_method': 'Newton', 'grow_policy': 'SymmetricTree', 'penalties_coefficient': 1, 'boosting_type': 'Plain', 'model_shrink_mode': 'Constant', 'feature_border_type': 'GreedyLogSum', 'bayesian_matrix_reg': 0.10000000149011612, 'eval_fraction': 0, 'force_unit_auto_pair_weights': False, 'l2_leaf_reg': 3, 'random_strength': 1, 'rsm': 1, 'boost_from_average': True, 'model_size_reg': 0.5, 'pool_metainfo_options': {'tags': {}}, 'subsample': 1, 'use_best_model': False, 'random_seed': 0, 'depth': 6, 'posterior_sampling': False, 'border_count': 254, 'classes_count': 0, 'auto_class_weights': 'None', 'sparse_features_conflict_fraction': 0, 'leaf_estimation_backtracking': 'AnyImprovement', 'best_model_min_trees': 1, 'model_shrink_rate': 0, 'min_data_in_leaf': 1, 'loss_function': 'RMSE', 'learning_rate': 0.028226999565958977, 'score_function': 'Cosine', 'task_type': 'CPU', 'leaf_estimation_iterations': 1, 'bootstrap_type': 'MVS', 'max_leaves': 64}\n",
      "{'nan_mode': 'Min', 'eval_metric': 'RMSE', 'iterations': 1000, 'sampling_frequency': 'PerTree', 'leaf_estimation_method': 'Newton', 'grow_policy': 'SymmetricTree', 'penalties_coefficient': 1, 'boosting_type': 'Plain', 'model_shrink_mode': 'Constant', 'feature_border_type': 'GreedyLogSum', 'bayesian_matrix_reg': 0.10000000149011612, 'eval_fraction': 0, 'force_unit_auto_pair_weights': False, 'l2_leaf_reg': 3, 'random_strength': 1, 'rsm': 1, 'boost_from_average': True, 'model_size_reg': 0.5, 'pool_metainfo_options': {'tags': {}}, 'subsample': 1, 'use_best_model': False, 'random_seed': 0, 'depth': 6, 'posterior_sampling': False, 'border_count': 254, 'classes_count': 0, 'auto_class_weights': 'None', 'sparse_features_conflict_fraction': 0, 'leaf_estimation_backtracking': 'AnyImprovement', 'best_model_min_trees': 1, 'model_shrink_rate': 0, 'min_data_in_leaf': 1, 'loss_function': 'RMSE', 'learning_rate': 0.028226999565958977, 'score_function': 'Cosine', 'task_type': 'CPU', 'leaf_estimation_iterations': 1, 'bootstrap_type': 'MVS', 'max_leaves': 64}\n",
      "{'nan_mode': 'Min', 'eval_metric': 'RMSE', 'iterations': 1000, 'sampling_frequency': 'PerTree', 'leaf_estimation_method': 'Newton', 'grow_policy': 'SymmetricTree', 'penalties_coefficient': 1, 'boosting_type': 'Plain', 'model_shrink_mode': 'Constant', 'feature_border_type': 'GreedyLogSum', 'bayesian_matrix_reg': 0.10000000149011612, 'eval_fraction': 0, 'force_unit_auto_pair_weights': False, 'l2_leaf_reg': 3, 'random_strength': 1, 'rsm': 1, 'boost_from_average': True, 'model_size_reg': 0.5, 'pool_metainfo_options': {'tags': {}}, 'subsample': 1, 'use_best_model': False, 'random_seed': 0, 'depth': 6, 'posterior_sampling': False, 'border_count': 254, 'classes_count': 0, 'auto_class_weights': 'None', 'sparse_features_conflict_fraction': 0, 'leaf_estimation_backtracking': 'AnyImprovement', 'best_model_min_trees': 1, 'model_shrink_rate': 0, 'min_data_in_leaf': 1, 'loss_function': 'RMSE', 'learning_rate': 0.028226999565958977, 'score_function': 'Cosine', 'task_type': 'CPU', 'leaf_estimation_iterations': 1, 'bootstrap_type': 'MVS', 'max_leaves': 64}\n",
      "{'nan_mode': 'Min', 'eval_metric': 'RMSE', 'iterations': 1000, 'sampling_frequency': 'PerTree', 'leaf_estimation_method': 'Newton', 'grow_policy': 'SymmetricTree', 'penalties_coefficient': 1, 'boosting_type': 'Plain', 'model_shrink_mode': 'Constant', 'feature_border_type': 'GreedyLogSum', 'bayesian_matrix_reg': 0.10000000149011612, 'eval_fraction': 0, 'force_unit_auto_pair_weights': False, 'l2_leaf_reg': 3, 'random_strength': 1, 'rsm': 1, 'boost_from_average': True, 'model_size_reg': 0.5, 'pool_metainfo_options': {'tags': {}}, 'subsample': 1, 'use_best_model': False, 'random_seed': 0, 'depth': 6, 'posterior_sampling': False, 'border_count': 254, 'classes_count': 0, 'auto_class_weights': 'None', 'sparse_features_conflict_fraction': 0, 'leaf_estimation_backtracking': 'AnyImprovement', 'best_model_min_trees': 1, 'model_shrink_rate': 0, 'min_data_in_leaf': 1, 'loss_function': 'RMSE', 'learning_rate': 0.028272999450564384, 'score_function': 'Cosine', 'task_type': 'CPU', 'leaf_estimation_iterations': 1, 'bootstrap_type': 'MVS', 'max_leaves': 64}\n",
      "{'nan_mode': 'Min', 'eval_metric': 'RMSE', 'iterations': 1000, 'sampling_frequency': 'PerTree', 'leaf_estimation_method': 'Newton', 'grow_policy': 'SymmetricTree', 'penalties_coefficient': 1, 'boosting_type': 'Plain', 'model_shrink_mode': 'Constant', 'feature_border_type': 'GreedyLogSum', 'bayesian_matrix_reg': 0.10000000149011612, 'eval_fraction': 0, 'force_unit_auto_pair_weights': False, 'l2_leaf_reg': 3, 'random_strength': 1, 'rsm': 1, 'boost_from_average': True, 'model_size_reg': 0.5, 'pool_metainfo_options': {'tags': {}}, 'subsample': 1, 'use_best_model': False, 'random_seed': 0, 'depth': 6, 'posterior_sampling': False, 'border_count': 254, 'classes_count': 0, 'auto_class_weights': 'None', 'sparse_features_conflict_fraction': 0, 'leaf_estimation_backtracking': 'AnyImprovement', 'best_model_min_trees': 1, 'model_shrink_rate': 0, 'min_data_in_leaf': 1, 'loss_function': 'RMSE', 'learning_rate': 0.028272999450564384, 'score_function': 'Cosine', 'task_type': 'CPU', 'leaf_estimation_iterations': 1, 'bootstrap_type': 'MVS', 'max_leaves': 64}\n",
      "{'nan_mode': 'Min', 'eval_metric': 'RMSE', 'iterations': 1000, 'sampling_frequency': 'PerTree', 'leaf_estimation_method': 'Newton', 'grow_policy': 'SymmetricTree', 'penalties_coefficient': 1, 'boosting_type': 'Plain', 'model_shrink_mode': 'Constant', 'feature_border_type': 'GreedyLogSum', 'bayesian_matrix_reg': 0.10000000149011612, 'eval_fraction': 0, 'force_unit_auto_pair_weights': False, 'l2_leaf_reg': 3, 'random_strength': 1, 'rsm': 1, 'boost_from_average': True, 'model_size_reg': 0.5, 'pool_metainfo_options': {'tags': {}}, 'subsample': 1, 'use_best_model': False, 'random_seed': 0, 'depth': 6, 'posterior_sampling': False, 'border_count': 254, 'classes_count': 0, 'auto_class_weights': 'None', 'sparse_features_conflict_fraction': 0, 'leaf_estimation_backtracking': 'AnyImprovement', 'best_model_min_trees': 1, 'model_shrink_rate': 0, 'min_data_in_leaf': 1, 'loss_function': 'RMSE', 'learning_rate': 0.028272999450564384, 'score_function': 'Cosine', 'task_type': 'CPU', 'leaf_estimation_iterations': 1, 'bootstrap_type': 'MVS', 'max_leaves': 64}\n",
      "{'nan_mode': 'Min', 'eval_metric': 'RMSE', 'iterations': 1000, 'sampling_frequency': 'PerTree', 'leaf_estimation_method': 'Newton', 'grow_policy': 'SymmetricTree', 'penalties_coefficient': 1, 'boosting_type': 'Plain', 'model_shrink_mode': 'Constant', 'feature_border_type': 'GreedyLogSum', 'bayesian_matrix_reg': 0.10000000149011612, 'eval_fraction': 0, 'force_unit_auto_pair_weights': False, 'l2_leaf_reg': 3, 'random_strength': 1, 'rsm': 1, 'boost_from_average': True, 'model_size_reg': 0.5, 'pool_metainfo_options': {'tags': {}}, 'subsample': 1, 'use_best_model': False, 'random_seed': 0, 'depth': 6, 'posterior_sampling': False, 'border_count': 254, 'classes_count': 0, 'auto_class_weights': 'None', 'sparse_features_conflict_fraction': 0, 'leaf_estimation_backtracking': 'AnyImprovement', 'best_model_min_trees': 1, 'model_shrink_rate': 0, 'min_data_in_leaf': 1, 'loss_function': 'RMSE', 'learning_rate': 0.028272999450564384, 'score_function': 'Cosine', 'task_type': 'CPU', 'leaf_estimation_iterations': 1, 'bootstrap_type': 'MVS', 'max_leaves': 64}\n",
      "{'nan_mode': 'Min', 'eval_metric': 'RMSE', 'iterations': 1000, 'sampling_frequency': 'PerTree', 'leaf_estimation_method': 'Newton', 'grow_policy': 'SymmetricTree', 'penalties_coefficient': 1, 'boosting_type': 'Plain', 'model_shrink_mode': 'Constant', 'feature_border_type': 'GreedyLogSum', 'bayesian_matrix_reg': 0.10000000149011612, 'eval_fraction': 0, 'force_unit_auto_pair_weights': False, 'l2_leaf_reg': 3, 'random_strength': 1, 'rsm': 1, 'boost_from_average': True, 'model_size_reg': 0.5, 'pool_metainfo_options': {'tags': {}}, 'subsample': 1, 'use_best_model': False, 'random_seed': 0, 'depth': 6, 'posterior_sampling': False, 'border_count': 254, 'classes_count': 0, 'auto_class_weights': 'None', 'sparse_features_conflict_fraction': 0, 'leaf_estimation_backtracking': 'AnyImprovement', 'best_model_min_trees': 1, 'model_shrink_rate': 0, 'min_data_in_leaf': 1, 'loss_function': 'RMSE', 'learning_rate': 0.028226999565958977, 'score_function': 'Cosine', 'task_type': 'CPU', 'leaf_estimation_iterations': 1, 'bootstrap_type': 'MVS', 'max_leaves': 64}\n",
      "{'nan_mode': 'Min', 'eval_metric': 'RMSE', 'iterations': 1000, 'sampling_frequency': 'PerTree', 'leaf_estimation_method': 'Newton', 'grow_policy': 'SymmetricTree', 'penalties_coefficient': 1, 'boosting_type': 'Plain', 'model_shrink_mode': 'Constant', 'feature_border_type': 'GreedyLogSum', 'bayesian_matrix_reg': 0.10000000149011612, 'eval_fraction': 0, 'force_unit_auto_pair_weights': False, 'l2_leaf_reg': 3, 'random_strength': 1, 'rsm': 1, 'boost_from_average': True, 'model_size_reg': 0.5, 'pool_metainfo_options': {'tags': {}}, 'subsample': 1, 'use_best_model': False, 'random_seed': 0, 'depth': 6, 'posterior_sampling': False, 'border_count': 254, 'classes_count': 0, 'auto_class_weights': 'None', 'sparse_features_conflict_fraction': 0, 'leaf_estimation_backtracking': 'AnyImprovement', 'best_model_min_trees': 1, 'model_shrink_rate': 0, 'min_data_in_leaf': 1, 'loss_function': 'RMSE', 'learning_rate': 0.028226999565958977, 'score_function': 'Cosine', 'task_type': 'CPU', 'leaf_estimation_iterations': 1, 'bootstrap_type': 'MVS', 'max_leaves': 64}\n",
      "{'nan_mode': 'Min', 'eval_metric': 'RMSE', 'iterations': 1000, 'sampling_frequency': 'PerTree', 'leaf_estimation_method': 'Newton', 'grow_policy': 'SymmetricTree', 'penalties_coefficient': 1, 'boosting_type': 'Plain', 'model_shrink_mode': 'Constant', 'feature_border_type': 'GreedyLogSum', 'bayesian_matrix_reg': 0.10000000149011612, 'eval_fraction': 0, 'force_unit_auto_pair_weights': False, 'l2_leaf_reg': 3, 'random_strength': 1, 'rsm': 1, 'boost_from_average': True, 'model_size_reg': 0.5, 'pool_metainfo_options': {'tags': {}}, 'subsample': 1, 'use_best_model': False, 'random_seed': 0, 'depth': 6, 'posterior_sampling': False, 'border_count': 254, 'classes_count': 0, 'auto_class_weights': 'None', 'sparse_features_conflict_fraction': 0, 'leaf_estimation_backtracking': 'AnyImprovement', 'best_model_min_trees': 1, 'model_shrink_rate': 0, 'min_data_in_leaf': 1, 'loss_function': 'RMSE', 'learning_rate': 0.028226999565958977, 'score_function': 'Cosine', 'task_type': 'CPU', 'leaf_estimation_iterations': 1, 'bootstrap_type': 'MVS', 'max_leaves': 64}\n",
      "{'nan_mode': 'Min', 'eval_metric': 'RMSE', 'iterations': 1000, 'sampling_frequency': 'PerTree', 'leaf_estimation_method': 'Newton', 'grow_policy': 'SymmetricTree', 'penalties_coefficient': 1, 'boosting_type': 'Plain', 'model_shrink_mode': 'Constant', 'feature_border_type': 'GreedyLogSum', 'bayesian_matrix_reg': 0.10000000149011612, 'eval_fraction': 0, 'force_unit_auto_pair_weights': False, 'l2_leaf_reg': 3, 'random_strength': 1, 'rsm': 1, 'boost_from_average': True, 'model_size_reg': 0.5, 'pool_metainfo_options': {'tags': {}}, 'subsample': 1, 'use_best_model': False, 'random_seed': 0, 'depth': 6, 'posterior_sampling': False, 'border_count': 254, 'classes_count': 0, 'auto_class_weights': 'None', 'sparse_features_conflict_fraction': 0, 'leaf_estimation_backtracking': 'AnyImprovement', 'best_model_min_trees': 1, 'model_shrink_rate': 0, 'min_data_in_leaf': 1, 'loss_function': 'RMSE', 'learning_rate': 0.028226999565958977, 'score_function': 'Cosine', 'task_type': 'CPU', 'leaf_estimation_iterations': 1, 'bootstrap_type': 'MVS', 'max_leaves': 64}\n",
      "{'nan_mode': 'Min', 'eval_metric': 'RMSE', 'iterations': 1000, 'sampling_frequency': 'PerTree', 'leaf_estimation_method': 'Newton', 'grow_policy': 'SymmetricTree', 'penalties_coefficient': 1, 'boosting_type': 'Plain', 'model_shrink_mode': 'Constant', 'feature_border_type': 'GreedyLogSum', 'bayesian_matrix_reg': 0.10000000149011612, 'eval_fraction': 0, 'force_unit_auto_pair_weights': False, 'l2_leaf_reg': 3, 'random_strength': 1, 'rsm': 1, 'boost_from_average': True, 'model_size_reg': 0.5, 'pool_metainfo_options': {'tags': {}}, 'subsample': 1, 'use_best_model': False, 'random_seed': 0, 'depth': 6, 'posterior_sampling': False, 'border_count': 254, 'classes_count': 0, 'auto_class_weights': 'None', 'sparse_features_conflict_fraction': 0, 'leaf_estimation_backtracking': 'AnyImprovement', 'best_model_min_trees': 1, 'model_shrink_rate': 0, 'min_data_in_leaf': 1, 'loss_function': 'RMSE', 'learning_rate': 0.028226999565958977, 'score_function': 'Cosine', 'task_type': 'CPU', 'leaf_estimation_iterations': 1, 'bootstrap_type': 'MVS', 'max_leaves': 64}\n",
      "{'nan_mode': 'Min', 'eval_metric': 'RMSE', 'iterations': 1000, 'sampling_frequency': 'PerTree', 'leaf_estimation_method': 'Newton', 'grow_policy': 'SymmetricTree', 'penalties_coefficient': 1, 'boosting_type': 'Plain', 'model_shrink_mode': 'Constant', 'feature_border_type': 'GreedyLogSum', 'bayesian_matrix_reg': 0.10000000149011612, 'eval_fraction': 0, 'force_unit_auto_pair_weights': False, 'l2_leaf_reg': 3, 'random_strength': 1, 'rsm': 1, 'boost_from_average': True, 'model_size_reg': 0.5, 'pool_metainfo_options': {'tags': {}}, 'subsample': 1, 'use_best_model': False, 'random_seed': 0, 'depth': 6, 'posterior_sampling': False, 'border_count': 254, 'classes_count': 0, 'auto_class_weights': 'None', 'sparse_features_conflict_fraction': 0, 'leaf_estimation_backtracking': 'AnyImprovement', 'best_model_min_trees': 1, 'model_shrink_rate': 0, 'min_data_in_leaf': 1, 'loss_function': 'RMSE', 'learning_rate': 0.028226999565958977, 'score_function': 'Cosine', 'task_type': 'CPU', 'leaf_estimation_iterations': 1, 'bootstrap_type': 'MVS', 'max_leaves': 64}\n",
      "{'nan_mode': 'Min', 'eval_metric': 'RMSE', 'iterations': 1000, 'sampling_frequency': 'PerTree', 'leaf_estimation_method': 'Newton', 'grow_policy': 'SymmetricTree', 'penalties_coefficient': 1, 'boosting_type': 'Plain', 'model_shrink_mode': 'Constant', 'feature_border_type': 'GreedyLogSum', 'bayesian_matrix_reg': 0.10000000149011612, 'eval_fraction': 0, 'force_unit_auto_pair_weights': False, 'l2_leaf_reg': 3, 'random_strength': 1, 'rsm': 1, 'boost_from_average': True, 'model_size_reg': 0.5, 'pool_metainfo_options': {'tags': {}}, 'subsample': 1, 'use_best_model': False, 'random_seed': 0, 'depth': 6, 'posterior_sampling': False, 'border_count': 254, 'classes_count': 0, 'auto_class_weights': 'None', 'sparse_features_conflict_fraction': 0, 'leaf_estimation_backtracking': 'AnyImprovement', 'best_model_min_trees': 1, 'model_shrink_rate': 0, 'min_data_in_leaf': 1, 'loss_function': 'RMSE', 'learning_rate': 0.028272999450564384, 'score_function': 'Cosine', 'task_type': 'CPU', 'leaf_estimation_iterations': 1, 'bootstrap_type': 'MVS', 'max_leaves': 64}\n",
      "{'nan_mode': 'Min', 'eval_metric': 'RMSE', 'iterations': 1000, 'sampling_frequency': 'PerTree', 'leaf_estimation_method': 'Newton', 'grow_policy': 'SymmetricTree', 'penalties_coefficient': 1, 'boosting_type': 'Plain', 'model_shrink_mode': 'Constant', 'feature_border_type': 'GreedyLogSum', 'bayesian_matrix_reg': 0.10000000149011612, 'eval_fraction': 0, 'force_unit_auto_pair_weights': False, 'l2_leaf_reg': 3, 'random_strength': 1, 'rsm': 1, 'boost_from_average': True, 'model_size_reg': 0.5, 'pool_metainfo_options': {'tags': {}}, 'subsample': 1, 'use_best_model': False, 'random_seed': 0, 'depth': 6, 'posterior_sampling': False, 'border_count': 254, 'classes_count': 0, 'auto_class_weights': 'None', 'sparse_features_conflict_fraction': 0, 'leaf_estimation_backtracking': 'AnyImprovement', 'best_model_min_trees': 1, 'model_shrink_rate': 0, 'min_data_in_leaf': 1, 'loss_function': 'RMSE', 'learning_rate': 0.028272999450564384, 'score_function': 'Cosine', 'task_type': 'CPU', 'leaf_estimation_iterations': 1, 'bootstrap_type': 'MVS', 'max_leaves': 64}\n",
      "{'nan_mode': 'Min', 'eval_metric': 'RMSE', 'iterations': 1000, 'sampling_frequency': 'PerTree', 'leaf_estimation_method': 'Newton', 'grow_policy': 'SymmetricTree', 'penalties_coefficient': 1, 'boosting_type': 'Plain', 'model_shrink_mode': 'Constant', 'feature_border_type': 'GreedyLogSum', 'bayesian_matrix_reg': 0.10000000149011612, 'eval_fraction': 0, 'force_unit_auto_pair_weights': False, 'l2_leaf_reg': 3, 'random_strength': 1, 'rsm': 1, 'boost_from_average': True, 'model_size_reg': 0.5, 'pool_metainfo_options': {'tags': {}}, 'subsample': 1, 'use_best_model': False, 'random_seed': 0, 'depth': 6, 'posterior_sampling': False, 'border_count': 254, 'classes_count': 0, 'auto_class_weights': 'None', 'sparse_features_conflict_fraction': 0, 'leaf_estimation_backtracking': 'AnyImprovement', 'best_model_min_trees': 1, 'model_shrink_rate': 0, 'min_data_in_leaf': 1, 'loss_function': 'RMSE', 'learning_rate': 0.028272999450564384, 'score_function': 'Cosine', 'task_type': 'CPU', 'leaf_estimation_iterations': 1, 'bootstrap_type': 'MVS', 'max_leaves': 64}\n",
      "{'nan_mode': 'Min', 'eval_metric': 'RMSE', 'iterations': 1000, 'sampling_frequency': 'PerTree', 'leaf_estimation_method': 'Newton', 'grow_policy': 'SymmetricTree', 'penalties_coefficient': 1, 'boosting_type': 'Plain', 'model_shrink_mode': 'Constant', 'feature_border_type': 'GreedyLogSum', 'bayesian_matrix_reg': 0.10000000149011612, 'eval_fraction': 0, 'force_unit_auto_pair_weights': False, 'l2_leaf_reg': 3, 'random_strength': 1, 'rsm': 1, 'boost_from_average': True, 'model_size_reg': 0.5, 'pool_metainfo_options': {'tags': {}}, 'subsample': 1, 'use_best_model': False, 'random_seed': 0, 'depth': 6, 'posterior_sampling': False, 'border_count': 254, 'classes_count': 0, 'auto_class_weights': 'None', 'sparse_features_conflict_fraction': 0, 'leaf_estimation_backtracking': 'AnyImprovement', 'best_model_min_trees': 1, 'model_shrink_rate': 0, 'min_data_in_leaf': 1, 'loss_function': 'RMSE', 'learning_rate': 0.028272999450564384, 'score_function': 'Cosine', 'task_type': 'CPU', 'leaf_estimation_iterations': 1, 'bootstrap_type': 'MVS', 'max_leaves': 64}\n"
     ]
    }
   ],
   "source": [
    "import Utils as utils\n",
    "from catboost import CatBoostRegressor\n",
    "from catboost import Pool\n",
    "\n",
    "# utils.evaluate_catboost(dfX,y,kf)\n",
    "def cbpred(dfX,y,kf):\n",
    "    vals = []\n",
    "    preds = []\n",
    "    cbr = CatBoostRegressor()\n",
    "    for train_index, test_index in kf.split(dfX):\n",
    "    # print(\"TRAIN:\", train_index, \"TEST:\", test_index)\n",
    "        X_train, X_test = dfX.iloc[train_index], dfX.iloc[test_index]\n",
    "        y_train, y_test = y.iloc[train_index], y.iloc[test_index]\n",
    "        train_pool = Pool(data=X_train, label=y_train)\n",
    "        test_pool = Pool(data=X_test, label=y_test)\n",
    "\n",
    "        \n",
    "        cbr.fit(train_pool, verbose=False)\n",
    "        cbr_pred = cbr.predict(test_pool)\n",
    "        print(cbr.get_all_params())\n",
    "        preds.append(cbr_pred)\n",
    "        vals.append(y_test)\n",
    "\n",
    "    return utils.error_rate(\"Catboost\",flatten(preds),flatten(vals))\n",
    "cols = ['Umur', 'Umur Squared', 'APM SMA', 'Pengeluaran Bulanan','Indeks Pembangunan Manusia', 'DPT', 'Sentiment', 'Weighted Sentiment']\n",
    "\n",
    "res = cbpred(dfX[cols],y,kf)\n"
   ]
  },
  {
   "cell_type": "code",
   "execution_count": 9,
   "metadata": {},
   "outputs": [
    {
     "data": {
      "text/plain": [
       "('Catboost', 0.03512429844587696, 0.028615520062230004, 0.47568209883632273)"
      ]
     },
     "execution_count": 9,
     "metadata": {},
     "output_type": "execute_result"
    }
   ],
   "source": [
    "res"
   ]
  },
  {
   "cell_type": "code",
   "execution_count": 21,
   "metadata": {},
   "outputs": [
    {
     "name": "stderr",
     "output_type": "stream",
     "text": [
      "[I 2023-06-22 02:15:24,556] A new study created in memory with name: no-name-ca317c89-a8d6-42e5-97a8-fdf3f082beff\n",
      "[I 2023-06-22 02:15:25,105] Trial 0 finished with value: 0.04802717139882986 and parameters: {'iterations': 475, 'learning_rate': 0.027583475549166746, 'depth': 4, 'l2_leaf_reg': 1.0551779964424746e-05, 'bootstrap_type': 'Bayesian', 'random_strength': 2.0931628460945333e-07, 'bagging_temperature': 0.923385947687978, 'od_type': 'Iter', 'od_wait': 26}. Best is trial 0 with value: 0.04802717139882986.\n"
     ]
    },
    {
     "name": "stdout",
     "output_type": "stream",
     "text": [
      "('Catboost', 0.04802717139882986, 0.04093203093536998, 0.28182475257848016)\n"
     ]
    },
    {
     "name": "stderr",
     "output_type": "stream",
     "text": [
      "[I 2023-06-22 02:15:27,655] Trial 1 finished with value: 0.03572594177875271 and parameters: {'iterations': 585, 'learning_rate': 0.006892694481137703, 'depth': 8, 'l2_leaf_reg': 1.10795595820296e-06, 'bootstrap_type': 'Bayesian', 'random_strength': 0.7999391045172093, 'bagging_temperature': 0.27387593197926163, 'od_type': 'IncToDec', 'od_wait': 32}. Best is trial 1 with value: 0.03572594177875271.\n"
     ]
    },
    {
     "name": "stdout",
     "output_type": "stream",
     "text": [
      "('Catboost', 0.03572594177875271, 0.02950171591270989, 0.34446362363544236)\n"
     ]
    },
    {
     "name": "stderr",
     "output_type": "stream",
     "text": [
      "[I 2023-06-22 02:15:29,366] Trial 2 finished with value: 0.04356138008906657 and parameters: {'iterations': 226, 'learning_rate': 0.002490020818620744, 'depth': 9, 'l2_leaf_reg': 48.15215820395775, 'bootstrap_type': 'Bayesian', 'random_strength': 6.6193844201488494e-06, 'bagging_temperature': 6.923226156693141, 'od_type': 'Iter', 'od_wait': 13}. Best is trial 1 with value: 0.03572594177875271.\n"
     ]
    },
    {
     "name": "stdout",
     "output_type": "stream",
     "text": [
      "('Catboost', 0.04356138008906657, 0.03367767564488469, -0.00794962587485859)\n"
     ]
    },
    {
     "name": "stderr",
     "output_type": "stream",
     "text": [
      "[I 2023-06-22 02:15:31,727] Trial 3 finished with value: 0.0458983248422464 and parameters: {'iterations': 135, 'learning_rate': 0.002186053765545967, 'depth': 10, 'l2_leaf_reg': 9.62649829692002e-08, 'bootstrap_type': 'Bayesian', 'random_strength': 6.165504584878686e-05, 'bagging_temperature': 9.57889530150502, 'od_type': 'Iter', 'od_wait': 22}. Best is trial 1 with value: 0.03572594177875271.\n"
     ]
    },
    {
     "name": "stdout",
     "output_type": "stream",
     "text": [
      "('Catboost', 0.0458983248422464, 0.03491436776763471, 0.036786860294498624)\n"
     ]
    },
    {
     "name": "stderr",
     "output_type": "stream",
     "text": [
      "[I 2023-06-22 02:15:32,553] Trial 4 finished with value: 0.045060963336701176 and parameters: {'iterations': 718, 'learning_rate': 0.0466929533152365, 'depth': 4, 'l2_leaf_reg': 0.31728033064508887, 'bootstrap_type': 'Bayesian', 'random_strength': 7.938707489172784, 'bagging_temperature': 7.481656543798394, 'od_type': 'Iter', 'od_wait': 14}. Best is trial 1 with value: 0.03572594177875271.\n"
     ]
    },
    {
     "name": "stdout",
     "output_type": "stream",
     "text": [
      "('Catboost', 0.045060963336701176, 0.03829676862803915, 0.16974960163052055)\n"
     ]
    },
    {
     "name": "stderr",
     "output_type": "stream",
     "text": [
      "[I 2023-06-22 02:15:33,539] Trial 5 finished with value: 0.04235136804734582 and parameters: {'iterations': 503, 'learning_rate': 0.06564339077069614, 'depth': 6, 'l2_leaf_reg': 7.546635702360232e-06, 'bootstrap_type': 'Bayesian', 'random_strength': 1.4799844388224288e-07, 'bagging_temperature': 0.19366957870297075, 'od_type': 'IncToDec', 'od_wait': 20}. Best is trial 1 with value: 0.03572594177875271.\n"
     ]
    },
    {
     "name": "stdout",
     "output_type": "stream",
     "text": [
      "('Catboost', 0.04235136804734582, 0.033504988267509146, 0.10892957955119476)\n"
     ]
    },
    {
     "name": "stderr",
     "output_type": "stream",
     "text": [
      "[I 2023-06-22 02:15:35,908] Trial 6 finished with value: 0.04168572889985197 and parameters: {'iterations': 542, 'learning_rate': 0.001278571708054608, 'depth': 8, 'l2_leaf_reg': 2.9328222947799687e-07, 'bootstrap_type': 'Bayesian', 'random_strength': 0.0020125646126523387, 'bagging_temperature': 6.997583600209312, 'od_type': 'Iter', 'od_wait': 38}. Best is trial 1 with value: 0.03572594177875271.\n"
     ]
    },
    {
     "name": "stdout",
     "output_type": "stream",
     "text": [
      "('Catboost', 0.04168572889985197, 0.032500191644014825, 0.20657948366151324)\n"
     ]
    },
    {
     "name": "stderr",
     "output_type": "stream",
     "text": [
      "[I 2023-06-22 02:15:37,196] Trial 7 finished with value: 0.047266574147207266 and parameters: {'iterations': 473, 'learning_rate': 0.0012586556158866136, 'depth': 7, 'l2_leaf_reg': 0.043445665307147247, 'bootstrap_type': 'Bayesian', 'random_strength': 0.00043052860159544285, 'bagging_temperature': 9.445947559908133, 'od_type': 'Iter', 'od_wait': 15}. Best is trial 1 with value: 0.03572594177875271.\n"
     ]
    },
    {
     "name": "stdout",
     "output_type": "stream",
     "text": [
      "('Catboost', 0.047266574147207266, 0.03974069648660072, 0.15379100084994668)\n"
     ]
    },
    {
     "name": "stderr",
     "output_type": "stream",
     "text": [
      "[I 2023-06-22 02:15:37,709] Trial 8 finished with value: 0.05062664149446276 and parameters: {'iterations': 225, 'learning_rate': 0.04118912607048067, 'depth': 6, 'l2_leaf_reg': 4.503415011735204e-07, 'bootstrap_type': 'Bayesian', 'random_strength': 2.226266870634716, 'bagging_temperature': 3.477658597455066, 'od_type': 'IncToDec', 'od_wait': 46}. Best is trial 1 with value: 0.03572594177875271.\n"
     ]
    },
    {
     "name": "stdout",
     "output_type": "stream",
     "text": [
      "('Catboost', 0.05062664149446276, 0.042116330368422716, 0.06698905766207597)\n"
     ]
    },
    {
     "name": "stderr",
     "output_type": "stream",
     "text": [
      "[I 2023-06-22 02:15:39,109] Trial 9 finished with value: 0.03579503543592428 and parameters: {'iterations': 661, 'learning_rate': 0.03176031989459053, 'depth': 6, 'l2_leaf_reg': 5.003557761128302e-06, 'bootstrap_type': 'Bayesian', 'random_strength': 1.1560482583788434, 'bagging_temperature': 4.280911898712949, 'od_type': 'IncToDec', 'od_wait': 35}. Best is trial 1 with value: 0.03572594177875271.\n"
     ]
    },
    {
     "name": "stdout",
     "output_type": "stream",
     "text": [
      "('Catboost', 0.03579503543592428, 0.027519599043067968, 0.4882075006832818)\n"
     ]
    },
    {
     "name": "stderr",
     "output_type": "stream",
     "text": [
      "[I 2023-06-22 02:15:55,668] Trial 10 finished with value: 0.03481749258419952 and parameters: {'iterations': 982, 'learning_rate': 0.008013259505912921, 'depth': 10, 'l2_leaf_reg': 0.00010710386212655055, 'bootstrap_type': 'Bayesian', 'random_strength': 0.06706378853285479, 'bagging_temperature': 1.92557255138059, 'od_type': 'IncToDec', 'od_wait': 50}. Best is trial 10 with value: 0.03481749258419952.\n"
     ]
    },
    {
     "name": "stdout",
     "output_type": "stream",
     "text": [
      "('Catboost', 0.03481749258419952, 0.02839647875997925, 0.14419260301714576)\n"
     ]
    },
    {
     "name": "stderr",
     "output_type": "stream",
     "text": [
      "[I 2023-06-22 02:16:10,602] Trial 11 finished with value: 0.04817224611589851 and parameters: {'iterations': 912, 'learning_rate': 0.007515516670796351, 'depth': 10, 'l2_leaf_reg': 0.00041828907101222585, 'bootstrap_type': 'Bayesian', 'random_strength': 0.050075191730573204, 'bagging_temperature': 2.0070974885989834, 'od_type': 'IncToDec', 'od_wait': 50}. Best is trial 10 with value: 0.03481749258419952.\n"
     ]
    },
    {
     "name": "stdout",
     "output_type": "stream",
     "text": [
      "('Catboost', 0.04817224611589851, 0.039188632951894745, 0.20010097920290193)\n"
     ]
    },
    {
     "name": "stderr",
     "output_type": "stream",
     "text": [
      "[I 2023-06-22 02:16:15,146] Trial 12 finished with value: 0.04224620361085358 and parameters: {'iterations': 929, 'learning_rate': 0.0087035551919287, 'depth': 8, 'l2_leaf_reg': 1.2970078752046497e-08, 'bootstrap_type': 'Bayesian', 'random_strength': 0.038268396737360204, 'bagging_temperature': 2.43641048326954, 'od_type': 'IncToDec', 'od_wait': 42}. Best is trial 10 with value: 0.03481749258419952.\n"
     ]
    },
    {
     "name": "stdout",
     "output_type": "stream",
     "text": [
      "('Catboost', 0.04224620361085358, 0.035396280134941054, 0.27265703027794186)\n"
     ]
    },
    {
     "name": "stderr",
     "output_type": "stream",
     "text": [
      "[I 2023-06-22 02:16:21,177] Trial 13 finished with value: 0.055090485528759316 and parameters: {'iterations': 829, 'learning_rate': 0.014702094031740737, 'depth': 9, 'l2_leaf_reg': 0.0002485834364723489, 'bootstrap_type': 'Bayesian', 'random_strength': 0.06810190046396725, 'bagging_temperature': 0.06295674426937037, 'od_type': 'IncToDec', 'od_wait': 32}. Best is trial 10 with value: 0.03481749258419952.\n"
     ]
    },
    {
     "name": "stdout",
     "output_type": "stream",
     "text": [
      "('Catboost', 0.055090485528759316, 0.045541001942263404, -0.009860282784780683)\n"
     ]
    },
    {
     "name": "stderr",
     "output_type": "stream",
     "text": [
      "[I 2023-06-22 02:16:23,680] Trial 14 finished with value: 0.0465304689273067 and parameters: {'iterations': 350, 'learning_rate': 0.005508847627778603, 'depth': 9, 'l2_leaf_reg': 9.711898182878411e-05, 'bootstrap_type': 'Bayesian', 'random_strength': 0.32750155064798836, 'bagging_temperature': 1.5311888213524454, 'od_type': 'IncToDec', 'od_wait': 41}. Best is trial 10 with value: 0.03481749258419952.\n"
     ]
    },
    {
     "name": "stdout",
     "output_type": "stream",
     "text": [
      "('Catboost', 0.0465304689273067, 0.04049029755849396, 0.18954525661804433)\n"
     ]
    },
    {
     "name": "stderr",
     "output_type": "stream",
     "text": [
      "[I 2023-06-22 02:16:26,696] Trial 15 finished with value: 0.04475049354664949 and parameters: {'iterations': 713, 'learning_rate': 0.016173045124861087, 'depth': 8, 'l2_leaf_reg': 0.008707101323450385, 'bootstrap_type': 'Bayesian', 'random_strength': 0.006741472473569539, 'bagging_temperature': 2.9158093647113383, 'od_type': 'IncToDec', 'od_wait': 30}. Best is trial 10 with value: 0.03481749258419952.\n"
     ]
    },
    {
     "name": "stdout",
     "output_type": "stream",
     "text": [
      "('Catboost', 0.04475049354664949, 0.03717285892901891, -0.08497468725243551)\n"
     ]
    },
    {
     "name": "stderr",
     "output_type": "stream",
     "text": [
      "[I 2023-06-22 02:16:42,079] Trial 16 finished with value: 0.04446386197135357 and parameters: {'iterations': 984, 'learning_rate': 0.004382066406396264, 'depth': 10, 'l2_leaf_reg': 3.5534747008847976e-05, 'bootstrap_type': 'Bayesian', 'random_strength': 0.34917979237029007, 'bagging_temperature': 1.407919928094639, 'od_type': 'IncToDec', 'od_wait': 50}. Best is trial 10 with value: 0.03481749258419952.\n"
     ]
    },
    {
     "name": "stdout",
     "output_type": "stream",
     "text": [
      "('Catboost', 0.04446386197135357, 0.0384187388725509, 0.21565500713982533)\n"
     ]
    },
    {
     "name": "stderr",
     "output_type": "stream",
     "text": [
      "[I 2023-06-22 02:16:44,391] Trial 17 finished with value: 0.030184887598468664 and parameters: {'iterations': 829, 'learning_rate': 0.012107569391203908, 'depth': 7, 'l2_leaf_reg': 0.0015681766225182686, 'bootstrap_type': 'Bayesian', 'random_strength': 6.2401012843989925, 'bagging_temperature': 3.401314738271655, 'od_type': 'IncToDec', 'od_wait': 28}. Best is trial 17 with value: 0.030184887598468664.\n"
     ]
    },
    {
     "name": "stdout",
     "output_type": "stream",
     "text": [
      "('Catboost', 0.030184887598468664, 0.021167774914500403, 0.4285360248245921)\n"
     ]
    },
    {
     "name": "stderr",
     "output_type": "stream",
     "text": [
      "[I 2023-06-22 02:16:45,582] Trial 18 finished with value: 0.0469113627920931 and parameters: {'iterations': 814, 'learning_rate': 0.01537277778153916, 'depth': 5, 'l2_leaf_reg': 0.0034286191169536073, 'bootstrap_type': 'Bayesian', 'random_strength': 6.203219592785619, 'bagging_temperature': 3.8450576137457606, 'od_type': 'IncToDec', 'od_wait': 26}. Best is trial 17 with value: 0.030184887598468664.\n"
     ]
    },
    {
     "name": "stdout",
     "output_type": "stream",
     "text": [
      "('Catboost', 0.0469113627920931, 0.03623721040728148, 0.11192935247285918)\n"
     ]
    },
    {
     "name": "stderr",
     "output_type": "stream",
     "text": [
      "[I 2023-06-22 02:16:47,948] Trial 19 finished with value: 0.0411843207942003 and parameters: {'iterations': 831, 'learning_rate': 0.09650131846945777, 'depth': 7, 'l2_leaf_reg': 0.00040175400983993246, 'bootstrap_type': 'Bayesian', 'random_strength': 0.009610014196809402, 'bagging_temperature': 4.929358651202118, 'od_type': 'IncToDec', 'od_wait': 20}. Best is trial 17 with value: 0.030184887598468664.\n"
     ]
    },
    {
     "name": "stdout",
     "output_type": "stream",
     "text": [
      "('Catboost', 0.0411843207942003, 0.03285793110232392, 0.2814161389407899)\n"
     ]
    },
    {
     "name": "stderr",
     "output_type": "stream",
     "text": [
      "[I 2023-06-22 02:16:49,316] Trial 20 finished with value: 0.04072477072898031 and parameters: {'iterations': 971, 'learning_rate': 0.012411659208917349, 'depth': 5, 'l2_leaf_reg': 0.0021782601344965736, 'bootstrap_type': 'Bayesian', 'random_strength': 0.3461430070369481, 'bagging_temperature': 2.746375209880391, 'od_type': 'IncToDec', 'od_wait': 27}. Best is trial 17 with value: 0.030184887598468664.\n"
     ]
    },
    {
     "name": "stdout",
     "output_type": "stream",
     "text": [
      "('Catboost', 0.04072477072898031, 0.03617991023122113, 0.4148940249963353)\n"
     ]
    },
    {
     "name": "stderr",
     "output_type": "stream",
     "text": [
      "[I 2023-06-22 02:16:51,018] Trial 21 finished with value: 0.039609721628276875 and parameters: {'iterations': 640, 'learning_rate': 0.00644461406182457, 'depth': 7, 'l2_leaf_reg': 2.206421451167941e-06, 'bootstrap_type': 'Bayesian', 'random_strength': 8.535490873137132, 'bagging_temperature': 1.0009857725140139, 'od_type': 'IncToDec', 'od_wait': 34}. Best is trial 17 with value: 0.030184887598468664.\n"
     ]
    },
    {
     "name": "stdout",
     "output_type": "stream",
     "text": [
      "('Catboost', 0.039609721628276875, 0.032893630396891645, 0.03887078043453562)\n"
     ]
    },
    {
     "name": "stderr",
     "output_type": "stream",
     "text": [
      "[I 2023-06-22 02:16:54,816] Trial 22 finished with value: 0.03888045126235005 and parameters: {'iterations': 887, 'learning_rate': 0.009248274142463521, 'depth': 8, 'l2_leaf_reg': 5.018003542200138e-05, 'bootstrap_type': 'Bayesian', 'random_strength': 1.1884613947755374, 'bagging_temperature': 2.2144362382582763, 'od_type': 'IncToDec', 'od_wait': 38}. Best is trial 17 with value: 0.030184887598468664.\n"
     ]
    },
    {
     "name": "stdout",
     "output_type": "stream",
     "text": [
      "('Catboost', 0.03888045126235005, 0.027002213415225736, 0.42168183993214714)\n"
     ]
    },
    {
     "name": "stderr",
     "output_type": "stream",
     "text": [
      "[I 2023-06-22 02:17:00,583] Trial 23 finished with value: 0.03712856381092347 and parameters: {'iterations': 771, 'learning_rate': 0.00393963457134859, 'depth': 9, 'l2_leaf_reg': 5.9903987268625575e-05, 'bootstrap_type': 'Bayesian', 'random_strength': 0.1427756812735436, 'bagging_temperature': 0.7901854161083399, 'od_type': 'IncToDec', 'od_wait': 10}. Best is trial 17 with value: 0.030184887598468664.\n"
     ]
    },
    {
     "name": "stdout",
     "output_type": "stream",
     "text": [
      "('Catboost', 0.03712856381092347, 0.02981454135056406, 0.30022967444683013)\n"
     ]
    },
    {
     "name": "stderr",
     "output_type": "stream",
     "text": [
      "[I 2023-06-22 02:17:02,160] Trial 24 finished with value: 0.03459495715253646 and parameters: {'iterations': 580, 'learning_rate': 0.020797494249185436, 'depth': 7, 'l2_leaf_reg': 1.4784600335650907e-06, 'bootstrap_type': 'Bayesian', 'random_strength': 1.5583976603300094, 'bagging_temperature': 1.8214225534213986, 'od_type': 'IncToDec', 'od_wait': 44}. Best is trial 17 with value: 0.030184887598468664.\n"
     ]
    },
    {
     "name": "stdout",
     "output_type": "stream",
     "text": [
      "('Catboost', 0.03459495715253646, 0.028843535100593096, 0.3815336333172583)\n"
     ]
    },
    {
     "name": "stderr",
     "output_type": "stream",
     "text": [
      "[I 2023-06-22 02:17:03,393] Trial 25 finished with value: 0.04804471412651033 and parameters: {'iterations': 363, 'learning_rate': 0.021755641922148152, 'depth': 7, 'l2_leaf_reg': 9.763236152990949e-06, 'bootstrap_type': 'Bayesian', 'random_strength': 3.631046805022327, 'bagging_temperature': 3.2063620100351264, 'od_type': 'IncToDec', 'od_wait': 45}. Best is trial 17 with value: 0.030184887598468664.\n"
     ]
    },
    {
     "name": "stdout",
     "output_type": "stream",
     "text": [
      "('Catboost', 0.04804471412651033, 0.03700935660766518, 0.21175034444574414)\n"
     ]
    },
    {
     "name": "stderr",
     "output_type": "stream",
     "text": [
      "[I 2023-06-22 02:17:05,572] Trial 26 finished with value: 0.03909294988014892 and parameters: {'iterations': 989, 'learning_rate': 0.02229776868380641, 'depth': 6, 'l2_leaf_reg': 0.0008954678774001404, 'bootstrap_type': 'Bayesian', 'random_strength': 0.1425419502878144, 'bagging_temperature': 2.0910502921099963, 'od_type': 'IncToDec', 'od_wait': 46}. Best is trial 17 with value: 0.030184887598468664.\n"
     ]
    },
    {
     "name": "stdout",
     "output_type": "stream",
     "text": [
      "('Catboost', 0.03909294988014892, 0.031141654348769542, 0.39584216686079543)\n"
     ]
    },
    {
     "name": "stderr",
     "output_type": "stream",
     "text": [
      "[I 2023-06-22 02:17:08,006] Trial 27 finished with value: 0.03712855470335009 and parameters: {'iterations': 870, 'learning_rate': 0.010536054628735815, 'depth': 7, 'l2_leaf_reg': 1.0401308127070377e-07, 'bootstrap_type': 'Bayesian', 'random_strength': 1.5648977452791357, 'bagging_temperature': 4.030791732638816, 'od_type': 'IncToDec', 'od_wait': 42}. Best is trial 17 with value: 0.030184887598468664.\n"
     ]
    },
    {
     "name": "stdout",
     "output_type": "stream",
     "text": [
      "('Catboost', 0.03712855470335009, 0.029899923017077744, 0.16140901695538679)\n"
     ]
    },
    {
     "name": "stderr",
     "output_type": "stream",
     "text": [
      "[I 2023-06-22 02:17:09,152] Trial 28 finished with value: 0.04924779443123566 and parameters: {'iterations': 728, 'learning_rate': 0.012550659109546027, 'depth': 5, 'l2_leaf_reg': 2.0537947656110373e-05, 'bootstrap_type': 'Bayesian', 'random_strength': 0.018203805486725726, 'bagging_temperature': 1.6408563975319697, 'od_type': 'IncToDec', 'od_wait': 48}. Best is trial 17 with value: 0.030184887598468664.\n"
     ]
    },
    {
     "name": "stdout",
     "output_type": "stream",
     "text": [
      "('Catboost', 0.04924779443123566, 0.038272095878856466, 0.34033313795107145)\n"
     ]
    },
    {
     "name": "stderr",
     "output_type": "stream",
     "text": [
      "[I 2023-06-22 02:17:10,630] Trial 29 finished with value: 0.03597949108162334 and parameters: {'iterations': 422, 'learning_rate': 0.024985029028307477, 'depth': 7, 'l2_leaf_reg': 2.5864874444385262e-06, 'bootstrap_type': 'Bayesian', 'random_strength': 1.2506264557787206e-08, 'bagging_temperature': 2.828272046236492, 'od_type': 'Iter', 'od_wait': 38}. Best is trial 17 with value: 0.030184887598468664.\n"
     ]
    },
    {
     "name": "stdout",
     "output_type": "stream",
     "text": [
      "('Catboost', 0.03597949108162334, 0.03122751520922812, 0.43474225364217534)\n"
     ]
    },
    {
     "name": "stderr",
     "output_type": "stream",
     "text": [
      "[I 2023-06-22 02:17:11,921] Trial 30 finished with value: 0.04717025966778518 and parameters: {'iterations': 615, 'learning_rate': 0.02112802143468575, 'depth': 6, 'l2_leaf_reg': 0.00018558938595580017, 'bootstrap_type': 'Bayesian', 'random_strength': 9.254084691641442, 'bagging_temperature': 1.0989962553997648, 'od_type': 'IncToDec', 'od_wait': 29}. Best is trial 17 with value: 0.030184887598468664.\n"
     ]
    },
    {
     "name": "stdout",
     "output_type": "stream",
     "text": [
      "('Catboost', 0.04717025966778518, 0.03991909484084935, 0.4417763487585562)\n"
     ]
    },
    {
     "name": "stderr",
     "output_type": "stream",
     "text": [
      "[I 2023-06-22 02:17:14,479] Trial 31 finished with value: 0.03995652395837087 and parameters: {'iterations': 586, 'learning_rate': 0.009263027292249456, 'depth': 8, 'l2_leaf_reg': 6.880125710373123e-07, 'bootstrap_type': 'Bayesian', 'random_strength': 0.6822280629832945, 'bagging_temperature': 0.6631987888960018, 'od_type': 'IncToDec', 'od_wait': 23}. Best is trial 17 with value: 0.030184887598468664.\n"
     ]
    },
    {
     "name": "stdout",
     "output_type": "stream",
     "text": [
      "('Catboost', 0.03995652395837087, 0.03540253244342529, 0.4241995444845086)\n"
     ]
    },
    {
     "name": "stderr",
     "output_type": "stream",
     "text": [
      "[I 2023-06-22 02:17:18,137] Trial 32 finished with value: 0.045984567472759766 and parameters: {'iterations': 540, 'learning_rate': 0.006396485736515876, 'depth': 9, 'l2_leaf_reg': 1.229495448288904e-06, 'bootstrap_type': 'Bayesian', 'random_strength': 1.5889853263249007, 'bagging_temperature': 1.9712017524331211, 'od_type': 'IncToDec', 'od_wait': 33}. Best is trial 17 with value: 0.030184887598468664.\n"
     ]
    },
    {
     "name": "stdout",
     "output_type": "stream",
     "text": [
      "('Catboost', 0.045984567472759766, 0.03341308614309319, 0.11635657609627004)\n"
     ]
    },
    {
     "name": "stderr",
     "output_type": "stream",
     "text": [
      "[I 2023-06-22 02:17:28,704] Trial 33 finished with value: 0.03337338702781866 and parameters: {'iterations': 669, 'learning_rate': 0.011093007663684625, 'depth': 10, 'l2_leaf_reg': 1.5403355311811123e-05, 'bootstrap_type': 'Bayesian', 'random_strength': 0.16087518928286557, 'bagging_temperature': 0.5690716331391755, 'od_type': 'IncToDec', 'od_wait': 43}. Best is trial 17 with value: 0.030184887598468664.\n"
     ]
    },
    {
     "name": "stdout",
     "output_type": "stream",
     "text": [
      "('Catboost', 0.03337338702781866, 0.025935896542841466, 0.11351226947507209)\n"
     ]
    },
    {
     "name": "stderr",
     "output_type": "stream",
     "text": [
      "[I 2023-06-22 02:17:41,187] Trial 34 finished with value: 0.03509004592028924 and parameters: {'iterations': 768, 'learning_rate': 0.018612074814026474, 'depth': 10, 'l2_leaf_reg': 1.3865783181087948e-05, 'bootstrap_type': 'Bayesian', 'random_strength': 0.1631548069639691, 'bagging_temperature': 0.7003684484800663, 'od_type': 'IncToDec', 'od_wait': 44}. Best is trial 17 with value: 0.030184887598468664.\n"
     ]
    },
    {
     "name": "stdout",
     "output_type": "stream",
     "text": [
      "('Catboost', 0.03509004592028924, 0.02647416451907437, 0.09534830742497324)\n"
     ]
    },
    {
     "name": "stderr",
     "output_type": "stream",
     "text": [
      "[I 2023-06-22 02:17:52,160] Trial 35 finished with value: 0.03839499166328738 and parameters: {'iterations': 685, 'learning_rate': 0.011616089595066947, 'depth': 10, 'l2_leaf_reg': 5.048620548443426e-06, 'bootstrap_type': 'Bayesian', 'random_strength': 0.44548098991983914, 'bagging_temperature': 1.5511874520457902, 'od_type': 'Iter', 'od_wait': 40}. Best is trial 17 with value: 0.030184887598468664.\n"
     ]
    },
    {
     "name": "stdout",
     "output_type": "stream",
     "text": [
      "('Catboost', 0.03839499166328738, 0.02967538324149389, 0.2965830697329189)\n"
     ]
    },
    {
     "name": "stderr",
     "output_type": "stream",
     "text": [
      "[I 2023-06-22 02:18:04,364] Trial 36 finished with value: 0.038039314251325625 and parameters: {'iterations': 772, 'learning_rate': 0.017806084403500587, 'depth': 10, 'l2_leaf_reg': 7.987779680312544e-05, 'bootstrap_type': 'Bayesian', 'random_strength': 3.7951152611538053, 'bagging_temperature': 2.5739140228610777, 'od_type': 'IncToDec', 'od_wait': 48}. Best is trial 17 with value: 0.030184887598468664.\n"
     ]
    },
    {
     "name": "stdout",
     "output_type": "stream",
     "text": [
      "('Catboost', 0.038039314251325625, 0.03053876991809484, 0.32977619906713207)\n"
     ]
    },
    {
     "name": "stderr",
     "output_type": "stream",
     "text": [
      "[I 2023-06-22 02:18:10,860] Trial 37 finished with value: 0.0451926834029262 and parameters: {'iterations': 920, 'learning_rate': 0.02862940663851764, 'depth': 9, 'l2_leaf_reg': 1.8714880674218542e-05, 'bootstrap_type': 'Bayesian', 'random_strength': 0.03426988040090283, 'bagging_temperature': 0.3578537274115663, 'od_type': 'Iter', 'od_wait': 36}. Best is trial 17 with value: 0.030184887598468664.\n"
     ]
    },
    {
     "name": "stdout",
     "output_type": "stream",
     "text": [
      "('Catboost', 0.0451926834029262, 0.03667974112414702, 0.29654582342576197)\n"
     ]
    },
    {
     "name": "stderr",
     "output_type": "stream",
     "text": [
      "[I 2023-06-22 02:18:13,345] Trial 38 finished with value: 0.045065795883685054 and parameters: {'iterations': 578, 'learning_rate': 0.0124753335047481, 'depth': 8, 'l2_leaf_reg': 0.00016451566130174406, 'bootstrap_type': 'Bayesian', 'random_strength': 0.004802838681438117, 'bagging_temperature': 3.3782018878567817, 'od_type': 'IncToDec', 'od_wait': 44}. Best is trial 17 with value: 0.030184887598468664.\n"
     ]
    },
    {
     "name": "stdout",
     "output_type": "stream",
     "text": [
      "('Catboost', 0.045065795883685054, 0.036431412562570174, 0.19038131107915612)\n"
     ]
    },
    {
     "name": "stderr",
     "output_type": "stream",
     "text": [
      "[I 2023-06-22 02:18:16,575] Trial 39 finished with value: 0.046988026830653735 and parameters: {'iterations': 468, 'learning_rate': 0.008072521007825689, 'depth': 9, 'l2_leaf_reg': 0.001208308572747545, 'bootstrap_type': 'Bayesian', 'random_strength': 0.0010551483946262044, 'bagging_temperature': 1.49122925684815, 'od_type': 'Iter', 'od_wait': 48}. Best is trial 17 with value: 0.030184887598468664.\n"
     ]
    },
    {
     "name": "stdout",
     "output_type": "stream",
     "text": [
      "('Catboost', 0.046988026830653735, 0.04047725291038617, 0.22566562515682698)\n"
     ]
    },
    {
     "name": "stderr",
     "output_type": "stream",
     "text": [
      "[I 2023-06-22 02:18:17,528] Trial 40 finished with value: 0.0423297208660259 and parameters: {'iterations': 866, 'learning_rate': 0.0148989175318462, 'depth': 4, 'l2_leaf_reg': 0.03081349855118619, 'bootstrap_type': 'Bayesian', 'random_strength': 5.033048336104525e-05, 'bagging_temperature': 0.15123540179995187, 'od_type': 'IncToDec', 'od_wait': 24}. Best is trial 17 with value: 0.030184887598468664.\n"
     ]
    },
    {
     "name": "stdout",
     "output_type": "stream",
     "text": [
      "('Catboost', 0.0423297208660259, 0.03283519393453115, -0.025660622856236603)\n"
     ]
    },
    {
     "name": "stderr",
     "output_type": "stream",
     "text": [
      "[I 2023-06-22 02:18:31,089] Trial 41 finished with value: 0.03531857684946009 and parameters: {'iterations': 796, 'learning_rate': 0.018082534576799314, 'depth': 10, 'l2_leaf_reg': 1.5812499141399688e-05, 'bootstrap_type': 'Bayesian', 'random_strength': 0.17447115359233392, 'bagging_temperature': 0.7753038275545179, 'od_type': 'IncToDec', 'od_wait': 44}. Best is trial 17 with value: 0.030184887598468664.\n"
     ]
    },
    {
     "name": "stdout",
     "output_type": "stream",
     "text": [
      "('Catboost', 0.03531857684946009, 0.029200042480958453, -0.1970318427112574)\n"
     ]
    },
    {
     "name": "stderr",
     "output_type": "stream",
     "text": [
      "[I 2023-06-22 02:18:43,662] Trial 42 finished with value: 0.036754399352981956 and parameters: {'iterations': 720, 'learning_rate': 0.029373973583491392, 'depth': 10, 'l2_leaf_reg': 5.1599507920088565e-06, 'bootstrap_type': 'Bayesian', 'random_strength': 0.10150782435890865, 'bagging_temperature': 1.0375905550690794, 'od_type': 'IncToDec', 'od_wait': 43}. Best is trial 17 with value: 0.030184887598468664.\n"
     ]
    },
    {
     "name": "stdout",
     "output_type": "stream",
     "text": [
      "('Catboost', 0.036754399352981956, 0.030530511894673044, 0.2877352856034866)\n"
     ]
    },
    {
     "name": "stderr",
     "output_type": "stream",
     "text": [
      "[I 2023-06-22 02:18:54,584] Trial 43 finished with value: 0.04301034071272556 and parameters: {'iterations': 669, 'learning_rate': 0.010241136500055238, 'depth': 10, 'l2_leaf_reg': 1.5275550976352595e-06, 'bootstrap_type': 'Bayesian', 'random_strength': 0.9290506703374616, 'bagging_temperature': 0.5548325466777577, 'od_type': 'IncToDec', 'od_wait': 47}. Best is trial 17 with value: 0.030184887598468664.\n"
     ]
    },
    {
     "name": "stdout",
     "output_type": "stream",
     "text": [
      "('Catboost', 0.04301034071272556, 0.034809012226574294, -0.057264354555423225)\n"
     ]
    },
    {
     "name": "stderr",
     "output_type": "stream",
     "text": [
      "[I 2023-06-22 02:19:07,626] Trial 44 finished with value: 0.03434088952035979 and parameters: {'iterations': 767, 'learning_rate': 0.036348638425374565, 'depth': 10, 'l2_leaf_reg': 2.7820198163132037e-05, 'bootstrap_type': 'Bayesian', 'random_strength': 3.0432749961588184, 'bagging_temperature': 1.9870160680475002, 'od_type': 'IncToDec', 'od_wait': 40}. Best is trial 17 with value: 0.030184887598468664.\n"
     ]
    },
    {
     "name": "stdout",
     "output_type": "stream",
     "text": [
      "('Catboost', 0.03434088952035979, 0.028778304752242842, -0.1356581775419632)\n"
     ]
    },
    {
     "name": "stderr",
     "output_type": "stream",
     "text": [
      "[I 2023-06-22 02:19:08,963] Trial 45 finished with value: 0.03768636362794306 and parameters: {'iterations': 626, 'learning_rate': 0.052913123092835496, 'depth': 6, 'l2_leaf_reg': 5.9259330125885155e-05, 'bootstrap_type': 'Bayesian', 'random_strength': 3.160560345207633, 'bagging_temperature': 2.3424204524673353, 'od_type': 'IncToDec', 'od_wait': 39}. Best is trial 17 with value: 0.030184887598468664.\n"
     ]
    },
    {
     "name": "stdout",
     "output_type": "stream",
     "text": [
      "('Catboost', 0.03768636362794306, 0.03283412091438454, 0.45014717652005287)\n"
     ]
    },
    {
     "name": "stderr",
     "output_type": "stream",
     "text": [
      "[I 2023-06-22 02:19:14,235] Trial 46 finished with value: 0.04245287771927118 and parameters: {'iterations': 740, 'learning_rate': 0.03518455894897536, 'depth': 9, 'l2_leaf_reg': 4.038448059552106e-07, 'bootstrap_type': 'Bayesian', 'random_strength': 2.9644984520094675, 'bagging_temperature': 1.8366058280554483, 'od_type': 'IncToDec', 'od_wait': 37}. Best is trial 17 with value: 0.030184887598468664.\n"
     ]
    },
    {
     "name": "stdout",
     "output_type": "stream",
     "text": [
      "('Catboost', 0.04245287771927118, 0.03585514092073099, 0.18014077001640616)\n"
     ]
    },
    {
     "name": "stderr",
     "output_type": "stream",
     "text": [
      "[I 2023-06-22 02:19:16,476] Trial 47 finished with value: 0.04480806456708343 and parameters: {'iterations': 521, 'learning_rate': 0.03830570436955297, 'depth': 8, 'l2_leaf_reg': 0.00037809747169717615, 'bootstrap_type': 'Bayesian', 'random_strength': 0.5766535538502373, 'bagging_temperature': 2.366855150940684, 'od_type': 'Iter', 'od_wait': 31}. Best is trial 17 with value: 0.030184887598468664.\n"
     ]
    },
    {
     "name": "stdout",
     "output_type": "stream",
     "text": [
      "('Catboost', 0.04480806456708343, 0.0386760776358921, 0.023204254055867457)\n"
     ]
    },
    {
     "name": "stderr",
     "output_type": "stream",
     "text": [
      "[I 2023-06-22 02:19:30,099] Trial 48 finished with value: 0.03859734831821628 and parameters: {'iterations': 842, 'learning_rate': 0.02849724875102776, 'depth': 10, 'l2_leaf_reg': 3.1194552462671313e-05, 'bootstrap_type': 'Bayesian', 'random_strength': 1.4106885048977564, 'bagging_temperature': 3.041314251220589, 'od_type': 'IncToDec', 'od_wait': 17}. Best is trial 17 with value: 0.030184887598468664.\n"
     ]
    },
    {
     "name": "stdout",
     "output_type": "stream",
     "text": [
      "('Catboost', 0.03859734831821628, 0.03255238215938137, 0.004399887152801485)\n"
     ]
    },
    {
     "name": "stderr",
     "output_type": "stream",
     "text": [
      "[I 2023-06-22 02:19:32,647] Trial 49 finished with value: 0.04730766725327845 and parameters: {'iterations': 943, 'learning_rate': 0.04757815431289562, 'depth': 7, 'l2_leaf_reg': 4.21155920624137e-06, 'bootstrap_type': 'Bayesian', 'random_strength': 0.024350301303569355, 'bagging_temperature': 1.1917651887292564, 'od_type': 'IncToDec', 'od_wait': 50}. Best is trial 17 with value: 0.030184887598468664.\n"
     ]
    },
    {
     "name": "stdout",
     "output_type": "stream",
     "text": [
      "('Catboost', 0.04730766725327845, 0.03845686445842446, 0.4060612885135678)\n"
     ]
    },
    {
     "name": "stderr",
     "output_type": "stream",
     "text": [
      "[I 2023-06-22 02:19:35,119] Trial 50 finished with value: 0.03779990778029765 and parameters: {'iterations': 595, 'learning_rate': 0.007681934230602253, 'depth': 8, 'l2_leaf_reg': 0.000163518371979383, 'bootstrap_type': 'Bayesian', 'random_strength': 9.195606504432567, 'bagging_temperature': 3.5895432772034446, 'od_type': 'IncToDec', 'od_wait': 40}. Best is trial 17 with value: 0.030184887598468664.\n"
     ]
    },
    {
     "name": "stdout",
     "output_type": "stream",
     "text": [
      "('Catboost', 0.03779990778029765, 0.02775810849279474, 0.27436429575470145)\n"
     ]
    },
    {
     "name": "stderr",
     "output_type": "stream",
     "text": [
      "[I 2023-06-22 02:19:47,580] Trial 51 finished with value: 0.0433244018711457 and parameters: {'iterations': 756, 'learning_rate': 0.018875671083132494, 'depth': 10, 'l2_leaf_reg': 8.023134020114984e-06, 'bootstrap_type': 'Bayesian', 'random_strength': 0.23671231440317209, 'bagging_temperature': 0.46759384415720184, 'od_type': 'IncToDec', 'od_wait': 45}. Best is trial 17 with value: 0.030184887598468664.\n"
     ]
    },
    {
     "name": "stdout",
     "output_type": "stream",
     "text": [
      "('Catboost', 0.0433244018711457, 0.035333902209846814, 0.16635830186088574)\n"
     ]
    },
    {
     "name": "stderr",
     "output_type": "stream",
     "text": [
      "[I 2023-06-22 02:19:59,134] Trial 52 finished with value: 0.04044784637446811 and parameters: {'iterations': 695, 'learning_rate': 0.014390692673303585, 'depth': 10, 'l2_leaf_reg': 1.4182656877051455e-05, 'bootstrap_type': 'Bayesian', 'random_strength': 0.08309885477833046, 'bagging_temperature': 0.005354329438794325, 'od_type': 'IncToDec', 'od_wait': 42}. Best is trial 17 with value: 0.030184887598468664.\n"
     ]
    },
    {
     "name": "stdout",
     "output_type": "stream",
     "text": [
      "('Catboost', 0.04044784637446811, 0.03380461067736928, 0.18026067239701515)\n"
     ]
    },
    {
     "name": "stderr",
     "output_type": "stream",
     "text": [
      "[I 2023-06-22 02:20:04,346] Trial 53 finished with value: 0.04289368952696207 and parameters: {'iterations': 793, 'learning_rate': 0.021911975784150363, 'depth': 9, 'l2_leaf_reg': 1.0206869174908324e-06, 'bootstrap_type': 'Bayesian', 'random_strength': 0.43559311797572936, 'bagging_temperature': 1.8519799678819906, 'od_type': 'IncToDec', 'od_wait': 29}. Best is trial 17 with value: 0.030184887598468664.\n"
     ]
    },
    {
     "name": "stdout",
     "output_type": "stream",
     "text": [
      "('Catboost', 0.04289368952696207, 0.03601951234321111, 0.312966929104339)\n"
     ]
    },
    {
     "name": "stderr",
     "output_type": "stream",
     "text": [
      "[I 2023-06-22 02:20:15,111] Trial 54 finished with value: 0.042247099191859934 and parameters: {'iterations': 655, 'learning_rate': 0.024832765695541607, 'depth': 10, 'l2_leaf_reg': 4.1585436312493157e-05, 'bootstrap_type': 'Bayesian', 'random_strength': 0.05222257355352325, 'bagging_temperature': 1.1753383168781102, 'od_type': 'IncToDec', 'od_wait': 47}. Best is trial 17 with value: 0.030184887598468664.\n"
     ]
    },
    {
     "name": "stdout",
     "output_type": "stream",
     "text": [
      "('Catboost', 0.042247099191859934, 0.03282451829998276, 0.259184906630353)\n"
     ]
    },
    {
     "name": "stderr",
     "output_type": "stream",
     "text": [
      "[I 2023-06-22 02:20:29,124] Trial 55 finished with value: 0.04744576021845151 and parameters: {'iterations': 903, 'learning_rate': 0.013645954283563348, 'depth': 10, 'l2_leaf_reg': 1.7273334466627066e-07, 'bootstrap_type': 'Bayesian', 'random_strength': 0.842359076118868, 'bagging_temperature': 1.3702885697716534, 'od_type': 'IncToDec', 'od_wait': 41}. Best is trial 17 with value: 0.030184887598468664.\n"
     ]
    },
    {
     "name": "stdout",
     "output_type": "stream",
     "text": [
      "('Catboost', 0.04744576021845151, 0.03804443444756804, 0.24996814676107226)\n"
     ]
    },
    {
     "name": "stderr",
     "output_type": "stream",
     "text": [
      "[I 2023-06-22 02:20:30,268] Trial 56 finished with value: 0.03779629235077116 and parameters: {'iterations': 154, 'learning_rate': 0.017127768094906744, 'depth': 9, 'l2_leaf_reg': 0.000610677956389407, 'bootstrap_type': 'Bayesian', 'random_strength': 0.2189389961611487, 'bagging_temperature': 2.5416119504722605, 'od_type': 'IncToDec', 'od_wait': 35}. Best is trial 17 with value: 0.030184887598468664.\n"
     ]
    },
    {
     "name": "stdout",
     "output_type": "stream",
     "text": [
      "('Catboost', 0.03779629235077116, 0.029091385120312042, 0.31197468694197905)\n"
     ]
    },
    {
     "name": "stderr",
     "output_type": "stream",
     "text": [
      "[I 2023-06-22 02:20:33,073] Trial 57 finished with value: 0.04814818027782791 and parameters: {'iterations': 957, 'learning_rate': 0.009953929870706535, 'depth': 7, 'l2_leaf_reg': 0.00012171466442854592, 'bootstrap_type': 'Bayesian', 'random_strength': 3.7628470740280724, 'bagging_temperature': 1.8008948510474523, 'od_type': 'IncToDec', 'od_wait': 49}. Best is trial 17 with value: 0.030184887598468664.\n"
     ]
    },
    {
     "name": "stdout",
     "output_type": "stream",
     "text": [
      "('Catboost', 0.04814818027782791, 0.03896356589549463, 0.2844487100701568)\n"
     ]
    },
    {
     "name": "stderr",
     "output_type": "stream",
     "text": [
      "[I 2023-06-22 02:20:47,553] Trial 58 finished with value: 0.026437968396982793 and parameters: {'iterations': 843, 'learning_rate': 0.03549668630252779, 'depth': 10, 'l2_leaf_reg': 2.7702750401932485e-06, 'bootstrap_type': 'Bayesian', 'random_strength': 1.989872891341923, 'bagging_temperature': 0.8515228814732063, 'od_type': 'IncToDec', 'od_wait': 44}. Best is trial 58 with value: 0.026437968396982793.\n"
     ]
    },
    {
     "name": "stdout",
     "output_type": "stream",
     "text": [
      "('Catboost', 0.026437968396982793, 0.021869040765179967, 0.49413588119266993)\n"
     ]
    },
    {
     "name": "stderr",
     "output_type": "stream",
     "text": [
      "[I 2023-06-22 02:20:53,880] Trial 59 finished with value: 0.039286060297032833 and parameters: {'iterations': 858, 'learning_rate': 0.03561103284774494, 'depth': 9, 'l2_leaf_reg': 3.135281781378691e-06, 'bootstrap_type': 'Bayesian', 'random_strength': 2.336769198955875, 'bagging_temperature': 2.9264570430380688, 'od_type': 'IncToDec', 'od_wait': 46}. Best is trial 58 with value: 0.026437968396982793.\n"
     ]
    },
    {
     "name": "stdout",
     "output_type": "stream",
     "text": [
      "('Catboost', 0.039286060297032833, 0.030390148396005342, 0.27202406840331705)\n"
     ]
    },
    {
     "name": "stderr",
     "output_type": "stream",
     "text": [
      "[I 2023-06-22 02:20:55,530] Trial 60 finished with value: 0.03210443388247016 and parameters: {'iterations': 812, 'learning_rate': 0.04128974945418004, 'depth': 6, 'l2_leaf_reg': 4.919950833784518e-07, 'bootstrap_type': 'Bayesian', 'random_strength': 0.8256039697088801, 'bagging_temperature': 2.297246992271905, 'od_type': 'IncToDec', 'od_wait': 27}. Best is trial 58 with value: 0.026437968396982793.\n"
     ]
    },
    {
     "name": "stdout",
     "output_type": "stream",
     "text": [
      "('Catboost', 0.03210443388247016, 0.024807636847083727, 0.5416093339583276)\n"
     ]
    },
    {
     "name": "stderr",
     "output_type": "stream",
     "text": [
      "[I 2023-06-22 02:20:57,102] Trial 61 finished with value: 0.04165171265543366 and parameters: {'iterations': 809, 'learning_rate': 0.061200948268993305, 'depth': 6, 'l2_leaf_reg': 5.167909860379345e-07, 'bootstrap_type': 'Bayesian', 'random_strength': 4.8770245538534684, 'bagging_temperature': 2.1772527486567164, 'od_type': 'IncToDec', 'od_wait': 27}. Best is trial 58 with value: 0.026437968396982793.\n"
     ]
    },
    {
     "name": "stdout",
     "output_type": "stream",
     "text": [
      "('Catboost', 0.04165171265543366, 0.034394678510568495, 0.37206461671281577)\n"
     ]
    },
    {
     "name": "stderr",
     "output_type": "stream",
     "text": [
      "[I 2023-06-22 02:20:59,106] Trial 62 finished with value: 0.04050327020575892 and parameters: {'iterations': 999, 'learning_rate': 0.03344809462710509, 'depth': 6, 'l2_leaf_reg': 1.9807289866594096e-07, 'bootstrap_type': 'Bayesian', 'random_strength': 1.0276885552846025, 'bagging_temperature': 2.689465138237448, 'od_type': 'IncToDec', 'od_wait': 25}. Best is trial 58 with value: 0.026437968396982793.\n"
     ]
    },
    {
     "name": "stdout",
     "output_type": "stream",
     "text": [
      "('Catboost', 0.04050327020575892, 0.03350655490203493, 0.3862438031553064)\n"
     ]
    },
    {
     "name": "stderr",
     "output_type": "stream",
     "text": [
      "[I 2023-06-22 02:21:00,354] Trial 63 finished with value: 0.047695025477632116 and parameters: {'iterations': 887, 'learning_rate': 0.03745542085839043, 'depth': 5, 'l2_leaf_reg': 1.5516209272545464e-06, 'bootstrap_type': 'Bayesian', 'random_strength': 1.7915540742920295, 'bagging_temperature': 2.085122707381912, 'od_type': 'IncToDec', 'od_wait': 28}. Best is trial 58 with value: 0.026437968396982793.\n"
     ]
    },
    {
     "name": "stdout",
     "output_type": "stream",
     "text": [
      "('Catboost', 0.047695025477632116, 0.038761142884128776, -0.017225259684287675)\n"
     ]
    },
    {
     "name": "stderr",
     "output_type": "stream",
     "text": [
      "[I 2023-06-22 02:21:02,729] Trial 64 finished with value: 0.045059994093713855 and parameters: {'iterations': 821, 'learning_rate': 0.025172540145636815, 'depth': 7, 'l2_leaf_reg': 5.0912645444733514e-08, 'bootstrap_type': 'Bayesian', 'random_strength': 5.535225919939389, 'bagging_temperature': 1.3943729325857195, 'od_type': 'IncToDec', 'od_wait': 21}. Best is trial 58 with value: 0.026437968396982793.\n"
     ]
    },
    {
     "name": "stdout",
     "output_type": "stream",
     "text": [
      "('Catboost', 0.045059994093713855, 0.039558668066172295, 0.23647197366905193)\n"
     ]
    },
    {
     "name": "stderr",
     "output_type": "stream",
     "text": [
      "[I 2023-06-22 02:21:05,358] Trial 65 finished with value: 0.04065394575974406 and parameters: {'iterations': 840, 'learning_rate': 0.04430731216837068, 'depth': 7, 'l2_leaf_reg': 7.873773374105705e-06, 'bootstrap_type': 'Bayesian', 'random_strength': 0.5676208975219812, 'bagging_temperature': 0.9946956957676665, 'od_type': 'IncToDec', 'od_wait': 33}. Best is trial 58 with value: 0.026437968396982793.\n"
     ]
    },
    {
     "name": "stdout",
     "output_type": "stream",
     "text": [
      "('Catboost', 0.04065394575974406, 0.031165863481839293, 0.4310446606357442)\n"
     ]
    },
    {
     "name": "stderr",
     "output_type": "stream",
     "text": [
      "[I 2023-06-22 02:21:06,953] Trial 66 finished with value: 0.03208966776719653 and parameters: {'iterations': 700, 'learning_rate': 0.03936158490063908, 'depth': 6, 'l2_leaf_reg': 7.7463111876393e-07, 'bootstrap_type': 'Bayesian', 'random_strength': 2.366711405854665, 'bagging_temperature': 1.773911887418162, 'od_type': 'IncToDec', 'od_wait': 43}. Best is trial 58 with value: 0.026437968396982793.\n"
     ]
    },
    {
     "name": "stdout",
     "output_type": "stream",
     "text": [
      "('Catboost', 0.03208966776719653, 0.025152544538931575, 0.4168189138268489)\n"
     ]
    },
    {
     "name": "stderr",
     "output_type": "stream",
     "text": [
      "[I 2023-06-22 02:21:08,281] Trial 67 finished with value: 0.03019946609737192 and parameters: {'iterations': 703, 'learning_rate': 0.04303196204981342, 'depth': 6, 'l2_leaf_reg': 5.285103273207076e-07, 'bootstrap_type': 'Bayesian', 'random_strength': 9.327369139589274, 'bagging_temperature': 1.607194454676751, 'od_type': 'Iter', 'od_wait': 43}. Best is trial 58 with value: 0.026437968396982793.\n"
     ]
    },
    {
     "name": "stdout",
     "output_type": "stream",
     "text": [
      "('Catboost', 0.03019946609737192, 0.025258918741875715, 0.3331442751824806)\n"
     ]
    },
    {
     "name": "stderr",
     "output_type": "stream",
     "text": [
      "[I 2023-06-22 02:21:09,462] Trial 68 finished with value: 0.03152033015647358 and parameters: {'iterations': 694, 'learning_rate': 0.04347743420255684, 'depth': 5, 'l2_leaf_reg': 7.267729001062571e-07, 'bootstrap_type': 'Bayesian', 'random_strength': 5.9352483607082345, 'bagging_temperature': 1.5741843831566005, 'od_type': 'Iter', 'od_wait': 41}. Best is trial 58 with value: 0.026437968396982793.\n"
     ]
    },
    {
     "name": "stdout",
     "output_type": "stream",
     "text": [
      "('Catboost', 0.03152033015647358, 0.02631068272852919, 0.6112584856945201)\n"
     ]
    },
    {
     "name": "stderr",
     "output_type": "stream",
     "text": [
      "[I 2023-06-22 02:21:10,432] Trial 69 finished with value: 0.0379401984666937 and parameters: {'iterations': 699, 'learning_rate': 0.07163216864697292, 'depth': 5, 'l2_leaf_reg': 7.279568600610575e-07, 'bootstrap_type': 'Bayesian', 'random_strength': 7.9341164300642575, 'bagging_temperature': 0.3296370475224102, 'od_type': 'Iter', 'od_wait': 31}. Best is trial 58 with value: 0.026437968396982793.\n"
     ]
    },
    {
     "name": "stdout",
     "output_type": "stream",
     "text": [
      "('Catboost', 0.0379401984666937, 0.028576628489875865, 0.33000122472053883)\n"
     ]
    },
    {
     "name": "stderr",
     "output_type": "stream",
     "text": [
      "[I 2023-06-22 02:21:11,518] Trial 70 finished with value: 0.037108209218016254 and parameters: {'iterations': 742, 'learning_rate': 0.04295759535050922, 'depth': 5, 'l2_leaf_reg': 3.3254306799968654e-07, 'bootstrap_type': 'Bayesian', 'random_strength': 5.536246366091044, 'bagging_temperature': 0.9413862519330942, 'od_type': 'Iter', 'od_wait': 42}. Best is trial 58 with value: 0.026437968396982793.\n"
     ]
    },
    {
     "name": "stdout",
     "output_type": "stream",
     "text": [
      "('Catboost', 0.037108209218016254, 0.02965525760169925, 0.26362300325325294)\n"
     ]
    },
    {
     "name": "stderr",
     "output_type": "stream",
     "text": [
      "[I 2023-06-22 02:21:13,228] Trial 71 finished with value: 0.03933059414160955 and parameters: {'iterations': 782, 'learning_rate': 0.03272656900074779, 'depth': 6, 'l2_leaf_reg': 2.465585474501776e-06, 'bootstrap_type': 'Bayesian', 'random_strength': 2.6497287344505986, 'bagging_temperature': 1.5364237611769396, 'od_type': 'Iter', 'od_wait': 40}. Best is trial 58 with value: 0.026437968396982793.\n"
     ]
    },
    {
     "name": "stdout",
     "output_type": "stream",
     "text": [
      "('Catboost', 0.03933059414160955, 0.0328808765980882, 0.4347315723089158)\n"
     ]
    },
    {
     "name": "stderr",
     "output_type": "stream",
     "text": [
      "[I 2023-06-22 02:21:14,621] Trial 72 finished with value: 0.039526741595505184 and parameters: {'iterations': 678, 'learning_rate': 0.04145593643866, 'depth': 6, 'l2_leaf_reg': 8.897946202823408e-07, 'bootstrap_type': 'Bayesian', 'random_strength': 2.4808823698397013, 'bagging_temperature': 2.3044127826724288, 'od_type': 'Iter', 'od_wait': 43}. Best is trial 58 with value: 0.026437968396982793.\n"
     ]
    },
    {
     "name": "stdout",
     "output_type": "stream",
     "text": [
      "('Catboost', 0.039526741595505184, 0.03191648574481897, 0.3277769253012647)\n"
     ]
    },
    {
     "name": "stderr",
     "output_type": "stream",
     "text": [
      "[I 2023-06-22 02:21:15,548] Trial 73 finished with value: 0.0411539770928482 and parameters: {'iterations': 741, 'learning_rate': 0.05073058307245899, 'depth': 4, 'l2_leaf_reg': 5.2223303455475925e-08, 'bootstrap_type': 'Bayesian', 'random_strength': 9.216212668371798, 'bagging_temperature': 1.6912095702463812, 'od_type': 'Iter', 'od_wait': 38}. Best is trial 58 with value: 0.026437968396982793.\n"
     ]
    },
    {
     "name": "stdout",
     "output_type": "stream",
     "text": [
      "('Catboost', 0.0411539770928482, 0.03483916357016172, 0.38759214085421645)\n"
     ]
    },
    {
     "name": "stderr",
     "output_type": "stream",
     "text": [
      "[I 2023-06-22 02:21:16,530] Trial 74 finished with value: 0.040614609083228705 and parameters: {'iterations': 644, 'learning_rate': 0.056559683023562, 'depth': 5, 'l2_leaf_reg': 2.666144640566152e-07, 'bootstrap_type': 'Bayesian', 'random_strength': 0.8626405276633239, 'bagging_temperature': 1.2657108949192086, 'od_type': 'Iter', 'od_wait': 41}. Best is trial 58 with value: 0.026437968396982793.\n"
     ]
    },
    {
     "name": "stdout",
     "output_type": "stream",
     "text": [
      "('Catboost', 0.040614609083228705, 0.032255034415792444, 0.4594212649938627)\n"
     ]
    },
    {
     "name": "stderr",
     "output_type": "stream",
     "text": [
      "[I 2023-06-22 02:21:18,111] Trial 75 finished with value: 0.03712457808101115 and parameters: {'iterations': 761, 'learning_rate': 0.04117242144414318, 'depth': 6, 'l2_leaf_reg': 2.0888222662343146e-06, 'bootstrap_type': 'Bayesian', 'random_strength': 4.765240328228827, 'bagging_temperature': 0.696064604733442, 'od_type': 'Iter', 'od_wait': 43}. Best is trial 58 with value: 0.026437968396982793.\n"
     ]
    },
    {
     "name": "stdout",
     "output_type": "stream",
     "text": [
      "('Catboost', 0.03712457808101115, 0.027723110051891996, 0.38617534142128696)\n"
     ]
    },
    {
     "name": "stderr",
     "output_type": "stream",
     "text": [
      "[I 2023-06-22 02:21:19,257] Trial 76 finished with value: 0.04193917129088648 and parameters: {'iterations': 699, 'learning_rate': 0.031041771964681875, 'depth': 5, 'l2_leaf_reg': 4.5792298353212085e-07, 'bootstrap_type': 'Bayesian', 'random_strength': 1.7003019956915046, 'bagging_temperature': 2.6763906309194967, 'od_type': 'Iter', 'od_wait': 45}. Best is trial 58 with value: 0.026437968396982793.\n"
     ]
    },
    {
     "name": "stdout",
     "output_type": "stream",
     "text": [
      "('Catboost', 0.04193917129088648, 0.03585088167638813, 0.3865761637791997)\n"
     ]
    },
    {
     "name": "stderr",
     "output_type": "stream",
     "text": [
      "[I 2023-06-22 02:21:20,857] Trial 77 finished with value: 0.03650166360091593 and parameters: {'iterations': 806, 'learning_rate': 0.07650051623150299, 'depth': 6, 'l2_leaf_reg': 6.501534068542052e-06, 'bootstrap_type': 'Bayesian', 'random_strength': 0.450833139716844, 'bagging_temperature': 2.0836036557311957, 'od_type': 'Iter', 'od_wait': 36}. Best is trial 58 with value: 0.026437968396982793.\n"
     ]
    },
    {
     "name": "stdout",
     "output_type": "stream",
     "text": [
      "('Catboost', 0.03650166360091593, 0.02824049817395499, 0.3623614089798649)\n"
     ]
    },
    {
     "name": "stderr",
     "output_type": "stream",
     "text": [
      "[I 2023-06-22 02:21:21,668] Trial 78 finished with value: 0.033802955354879836 and parameters: {'iterations': 729, 'learning_rate': 0.047785618369673745, 'depth': 4, 'l2_leaf_reg': 8.100736523725109e-07, 'bootstrap_type': 'Bayesian', 'random_strength': 4.560627470477946, 'bagging_temperature': 3.1490916373758613, 'od_type': 'Iter', 'od_wait': 26}. Best is trial 58 with value: 0.026437968396982793.\n"
     ]
    },
    {
     "name": "stdout",
     "output_type": "stream",
     "text": [
      "('Catboost', 0.033802955354879836, 0.026791829682501232, 0.48139367741989336)\n"
     ]
    },
    {
     "name": "stderr",
     "output_type": "stream",
     "text": [
      "[I 2023-06-22 02:21:22,495] Trial 79 finished with value: 0.04002880691257841 and parameters: {'iterations': 612, 'learning_rate': 0.04931734552889405, 'depth': 4, 'l2_leaf_reg': 9.788379516698662e-07, 'bootstrap_type': 'Bayesian', 'random_strength': 1.2548279003946543, 'bagging_temperature': 3.1204764020400915, 'od_type': 'Iter', 'od_wait': 25}. Best is trial 58 with value: 0.026437968396982793.\n"
     ]
    },
    {
     "name": "stdout",
     "output_type": "stream",
     "text": [
      "('Catboost', 0.04002880691257841, 0.032201074880936105, 0.4007470071310336)\n"
     ]
    },
    {
     "name": "stderr",
     "output_type": "stream",
     "text": [
      "[I 2023-06-22 02:21:23,391] Trial 80 finished with value: 0.03511183516828348 and parameters: {'iterations': 708, 'learning_rate': 0.045743400964985345, 'depth': 4, 'l2_leaf_reg': 1.1927545540143655e-07, 'bootstrap_type': 'Bayesian', 'random_strength': 8.764032673106922, 'bagging_temperature': 3.787866035046136, 'od_type': 'Iter', 'od_wait': 22}. Best is trial 58 with value: 0.026437968396982793.\n"
     ]
    },
    {
     "name": "stdout",
     "output_type": "stream",
     "text": [
      "('Catboost', 0.03511183516828348, 0.02877646104971535, 0.2075139548814814)\n"
     ]
    },
    {
     "name": "stderr",
     "output_type": "stream",
     "text": [
      "[I 2023-06-22 02:21:24,294] Trial 81 finished with value: 0.04889854449909676 and parameters: {'iterations': 718, 'learning_rate': 0.05601901557897587, 'depth': 4, 'l2_leaf_reg': 3.5118084632444722e-06, 'bootstrap_type': 'Bayesian', 'random_strength': 3.8822790641225247, 'bagging_temperature': 1.9342577058210606, 'od_type': 'Iter', 'od_wait': 27}. Best is trial 58 with value: 0.026437968396982793.\n"
     ]
    },
    {
     "name": "stdout",
     "output_type": "stream",
     "text": [
      "('Catboost', 0.04889854449909676, 0.04049634870539288, 0.28451870746481944)\n"
     ]
    },
    {
     "name": "stderr",
     "output_type": "stream",
     "text": [
      "[I 2023-06-22 02:21:25,505] Trial 82 finished with value: 0.0424216992454171 and parameters: {'iterations': 666, 'learning_rate': 0.0386734316578232, 'depth': 5, 'l2_leaf_reg': 1.6037120289355816e-06, 'bootstrap_type': 'Bayesian', 'random_strength': 2.5397866771595647, 'bagging_temperature': 3.263506589017252, 'od_type': 'Iter', 'od_wait': 29}. Best is trial 58 with value: 0.026437968396982793.\n"
     ]
    },
    {
     "name": "stdout",
     "output_type": "stream",
     "text": [
      "('Catboost', 0.0424216992454171, 0.03587484024787652, -0.04495953018331145)\n"
     ]
    },
    {
     "name": "stderr",
     "output_type": "stream",
     "text": [
      "[I 2023-06-22 02:21:27,051] Trial 83 finished with value: 0.03963567313151304 and parameters: {'iterations': 774, 'learning_rate': 0.06309029684925278, 'depth': 6, 'l2_leaf_reg': 6.573531944958823e-07, 'bootstrap_type': 'Bayesian', 'random_strength': 5.779037117958661, 'bagging_temperature': 2.45859051365437, 'od_type': 'Iter', 'od_wait': 26}. Best is trial 58 with value: 0.026437968396982793.\n"
     ]
    },
    {
     "name": "stdout",
     "output_type": "stream",
     "text": [
      "('Catboost', 0.03963567313151304, 0.033848948217971, 0.31457960182370903)\n"
     ]
    },
    {
     "name": "stderr",
     "output_type": "stream",
     "text": [
      "[I 2023-06-22 02:21:28,864] Trial 84 finished with value: 0.039725390211033516 and parameters: {'iterations': 854, 'learning_rate': 0.032317749748025246, 'depth': 6, 'l2_leaf_reg': 2.5016381669394852e-05, 'bootstrap_type': 'Bayesian', 'random_strength': 0.3058158963390062, 'bagging_temperature': 1.6585870947103067, 'od_type': 'Iter', 'od_wait': 39}. Best is trial 58 with value: 0.026437968396982793.\n"
     ]
    },
    {
     "name": "stdout",
     "output_type": "stream",
     "text": [
      "('Catboost', 0.039725390211033516, 0.03398908788956308, 0.0862043445522398)\n"
     ]
    },
    {
     "name": "stderr",
     "output_type": "stream",
     "text": [
      "[I 2023-06-22 02:21:29,954] Trial 85 finished with value: 0.04073897278623659 and parameters: {'iterations': 559, 'learning_rate': 0.04681695990014508, 'depth': 5, 'l2_leaf_reg': 3.0374272933944246e-07, 'bootstrap_type': 'Bayesian', 'random_strength': 1.1439793014236301, 'bagging_temperature': 2.827716619032356, 'od_type': 'IncToDec', 'od_wait': 24}. Best is trial 58 with value: 0.026437968396982793.\n"
     ]
    },
    {
     "name": "stdout",
     "output_type": "stream",
     "text": [
      "('Catboost', 0.04073897278623659, 0.03447860029551361, 0.43835771758136843)\n"
     ]
    },
    {
     "name": "stderr",
     "output_type": "stream",
     "text": [
      "[I 2023-06-22 02:21:32,150] Trial 86 finished with value: 0.04487624853728823 and parameters: {'iterations': 748, 'learning_rate': 0.03847805252908495, 'depth': 7, 'l2_leaf_reg': 5.065076737555513e-06, 'bootstrap_type': 'Bayesian', 'random_strength': 0.6665273817517834, 'bagging_temperature': 0.8453128113061062, 'od_type': 'IncToDec', 'od_wait': 43}. Best is trial 58 with value: 0.026437968396982793.\n"
     ]
    },
    {
     "name": "stdout",
     "output_type": "stream",
     "text": [
      "('Catboost', 0.04487624853728823, 0.03532380661794427, 0.24951200826494135)\n"
     ]
    },
    {
     "name": "stderr",
     "output_type": "stream",
     "text": [
      "[I 2023-06-22 02:21:33,570] Trial 87 finished with value: 0.041249916863722036 and parameters: {'iterations': 892, 'learning_rate': 0.028143942967591342, 'depth': 5, 'l2_leaf_reg': 2.480419835041677e-06, 'bootstrap_type': 'Bayesian', 'random_strength': 2.4423949744651883, 'bagging_temperature': 1.2841377142581023, 'od_type': 'Iter', 'od_wait': 46}. Best is trial 58 with value: 0.026437968396982793.\n"
     ]
    },
    {
     "name": "stdout",
     "output_type": "stream",
     "text": [
      "('Catboost', 0.041249916863722036, 0.03472391819899187, -0.09902802131358501)\n"
     ]
    },
    {
     "name": "stderr",
     "output_type": "stream",
     "text": [
      "[I 2023-06-22 02:21:34,796] Trial 88 finished with value: 0.034348435329847105 and parameters: {'iterations': 633, 'learning_rate': 0.05322049499662835, 'depth': 6, 'l2_leaf_reg': 1.2592434910154974e-05, 'bootstrap_type': 'Bayesian', 'random_strength': 5.000111640212656, 'bagging_temperature': 2.1441297465363904, 'od_type': 'IncToDec', 'od_wait': 41}. Best is trial 58 with value: 0.026437968396982793.\n"
     ]
    },
    {
     "name": "stdout",
     "output_type": "stream",
     "text": [
      "('Catboost', 0.034348435329847105, 0.027492319910894018, 0.3431632132702619)\n"
     ]
    },
    {
     "name": "stderr",
     "output_type": "stream",
     "text": [
      "[I 2023-06-22 02:21:35,724] Trial 89 finished with value: 0.03578534021259437 and parameters: {'iterations': 818, 'learning_rate': 0.02512445761022151, 'depth': 4, 'l2_leaf_reg': 6.137454973841552e-07, 'bootstrap_type': 'Bayesian', 'random_strength': 1.7856762660382726, 'bagging_temperature': 0.3478228243092859, 'od_type': 'IncToDec', 'od_wait': 31}. Best is trial 58 with value: 0.026437968396982793.\n"
     ]
    },
    {
     "name": "stdout",
     "output_type": "stream",
     "text": [
      "('Catboost', 0.03578534021259437, 0.029397083528061262, 0.5134539203574762)\n"
     ]
    },
    {
     "name": "stderr",
     "output_type": "stream",
     "text": [
      "[I 2023-06-22 02:21:37,096] Trial 90 finished with value: 0.04031319113516267 and parameters: {'iterations': 724, 'learning_rate': 0.0342363785390193, 'depth': 6, 'l2_leaf_reg': 1.464966320259428e-06, 'bootstrap_type': 'Bayesian', 'random_strength': 0.6797574052128869, 'bagging_temperature': 1.6420158991645308, 'od_type': 'Iter', 'od_wait': 28}. Best is trial 58 with value: 0.026437968396982793.\n"
     ]
    },
    {
     "name": "stdout",
     "output_type": "stream",
     "text": [
      "('Catboost', 0.04031319113516267, 0.035036050558183346, 0.3566491128199545)\n"
     ]
    },
    {
     "name": "stderr",
     "output_type": "stream",
     "text": [
      "[I 2023-06-22 02:21:38,335] Trial 91 finished with value: 0.03933529393351014 and parameters: {'iterations': 630, 'learning_rate': 0.05306340550192237, 'depth': 6, 'l2_leaf_reg': 1.251328370437547e-05, 'bootstrap_type': 'Bayesian', 'random_strength': 5.170990210049187, 'bagging_temperature': 2.2471939990284144, 'od_type': 'IncToDec', 'od_wait': 39}. Best is trial 58 with value: 0.026437968396982793.\n"
     ]
    },
    {
     "name": "stdout",
     "output_type": "stream",
     "text": [
      "('Catboost', 0.03933529393351014, 0.03195888951010524, 0.39686548933830446)\n"
     ]
    },
    {
     "name": "stderr",
     "output_type": "stream",
     "text": [
      "[I 2023-06-22 02:21:39,550] Trial 92 finished with value: 0.052876429995619464 and parameters: {'iterations': 648, 'learning_rate': 0.04400404638721801, 'depth': 6, 'l2_leaf_reg': 7.639729794526478e-06, 'bootstrap_type': 'Bayesian', 'random_strength': 3.6602946408302537, 'bagging_temperature': 1.901291893306524, 'od_type': 'IncToDec', 'od_wait': 41}. Best is trial 58 with value: 0.026437968396982793.\n"
     ]
    },
    {
     "name": "stdout",
     "output_type": "stream",
     "text": [
      "('Catboost', 0.052876429995619464, 0.04364138409088273, 0.22124879719465051)\n"
     ]
    },
    {
     "name": "stderr",
     "output_type": "stream",
     "text": [
      "[I 2023-06-22 02:21:40,895] Trial 93 finished with value: 0.03681972075775787 and parameters: {'iterations': 681, 'learning_rate': 0.057467375447569996, 'depth': 6, 'l2_leaf_reg': 7.534126436739338e-05, 'bootstrap_type': 'Bayesian', 'random_strength': 9.888828219686395, 'bagging_temperature': 2.4774334238190927, 'od_type': 'IncToDec', 'od_wait': 42}. Best is trial 58 with value: 0.026437968396982793.\n"
     ]
    },
    {
     "name": "stdout",
     "output_type": "stream",
     "text": [
      "('Catboost', 0.03681972075775787, 0.031728908168363, 0.352128545728812)\n"
     ]
    },
    {
     "name": "stderr",
     "output_type": "stream",
     "text": [
      "[I 2023-06-22 02:21:42,543] Trial 94 finished with value: 0.036408240530441165 and parameters: {'iterations': 605, 'learning_rate': 0.049631266373024625, 'depth': 7, 'l2_leaf_reg': 2.3437940890854194e-05, 'bootstrap_type': 'Bayesian', 'random_strength': 6.202172265903577, 'bagging_temperature': 1.4302720197702836, 'od_type': 'IncToDec', 'od_wait': 44}. Best is trial 58 with value: 0.026437968396982793.\n"
     ]
    },
    {
     "name": "stdout",
     "output_type": "stream",
     "text": [
      "('Catboost', 0.036408240530441165, 0.027865682224189767, 0.3488816811205402)\n"
     ]
    },
    {
     "name": "stderr",
     "output_type": "stream",
     "text": [
      "[I 2023-06-22 02:21:43,725] Trial 95 finished with value: 0.04923813211559748 and parameters: {'iterations': 781, 'learning_rate': 0.06943348004673722, 'depth': 5, 'l2_leaf_reg': 3.7244415546496506e-06, 'bootstrap_type': 'Bayesian', 'random_strength': 1.6306282530358311, 'bagging_temperature': 3.035849784315812, 'od_type': 'IncToDec', 'od_wait': 41}. Best is trial 58 with value: 0.026437968396982793.\n"
     ]
    },
    {
     "name": "stdout",
     "output_type": "stream",
     "text": [
      "('Catboost', 0.04923813211559748, 0.04264623320944592, 0.16762580185238818)\n"
     ]
    },
    {
     "name": "stderr",
     "output_type": "stream",
     "text": [
      "[I 2023-06-22 02:21:55,462] Trial 96 finished with value: 0.04177177301975695 and parameters: {'iterations': 733, 'learning_rate': 0.03105680581273654, 'depth': 10, 'l2_leaf_reg': 4.2402112641106645e-05, 'bootstrap_type': 'Bayesian', 'random_strength': 3.3335671227879504, 'bagging_temperature': 1.0654013780258214, 'od_type': 'IncToDec', 'od_wait': 40}. Best is trial 58 with value: 0.026437968396982793.\n"
     ]
    },
    {
     "name": "stdout",
     "output_type": "stream",
     "text": [
      "('Catboost', 0.04177177301975695, 0.036052915390727976, 0.40941307934879756)\n"
     ]
    },
    {
     "name": "stderr",
     "output_type": "stream",
     "text": [
      "[I 2023-06-22 02:21:56,961] Trial 97 finished with value: 0.04299583529698311 and parameters: {'iterations': 791, 'learning_rate': 0.04098654042161016, 'depth': 6, 'l2_leaf_reg': 1.0844239545777673e-06, 'bootstrap_type': 'Bayesian', 'random_strength': 1.0976822541688356, 'bagging_temperature': 0.6540315985489955, 'od_type': 'IncToDec', 'od_wait': 37}. Best is trial 58 with value: 0.026437968396982793.\n"
     ]
    },
    {
     "name": "stdout",
     "output_type": "stream",
     "text": [
      "('Catboost', 0.04299583529698311, 0.034667601339443695, -0.015807816665741825)\n"
     ]
    },
    {
     "name": "stderr",
     "output_type": "stream",
     "text": [
      "[I 2023-06-22 02:21:58,754] Trial 98 finished with value: 0.040541823052823965 and parameters: {'iterations': 663, 'learning_rate': 0.03832357216840194, 'depth': 7, 'l2_leaf_reg': 1.1115851837700547e-05, 'bootstrap_type': 'Bayesian', 'random_strength': 6.18867125766955, 'bagging_temperature': 2.084447222058218, 'od_type': 'IncToDec', 'od_wait': 47}. Best is trial 58 with value: 0.026437968396982793.\n"
     ]
    },
    {
     "name": "stdout",
     "output_type": "stream",
     "text": [
      "('Catboost', 0.040541823052823965, 0.03346328246209946, -0.10494767542652728)\n"
     ]
    },
    {
     "name": "stderr",
     "output_type": "stream",
     "text": [
      "[I 2023-06-22 02:22:12,676] Trial 99 finished with value: 0.03528062773874751 and parameters: {'iterations': 836, 'learning_rate': 0.08028344635340928, 'depth': 10, 'l2_leaf_reg': 4.217323518217559e-07, 'bootstrap_type': 'Bayesian', 'random_strength': 0.28424185630338955, 'bagging_temperature': 2.563476436097984, 'od_type': 'IncToDec', 'od_wait': 45}. Best is trial 58 with value: 0.026437968396982793.\n"
     ]
    },
    {
     "name": "stdout",
     "output_type": "stream",
     "text": [
      "('Catboost', 0.03528062773874751, 0.028349582676150155, 0.2011040176230674)\n",
      "Number of finished trials: 100\n",
      "Best trial:\n",
      "  Value: 0.026437968396982793\n",
      "  Params: \n",
      "    iterations: 843\n",
      "    learning_rate: 0.03549668630252779\n",
      "    depth: 10\n",
      "    l2_leaf_reg: 2.7702750401932485e-06\n",
      "    bootstrap_type: Bayesian\n",
      "    random_strength: 1.989872891341923\n",
      "    bagging_temperature: 0.8515228814732063\n",
      "    od_type: IncToDec\n",
      "    od_wait: 44\n"
     ]
    }
   ],
   "source": [
    "from catboost import CatBoostRegressor\n",
    "from catboost import Pool\n",
    "import optuna\n",
    "from sklearn.metrics import mean_squared_error\n",
    "import Utils as utils\n",
    "\n",
    "def objective(trial):\n",
    "    data, target = dfX, y\n",
    "    train_x, test_x, train_y, test_y = train_test_split(data, target, test_size=0.2)\n",
    "    train_pool = Pool(train_x, train_y)\n",
    "    test_pool = Pool(test_x)\n",
    "\n",
    "    model = CatBoostRegressor(\n",
    "        iterations=trial.suggest_int(\"iterations\", 100, 1000),\n",
    "        learning_rate=trial.suggest_float(\"learning_rate\", 1e-3, 1e-1, log=True),\n",
    "        depth=trial.suggest_int(\"depth\", 4, 10),\n",
    "        l2_leaf_reg=trial.suggest_float(\"l2_leaf_reg\", 1e-8, 100.0, log=True),\n",
    "        bootstrap_type=trial.suggest_categorical(\"bootstrap_type\", [\"Bayesian\"]),\n",
    "        random_strength=trial.suggest_float(\"random_strength\", 1e-8, 10.0, log=True),\n",
    "        bagging_temperature=trial.suggest_float(\"bagging_temperature\", 0.0, 10.0),\n",
    "        od_type=trial.suggest_categorical(\"od_type\", [\"IncToDec\", \"Iter\"]),\n",
    "        od_wait=trial.suggest_int(\"od_wait\", 10, 50),\n",
    "        verbose=False\n",
    "    )\n",
    "    model.fit(train_pool, verbose=False)\n",
    "    preds = model.predict(test_pool)\n",
    "    results = utils.error_rate(\"Catboost\",preds,test_y)\n",
    "    print(results)\n",
    "\n",
    "    rmse = mean_squared_error(test_y, preds, squared=False)\n",
    "    return rmse\n",
    "\n",
    "\n",
    "sampler = optuna.samplers.TPESampler(seed=1)\n",
    "study = optuna.create_study(direction=\"minimize\",sampler = sampler)\n",
    "\n",
    "study.optimize(objective, n_trials=100, timeout=600)\n",
    "\n",
    "print(\"Number of finished trials: {}\".format(len(study.trials)))\n",
    "print(\"Best trial:\")\n",
    "trial = study.best_trial\n",
    "\n",
    "print(\"  Value: {}\".format(trial.value))\n",
    "\n",
    "print(\"  Params: \")\n",
    "for key, value in trial.params.items():\n",
    "    print(\"    {}: {}\".format(key, value))\n"
   ]
  },
  {
   "cell_type": "code",
   "execution_count": null,
   "metadata": {},
   "outputs": [],
   "source": []
  },
  {
   "cell_type": "code",
   "execution_count": 23,
   "metadata": {},
   "outputs": [
    {
     "name": "stdout",
     "output_type": "stream",
     "text": [
      "{'nan_mode': 'Min', 'eval_metric': 'RMSE', 'iterations': 843, 'sampling_frequency': 'PerTree', 'leaf_estimation_method': 'Newton', 'od_pval': 0, 'grow_policy': 'SymmetricTree', 'penalties_coefficient': 1, 'boosting_type': 'Plain', 'model_shrink_mode': 'Constant', 'feature_border_type': 'GreedyLogSum', 'bayesian_matrix_reg': 0.10000000149011612, 'eval_fraction': 0, 'force_unit_auto_pair_weights': False, 'l2_leaf_reg': 2.7702749321179e-06, 'random_strength': 1.989872932434082, 'od_type': 'IncToDec', 'rsm': 1, 'boost_from_average': True, 'model_size_reg': 0.5, 'pool_metainfo_options': {'tags': {}}, 'use_best_model': False, 'od_wait': 44, 'random_seed': 0, 'depth': 10, 'posterior_sampling': False, 'border_count': 254, 'bagging_temperature': 0.8515228629112244, 'classes_count': 0, 'auto_class_weights': 'None', 'sparse_features_conflict_fraction': 0, 'leaf_estimation_backtracking': 'AnyImprovement', 'best_model_min_trees': 1, 'model_shrink_rate': 0, 'min_data_in_leaf': 1, 'loss_function': 'RMSE', 'learning_rate': 0.03549668565392494, 'score_function': 'Cosine', 'task_type': 'CPU', 'leaf_estimation_iterations': 1, 'bootstrap_type': 'Bayesian', 'max_leaves': 1024}\n",
      "{'nan_mode': 'Min', 'eval_metric': 'RMSE', 'iterations': 843, 'sampling_frequency': 'PerTree', 'leaf_estimation_method': 'Newton', 'od_pval': 0, 'grow_policy': 'SymmetricTree', 'penalties_coefficient': 1, 'boosting_type': 'Plain', 'model_shrink_mode': 'Constant', 'feature_border_type': 'GreedyLogSum', 'bayesian_matrix_reg': 0.10000000149011612, 'eval_fraction': 0, 'force_unit_auto_pair_weights': False, 'l2_leaf_reg': 2.7702749321179e-06, 'random_strength': 1.989872932434082, 'od_type': 'IncToDec', 'rsm': 1, 'boost_from_average': True, 'model_size_reg': 0.5, 'pool_metainfo_options': {'tags': {}}, 'use_best_model': False, 'od_wait': 44, 'random_seed': 0, 'depth': 10, 'posterior_sampling': False, 'border_count': 254, 'bagging_temperature': 0.8515228629112244, 'classes_count': 0, 'auto_class_weights': 'None', 'sparse_features_conflict_fraction': 0, 'leaf_estimation_backtracking': 'AnyImprovement', 'best_model_min_trees': 1, 'model_shrink_rate': 0, 'min_data_in_leaf': 1, 'loss_function': 'RMSE', 'learning_rate': 0.03549668565392494, 'score_function': 'Cosine', 'task_type': 'CPU', 'leaf_estimation_iterations': 1, 'bootstrap_type': 'Bayesian', 'max_leaves': 1024}\n",
      "{'nan_mode': 'Min', 'eval_metric': 'RMSE', 'iterations': 843, 'sampling_frequency': 'PerTree', 'leaf_estimation_method': 'Newton', 'od_pval': 0, 'grow_policy': 'SymmetricTree', 'penalties_coefficient': 1, 'boosting_type': 'Plain', 'model_shrink_mode': 'Constant', 'feature_border_type': 'GreedyLogSum', 'bayesian_matrix_reg': 0.10000000149011612, 'eval_fraction': 0, 'force_unit_auto_pair_weights': False, 'l2_leaf_reg': 2.7702749321179e-06, 'random_strength': 1.989872932434082, 'od_type': 'IncToDec', 'rsm': 1, 'boost_from_average': True, 'model_size_reg': 0.5, 'pool_metainfo_options': {'tags': {}}, 'use_best_model': False, 'od_wait': 44, 'random_seed': 0, 'depth': 10, 'posterior_sampling': False, 'border_count': 254, 'bagging_temperature': 0.8515228629112244, 'classes_count': 0, 'auto_class_weights': 'None', 'sparse_features_conflict_fraction': 0, 'leaf_estimation_backtracking': 'AnyImprovement', 'best_model_min_trees': 1, 'model_shrink_rate': 0, 'min_data_in_leaf': 1, 'loss_function': 'RMSE', 'learning_rate': 0.03549668565392494, 'score_function': 'Cosine', 'task_type': 'CPU', 'leaf_estimation_iterations': 1, 'bootstrap_type': 'Bayesian', 'max_leaves': 1024}\n",
      "{'nan_mode': 'Min', 'eval_metric': 'RMSE', 'iterations': 843, 'sampling_frequency': 'PerTree', 'leaf_estimation_method': 'Newton', 'od_pval': 0, 'grow_policy': 'SymmetricTree', 'penalties_coefficient': 1, 'boosting_type': 'Plain', 'model_shrink_mode': 'Constant', 'feature_border_type': 'GreedyLogSum', 'bayesian_matrix_reg': 0.10000000149011612, 'eval_fraction': 0, 'force_unit_auto_pair_weights': False, 'l2_leaf_reg': 2.7702749321179e-06, 'random_strength': 1.989872932434082, 'od_type': 'IncToDec', 'rsm': 1, 'boost_from_average': True, 'model_size_reg': 0.5, 'pool_metainfo_options': {'tags': {}}, 'use_best_model': False, 'od_wait': 44, 'random_seed': 0, 'depth': 10, 'posterior_sampling': False, 'border_count': 254, 'bagging_temperature': 0.8515228629112244, 'classes_count': 0, 'auto_class_weights': 'None', 'sparse_features_conflict_fraction': 0, 'leaf_estimation_backtracking': 'AnyImprovement', 'best_model_min_trees': 1, 'model_shrink_rate': 0, 'min_data_in_leaf': 1, 'loss_function': 'RMSE', 'learning_rate': 0.03549668565392494, 'score_function': 'Cosine', 'task_type': 'CPU', 'leaf_estimation_iterations': 1, 'bootstrap_type': 'Bayesian', 'max_leaves': 1024}\n",
      "{'nan_mode': 'Min', 'eval_metric': 'RMSE', 'iterations': 843, 'sampling_frequency': 'PerTree', 'leaf_estimation_method': 'Newton', 'od_pval': 0, 'grow_policy': 'SymmetricTree', 'penalties_coefficient': 1, 'boosting_type': 'Plain', 'model_shrink_mode': 'Constant', 'feature_border_type': 'GreedyLogSum', 'bayesian_matrix_reg': 0.10000000149011612, 'eval_fraction': 0, 'force_unit_auto_pair_weights': False, 'l2_leaf_reg': 2.7702749321179e-06, 'random_strength': 1.989872932434082, 'od_type': 'IncToDec', 'rsm': 1, 'boost_from_average': True, 'model_size_reg': 0.5, 'pool_metainfo_options': {'tags': {}}, 'use_best_model': False, 'od_wait': 44, 'random_seed': 0, 'depth': 10, 'posterior_sampling': False, 'border_count': 254, 'bagging_temperature': 0.8515228629112244, 'classes_count': 0, 'auto_class_weights': 'None', 'sparse_features_conflict_fraction': 0, 'leaf_estimation_backtracking': 'AnyImprovement', 'best_model_min_trees': 1, 'model_shrink_rate': 0, 'min_data_in_leaf': 1, 'loss_function': 'RMSE', 'learning_rate': 0.03549668565392494, 'score_function': 'Cosine', 'task_type': 'CPU', 'leaf_estimation_iterations': 1, 'bootstrap_type': 'Bayesian', 'max_leaves': 1024}\n",
      "{'nan_mode': 'Min', 'eval_metric': 'RMSE', 'iterations': 843, 'sampling_frequency': 'PerTree', 'leaf_estimation_method': 'Newton', 'od_pval': 0, 'grow_policy': 'SymmetricTree', 'penalties_coefficient': 1, 'boosting_type': 'Plain', 'model_shrink_mode': 'Constant', 'feature_border_type': 'GreedyLogSum', 'bayesian_matrix_reg': 0.10000000149011612, 'eval_fraction': 0, 'force_unit_auto_pair_weights': False, 'l2_leaf_reg': 2.7702749321179e-06, 'random_strength': 1.989872932434082, 'od_type': 'IncToDec', 'rsm': 1, 'boost_from_average': True, 'model_size_reg': 0.5, 'pool_metainfo_options': {'tags': {}}, 'use_best_model': False, 'od_wait': 44, 'random_seed': 0, 'depth': 10, 'posterior_sampling': False, 'border_count': 254, 'bagging_temperature': 0.8515228629112244, 'classes_count': 0, 'auto_class_weights': 'None', 'sparse_features_conflict_fraction': 0, 'leaf_estimation_backtracking': 'AnyImprovement', 'best_model_min_trees': 1, 'model_shrink_rate': 0, 'min_data_in_leaf': 1, 'loss_function': 'RMSE', 'learning_rate': 0.03549668565392494, 'score_function': 'Cosine', 'task_type': 'CPU', 'leaf_estimation_iterations': 1, 'bootstrap_type': 'Bayesian', 'max_leaves': 1024}\n",
      "{'nan_mode': 'Min', 'eval_metric': 'RMSE', 'iterations': 843, 'sampling_frequency': 'PerTree', 'leaf_estimation_method': 'Newton', 'od_pval': 0, 'grow_policy': 'SymmetricTree', 'penalties_coefficient': 1, 'boosting_type': 'Plain', 'model_shrink_mode': 'Constant', 'feature_border_type': 'GreedyLogSum', 'bayesian_matrix_reg': 0.10000000149011612, 'eval_fraction': 0, 'force_unit_auto_pair_weights': False, 'l2_leaf_reg': 2.7702749321179e-06, 'random_strength': 1.989872932434082, 'od_type': 'IncToDec', 'rsm': 1, 'boost_from_average': True, 'model_size_reg': 0.5, 'pool_metainfo_options': {'tags': {}}, 'use_best_model': False, 'od_wait': 44, 'random_seed': 0, 'depth': 10, 'posterior_sampling': False, 'border_count': 254, 'bagging_temperature': 0.8515228629112244, 'classes_count': 0, 'auto_class_weights': 'None', 'sparse_features_conflict_fraction': 0, 'leaf_estimation_backtracking': 'AnyImprovement', 'best_model_min_trees': 1, 'model_shrink_rate': 0, 'min_data_in_leaf': 1, 'loss_function': 'RMSE', 'learning_rate': 0.03549668565392494, 'score_function': 'Cosine', 'task_type': 'CPU', 'leaf_estimation_iterations': 1, 'bootstrap_type': 'Bayesian', 'max_leaves': 1024}\n",
      "{'nan_mode': 'Min', 'eval_metric': 'RMSE', 'iterations': 843, 'sampling_frequency': 'PerTree', 'leaf_estimation_method': 'Newton', 'od_pval': 0, 'grow_policy': 'SymmetricTree', 'penalties_coefficient': 1, 'boosting_type': 'Plain', 'model_shrink_mode': 'Constant', 'feature_border_type': 'GreedyLogSum', 'bayesian_matrix_reg': 0.10000000149011612, 'eval_fraction': 0, 'force_unit_auto_pair_weights': False, 'l2_leaf_reg': 2.7702749321179e-06, 'random_strength': 1.989872932434082, 'od_type': 'IncToDec', 'rsm': 1, 'boost_from_average': True, 'model_size_reg': 0.5, 'pool_metainfo_options': {'tags': {}}, 'use_best_model': False, 'od_wait': 44, 'random_seed': 0, 'depth': 10, 'posterior_sampling': False, 'border_count': 254, 'bagging_temperature': 0.8515228629112244, 'classes_count': 0, 'auto_class_weights': 'None', 'sparse_features_conflict_fraction': 0, 'leaf_estimation_backtracking': 'AnyImprovement', 'best_model_min_trees': 1, 'model_shrink_rate': 0, 'min_data_in_leaf': 1, 'loss_function': 'RMSE', 'learning_rate': 0.03549668565392494, 'score_function': 'Cosine', 'task_type': 'CPU', 'leaf_estimation_iterations': 1, 'bootstrap_type': 'Bayesian', 'max_leaves': 1024}\n",
      "{'nan_mode': 'Min', 'eval_metric': 'RMSE', 'iterations': 843, 'sampling_frequency': 'PerTree', 'leaf_estimation_method': 'Newton', 'od_pval': 0, 'grow_policy': 'SymmetricTree', 'penalties_coefficient': 1, 'boosting_type': 'Plain', 'model_shrink_mode': 'Constant', 'feature_border_type': 'GreedyLogSum', 'bayesian_matrix_reg': 0.10000000149011612, 'eval_fraction': 0, 'force_unit_auto_pair_weights': False, 'l2_leaf_reg': 2.7702749321179e-06, 'random_strength': 1.989872932434082, 'od_type': 'IncToDec', 'rsm': 1, 'boost_from_average': True, 'model_size_reg': 0.5, 'pool_metainfo_options': {'tags': {}}, 'use_best_model': False, 'od_wait': 44, 'random_seed': 0, 'depth': 10, 'posterior_sampling': False, 'border_count': 254, 'bagging_temperature': 0.8515228629112244, 'classes_count': 0, 'auto_class_weights': 'None', 'sparse_features_conflict_fraction': 0, 'leaf_estimation_backtracking': 'AnyImprovement', 'best_model_min_trees': 1, 'model_shrink_rate': 0, 'min_data_in_leaf': 1, 'loss_function': 'RMSE', 'learning_rate': 0.03549668565392494, 'score_function': 'Cosine', 'task_type': 'CPU', 'leaf_estimation_iterations': 1, 'bootstrap_type': 'Bayesian', 'max_leaves': 1024}\n",
      "{'nan_mode': 'Min', 'eval_metric': 'RMSE', 'iterations': 843, 'sampling_frequency': 'PerTree', 'leaf_estimation_method': 'Newton', 'od_pval': 0, 'grow_policy': 'SymmetricTree', 'penalties_coefficient': 1, 'boosting_type': 'Plain', 'model_shrink_mode': 'Constant', 'feature_border_type': 'GreedyLogSum', 'bayesian_matrix_reg': 0.10000000149011612, 'eval_fraction': 0, 'force_unit_auto_pair_weights': False, 'l2_leaf_reg': 2.7702749321179e-06, 'random_strength': 1.989872932434082, 'od_type': 'IncToDec', 'rsm': 1, 'boost_from_average': True, 'model_size_reg': 0.5, 'pool_metainfo_options': {'tags': {}}, 'use_best_model': False, 'od_wait': 44, 'random_seed': 0, 'depth': 10, 'posterior_sampling': False, 'border_count': 254, 'bagging_temperature': 0.8515228629112244, 'classes_count': 0, 'auto_class_weights': 'None', 'sparse_features_conflict_fraction': 0, 'leaf_estimation_backtracking': 'AnyImprovement', 'best_model_min_trees': 1, 'model_shrink_rate': 0, 'min_data_in_leaf': 1, 'loss_function': 'RMSE', 'learning_rate': 0.03549668565392494, 'score_function': 'Cosine', 'task_type': 'CPU', 'leaf_estimation_iterations': 1, 'bootstrap_type': 'Bayesian', 'max_leaves': 1024}\n",
      "{'nan_mode': 'Min', 'eval_metric': 'RMSE', 'iterations': 843, 'sampling_frequency': 'PerTree', 'leaf_estimation_method': 'Newton', 'od_pval': 0, 'grow_policy': 'SymmetricTree', 'penalties_coefficient': 1, 'boosting_type': 'Plain', 'model_shrink_mode': 'Constant', 'feature_border_type': 'GreedyLogSum', 'bayesian_matrix_reg': 0.10000000149011612, 'eval_fraction': 0, 'force_unit_auto_pair_weights': False, 'l2_leaf_reg': 2.7702749321179e-06, 'random_strength': 1.989872932434082, 'od_type': 'IncToDec', 'rsm': 1, 'boost_from_average': True, 'model_size_reg': 0.5, 'pool_metainfo_options': {'tags': {}}, 'use_best_model': False, 'od_wait': 44, 'random_seed': 0, 'depth': 10, 'posterior_sampling': False, 'border_count': 254, 'bagging_temperature': 0.8515228629112244, 'classes_count': 0, 'auto_class_weights': 'None', 'sparse_features_conflict_fraction': 0, 'leaf_estimation_backtracking': 'AnyImprovement', 'best_model_min_trees': 1, 'model_shrink_rate': 0, 'min_data_in_leaf': 1, 'loss_function': 'RMSE', 'learning_rate': 0.03549668565392494, 'score_function': 'Cosine', 'task_type': 'CPU', 'leaf_estimation_iterations': 1, 'bootstrap_type': 'Bayesian', 'max_leaves': 1024}\n",
      "{'nan_mode': 'Min', 'eval_metric': 'RMSE', 'iterations': 843, 'sampling_frequency': 'PerTree', 'leaf_estimation_method': 'Newton', 'od_pval': 0, 'grow_policy': 'SymmetricTree', 'penalties_coefficient': 1, 'boosting_type': 'Plain', 'model_shrink_mode': 'Constant', 'feature_border_type': 'GreedyLogSum', 'bayesian_matrix_reg': 0.10000000149011612, 'eval_fraction': 0, 'force_unit_auto_pair_weights': False, 'l2_leaf_reg': 2.7702749321179e-06, 'random_strength': 1.989872932434082, 'od_type': 'IncToDec', 'rsm': 1, 'boost_from_average': True, 'model_size_reg': 0.5, 'pool_metainfo_options': {'tags': {}}, 'use_best_model': False, 'od_wait': 44, 'random_seed': 0, 'depth': 10, 'posterior_sampling': False, 'border_count': 254, 'bagging_temperature': 0.8515228629112244, 'classes_count': 0, 'auto_class_weights': 'None', 'sparse_features_conflict_fraction': 0, 'leaf_estimation_backtracking': 'AnyImprovement', 'best_model_min_trees': 1, 'model_shrink_rate': 0, 'min_data_in_leaf': 1, 'loss_function': 'RMSE', 'learning_rate': 0.03549668565392494, 'score_function': 'Cosine', 'task_type': 'CPU', 'leaf_estimation_iterations': 1, 'bootstrap_type': 'Bayesian', 'max_leaves': 1024}\n",
      "{'nan_mode': 'Min', 'eval_metric': 'RMSE', 'iterations': 843, 'sampling_frequency': 'PerTree', 'leaf_estimation_method': 'Newton', 'od_pval': 0, 'grow_policy': 'SymmetricTree', 'penalties_coefficient': 1, 'boosting_type': 'Plain', 'model_shrink_mode': 'Constant', 'feature_border_type': 'GreedyLogSum', 'bayesian_matrix_reg': 0.10000000149011612, 'eval_fraction': 0, 'force_unit_auto_pair_weights': False, 'l2_leaf_reg': 2.7702749321179e-06, 'random_strength': 1.989872932434082, 'od_type': 'IncToDec', 'rsm': 1, 'boost_from_average': True, 'model_size_reg': 0.5, 'pool_metainfo_options': {'tags': {}}, 'use_best_model': False, 'od_wait': 44, 'random_seed': 0, 'depth': 10, 'posterior_sampling': False, 'border_count': 254, 'bagging_temperature': 0.8515228629112244, 'classes_count': 0, 'auto_class_weights': 'None', 'sparse_features_conflict_fraction': 0, 'leaf_estimation_backtracking': 'AnyImprovement', 'best_model_min_trees': 1, 'model_shrink_rate': 0, 'min_data_in_leaf': 1, 'loss_function': 'RMSE', 'learning_rate': 0.03549668565392494, 'score_function': 'Cosine', 'task_type': 'CPU', 'leaf_estimation_iterations': 1, 'bootstrap_type': 'Bayesian', 'max_leaves': 1024}\n",
      "{'nan_mode': 'Min', 'eval_metric': 'RMSE', 'iterations': 843, 'sampling_frequency': 'PerTree', 'leaf_estimation_method': 'Newton', 'od_pval': 0, 'grow_policy': 'SymmetricTree', 'penalties_coefficient': 1, 'boosting_type': 'Plain', 'model_shrink_mode': 'Constant', 'feature_border_type': 'GreedyLogSum', 'bayesian_matrix_reg': 0.10000000149011612, 'eval_fraction': 0, 'force_unit_auto_pair_weights': False, 'l2_leaf_reg': 2.7702749321179e-06, 'random_strength': 1.989872932434082, 'od_type': 'IncToDec', 'rsm': 1, 'boost_from_average': True, 'model_size_reg': 0.5, 'pool_metainfo_options': {'tags': {}}, 'use_best_model': False, 'od_wait': 44, 'random_seed': 0, 'depth': 10, 'posterior_sampling': False, 'border_count': 254, 'bagging_temperature': 0.8515228629112244, 'classes_count': 0, 'auto_class_weights': 'None', 'sparse_features_conflict_fraction': 0, 'leaf_estimation_backtracking': 'AnyImprovement', 'best_model_min_trees': 1, 'model_shrink_rate': 0, 'min_data_in_leaf': 1, 'loss_function': 'RMSE', 'learning_rate': 0.03549668565392494, 'score_function': 'Cosine', 'task_type': 'CPU', 'leaf_estimation_iterations': 1, 'bootstrap_type': 'Bayesian', 'max_leaves': 1024}\n",
      "{'nan_mode': 'Min', 'eval_metric': 'RMSE', 'iterations': 843, 'sampling_frequency': 'PerTree', 'leaf_estimation_method': 'Newton', 'od_pval': 0, 'grow_policy': 'SymmetricTree', 'penalties_coefficient': 1, 'boosting_type': 'Plain', 'model_shrink_mode': 'Constant', 'feature_border_type': 'GreedyLogSum', 'bayesian_matrix_reg': 0.10000000149011612, 'eval_fraction': 0, 'force_unit_auto_pair_weights': False, 'l2_leaf_reg': 2.7702749321179e-06, 'random_strength': 1.989872932434082, 'od_type': 'IncToDec', 'rsm': 1, 'boost_from_average': True, 'model_size_reg': 0.5, 'pool_metainfo_options': {'tags': {}}, 'use_best_model': False, 'od_wait': 44, 'random_seed': 0, 'depth': 10, 'posterior_sampling': False, 'border_count': 254, 'bagging_temperature': 0.8515228629112244, 'classes_count': 0, 'auto_class_weights': 'None', 'sparse_features_conflict_fraction': 0, 'leaf_estimation_backtracking': 'AnyImprovement', 'best_model_min_trees': 1, 'model_shrink_rate': 0, 'min_data_in_leaf': 1, 'loss_function': 'RMSE', 'learning_rate': 0.03549668565392494, 'score_function': 'Cosine', 'task_type': 'CPU', 'leaf_estimation_iterations': 1, 'bootstrap_type': 'Bayesian', 'max_leaves': 1024}\n",
      "{'nan_mode': 'Min', 'eval_metric': 'RMSE', 'iterations': 843, 'sampling_frequency': 'PerTree', 'leaf_estimation_method': 'Newton', 'od_pval': 0, 'grow_policy': 'SymmetricTree', 'penalties_coefficient': 1, 'boosting_type': 'Plain', 'model_shrink_mode': 'Constant', 'feature_border_type': 'GreedyLogSum', 'bayesian_matrix_reg': 0.10000000149011612, 'eval_fraction': 0, 'force_unit_auto_pair_weights': False, 'l2_leaf_reg': 2.7702749321179e-06, 'random_strength': 1.989872932434082, 'od_type': 'IncToDec', 'rsm': 1, 'boost_from_average': True, 'model_size_reg': 0.5, 'pool_metainfo_options': {'tags': {}}, 'use_best_model': False, 'od_wait': 44, 'random_seed': 0, 'depth': 10, 'posterior_sampling': False, 'border_count': 254, 'bagging_temperature': 0.8515228629112244, 'classes_count': 0, 'auto_class_weights': 'None', 'sparse_features_conflict_fraction': 0, 'leaf_estimation_backtracking': 'AnyImprovement', 'best_model_min_trees': 1, 'model_shrink_rate': 0, 'min_data_in_leaf': 1, 'loss_function': 'RMSE', 'learning_rate': 0.03549668565392494, 'score_function': 'Cosine', 'task_type': 'CPU', 'leaf_estimation_iterations': 1, 'bootstrap_type': 'Bayesian', 'max_leaves': 1024}\n",
      "{'nan_mode': 'Min', 'eval_metric': 'RMSE', 'iterations': 843, 'sampling_frequency': 'PerTree', 'leaf_estimation_method': 'Newton', 'od_pval': 0, 'grow_policy': 'SymmetricTree', 'penalties_coefficient': 1, 'boosting_type': 'Plain', 'model_shrink_mode': 'Constant', 'feature_border_type': 'GreedyLogSum', 'bayesian_matrix_reg': 0.10000000149011612, 'eval_fraction': 0, 'force_unit_auto_pair_weights': False, 'l2_leaf_reg': 2.7702749321179e-06, 'random_strength': 1.989872932434082, 'od_type': 'IncToDec', 'rsm': 1, 'boost_from_average': True, 'model_size_reg': 0.5, 'pool_metainfo_options': {'tags': {}}, 'use_best_model': False, 'od_wait': 44, 'random_seed': 0, 'depth': 10, 'posterior_sampling': False, 'border_count': 254, 'bagging_temperature': 0.8515228629112244, 'classes_count': 0, 'auto_class_weights': 'None', 'sparse_features_conflict_fraction': 0, 'leaf_estimation_backtracking': 'AnyImprovement', 'best_model_min_trees': 1, 'model_shrink_rate': 0, 'min_data_in_leaf': 1, 'loss_function': 'RMSE', 'learning_rate': 0.03549668565392494, 'score_function': 'Cosine', 'task_type': 'CPU', 'leaf_estimation_iterations': 1, 'bootstrap_type': 'Bayesian', 'max_leaves': 1024}\n",
      "{'nan_mode': 'Min', 'eval_metric': 'RMSE', 'iterations': 843, 'sampling_frequency': 'PerTree', 'leaf_estimation_method': 'Newton', 'od_pval': 0, 'grow_policy': 'SymmetricTree', 'penalties_coefficient': 1, 'boosting_type': 'Plain', 'model_shrink_mode': 'Constant', 'feature_border_type': 'GreedyLogSum', 'bayesian_matrix_reg': 0.10000000149011612, 'eval_fraction': 0, 'force_unit_auto_pair_weights': False, 'l2_leaf_reg': 2.7702749321179e-06, 'random_strength': 1.989872932434082, 'od_type': 'IncToDec', 'rsm': 1, 'boost_from_average': True, 'model_size_reg': 0.5, 'pool_metainfo_options': {'tags': {}}, 'use_best_model': False, 'od_wait': 44, 'random_seed': 0, 'depth': 10, 'posterior_sampling': False, 'border_count': 254, 'bagging_temperature': 0.8515228629112244, 'classes_count': 0, 'auto_class_weights': 'None', 'sparse_features_conflict_fraction': 0, 'leaf_estimation_backtracking': 'AnyImprovement', 'best_model_min_trees': 1, 'model_shrink_rate': 0, 'min_data_in_leaf': 1, 'loss_function': 'RMSE', 'learning_rate': 0.03549668565392494, 'score_function': 'Cosine', 'task_type': 'CPU', 'leaf_estimation_iterations': 1, 'bootstrap_type': 'Bayesian', 'max_leaves': 1024}\n",
      "{'nan_mode': 'Min', 'eval_metric': 'RMSE', 'iterations': 843, 'sampling_frequency': 'PerTree', 'leaf_estimation_method': 'Newton', 'od_pval': 0, 'grow_policy': 'SymmetricTree', 'penalties_coefficient': 1, 'boosting_type': 'Plain', 'model_shrink_mode': 'Constant', 'feature_border_type': 'GreedyLogSum', 'bayesian_matrix_reg': 0.10000000149011612, 'eval_fraction': 0, 'force_unit_auto_pair_weights': False, 'l2_leaf_reg': 2.7702749321179e-06, 'random_strength': 1.989872932434082, 'od_type': 'IncToDec', 'rsm': 1, 'boost_from_average': True, 'model_size_reg': 0.5, 'pool_metainfo_options': {'tags': {}}, 'use_best_model': False, 'od_wait': 44, 'random_seed': 0, 'depth': 10, 'posterior_sampling': False, 'border_count': 254, 'bagging_temperature': 0.8515228629112244, 'classes_count': 0, 'auto_class_weights': 'None', 'sparse_features_conflict_fraction': 0, 'leaf_estimation_backtracking': 'AnyImprovement', 'best_model_min_trees': 1, 'model_shrink_rate': 0, 'min_data_in_leaf': 1, 'loss_function': 'RMSE', 'learning_rate': 0.03549668565392494, 'score_function': 'Cosine', 'task_type': 'CPU', 'leaf_estimation_iterations': 1, 'bootstrap_type': 'Bayesian', 'max_leaves': 1024}\n",
      "{'nan_mode': 'Min', 'eval_metric': 'RMSE', 'iterations': 843, 'sampling_frequency': 'PerTree', 'leaf_estimation_method': 'Newton', 'od_pval': 0, 'grow_policy': 'SymmetricTree', 'penalties_coefficient': 1, 'boosting_type': 'Plain', 'model_shrink_mode': 'Constant', 'feature_border_type': 'GreedyLogSum', 'bayesian_matrix_reg': 0.10000000149011612, 'eval_fraction': 0, 'force_unit_auto_pair_weights': False, 'l2_leaf_reg': 2.7702749321179e-06, 'random_strength': 1.989872932434082, 'od_type': 'IncToDec', 'rsm': 1, 'boost_from_average': True, 'model_size_reg': 0.5, 'pool_metainfo_options': {'tags': {}}, 'use_best_model': False, 'od_wait': 44, 'random_seed': 0, 'depth': 10, 'posterior_sampling': False, 'border_count': 254, 'bagging_temperature': 0.8515228629112244, 'classes_count': 0, 'auto_class_weights': 'None', 'sparse_features_conflict_fraction': 0, 'leaf_estimation_backtracking': 'AnyImprovement', 'best_model_min_trees': 1, 'model_shrink_rate': 0, 'min_data_in_leaf': 1, 'loss_function': 'RMSE', 'learning_rate': 0.03549668565392494, 'score_function': 'Cosine', 'task_type': 'CPU', 'leaf_estimation_iterations': 1, 'bootstrap_type': 'Bayesian', 'max_leaves': 1024}\n",
      "{'nan_mode': 'Min', 'eval_metric': 'RMSE', 'iterations': 843, 'sampling_frequency': 'PerTree', 'leaf_estimation_method': 'Newton', 'od_pval': 0, 'grow_policy': 'SymmetricTree', 'penalties_coefficient': 1, 'boosting_type': 'Plain', 'model_shrink_mode': 'Constant', 'feature_border_type': 'GreedyLogSum', 'bayesian_matrix_reg': 0.10000000149011612, 'eval_fraction': 0, 'force_unit_auto_pair_weights': False, 'l2_leaf_reg': 2.7702749321179e-06, 'random_strength': 1.989872932434082, 'od_type': 'IncToDec', 'rsm': 1, 'boost_from_average': True, 'model_size_reg': 0.5, 'pool_metainfo_options': {'tags': {}}, 'use_best_model': False, 'od_wait': 44, 'random_seed': 0, 'depth': 10, 'posterior_sampling': False, 'border_count': 254, 'bagging_temperature': 0.8515228629112244, 'classes_count': 0, 'auto_class_weights': 'None', 'sparse_features_conflict_fraction': 0, 'leaf_estimation_backtracking': 'AnyImprovement', 'best_model_min_trees': 1, 'model_shrink_rate': 0, 'min_data_in_leaf': 1, 'loss_function': 'RMSE', 'learning_rate': 0.03549668565392494, 'score_function': 'Cosine', 'task_type': 'CPU', 'leaf_estimation_iterations': 1, 'bootstrap_type': 'Bayesian', 'max_leaves': 1024}\n",
      "{'nan_mode': 'Min', 'eval_metric': 'RMSE', 'iterations': 843, 'sampling_frequency': 'PerTree', 'leaf_estimation_method': 'Newton', 'od_pval': 0, 'grow_policy': 'SymmetricTree', 'penalties_coefficient': 1, 'boosting_type': 'Plain', 'model_shrink_mode': 'Constant', 'feature_border_type': 'GreedyLogSum', 'bayesian_matrix_reg': 0.10000000149011612, 'eval_fraction': 0, 'force_unit_auto_pair_weights': False, 'l2_leaf_reg': 2.7702749321179e-06, 'random_strength': 1.989872932434082, 'od_type': 'IncToDec', 'rsm': 1, 'boost_from_average': True, 'model_size_reg': 0.5, 'pool_metainfo_options': {'tags': {}}, 'use_best_model': False, 'od_wait': 44, 'random_seed': 0, 'depth': 10, 'posterior_sampling': False, 'border_count': 254, 'bagging_temperature': 0.8515228629112244, 'classes_count': 0, 'auto_class_weights': 'None', 'sparse_features_conflict_fraction': 0, 'leaf_estimation_backtracking': 'AnyImprovement', 'best_model_min_trees': 1, 'model_shrink_rate': 0, 'min_data_in_leaf': 1, 'loss_function': 'RMSE', 'learning_rate': 0.03549668565392494, 'score_function': 'Cosine', 'task_type': 'CPU', 'leaf_estimation_iterations': 1, 'bootstrap_type': 'Bayesian', 'max_leaves': 1024}\n",
      "{'nan_mode': 'Min', 'eval_metric': 'RMSE', 'iterations': 843, 'sampling_frequency': 'PerTree', 'leaf_estimation_method': 'Newton', 'od_pval': 0, 'grow_policy': 'SymmetricTree', 'penalties_coefficient': 1, 'boosting_type': 'Plain', 'model_shrink_mode': 'Constant', 'feature_border_type': 'GreedyLogSum', 'bayesian_matrix_reg': 0.10000000149011612, 'eval_fraction': 0, 'force_unit_auto_pair_weights': False, 'l2_leaf_reg': 2.7702749321179e-06, 'random_strength': 1.989872932434082, 'od_type': 'IncToDec', 'rsm': 1, 'boost_from_average': True, 'model_size_reg': 0.5, 'pool_metainfo_options': {'tags': {}}, 'use_best_model': False, 'od_wait': 44, 'random_seed': 0, 'depth': 10, 'posterior_sampling': False, 'border_count': 254, 'bagging_temperature': 0.8515228629112244, 'classes_count': 0, 'auto_class_weights': 'None', 'sparse_features_conflict_fraction': 0, 'leaf_estimation_backtracking': 'AnyImprovement', 'best_model_min_trees': 1, 'model_shrink_rate': 0, 'min_data_in_leaf': 1, 'loss_function': 'RMSE', 'learning_rate': 0.03549668565392494, 'score_function': 'Cosine', 'task_type': 'CPU', 'leaf_estimation_iterations': 1, 'bootstrap_type': 'Bayesian', 'max_leaves': 1024}\n",
      "{'nan_mode': 'Min', 'eval_metric': 'RMSE', 'iterations': 843, 'sampling_frequency': 'PerTree', 'leaf_estimation_method': 'Newton', 'od_pval': 0, 'grow_policy': 'SymmetricTree', 'penalties_coefficient': 1, 'boosting_type': 'Plain', 'model_shrink_mode': 'Constant', 'feature_border_type': 'GreedyLogSum', 'bayesian_matrix_reg': 0.10000000149011612, 'eval_fraction': 0, 'force_unit_auto_pair_weights': False, 'l2_leaf_reg': 2.7702749321179e-06, 'random_strength': 1.989872932434082, 'od_type': 'IncToDec', 'rsm': 1, 'boost_from_average': True, 'model_size_reg': 0.5, 'pool_metainfo_options': {'tags': {}}, 'use_best_model': False, 'od_wait': 44, 'random_seed': 0, 'depth': 10, 'posterior_sampling': False, 'border_count': 254, 'bagging_temperature': 0.8515228629112244, 'classes_count': 0, 'auto_class_weights': 'None', 'sparse_features_conflict_fraction': 0, 'leaf_estimation_backtracking': 'AnyImprovement', 'best_model_min_trees': 1, 'model_shrink_rate': 0, 'min_data_in_leaf': 1, 'loss_function': 'RMSE', 'learning_rate': 0.03549668565392494, 'score_function': 'Cosine', 'task_type': 'CPU', 'leaf_estimation_iterations': 1, 'bootstrap_type': 'Bayesian', 'max_leaves': 1024}\n",
      "{'nan_mode': 'Min', 'eval_metric': 'RMSE', 'iterations': 843, 'sampling_frequency': 'PerTree', 'leaf_estimation_method': 'Newton', 'od_pval': 0, 'grow_policy': 'SymmetricTree', 'penalties_coefficient': 1, 'boosting_type': 'Plain', 'model_shrink_mode': 'Constant', 'feature_border_type': 'GreedyLogSum', 'bayesian_matrix_reg': 0.10000000149011612, 'eval_fraction': 0, 'force_unit_auto_pair_weights': False, 'l2_leaf_reg': 2.7702749321179e-06, 'random_strength': 1.989872932434082, 'od_type': 'IncToDec', 'rsm': 1, 'boost_from_average': True, 'model_size_reg': 0.5, 'pool_metainfo_options': {'tags': {}}, 'use_best_model': False, 'od_wait': 44, 'random_seed': 0, 'depth': 10, 'posterior_sampling': False, 'border_count': 254, 'bagging_temperature': 0.8515228629112244, 'classes_count': 0, 'auto_class_weights': 'None', 'sparse_features_conflict_fraction': 0, 'leaf_estimation_backtracking': 'AnyImprovement', 'best_model_min_trees': 1, 'model_shrink_rate': 0, 'min_data_in_leaf': 1, 'loss_function': 'RMSE', 'learning_rate': 0.03549668565392494, 'score_function': 'Cosine', 'task_type': 'CPU', 'leaf_estimation_iterations': 1, 'bootstrap_type': 'Bayesian', 'max_leaves': 1024}\n",
      "{'nan_mode': 'Min', 'eval_metric': 'RMSE', 'iterations': 843, 'sampling_frequency': 'PerTree', 'leaf_estimation_method': 'Newton', 'od_pval': 0, 'grow_policy': 'SymmetricTree', 'penalties_coefficient': 1, 'boosting_type': 'Plain', 'model_shrink_mode': 'Constant', 'feature_border_type': 'GreedyLogSum', 'bayesian_matrix_reg': 0.10000000149011612, 'eval_fraction': 0, 'force_unit_auto_pair_weights': False, 'l2_leaf_reg': 2.7702749321179e-06, 'random_strength': 1.989872932434082, 'od_type': 'IncToDec', 'rsm': 1, 'boost_from_average': True, 'model_size_reg': 0.5, 'pool_metainfo_options': {'tags': {}}, 'use_best_model': False, 'od_wait': 44, 'random_seed': 0, 'depth': 10, 'posterior_sampling': False, 'border_count': 254, 'bagging_temperature': 0.8515228629112244, 'classes_count': 0, 'auto_class_weights': 'None', 'sparse_features_conflict_fraction': 0, 'leaf_estimation_backtracking': 'AnyImprovement', 'best_model_min_trees': 1, 'model_shrink_rate': 0, 'min_data_in_leaf': 1, 'loss_function': 'RMSE', 'learning_rate': 0.03549668565392494, 'score_function': 'Cosine', 'task_type': 'CPU', 'leaf_estimation_iterations': 1, 'bootstrap_type': 'Bayesian', 'max_leaves': 1024}\n",
      "{'nan_mode': 'Min', 'eval_metric': 'RMSE', 'iterations': 843, 'sampling_frequency': 'PerTree', 'leaf_estimation_method': 'Newton', 'od_pval': 0, 'grow_policy': 'SymmetricTree', 'penalties_coefficient': 1, 'boosting_type': 'Plain', 'model_shrink_mode': 'Constant', 'feature_border_type': 'GreedyLogSum', 'bayesian_matrix_reg': 0.10000000149011612, 'eval_fraction': 0, 'force_unit_auto_pair_weights': False, 'l2_leaf_reg': 2.7702749321179e-06, 'random_strength': 1.989872932434082, 'od_type': 'IncToDec', 'rsm': 1, 'boost_from_average': True, 'model_size_reg': 0.5, 'pool_metainfo_options': {'tags': {}}, 'use_best_model': False, 'od_wait': 44, 'random_seed': 0, 'depth': 10, 'posterior_sampling': False, 'border_count': 254, 'bagging_temperature': 0.8515228629112244, 'classes_count': 0, 'auto_class_weights': 'None', 'sparse_features_conflict_fraction': 0, 'leaf_estimation_backtracking': 'AnyImprovement', 'best_model_min_trees': 1, 'model_shrink_rate': 0, 'min_data_in_leaf': 1, 'loss_function': 'RMSE', 'learning_rate': 0.03549668565392494, 'score_function': 'Cosine', 'task_type': 'CPU', 'leaf_estimation_iterations': 1, 'bootstrap_type': 'Bayesian', 'max_leaves': 1024}\n",
      "{'nan_mode': 'Min', 'eval_metric': 'RMSE', 'iterations': 843, 'sampling_frequency': 'PerTree', 'leaf_estimation_method': 'Newton', 'od_pval': 0, 'grow_policy': 'SymmetricTree', 'penalties_coefficient': 1, 'boosting_type': 'Plain', 'model_shrink_mode': 'Constant', 'feature_border_type': 'GreedyLogSum', 'bayesian_matrix_reg': 0.10000000149011612, 'eval_fraction': 0, 'force_unit_auto_pair_weights': False, 'l2_leaf_reg': 2.7702749321179e-06, 'random_strength': 1.989872932434082, 'od_type': 'IncToDec', 'rsm': 1, 'boost_from_average': True, 'model_size_reg': 0.5, 'pool_metainfo_options': {'tags': {}}, 'use_best_model': False, 'od_wait': 44, 'random_seed': 0, 'depth': 10, 'posterior_sampling': False, 'border_count': 254, 'bagging_temperature': 0.8515228629112244, 'classes_count': 0, 'auto_class_weights': 'None', 'sparse_features_conflict_fraction': 0, 'leaf_estimation_backtracking': 'AnyImprovement', 'best_model_min_trees': 1, 'model_shrink_rate': 0, 'min_data_in_leaf': 1, 'loss_function': 'RMSE', 'learning_rate': 0.03549668565392494, 'score_function': 'Cosine', 'task_type': 'CPU', 'leaf_estimation_iterations': 1, 'bootstrap_type': 'Bayesian', 'max_leaves': 1024}\n",
      "{'nan_mode': 'Min', 'eval_metric': 'RMSE', 'iterations': 843, 'sampling_frequency': 'PerTree', 'leaf_estimation_method': 'Newton', 'od_pval': 0, 'grow_policy': 'SymmetricTree', 'penalties_coefficient': 1, 'boosting_type': 'Plain', 'model_shrink_mode': 'Constant', 'feature_border_type': 'GreedyLogSum', 'bayesian_matrix_reg': 0.10000000149011612, 'eval_fraction': 0, 'force_unit_auto_pair_weights': False, 'l2_leaf_reg': 2.7702749321179e-06, 'random_strength': 1.989872932434082, 'od_type': 'IncToDec', 'rsm': 1, 'boost_from_average': True, 'model_size_reg': 0.5, 'pool_metainfo_options': {'tags': {}}, 'use_best_model': False, 'od_wait': 44, 'random_seed': 0, 'depth': 10, 'posterior_sampling': False, 'border_count': 254, 'bagging_temperature': 0.8515228629112244, 'classes_count': 0, 'auto_class_weights': 'None', 'sparse_features_conflict_fraction': 0, 'leaf_estimation_backtracking': 'AnyImprovement', 'best_model_min_trees': 1, 'model_shrink_rate': 0, 'min_data_in_leaf': 1, 'loss_function': 'RMSE', 'learning_rate': 0.03549668565392494, 'score_function': 'Cosine', 'task_type': 'CPU', 'leaf_estimation_iterations': 1, 'bootstrap_type': 'Bayesian', 'max_leaves': 1024}\n",
      "{'nan_mode': 'Min', 'eval_metric': 'RMSE', 'iterations': 843, 'sampling_frequency': 'PerTree', 'leaf_estimation_method': 'Newton', 'od_pval': 0, 'grow_policy': 'SymmetricTree', 'penalties_coefficient': 1, 'boosting_type': 'Plain', 'model_shrink_mode': 'Constant', 'feature_border_type': 'GreedyLogSum', 'bayesian_matrix_reg': 0.10000000149011612, 'eval_fraction': 0, 'force_unit_auto_pair_weights': False, 'l2_leaf_reg': 2.7702749321179e-06, 'random_strength': 1.989872932434082, 'od_type': 'IncToDec', 'rsm': 1, 'boost_from_average': True, 'model_size_reg': 0.5, 'pool_metainfo_options': {'tags': {}}, 'use_best_model': False, 'od_wait': 44, 'random_seed': 0, 'depth': 10, 'posterior_sampling': False, 'border_count': 254, 'bagging_temperature': 0.8515228629112244, 'classes_count': 0, 'auto_class_weights': 'None', 'sparse_features_conflict_fraction': 0, 'leaf_estimation_backtracking': 'AnyImprovement', 'best_model_min_trees': 1, 'model_shrink_rate': 0, 'min_data_in_leaf': 1, 'loss_function': 'RMSE', 'learning_rate': 0.03549668565392494, 'score_function': 'Cosine', 'task_type': 'CPU', 'leaf_estimation_iterations': 1, 'bootstrap_type': 'Bayesian', 'max_leaves': 1024}\n"
     ]
    }
   ],
   "source": [
    "import Utils as utils\n",
    "from catboost import CatBoostRegressor\n",
    "from catboost import Pool\n",
    "\n",
    "# utils.evaluate_catboost(dfX,y,kf)\n",
    "def cbpred_params(dfX,y,kf, params):\n",
    "    vals = []\n",
    "    preds = []\n",
    "    cbr = CatBoostRegressor(**params)\n",
    "    for train_index, test_index in kf.split(dfX):\n",
    "    # print(\"TRAIN:\", train_index, \"TEST:\", test_index)\n",
    "        train_x, train_y = dfX.iloc[train_index], y.iloc[train_index]\n",
    "        # train_x, val_x, train_y, val_y = train_test_split(train_x, train_y, test_size=0.25)\n",
    "        test_x, test_y = dfX.iloc[test_index], y.iloc[test_index]\n",
    "\n",
    "        train_pool = Pool(data=train_x, label=train_y)\n",
    "        # val_pool = Pool(data=val_x, label=val_y)\n",
    "        test_pool = Pool(data=test_x, label=test_y)\n",
    "\n",
    "        \n",
    "        cbr.fit(train_pool, verbose=False)\n",
    "        cbr_pred = cbr.predict(test_pool)\n",
    "        print(cbr.get_all_params())\n",
    "        preds.append(cbr_pred)\n",
    "        vals.append(test_y)\n",
    "\n",
    "    return utils.error_rate(\"Catboost\",flatten(preds),flatten(vals))\n",
    "\n",
    "\n",
    "cols = ['Umur', 'Umur Squared', 'APM SMA', 'SMA', 'Pengeluaran Bulanan', 'Indeks Pembangunan Manusia', 'DPT', 'Sentiment', 'Weighted Sentiment']\n",
    "params = trial.params\n",
    "\n",
    "res = cbpred_params(dfX[cols],y,kf, params)\n",
    "\n"
   ]
  },
  {
   "cell_type": "code",
   "execution_count": 22,
   "metadata": {},
   "outputs": [
    {
     "data": {
      "text/plain": [
       "{'iterations': 843,\n",
       " 'learning_rate': 0.03549668630252779,\n",
       " 'depth': 10,\n",
       " 'l2_leaf_reg': 2.7702750401932485e-06,\n",
       " 'bootstrap_type': 'Bayesian',\n",
       " 'random_strength': 1.989872891341923,\n",
       " 'bagging_temperature': 0.8515228814732063,\n",
       " 'od_type': 'IncToDec',\n",
       " 'od_wait': 44}"
      ]
     },
     "execution_count": 22,
     "metadata": {},
     "output_type": "execute_result"
    }
   ],
   "source": [
    "trial.params"
   ]
  },
  {
   "cell_type": "code",
   "execution_count": 24,
   "metadata": {},
   "outputs": [
    {
     "data": {
      "text/plain": [
       "('Catboost', 0.03515836949999622, 0.028029121148614687, 0.474664414294787)"
      ]
     },
     "execution_count": 24,
     "metadata": {},
     "output_type": "execute_result"
    }
   ],
   "source": [
    "res"
   ]
  },
  {
   "cell_type": "code",
   "execution_count": null,
   "metadata": {},
   "outputs": [],
   "source": [
    "import pandas as pd \n",
    "from sklearn.preprocessing import MinMaxScaler\n",
    "from sklearn.model_selection import train_test_split\n",
    "from sklearn.model_selection import RepeatedKFold\n",
    "\n",
    "df = pd.read_csv('Data/Dataset.csv', decimal =\".\", thousands=\",\")\n",
    "df = df.drop(['Kota','Paslon 1','Paslon 2','Total'],axis=1)\n",
    "\n",
    "scaler = MinMaxScaler()\n",
    "\n",
    "df_minmax = pd.DataFrame(scaler.fit_transform(df.values), columns=df.columns, index=df.index)\n",
    "dfX, dfY = df_minmax.iloc[:, :-1], df_minmax.iloc[:, [-1]]\n",
    "kf = RepeatedKFold(n_splits=10, n_repeats = 3 , random_state=1)\n",
    "kf.get_n_splits(dfX)\n",
    "y = df['Partisipasi']\n",
    "\n",
    "\n",
    "def beep():\n",
    "    import IPython\n",
    "    IPython.display.Audio(\"beep.mp3\", autoplay=True)\n",
    "\n",
    "def flatten(l):\n",
    "    return [item for sublist in l for item in sublist]"
   ]
  },
  {
   "cell_type": "code",
   "execution_count": 25,
   "metadata": {},
   "outputs": [
    {
     "data": {
      "text/html": [
       "<div>\n",
       "<style scoped>\n",
       "    .dataframe tbody tr th:only-of-type {\n",
       "        vertical-align: middle;\n",
       "    }\n",
       "\n",
       "    .dataframe tbody tr th {\n",
       "        vertical-align: top;\n",
       "    }\n",
       "\n",
       "    .dataframe thead th {\n",
       "        text-align: right;\n",
       "    }\n",
       "</style>\n",
       "<table border=\"1\" class=\"dataframe\">\n",
       "  <thead>\n",
       "    <tr style=\"text-align: right;\">\n",
       "      <th></th>\n",
       "      <th>Umur</th>\n",
       "      <th>Umur Squared</th>\n",
       "      <th>APM SMA</th>\n",
       "      <th>SMA</th>\n",
       "      <th>Pengeluaran Bulanan</th>\n",
       "      <th>Indeks Pembangunan Manusia</th>\n",
       "      <th>DPT</th>\n",
       "      <th>Sentiment</th>\n",
       "      <th>Weighted Sentiment</th>\n",
       "    </tr>\n",
       "  </thead>\n",
       "  <tbody>\n",
       "    <tr>\n",
       "      <th>0</th>\n",
       "      <td>0.271381</td>\n",
       "      <td>0.228896</td>\n",
       "      <td>0.719929</td>\n",
       "      <td>0.000000</td>\n",
       "      <td>0.297269</td>\n",
       "      <td>0.414730</td>\n",
       "      <td>0.000000</td>\n",
       "      <td>0.417106</td>\n",
       "      <td>0.50412</td>\n",
       "    </tr>\n",
       "    <tr>\n",
       "      <th>1</th>\n",
       "      <td>0.388596</td>\n",
       "      <td>0.337547</td>\n",
       "      <td>0.431031</td>\n",
       "      <td>0.648352</td>\n",
       "      <td>0.935966</td>\n",
       "      <td>0.844805</td>\n",
       "      <td>0.497812</td>\n",
       "      <td>0.417106</td>\n",
       "      <td>0.50412</td>\n",
       "    </tr>\n",
       "    <tr>\n",
       "      <th>2</th>\n",
       "      <td>0.414311</td>\n",
       "      <td>0.362173</td>\n",
       "      <td>0.625690</td>\n",
       "      <td>0.670330</td>\n",
       "      <td>0.819952</td>\n",
       "      <td>0.909689</td>\n",
       "      <td>0.644910</td>\n",
       "      <td>0.417106</td>\n",
       "      <td>0.50412</td>\n",
       "    </tr>\n",
       "    <tr>\n",
       "      <th>3</th>\n",
       "      <td>0.557591</td>\n",
       "      <td>0.504589</td>\n",
       "      <td>0.492827</td>\n",
       "      <td>0.285714</td>\n",
       "      <td>0.943144</td>\n",
       "      <td>0.846120</td>\n",
       "      <td>0.229025</td>\n",
       "      <td>0.417106</td>\n",
       "      <td>0.50412</td>\n",
       "    </tr>\n",
       "    <tr>\n",
       "      <th>4</th>\n",
       "      <td>0.406859</td>\n",
       "      <td>0.355008</td>\n",
       "      <td>0.664092</td>\n",
       "      <td>0.483516</td>\n",
       "      <td>0.804669</td>\n",
       "      <td>0.799211</td>\n",
       "      <td>0.357522</td>\n",
       "      <td>0.417106</td>\n",
       "      <td>0.50412</td>\n",
       "    </tr>\n",
       "    <tr>\n",
       "      <th>...</th>\n",
       "      <td>...</td>\n",
       "      <td>...</td>\n",
       "      <td>...</td>\n",
       "      <td>...</td>\n",
       "      <td>...</td>\n",
       "      <td>...</td>\n",
       "      <td>...</td>\n",
       "      <td>...</td>\n",
       "      <td>...</td>\n",
       "    </tr>\n",
       "    <tr>\n",
       "      <th>101</th>\n",
       "      <td>0.450972</td>\n",
       "      <td>0.397774</td>\n",
       "      <td>0.548223</td>\n",
       "      <td>0.054945</td>\n",
       "      <td>0.287647</td>\n",
       "      <td>0.583516</td>\n",
       "      <td>0.037204</td>\n",
       "      <td>1.000000</td>\n",
       "      <td>1.00000</td>\n",
       "    </tr>\n",
       "    <tr>\n",
       "      <th>102</th>\n",
       "      <td>0.564808</td>\n",
       "      <td>0.511995</td>\n",
       "      <td>0.933569</td>\n",
       "      <td>0.054945</td>\n",
       "      <td>0.413812</td>\n",
       "      <td>0.702324</td>\n",
       "      <td>0.022921</td>\n",
       "      <td>1.000000</td>\n",
       "      <td>1.00000</td>\n",
       "    </tr>\n",
       "    <tr>\n",
       "      <th>103</th>\n",
       "      <td>0.745254</td>\n",
       "      <td>0.704463</td>\n",
       "      <td>0.957625</td>\n",
       "      <td>0.060440</td>\n",
       "      <td>0.497786</td>\n",
       "      <td>0.830338</td>\n",
       "      <td>0.037216</td>\n",
       "      <td>1.000000</td>\n",
       "      <td>1.00000</td>\n",
       "    </tr>\n",
       "    <tr>\n",
       "      <th>104</th>\n",
       "      <td>0.490701</td>\n",
       "      <td>0.437005</td>\n",
       "      <td>0.614434</td>\n",
       "      <td>0.763736</td>\n",
       "      <td>0.862860</td>\n",
       "      <td>0.889084</td>\n",
       "      <td>0.611749</td>\n",
       "      <td>1.000000</td>\n",
       "      <td>1.00000</td>\n",
       "    </tr>\n",
       "    <tr>\n",
       "      <th>105</th>\n",
       "      <td>0.606408</td>\n",
       "      <td>0.555126</td>\n",
       "      <td>0.794085</td>\n",
       "      <td>0.060440</td>\n",
       "      <td>0.377097</td>\n",
       "      <td>0.611135</td>\n",
       "      <td>0.039325</td>\n",
       "      <td>1.000000</td>\n",
       "      <td>1.00000</td>\n",
       "    </tr>\n",
       "  </tbody>\n",
       "</table>\n",
       "<p>106 rows × 9 columns</p>\n",
       "</div>"
      ],
      "text/plain": [
       "         Umur  Umur Squared   APM SMA       SMA  Pengeluaran Bulanan   \n",
       "0    0.271381      0.228896  0.719929  0.000000             0.297269  \\\n",
       "1    0.388596      0.337547  0.431031  0.648352             0.935966   \n",
       "2    0.414311      0.362173  0.625690  0.670330             0.819952   \n",
       "3    0.557591      0.504589  0.492827  0.285714             0.943144   \n",
       "4    0.406859      0.355008  0.664092  0.483516             0.804669   \n",
       "..        ...           ...       ...       ...                  ...   \n",
       "101  0.450972      0.397774  0.548223  0.054945             0.287647   \n",
       "102  0.564808      0.511995  0.933569  0.054945             0.413812   \n",
       "103  0.745254      0.704463  0.957625  0.060440             0.497786   \n",
       "104  0.490701      0.437005  0.614434  0.763736             0.862860   \n",
       "105  0.606408      0.555126  0.794085  0.060440             0.377097   \n",
       "\n",
       "     Indeks Pembangunan Manusia       DPT  Sentiment  Weighted Sentiment  \n",
       "0                      0.414730  0.000000   0.417106             0.50412  \n",
       "1                      0.844805  0.497812   0.417106             0.50412  \n",
       "2                      0.909689  0.644910   0.417106             0.50412  \n",
       "3                      0.846120  0.229025   0.417106             0.50412  \n",
       "4                      0.799211  0.357522   0.417106             0.50412  \n",
       "..                          ...       ...        ...                 ...  \n",
       "101                    0.583516  0.037204   1.000000             1.00000  \n",
       "102                    0.702324  0.022921   1.000000             1.00000  \n",
       "103                    0.830338  0.037216   1.000000             1.00000  \n",
       "104                    0.889084  0.611749   1.000000             1.00000  \n",
       "105                    0.611135  0.039325   1.000000             1.00000  \n",
       "\n",
       "[106 rows x 9 columns]"
      ]
     },
     "execution_count": 25,
     "metadata": {},
     "output_type": "execute_result"
    }
   ],
   "source": [
    "cols = ['Umur', 'Umur Squared', 'APM SMA', 'SMA', 'Pengeluaran Bulanan', 'Indeks Pembangunan Manusia', 'DPT', 'Sentiment', 'Weighted Sentiment']\n",
    "dfX = dfX[cols]\n",
    "dfX"
   ]
  },
  {
   "cell_type": "code",
   "execution_count": 26,
   "metadata": {},
   "outputs": [
    {
     "name": "stdout",
     "output_type": "stream",
     "text": [
      "{'nan_mode': 'Min', 'eval_metric': 'RMSE', 'iterations': 1000, 'sampling_frequency': 'PerTree', 'leaf_estimation_method': 'Newton', 'grow_policy': 'SymmetricTree', 'penalties_coefficient': 1, 'boosting_type': 'Plain', 'model_shrink_mode': 'Constant', 'feature_border_type': 'GreedyLogSum', 'bayesian_matrix_reg': 0.10000000149011612, 'eval_fraction': 0, 'force_unit_auto_pair_weights': False, 'l2_leaf_reg': 3, 'random_strength': 1, 'rsm': 1, 'boost_from_average': True, 'model_size_reg': 0.5, 'pool_metainfo_options': {'tags': {}}, 'subsample': 1, 'use_best_model': False, 'random_seed': 0, 'depth': 6, 'posterior_sampling': False, 'border_count': 254, 'classes_count': 0, 'auto_class_weights': 'None', 'sparse_features_conflict_fraction': 0, 'leaf_estimation_backtracking': 'AnyImprovement', 'best_model_min_trees': 1, 'model_shrink_rate': 0, 'min_data_in_leaf': 1, 'loss_function': 'RMSE', 'learning_rate': 0.028226999565958977, 'score_function': 'Cosine', 'task_type': 'CPU', 'leaf_estimation_iterations': 1, 'bootstrap_type': 'MVS', 'max_leaves': 64}\n",
      "{'nan_mode': 'Min', 'eval_metric': 'RMSE', 'iterations': 1000, 'sampling_frequency': 'PerTree', 'leaf_estimation_method': 'Newton', 'grow_policy': 'SymmetricTree', 'penalties_coefficient': 1, 'boosting_type': 'Plain', 'model_shrink_mode': 'Constant', 'feature_border_type': 'GreedyLogSum', 'bayesian_matrix_reg': 0.10000000149011612, 'eval_fraction': 0, 'force_unit_auto_pair_weights': False, 'l2_leaf_reg': 3, 'random_strength': 1, 'rsm': 1, 'boost_from_average': True, 'model_size_reg': 0.5, 'pool_metainfo_options': {'tags': {}}, 'subsample': 1, 'use_best_model': False, 'random_seed': 0, 'depth': 6, 'posterior_sampling': False, 'border_count': 254, 'classes_count': 0, 'auto_class_weights': 'None', 'sparse_features_conflict_fraction': 0, 'leaf_estimation_backtracking': 'AnyImprovement', 'best_model_min_trees': 1, 'model_shrink_rate': 0, 'min_data_in_leaf': 1, 'loss_function': 'RMSE', 'learning_rate': 0.028226999565958977, 'score_function': 'Cosine', 'task_type': 'CPU', 'leaf_estimation_iterations': 1, 'bootstrap_type': 'MVS', 'max_leaves': 64}\n",
      "{'nan_mode': 'Min', 'eval_metric': 'RMSE', 'iterations': 1000, 'sampling_frequency': 'PerTree', 'leaf_estimation_method': 'Newton', 'grow_policy': 'SymmetricTree', 'penalties_coefficient': 1, 'boosting_type': 'Plain', 'model_shrink_mode': 'Constant', 'feature_border_type': 'GreedyLogSum', 'bayesian_matrix_reg': 0.10000000149011612, 'eval_fraction': 0, 'force_unit_auto_pair_weights': False, 'l2_leaf_reg': 3, 'random_strength': 1, 'rsm': 1, 'boost_from_average': True, 'model_size_reg': 0.5, 'pool_metainfo_options': {'tags': {}}, 'subsample': 1, 'use_best_model': False, 'random_seed': 0, 'depth': 6, 'posterior_sampling': False, 'border_count': 254, 'classes_count': 0, 'auto_class_weights': 'None', 'sparse_features_conflict_fraction': 0, 'leaf_estimation_backtracking': 'AnyImprovement', 'best_model_min_trees': 1, 'model_shrink_rate': 0, 'min_data_in_leaf': 1, 'loss_function': 'RMSE', 'learning_rate': 0.028226999565958977, 'score_function': 'Cosine', 'task_type': 'CPU', 'leaf_estimation_iterations': 1, 'bootstrap_type': 'MVS', 'max_leaves': 64}\n",
      "{'nan_mode': 'Min', 'eval_metric': 'RMSE', 'iterations': 1000, 'sampling_frequency': 'PerTree', 'leaf_estimation_method': 'Newton', 'grow_policy': 'SymmetricTree', 'penalties_coefficient': 1, 'boosting_type': 'Plain', 'model_shrink_mode': 'Constant', 'feature_border_type': 'GreedyLogSum', 'bayesian_matrix_reg': 0.10000000149011612, 'eval_fraction': 0, 'force_unit_auto_pair_weights': False, 'l2_leaf_reg': 3, 'random_strength': 1, 'rsm': 1, 'boost_from_average': True, 'model_size_reg': 0.5, 'pool_metainfo_options': {'tags': {}}, 'subsample': 1, 'use_best_model': False, 'random_seed': 0, 'depth': 6, 'posterior_sampling': False, 'border_count': 254, 'classes_count': 0, 'auto_class_weights': 'None', 'sparse_features_conflict_fraction': 0, 'leaf_estimation_backtracking': 'AnyImprovement', 'best_model_min_trees': 1, 'model_shrink_rate': 0, 'min_data_in_leaf': 1, 'loss_function': 'RMSE', 'learning_rate': 0.028226999565958977, 'score_function': 'Cosine', 'task_type': 'CPU', 'leaf_estimation_iterations': 1, 'bootstrap_type': 'MVS', 'max_leaves': 64}\n",
      "{'nan_mode': 'Min', 'eval_metric': 'RMSE', 'iterations': 1000, 'sampling_frequency': 'PerTree', 'leaf_estimation_method': 'Newton', 'grow_policy': 'SymmetricTree', 'penalties_coefficient': 1, 'boosting_type': 'Plain', 'model_shrink_mode': 'Constant', 'feature_border_type': 'GreedyLogSum', 'bayesian_matrix_reg': 0.10000000149011612, 'eval_fraction': 0, 'force_unit_auto_pair_weights': False, 'l2_leaf_reg': 3, 'random_strength': 1, 'rsm': 1, 'boost_from_average': True, 'model_size_reg': 0.5, 'pool_metainfo_options': {'tags': {}}, 'subsample': 1, 'use_best_model': False, 'random_seed': 0, 'depth': 6, 'posterior_sampling': False, 'border_count': 254, 'classes_count': 0, 'auto_class_weights': 'None', 'sparse_features_conflict_fraction': 0, 'leaf_estimation_backtracking': 'AnyImprovement', 'best_model_min_trees': 1, 'model_shrink_rate': 0, 'min_data_in_leaf': 1, 'loss_function': 'RMSE', 'learning_rate': 0.028226999565958977, 'score_function': 'Cosine', 'task_type': 'CPU', 'leaf_estimation_iterations': 1, 'bootstrap_type': 'MVS', 'max_leaves': 64}\n",
      "{'nan_mode': 'Min', 'eval_metric': 'RMSE', 'iterations': 1000, 'sampling_frequency': 'PerTree', 'leaf_estimation_method': 'Newton', 'grow_policy': 'SymmetricTree', 'penalties_coefficient': 1, 'boosting_type': 'Plain', 'model_shrink_mode': 'Constant', 'feature_border_type': 'GreedyLogSum', 'bayesian_matrix_reg': 0.10000000149011612, 'eval_fraction': 0, 'force_unit_auto_pair_weights': False, 'l2_leaf_reg': 3, 'random_strength': 1, 'rsm': 1, 'boost_from_average': True, 'model_size_reg': 0.5, 'pool_metainfo_options': {'tags': {}}, 'subsample': 1, 'use_best_model': False, 'random_seed': 0, 'depth': 6, 'posterior_sampling': False, 'border_count': 254, 'classes_count': 0, 'auto_class_weights': 'None', 'sparse_features_conflict_fraction': 0, 'leaf_estimation_backtracking': 'AnyImprovement', 'best_model_min_trees': 1, 'model_shrink_rate': 0, 'min_data_in_leaf': 1, 'loss_function': 'RMSE', 'learning_rate': 0.028226999565958977, 'score_function': 'Cosine', 'task_type': 'CPU', 'leaf_estimation_iterations': 1, 'bootstrap_type': 'MVS', 'max_leaves': 64}\n",
      "{'nan_mode': 'Min', 'eval_metric': 'RMSE', 'iterations': 1000, 'sampling_frequency': 'PerTree', 'leaf_estimation_method': 'Newton', 'grow_policy': 'SymmetricTree', 'penalties_coefficient': 1, 'boosting_type': 'Plain', 'model_shrink_mode': 'Constant', 'feature_border_type': 'GreedyLogSum', 'bayesian_matrix_reg': 0.10000000149011612, 'eval_fraction': 0, 'force_unit_auto_pair_weights': False, 'l2_leaf_reg': 3, 'random_strength': 1, 'rsm': 1, 'boost_from_average': True, 'model_size_reg': 0.5, 'pool_metainfo_options': {'tags': {}}, 'subsample': 1, 'use_best_model': False, 'random_seed': 0, 'depth': 6, 'posterior_sampling': False, 'border_count': 254, 'classes_count': 0, 'auto_class_weights': 'None', 'sparse_features_conflict_fraction': 0, 'leaf_estimation_backtracking': 'AnyImprovement', 'best_model_min_trees': 1, 'model_shrink_rate': 0, 'min_data_in_leaf': 1, 'loss_function': 'RMSE', 'learning_rate': 0.028272999450564384, 'score_function': 'Cosine', 'task_type': 'CPU', 'leaf_estimation_iterations': 1, 'bootstrap_type': 'MVS', 'max_leaves': 64}\n",
      "{'nan_mode': 'Min', 'eval_metric': 'RMSE', 'iterations': 1000, 'sampling_frequency': 'PerTree', 'leaf_estimation_method': 'Newton', 'grow_policy': 'SymmetricTree', 'penalties_coefficient': 1, 'boosting_type': 'Plain', 'model_shrink_mode': 'Constant', 'feature_border_type': 'GreedyLogSum', 'bayesian_matrix_reg': 0.10000000149011612, 'eval_fraction': 0, 'force_unit_auto_pair_weights': False, 'l2_leaf_reg': 3, 'random_strength': 1, 'rsm': 1, 'boost_from_average': True, 'model_size_reg': 0.5, 'pool_metainfo_options': {'tags': {}}, 'subsample': 1, 'use_best_model': False, 'random_seed': 0, 'depth': 6, 'posterior_sampling': False, 'border_count': 254, 'classes_count': 0, 'auto_class_weights': 'None', 'sparse_features_conflict_fraction': 0, 'leaf_estimation_backtracking': 'AnyImprovement', 'best_model_min_trees': 1, 'model_shrink_rate': 0, 'min_data_in_leaf': 1, 'loss_function': 'RMSE', 'learning_rate': 0.028272999450564384, 'score_function': 'Cosine', 'task_type': 'CPU', 'leaf_estimation_iterations': 1, 'bootstrap_type': 'MVS', 'max_leaves': 64}\n",
      "{'nan_mode': 'Min', 'eval_metric': 'RMSE', 'iterations': 1000, 'sampling_frequency': 'PerTree', 'leaf_estimation_method': 'Newton', 'grow_policy': 'SymmetricTree', 'penalties_coefficient': 1, 'boosting_type': 'Plain', 'model_shrink_mode': 'Constant', 'feature_border_type': 'GreedyLogSum', 'bayesian_matrix_reg': 0.10000000149011612, 'eval_fraction': 0, 'force_unit_auto_pair_weights': False, 'l2_leaf_reg': 3, 'random_strength': 1, 'rsm': 1, 'boost_from_average': True, 'model_size_reg': 0.5, 'pool_metainfo_options': {'tags': {}}, 'subsample': 1, 'use_best_model': False, 'random_seed': 0, 'depth': 6, 'posterior_sampling': False, 'border_count': 254, 'classes_count': 0, 'auto_class_weights': 'None', 'sparse_features_conflict_fraction': 0, 'leaf_estimation_backtracking': 'AnyImprovement', 'best_model_min_trees': 1, 'model_shrink_rate': 0, 'min_data_in_leaf': 1, 'loss_function': 'RMSE', 'learning_rate': 0.028272999450564384, 'score_function': 'Cosine', 'task_type': 'CPU', 'leaf_estimation_iterations': 1, 'bootstrap_type': 'MVS', 'max_leaves': 64}\n",
      "{'nan_mode': 'Min', 'eval_metric': 'RMSE', 'iterations': 1000, 'sampling_frequency': 'PerTree', 'leaf_estimation_method': 'Newton', 'grow_policy': 'SymmetricTree', 'penalties_coefficient': 1, 'boosting_type': 'Plain', 'model_shrink_mode': 'Constant', 'feature_border_type': 'GreedyLogSum', 'bayesian_matrix_reg': 0.10000000149011612, 'eval_fraction': 0, 'force_unit_auto_pair_weights': False, 'l2_leaf_reg': 3, 'random_strength': 1, 'rsm': 1, 'boost_from_average': True, 'model_size_reg': 0.5, 'pool_metainfo_options': {'tags': {}}, 'subsample': 1, 'use_best_model': False, 'random_seed': 0, 'depth': 6, 'posterior_sampling': False, 'border_count': 254, 'classes_count': 0, 'auto_class_weights': 'None', 'sparse_features_conflict_fraction': 0, 'leaf_estimation_backtracking': 'AnyImprovement', 'best_model_min_trees': 1, 'model_shrink_rate': 0, 'min_data_in_leaf': 1, 'loss_function': 'RMSE', 'learning_rate': 0.028272999450564384, 'score_function': 'Cosine', 'task_type': 'CPU', 'leaf_estimation_iterations': 1, 'bootstrap_type': 'MVS', 'max_leaves': 64}\n",
      "{'nan_mode': 'Min', 'eval_metric': 'RMSE', 'iterations': 1000, 'sampling_frequency': 'PerTree', 'leaf_estimation_method': 'Newton', 'grow_policy': 'SymmetricTree', 'penalties_coefficient': 1, 'boosting_type': 'Plain', 'model_shrink_mode': 'Constant', 'feature_border_type': 'GreedyLogSum', 'bayesian_matrix_reg': 0.10000000149011612, 'eval_fraction': 0, 'force_unit_auto_pair_weights': False, 'l2_leaf_reg': 3, 'random_strength': 1, 'rsm': 1, 'boost_from_average': True, 'model_size_reg': 0.5, 'pool_metainfo_options': {'tags': {}}, 'subsample': 1, 'use_best_model': False, 'random_seed': 0, 'depth': 6, 'posterior_sampling': False, 'border_count': 254, 'classes_count': 0, 'auto_class_weights': 'None', 'sparse_features_conflict_fraction': 0, 'leaf_estimation_backtracking': 'AnyImprovement', 'best_model_min_trees': 1, 'model_shrink_rate': 0, 'min_data_in_leaf': 1, 'loss_function': 'RMSE', 'learning_rate': 0.028226999565958977, 'score_function': 'Cosine', 'task_type': 'CPU', 'leaf_estimation_iterations': 1, 'bootstrap_type': 'MVS', 'max_leaves': 64}\n",
      "{'nan_mode': 'Min', 'eval_metric': 'RMSE', 'iterations': 1000, 'sampling_frequency': 'PerTree', 'leaf_estimation_method': 'Newton', 'grow_policy': 'SymmetricTree', 'penalties_coefficient': 1, 'boosting_type': 'Plain', 'model_shrink_mode': 'Constant', 'feature_border_type': 'GreedyLogSum', 'bayesian_matrix_reg': 0.10000000149011612, 'eval_fraction': 0, 'force_unit_auto_pair_weights': False, 'l2_leaf_reg': 3, 'random_strength': 1, 'rsm': 1, 'boost_from_average': True, 'model_size_reg': 0.5, 'pool_metainfo_options': {'tags': {}}, 'subsample': 1, 'use_best_model': False, 'random_seed': 0, 'depth': 6, 'posterior_sampling': False, 'border_count': 254, 'classes_count': 0, 'auto_class_weights': 'None', 'sparse_features_conflict_fraction': 0, 'leaf_estimation_backtracking': 'AnyImprovement', 'best_model_min_trees': 1, 'model_shrink_rate': 0, 'min_data_in_leaf': 1, 'loss_function': 'RMSE', 'learning_rate': 0.028226999565958977, 'score_function': 'Cosine', 'task_type': 'CPU', 'leaf_estimation_iterations': 1, 'bootstrap_type': 'MVS', 'max_leaves': 64}\n",
      "{'nan_mode': 'Min', 'eval_metric': 'RMSE', 'iterations': 1000, 'sampling_frequency': 'PerTree', 'leaf_estimation_method': 'Newton', 'grow_policy': 'SymmetricTree', 'penalties_coefficient': 1, 'boosting_type': 'Plain', 'model_shrink_mode': 'Constant', 'feature_border_type': 'GreedyLogSum', 'bayesian_matrix_reg': 0.10000000149011612, 'eval_fraction': 0, 'force_unit_auto_pair_weights': False, 'l2_leaf_reg': 3, 'random_strength': 1, 'rsm': 1, 'boost_from_average': True, 'model_size_reg': 0.5, 'pool_metainfo_options': {'tags': {}}, 'subsample': 1, 'use_best_model': False, 'random_seed': 0, 'depth': 6, 'posterior_sampling': False, 'border_count': 254, 'classes_count': 0, 'auto_class_weights': 'None', 'sparse_features_conflict_fraction': 0, 'leaf_estimation_backtracking': 'AnyImprovement', 'best_model_min_trees': 1, 'model_shrink_rate': 0, 'min_data_in_leaf': 1, 'loss_function': 'RMSE', 'learning_rate': 0.028226999565958977, 'score_function': 'Cosine', 'task_type': 'CPU', 'leaf_estimation_iterations': 1, 'bootstrap_type': 'MVS', 'max_leaves': 64}\n",
      "{'nan_mode': 'Min', 'eval_metric': 'RMSE', 'iterations': 1000, 'sampling_frequency': 'PerTree', 'leaf_estimation_method': 'Newton', 'grow_policy': 'SymmetricTree', 'penalties_coefficient': 1, 'boosting_type': 'Plain', 'model_shrink_mode': 'Constant', 'feature_border_type': 'GreedyLogSum', 'bayesian_matrix_reg': 0.10000000149011612, 'eval_fraction': 0, 'force_unit_auto_pair_weights': False, 'l2_leaf_reg': 3, 'random_strength': 1, 'rsm': 1, 'boost_from_average': True, 'model_size_reg': 0.5, 'pool_metainfo_options': {'tags': {}}, 'subsample': 1, 'use_best_model': False, 'random_seed': 0, 'depth': 6, 'posterior_sampling': False, 'border_count': 254, 'classes_count': 0, 'auto_class_weights': 'None', 'sparse_features_conflict_fraction': 0, 'leaf_estimation_backtracking': 'AnyImprovement', 'best_model_min_trees': 1, 'model_shrink_rate': 0, 'min_data_in_leaf': 1, 'loss_function': 'RMSE', 'learning_rate': 0.028226999565958977, 'score_function': 'Cosine', 'task_type': 'CPU', 'leaf_estimation_iterations': 1, 'bootstrap_type': 'MVS', 'max_leaves': 64}\n",
      "{'nan_mode': 'Min', 'eval_metric': 'RMSE', 'iterations': 1000, 'sampling_frequency': 'PerTree', 'leaf_estimation_method': 'Newton', 'grow_policy': 'SymmetricTree', 'penalties_coefficient': 1, 'boosting_type': 'Plain', 'model_shrink_mode': 'Constant', 'feature_border_type': 'GreedyLogSum', 'bayesian_matrix_reg': 0.10000000149011612, 'eval_fraction': 0, 'force_unit_auto_pair_weights': False, 'l2_leaf_reg': 3, 'random_strength': 1, 'rsm': 1, 'boost_from_average': True, 'model_size_reg': 0.5, 'pool_metainfo_options': {'tags': {}}, 'subsample': 1, 'use_best_model': False, 'random_seed': 0, 'depth': 6, 'posterior_sampling': False, 'border_count': 254, 'classes_count': 0, 'auto_class_weights': 'None', 'sparse_features_conflict_fraction': 0, 'leaf_estimation_backtracking': 'AnyImprovement', 'best_model_min_trees': 1, 'model_shrink_rate': 0, 'min_data_in_leaf': 1, 'loss_function': 'RMSE', 'learning_rate': 0.028226999565958977, 'score_function': 'Cosine', 'task_type': 'CPU', 'leaf_estimation_iterations': 1, 'bootstrap_type': 'MVS', 'max_leaves': 64}\n",
      "{'nan_mode': 'Min', 'eval_metric': 'RMSE', 'iterations': 1000, 'sampling_frequency': 'PerTree', 'leaf_estimation_method': 'Newton', 'grow_policy': 'SymmetricTree', 'penalties_coefficient': 1, 'boosting_type': 'Plain', 'model_shrink_mode': 'Constant', 'feature_border_type': 'GreedyLogSum', 'bayesian_matrix_reg': 0.10000000149011612, 'eval_fraction': 0, 'force_unit_auto_pair_weights': False, 'l2_leaf_reg': 3, 'random_strength': 1, 'rsm': 1, 'boost_from_average': True, 'model_size_reg': 0.5, 'pool_metainfo_options': {'tags': {}}, 'subsample': 1, 'use_best_model': False, 'random_seed': 0, 'depth': 6, 'posterior_sampling': False, 'border_count': 254, 'classes_count': 0, 'auto_class_weights': 'None', 'sparse_features_conflict_fraction': 0, 'leaf_estimation_backtracking': 'AnyImprovement', 'best_model_min_trees': 1, 'model_shrink_rate': 0, 'min_data_in_leaf': 1, 'loss_function': 'RMSE', 'learning_rate': 0.028226999565958977, 'score_function': 'Cosine', 'task_type': 'CPU', 'leaf_estimation_iterations': 1, 'bootstrap_type': 'MVS', 'max_leaves': 64}\n",
      "{'nan_mode': 'Min', 'eval_metric': 'RMSE', 'iterations': 1000, 'sampling_frequency': 'PerTree', 'leaf_estimation_method': 'Newton', 'grow_policy': 'SymmetricTree', 'penalties_coefficient': 1, 'boosting_type': 'Plain', 'model_shrink_mode': 'Constant', 'feature_border_type': 'GreedyLogSum', 'bayesian_matrix_reg': 0.10000000149011612, 'eval_fraction': 0, 'force_unit_auto_pair_weights': False, 'l2_leaf_reg': 3, 'random_strength': 1, 'rsm': 1, 'boost_from_average': True, 'model_size_reg': 0.5, 'pool_metainfo_options': {'tags': {}}, 'subsample': 1, 'use_best_model': False, 'random_seed': 0, 'depth': 6, 'posterior_sampling': False, 'border_count': 254, 'classes_count': 0, 'auto_class_weights': 'None', 'sparse_features_conflict_fraction': 0, 'leaf_estimation_backtracking': 'AnyImprovement', 'best_model_min_trees': 1, 'model_shrink_rate': 0, 'min_data_in_leaf': 1, 'loss_function': 'RMSE', 'learning_rate': 0.028272999450564384, 'score_function': 'Cosine', 'task_type': 'CPU', 'leaf_estimation_iterations': 1, 'bootstrap_type': 'MVS', 'max_leaves': 64}\n",
      "{'nan_mode': 'Min', 'eval_metric': 'RMSE', 'iterations': 1000, 'sampling_frequency': 'PerTree', 'leaf_estimation_method': 'Newton', 'grow_policy': 'SymmetricTree', 'penalties_coefficient': 1, 'boosting_type': 'Plain', 'model_shrink_mode': 'Constant', 'feature_border_type': 'GreedyLogSum', 'bayesian_matrix_reg': 0.10000000149011612, 'eval_fraction': 0, 'force_unit_auto_pair_weights': False, 'l2_leaf_reg': 3, 'random_strength': 1, 'rsm': 1, 'boost_from_average': True, 'model_size_reg': 0.5, 'pool_metainfo_options': {'tags': {}}, 'subsample': 1, 'use_best_model': False, 'random_seed': 0, 'depth': 6, 'posterior_sampling': False, 'border_count': 254, 'classes_count': 0, 'auto_class_weights': 'None', 'sparse_features_conflict_fraction': 0, 'leaf_estimation_backtracking': 'AnyImprovement', 'best_model_min_trees': 1, 'model_shrink_rate': 0, 'min_data_in_leaf': 1, 'loss_function': 'RMSE', 'learning_rate': 0.028272999450564384, 'score_function': 'Cosine', 'task_type': 'CPU', 'leaf_estimation_iterations': 1, 'bootstrap_type': 'MVS', 'max_leaves': 64}\n",
      "{'nan_mode': 'Min', 'eval_metric': 'RMSE', 'iterations': 1000, 'sampling_frequency': 'PerTree', 'leaf_estimation_method': 'Newton', 'grow_policy': 'SymmetricTree', 'penalties_coefficient': 1, 'boosting_type': 'Plain', 'model_shrink_mode': 'Constant', 'feature_border_type': 'GreedyLogSum', 'bayesian_matrix_reg': 0.10000000149011612, 'eval_fraction': 0, 'force_unit_auto_pair_weights': False, 'l2_leaf_reg': 3, 'random_strength': 1, 'rsm': 1, 'boost_from_average': True, 'model_size_reg': 0.5, 'pool_metainfo_options': {'tags': {}}, 'subsample': 1, 'use_best_model': False, 'random_seed': 0, 'depth': 6, 'posterior_sampling': False, 'border_count': 254, 'classes_count': 0, 'auto_class_weights': 'None', 'sparse_features_conflict_fraction': 0, 'leaf_estimation_backtracking': 'AnyImprovement', 'best_model_min_trees': 1, 'model_shrink_rate': 0, 'min_data_in_leaf': 1, 'loss_function': 'RMSE', 'learning_rate': 0.028272999450564384, 'score_function': 'Cosine', 'task_type': 'CPU', 'leaf_estimation_iterations': 1, 'bootstrap_type': 'MVS', 'max_leaves': 64}\n",
      "{'nan_mode': 'Min', 'eval_metric': 'RMSE', 'iterations': 1000, 'sampling_frequency': 'PerTree', 'leaf_estimation_method': 'Newton', 'grow_policy': 'SymmetricTree', 'penalties_coefficient': 1, 'boosting_type': 'Plain', 'model_shrink_mode': 'Constant', 'feature_border_type': 'GreedyLogSum', 'bayesian_matrix_reg': 0.10000000149011612, 'eval_fraction': 0, 'force_unit_auto_pair_weights': False, 'l2_leaf_reg': 3, 'random_strength': 1, 'rsm': 1, 'boost_from_average': True, 'model_size_reg': 0.5, 'pool_metainfo_options': {'tags': {}}, 'subsample': 1, 'use_best_model': False, 'random_seed': 0, 'depth': 6, 'posterior_sampling': False, 'border_count': 254, 'classes_count': 0, 'auto_class_weights': 'None', 'sparse_features_conflict_fraction': 0, 'leaf_estimation_backtracking': 'AnyImprovement', 'best_model_min_trees': 1, 'model_shrink_rate': 0, 'min_data_in_leaf': 1, 'loss_function': 'RMSE', 'learning_rate': 0.028272999450564384, 'score_function': 'Cosine', 'task_type': 'CPU', 'leaf_estimation_iterations': 1, 'bootstrap_type': 'MVS', 'max_leaves': 64}\n",
      "{'nan_mode': 'Min', 'eval_metric': 'RMSE', 'iterations': 1000, 'sampling_frequency': 'PerTree', 'leaf_estimation_method': 'Newton', 'grow_policy': 'SymmetricTree', 'penalties_coefficient': 1, 'boosting_type': 'Plain', 'model_shrink_mode': 'Constant', 'feature_border_type': 'GreedyLogSum', 'bayesian_matrix_reg': 0.10000000149011612, 'eval_fraction': 0, 'force_unit_auto_pair_weights': False, 'l2_leaf_reg': 3, 'random_strength': 1, 'rsm': 1, 'boost_from_average': True, 'model_size_reg': 0.5, 'pool_metainfo_options': {'tags': {}}, 'subsample': 1, 'use_best_model': False, 'random_seed': 0, 'depth': 6, 'posterior_sampling': False, 'border_count': 254, 'classes_count': 0, 'auto_class_weights': 'None', 'sparse_features_conflict_fraction': 0, 'leaf_estimation_backtracking': 'AnyImprovement', 'best_model_min_trees': 1, 'model_shrink_rate': 0, 'min_data_in_leaf': 1, 'loss_function': 'RMSE', 'learning_rate': 0.028226999565958977, 'score_function': 'Cosine', 'task_type': 'CPU', 'leaf_estimation_iterations': 1, 'bootstrap_type': 'MVS', 'max_leaves': 64}\n",
      "{'nan_mode': 'Min', 'eval_metric': 'RMSE', 'iterations': 1000, 'sampling_frequency': 'PerTree', 'leaf_estimation_method': 'Newton', 'grow_policy': 'SymmetricTree', 'penalties_coefficient': 1, 'boosting_type': 'Plain', 'model_shrink_mode': 'Constant', 'feature_border_type': 'GreedyLogSum', 'bayesian_matrix_reg': 0.10000000149011612, 'eval_fraction': 0, 'force_unit_auto_pair_weights': False, 'l2_leaf_reg': 3, 'random_strength': 1, 'rsm': 1, 'boost_from_average': True, 'model_size_reg': 0.5, 'pool_metainfo_options': {'tags': {}}, 'subsample': 1, 'use_best_model': False, 'random_seed': 0, 'depth': 6, 'posterior_sampling': False, 'border_count': 254, 'classes_count': 0, 'auto_class_weights': 'None', 'sparse_features_conflict_fraction': 0, 'leaf_estimation_backtracking': 'AnyImprovement', 'best_model_min_trees': 1, 'model_shrink_rate': 0, 'min_data_in_leaf': 1, 'loss_function': 'RMSE', 'learning_rate': 0.028226999565958977, 'score_function': 'Cosine', 'task_type': 'CPU', 'leaf_estimation_iterations': 1, 'bootstrap_type': 'MVS', 'max_leaves': 64}\n",
      "{'nan_mode': 'Min', 'eval_metric': 'RMSE', 'iterations': 1000, 'sampling_frequency': 'PerTree', 'leaf_estimation_method': 'Newton', 'grow_policy': 'SymmetricTree', 'penalties_coefficient': 1, 'boosting_type': 'Plain', 'model_shrink_mode': 'Constant', 'feature_border_type': 'GreedyLogSum', 'bayesian_matrix_reg': 0.10000000149011612, 'eval_fraction': 0, 'force_unit_auto_pair_weights': False, 'l2_leaf_reg': 3, 'random_strength': 1, 'rsm': 1, 'boost_from_average': True, 'model_size_reg': 0.5, 'pool_metainfo_options': {'tags': {}}, 'subsample': 1, 'use_best_model': False, 'random_seed': 0, 'depth': 6, 'posterior_sampling': False, 'border_count': 254, 'classes_count': 0, 'auto_class_weights': 'None', 'sparse_features_conflict_fraction': 0, 'leaf_estimation_backtracking': 'AnyImprovement', 'best_model_min_trees': 1, 'model_shrink_rate': 0, 'min_data_in_leaf': 1, 'loss_function': 'RMSE', 'learning_rate': 0.028226999565958977, 'score_function': 'Cosine', 'task_type': 'CPU', 'leaf_estimation_iterations': 1, 'bootstrap_type': 'MVS', 'max_leaves': 64}\n",
      "{'nan_mode': 'Min', 'eval_metric': 'RMSE', 'iterations': 1000, 'sampling_frequency': 'PerTree', 'leaf_estimation_method': 'Newton', 'grow_policy': 'SymmetricTree', 'penalties_coefficient': 1, 'boosting_type': 'Plain', 'model_shrink_mode': 'Constant', 'feature_border_type': 'GreedyLogSum', 'bayesian_matrix_reg': 0.10000000149011612, 'eval_fraction': 0, 'force_unit_auto_pair_weights': False, 'l2_leaf_reg': 3, 'random_strength': 1, 'rsm': 1, 'boost_from_average': True, 'model_size_reg': 0.5, 'pool_metainfo_options': {'tags': {}}, 'subsample': 1, 'use_best_model': False, 'random_seed': 0, 'depth': 6, 'posterior_sampling': False, 'border_count': 254, 'classes_count': 0, 'auto_class_weights': 'None', 'sparse_features_conflict_fraction': 0, 'leaf_estimation_backtracking': 'AnyImprovement', 'best_model_min_trees': 1, 'model_shrink_rate': 0, 'min_data_in_leaf': 1, 'loss_function': 'RMSE', 'learning_rate': 0.028226999565958977, 'score_function': 'Cosine', 'task_type': 'CPU', 'leaf_estimation_iterations': 1, 'bootstrap_type': 'MVS', 'max_leaves': 64}\n",
      "{'nan_mode': 'Min', 'eval_metric': 'RMSE', 'iterations': 1000, 'sampling_frequency': 'PerTree', 'leaf_estimation_method': 'Newton', 'grow_policy': 'SymmetricTree', 'penalties_coefficient': 1, 'boosting_type': 'Plain', 'model_shrink_mode': 'Constant', 'feature_border_type': 'GreedyLogSum', 'bayesian_matrix_reg': 0.10000000149011612, 'eval_fraction': 0, 'force_unit_auto_pair_weights': False, 'l2_leaf_reg': 3, 'random_strength': 1, 'rsm': 1, 'boost_from_average': True, 'model_size_reg': 0.5, 'pool_metainfo_options': {'tags': {}}, 'subsample': 1, 'use_best_model': False, 'random_seed': 0, 'depth': 6, 'posterior_sampling': False, 'border_count': 254, 'classes_count': 0, 'auto_class_weights': 'None', 'sparse_features_conflict_fraction': 0, 'leaf_estimation_backtracking': 'AnyImprovement', 'best_model_min_trees': 1, 'model_shrink_rate': 0, 'min_data_in_leaf': 1, 'loss_function': 'RMSE', 'learning_rate': 0.028226999565958977, 'score_function': 'Cosine', 'task_type': 'CPU', 'leaf_estimation_iterations': 1, 'bootstrap_type': 'MVS', 'max_leaves': 64}\n",
      "{'nan_mode': 'Min', 'eval_metric': 'RMSE', 'iterations': 1000, 'sampling_frequency': 'PerTree', 'leaf_estimation_method': 'Newton', 'grow_policy': 'SymmetricTree', 'penalties_coefficient': 1, 'boosting_type': 'Plain', 'model_shrink_mode': 'Constant', 'feature_border_type': 'GreedyLogSum', 'bayesian_matrix_reg': 0.10000000149011612, 'eval_fraction': 0, 'force_unit_auto_pair_weights': False, 'l2_leaf_reg': 3, 'random_strength': 1, 'rsm': 1, 'boost_from_average': True, 'model_size_reg': 0.5, 'pool_metainfo_options': {'tags': {}}, 'subsample': 1, 'use_best_model': False, 'random_seed': 0, 'depth': 6, 'posterior_sampling': False, 'border_count': 254, 'classes_count': 0, 'auto_class_weights': 'None', 'sparse_features_conflict_fraction': 0, 'leaf_estimation_backtracking': 'AnyImprovement', 'best_model_min_trees': 1, 'model_shrink_rate': 0, 'min_data_in_leaf': 1, 'loss_function': 'RMSE', 'learning_rate': 0.028226999565958977, 'score_function': 'Cosine', 'task_type': 'CPU', 'leaf_estimation_iterations': 1, 'bootstrap_type': 'MVS', 'max_leaves': 64}\n",
      "{'nan_mode': 'Min', 'eval_metric': 'RMSE', 'iterations': 1000, 'sampling_frequency': 'PerTree', 'leaf_estimation_method': 'Newton', 'grow_policy': 'SymmetricTree', 'penalties_coefficient': 1, 'boosting_type': 'Plain', 'model_shrink_mode': 'Constant', 'feature_border_type': 'GreedyLogSum', 'bayesian_matrix_reg': 0.10000000149011612, 'eval_fraction': 0, 'force_unit_auto_pair_weights': False, 'l2_leaf_reg': 3, 'random_strength': 1, 'rsm': 1, 'boost_from_average': True, 'model_size_reg': 0.5, 'pool_metainfo_options': {'tags': {}}, 'subsample': 1, 'use_best_model': False, 'random_seed': 0, 'depth': 6, 'posterior_sampling': False, 'border_count': 254, 'classes_count': 0, 'auto_class_weights': 'None', 'sparse_features_conflict_fraction': 0, 'leaf_estimation_backtracking': 'AnyImprovement', 'best_model_min_trees': 1, 'model_shrink_rate': 0, 'min_data_in_leaf': 1, 'loss_function': 'RMSE', 'learning_rate': 0.028272999450564384, 'score_function': 'Cosine', 'task_type': 'CPU', 'leaf_estimation_iterations': 1, 'bootstrap_type': 'MVS', 'max_leaves': 64}\n",
      "{'nan_mode': 'Min', 'eval_metric': 'RMSE', 'iterations': 1000, 'sampling_frequency': 'PerTree', 'leaf_estimation_method': 'Newton', 'grow_policy': 'SymmetricTree', 'penalties_coefficient': 1, 'boosting_type': 'Plain', 'model_shrink_mode': 'Constant', 'feature_border_type': 'GreedyLogSum', 'bayesian_matrix_reg': 0.10000000149011612, 'eval_fraction': 0, 'force_unit_auto_pair_weights': False, 'l2_leaf_reg': 3, 'random_strength': 1, 'rsm': 1, 'boost_from_average': True, 'model_size_reg': 0.5, 'pool_metainfo_options': {'tags': {}}, 'subsample': 1, 'use_best_model': False, 'random_seed': 0, 'depth': 6, 'posterior_sampling': False, 'border_count': 254, 'classes_count': 0, 'auto_class_weights': 'None', 'sparse_features_conflict_fraction': 0, 'leaf_estimation_backtracking': 'AnyImprovement', 'best_model_min_trees': 1, 'model_shrink_rate': 0, 'min_data_in_leaf': 1, 'loss_function': 'RMSE', 'learning_rate': 0.028272999450564384, 'score_function': 'Cosine', 'task_type': 'CPU', 'leaf_estimation_iterations': 1, 'bootstrap_type': 'MVS', 'max_leaves': 64}\n",
      "{'nan_mode': 'Min', 'eval_metric': 'RMSE', 'iterations': 1000, 'sampling_frequency': 'PerTree', 'leaf_estimation_method': 'Newton', 'grow_policy': 'SymmetricTree', 'penalties_coefficient': 1, 'boosting_type': 'Plain', 'model_shrink_mode': 'Constant', 'feature_border_type': 'GreedyLogSum', 'bayesian_matrix_reg': 0.10000000149011612, 'eval_fraction': 0, 'force_unit_auto_pair_weights': False, 'l2_leaf_reg': 3, 'random_strength': 1, 'rsm': 1, 'boost_from_average': True, 'model_size_reg': 0.5, 'pool_metainfo_options': {'tags': {}}, 'subsample': 1, 'use_best_model': False, 'random_seed': 0, 'depth': 6, 'posterior_sampling': False, 'border_count': 254, 'classes_count': 0, 'auto_class_weights': 'None', 'sparse_features_conflict_fraction': 0, 'leaf_estimation_backtracking': 'AnyImprovement', 'best_model_min_trees': 1, 'model_shrink_rate': 0, 'min_data_in_leaf': 1, 'loss_function': 'RMSE', 'learning_rate': 0.028272999450564384, 'score_function': 'Cosine', 'task_type': 'CPU', 'leaf_estimation_iterations': 1, 'bootstrap_type': 'MVS', 'max_leaves': 64}\n",
      "{'nan_mode': 'Min', 'eval_metric': 'RMSE', 'iterations': 1000, 'sampling_frequency': 'PerTree', 'leaf_estimation_method': 'Newton', 'grow_policy': 'SymmetricTree', 'penalties_coefficient': 1, 'boosting_type': 'Plain', 'model_shrink_mode': 'Constant', 'feature_border_type': 'GreedyLogSum', 'bayesian_matrix_reg': 0.10000000149011612, 'eval_fraction': 0, 'force_unit_auto_pair_weights': False, 'l2_leaf_reg': 3, 'random_strength': 1, 'rsm': 1, 'boost_from_average': True, 'model_size_reg': 0.5, 'pool_metainfo_options': {'tags': {}}, 'subsample': 1, 'use_best_model': False, 'random_seed': 0, 'depth': 6, 'posterior_sampling': False, 'border_count': 254, 'classes_count': 0, 'auto_class_weights': 'None', 'sparse_features_conflict_fraction': 0, 'leaf_estimation_backtracking': 'AnyImprovement', 'best_model_min_trees': 1, 'model_shrink_rate': 0, 'min_data_in_leaf': 1, 'loss_function': 'RMSE', 'learning_rate': 0.028272999450564384, 'score_function': 'Cosine', 'task_type': 'CPU', 'leaf_estimation_iterations': 1, 'bootstrap_type': 'MVS', 'max_leaves': 64}\n"
     ]
    },
    {
     "data": {
      "text/plain": [
       "('Catboost', 0.03548927382169304, 0.029194853794929546, 0.4647291485798465)"
      ]
     },
     "execution_count": 26,
     "metadata": {},
     "output_type": "execute_result"
    }
   ],
   "source": [
    "import Utils as utils\n",
    "from catboost import CatBoostRegressor\n",
    "from catboost import Pool\n",
    "\n",
    "# utils.evaluate_catboost(dfX,y,kf)\n",
    "def cbpred(dfX,y,kf):\n",
    "    vals = []\n",
    "    preds = []\n",
    "    cbr = CatBoostRegressor()\n",
    "    for train_index, test_index in kf.split(dfX):\n",
    "    # print(\"TRAIN:\", train_index, \"TEST:\", test_index)\n",
    "        X_train, X_test = dfX.iloc[train_index], dfX.iloc[test_index]\n",
    "        y_train, y_test = y.iloc[train_index], y.iloc[test_index]\n",
    "        train_pool = Pool(data=X_train, label=y_train)\n",
    "        test_pool = Pool(data=X_test, label=y_test)\n",
    "\n",
    "        \n",
    "        cbr.fit(train_pool, verbose=False)\n",
    "        cbr_pred = cbr.predict(test_pool)\n",
    "        print(cbr.get_all_params())\n",
    "        preds.append(cbr_pred)\n",
    "        vals.append(y_test)\n",
    "\n",
    "    return utils.error_rate(\"Catboost\",flatten(preds),flatten(vals))\n",
    "\n",
    "res = cbpred(dfX,y,kf)\n",
    "res\n"
   ]
  },
  {
   "cell_type": "code",
   "execution_count": 36,
   "metadata": {},
   "outputs": [
    {
     "name": "stderr",
     "output_type": "stream",
     "text": [
      "[I 2023-06-22 03:11:47,311] A new study created in memory with name: no-name-4e916f32-61ca-4a48-8e5f-fd2d4f899eed\n"
     ]
    },
    {
     "name": "stderr",
     "output_type": "stream",
     "text": [
      "[I 2023-06-22 03:11:59,050] Trial 0 finished with value: 0.03642721476769824 and parameters: {'iterations': 475, 'learning_rate': 0.027583475549166746, 'depth': 4, 'l2_leaf_reg': 1.0551779964424746e-05, 'bootstrap_type': 'Bayesian', 'random_strength': 2.0931628460945333e-07, 'bagging_temperature': 0.923385947687978, 'od_type': 'Iter', 'od_wait': 26}. Best is trial 0 with value: 0.03642721476769824.\n"
     ]
    },
    {
     "name": "stdout",
     "output_type": "stream",
     "text": [
      "('Catboost', 0.03642721476769824, 0.030143808240450282, 0.43606207652223017)\n"
     ]
    },
    {
     "name": "stderr",
     "output_type": "stream",
     "text": [
      "[I 2023-06-22 03:12:37,124] Trial 1 finished with value: 0.03595156429103307 and parameters: {'iterations': 585, 'learning_rate': 0.006892694481137703, 'depth': 8, 'l2_leaf_reg': 1.10795595820296e-06, 'bootstrap_type': 'Bayesian', 'random_strength': 0.7999391045172093, 'bagging_temperature': 0.27387593197926163, 'od_type': 'IncToDec', 'od_wait': 32}. Best is trial 1 with value: 0.03595156429103307.\n"
     ]
    },
    {
     "name": "stdout",
     "output_type": "stream",
     "text": [
      "('Catboost', 0.03595156429103307, 0.02903872046061371, 0.4506932297113502)\n"
     ]
    },
    {
     "name": "stderr",
     "output_type": "stream",
     "text": [
      "[I 2023-06-22 03:13:01,674] Trial 2 finished with value: 0.04822949097405422 and parameters: {'iterations': 226, 'learning_rate': 0.002490020818620744, 'depth': 9, 'l2_leaf_reg': 48.15215820395775, 'bootstrap_type': 'Bayesian', 'random_strength': 6.6193844201488494e-06, 'bagging_temperature': 6.923226156693141, 'od_type': 'Iter', 'od_wait': 13}. Best is trial 1 with value: 0.03595156429103307.\n"
     ]
    },
    {
     "name": "stdout",
     "output_type": "stream",
     "text": [
      "('Catboost', 0.04822949097405422, 0.03895073206180837, 0.011436150350658925)\n"
     ]
    },
    {
     "name": "stderr",
     "output_type": "stream",
     "text": [
      "[I 2023-06-22 03:13:31,687] Trial 3 finished with value: 0.04508210421713846 and parameters: {'iterations': 135, 'learning_rate': 0.002186053765545967, 'depth': 10, 'l2_leaf_reg': 9.62649829692002e-08, 'bootstrap_type': 'Bayesian', 'random_strength': 6.165504584878686e-05, 'bagging_temperature': 9.57889530150502, 'od_type': 'Iter', 'od_wait': 22}. Best is trial 1 with value: 0.03595156429103307.\n"
     ]
    },
    {
     "name": "stdout",
     "output_type": "stream",
     "text": [
      "('Catboost', 0.04508210421713846, 0.03655952080224513, 0.13625066587519508)\n"
     ]
    },
    {
     "name": "stderr",
     "output_type": "stream",
     "text": [
      "[I 2023-06-22 03:13:46,360] Trial 4 finished with value: 0.034439747767740475 and parameters: {'iterations': 718, 'learning_rate': 0.0466929533152365, 'depth': 4, 'l2_leaf_reg': 0.31728033064508887, 'bootstrap_type': 'Bayesian', 'random_strength': 7.938707489172784, 'bagging_temperature': 7.481656543798394, 'od_type': 'Iter', 'od_wait': 14}. Best is trial 4 with value: 0.034439747767740475.\n"
     ]
    },
    {
     "name": "stdout",
     "output_type": "stream",
     "text": [
      "('Catboost', 0.034439747767740475, 0.0280417796149387, 0.4959202021334821)\n"
     ]
    },
    {
     "name": "stderr",
     "output_type": "stream",
     "text": [
      "[I 2023-06-22 03:14:02,383] Trial 5 finished with value: 0.03777392860859133 and parameters: {'iterations': 503, 'learning_rate': 0.06564339077069614, 'depth': 6, 'l2_leaf_reg': 7.546635702360232e-06, 'bootstrap_type': 'Bayesian', 'random_strength': 1.4799844388224288e-07, 'bagging_temperature': 0.19366957870297075, 'od_type': 'IncToDec', 'od_wait': 20}. Best is trial 4 with value: 0.034439747767740475.\n"
     ]
    },
    {
     "name": "stdout",
     "output_type": "stream",
     "text": [
      "('Catboost', 0.03777392860859133, 0.031286219258802976, 0.3935937361588563)\n"
     ]
    },
    {
     "name": "stderr",
     "output_type": "stream",
     "text": [
      "[I 2023-06-22 03:14:37,213] Trial 6 finished with value: 0.04133449806534563 and parameters: {'iterations': 542, 'learning_rate': 0.001278571708054608, 'depth': 8, 'l2_leaf_reg': 2.9328222947799687e-07, 'bootstrap_type': 'Bayesian', 'random_strength': 0.0020125646126523387, 'bagging_temperature': 6.997583600209312, 'od_type': 'Iter', 'od_wait': 38}. Best is trial 4 with value: 0.034439747767740475.\n"
     ]
    },
    {
     "name": "stdout",
     "output_type": "stream",
     "text": [
      "('Catboost', 0.04133449806534563, 0.033417933989643114, 0.2738861764479341)\n"
     ]
    },
    {
     "name": "stderr",
     "output_type": "stream",
     "text": [
      "[I 2023-06-22 03:14:58,766] Trial 7 finished with value: 0.0421174045608394 and parameters: {'iterations': 473, 'learning_rate': 0.0012586556158866136, 'depth': 7, 'l2_leaf_reg': 0.043445665307147247, 'bootstrap_type': 'Bayesian', 'random_strength': 0.00043052860159544285, 'bagging_temperature': 9.445947559908133, 'od_type': 'Iter', 'od_wait': 15}. Best is trial 4 with value: 0.034439747767740475.\n"
     ]
    },
    {
     "name": "stdout",
     "output_type": "stream",
     "text": [
      "('Catboost', 0.0421174045608394, 0.034047236044251056, 0.2461193972218504)\n"
     ]
    },
    {
     "name": "stderr",
     "output_type": "stream",
     "text": [
      "[I 2023-06-22 03:15:06,821] Trial 8 finished with value: 0.0348692219409183 and parameters: {'iterations': 225, 'learning_rate': 0.04118912607048067, 'depth': 6, 'l2_leaf_reg': 4.503415011735204e-07, 'bootstrap_type': 'Bayesian', 'random_strength': 2.226266870634716, 'bagging_temperature': 3.477658597455066, 'od_type': 'IncToDec', 'od_wait': 46}. Best is trial 4 with value: 0.034439747767740475.\n"
     ]
    },
    {
     "name": "stdout",
     "output_type": "stream",
     "text": [
      "('Catboost', 0.0348692219409183, 0.02840646622322359, 0.4832697553628197)\n"
     ]
    },
    {
     "name": "stderr",
     "output_type": "stream",
     "text": [
      "[I 2023-06-22 03:15:27,676] Trial 9 finished with value: 0.034950121749204636 and parameters: {'iterations': 661, 'learning_rate': 0.03176031989459053, 'depth': 6, 'l2_leaf_reg': 5.003557761128302e-06, 'bootstrap_type': 'Bayesian', 'random_strength': 1.1560482583788434, 'bagging_temperature': 4.280911898712949, 'od_type': 'IncToDec', 'od_wait': 35}. Best is trial 4 with value: 0.034439747767740475.\n"
     ]
    },
    {
     "name": "stdout",
     "output_type": "stream",
     "text": [
      "('Catboost', 0.034950121749204636, 0.02829801794574053, 0.4808692503190206)\n"
     ]
    },
    {
     "name": "stderr",
     "output_type": "stream",
     "text": [
      "[I 2023-06-22 03:15:48,730] Trial 10 finished with value: 0.03536359901842227 and parameters: {'iterations': 990, 'learning_rate': 0.09019656591905319, 'depth': 4, 'l2_leaf_reg': 0.022010955893822615, 'bootstrap_type': 'Bayesian', 'random_strength': 0.01193638407379012, 'bagging_temperature': 6.6467292207941355, 'od_type': 'Iter', 'od_wait': 11}. Best is trial 4 with value: 0.034439747767740475.\n"
     ]
    },
    {
     "name": "stdout",
     "output_type": "stream",
     "text": [
      "('Catboost', 0.03536359901842227, 0.02844430892084362, 0.46851344412462204)\n"
     ]
    },
    {
     "name": "stderr",
     "output_type": "stream",
     "text": [
      "[I 2023-06-22 03:16:10,679] Trial 11 finished with value: 0.03426313706646334 and parameters: {'iterations': 827, 'learning_rate': 0.026266105616209012, 'depth': 5, 'l2_leaf_reg': 1.2053544890993001e-08, 'bootstrap_type': 'Bayesian', 'random_strength': 5.847655268968621, 'bagging_temperature': 2.8973904355087257, 'od_type': 'IncToDec', 'od_wait': 50}. Best is trial 11 with value: 0.03426313706646334.\n"
     ]
    },
    {
     "name": "stdout",
     "output_type": "stream",
     "text": [
      "('Catboost', 0.03426313706646334, 0.027744740562719767, 0.5010768960835604)\n"
     ]
    },
    {
     "name": "stderr",
     "output_type": "stream",
     "text": [
      "[I 2023-06-22 03:16:31,533] Trial 12 finished with value: 0.03416854032738452 and parameters: {'iterations': 845, 'learning_rate': 0.016062024412584166, 'depth': 5, 'l2_leaf_reg': 1.2586393601540324e-08, 'bootstrap_type': 'Bayesian', 'random_strength': 7.199168794229715, 'bagging_temperature': 2.43641048326954, 'od_type': 'IncToDec', 'od_wait': 49}. Best is trial 12 with value: 0.03416854032738452.\n"
     ]
    },
    {
     "name": "stdout",
     "output_type": "stream",
     "text": [
      "('Catboost', 0.03416854032738452, 0.02769925140283306, 0.5038280362625096)\n"
     ]
    },
    {
     "name": "stderr",
     "output_type": "stream",
     "text": [
      "[I 2023-06-22 03:16:54,534] Trial 13 finished with value: 0.03505032357838524 and parameters: {'iterations': 912, 'learning_rate': 0.013830326181067634, 'depth': 5, 'l2_leaf_reg': 2.679962473090798e-08, 'bootstrap_type': 'Bayesian', 'random_strength': 0.02282562188121865, 'bagging_temperature': 2.3316987348719733, 'od_type': 'IncToDec', 'od_wait': 50}. Best is trial 12 with value: 0.03416854032738452.\n"
     ]
    },
    {
     "name": "stdout",
     "output_type": "stream",
     "text": [
      "('Catboost', 0.03505032357838524, 0.028965633853095116, 0.4778882925679545)\n"
     ]
    },
    {
     "name": "stderr",
     "output_type": "stream",
     "text": [
      "[I 2023-06-22 03:17:16,209] Trial 14 finished with value: 0.03495421545600228 and parameters: {'iterations': 829, 'learning_rate': 0.016240503351995193, 'depth': 5, 'l2_leaf_reg': 1.2733187838404136e-08, 'bootstrap_type': 'Bayesian', 'random_strength': 0.11589061081054457, 'bagging_temperature': 2.433507232988099, 'od_type': 'IncToDec', 'od_wait': 42}. Best is trial 12 with value: 0.03416854032738452.\n"
     ]
    },
    {
     "name": "stdout",
     "output_type": "stream",
     "text": [
      "('Catboost', 0.03495421545600228, 0.028828378939755064, 0.4807476316560251)\n"
     ]
    },
    {
     "name": "stderr",
     "output_type": "stream",
     "text": [
      "[I 2023-06-22 03:17:37,145] Trial 15 finished with value: 0.03451449972774269 and parameters: {'iterations': 793, 'learning_rate': 0.008492603835910934, 'depth': 5, 'l2_leaf_reg': 9.304383300039174e-05, 'bootstrap_type': 'Bayesian', 'random_strength': 0.16479893314837835, 'bagging_temperature': 4.6959087692209565, 'od_type': 'IncToDec', 'od_wait': 49}. Best is trial 12 with value: 0.03416854032738452.\n"
     ]
    },
    {
     "name": "stdout",
     "output_type": "stream",
     "text": [
      "('Catboost', 0.03451449972774269, 0.0282821108938398, 0.49372960267478505)\n"
     ]
    },
    {
     "name": "stderr",
     "output_type": "stream",
     "text": [
      "[I 2023-06-22 03:18:14,643] Trial 16 finished with value: 0.03507689040574873 and parameters: {'iterations': 872, 'learning_rate': 0.020466315522269473, 'depth': 7, 'l2_leaf_reg': 1.656017794254543e-08, 'bootstrap_type': 'Bayesian', 'random_strength': 8.182244230984335, 'bagging_temperature': 1.9955575266631942, 'od_type': 'IncToDec', 'od_wait': 41}. Best is trial 12 with value: 0.03416854032738452.\n"
     ]
    },
    {
     "name": "stdout",
     "output_type": "stream",
     "text": [
      "('Catboost', 0.03507689040574873, 0.028194790244949322, 0.4770965105259568)\n"
     ]
    },
    {
     "name": "stderr",
     "output_type": "stream",
     "text": [
      "[I 2023-06-22 03:18:38,989] Trial 17 finished with value: 0.034897540657208286 and parameters: {'iterations': 997, 'learning_rate': 0.010461833881861463, 'depth': 5, 'l2_leaf_reg': 0.00011205305485654862, 'bootstrap_type': 'Bayesian', 'random_strength': 0.20443641450377803, 'bagging_temperature': 3.3541945245308797, 'od_type': 'IncToDec', 'od_wait': 44}. Best is trial 12 with value: 0.03416854032738452.\n"
     ]
    },
    {
     "name": "stdout",
     "output_type": "stream",
     "text": [
      "('Catboost', 0.034897540657208286, 0.028643574922555256, 0.48243009915800417)\n"
     ]
    },
    {
     "name": "stderr",
     "output_type": "stream",
     "text": [
      "[I 2023-06-22 03:19:02,069] Trial 18 finished with value: 0.035383150744655915 and parameters: {'iterations': 732, 'learning_rate': 0.02404194362231715, 'depth': 6, 'l2_leaf_reg': 1.260215130176073e-07, 'bootstrap_type': 'Bayesian', 'random_strength': 0.025555119611640968, 'bagging_temperature': 1.3851991565075723, 'od_type': 'IncToDec', 'od_wait': 37}. Best is trial 12 with value: 0.03416854032738452.\n"
     ]
    },
    {
     "name": "stdout",
     "output_type": "stream",
     "text": [
      "('Catboost', 0.035383150744655915, 0.02901835808964812, 0.46792558810703744)\n"
     ]
    },
    {
     "name": "stderr",
     "output_type": "stream",
     "text": [
      "[I 2023-06-22 03:19:17,223] Trial 19 finished with value: 0.035842687198561644 and parameters: {'iterations': 679, 'learning_rate': 0.006167272824680304, 'depth': 4, 'l2_leaf_reg': 1.005497122732549e-08, 'bootstrap_type': 'Bayesian', 'random_strength': 6.335573853187612, 'bagging_temperature': 3.5645576943609383, 'od_type': 'IncToDec', 'od_wait': 47}. Best is trial 12 with value: 0.03416854032738452.\n"
     ]
    },
    {
     "name": "stdout",
     "output_type": "stream",
     "text": [
      "('Catboost', 0.035842687198561644, 0.028995352533324366, 0.4540152750472528)\n"
     ]
    },
    {
     "name": "stderr",
     "output_type": "stream",
     "text": [
      "[I 2023-06-22 03:20:15,869] Trial 20 finished with value: 0.03518524951077193 and parameters: {'iterations': 919, 'learning_rate': 0.013368718013358353, 'depth': 8, 'l2_leaf_reg': 1.356778466726906e-06, 'bootstrap_type': 'Bayesian', 'random_strength': 0.7980384460668982, 'bagging_temperature': 5.528885128295014, 'od_type': 'IncToDec', 'od_wait': 29}. Best is trial 12 with value: 0.03416854032738452.\n"
     ]
    },
    {
     "name": "stdout",
     "output_type": "stream",
     "text": [
      "('Catboost', 0.03518524951077193, 0.028211590529668026, 0.4738608261616385)\n"
     ]
    },
    {
     "name": "stderr",
     "output_type": "stream",
     "text": [
      "[I 2023-06-22 03:20:32,575] Trial 21 finished with value: 0.035603612102428114 and parameters: {'iterations': 762, 'learning_rate': 0.05210522811534832, 'depth': 4, 'l2_leaf_reg': 0.006786364519255847, 'bootstrap_type': 'Bayesian', 'random_strength': 9.0900584652826, 'bagging_temperature': 1.5032791999428667, 'od_type': 'Iter', 'od_wait': 18}. Best is trial 12 with value: 0.03416854032738452.\n"
     ]
    },
    {
     "name": "stdout",
     "output_type": "stream",
     "text": [
      "('Catboost', 0.035603612102428114, 0.028982482623770425, 0.4612745533412408)\n"
     ]
    },
    {
     "name": "stderr",
     "output_type": "stream",
     "text": [
      "[I 2023-06-22 03:20:49,697] Trial 22 finished with value: 0.03470310276954676 and parameters: {'iterations': 637, 'learning_rate': 0.03851570666456303, 'depth': 5, 'l2_leaf_reg': 7.458339415902677e-08, 'bootstrap_type': 'Bayesian', 'random_strength': 1.4228430623202988, 'bagging_temperature': 5.531900763907436, 'od_type': 'Iter', 'od_wait': 23}. Best is trial 12 with value: 0.03416854032738452.\n"
     ]
    },
    {
     "name": "stdout",
     "output_type": "stream",
     "text": [
      "('Catboost', 0.03470310276954676, 0.028145891708127257, 0.4881814984168855)\n"
     ]
    },
    {
     "name": "stderr",
     "output_type": "stream",
     "text": [
      "[I 2023-06-22 03:21:04,696] Trial 23 finished with value: 0.03547089705823992 and parameters: {'iterations': 721, 'learning_rate': 0.05421110549255107, 'depth': 4, 'l2_leaf_reg': 0.2889582571120479, 'bootstrap_type': 'Bayesian', 'random_strength': 9.06070015168423, 'bagging_temperature': 2.7619244209038794, 'od_type': 'Iter', 'od_wait': 41}. Best is trial 12 with value: 0.03416854032738452.\n"
     ]
    },
    {
     "name": "stdout",
     "output_type": "stream",
     "text": [
      "('Catboost', 0.03547089705823992, 0.028727410289873374, 0.4652833441449481)\n"
     ]
    },
    {
     "name": "stderr",
     "output_type": "stream",
     "text": [
      "[I 2023-06-22 03:21:25,379] Trial 24 finished with value: 0.03500710314811044 and parameters: {'iterations': 844, 'learning_rate': 0.022147162244288268, 'depth': 5, 'l2_leaf_reg': 0.0005603015219617001, 'bootstrap_type': 'Bayesian', 'random_strength': 0.24159706753431962, 'bagging_temperature': 2.936777483659565, 'od_type': 'IncToDec', 'od_wait': 50}. Best is trial 12 with value: 0.03416854032738452.\n"
     ]
    },
    {
     "name": "stdout",
     "output_type": "stream",
     "text": [
      "('Catboost', 0.03500710314811044, 0.028586200125441653, 0.47917512688975494)\n"
     ]
    },
    {
     "name": "stderr",
     "output_type": "stream",
     "text": [
      "[I 2023-06-22 03:21:38,270] Trial 25 finished with value: 0.03494342258424925 and parameters: {'iterations': 363, 'learning_rate': 0.03458211762612016, 'depth': 6, 'l2_leaf_reg': 1.0212383361489933e-07, 'bootstrap_type': 'Bayesian', 'random_strength': 1.9168702339903454, 'bagging_temperature': 4.136971047872498, 'od_type': 'IncToDec', 'od_wait': 31}. Best is trial 12 with value: 0.03416854032738452.\n"
     ]
    },
    {
     "name": "stdout",
     "output_type": "stream",
     "text": [
      "('Catboost', 0.03494342258424925, 0.028624694819353574, 0.4810682430004961)\n"
     ]
    },
    {
     "name": "stderr",
     "output_type": "stream",
     "text": [
      "[I 2023-06-22 03:21:58,060] Trial 26 finished with value: 0.03691038317428428 and parameters: {'iterations': 913, 'learning_rate': 0.074745625588411, 'depth': 4, 'l2_leaf_reg': 1.0332673515436443e-06, 'bootstrap_type': 'Bayesian', 'random_strength': 0.05895230545597067, 'bagging_temperature': 1.8439526051554496, 'od_type': 'Iter', 'od_wait': 45}. Best is trial 12 with value: 0.03416854032738452.\n"
     ]
    },
    {
     "name": "stdout",
     "output_type": "stream",
     "text": [
      "('Catboost', 0.03691038317428428, 0.03046667918637813, 0.4210027836876331)\n"
     ]
    },
    {
     "name": "stderr",
     "output_type": "stream",
     "text": [
      "[I 2023-06-22 03:22:14,261] Trial 27 finished with value: 0.0364298100654178 and parameters: {'iterations': 603, 'learning_rate': 0.04549521233774216, 'depth': 5, 'l2_leaf_reg': 0.6820801295288849, 'bootstrap_type': 'Bayesian', 'random_strength': 0.005120419950200982, 'bagging_temperature': 1.0849710982551435, 'od_type': 'IncToDec', 'od_wait': 27}. Best is trial 12 with value: 0.03416854032738452.\n"
     ]
    },
    {
     "name": "stdout",
     "output_type": "stream",
     "text": [
      "('Catboost', 0.0364298100654178, 0.030246115595104536, 0.43598171688158494)\n"
     ]
    },
    {
     "name": "stderr",
     "output_type": "stream",
     "text": [
      "[I 2023-06-22 03:22:49,279] Trial 28 finished with value: 0.035792169391819895 and parameters: {'iterations': 771, 'learning_rate': 0.08897465446118055, 'depth': 7, 'l2_leaf_reg': 3.467993057881015e-05, 'bootstrap_type': 'Bayesian', 'random_strength': 0.33198486182836395, 'bagging_temperature': 2.8905017214483615, 'od_type': 'Iter', 'od_wait': 34}. Best is trial 12 with value: 0.03416854032738452.\n"
     ]
    },
    {
     "name": "stdout",
     "output_type": "stream",
     "text": [
      "('Catboost', 0.035792169391819895, 0.028680718299219032, 0.4555532464182849)\n"
     ]
    },
    {
     "name": "stderr",
     "output_type": "stream",
     "text": [
      "[I 2023-06-22 03:23:03,694] Trial 29 finished with value: 0.03676173846941547 and parameters: {'iterations': 697, 'learning_rate': 0.0278024058098123, 'depth': 4, 'l2_leaf_reg': 3.7978353270604517e-06, 'bootstrap_type': 'Bayesian', 'random_strength': 1.2506264557787206e-08, 'bagging_temperature': 0.6995773335247684, 'od_type': 'Iter', 'od_wait': 26}. Best is trial 12 with value: 0.03416854032738452.\n"
     ]
    },
    {
     "name": "stdout",
     "output_type": "stream",
     "text": [
      "('Catboost', 0.03676173846941547, 0.030509631264857652, 0.4256568438002829)\n"
     ]
    },
    {
     "name": "stderr",
     "output_type": "stream",
     "text": [
      "[I 2023-06-22 03:23:20,652] Trial 30 finished with value: 0.034762624736139607 and parameters: {'iterations': 822, 'learning_rate': 0.027065907687931472, 'depth': 4, 'l2_leaf_reg': 1.6003592890811105e-05, 'bootstrap_type': 'Bayesian', 'random_strength': 3.062251959248454, 'bagging_temperature': 2.1252836836096103, 'od_type': 'IncToDec', 'od_wait': 16}. Best is trial 12 with value: 0.03416854032738452.\n"
     ]
    },
    {
     "name": "stdout",
     "output_type": "stream",
     "text": [
      "('Catboost', 0.034762624736139607, 0.028523553158543914, 0.4864242740030801)\n"
     ]
    },
    {
     "name": "stderr",
     "output_type": "stream",
     "text": [
      "[I 2023-06-22 03:23:40,429] Trial 31 finished with value: 0.03481139528355326 and parameters: {'iterations': 792, 'learning_rate': 0.017907315058010992, 'depth': 5, 'l2_leaf_reg': 0.0005284180292391194, 'bootstrap_type': 'Bayesian', 'random_strength': 0.2765695312645724, 'bagging_temperature': 4.615512089270851, 'od_type': 'IncToDec', 'od_wait': 48}. Best is trial 12 with value: 0.03416854032738452.\n"
     ]
    },
    {
     "name": "stdout",
     "output_type": "stream",
     "text": [
      "('Catboost', 0.03481139528355326, 0.02849989480215832, 0.4849822114600334)\n"
     ]
    },
    {
     "name": "stderr",
     "output_type": "stream",
     "text": [
      "[I 2023-06-22 03:24:03,464] Trial 32 finished with value: 0.03442178602625926 and parameters: {'iterations': 882, 'learning_rate': 0.008451401531547865, 'depth': 5, 'l2_leaf_reg': 3.3983176696924483e-05, 'bootstrap_type': 'Bayesian', 'random_strength': 0.6024209860013093, 'bagging_temperature': 4.91914233984455, 'od_type': 'IncToDec', 'od_wait': 49}. Best is trial 12 with value: 0.03416854032738452.\n"
     ]
    },
    {
     "name": "stdout",
     "output_type": "stream",
     "text": [
      "('Catboost', 0.03442178602625926, 0.02805249433575256, 0.49644586161395277)\n"
     ]
    },
    {
     "name": "stderr",
     "output_type": "stream",
     "text": [
      "[I 2023-06-22 03:24:33,441] Trial 33 finished with value: 0.034651574924721255 and parameters: {'iterations': 908, 'learning_rate': 0.006140213881207405, 'depth': 6, 'l2_leaf_reg': 7.740471575046646e-07, 'bootstrap_type': 'Bayesian', 'random_strength': 2.663599248709871, 'bagging_temperature': 3.704504685293093, 'od_type': 'IncToDec', 'od_wait': 43}. Best is trial 12 with value: 0.03416854032738452.\n"
     ]
    },
    {
     "name": "stdout",
     "output_type": "stream",
     "text": [
      "('Catboost', 0.034651574924721255, 0.028137211169217666, 0.489700286232584)\n"
     ]
    },
    {
     "name": "stderr",
     "output_type": "stream",
     "text": [
      "[I 2023-06-22 03:24:58,435] Trial 34 finished with value: 0.03490532733791982 and parameters: {'iterations': 958, 'learning_rate': 0.011073331276555284, 'depth': 5, 'l2_leaf_reg': 2.6724048928988504e-07, 'bootstrap_type': 'Bayesian', 'random_strength': 0.7733458784502406, 'bagging_temperature': 0.7739308061035857, 'od_type': 'IncToDec', 'od_wait': 47}. Best is trial 12 with value: 0.03416854032738452.\n"
     ]
    },
    {
     "name": "stdout",
     "output_type": "stream",
     "text": [
      "('Catboost', 0.03490532733791982, 0.028560598466324562, 0.4821991028693676)\n"
     ]
    },
    {
     "name": "stderr",
     "output_type": "stream",
     "text": [
      "[I 2023-06-22 03:25:15,989] Trial 35 finished with value: 0.034424068775191906 and parameters: {'iterations': 868, 'learning_rate': 0.01668066262041373, 'depth': 4, 'l2_leaf_reg': 3.0676063380188727e-06, 'bootstrap_type': 'Bayesian', 'random_strength': 0.9000552652753006, 'bagging_temperature': 5.231655896106806, 'od_type': 'IncToDec', 'od_wait': 39}. Best is trial 12 with value: 0.03416854032738452.\n"
     ]
    },
    {
     "name": "stdout",
     "output_type": "stream",
     "text": [
      "('Catboost', 0.034424068775191906, 0.028242820118793057, 0.4963790710188145)\n"
     ]
    },
    {
     "name": "stderr",
     "output_type": "stream",
     "text": [
      "[I 2023-06-22 03:28:16,706] Trial 36 finished with value: 0.03599626350972381 and parameters: {'iterations': 887, 'learning_rate': 0.007844538806989359, 'depth': 10, 'l2_leaf_reg': 4.388370894153285e-08, 'bootstrap_type': 'Bayesian', 'random_strength': 0.561021243352816, 'bagging_temperature': 5.5445228900770225, 'od_type': 'IncToDec', 'od_wait': 39}. Best is trial 12 with value: 0.03416854032738452.\n"
     ]
    },
    {
     "name": "stdout",
     "output_type": "stream",
     "text": [
      "('Catboost', 0.03599626350972381, 0.029004513150013185, 0.44932645483569555)\n"
     ]
    },
    {
     "name": "stderr",
     "output_type": "stream",
     "text": [
      "[I 2023-06-22 03:28:46,774] Trial 37 finished with value: 0.035484847108577286 and parameters: {'iterations': 958, 'learning_rate': 0.020163779933632754, 'depth': 6, 'l2_leaf_reg': 1.950627399414099e-06, 'bootstrap_type': 'Bayesian', 'random_strength': 0.07440866708818511, 'bagging_temperature': 4.739958524589833, 'od_type': 'IncToDec', 'od_wait': 44}. Best is trial 12 with value: 0.03416854032738452.\n"
     ]
    },
    {
     "name": "stdout",
     "output_type": "stream",
     "text": [
      "('Catboost', 0.035484847108577286, 0.02904309543671072, 0.46486267302064255)\n"
     ]
    },
    {
     "name": "stderr",
     "output_type": "stream",
     "text": [
      "[I 2023-06-22 03:29:29,459] Trial 38 finished with value: 0.03563679278215002 and parameters: {'iterations': 436, 'learning_rate': 0.014759220031257422, 'depth': 9, 'l2_leaf_reg': 2.454561041288139e-07, 'bootstrap_type': 'Bayesian', 'random_strength': 0.6279126861421669, 'bagging_temperature': 3.9390468116435664, 'od_type': 'IncToDec', 'od_wait': 40}. Best is trial 12 with value: 0.03416854032738452.\n"
     ]
    },
    {
     "name": "stdout",
     "output_type": "stream",
     "text": [
      "('Catboost', 0.03563679278215002, 0.028569891368367736, 0.4602699583098496)\n"
     ]
    },
    {
     "name": "stderr",
     "output_type": "stream",
     "text": [
      "[I 2023-06-22 03:29:51,916] Trial 39 finished with value: 0.03504759227074851 and parameters: {'iterations': 858, 'learning_rate': 0.0047595694941420085, 'depth': 5, 'l2_leaf_reg': 4.0480088685732686e-08, 'bootstrap_type': 'Bayesian', 'random_strength': 2.7935149704626747, 'bagging_temperature': 3.0953737083726858, 'od_type': 'IncToDec', 'od_wait': 46}. Best is trial 12 with value: 0.03416854032738452.\n"
     ]
    },
    {
     "name": "stdout",
     "output_type": "stream",
     "text": [
      "('Catboost', 0.03504759227074851, 0.028416354683066747, 0.4779696608399441)\n"
     ]
    },
    {
     "name": "stderr",
     "output_type": "stream",
     "text": [
      "[I 2023-06-22 03:30:04,506] Trial 40 finished with value: 0.03474737827151998 and parameters: {'iterations': 566, 'learning_rate': 0.011558923753497874, 'depth': 4, 'l2_leaf_reg': 1.1674889938422209e-05, 'bootstrap_type': 'Bayesian', 'random_strength': 0.04949600444425042, 'bagging_temperature': 5.18427973693392, 'od_type': 'IncToDec', 'od_wait': 36}. Best is trial 12 with value: 0.03416854032738452.\n"
     ]
    },
    {
     "name": "stdout",
     "output_type": "stream",
     "text": [
      "('Catboost', 0.03474737827151998, 0.028633532194649692, 0.4868746713523575)\n"
     ]
    },
    {
     "name": "stderr",
     "output_type": "stream",
     "text": [
      "[I 2023-06-22 03:30:19,677] Trial 41 finished with value: 0.034435200384226976 and parameters: {'iterations': 740, 'learning_rate': 0.030543396930316123, 'depth': 4, 'l2_leaf_reg': 3.035350892557577e-06, 'bootstrap_type': 'Bayesian', 'random_strength': 3.2579357660951573, 'bagging_temperature': 6.425074783937019, 'od_type': 'Iter', 'od_wait': 50}. Best is trial 12 with value: 0.03416854032738452.\n"
     ]
    },
    {
     "name": "stdout",
     "output_type": "stream",
     "text": [
      "('Catboost', 0.034435200384226976, 0.028062615789480473, 0.49605330954444016)\n"
     ]
    },
    {
     "name": "stderr",
     "output_type": "stream",
     "text": [
      "[I 2023-06-22 03:30:36,052] Trial 42 finished with value: 0.03462501040403252 and parameters: {'iterations': 814, 'learning_rate': 0.03094528143986858, 'depth': 4, 'l2_leaf_reg': 4.758327846412952e-06, 'bootstrap_type': 'Bayesian', 'random_strength': 2.951368824615135, 'bagging_temperature': 6.136913983519132, 'od_type': 'Iter', 'od_wait': 50}. Best is trial 12 with value: 0.03416854032738452.\n"
     ]
    },
    {
     "name": "stdout",
     "output_type": "stream",
     "text": [
      "('Catboost', 0.03462501040403252, 0.02828549816521272, 0.4904823962086763)\n"
     ]
    },
    {
     "name": "stderr",
     "output_type": "stream",
     "text": [
      "[I 2023-06-22 03:30:52,268] Trial 43 finished with value: 0.03475114731916296 and parameters: {'iterations': 747, 'learning_rate': 0.01727348055751166, 'depth': 4, 'l2_leaf_reg': 6.185655181377479e-07, 'bootstrap_type': 'Bayesian', 'random_strength': 0.6653883663164503, 'bagging_temperature': 4.215037245489702, 'od_type': 'IncToDec', 'od_wait': 48}. Best is trial 12 with value: 0.03416854032738452.\n"
     ]
    },
    {
     "name": "stdout",
     "output_type": "stream",
     "text": [
      "('Catboost', 0.03475114731916296, 0.028549702118454687, 0.4867633479203841)\n"
     ]
    },
    {
     "name": "stderr",
     "output_type": "stream",
     "text": [
      "[I 2023-06-22 03:31:17,266] Trial 44 finished with value: 0.03454476894495555 and parameters: {'iterations': 951, 'learning_rate': 0.023648011614216726, 'depth': 5, 'l2_leaf_reg': 2.669754834796233e-06, 'bootstrap_type': 'Bayesian', 'random_strength': 3.9636547540411136, 'bagging_temperature': 6.369788779192113, 'od_type': 'IncToDec', 'od_wait': 45}. Best is trial 12 with value: 0.03416854032738452.\n"
     ]
    },
    {
     "name": "stdout",
     "output_type": "stream",
     "text": [
      "('Catboost', 0.03454476894495555, 0.02793495868969524, 0.4928412149826902)\n"
     ]
    },
    {
     "name": "stderr",
     "output_type": "stream",
     "text": [
      "[I 2023-06-22 03:31:46,088] Trial 45 finished with value: 0.03482332824489068 and parameters: {'iterations': 859, 'learning_rate': 0.012684677961544471, 'depth': 6, 'l2_leaf_reg': 1.9905235463512996e-07, 'bootstrap_type': 'Bayesian', 'random_strength': 1.3156046181904286, 'bagging_temperature': 7.271550011190002, 'od_type': 'Iter', 'od_wait': 48}. Best is trial 12 with value: 0.03416854032738452.\n"
     ]
    },
    {
     "name": "stdout",
     "output_type": "stream",
     "text": [
      "('Catboost', 0.03482332824489068, 0.028359854538801473, 0.484629066138193)\n"
     ]
    },
    {
     "name": "stderr",
     "output_type": "stream",
     "text": [
      "[I 2023-06-22 03:31:59,825] Trial 46 finished with value: 0.034442994617110916 and parameters: {'iterations': 633, 'learning_rate': 0.0182386197451279, 'depth': 4, 'l2_leaf_reg': 2.835387153691211e-08, 'bootstrap_type': 'Bayesian', 'random_strength': 8.941267745993477, 'bagging_temperature': 7.890733449938405, 'od_type': 'IncToDec', 'od_wait': 50}. Best is trial 12 with value: 0.03416854032738452.\n"
     ]
    },
    {
     "name": "stdout",
     "output_type": "stream",
     "text": [
      "('Catboost', 0.034442994617110916, 0.028288531966221584, 0.4958251521734778)\n"
     ]
    },
    {
     "name": "stderr",
     "output_type": "stream",
     "text": [
      "[I 2023-06-22 03:32:19,400] Trial 47 finished with value: 0.03496728402094424 and parameters: {'iterations': 801, 'learning_rate': 0.035468960877318885, 'depth': 5, 'l2_leaf_reg': 4.7210866916838464e-07, 'bootstrap_type': 'Bayesian', 'random_strength': 0.11656930505491314, 'bagging_temperature': 6.039612950485813, 'od_type': 'IncToDec', 'od_wait': 43}. Best is trial 12 with value: 0.03416854032738452.\n"
     ]
    },
    {
     "name": "stdout",
     "output_type": "stream",
     "text": [
      "('Catboost', 0.03496728402094424, 0.028613073342132075, 0.48035928640209347)\n"
     ]
    },
    {
     "name": "stderr",
     "output_type": "stream",
     "text": [
      "[I 2023-06-22 03:33:14,916] Trial 48 finished with value: 0.035452350924996885 and parameters: {'iterations': 885, 'learning_rate': 0.02599454271309864, 'depth': 8, 'l2_leaf_reg': 8.342045661134873e-08, 'bootstrap_type': 'Bayesian', 'random_strength': 0.3831986236282533, 'bagging_temperature': 2.603534504657639, 'od_type': 'Iter', 'od_wait': 46}. Best is trial 12 with value: 0.03416854032738452.\n"
     ]
    },
    {
     "name": "stdout",
     "output_type": "stream",
     "text": [
      "('Catboost', 0.035452350924996885, 0.02842507749976895, 0.4658423564402159)\n"
     ]
    },
    {
     "name": "stderr",
     "output_type": "stream",
     "text": [
      "[I 2023-06-22 03:33:34,032] Trial 49 finished with value: 0.03446376067435473 and parameters: {'iterations': 951, 'learning_rate': 0.016001931941039358, 'depth': 4, 'l2_leaf_reg': 1.1649862211769901e-08, 'bootstrap_type': 'Bayesian', 'random_strength': 1.5926106004767078, 'bagging_temperature': 3.846792096614926, 'od_type': 'IncToDec', 'od_wait': 33}. Best is trial 12 with value: 0.03416854032738452.\n"
     ]
    },
    {
     "name": "stdout",
     "output_type": "stream",
     "text": [
      "('Catboost', 0.03446376067435473, 0.028282492589423173, 0.4952170238720557)\n"
     ]
    },
    {
     "name": "stderr",
     "output_type": "stream",
     "text": [
      "[I 2023-06-22 03:34:04,931] Trial 50 finished with value: 0.03496197055107089 and parameters: {'iterations': 711, 'learning_rate': 0.009013540834320093, 'depth': 7, 'l2_leaf_reg': 9.561244093590496e-06, 'bootstrap_type': 'Bayesian', 'random_strength': 4.560518106218426, 'bagging_temperature': 3.2087703660008113, 'od_type': 'IncToDec', 'od_wait': 38}. Best is trial 12 with value: 0.03416854032738452.\n"
     ]
    },
    {
     "name": "stdout",
     "output_type": "stream",
     "text": [
      "('Catboost', 0.03496197055107089, 0.02823816591165148, 0.4805171988949971)\n"
     ]
    },
    {
     "name": "stderr",
     "output_type": "stream",
     "text": [
      "[I 2023-06-22 03:34:21,736] Trial 51 finished with value: 0.034583891087451 and parameters: {'iterations': 768, 'learning_rate': 0.03086954625015724, 'depth': 4, 'l2_leaf_reg': 4.396956982895671e-05, 'bootstrap_type': 'Bayesian', 'random_strength': 1.224775727306112, 'bagging_temperature': 7.29895325442538, 'od_type': 'Iter', 'od_wait': 10}. Best is trial 12 with value: 0.03416854032738452.\n"
     ]
    },
    {
     "name": "stdout",
     "output_type": "stream",
     "text": [
      "('Catboost', 0.034583891087451, 0.028303878947041824, 0.49169184424082857)\n"
     ]
    },
    {
     "name": "stderr",
     "output_type": "stream",
     "text": [
      "[I 2023-06-22 03:34:39,495] Trial 52 finished with value: 0.03546914743008886 and parameters: {'iterations': 666, 'learning_rate': 0.04063784382411055, 'depth': 5, 'l2_leaf_reg': 2.4243725635719165e-08, 'bootstrap_type': 'Bayesian', 'random_strength': 5.316578156084264, 'bagging_temperature': 0.10699665239417477, 'od_type': 'Iter', 'od_wait': 22}. Best is trial 12 with value: 0.03416854032738452.\n"
     ]
    },
    {
     "name": "stdout",
     "output_type": "stream",
     "text": [
      "('Catboost', 0.03546914743008886, 0.028730215122027634, 0.4653360934305901)\n"
     ]
    },
    {
     "name": "stderr",
     "output_type": "stream",
     "text": [
      "[I 2023-06-22 03:35:00,357] Trial 53 finished with value: 0.034242574971259675 and parameters: {'iterations': 843, 'learning_rate': 0.019407507427584295, 'depth': 5, 'l2_leaf_reg': 1.3155547527781956e-06, 'bootstrap_type': 'Bayesian', 'random_strength': 8.547693470142383, 'bagging_temperature': 5.107011417267561, 'od_type': 'Iter', 'od_wait': 48}. Best is trial 12 with value: 0.03416854032738452.\n"
     ]
    },
    {
     "name": "stdout",
     "output_type": "stream",
     "text": [
      "('Catboost', 0.034242574971259675, 0.027700998365049787, 0.5016755468165697)\n"
     ]
    },
    {
     "name": "stderr",
     "output_type": "stream",
     "text": [
      "[I 2023-06-22 03:35:20,804] Trial 54 finished with value: 0.0342762694529225 and parameters: {'iterations': 835, 'learning_rate': 0.015405124140543002, 'depth': 5, 'l2_leaf_reg': 7.97030513877809e-07, 'bootstrap_type': 'Bayesian', 'random_strength': 4.414323812883606, 'bagging_temperature': 4.563246074631377, 'od_type': 'Iter', 'od_wait': 48}. Best is trial 12 with value: 0.03416854032738452.\n"
     ]
    },
    {
     "name": "stdout",
     "output_type": "stream",
     "text": [
      "('Catboost', 0.0342762694529225, 0.027880217167269572, 0.5006943679666831)\n"
     ]
    },
    {
     "name": "stderr",
     "output_type": "stream",
     "text": [
      "[I 2023-06-22 03:35:42,558] Trial 55 finished with value: 0.034235950301094206 and parameters: {'iterations': 840, 'learning_rate': 0.014272167980175726, 'depth': 5, 'l2_leaf_reg': 1.0753348314548604e-06, 'bootstrap_type': 'Bayesian', 'random_strength': 9.397272838535043, 'bagging_temperature': 4.457890424387557, 'od_type': 'Iter', 'od_wait': 48}. Best is trial 12 with value: 0.03416854032738452.\n"
     ]
    },
    {
     "name": "stdout",
     "output_type": "stream",
     "text": [
      "('Catboost', 0.034235950301094206, 0.027656521264079338, 0.501868342820207)\n"
     ]
    },
    {
     "name": "stderr",
     "output_type": "stream",
     "text": [
      "[I 2023-06-22 03:35:48,386] Trial 56 finished with value: 0.03759655203110164 and parameters: {'iterations': 154, 'learning_rate': 0.013512144720416275, 'depth': 6, 'l2_leaf_reg': 1.49660219691566e-07, 'bootstrap_type': 'Bayesian', 'random_strength': 8.633710957525695, 'bagging_temperature': 3.4472241070914738, 'od_type': 'Iter', 'od_wait': 48}. Best is trial 12 with value: 0.03416854032738452.\n"
     ]
    },
    {
     "name": "stdout",
     "output_type": "stream",
     "text": [
      "('Catboost', 0.03759655203110164, 0.030468801242029227, 0.3992754181727326)\n"
     ]
    },
    {
     "name": "stderr",
     "output_type": "stream",
     "text": [
      "[I 2023-06-22 03:36:16,160] Trial 57 finished with value: 0.034835066571655846 and parameters: {'iterations': 834, 'learning_rate': 0.01967240354434698, 'depth': 6, 'l2_leaf_reg': 4.2953564755919247e-07, 'bootstrap_type': 'Bayesian', 'random_strength': 9.099899374851216, 'bagging_temperature': 4.508430016557549, 'od_type': 'Iter', 'od_wait': 46}. Best is trial 12 with value: 0.03416854032738452.\n"
     ]
    },
    {
     "name": "stdout",
     "output_type": "stream",
     "text": [
      "('Catboost', 0.034835066571655846, 0.02808234084852555, 0.484281562764042)\n"
     ]
    },
    {
     "name": "stderr",
     "output_type": "stream",
     "text": [
      "[I 2023-06-22 03:36:42,137] Trial 58 finished with value: 0.03423258785251438 and parameters: {'iterations': 996, 'learning_rate': 0.010460405086765174, 'depth': 5, 'l2_leaf_reg': 1.3060090849951942e-06, 'bootstrap_type': 'Bayesian', 'random_strength': 1.6062973132969127, 'bagging_temperature': 4.241232107657144, 'od_type': 'Iter', 'od_wait': 42}. Best is trial 12 with value: 0.03416854032738452.\n"
     ]
    },
    {
     "name": "stdout",
     "output_type": "stream",
     "text": [
      "('Catboost', 0.03423258785251438, 0.027864683851827783, 0.501966184990041)\n"
     ]
    },
    {
     "name": "stderr",
     "output_type": "stream",
     "text": [
      "[I 2023-06-22 03:37:07,672] Trial 59 finished with value: 0.03435506944206504 and parameters: {'iterations': 994, 'learning_rate': 0.010781855359460675, 'depth': 5, 'l2_leaf_reg': 5.832591406452925e-08, 'bootstrap_type': 'Bayesian', 'random_strength': 4.753156747984247, 'bagging_temperature': 4.3031588326999834, 'od_type': 'Iter', 'od_wait': 42}. Best is trial 12 with value: 0.03416854032738452.\n"
     ]
    },
    {
     "name": "stdout",
     "output_type": "stream",
     "text": [
      "('Catboost', 0.03435506944206504, 0.027803383671873808, 0.49839595534788184)\n"
     ]
    },
    {
     "name": "stderr",
     "output_type": "stream",
     "text": [
      "[I 2023-06-22 03:37:36,349] Trial 60 finished with value: 0.03469569692759624 and parameters: {'iterations': 933, 'learning_rate': 0.021393851161349557, 'depth': 6, 'l2_leaf_reg': 1.073844073870075e-08, 'bootstrap_type': 'Bayesian', 'random_strength': 1.7588296465049371, 'bagging_temperature': 3.975951867823616, 'od_type': 'Iter', 'od_wait': 44}. Best is trial 12 with value: 0.03416854032738452.\n"
     ]
    },
    {
     "name": "stdout",
     "output_type": "stream",
     "text": [
      "('Catboost', 0.03469569692759624, 0.028129889577023785, 0.4883999251381873)\n"
     ]
    },
    {
     "name": "stderr",
     "output_type": "stream",
     "text": [
      "[I 2023-06-22 03:38:01,556] Trial 61 finished with value: 0.034236661418893 and parameters: {'iterations': 1000, 'learning_rate': 0.010296632325451872, 'depth': 5, 'l2_leaf_reg': 6.647202300367441e-08, 'bootstrap_type': 'Bayesian', 'random_strength': 5.031483487369588, 'bagging_temperature': 4.293686277956615, 'od_type': 'Iter', 'od_wait': 42}. Best is trial 12 with value: 0.03416854032738452.\n"
     ]
    },
    {
     "name": "stdout",
     "output_type": "stream",
     "text": [
      "('Catboost', 0.034236661418893, 0.02778099312762568, 0.5018476491363266)\n"
     ]
    },
    {
     "name": "stderr",
     "output_type": "stream",
     "text": [
      "[I 2023-06-22 03:38:27,113] Trial 62 finished with value: 0.034358041815847805 and parameters: {'iterations': 979, 'learning_rate': 0.01467015700263723, 'depth': 5, 'l2_leaf_reg': 1.0670589955735484e-06, 'bootstrap_type': 'Bayesian', 'random_strength': 3.9542541983466117, 'bagging_temperature': 4.384257377494767, 'od_type': 'Iter', 'od_wait': 48}. Best is trial 12 with value: 0.03416854032738452.\n"
     ]
    },
    {
     "name": "stdout",
     "output_type": "stream",
     "text": [
      "('Catboost', 0.034358041815847805, 0.0278972194549943, 0.49830915481253224)\n"
     ]
    },
    {
     "name": "stderr",
     "output_type": "stream",
     "text": [
      "[I 2023-06-22 03:38:50,302] Trial 63 finished with value: 0.03436803508246431 and parameters: {'iterations': 914, 'learning_rate': 0.012413653920129282, 'depth': 5, 'l2_leaf_reg': 1.0340279879198859e-07, 'bootstrap_type': 'Bayesian', 'random_strength': 1.901689259639864, 'bagging_temperature': 3.63055168745228, 'od_type': 'Iter', 'od_wait': 45}. Best is trial 12 with value: 0.03416854032738452.\n"
     ]
    },
    {
     "name": "stdout",
     "output_type": "stream",
     "text": [
      "('Catboost', 0.03436803508246431, 0.02804439844626404, 0.4980172720846783)\n"
     ]
    },
    {
     "name": "stderr",
     "output_type": "stream",
     "text": [
      "[I 2023-06-22 03:39:09,921] Trial 64 finished with value: 0.03492401392606787 and parameters: {'iterations': 793, 'learning_rate': 0.009978705384686856, 'depth': 5, 'l2_leaf_reg': 2.347470210847788e-08, 'bootstrap_type': 'Bayesian', 'random_strength': 0.19259030621388004, 'bagging_temperature': 3.247967944336814, 'od_type': 'Iter', 'od_wait': 47}. Best is trial 12 with value: 0.03416854032738452.\n"
     ]
    },
    {
     "name": "stdout",
     "output_type": "stream",
     "text": [
      "('Catboost', 0.03492401392606787, 0.028671350121130732, 0.4816445444192068)\n"
     ]
    },
    {
     "name": "stderr",
     "output_type": "stream",
     "text": [
      "[I 2023-06-22 03:39:28,100] Trial 65 finished with value: 0.03480818237299015 and parameters: {'iterations': 526, 'learning_rate': 0.014694363601063564, 'depth': 6, 'l2_leaf_reg': 5.566331737682302e-08, 'bootstrap_type': 'Bayesian', 'random_strength': 4.958583247149041, 'bagging_temperature': 2.455486803065458, 'od_type': 'Iter', 'od_wait': 42}. Best is trial 12 with value: 0.03416854032738452.\n"
     ]
    },
    {
     "name": "stdout",
     "output_type": "stream",
     "text": [
      "('Catboost', 0.03480818237299015, 0.02837809591856579, 0.4850772739945356)\n"
     ]
    },
    {
     "name": "stderr",
     "output_type": "stream",
     "text": [
      "[I 2023-06-22 03:39:52,703] Trial 66 finished with value: 0.03430799384882066 and parameters: {'iterations': 975, 'learning_rate': 0.023086276606295322, 'depth': 5, 'l2_leaf_reg': 2.2582823812522436e-07, 'bootstrap_type': 'Bayesian', 'random_strength': 1.2832608769528886, 'bagging_temperature': 4.862677478004911, 'od_type': 'Iter', 'od_wait': 49}. Best is trial 12 with value: 0.03416854032738452.\n"
     ]
    },
    {
     "name": "stdout",
     "output_type": "stream",
     "text": [
      "('Catboost', 0.03430799384882066, 0.027648796517341152, 0.4997696757390293)\n"
     ]
    },
    {
     "name": "stderr",
     "output_type": "stream",
     "text": [
      "[I 2023-06-22 03:40:12,990] Trial 67 finished with value: 0.03408314614979994 and parameters: {'iterations': 836, 'learning_rate': 0.018369975117039684, 'depth': 5, 'l2_leaf_reg': 1.1994924961669811e-06, 'bootstrap_type': 'Bayesian', 'random_strength': 9.311341227775438, 'bagging_temperature': 4.088561104847901, 'od_type': 'Iter', 'od_wait': 44}. Best is trial 67 with value: 0.03408314614979994.\n"
     ]
    },
    {
     "name": "stdout",
     "output_type": "stream",
     "text": [
      "('Catboost', 0.03408314614979994, 0.027608649962985995, 0.5063050077971629)\n"
     ]
    },
    {
     "name": "stderr",
     "output_type": "stream",
     "text": [
      "[I 2023-06-22 03:40:35,788] Trial 68 finished with value: 0.034460072585824446 and parameters: {'iterations': 900, 'learning_rate': 0.019077237377529237, 'depth': 5, 'l2_leaf_reg': 1.3299441178119243e-06, 'bootstrap_type': 'Bayesian', 'random_strength': 2.1485545944165807, 'bagging_temperature': 2.833060731098512, 'od_type': 'Iter', 'od_wait': 41}. Best is trial 67 with value: 0.03408314614979994.\n"
     ]
    },
    {
     "name": "stdout",
     "output_type": "stream",
     "text": [
      "('Catboost', 0.034460072585824446, 0.027797508834312756, 0.4953250553030669)\n"
     ]
    },
    {
     "name": "stderr",
     "output_type": "stream",
     "text": [
      "[I 2023-06-22 03:41:06,984] Trial 69 finished with value: 0.034843125578282036 and parameters: {'iterations': 938, 'learning_rate': 0.012406859184673323, 'depth': 6, 'l2_leaf_reg': 1.2400252519699495e-07, 'bootstrap_type': 'Bayesian', 'random_strength': 8.929286785955428, 'bagging_temperature': 4.088664460795018, 'od_type': 'Iter', 'od_wait': 43}. Best is trial 67 with value: 0.03408314614979994.\n"
     ]
    },
    {
     "name": "stdout",
     "output_type": "stream",
     "text": [
      "('Catboost', 0.034843125578282036, 0.028276304086213462, 0.4840429147881481)\n"
     ]
    },
    {
     "name": "stderr",
     "output_type": "stream",
     "text": [
      "[I 2023-06-22 03:41:16,238] Trial 70 finished with value: 0.03572249249846342 and parameters: {'iterations': 324, 'learning_rate': 0.009679407572547361, 'depth': 5, 'l2_leaf_reg': 1.834145313596391e-08, 'bootstrap_type': 'Bayesian', 'random_strength': 0.32450017777854484, 'bagging_temperature': 3.553816994883932, 'od_type': 'Iter', 'od_wait': 45}. Best is trial 67 with value: 0.03408314614979994.\n"
     ]
    },
    {
     "name": "stdout",
     "output_type": "stream",
     "text": [
      "('Catboost', 0.03572249249846342, 0.029004497538138392, 0.45767094056779156)\n"
     ]
    },
    {
     "name": "stderr",
     "output_type": "stream",
     "text": [
      "[I 2023-06-22 03:41:37,998] Trial 71 finished with value: 0.03425390439530384 and parameters: {'iterations': 842, 'learning_rate': 0.016006468243529935, 'depth': 5, 'l2_leaf_reg': 4.983507323912417e-07, 'bootstrap_type': 'Bayesian', 'random_strength': 5.201598969773348, 'bagging_temperature': 4.535643266911871, 'od_type': 'Iter', 'od_wait': 46}. Best is trial 67 with value: 0.03408314614979994.\n"
     ]
    },
    {
     "name": "stdout",
     "output_type": "stream",
     "text": [
      "('Catboost', 0.03425390439530384, 0.027795138398362677, 0.5013457431722315)\n"
     ]
    },
    {
     "name": "stderr",
     "output_type": "stream",
     "text": [
      "[I 2023-06-22 03:41:58,949] Trial 72 finished with value: 0.03430835763560635 and parameters: {'iterations': 847, 'learning_rate': 0.021540140057859442, 'depth': 5, 'l2_leaf_reg': 3.675069503130021e-07, 'bootstrap_type': 'Bayesian', 'random_strength': 5.837283190476054, 'bagging_temperature': 4.359881203583618, 'od_type': 'Iter', 'od_wait': 46}. Best is trial 67 with value: 0.03408314614979994.\n"
     ]
    },
    {
     "name": "stdout",
     "output_type": "stream",
     "text": [
      "('Catboost', 0.03430835763560635, 0.027689250945879845, 0.4997590672407666)\n"
     ]
    },
    {
     "name": "stderr",
     "output_type": "stream",
     "text": [
      "[I 2023-06-22 03:42:24,058] Trial 73 finished with value: 0.03432154885027368 and parameters: {'iterations': 1000, 'learning_rate': 0.01745995860292416, 'depth': 5, 'l2_leaf_reg': 3.88980702209215e-08, 'bootstrap_type': 'Bayesian', 'random_strength': 9.44896159780449, 'bagging_temperature': 3.7690800100692075, 'od_type': 'Iter', 'od_wait': 47}. Best is trial 67 with value: 0.03408314614979994.\n"
     ]
    },
    {
     "name": "stdout",
     "output_type": "stream",
     "text": [
      "('Catboost', 0.03432154885027368, 0.027734234284946434, 0.4993743181844299)\n"
     ]
    },
    {
     "name": "stderr",
     "output_type": "stream",
     "text": [
      "[I 2023-06-22 03:42:46,211] Trial 74 finished with value: 0.034390469999784734 and parameters: {'iterations': 814, 'learning_rate': 0.025375945095888263, 'depth': 5, 'l2_leaf_reg': 1.9094090860741654e-06, 'bootstrap_type': 'Bayesian', 'random_strength': 2.442434795142864, 'bagging_temperature': 5.034595446194267, 'od_type': 'Iter', 'od_wait': 49}. Best is trial 67 with value: 0.03408314614979994.\n"
     ]
    },
    {
     "name": "stdout",
     "output_type": "stream",
     "text": [
      "('Catboost', 0.034390469999784734, 0.027753548622800068, 0.49736168518366675)\n"
     ]
    },
    {
     "name": "stderr",
     "output_type": "stream",
     "text": [
      "[I 2023-06-22 03:43:12,215] Trial 75 finished with value: 0.034481139800274 and parameters: {'iterations': 779, 'learning_rate': 0.0130080842651152, 'depth': 6, 'l2_leaf_reg': 4.462552341312533e-07, 'bootstrap_type': 'Bayesian', 'random_strength': 0.9652642301173198, 'bagging_temperature': 4.678403407130419, 'od_type': 'Iter', 'od_wait': 44}. Best is trial 67 with value: 0.03408314614979994.\n"
     ]
    },
    {
     "name": "stdout",
     "output_type": "stream",
     "text": [
      "('Catboost', 0.034481139800274, 0.02793324049997122, 0.4947077991882368)\n"
     ]
    },
    {
     "name": "stderr",
     "output_type": "stream",
     "text": [
      "[I 2023-06-22 03:43:34,669] Trial 76 finished with value: 0.03478606055184125 and parameters: {'iterations': 870, 'learning_rate': 0.015613190821055103, 'depth': 5, 'l2_leaf_reg': 1.6671761640921592e-07, 'bootstrap_type': 'Bayesian', 'random_strength': 0.5127492395328144, 'bagging_temperature': 3.13212835052203, 'od_type': 'Iter', 'od_wait': 40}. Best is trial 67 with value: 0.03408314614979994.\n"
     ]
    },
    {
     "name": "stdout",
     "output_type": "stream",
     "text": [
      "('Catboost', 0.03478606055184125, 0.028463962225926485, 0.485731568931804)\n"
     ]
    },
    {
     "name": "stderr",
     "output_type": "stream",
     "text": [
      "[I 2023-06-22 03:44:55,137] Trial 77 finished with value: 0.035690250458710854 and parameters: {'iterations': 898, 'learning_rate': 0.011219502629307182, 'depth': 9, 'l2_leaf_reg': 1.632329949412327e-06, 'bootstrap_type': 'Bayesian', 'random_strength': 2.7496044744478283, 'bagging_temperature': 4.067567444342138, 'od_type': 'Iter', 'od_wait': 42}. Best is trial 67 with value: 0.03408314614979994.\n"
     ]
    },
    {
     "name": "stdout",
     "output_type": "stream",
     "text": [
      "('Catboost', 0.035690250458710854, 0.028699340695236403, 0.4586494783346855)\n"
     ]
    },
    {
     "name": "stderr",
     "output_type": "stream",
     "text": [
      "[I 2023-06-22 03:45:13,113] Trial 78 finished with value: 0.03429642453958809 and parameters: {'iterations': 689, 'learning_rate': 0.019554662262618004, 'depth': 5, 'l2_leaf_reg': 1.9557867001891437e-08, 'bootstrap_type': 'Bayesian', 'random_strength': 5.489436588413686, 'bagging_temperature': 3.412029218178204, 'od_type': 'Iter', 'od_wait': 49}. Best is trial 67 with value: 0.03408314614979994.\n"
     ]
    },
    {
     "name": "stdout",
     "output_type": "stream",
     "text": [
      "('Catboost', 0.03429642453958809, 0.027889194824116698, 0.5001069932480162)\n"
     ]
    },
    {
     "name": "stderr",
     "output_type": "stream",
     "text": [
      "[I 2023-06-22 03:45:31,662] Trial 79 finished with value: 0.03462654735687686 and parameters: {'iterations': 752, 'learning_rate': 0.02776943411564602, 'depth': 5, 'l2_leaf_reg': 6.829345085094667e-06, 'bootstrap_type': 'Bayesian', 'random_strength': 1.1843585071201248, 'bagging_temperature': 5.257233585620657, 'od_type': 'Iter', 'od_wait': 47}. Best is trial 67 with value: 0.03408314614979994.\n"
     ]
    },
    {
     "name": "stdout",
     "output_type": "stream",
     "text": [
      "('Catboost', 0.03462654735687686, 0.028175988009423888, 0.49043716174366514)\n"
     ]
    },
    {
     "name": "stderr",
     "output_type": "stream",
     "text": [
      "[I 2023-06-22 03:45:58,527] Trial 80 finished with value: 0.03495208678760085 and parameters: {'iterations': 822, 'learning_rate': 0.014098974701837966, 'depth': 6, 'l2_leaf_reg': 8.184451584041725e-08, 'bootstrap_type': 'Bayesian', 'random_strength': 1.9244988716897296, 'bagging_temperature': 2.238734099927343, 'od_type': 'Iter', 'od_wait': 50}. Best is trial 67 with value: 0.03408314614979994.\n"
     ]
    },
    {
     "name": "stdout",
     "output_type": "stream",
     "text": [
      "('Catboost', 0.03495208678760085, 0.02833368792215018, 0.48081087338170825)\n"
     ]
    },
    {
     "name": "stderr",
     "output_type": "stream",
     "text": [
      "[I 2023-06-22 03:46:20,746] Trial 81 finished with value: 0.034446335442628685 and parameters: {'iterations': 838, 'learning_rate': 0.016095336567826135, 'depth': 5, 'l2_leaf_reg': 9.517616204085668e-07, 'bootstrap_type': 'Bayesian', 'random_strength': 3.798537912931696, 'bagging_temperature': 4.527490886137981, 'od_type': 'Iter', 'od_wait': 45}. Best is trial 67 with value: 0.03408314614979994.\n"
     ]
    },
    {
     "name": "stdout",
     "output_type": "stream",
     "text": [
      "('Catboost', 0.034446335442628685, 0.027968094927676594, 0.4957273417534671)\n"
     ]
    },
    {
     "name": "stderr",
     "output_type": "stream",
     "text": [
      "[I 2023-06-22 03:46:44,024] Trial 82 finished with value: 0.034336328190921396 and parameters: {'iterations': 919, 'learning_rate': 0.017874902581689736, 'depth': 5, 'l2_leaf_reg': 6.904347298969335e-07, 'bootstrap_type': 'Bayesian', 'random_strength': 4.547495202040305, 'bagging_temperature': 4.649783468455016, 'od_type': 'Iter', 'od_wait': 47}. Best is trial 67 with value: 0.03408314614979994.\n"
     ]
    },
    {
     "name": "stdout",
     "output_type": "stream",
     "text": [
      "('Catboost', 0.034336328190921396, 0.027727263626530232, 0.49894307246415714)\n"
     ]
    },
    {
     "name": "stderr",
     "output_type": "stream",
     "text": [
      "[I 2023-06-22 03:47:05,496] Trial 83 finished with value: 0.0343834227018771 and parameters: {'iterations': 865, 'learning_rate': 0.022011762295783076, 'depth': 5, 'l2_leaf_reg': 4.169276920233877e-06, 'bootstrap_type': 'Bayesian', 'random_strength': 7.0136214258226515, 'bagging_temperature': 3.8551296075436605, 'od_type': 'Iter', 'od_wait': 29}. Best is trial 67 with value: 0.03408314614979994.\n"
     ]
    },
    {
     "name": "stdout",
     "output_type": "stream",
     "text": [
      "('Catboost', 0.0343834227018771, 0.02774598644791683, 0.49756766544541187)\n"
     ]
    },
    {
     "name": "stderr",
     "output_type": "stream",
     "text": [
      "[I 2023-06-22 03:47:30,534] Trial 84 finished with value: 0.03415979734717902 and parameters: {'iterations': 967, 'learning_rate': 0.011651148728636854, 'depth': 5, 'l2_leaf_reg': 2.99527054153445e-07, 'bootstrap_type': 'Bayesian', 'random_strength': 9.716156810050085, 'bagging_temperature': 4.217791570224703, 'od_type': 'Iter', 'od_wait': 49}. Best is trial 67 with value: 0.03408314614979994.\n"
     ]
    },
    {
     "name": "stdout",
     "output_type": "stream",
     "text": [
      "('Catboost', 0.03415979734717902, 0.02767957427695529, 0.5040819228267943)\n"
     ]
    },
    {
     "name": "stderr",
     "output_type": "stream",
     "text": [
      "[I 2023-06-22 03:47:55,963] Trial 85 finished with value: 0.034206620846164604 and parameters: {'iterations': 979, 'learning_rate': 0.012369692370137597, 'depth': 5, 'l2_leaf_reg': 2.2867335266486875e-07, 'bootstrap_type': 'Bayesian', 'random_strength': 9.885197104063563, 'bagging_temperature': 4.245801572536783, 'od_type': 'Iter', 'od_wait': 44}. Best is trial 67 with value: 0.03408314614979994.\n"
     ]
    },
    {
     "name": "stdout",
     "output_type": "stream",
     "text": [
      "('Catboost', 0.034206620846164604, 0.027744021981192676, 0.5027214619420377)\n"
     ]
    },
    {
     "name": "stderr",
     "output_type": "stream",
     "text": [
      "[I 2023-06-22 03:48:20,048] Trial 86 finished with value: 0.03409747263236879 and parameters: {'iterations': 966, 'learning_rate': 0.011345267501112958, 'depth': 5, 'l2_leaf_reg': 4.0521574572645166e-07, 'bootstrap_type': 'Bayesian', 'random_strength': 9.912183098043586, 'bagging_temperature': 4.185261557032653, 'od_type': 'Iter', 'od_wait': 44}. Best is trial 67 with value: 0.03408314614979994.\n"
     ]
    },
    {
     "name": "stdout",
     "output_type": "stream",
     "text": [
      "('Catboost', 0.03409747263236879, 0.02763694648723567, 0.5058898818472122)\n"
     ]
    },
    {
     "name": "stderr",
     "output_type": "stream",
     "text": [
      "[I 2023-06-22 03:48:39,493] Trial 87 finished with value: 0.03409109662852951 and parameters: {'iterations': 966, 'learning_rate': 0.011498796612795098, 'depth': 4, 'l2_leaf_reg': 2.3552394391756214e-07, 'bootstrap_type': 'Bayesian', 'random_strength': 9.602765962753873, 'bagging_temperature': 4.9112585062798395, 'od_type': 'Iter', 'od_wait': 43}. Best is trial 67 with value: 0.03408314614979994.\n"
     ]
    },
    {
     "name": "stdout",
     "output_type": "stream",
     "text": [
      "('Catboost', 0.03409109662852951, 0.02802944286543001, 0.506074655275306)\n"
     ]
    },
    {
     "name": "stderr",
     "output_type": "stream",
     "text": [
      "[I 2023-06-22 03:48:59,421] Trial 88 finished with value: 0.03426777157803052 and parameters: {'iterations': 972, 'learning_rate': 0.00972454894580354, 'depth': 4, 'l2_leaf_reg': 3.1737225097754463e-07, 'bootstrap_type': 'Bayesian', 'random_strength': 2.2415127502987997, 'bagging_temperature': 4.087484304815687, 'od_type': 'Iter', 'od_wait': 40}. Best is trial 67 with value: 0.03408314614979994.\n"
     ]
    },
    {
     "name": "stdout",
     "output_type": "stream",
     "text": [
      "('Catboost', 0.03426777157803052, 0.028310622651847802, 0.5009419159576652)\n"
     ]
    },
    {
     "name": "stderr",
     "output_type": "stream",
     "text": [
      "[I 2023-06-22 03:49:19,857] Trial 89 finished with value: 0.034500084100349236 and parameters: {'iterations': 940, 'learning_rate': 0.008483491841665282, 'depth': 4, 'l2_leaf_reg': 1.9024330092429751e-07, 'bootstrap_type': 'Bayesian', 'random_strength': 0.7498206823033768, 'bagging_temperature': 4.874865143307888, 'od_type': 'Iter', 'od_wait': 37}. Best is trial 67 with value: 0.03408314614979994.\n"
     ]
    },
    {
     "name": "stdout",
     "output_type": "stream",
     "text": [
      "('Catboost', 0.034500084100349236, 0.028316249032219454, 0.4941524209888055)\n"
     ]
    },
    {
     "name": "stderr",
     "output_type": "stream",
     "text": [
      "[I 2023-06-22 03:50:01,446] Trial 90 finished with value: 0.0347603464214867 and parameters: {'iterations': 965, 'learning_rate': 0.007488294867962567, 'depth': 7, 'l2_leaf_reg': 6.368065193829597e-08, 'bootstrap_type': 'Bayesian', 'random_strength': 3.138947172554709, 'bagging_temperature': 4.236342581405962, 'od_type': 'Iter', 'od_wait': 43}. Best is trial 67 with value: 0.03408314614979994.\n"
     ]
    },
    {
     "name": "stdout",
     "output_type": "stream",
     "text": [
      "('Catboost', 0.0347603464214867, 0.028032841617463746, 0.48649159048263324)\n"
     ]
    },
    {
     "name": "stderr",
     "output_type": "stream",
     "text": [
      "[I 2023-06-22 03:50:20,259] Trial 91 finished with value: 0.03423610753561384 and parameters: {'iterations': 932, 'learning_rate': 0.011685723357739482, 'depth': 4, 'l2_leaf_reg': 3.0709772813531484e-07, 'bootstrap_type': 'Bayesian', 'random_strength': 9.739078978934648, 'bagging_temperature': 3.7052173060555074, 'od_type': 'Iter', 'od_wait': 44}. Best is trial 67 with value: 0.03408314614979994.\n"
     ]
    },
    {
     "name": "stdout",
     "output_type": "stream",
     "text": [
      "('Catboost', 0.03423610753561384, 0.02807691258884857, 0.5018637672982191)\n"
     ]
    },
    {
     "name": "stderr",
     "output_type": "stream",
     "text": [
      "[I 2023-06-22 03:50:40,172] Trial 92 finished with value: 0.03437132706756865 and parameters: {'iterations': 1000, 'learning_rate': 0.011653668605208318, 'depth': 4, 'l2_leaf_reg': 2.6799957885032465e-07, 'bootstrap_type': 'Bayesian', 'random_strength': 6.6166141797979305, 'bagging_temperature': 3.711637606784059, 'od_type': 'Iter', 'od_wait': 44}. Best is trial 67 with value: 0.03408314614979994.\n"
     ]
    },
    {
     "name": "stdout",
     "output_type": "stream",
     "text": [
      "('Catboost', 0.03437132706756865, 0.02824858429057931, 0.4979211013956474)\n"
     ]
    },
    {
     "name": "stderr",
     "output_type": "stream",
     "text": [
      "[I 2023-06-22 03:51:00,322] Trial 93 finished with value: 0.03424282712548659 and parameters: {'iterations': 929, 'learning_rate': 0.010432052765234403, 'depth': 4, 'l2_leaf_reg': 9.481875309622255e-08, 'bootstrap_type': 'Bayesian', 'random_strength': 9.977922482660349, 'bagging_temperature': 4.299493173875164, 'od_type': 'Iter', 'od_wait': 41}. Best is trial 67 with value: 0.03408314614979994.\n"
     ]
    },
    {
     "name": "stdout",
     "output_type": "stream",
     "text": [
      "('Catboost', 0.03424282712548659, 0.028025930256832563, 0.5016682077026158)\n"
     ]
    },
    {
     "name": "stderr",
     "output_type": "stream",
     "text": [
      "[I 2023-06-22 03:51:21,536] Trial 94 finished with value: 0.034341718604402105 and parameters: {'iterations': 978, 'learning_rate': 0.011751706916612887, 'depth': 4, 'l2_leaf_reg': 3.957123942070282e-08, 'bootstrap_type': 'Bayesian', 'random_strength': 3.0991411518897642, 'bagging_temperature': 3.9164774695338718, 'od_type': 'Iter', 'od_wait': 39}. Best is trial 67 with value: 0.03408314614979994.\n"
     ]
    },
    {
     "name": "stdout",
     "output_type": "stream",
     "text": [
      "('Catboost', 0.034341718604402105, 0.028278986542283707, 0.4987857396237091)\n"
     ]
    },
    {
     "name": "stderr",
     "output_type": "stream",
     "text": [
      "[I 2023-06-22 03:51:42,157] Trial 95 finished with value: 0.03464455258623662 and parameters: {'iterations': 955, 'learning_rate': 0.013921281131327047, 'depth': 4, 'l2_leaf_reg': 1.3054235274875445e-07, 'bootstrap_type': 'Bayesian', 'random_strength': 1.5241086239868042, 'bagging_temperature': 3.566821145274778, 'od_type': 'Iter', 'od_wait': 43}. Best is trial 67 with value: 0.03408314614979994.\n"
     ]
    },
    {
     "name": "stdout",
     "output_type": "stream",
     "text": [
      "('Catboost', 0.03464455258623662, 0.028488846568405706, 0.48990709554606726)\n"
     ]
    },
    {
     "name": "stderr",
     "output_type": "stream",
     "text": [
      "[I 2023-06-22 03:52:02,131] Trial 96 finished with value: 0.03421342480734506 and parameters: {'iterations': 935, 'learning_rate': 0.008836897017460361, 'depth': 4, 'l2_leaf_reg': 2.3029082121675725e-06, 'bootstrap_type': 'Bayesian', 'random_strength': 6.515164290833183, 'bagging_temperature': 4.825321181791999, 'od_type': 'Iter', 'od_wait': 42}. Best is trial 67 with value: 0.03408314614979994.\n"
     ]
    },
    {
     "name": "stdout",
     "output_type": "stream",
     "text": [
      "('Catboost', 0.03421342480734506, 0.02807826985731449, 0.5025236171807801)\n"
     ]
    },
    {
     "name": "stderr",
     "output_type": "stream",
     "text": [
      "[I 2023-06-22 03:52:19,870] Trial 97 finished with value: 0.03427073508642016 and parameters: {'iterations': 900, 'learning_rate': 0.009128576282384589, 'depth': 4, 'l2_leaf_reg': 2.3172560045559622e-06, 'bootstrap_type': 'Bayesian', 'random_strength': 6.6019769452942265, 'bagging_temperature': 4.83342930228922, 'od_type': 'Iter', 'od_wait': 44}. Best is trial 67 with value: 0.03408314614979994.\n"
     ]
    },
    {
     "name": "stdout",
     "output_type": "stream",
     "text": [
      "('Catboost', 0.03427073508642016, 0.02808703038149281, 0.5008555942214159)\n"
     ]
    },
    {
     "name": "stderr",
     "output_type": "stream",
     "text": [
      "[I 2023-06-22 03:52:39,336] Trial 98 finished with value: 0.03452062979556547 and parameters: {'iterations': 934, 'learning_rate': 0.01275059086234731, 'depth': 4, 'l2_leaf_reg': 6.015401452019411e-07, 'bootstrap_type': 'Bayesian', 'random_strength': 1.0237013232054633, 'bagging_temperature': 3.3446387138489238, 'od_type': 'Iter', 'od_wait': 38}. Best is trial 67 with value: 0.03408314614979994.\n"
     ]
    },
    {
     "name": "stdout",
     "output_type": "stream",
     "text": [
      "('Catboost', 0.03452062979556547, 0.028333106015495615, 0.49354975087347175)\n"
     ]
    },
    {
     "name": "stderr",
     "output_type": "stream",
     "text": [
      "[I 2023-06-22 03:52:58,337] Trial 99 finished with value: 0.034574237847082905 and parameters: {'iterations': 881, 'learning_rate': 0.007672273916660241, 'depth': 4, 'l2_leaf_reg': 5.304977891363944e-06, 'bootstrap_type': 'Bayesian', 'random_strength': 2.3497732669062725, 'bagging_temperature': 5.4370529755576165, 'od_type': 'Iter', 'od_wait': 45}. Best is trial 67 with value: 0.03408314614979994.\n"
     ]
    },
    {
     "name": "stdout",
     "output_type": "stream",
     "text": [
      "('Catboost', 0.034574237847082905, 0.02824053501168026, 0.4919755680119443)\n",
      "Number of finished trials: 100\n",
      "Best trial:\n",
      "  Value: 0.03408314614979994\n",
      "  Params: \n",
      "    iterations: 836\n",
      "    learning_rate: 0.018369975117039684\n",
      "    depth: 5\n",
      "    l2_leaf_reg: 1.1994924961669811e-06\n",
      "    bootstrap_type: Bayesian\n",
      "    random_strength: 9.311341227775438\n",
      "    bagging_temperature: 4.088561104847901\n",
      "    od_type: Iter\n",
      "    od_wait: 44\n"
     ]
    }
   ],
   "source": [
    "from catboost import CatBoostRegressor\n",
    "from catboost import Pool\n",
    "import optuna\n",
    "from sklearn.metrics import mean_squared_error\n",
    "import Utils as utils\n",
    "import math\n",
    "\n",
    "def objective(trial):\n",
    "    model = CatBoostRegressor(\n",
    "        iterations=trial.suggest_int(\"iterations\", 100, 1000),\n",
    "        learning_rate=trial.suggest_float(\"learning_rate\", 1e-3, 1e-1, log=True),\n",
    "        depth=trial.suggest_int(\"depth\", 4, 10),\n",
    "        l2_leaf_reg=trial.suggest_float(\"l2_leaf_reg\", 1e-8, 100.0, log=True),\n",
    "        bootstrap_type=trial.suggest_categorical(\"bootstrap_type\", [\"Bayesian\"]),\n",
    "        random_strength=trial.suggest_float(\"random_strength\", 1e-8, 10.0, log=True),\n",
    "        bagging_temperature=trial.suggest_float(\"bagging_temperature\", 0.0, 10.0),\n",
    "        od_type=trial.suggest_categorical(\"od_type\", [\"IncToDec\", \"Iter\"]),\n",
    "        od_wait=trial.suggest_int(\"od_wait\", 10, 50),\n",
    "        verbose=False\n",
    "    )\n",
    "    preds = []\n",
    "    vals = []\n",
    "    for train_index, test_index in kf.split(dfX):\n",
    "        train_x, train_y = dfX.iloc[train_index], y.iloc[train_index]\n",
    "        test_x, test_y = dfX.iloc[test_index], y.iloc[test_index]\n",
    "\n",
    "        train_pool = Pool(data=train_x, label=train_y)\n",
    "        test_pool = Pool(data=test_x, label=test_y)\n",
    "\n",
    "        model.fit(train_pool, verbose=False)\n",
    "        pred = model.predict(test_pool)\n",
    "        preds.append(pred)\n",
    "        vals.append(test_y) \n",
    "\n",
    "    results = utils.error_rate(\"Catboost\",flatten(preds),flatten(vals))\n",
    "    print(results)\n",
    "    rmse = math.sqrt(mean_squared_error(flatten(vals),flatten(preds)))\n",
    "    return rmse\n",
    "\n",
    "\n",
    "sampler = optuna.samplers.TPESampler(seed=1)\n",
    "study = optuna.create_study(direction=\"minimize\",sampler = sampler)\n",
    "\n",
    "study.optimize(objective, n_trials=100)\n",
    "\n",
    "print(\"Number of finished trials: {}\".format(len(study.trials)))\n",
    "print(\"Best trial:\")\n",
    "trial = study.best_trial\n",
    "\n",
    "print(\"  Value: {}\".format(trial.value))\n",
    "\n",
    "print(\"  Params: \")\n",
    "for key, value in trial.params.items():\n",
    "    print(\"    {}: {}\".format(key, value))\n"
   ]
  },
  {
   "cell_type": "code",
   "execution_count": 37,
   "metadata": {},
   "outputs": [
    {
     "name": "stdout",
     "output_type": "stream",
     "text": [
      "{'nan_mode': 'Min', 'eval_metric': 'RMSE', 'iterations': 836, 'sampling_frequency': 'PerTree', 'leaf_estimation_method': 'Newton', 'od_pval': 0, 'grow_policy': 'SymmetricTree', 'penalties_coefficient': 1, 'boosting_type': 'Plain', 'model_shrink_mode': 'Constant', 'feature_border_type': 'GreedyLogSum', 'bayesian_matrix_reg': 0.10000000149011612, 'eval_fraction': 0, 'force_unit_auto_pair_weights': False, 'l2_leaf_reg': 1.199492544401437e-06, 'random_strength': 9.311341285705566, 'od_type': 'Iter', 'rsm': 1, 'boost_from_average': True, 'model_size_reg': 0.5, 'pool_metainfo_options': {'tags': {}}, 'use_best_model': False, 'od_wait': 44, 'random_seed': 0, 'depth': 5, 'posterior_sampling': False, 'border_count': 254, 'bagging_temperature': 4.088561058044434, 'classes_count': 0, 'auto_class_weights': 'None', 'sparse_features_conflict_fraction': 0, 'leaf_estimation_backtracking': 'AnyImprovement', 'best_model_min_trees': 1, 'model_shrink_rate': 0, 'min_data_in_leaf': 1, 'loss_function': 'RMSE', 'learning_rate': 0.018369974568486217, 'score_function': 'Cosine', 'task_type': 'CPU', 'leaf_estimation_iterations': 1, 'bootstrap_type': 'Bayesian', 'max_leaves': 32}\n",
      "{'nan_mode': 'Min', 'eval_metric': 'RMSE', 'iterations': 836, 'sampling_frequency': 'PerTree', 'leaf_estimation_method': 'Newton', 'od_pval': 0, 'grow_policy': 'SymmetricTree', 'penalties_coefficient': 1, 'boosting_type': 'Plain', 'model_shrink_mode': 'Constant', 'feature_border_type': 'GreedyLogSum', 'bayesian_matrix_reg': 0.10000000149011612, 'eval_fraction': 0, 'force_unit_auto_pair_weights': False, 'l2_leaf_reg': 1.199492544401437e-06, 'random_strength': 9.311341285705566, 'od_type': 'Iter', 'rsm': 1, 'boost_from_average': True, 'model_size_reg': 0.5, 'pool_metainfo_options': {'tags': {}}, 'use_best_model': False, 'od_wait': 44, 'random_seed': 0, 'depth': 5, 'posterior_sampling': False, 'border_count': 254, 'bagging_temperature': 4.088561058044434, 'classes_count': 0, 'auto_class_weights': 'None', 'sparse_features_conflict_fraction': 0, 'leaf_estimation_backtracking': 'AnyImprovement', 'best_model_min_trees': 1, 'model_shrink_rate': 0, 'min_data_in_leaf': 1, 'loss_function': 'RMSE', 'learning_rate': 0.018369974568486217, 'score_function': 'Cosine', 'task_type': 'CPU', 'leaf_estimation_iterations': 1, 'bootstrap_type': 'Bayesian', 'max_leaves': 32}\n",
      "{'nan_mode': 'Min', 'eval_metric': 'RMSE', 'iterations': 836, 'sampling_frequency': 'PerTree', 'leaf_estimation_method': 'Newton', 'od_pval': 0, 'grow_policy': 'SymmetricTree', 'penalties_coefficient': 1, 'boosting_type': 'Plain', 'model_shrink_mode': 'Constant', 'feature_border_type': 'GreedyLogSum', 'bayesian_matrix_reg': 0.10000000149011612, 'eval_fraction': 0, 'force_unit_auto_pair_weights': False, 'l2_leaf_reg': 1.199492544401437e-06, 'random_strength': 9.311341285705566, 'od_type': 'Iter', 'rsm': 1, 'boost_from_average': True, 'model_size_reg': 0.5, 'pool_metainfo_options': {'tags': {}}, 'use_best_model': False, 'od_wait': 44, 'random_seed': 0, 'depth': 5, 'posterior_sampling': False, 'border_count': 254, 'bagging_temperature': 4.088561058044434, 'classes_count': 0, 'auto_class_weights': 'None', 'sparse_features_conflict_fraction': 0, 'leaf_estimation_backtracking': 'AnyImprovement', 'best_model_min_trees': 1, 'model_shrink_rate': 0, 'min_data_in_leaf': 1, 'loss_function': 'RMSE', 'learning_rate': 0.018369974568486217, 'score_function': 'Cosine', 'task_type': 'CPU', 'leaf_estimation_iterations': 1, 'bootstrap_type': 'Bayesian', 'max_leaves': 32}\n",
      "{'nan_mode': 'Min', 'eval_metric': 'RMSE', 'iterations': 836, 'sampling_frequency': 'PerTree', 'leaf_estimation_method': 'Newton', 'od_pval': 0, 'grow_policy': 'SymmetricTree', 'penalties_coefficient': 1, 'boosting_type': 'Plain', 'model_shrink_mode': 'Constant', 'feature_border_type': 'GreedyLogSum', 'bayesian_matrix_reg': 0.10000000149011612, 'eval_fraction': 0, 'force_unit_auto_pair_weights': False, 'l2_leaf_reg': 1.199492544401437e-06, 'random_strength': 9.311341285705566, 'od_type': 'Iter', 'rsm': 1, 'boost_from_average': True, 'model_size_reg': 0.5, 'pool_metainfo_options': {'tags': {}}, 'use_best_model': False, 'od_wait': 44, 'random_seed': 0, 'depth': 5, 'posterior_sampling': False, 'border_count': 254, 'bagging_temperature': 4.088561058044434, 'classes_count': 0, 'auto_class_weights': 'None', 'sparse_features_conflict_fraction': 0, 'leaf_estimation_backtracking': 'AnyImprovement', 'best_model_min_trees': 1, 'model_shrink_rate': 0, 'min_data_in_leaf': 1, 'loss_function': 'RMSE', 'learning_rate': 0.018369974568486217, 'score_function': 'Cosine', 'task_type': 'CPU', 'leaf_estimation_iterations': 1, 'bootstrap_type': 'Bayesian', 'max_leaves': 32}\n",
      "{'nan_mode': 'Min', 'eval_metric': 'RMSE', 'iterations': 836, 'sampling_frequency': 'PerTree', 'leaf_estimation_method': 'Newton', 'od_pval': 0, 'grow_policy': 'SymmetricTree', 'penalties_coefficient': 1, 'boosting_type': 'Plain', 'model_shrink_mode': 'Constant', 'feature_border_type': 'GreedyLogSum', 'bayesian_matrix_reg': 0.10000000149011612, 'eval_fraction': 0, 'force_unit_auto_pair_weights': False, 'l2_leaf_reg': 1.199492544401437e-06, 'random_strength': 9.311341285705566, 'od_type': 'Iter', 'rsm': 1, 'boost_from_average': True, 'model_size_reg': 0.5, 'pool_metainfo_options': {'tags': {}}, 'use_best_model': False, 'od_wait': 44, 'random_seed': 0, 'depth': 5, 'posterior_sampling': False, 'border_count': 254, 'bagging_temperature': 4.088561058044434, 'classes_count': 0, 'auto_class_weights': 'None', 'sparse_features_conflict_fraction': 0, 'leaf_estimation_backtracking': 'AnyImprovement', 'best_model_min_trees': 1, 'model_shrink_rate': 0, 'min_data_in_leaf': 1, 'loss_function': 'RMSE', 'learning_rate': 0.018369974568486217, 'score_function': 'Cosine', 'task_type': 'CPU', 'leaf_estimation_iterations': 1, 'bootstrap_type': 'Bayesian', 'max_leaves': 32}\n",
      "{'nan_mode': 'Min', 'eval_metric': 'RMSE', 'iterations': 836, 'sampling_frequency': 'PerTree', 'leaf_estimation_method': 'Newton', 'od_pval': 0, 'grow_policy': 'SymmetricTree', 'penalties_coefficient': 1, 'boosting_type': 'Plain', 'model_shrink_mode': 'Constant', 'feature_border_type': 'GreedyLogSum', 'bayesian_matrix_reg': 0.10000000149011612, 'eval_fraction': 0, 'force_unit_auto_pair_weights': False, 'l2_leaf_reg': 1.199492544401437e-06, 'random_strength': 9.311341285705566, 'od_type': 'Iter', 'rsm': 1, 'boost_from_average': True, 'model_size_reg': 0.5, 'pool_metainfo_options': {'tags': {}}, 'use_best_model': False, 'od_wait': 44, 'random_seed': 0, 'depth': 5, 'posterior_sampling': False, 'border_count': 254, 'bagging_temperature': 4.088561058044434, 'classes_count': 0, 'auto_class_weights': 'None', 'sparse_features_conflict_fraction': 0, 'leaf_estimation_backtracking': 'AnyImprovement', 'best_model_min_trees': 1, 'model_shrink_rate': 0, 'min_data_in_leaf': 1, 'loss_function': 'RMSE', 'learning_rate': 0.018369974568486217, 'score_function': 'Cosine', 'task_type': 'CPU', 'leaf_estimation_iterations': 1, 'bootstrap_type': 'Bayesian', 'max_leaves': 32}\n",
      "{'nan_mode': 'Min', 'eval_metric': 'RMSE', 'iterations': 836, 'sampling_frequency': 'PerTree', 'leaf_estimation_method': 'Newton', 'od_pval': 0, 'grow_policy': 'SymmetricTree', 'penalties_coefficient': 1, 'boosting_type': 'Plain', 'model_shrink_mode': 'Constant', 'feature_border_type': 'GreedyLogSum', 'bayesian_matrix_reg': 0.10000000149011612, 'eval_fraction': 0, 'force_unit_auto_pair_weights': False, 'l2_leaf_reg': 1.199492544401437e-06, 'random_strength': 9.311341285705566, 'od_type': 'Iter', 'rsm': 1, 'boost_from_average': True, 'model_size_reg': 0.5, 'pool_metainfo_options': {'tags': {}}, 'use_best_model': False, 'od_wait': 44, 'random_seed': 0, 'depth': 5, 'posterior_sampling': False, 'border_count': 254, 'bagging_temperature': 4.088561058044434, 'classes_count': 0, 'auto_class_weights': 'None', 'sparse_features_conflict_fraction': 0, 'leaf_estimation_backtracking': 'AnyImprovement', 'best_model_min_trees': 1, 'model_shrink_rate': 0, 'min_data_in_leaf': 1, 'loss_function': 'RMSE', 'learning_rate': 0.018369974568486217, 'score_function': 'Cosine', 'task_type': 'CPU', 'leaf_estimation_iterations': 1, 'bootstrap_type': 'Bayesian', 'max_leaves': 32}\n",
      "{'nan_mode': 'Min', 'eval_metric': 'RMSE', 'iterations': 836, 'sampling_frequency': 'PerTree', 'leaf_estimation_method': 'Newton', 'od_pval': 0, 'grow_policy': 'SymmetricTree', 'penalties_coefficient': 1, 'boosting_type': 'Plain', 'model_shrink_mode': 'Constant', 'feature_border_type': 'GreedyLogSum', 'bayesian_matrix_reg': 0.10000000149011612, 'eval_fraction': 0, 'force_unit_auto_pair_weights': False, 'l2_leaf_reg': 1.199492544401437e-06, 'random_strength': 9.311341285705566, 'od_type': 'Iter', 'rsm': 1, 'boost_from_average': True, 'model_size_reg': 0.5, 'pool_metainfo_options': {'tags': {}}, 'use_best_model': False, 'od_wait': 44, 'random_seed': 0, 'depth': 5, 'posterior_sampling': False, 'border_count': 254, 'bagging_temperature': 4.088561058044434, 'classes_count': 0, 'auto_class_weights': 'None', 'sparse_features_conflict_fraction': 0, 'leaf_estimation_backtracking': 'AnyImprovement', 'best_model_min_trees': 1, 'model_shrink_rate': 0, 'min_data_in_leaf': 1, 'loss_function': 'RMSE', 'learning_rate': 0.018369974568486217, 'score_function': 'Cosine', 'task_type': 'CPU', 'leaf_estimation_iterations': 1, 'bootstrap_type': 'Bayesian', 'max_leaves': 32}\n",
      "{'nan_mode': 'Min', 'eval_metric': 'RMSE', 'iterations': 836, 'sampling_frequency': 'PerTree', 'leaf_estimation_method': 'Newton', 'od_pval': 0, 'grow_policy': 'SymmetricTree', 'penalties_coefficient': 1, 'boosting_type': 'Plain', 'model_shrink_mode': 'Constant', 'feature_border_type': 'GreedyLogSum', 'bayesian_matrix_reg': 0.10000000149011612, 'eval_fraction': 0, 'force_unit_auto_pair_weights': False, 'l2_leaf_reg': 1.199492544401437e-06, 'random_strength': 9.311341285705566, 'od_type': 'Iter', 'rsm': 1, 'boost_from_average': True, 'model_size_reg': 0.5, 'pool_metainfo_options': {'tags': {}}, 'use_best_model': False, 'od_wait': 44, 'random_seed': 0, 'depth': 5, 'posterior_sampling': False, 'border_count': 254, 'bagging_temperature': 4.088561058044434, 'classes_count': 0, 'auto_class_weights': 'None', 'sparse_features_conflict_fraction': 0, 'leaf_estimation_backtracking': 'AnyImprovement', 'best_model_min_trees': 1, 'model_shrink_rate': 0, 'min_data_in_leaf': 1, 'loss_function': 'RMSE', 'learning_rate': 0.018369974568486217, 'score_function': 'Cosine', 'task_type': 'CPU', 'leaf_estimation_iterations': 1, 'bootstrap_type': 'Bayesian', 'max_leaves': 32}\n",
      "{'nan_mode': 'Min', 'eval_metric': 'RMSE', 'iterations': 836, 'sampling_frequency': 'PerTree', 'leaf_estimation_method': 'Newton', 'od_pval': 0, 'grow_policy': 'SymmetricTree', 'penalties_coefficient': 1, 'boosting_type': 'Plain', 'model_shrink_mode': 'Constant', 'feature_border_type': 'GreedyLogSum', 'bayesian_matrix_reg': 0.10000000149011612, 'eval_fraction': 0, 'force_unit_auto_pair_weights': False, 'l2_leaf_reg': 1.199492544401437e-06, 'random_strength': 9.311341285705566, 'od_type': 'Iter', 'rsm': 1, 'boost_from_average': True, 'model_size_reg': 0.5, 'pool_metainfo_options': {'tags': {}}, 'use_best_model': False, 'od_wait': 44, 'random_seed': 0, 'depth': 5, 'posterior_sampling': False, 'border_count': 254, 'bagging_temperature': 4.088561058044434, 'classes_count': 0, 'auto_class_weights': 'None', 'sparse_features_conflict_fraction': 0, 'leaf_estimation_backtracking': 'AnyImprovement', 'best_model_min_trees': 1, 'model_shrink_rate': 0, 'min_data_in_leaf': 1, 'loss_function': 'RMSE', 'learning_rate': 0.018369974568486217, 'score_function': 'Cosine', 'task_type': 'CPU', 'leaf_estimation_iterations': 1, 'bootstrap_type': 'Bayesian', 'max_leaves': 32}\n",
      "{'nan_mode': 'Min', 'eval_metric': 'RMSE', 'iterations': 836, 'sampling_frequency': 'PerTree', 'leaf_estimation_method': 'Newton', 'od_pval': 0, 'grow_policy': 'SymmetricTree', 'penalties_coefficient': 1, 'boosting_type': 'Plain', 'model_shrink_mode': 'Constant', 'feature_border_type': 'GreedyLogSum', 'bayesian_matrix_reg': 0.10000000149011612, 'eval_fraction': 0, 'force_unit_auto_pair_weights': False, 'l2_leaf_reg': 1.199492544401437e-06, 'random_strength': 9.311341285705566, 'od_type': 'Iter', 'rsm': 1, 'boost_from_average': True, 'model_size_reg': 0.5, 'pool_metainfo_options': {'tags': {}}, 'use_best_model': False, 'od_wait': 44, 'random_seed': 0, 'depth': 5, 'posterior_sampling': False, 'border_count': 254, 'bagging_temperature': 4.088561058044434, 'classes_count': 0, 'auto_class_weights': 'None', 'sparse_features_conflict_fraction': 0, 'leaf_estimation_backtracking': 'AnyImprovement', 'best_model_min_trees': 1, 'model_shrink_rate': 0, 'min_data_in_leaf': 1, 'loss_function': 'RMSE', 'learning_rate': 0.018369974568486217, 'score_function': 'Cosine', 'task_type': 'CPU', 'leaf_estimation_iterations': 1, 'bootstrap_type': 'Bayesian', 'max_leaves': 32}\n",
      "{'nan_mode': 'Min', 'eval_metric': 'RMSE', 'iterations': 836, 'sampling_frequency': 'PerTree', 'leaf_estimation_method': 'Newton', 'od_pval': 0, 'grow_policy': 'SymmetricTree', 'penalties_coefficient': 1, 'boosting_type': 'Plain', 'model_shrink_mode': 'Constant', 'feature_border_type': 'GreedyLogSum', 'bayesian_matrix_reg': 0.10000000149011612, 'eval_fraction': 0, 'force_unit_auto_pair_weights': False, 'l2_leaf_reg': 1.199492544401437e-06, 'random_strength': 9.311341285705566, 'od_type': 'Iter', 'rsm': 1, 'boost_from_average': True, 'model_size_reg': 0.5, 'pool_metainfo_options': {'tags': {}}, 'use_best_model': False, 'od_wait': 44, 'random_seed': 0, 'depth': 5, 'posterior_sampling': False, 'border_count': 254, 'bagging_temperature': 4.088561058044434, 'classes_count': 0, 'auto_class_weights': 'None', 'sparse_features_conflict_fraction': 0, 'leaf_estimation_backtracking': 'AnyImprovement', 'best_model_min_trees': 1, 'model_shrink_rate': 0, 'min_data_in_leaf': 1, 'loss_function': 'RMSE', 'learning_rate': 0.018369974568486217, 'score_function': 'Cosine', 'task_type': 'CPU', 'leaf_estimation_iterations': 1, 'bootstrap_type': 'Bayesian', 'max_leaves': 32}\n",
      "{'nan_mode': 'Min', 'eval_metric': 'RMSE', 'iterations': 836, 'sampling_frequency': 'PerTree', 'leaf_estimation_method': 'Newton', 'od_pval': 0, 'grow_policy': 'SymmetricTree', 'penalties_coefficient': 1, 'boosting_type': 'Plain', 'model_shrink_mode': 'Constant', 'feature_border_type': 'GreedyLogSum', 'bayesian_matrix_reg': 0.10000000149011612, 'eval_fraction': 0, 'force_unit_auto_pair_weights': False, 'l2_leaf_reg': 1.199492544401437e-06, 'random_strength': 9.311341285705566, 'od_type': 'Iter', 'rsm': 1, 'boost_from_average': True, 'model_size_reg': 0.5, 'pool_metainfo_options': {'tags': {}}, 'use_best_model': False, 'od_wait': 44, 'random_seed': 0, 'depth': 5, 'posterior_sampling': False, 'border_count': 254, 'bagging_temperature': 4.088561058044434, 'classes_count': 0, 'auto_class_weights': 'None', 'sparse_features_conflict_fraction': 0, 'leaf_estimation_backtracking': 'AnyImprovement', 'best_model_min_trees': 1, 'model_shrink_rate': 0, 'min_data_in_leaf': 1, 'loss_function': 'RMSE', 'learning_rate': 0.018369974568486217, 'score_function': 'Cosine', 'task_type': 'CPU', 'leaf_estimation_iterations': 1, 'bootstrap_type': 'Bayesian', 'max_leaves': 32}\n",
      "{'nan_mode': 'Min', 'eval_metric': 'RMSE', 'iterations': 836, 'sampling_frequency': 'PerTree', 'leaf_estimation_method': 'Newton', 'od_pval': 0, 'grow_policy': 'SymmetricTree', 'penalties_coefficient': 1, 'boosting_type': 'Plain', 'model_shrink_mode': 'Constant', 'feature_border_type': 'GreedyLogSum', 'bayesian_matrix_reg': 0.10000000149011612, 'eval_fraction': 0, 'force_unit_auto_pair_weights': False, 'l2_leaf_reg': 1.199492544401437e-06, 'random_strength': 9.311341285705566, 'od_type': 'Iter', 'rsm': 1, 'boost_from_average': True, 'model_size_reg': 0.5, 'pool_metainfo_options': {'tags': {}}, 'use_best_model': False, 'od_wait': 44, 'random_seed': 0, 'depth': 5, 'posterior_sampling': False, 'border_count': 254, 'bagging_temperature': 4.088561058044434, 'classes_count': 0, 'auto_class_weights': 'None', 'sparse_features_conflict_fraction': 0, 'leaf_estimation_backtracking': 'AnyImprovement', 'best_model_min_trees': 1, 'model_shrink_rate': 0, 'min_data_in_leaf': 1, 'loss_function': 'RMSE', 'learning_rate': 0.018369974568486217, 'score_function': 'Cosine', 'task_type': 'CPU', 'leaf_estimation_iterations': 1, 'bootstrap_type': 'Bayesian', 'max_leaves': 32}\n",
      "{'nan_mode': 'Min', 'eval_metric': 'RMSE', 'iterations': 836, 'sampling_frequency': 'PerTree', 'leaf_estimation_method': 'Newton', 'od_pval': 0, 'grow_policy': 'SymmetricTree', 'penalties_coefficient': 1, 'boosting_type': 'Plain', 'model_shrink_mode': 'Constant', 'feature_border_type': 'GreedyLogSum', 'bayesian_matrix_reg': 0.10000000149011612, 'eval_fraction': 0, 'force_unit_auto_pair_weights': False, 'l2_leaf_reg': 1.199492544401437e-06, 'random_strength': 9.311341285705566, 'od_type': 'Iter', 'rsm': 1, 'boost_from_average': True, 'model_size_reg': 0.5, 'pool_metainfo_options': {'tags': {}}, 'use_best_model': False, 'od_wait': 44, 'random_seed': 0, 'depth': 5, 'posterior_sampling': False, 'border_count': 254, 'bagging_temperature': 4.088561058044434, 'classes_count': 0, 'auto_class_weights': 'None', 'sparse_features_conflict_fraction': 0, 'leaf_estimation_backtracking': 'AnyImprovement', 'best_model_min_trees': 1, 'model_shrink_rate': 0, 'min_data_in_leaf': 1, 'loss_function': 'RMSE', 'learning_rate': 0.018369974568486217, 'score_function': 'Cosine', 'task_type': 'CPU', 'leaf_estimation_iterations': 1, 'bootstrap_type': 'Bayesian', 'max_leaves': 32}\n",
      "{'nan_mode': 'Min', 'eval_metric': 'RMSE', 'iterations': 836, 'sampling_frequency': 'PerTree', 'leaf_estimation_method': 'Newton', 'od_pval': 0, 'grow_policy': 'SymmetricTree', 'penalties_coefficient': 1, 'boosting_type': 'Plain', 'model_shrink_mode': 'Constant', 'feature_border_type': 'GreedyLogSum', 'bayesian_matrix_reg': 0.10000000149011612, 'eval_fraction': 0, 'force_unit_auto_pair_weights': False, 'l2_leaf_reg': 1.199492544401437e-06, 'random_strength': 9.311341285705566, 'od_type': 'Iter', 'rsm': 1, 'boost_from_average': True, 'model_size_reg': 0.5, 'pool_metainfo_options': {'tags': {}}, 'use_best_model': False, 'od_wait': 44, 'random_seed': 0, 'depth': 5, 'posterior_sampling': False, 'border_count': 254, 'bagging_temperature': 4.088561058044434, 'classes_count': 0, 'auto_class_weights': 'None', 'sparse_features_conflict_fraction': 0, 'leaf_estimation_backtracking': 'AnyImprovement', 'best_model_min_trees': 1, 'model_shrink_rate': 0, 'min_data_in_leaf': 1, 'loss_function': 'RMSE', 'learning_rate': 0.018369974568486217, 'score_function': 'Cosine', 'task_type': 'CPU', 'leaf_estimation_iterations': 1, 'bootstrap_type': 'Bayesian', 'max_leaves': 32}\n",
      "{'nan_mode': 'Min', 'eval_metric': 'RMSE', 'iterations': 836, 'sampling_frequency': 'PerTree', 'leaf_estimation_method': 'Newton', 'od_pval': 0, 'grow_policy': 'SymmetricTree', 'penalties_coefficient': 1, 'boosting_type': 'Plain', 'model_shrink_mode': 'Constant', 'feature_border_type': 'GreedyLogSum', 'bayesian_matrix_reg': 0.10000000149011612, 'eval_fraction': 0, 'force_unit_auto_pair_weights': False, 'l2_leaf_reg': 1.199492544401437e-06, 'random_strength': 9.311341285705566, 'od_type': 'Iter', 'rsm': 1, 'boost_from_average': True, 'model_size_reg': 0.5, 'pool_metainfo_options': {'tags': {}}, 'use_best_model': False, 'od_wait': 44, 'random_seed': 0, 'depth': 5, 'posterior_sampling': False, 'border_count': 254, 'bagging_temperature': 4.088561058044434, 'classes_count': 0, 'auto_class_weights': 'None', 'sparse_features_conflict_fraction': 0, 'leaf_estimation_backtracking': 'AnyImprovement', 'best_model_min_trees': 1, 'model_shrink_rate': 0, 'min_data_in_leaf': 1, 'loss_function': 'RMSE', 'learning_rate': 0.018369974568486217, 'score_function': 'Cosine', 'task_type': 'CPU', 'leaf_estimation_iterations': 1, 'bootstrap_type': 'Bayesian', 'max_leaves': 32}\n",
      "{'nan_mode': 'Min', 'eval_metric': 'RMSE', 'iterations': 836, 'sampling_frequency': 'PerTree', 'leaf_estimation_method': 'Newton', 'od_pval': 0, 'grow_policy': 'SymmetricTree', 'penalties_coefficient': 1, 'boosting_type': 'Plain', 'model_shrink_mode': 'Constant', 'feature_border_type': 'GreedyLogSum', 'bayesian_matrix_reg': 0.10000000149011612, 'eval_fraction': 0, 'force_unit_auto_pair_weights': False, 'l2_leaf_reg': 1.199492544401437e-06, 'random_strength': 9.311341285705566, 'od_type': 'Iter', 'rsm': 1, 'boost_from_average': True, 'model_size_reg': 0.5, 'pool_metainfo_options': {'tags': {}}, 'use_best_model': False, 'od_wait': 44, 'random_seed': 0, 'depth': 5, 'posterior_sampling': False, 'border_count': 254, 'bagging_temperature': 4.088561058044434, 'classes_count': 0, 'auto_class_weights': 'None', 'sparse_features_conflict_fraction': 0, 'leaf_estimation_backtracking': 'AnyImprovement', 'best_model_min_trees': 1, 'model_shrink_rate': 0, 'min_data_in_leaf': 1, 'loss_function': 'RMSE', 'learning_rate': 0.018369974568486217, 'score_function': 'Cosine', 'task_type': 'CPU', 'leaf_estimation_iterations': 1, 'bootstrap_type': 'Bayesian', 'max_leaves': 32}\n",
      "{'nan_mode': 'Min', 'eval_metric': 'RMSE', 'iterations': 836, 'sampling_frequency': 'PerTree', 'leaf_estimation_method': 'Newton', 'od_pval': 0, 'grow_policy': 'SymmetricTree', 'penalties_coefficient': 1, 'boosting_type': 'Plain', 'model_shrink_mode': 'Constant', 'feature_border_type': 'GreedyLogSum', 'bayesian_matrix_reg': 0.10000000149011612, 'eval_fraction': 0, 'force_unit_auto_pair_weights': False, 'l2_leaf_reg': 1.199492544401437e-06, 'random_strength': 9.311341285705566, 'od_type': 'Iter', 'rsm': 1, 'boost_from_average': True, 'model_size_reg': 0.5, 'pool_metainfo_options': {'tags': {}}, 'use_best_model': False, 'od_wait': 44, 'random_seed': 0, 'depth': 5, 'posterior_sampling': False, 'border_count': 254, 'bagging_temperature': 4.088561058044434, 'classes_count': 0, 'auto_class_weights': 'None', 'sparse_features_conflict_fraction': 0, 'leaf_estimation_backtracking': 'AnyImprovement', 'best_model_min_trees': 1, 'model_shrink_rate': 0, 'min_data_in_leaf': 1, 'loss_function': 'RMSE', 'learning_rate': 0.018369974568486217, 'score_function': 'Cosine', 'task_type': 'CPU', 'leaf_estimation_iterations': 1, 'bootstrap_type': 'Bayesian', 'max_leaves': 32}\n",
      "{'nan_mode': 'Min', 'eval_metric': 'RMSE', 'iterations': 836, 'sampling_frequency': 'PerTree', 'leaf_estimation_method': 'Newton', 'od_pval': 0, 'grow_policy': 'SymmetricTree', 'penalties_coefficient': 1, 'boosting_type': 'Plain', 'model_shrink_mode': 'Constant', 'feature_border_type': 'GreedyLogSum', 'bayesian_matrix_reg': 0.10000000149011612, 'eval_fraction': 0, 'force_unit_auto_pair_weights': False, 'l2_leaf_reg': 1.199492544401437e-06, 'random_strength': 9.311341285705566, 'od_type': 'Iter', 'rsm': 1, 'boost_from_average': True, 'model_size_reg': 0.5, 'pool_metainfo_options': {'tags': {}}, 'use_best_model': False, 'od_wait': 44, 'random_seed': 0, 'depth': 5, 'posterior_sampling': False, 'border_count': 254, 'bagging_temperature': 4.088561058044434, 'classes_count': 0, 'auto_class_weights': 'None', 'sparse_features_conflict_fraction': 0, 'leaf_estimation_backtracking': 'AnyImprovement', 'best_model_min_trees': 1, 'model_shrink_rate': 0, 'min_data_in_leaf': 1, 'loss_function': 'RMSE', 'learning_rate': 0.018369974568486217, 'score_function': 'Cosine', 'task_type': 'CPU', 'leaf_estimation_iterations': 1, 'bootstrap_type': 'Bayesian', 'max_leaves': 32}\n",
      "{'nan_mode': 'Min', 'eval_metric': 'RMSE', 'iterations': 836, 'sampling_frequency': 'PerTree', 'leaf_estimation_method': 'Newton', 'od_pval': 0, 'grow_policy': 'SymmetricTree', 'penalties_coefficient': 1, 'boosting_type': 'Plain', 'model_shrink_mode': 'Constant', 'feature_border_type': 'GreedyLogSum', 'bayesian_matrix_reg': 0.10000000149011612, 'eval_fraction': 0, 'force_unit_auto_pair_weights': False, 'l2_leaf_reg': 1.199492544401437e-06, 'random_strength': 9.311341285705566, 'od_type': 'Iter', 'rsm': 1, 'boost_from_average': True, 'model_size_reg': 0.5, 'pool_metainfo_options': {'tags': {}}, 'use_best_model': False, 'od_wait': 44, 'random_seed': 0, 'depth': 5, 'posterior_sampling': False, 'border_count': 254, 'bagging_temperature': 4.088561058044434, 'classes_count': 0, 'auto_class_weights': 'None', 'sparse_features_conflict_fraction': 0, 'leaf_estimation_backtracking': 'AnyImprovement', 'best_model_min_trees': 1, 'model_shrink_rate': 0, 'min_data_in_leaf': 1, 'loss_function': 'RMSE', 'learning_rate': 0.018369974568486217, 'score_function': 'Cosine', 'task_type': 'CPU', 'leaf_estimation_iterations': 1, 'bootstrap_type': 'Bayesian', 'max_leaves': 32}\n",
      "{'nan_mode': 'Min', 'eval_metric': 'RMSE', 'iterations': 836, 'sampling_frequency': 'PerTree', 'leaf_estimation_method': 'Newton', 'od_pval': 0, 'grow_policy': 'SymmetricTree', 'penalties_coefficient': 1, 'boosting_type': 'Plain', 'model_shrink_mode': 'Constant', 'feature_border_type': 'GreedyLogSum', 'bayesian_matrix_reg': 0.10000000149011612, 'eval_fraction': 0, 'force_unit_auto_pair_weights': False, 'l2_leaf_reg': 1.199492544401437e-06, 'random_strength': 9.311341285705566, 'od_type': 'Iter', 'rsm': 1, 'boost_from_average': True, 'model_size_reg': 0.5, 'pool_metainfo_options': {'tags': {}}, 'use_best_model': False, 'od_wait': 44, 'random_seed': 0, 'depth': 5, 'posterior_sampling': False, 'border_count': 254, 'bagging_temperature': 4.088561058044434, 'classes_count': 0, 'auto_class_weights': 'None', 'sparse_features_conflict_fraction': 0, 'leaf_estimation_backtracking': 'AnyImprovement', 'best_model_min_trees': 1, 'model_shrink_rate': 0, 'min_data_in_leaf': 1, 'loss_function': 'RMSE', 'learning_rate': 0.018369974568486217, 'score_function': 'Cosine', 'task_type': 'CPU', 'leaf_estimation_iterations': 1, 'bootstrap_type': 'Bayesian', 'max_leaves': 32}\n",
      "{'nan_mode': 'Min', 'eval_metric': 'RMSE', 'iterations': 836, 'sampling_frequency': 'PerTree', 'leaf_estimation_method': 'Newton', 'od_pval': 0, 'grow_policy': 'SymmetricTree', 'penalties_coefficient': 1, 'boosting_type': 'Plain', 'model_shrink_mode': 'Constant', 'feature_border_type': 'GreedyLogSum', 'bayesian_matrix_reg': 0.10000000149011612, 'eval_fraction': 0, 'force_unit_auto_pair_weights': False, 'l2_leaf_reg': 1.199492544401437e-06, 'random_strength': 9.311341285705566, 'od_type': 'Iter', 'rsm': 1, 'boost_from_average': True, 'model_size_reg': 0.5, 'pool_metainfo_options': {'tags': {}}, 'use_best_model': False, 'od_wait': 44, 'random_seed': 0, 'depth': 5, 'posterior_sampling': False, 'border_count': 254, 'bagging_temperature': 4.088561058044434, 'classes_count': 0, 'auto_class_weights': 'None', 'sparse_features_conflict_fraction': 0, 'leaf_estimation_backtracking': 'AnyImprovement', 'best_model_min_trees': 1, 'model_shrink_rate': 0, 'min_data_in_leaf': 1, 'loss_function': 'RMSE', 'learning_rate': 0.018369974568486217, 'score_function': 'Cosine', 'task_type': 'CPU', 'leaf_estimation_iterations': 1, 'bootstrap_type': 'Bayesian', 'max_leaves': 32}\n",
      "{'nan_mode': 'Min', 'eval_metric': 'RMSE', 'iterations': 836, 'sampling_frequency': 'PerTree', 'leaf_estimation_method': 'Newton', 'od_pval': 0, 'grow_policy': 'SymmetricTree', 'penalties_coefficient': 1, 'boosting_type': 'Plain', 'model_shrink_mode': 'Constant', 'feature_border_type': 'GreedyLogSum', 'bayesian_matrix_reg': 0.10000000149011612, 'eval_fraction': 0, 'force_unit_auto_pair_weights': False, 'l2_leaf_reg': 1.199492544401437e-06, 'random_strength': 9.311341285705566, 'od_type': 'Iter', 'rsm': 1, 'boost_from_average': True, 'model_size_reg': 0.5, 'pool_metainfo_options': {'tags': {}}, 'use_best_model': False, 'od_wait': 44, 'random_seed': 0, 'depth': 5, 'posterior_sampling': False, 'border_count': 254, 'bagging_temperature': 4.088561058044434, 'classes_count': 0, 'auto_class_weights': 'None', 'sparse_features_conflict_fraction': 0, 'leaf_estimation_backtracking': 'AnyImprovement', 'best_model_min_trees': 1, 'model_shrink_rate': 0, 'min_data_in_leaf': 1, 'loss_function': 'RMSE', 'learning_rate': 0.018369974568486217, 'score_function': 'Cosine', 'task_type': 'CPU', 'leaf_estimation_iterations': 1, 'bootstrap_type': 'Bayesian', 'max_leaves': 32}\n",
      "{'nan_mode': 'Min', 'eval_metric': 'RMSE', 'iterations': 836, 'sampling_frequency': 'PerTree', 'leaf_estimation_method': 'Newton', 'od_pval': 0, 'grow_policy': 'SymmetricTree', 'penalties_coefficient': 1, 'boosting_type': 'Plain', 'model_shrink_mode': 'Constant', 'feature_border_type': 'GreedyLogSum', 'bayesian_matrix_reg': 0.10000000149011612, 'eval_fraction': 0, 'force_unit_auto_pair_weights': False, 'l2_leaf_reg': 1.199492544401437e-06, 'random_strength': 9.311341285705566, 'od_type': 'Iter', 'rsm': 1, 'boost_from_average': True, 'model_size_reg': 0.5, 'pool_metainfo_options': {'tags': {}}, 'use_best_model': False, 'od_wait': 44, 'random_seed': 0, 'depth': 5, 'posterior_sampling': False, 'border_count': 254, 'bagging_temperature': 4.088561058044434, 'classes_count': 0, 'auto_class_weights': 'None', 'sparse_features_conflict_fraction': 0, 'leaf_estimation_backtracking': 'AnyImprovement', 'best_model_min_trees': 1, 'model_shrink_rate': 0, 'min_data_in_leaf': 1, 'loss_function': 'RMSE', 'learning_rate': 0.018369974568486217, 'score_function': 'Cosine', 'task_type': 'CPU', 'leaf_estimation_iterations': 1, 'bootstrap_type': 'Bayesian', 'max_leaves': 32}\n",
      "{'nan_mode': 'Min', 'eval_metric': 'RMSE', 'iterations': 836, 'sampling_frequency': 'PerTree', 'leaf_estimation_method': 'Newton', 'od_pval': 0, 'grow_policy': 'SymmetricTree', 'penalties_coefficient': 1, 'boosting_type': 'Plain', 'model_shrink_mode': 'Constant', 'feature_border_type': 'GreedyLogSum', 'bayesian_matrix_reg': 0.10000000149011612, 'eval_fraction': 0, 'force_unit_auto_pair_weights': False, 'l2_leaf_reg': 1.199492544401437e-06, 'random_strength': 9.311341285705566, 'od_type': 'Iter', 'rsm': 1, 'boost_from_average': True, 'model_size_reg': 0.5, 'pool_metainfo_options': {'tags': {}}, 'use_best_model': False, 'od_wait': 44, 'random_seed': 0, 'depth': 5, 'posterior_sampling': False, 'border_count': 254, 'bagging_temperature': 4.088561058044434, 'classes_count': 0, 'auto_class_weights': 'None', 'sparse_features_conflict_fraction': 0, 'leaf_estimation_backtracking': 'AnyImprovement', 'best_model_min_trees': 1, 'model_shrink_rate': 0, 'min_data_in_leaf': 1, 'loss_function': 'RMSE', 'learning_rate': 0.018369974568486217, 'score_function': 'Cosine', 'task_type': 'CPU', 'leaf_estimation_iterations': 1, 'bootstrap_type': 'Bayesian', 'max_leaves': 32}\n",
      "{'nan_mode': 'Min', 'eval_metric': 'RMSE', 'iterations': 836, 'sampling_frequency': 'PerTree', 'leaf_estimation_method': 'Newton', 'od_pval': 0, 'grow_policy': 'SymmetricTree', 'penalties_coefficient': 1, 'boosting_type': 'Plain', 'model_shrink_mode': 'Constant', 'feature_border_type': 'GreedyLogSum', 'bayesian_matrix_reg': 0.10000000149011612, 'eval_fraction': 0, 'force_unit_auto_pair_weights': False, 'l2_leaf_reg': 1.199492544401437e-06, 'random_strength': 9.311341285705566, 'od_type': 'Iter', 'rsm': 1, 'boost_from_average': True, 'model_size_reg': 0.5, 'pool_metainfo_options': {'tags': {}}, 'use_best_model': False, 'od_wait': 44, 'random_seed': 0, 'depth': 5, 'posterior_sampling': False, 'border_count': 254, 'bagging_temperature': 4.088561058044434, 'classes_count': 0, 'auto_class_weights': 'None', 'sparse_features_conflict_fraction': 0, 'leaf_estimation_backtracking': 'AnyImprovement', 'best_model_min_trees': 1, 'model_shrink_rate': 0, 'min_data_in_leaf': 1, 'loss_function': 'RMSE', 'learning_rate': 0.018369974568486217, 'score_function': 'Cosine', 'task_type': 'CPU', 'leaf_estimation_iterations': 1, 'bootstrap_type': 'Bayesian', 'max_leaves': 32}\n",
      "{'nan_mode': 'Min', 'eval_metric': 'RMSE', 'iterations': 836, 'sampling_frequency': 'PerTree', 'leaf_estimation_method': 'Newton', 'od_pval': 0, 'grow_policy': 'SymmetricTree', 'penalties_coefficient': 1, 'boosting_type': 'Plain', 'model_shrink_mode': 'Constant', 'feature_border_type': 'GreedyLogSum', 'bayesian_matrix_reg': 0.10000000149011612, 'eval_fraction': 0, 'force_unit_auto_pair_weights': False, 'l2_leaf_reg': 1.199492544401437e-06, 'random_strength': 9.311341285705566, 'od_type': 'Iter', 'rsm': 1, 'boost_from_average': True, 'model_size_reg': 0.5, 'pool_metainfo_options': {'tags': {}}, 'use_best_model': False, 'od_wait': 44, 'random_seed': 0, 'depth': 5, 'posterior_sampling': False, 'border_count': 254, 'bagging_temperature': 4.088561058044434, 'classes_count': 0, 'auto_class_weights': 'None', 'sparse_features_conflict_fraction': 0, 'leaf_estimation_backtracking': 'AnyImprovement', 'best_model_min_trees': 1, 'model_shrink_rate': 0, 'min_data_in_leaf': 1, 'loss_function': 'RMSE', 'learning_rate': 0.018369974568486217, 'score_function': 'Cosine', 'task_type': 'CPU', 'leaf_estimation_iterations': 1, 'bootstrap_type': 'Bayesian', 'max_leaves': 32}\n",
      "{'nan_mode': 'Min', 'eval_metric': 'RMSE', 'iterations': 836, 'sampling_frequency': 'PerTree', 'leaf_estimation_method': 'Newton', 'od_pval': 0, 'grow_policy': 'SymmetricTree', 'penalties_coefficient': 1, 'boosting_type': 'Plain', 'model_shrink_mode': 'Constant', 'feature_border_type': 'GreedyLogSum', 'bayesian_matrix_reg': 0.10000000149011612, 'eval_fraction': 0, 'force_unit_auto_pair_weights': False, 'l2_leaf_reg': 1.199492544401437e-06, 'random_strength': 9.311341285705566, 'od_type': 'Iter', 'rsm': 1, 'boost_from_average': True, 'model_size_reg': 0.5, 'pool_metainfo_options': {'tags': {}}, 'use_best_model': False, 'od_wait': 44, 'random_seed': 0, 'depth': 5, 'posterior_sampling': False, 'border_count': 254, 'bagging_temperature': 4.088561058044434, 'classes_count': 0, 'auto_class_weights': 'None', 'sparse_features_conflict_fraction': 0, 'leaf_estimation_backtracking': 'AnyImprovement', 'best_model_min_trees': 1, 'model_shrink_rate': 0, 'min_data_in_leaf': 1, 'loss_function': 'RMSE', 'learning_rate': 0.018369974568486217, 'score_function': 'Cosine', 'task_type': 'CPU', 'leaf_estimation_iterations': 1, 'bootstrap_type': 'Bayesian', 'max_leaves': 32}\n",
      "{'nan_mode': 'Min', 'eval_metric': 'RMSE', 'iterations': 836, 'sampling_frequency': 'PerTree', 'leaf_estimation_method': 'Newton', 'od_pval': 0, 'grow_policy': 'SymmetricTree', 'penalties_coefficient': 1, 'boosting_type': 'Plain', 'model_shrink_mode': 'Constant', 'feature_border_type': 'GreedyLogSum', 'bayesian_matrix_reg': 0.10000000149011612, 'eval_fraction': 0, 'force_unit_auto_pair_weights': False, 'l2_leaf_reg': 1.199492544401437e-06, 'random_strength': 9.311341285705566, 'od_type': 'Iter', 'rsm': 1, 'boost_from_average': True, 'model_size_reg': 0.5, 'pool_metainfo_options': {'tags': {}}, 'use_best_model': False, 'od_wait': 44, 'random_seed': 0, 'depth': 5, 'posterior_sampling': False, 'border_count': 254, 'bagging_temperature': 4.088561058044434, 'classes_count': 0, 'auto_class_weights': 'None', 'sparse_features_conflict_fraction': 0, 'leaf_estimation_backtracking': 'AnyImprovement', 'best_model_min_trees': 1, 'model_shrink_rate': 0, 'min_data_in_leaf': 1, 'loss_function': 'RMSE', 'learning_rate': 0.018369974568486217, 'score_function': 'Cosine', 'task_type': 'CPU', 'leaf_estimation_iterations': 1, 'bootstrap_type': 'Bayesian', 'max_leaves': 32}\n"
     ]
    }
   ],
   "source": [
    "import Utils as utils\n",
    "from catboost import CatBoostRegressor\n",
    "from catboost import Pool\n",
    "\n",
    "# utils.evaluate_catboost(dfX,y,kf)\n",
    "def cbpred_params(dfX,y,kf, params):\n",
    "    vals = []\n",
    "    preds = []\n",
    "    cbr = CatBoostRegressor(**params)\n",
    "    for train_index, test_index in kf.split(dfX):\n",
    "    # print(\"TRAIN:\", train_index, \"TEST:\", test_index)\n",
    "        train_x, train_y = dfX.iloc[train_index], y.iloc[train_index]\n",
    "        # train_x, val_x, train_y, val_y = train_test_split(train_x, train_y, test_size=0.25)\n",
    "        test_x, test_y = dfX.iloc[test_index], y.iloc[test_index]\n",
    "\n",
    "        train_pool = Pool(data=train_x, label=train_y)\n",
    "        # val_pool = Pool(data=val_x, label=val_y)\n",
    "        test_pool = Pool(data=test_x, label=test_y)\n",
    "\n",
    "        \n",
    "        cbr.fit(train_pool, verbose=False)\n",
    "        cbr_pred = cbr.predict(test_pool)\n",
    "        print(cbr.get_all_params())\n",
    "        preds.append(cbr_pred)\n",
    "        vals.append(test_y)\n",
    "\n",
    "    return utils.error_rate(\"Catboost\",flatten(preds),flatten(vals))\n",
    "\n",
    "\n",
    "cols = ['Umur', 'Umur Squared', 'APM SMA', 'SMA', 'Pengeluaran Bulanan', 'Indeks Pembangunan Manusia', 'DPT', 'Sentiment', 'Weighted Sentiment']\n",
    "params = trial.params\n",
    "# params = {'iterations': 843,\n",
    "#  'learning_rate': 0.03549668630252779,\n",
    "#  'depth': 10,\n",
    "#  'l2_leaf_reg': 2.7702750401932485e-06,\n",
    "#  'bootstrap_type': 'Bayesian',\n",
    "#  'random_strength': 1.989872891341923,\n",
    "#  'bagging_temperature': 0.8515228814732063,\n",
    "#  'od_type': 'IncToDec',\n",
    "#  'od_wait': 44}\n",
    "\n",
    "\n",
    "res = cbpred_params(dfX[cols],y,kf, params)\n",
    "\n"
   ]
  },
  {
   "cell_type": "code",
   "execution_count": 39,
   "metadata": {},
   "outputs": [
    {
     "data": {
      "text/plain": [
       "{'iterations': 836,\n",
       " 'learning_rate': 0.018369975117039684,\n",
       " 'depth': 5,\n",
       " 'l2_leaf_reg': 1.1994924961669811e-06,\n",
       " 'bootstrap_type': 'Bayesian',\n",
       " 'random_strength': 9.311341227775438,\n",
       " 'bagging_temperature': 4.088561104847901,\n",
       " 'od_type': 'Iter',\n",
       " 'od_wait': 44}"
      ]
     },
     "execution_count": 39,
     "metadata": {},
     "output_type": "execute_result"
    }
   ],
   "source": [
    "currbest = trial.params\n",
    "currbest"
   ]
  },
  {
   "cell_type": "code",
   "execution_count": 38,
   "metadata": {},
   "outputs": [
    {
     "data": {
      "text/plain": [
       "('Catboost', 0.03408314614979994, 0.027608649962985995, 0.5063050077971629)"
      ]
     },
     "execution_count": 38,
     "metadata": {},
     "output_type": "execute_result"
    }
   ],
   "source": [
    "res"
   ]
  },
  {
   "cell_type": "code",
   "execution_count": 42,
   "metadata": {},
   "outputs": [
    {
     "data": {
      "text/html": [
       "<div>\n",
       "<style scoped>\n",
       "    .dataframe tbody tr th:only-of-type {\n",
       "        vertical-align: middle;\n",
       "    }\n",
       "\n",
       "    .dataframe tbody tr th {\n",
       "        vertical-align: top;\n",
       "    }\n",
       "\n",
       "    .dataframe thead tr th {\n",
       "        text-align: left;\n",
       "    }\n",
       "</style>\n",
       "<table border=\"1\" class=\"dataframe\">\n",
       "  <thead>\n",
       "    <tr>\n",
       "      <th></th>\n",
       "      <th>number</th>\n",
       "      <th>value</th>\n",
       "      <th>datetime_start</th>\n",
       "      <th>datetime_complete</th>\n",
       "      <th>duration</th>\n",
       "      <th colspan=\"9\" halign=\"left\">params</th>\n",
       "      <th>state</th>\n",
       "    </tr>\n",
       "    <tr>\n",
       "      <th></th>\n",
       "      <th></th>\n",
       "      <th></th>\n",
       "      <th></th>\n",
       "      <th></th>\n",
       "      <th></th>\n",
       "      <th>bagging_temperature</th>\n",
       "      <th>bootstrap_type</th>\n",
       "      <th>depth</th>\n",
       "      <th>iterations</th>\n",
       "      <th>l2_leaf_reg</th>\n",
       "      <th>learning_rate</th>\n",
       "      <th>od_type</th>\n",
       "      <th>od_wait</th>\n",
       "      <th>random_strength</th>\n",
       "      <th></th>\n",
       "    </tr>\n",
       "  </thead>\n",
       "  <tbody>\n",
       "    <tr>\n",
       "      <th>0</th>\n",
       "      <td>0</td>\n",
       "      <td>0.036427</td>\n",
       "      <td>2023-06-22 03:11:47.313552</td>\n",
       "      <td>2023-06-22 03:11:59.050418</td>\n",
       "      <td>0 days 00:00:11.736866</td>\n",
       "      <td>0.923386</td>\n",
       "      <td>Bayesian</td>\n",
       "      <td>4</td>\n",
       "      <td>475</td>\n",
       "      <td>1.055178e-05</td>\n",
       "      <td>0.027583</td>\n",
       "      <td>Iter</td>\n",
       "      <td>26</td>\n",
       "      <td>2.093163e-07</td>\n",
       "      <td>COMPLETE</td>\n",
       "    </tr>\n",
       "    <tr>\n",
       "      <th>1</th>\n",
       "      <td>1</td>\n",
       "      <td>0.035952</td>\n",
       "      <td>2023-06-22 03:11:59.052115</td>\n",
       "      <td>2023-06-22 03:12:37.124578</td>\n",
       "      <td>0 days 00:00:38.072463</td>\n",
       "      <td>0.273876</td>\n",
       "      <td>Bayesian</td>\n",
       "      <td>8</td>\n",
       "      <td>585</td>\n",
       "      <td>1.107956e-06</td>\n",
       "      <td>0.006893</td>\n",
       "      <td>IncToDec</td>\n",
       "      <td>32</td>\n",
       "      <td>7.999391e-01</td>\n",
       "      <td>COMPLETE</td>\n",
       "    </tr>\n",
       "    <tr>\n",
       "      <th>2</th>\n",
       "      <td>2</td>\n",
       "      <td>0.048229</td>\n",
       "      <td>2023-06-22 03:12:37.126489</td>\n",
       "      <td>2023-06-22 03:13:01.674536</td>\n",
       "      <td>0 days 00:00:24.548047</td>\n",
       "      <td>6.923226</td>\n",
       "      <td>Bayesian</td>\n",
       "      <td>9</td>\n",
       "      <td>226</td>\n",
       "      <td>4.815216e+01</td>\n",
       "      <td>0.002490</td>\n",
       "      <td>Iter</td>\n",
       "      <td>13</td>\n",
       "      <td>6.619384e-06</td>\n",
       "      <td>COMPLETE</td>\n",
       "    </tr>\n",
       "    <tr>\n",
       "      <th>3</th>\n",
       "      <td>3</td>\n",
       "      <td>0.045082</td>\n",
       "      <td>2023-06-22 03:13:01.676113</td>\n",
       "      <td>2023-06-22 03:13:31.687110</td>\n",
       "      <td>0 days 00:00:30.010997</td>\n",
       "      <td>9.578895</td>\n",
       "      <td>Bayesian</td>\n",
       "      <td>10</td>\n",
       "      <td>135</td>\n",
       "      <td>9.626498e-08</td>\n",
       "      <td>0.002186</td>\n",
       "      <td>Iter</td>\n",
       "      <td>22</td>\n",
       "      <td>6.165505e-05</td>\n",
       "      <td>COMPLETE</td>\n",
       "    </tr>\n",
       "    <tr>\n",
       "      <th>4</th>\n",
       "      <td>4</td>\n",
       "      <td>0.034440</td>\n",
       "      <td>2023-06-22 03:13:31.688616</td>\n",
       "      <td>2023-06-22 03:13:46.360778</td>\n",
       "      <td>0 days 00:00:14.672162</td>\n",
       "      <td>7.481657</td>\n",
       "      <td>Bayesian</td>\n",
       "      <td>4</td>\n",
       "      <td>718</td>\n",
       "      <td>3.172803e-01</td>\n",
       "      <td>0.046693</td>\n",
       "      <td>Iter</td>\n",
       "      <td>14</td>\n",
       "      <td>7.938707e+00</td>\n",
       "      <td>COMPLETE</td>\n",
       "    </tr>\n",
       "    <tr>\n",
       "      <th>...</th>\n",
       "      <td>...</td>\n",
       "      <td>...</td>\n",
       "      <td>...</td>\n",
       "      <td>...</td>\n",
       "      <td>...</td>\n",
       "      <td>...</td>\n",
       "      <td>...</td>\n",
       "      <td>...</td>\n",
       "      <td>...</td>\n",
       "      <td>...</td>\n",
       "      <td>...</td>\n",
       "      <td>...</td>\n",
       "      <td>...</td>\n",
       "      <td>...</td>\n",
       "      <td>...</td>\n",
       "    </tr>\n",
       "    <tr>\n",
       "      <th>95</th>\n",
       "      <td>95</td>\n",
       "      <td>0.034645</td>\n",
       "      <td>2023-06-22 03:51:21.537533</td>\n",
       "      <td>2023-06-22 03:51:42.157417</td>\n",
       "      <td>0 days 00:00:20.619884</td>\n",
       "      <td>3.566821</td>\n",
       "      <td>Bayesian</td>\n",
       "      <td>4</td>\n",
       "      <td>955</td>\n",
       "      <td>1.305424e-07</td>\n",
       "      <td>0.013921</td>\n",
       "      <td>Iter</td>\n",
       "      <td>43</td>\n",
       "      <td>1.524109e+00</td>\n",
       "      <td>COMPLETE</td>\n",
       "    </tr>\n",
       "    <tr>\n",
       "      <th>96</th>\n",
       "      <td>96</td>\n",
       "      <td>0.034213</td>\n",
       "      <td>2023-06-22 03:51:42.158416</td>\n",
       "      <td>2023-06-22 03:52:02.131600</td>\n",
       "      <td>0 days 00:00:19.973184</td>\n",
       "      <td>4.825321</td>\n",
       "      <td>Bayesian</td>\n",
       "      <td>4</td>\n",
       "      <td>935</td>\n",
       "      <td>2.302908e-06</td>\n",
       "      <td>0.008837</td>\n",
       "      <td>Iter</td>\n",
       "      <td>42</td>\n",
       "      <td>6.515164e+00</td>\n",
       "      <td>COMPLETE</td>\n",
       "    </tr>\n",
       "    <tr>\n",
       "      <th>97</th>\n",
       "      <td>97</td>\n",
       "      <td>0.034271</td>\n",
       "      <td>2023-06-22 03:52:02.133191</td>\n",
       "      <td>2023-06-22 03:52:19.870155</td>\n",
       "      <td>0 days 00:00:17.736964</td>\n",
       "      <td>4.833429</td>\n",
       "      <td>Bayesian</td>\n",
       "      <td>4</td>\n",
       "      <td>900</td>\n",
       "      <td>2.317256e-06</td>\n",
       "      <td>0.009129</td>\n",
       "      <td>Iter</td>\n",
       "      <td>44</td>\n",
       "      <td>6.601977e+00</td>\n",
       "      <td>COMPLETE</td>\n",
       "    </tr>\n",
       "    <tr>\n",
       "      <th>98</th>\n",
       "      <td>98</td>\n",
       "      <td>0.034521</td>\n",
       "      <td>2023-06-22 03:52:19.871155</td>\n",
       "      <td>2023-06-22 03:52:39.336154</td>\n",
       "      <td>0 days 00:00:19.464999</td>\n",
       "      <td>3.344639</td>\n",
       "      <td>Bayesian</td>\n",
       "      <td>4</td>\n",
       "      <td>934</td>\n",
       "      <td>6.015401e-07</td>\n",
       "      <td>0.012751</td>\n",
       "      <td>Iter</td>\n",
       "      <td>38</td>\n",
       "      <td>1.023701e+00</td>\n",
       "      <td>COMPLETE</td>\n",
       "    </tr>\n",
       "    <tr>\n",
       "      <th>99</th>\n",
       "      <td>99</td>\n",
       "      <td>0.034574</td>\n",
       "      <td>2023-06-22 03:52:39.337699</td>\n",
       "      <td>2023-06-22 03:52:58.337164</td>\n",
       "      <td>0 days 00:00:18.999465</td>\n",
       "      <td>5.437053</td>\n",
       "      <td>Bayesian</td>\n",
       "      <td>4</td>\n",
       "      <td>881</td>\n",
       "      <td>5.304978e-06</td>\n",
       "      <td>0.007672</td>\n",
       "      <td>Iter</td>\n",
       "      <td>45</td>\n",
       "      <td>2.349773e+00</td>\n",
       "      <td>COMPLETE</td>\n",
       "    </tr>\n",
       "  </tbody>\n",
       "</table>\n",
       "<p>100 rows × 15 columns</p>\n",
       "</div>"
      ],
      "text/plain": [
       "   number     value             datetime_start          datetime_complete   \n",
       "                                                                            \n",
       "0       0  0.036427 2023-06-22 03:11:47.313552 2023-06-22 03:11:59.050418  \\\n",
       "1       1  0.035952 2023-06-22 03:11:59.052115 2023-06-22 03:12:37.124578   \n",
       "2       2  0.048229 2023-06-22 03:12:37.126489 2023-06-22 03:13:01.674536   \n",
       "3       3  0.045082 2023-06-22 03:13:01.676113 2023-06-22 03:13:31.687110   \n",
       "4       4  0.034440 2023-06-22 03:13:31.688616 2023-06-22 03:13:46.360778   \n",
       "..    ...       ...                        ...                        ...   \n",
       "95     95  0.034645 2023-06-22 03:51:21.537533 2023-06-22 03:51:42.157417   \n",
       "96     96  0.034213 2023-06-22 03:51:42.158416 2023-06-22 03:52:02.131600   \n",
       "97     97  0.034271 2023-06-22 03:52:02.133191 2023-06-22 03:52:19.870155   \n",
       "98     98  0.034521 2023-06-22 03:52:19.871155 2023-06-22 03:52:39.336154   \n",
       "99     99  0.034574 2023-06-22 03:52:39.337699 2023-06-22 03:52:58.337164   \n",
       "\n",
       "                 duration              params                                   \n",
       "                          bagging_temperature bootstrap_type depth iterations   \n",
       "0  0 days 00:00:11.736866            0.923386       Bayesian     4        475  \\\n",
       "1  0 days 00:00:38.072463            0.273876       Bayesian     8        585   \n",
       "2  0 days 00:00:24.548047            6.923226       Bayesian     9        226   \n",
       "3  0 days 00:00:30.010997            9.578895       Bayesian    10        135   \n",
       "4  0 days 00:00:14.672162            7.481657       Bayesian     4        718   \n",
       "..                    ...                 ...            ...   ...        ...   \n",
       "95 0 days 00:00:20.619884            3.566821       Bayesian     4        955   \n",
       "96 0 days 00:00:19.973184            4.825321       Bayesian     4        935   \n",
       "97 0 days 00:00:17.736964            4.833429       Bayesian     4        900   \n",
       "98 0 days 00:00:19.464999            3.344639       Bayesian     4        934   \n",
       "99 0 days 00:00:18.999465            5.437053       Bayesian     4        881   \n",
       "\n",
       "                                                                     state  \n",
       "     l2_leaf_reg learning_rate   od_type od_wait random_strength            \n",
       "0   1.055178e-05      0.027583      Iter      26    2.093163e-07  COMPLETE  \n",
       "1   1.107956e-06      0.006893  IncToDec      32    7.999391e-01  COMPLETE  \n",
       "2   4.815216e+01      0.002490      Iter      13    6.619384e-06  COMPLETE  \n",
       "3   9.626498e-08      0.002186      Iter      22    6.165505e-05  COMPLETE  \n",
       "4   3.172803e-01      0.046693      Iter      14    7.938707e+00  COMPLETE  \n",
       "..           ...           ...       ...     ...             ...       ...  \n",
       "95  1.305424e-07      0.013921      Iter      43    1.524109e+00  COMPLETE  \n",
       "96  2.302908e-06      0.008837      Iter      42    6.515164e+00  COMPLETE  \n",
       "97  2.317256e-06      0.009129      Iter      44    6.601977e+00  COMPLETE  \n",
       "98  6.015401e-07      0.012751      Iter      38    1.023701e+00  COMPLETE  \n",
       "99  5.304978e-06      0.007672      Iter      45    2.349773e+00  COMPLETE  \n",
       "\n",
       "[100 rows x 15 columns]"
      ]
     },
     "execution_count": 42,
     "metadata": {},
     "output_type": "execute_result"
    }
   ],
   "source": [
    "trialdf = study.trials_dataframe(multi_index=True)\n",
    "trialdf"
   ]
  },
  {
   "cell_type": "code",
   "execution_count": 43,
   "metadata": {},
   "outputs": [
    {
     "data": {
      "text/html": [
       "<div>\n",
       "<style scoped>\n",
       "    .dataframe tbody tr th:only-of-type {\n",
       "        vertical-align: middle;\n",
       "    }\n",
       "\n",
       "    .dataframe tbody tr th {\n",
       "        vertical-align: top;\n",
       "    }\n",
       "\n",
       "    .dataframe thead tr th {\n",
       "        text-align: left;\n",
       "    }\n",
       "</style>\n",
       "<table border=\"1\" class=\"dataframe\">\n",
       "  <thead>\n",
       "    <tr>\n",
       "      <th></th>\n",
       "      <th>number</th>\n",
       "      <th>value</th>\n",
       "      <th>datetime_start</th>\n",
       "      <th>datetime_complete</th>\n",
       "      <th>duration</th>\n",
       "      <th colspan=\"9\" halign=\"left\">params</th>\n",
       "      <th>state</th>\n",
       "    </tr>\n",
       "    <tr>\n",
       "      <th></th>\n",
       "      <th></th>\n",
       "      <th></th>\n",
       "      <th></th>\n",
       "      <th></th>\n",
       "      <th></th>\n",
       "      <th>bagging_temperature</th>\n",
       "      <th>bootstrap_type</th>\n",
       "      <th>depth</th>\n",
       "      <th>iterations</th>\n",
       "      <th>l2_leaf_reg</th>\n",
       "      <th>learning_rate</th>\n",
       "      <th>od_type</th>\n",
       "      <th>od_wait</th>\n",
       "      <th>random_strength</th>\n",
       "      <th></th>\n",
       "    </tr>\n",
       "  </thead>\n",
       "  <tbody>\n",
       "    <tr>\n",
       "      <th>0</th>\n",
       "      <td>1</td>\n",
       "      <td>0.036427</td>\n",
       "      <td>2023-06-22 03:11:47.313552</td>\n",
       "      <td>2023-06-22 03:11:59.050418</td>\n",
       "      <td>0 days 00:00:11.736866</td>\n",
       "      <td>0.923386</td>\n",
       "      <td>Bayesian</td>\n",
       "      <td>4</td>\n",
       "      <td>475</td>\n",
       "      <td>1.055178e-05</td>\n",
       "      <td>0.027583</td>\n",
       "      <td>Iter</td>\n",
       "      <td>26</td>\n",
       "      <td>2.093163e-07</td>\n",
       "      <td>COMPLETE</td>\n",
       "    </tr>\n",
       "    <tr>\n",
       "      <th>1</th>\n",
       "      <td>2</td>\n",
       "      <td>0.035952</td>\n",
       "      <td>2023-06-22 03:11:59.052115</td>\n",
       "      <td>2023-06-22 03:12:37.124578</td>\n",
       "      <td>0 days 00:00:38.072463</td>\n",
       "      <td>0.273876</td>\n",
       "      <td>Bayesian</td>\n",
       "      <td>8</td>\n",
       "      <td>585</td>\n",
       "      <td>1.107956e-06</td>\n",
       "      <td>0.006893</td>\n",
       "      <td>IncToDec</td>\n",
       "      <td>32</td>\n",
       "      <td>7.999391e-01</td>\n",
       "      <td>COMPLETE</td>\n",
       "    </tr>\n",
       "    <tr>\n",
       "      <th>2</th>\n",
       "      <td>3</td>\n",
       "      <td>0.048229</td>\n",
       "      <td>2023-06-22 03:12:37.126489</td>\n",
       "      <td>2023-06-22 03:13:01.674536</td>\n",
       "      <td>0 days 00:00:24.548047</td>\n",
       "      <td>6.923226</td>\n",
       "      <td>Bayesian</td>\n",
       "      <td>9</td>\n",
       "      <td>226</td>\n",
       "      <td>4.815216e+01</td>\n",
       "      <td>0.002490</td>\n",
       "      <td>Iter</td>\n",
       "      <td>13</td>\n",
       "      <td>6.619384e-06</td>\n",
       "      <td>COMPLETE</td>\n",
       "    </tr>\n",
       "    <tr>\n",
       "      <th>3</th>\n",
       "      <td>4</td>\n",
       "      <td>0.045082</td>\n",
       "      <td>2023-06-22 03:13:01.676113</td>\n",
       "      <td>2023-06-22 03:13:31.687110</td>\n",
       "      <td>0 days 00:00:30.010997</td>\n",
       "      <td>9.578895</td>\n",
       "      <td>Bayesian</td>\n",
       "      <td>10</td>\n",
       "      <td>135</td>\n",
       "      <td>9.626498e-08</td>\n",
       "      <td>0.002186</td>\n",
       "      <td>Iter</td>\n",
       "      <td>22</td>\n",
       "      <td>6.165505e-05</td>\n",
       "      <td>COMPLETE</td>\n",
       "    </tr>\n",
       "    <tr>\n",
       "      <th>4</th>\n",
       "      <td>5</td>\n",
       "      <td>0.034440</td>\n",
       "      <td>2023-06-22 03:13:31.688616</td>\n",
       "      <td>2023-06-22 03:13:46.360778</td>\n",
       "      <td>0 days 00:00:14.672162</td>\n",
       "      <td>7.481657</td>\n",
       "      <td>Bayesian</td>\n",
       "      <td>4</td>\n",
       "      <td>718</td>\n",
       "      <td>3.172803e-01</td>\n",
       "      <td>0.046693</td>\n",
       "      <td>Iter</td>\n",
       "      <td>14</td>\n",
       "      <td>7.938707e+00</td>\n",
       "      <td>COMPLETE</td>\n",
       "    </tr>\n",
       "    <tr>\n",
       "      <th>...</th>\n",
       "      <td>...</td>\n",
       "      <td>...</td>\n",
       "      <td>...</td>\n",
       "      <td>...</td>\n",
       "      <td>...</td>\n",
       "      <td>...</td>\n",
       "      <td>...</td>\n",
       "      <td>...</td>\n",
       "      <td>...</td>\n",
       "      <td>...</td>\n",
       "      <td>...</td>\n",
       "      <td>...</td>\n",
       "      <td>...</td>\n",
       "      <td>...</td>\n",
       "      <td>...</td>\n",
       "    </tr>\n",
       "    <tr>\n",
       "      <th>95</th>\n",
       "      <td>96</td>\n",
       "      <td>0.034645</td>\n",
       "      <td>2023-06-22 03:51:21.537533</td>\n",
       "      <td>2023-06-22 03:51:42.157417</td>\n",
       "      <td>0 days 00:00:20.619884</td>\n",
       "      <td>3.566821</td>\n",
       "      <td>Bayesian</td>\n",
       "      <td>4</td>\n",
       "      <td>955</td>\n",
       "      <td>1.305424e-07</td>\n",
       "      <td>0.013921</td>\n",
       "      <td>Iter</td>\n",
       "      <td>43</td>\n",
       "      <td>1.524109e+00</td>\n",
       "      <td>COMPLETE</td>\n",
       "    </tr>\n",
       "    <tr>\n",
       "      <th>96</th>\n",
       "      <td>97</td>\n",
       "      <td>0.034213</td>\n",
       "      <td>2023-06-22 03:51:42.158416</td>\n",
       "      <td>2023-06-22 03:52:02.131600</td>\n",
       "      <td>0 days 00:00:19.973184</td>\n",
       "      <td>4.825321</td>\n",
       "      <td>Bayesian</td>\n",
       "      <td>4</td>\n",
       "      <td>935</td>\n",
       "      <td>2.302908e-06</td>\n",
       "      <td>0.008837</td>\n",
       "      <td>Iter</td>\n",
       "      <td>42</td>\n",
       "      <td>6.515164e+00</td>\n",
       "      <td>COMPLETE</td>\n",
       "    </tr>\n",
       "    <tr>\n",
       "      <th>97</th>\n",
       "      <td>98</td>\n",
       "      <td>0.034271</td>\n",
       "      <td>2023-06-22 03:52:02.133191</td>\n",
       "      <td>2023-06-22 03:52:19.870155</td>\n",
       "      <td>0 days 00:00:17.736964</td>\n",
       "      <td>4.833429</td>\n",
       "      <td>Bayesian</td>\n",
       "      <td>4</td>\n",
       "      <td>900</td>\n",
       "      <td>2.317256e-06</td>\n",
       "      <td>0.009129</td>\n",
       "      <td>Iter</td>\n",
       "      <td>44</td>\n",
       "      <td>6.601977e+00</td>\n",
       "      <td>COMPLETE</td>\n",
       "    </tr>\n",
       "    <tr>\n",
       "      <th>98</th>\n",
       "      <td>99</td>\n",
       "      <td>0.034521</td>\n",
       "      <td>2023-06-22 03:52:19.871155</td>\n",
       "      <td>2023-06-22 03:52:39.336154</td>\n",
       "      <td>0 days 00:00:19.464999</td>\n",
       "      <td>3.344639</td>\n",
       "      <td>Bayesian</td>\n",
       "      <td>4</td>\n",
       "      <td>934</td>\n",
       "      <td>6.015401e-07</td>\n",
       "      <td>0.012751</td>\n",
       "      <td>Iter</td>\n",
       "      <td>38</td>\n",
       "      <td>1.023701e+00</td>\n",
       "      <td>COMPLETE</td>\n",
       "    </tr>\n",
       "    <tr>\n",
       "      <th>99</th>\n",
       "      <td>100</td>\n",
       "      <td>0.034574</td>\n",
       "      <td>2023-06-22 03:52:39.337699</td>\n",
       "      <td>2023-06-22 03:52:58.337164</td>\n",
       "      <td>0 days 00:00:18.999465</td>\n",
       "      <td>5.437053</td>\n",
       "      <td>Bayesian</td>\n",
       "      <td>4</td>\n",
       "      <td>881</td>\n",
       "      <td>5.304978e-06</td>\n",
       "      <td>0.007672</td>\n",
       "      <td>Iter</td>\n",
       "      <td>45</td>\n",
       "      <td>2.349773e+00</td>\n",
       "      <td>COMPLETE</td>\n",
       "    </tr>\n",
       "  </tbody>\n",
       "</table>\n",
       "<p>100 rows × 15 columns</p>\n",
       "</div>"
      ],
      "text/plain": [
       "   number     value             datetime_start          datetime_complete   \n",
       "                                                                            \n",
       "0       1  0.036427 2023-06-22 03:11:47.313552 2023-06-22 03:11:59.050418  \\\n",
       "1       2  0.035952 2023-06-22 03:11:59.052115 2023-06-22 03:12:37.124578   \n",
       "2       3  0.048229 2023-06-22 03:12:37.126489 2023-06-22 03:13:01.674536   \n",
       "3       4  0.045082 2023-06-22 03:13:01.676113 2023-06-22 03:13:31.687110   \n",
       "4       5  0.034440 2023-06-22 03:13:31.688616 2023-06-22 03:13:46.360778   \n",
       "..    ...       ...                        ...                        ...   \n",
       "95     96  0.034645 2023-06-22 03:51:21.537533 2023-06-22 03:51:42.157417   \n",
       "96     97  0.034213 2023-06-22 03:51:42.158416 2023-06-22 03:52:02.131600   \n",
       "97     98  0.034271 2023-06-22 03:52:02.133191 2023-06-22 03:52:19.870155   \n",
       "98     99  0.034521 2023-06-22 03:52:19.871155 2023-06-22 03:52:39.336154   \n",
       "99    100  0.034574 2023-06-22 03:52:39.337699 2023-06-22 03:52:58.337164   \n",
       "\n",
       "                 duration              params                                   \n",
       "                          bagging_temperature bootstrap_type depth iterations   \n",
       "0  0 days 00:00:11.736866            0.923386       Bayesian     4        475  \\\n",
       "1  0 days 00:00:38.072463            0.273876       Bayesian     8        585   \n",
       "2  0 days 00:00:24.548047            6.923226       Bayesian     9        226   \n",
       "3  0 days 00:00:30.010997            9.578895       Bayesian    10        135   \n",
       "4  0 days 00:00:14.672162            7.481657       Bayesian     4        718   \n",
       "..                    ...                 ...            ...   ...        ...   \n",
       "95 0 days 00:00:20.619884            3.566821       Bayesian     4        955   \n",
       "96 0 days 00:00:19.973184            4.825321       Bayesian     4        935   \n",
       "97 0 days 00:00:17.736964            4.833429       Bayesian     4        900   \n",
       "98 0 days 00:00:19.464999            3.344639       Bayesian     4        934   \n",
       "99 0 days 00:00:18.999465            5.437053       Bayesian     4        881   \n",
       "\n",
       "                                                                     state  \n",
       "     l2_leaf_reg learning_rate   od_type od_wait random_strength            \n",
       "0   1.055178e-05      0.027583      Iter      26    2.093163e-07  COMPLETE  \n",
       "1   1.107956e-06      0.006893  IncToDec      32    7.999391e-01  COMPLETE  \n",
       "2   4.815216e+01      0.002490      Iter      13    6.619384e-06  COMPLETE  \n",
       "3   9.626498e-08      0.002186      Iter      22    6.165505e-05  COMPLETE  \n",
       "4   3.172803e-01      0.046693      Iter      14    7.938707e+00  COMPLETE  \n",
       "..           ...           ...       ...     ...             ...       ...  \n",
       "95  1.305424e-07      0.013921      Iter      43    1.524109e+00  COMPLETE  \n",
       "96  2.302908e-06      0.008837      Iter      42    6.515164e+00  COMPLETE  \n",
       "97  2.317256e-06      0.009129      Iter      44    6.601977e+00  COMPLETE  \n",
       "98  6.015401e-07      0.012751      Iter      38    1.023701e+00  COMPLETE  \n",
       "99  5.304978e-06      0.007672      Iter      45    2.349773e+00  COMPLETE  \n",
       "\n",
       "[100 rows x 15 columns]"
      ]
     },
     "execution_count": 43,
     "metadata": {},
     "output_type": "execute_result"
    }
   ],
   "source": [
    "trialdf['number'] = trialdf['number'] + 1\n",
    "trialdf"
   ]
  },
  {
   "cell_type": "code",
   "execution_count": 44,
   "metadata": {},
   "outputs": [],
   "source": [
    "trialdf.to_excel('optuna.xlsx')\n"
   ]
  },
  {
   "cell_type": "code",
   "execution_count": null,
   "metadata": {},
   "outputs": [],
   "source": []
  },
  {
   "cell_type": "code",
   "execution_count": 46,
   "metadata": {},
   "outputs": [
    {
     "data": {
      "application/vnd.jupyter.widget-view+json": {
       "model_id": "083c5e2a3b07440f947b396aab9b552c",
       "version_major": 2,
       "version_minor": 0
      },
      "text/plain": [
       "MetricVisualizer(layout=Layout(align_self='stretch', height='500px'))"
      ]
     },
     "metadata": {},
     "output_type": "display_data"
    },
    {
     "name": "stdout",
     "output_type": "stream",
     "text": [
      "0:\tlearn: 0.7877144\ttest: 0.8139871\tbest: 0.8139871 (0)\ttotal: 615us\tremaining: 615ms\n",
      "999:\tlearn: 0.0111392\ttest: 0.0823373\tbest: 0.0823373 (999)\ttotal: 765ms\tremaining: 0us\n",
      "\n",
      "bestTest = 0.08233734489\n",
      "bestIteration = 999\n",
      "\n",
      "0:\tlearn: 0.7869937\ttest: 0.8133130\tbest: 0.8133130 (0)\ttotal: 512us\tremaining: 512ms\n",
      "999:\tlearn: 0.0104203\ttest: 0.0815170\tbest: 0.0815170 (999)\ttotal: 731ms\tremaining: 0us\n",
      "\n",
      "bestTest = 0.08151701493\n",
      "bestIteration = 999\n",
      "\n",
      "0:\tlearn: 0.7862731\ttest: 0.8126389\tbest: 0.8126389 (0)\ttotal: 1.18ms\tremaining: 1.17s\n",
      "999:\tlearn: 0.0096602\ttest: 0.0810711\tbest: 0.0810711 (999)\ttotal: 652ms\tremaining: 0us\n",
      "\n",
      "bestTest = 0.0810711163\n",
      "bestIteration = 999\n",
      "\n",
      "0:\tlearn: 0.7883816\ttest: 0.8156402\tbest: 0.8156402 (0)\ttotal: 787us\tremaining: 787ms\n",
      "Stopped by overfitting detector  (44 iterations wait)\n",
      "\n",
      "bestTest = 0.1049830917\n",
      "bestIteration = 954\n",
      "\n",
      "0:\tlearn: 0.7877002\ttest: 0.8150634\tbest: 0.8150634 (0)\ttotal: 732us\tremaining: 731ms\n",
      "999:\tlearn: 0.0058523\ttest: 0.1052790\tbest: 0.1052673 (975)\ttotal: 936ms\tremaining: 0us\n",
      "\n",
      "bestTest = 0.1052673291\n",
      "bestIteration = 975\n",
      "\n",
      "0:\tlearn: 0.7870188\ttest: 0.8144866\tbest: 0.8144866 (0)\ttotal: 701us\tremaining: 700ms\n",
      "999:\tlearn: 0.0054653\ttest: 0.1050292\tbest: 0.1050284 (993)\ttotal: 913ms\tremaining: 0us\n",
      "\n",
      "bestTest = 0.1050283902\n",
      "bestIteration = 993\n",
      "\n",
      "0:\tlearn: 0.7879235\ttest: 0.8142243\tbest: 0.8142243 (0)\ttotal: 870us\tremaining: 870ms\n",
      "999:\tlearn: 0.0115121\ttest: 0.0827669\tbest: 0.0827589 (997)\ttotal: 677ms\tremaining: 0us\n",
      "\n",
      "bestTest = 0.08275885796\n",
      "bestIteration = 997\n",
      "\n",
      "0:\tlearn: 0.7872151\ttest: 0.8135642\tbest: 0.8135642 (0)\ttotal: 456us\tremaining: 457ms\n",
      "999:\tlearn: 0.0107778\ttest: 0.0823103\tbest: 0.0823103 (999)\ttotal: 596ms\tremaining: 0us\n",
      "\n",
      "bestTest = 0.08231031118\n",
      "bestIteration = 999\n",
      "\n",
      "0:\tlearn: 0.7865067\ttest: 0.8129041\tbest: 0.8129041 (0)\ttotal: 472us\tremaining: 472ms\n",
      "999:\tlearn: 0.0099949\ttest: 0.0831184\tbest: 0.0831184 (999)\ttotal: 665ms\tremaining: 0us\n",
      "\n",
      "bestTest = 0.08311841603\n",
      "bestIteration = 999\n",
      "\n",
      "0:\tlearn: 0.7886655\ttest: 0.8160349\tbest: 0.8160349 (0)\ttotal: 1.06ms\tremaining: 1.06s\n",
      "999:\tlearn: 0.0072261\ttest: 0.1096490\tbest: 0.1096428 (993)\ttotal: 785ms\tremaining: 0us\n",
      "\n",
      "bestTest = 0.1096428307\n",
      "bestIteration = 993\n",
      "\n",
      "0:\tlearn: 0.7880008\ttest: 0.8154813\tbest: 0.8154813 (0)\ttotal: 618us\tremaining: 617ms\n",
      "999:\tlearn: 0.0065309\ttest: 0.1080830\tbest: 0.1080709 (982)\ttotal: 867ms\tremaining: 0us\n",
      "\n",
      "bestTest = 0.1080708907\n",
      "bestIteration = 982\n",
      "\n",
      "0:\tlearn: 0.7873361\ttest: 0.8149278\tbest: 0.8149278 (0)\ttotal: 928us\tremaining: 928ms\n",
      "999:\tlearn: 0.0058472\ttest: 0.1064043\tbest: 0.1063862 (977)\ttotal: 967ms\tremaining: 0us\n",
      "\n",
      "bestTest = 0.1063862109\n",
      "bestIteration = 977\n",
      "\n",
      "0:\tlearn: 0.7881218\ttest: 0.8144443\tbest: 0.8144443 (0)\ttotal: 575us\tremaining: 575ms\n",
      "999:\tlearn: 0.0119111\ttest: 0.0846266\tbest: 0.0846266 (999)\ttotal: 687ms\tremaining: 0us\n",
      "\n",
      "bestTest = 0.08462658435\n",
      "bestIteration = 999\n",
      "\n",
      "0:\tlearn: 0.7874251\ttest: 0.8137971\tbest: 0.8137971 (0)\ttotal: 1.06ms\tremaining: 1.06s\n",
      "999:\tlearn: 0.0113795\ttest: 0.0841606\tbest: 0.0841606 (999)\ttotal: 516ms\tremaining: 0us\n",
      "\n",
      "bestTest = 0.08416056996\n",
      "bestIteration = 999\n",
      "\n",
      "0:\tlearn: 0.7867284\ttest: 0.8131500\tbest: 0.8131500 (0)\ttotal: 447us\tremaining: 447ms\n",
      "999:\tlearn: 0.0109427\ttest: 0.0850689\tbest: 0.0850461 (995)\ttotal: 605ms\tremaining: 0us\n",
      "\n",
      "bestTest = 0.0850460532\n",
      "bestIteration = 995\n",
      "\n",
      "0:\tlearn: 0.7889283\ttest: 0.8163857\tbest: 0.8163857 (0)\ttotal: 707us\tremaining: 706ms\n",
      "999:\tlearn: 0.0077589\ttest: 0.1122059\tbest: 0.1121541 (980)\ttotal: 762ms\tremaining: 0us\n",
      "\n",
      "bestTest = 0.1121541008\n",
      "bestIteration = 980\n",
      "\n",
      "0:\tlearn: 0.7882791\ttest: 0.8158528\tbest: 0.8158528 (0)\ttotal: 729us\tremaining: 729ms\n",
      "999:\tlearn: 0.0070617\ttest: 0.1087142\tbest: 0.1087142 (999)\ttotal: 733ms\tremaining: 0us\n",
      "\n",
      "bestTest = 0.1087141799\n",
      "bestIteration = 999\n",
      "\n",
      "0:\tlearn: 0.7876299\ttest: 0.8153199\tbest: 0.8153199 (0)\ttotal: 1.32ms\tremaining: 1.32s\n",
      "999:\tlearn: 0.0065321\ttest: 0.1093762\tbest: 0.1093541 (981)\ttotal: 716ms\tremaining: 0us\n",
      "\n",
      "bestTest = 0.1093540907\n",
      "bestIteration = 981\n",
      "\n",
      "0:\tlearn: 0.7877144\ttest: 0.8139871\tbest: 0.8139871 (0)\ttotal: 452us\tremaining: 452ms\n",
      "999:\tlearn: 0.0101246\ttest: 0.0833687\tbest: 0.0833687 (999)\ttotal: 696ms\tremaining: 0us\n",
      "\n",
      "bestTest = 0.08336868451\n",
      "bestIteration = 999\n",
      "\n",
      "0:\tlearn: 0.7869937\ttest: 0.8133130\tbest: 0.8133130 (0)\ttotal: 560us\tremaining: 560ms\n",
      "999:\tlearn: 0.0092607\ttest: 0.0803070\tbest: 0.0803070 (999)\ttotal: 560ms\tremaining: 0us\n",
      "\n",
      "bestTest = 0.08030696763\n",
      "bestIteration = 999\n",
      "\n",
      "0:\tlearn: 0.7862731\ttest: 0.8126389\tbest: 0.8126389 (0)\ttotal: 641us\tremaining: 641ms\n",
      "999:\tlearn: 0.0088312\ttest: 0.0816490\tbest: 0.0816490 (999)\ttotal: 553ms\tremaining: 0us\n",
      "\n",
      "bestTest = 0.08164901679\n",
      "bestIteration = 999\n",
      "\n",
      "0:\tlearn: 0.7883816\ttest: 0.8156402\tbest: 0.8156402 (0)\ttotal: 645us\tremaining: 645ms\n",
      "999:\tlearn: 0.0061146\ttest: 0.1169915\tbest: 0.1169872 (998)\ttotal: 734ms\tremaining: 0us\n",
      "\n",
      "bestTest = 0.1169871787\n",
      "bestIteration = 998\n",
      "\n",
      "0:\tlearn: 0.7877002\ttest: 0.8150634\tbest: 0.8150634 (0)\ttotal: 773us\tremaining: 772ms\n",
      "999:\tlearn: 0.0054449\ttest: 0.1158518\tbest: 0.1158442 (998)\ttotal: 780ms\tremaining: 0us\n",
      "\n",
      "bestTest = 0.1158442032\n",
      "bestIteration = 998\n",
      "\n",
      "0:\tlearn: 0.7870188\ttest: 0.8144866\tbest: 0.8144866 (0)\ttotal: 803us\tremaining: 803ms\n",
      "999:\tlearn: 0.0050385\ttest: 0.1151536\tbest: 0.1151536 (999)\ttotal: 778ms\tremaining: 0us\n",
      "\n",
      "bestTest = 0.1151536339\n",
      "bestIteration = 999\n",
      "\n",
      "0:\tlearn: 0.7879235\ttest: 0.8142243\tbest: 0.8142243 (0)\ttotal: 801us\tremaining: 801ms\n",
      "999:\tlearn: 0.0108080\ttest: 0.0842621\tbest: 0.0842621 (999)\ttotal: 607ms\tremaining: 0us\n",
      "\n",
      "bestTest = 0.084262125\n",
      "bestIteration = 999\n",
      "\n",
      "0:\tlearn: 0.7872151\ttest: 0.8135642\tbest: 0.8135642 (0)\ttotal: 498us\tremaining: 498ms\n",
      "999:\tlearn: 0.0099907\ttest: 0.0834731\tbest: 0.0834582 (995)\ttotal: 569ms\tremaining: 0us\n",
      "\n",
      "bestTest = 0.08345819081\n",
      "bestIteration = 995\n",
      "\n",
      "0:\tlearn: 0.7865067\ttest: 0.8129041\tbest: 0.8129041 (0)\ttotal: 709us\tremaining: 709ms\n",
      "999:\tlearn: 0.0092709\ttest: 0.0826226\tbest: 0.0825964 (997)\ttotal: 730ms\tremaining: 0us\n",
      "\n",
      "bestTest = 0.08259636483\n",
      "bestIteration = 997\n",
      "\n",
      "0:\tlearn: 0.7886655\ttest: 0.8160349\tbest: 0.8160349 (0)\ttotal: 903us\tremaining: 903ms\n",
      "999:\tlearn: 0.0067361\ttest: 0.1222756\tbest: 0.1222698 (993)\ttotal: 709ms\tremaining: 0us\n",
      "\n",
      "bestTest = 0.1222698275\n",
      "bestIteration = 993\n",
      "\n",
      "0:\tlearn: 0.7880008\ttest: 0.8154813\tbest: 0.8154813 (0)\ttotal: 652us\tremaining: 652ms\n",
      "999:\tlearn: 0.0061179\ttest: 0.1188199\tbest: 0.1188199 (999)\ttotal: 787ms\tremaining: 0us\n",
      "\n",
      "bestTest = 0.1188198586\n",
      "bestIteration = 999\n",
      "\n",
      "0:\tlearn: 0.7873361\ttest: 0.8149278\tbest: 0.8149278 (0)\ttotal: 622us\tremaining: 622ms\n",
      "999:\tlearn: 0.0054513\ttest: 0.1178693\tbest: 0.1178693 (999)\ttotal: 793ms\tremaining: 0us\n",
      "\n",
      "bestTest = 0.1178692554\n",
      "bestIteration = 999\n",
      "\n",
      "0:\tlearn: 0.7881218\ttest: 0.8144443\tbest: 0.8144443 (0)\ttotal: 713us\tremaining: 713ms\n",
      "999:\tlearn: 0.0114074\ttest: 0.0854430\tbest: 0.0854430 (999)\ttotal: 575ms\tremaining: 0us\n",
      "\n",
      "bestTest = 0.08544297238\n",
      "bestIteration = 999\n",
      "\n",
      "0:\tlearn: 0.7874251\ttest: 0.8137971\tbest: 0.8137971 (0)\ttotal: 570us\tremaining: 570ms\n",
      "999:\tlearn: 0.0106442\ttest: 0.0846566\tbest: 0.0846566 (999)\ttotal: 528ms\tremaining: 0us\n",
      "\n",
      "bestTest = 0.08465663469\n",
      "bestIteration = 999\n",
      "\n",
      "0:\tlearn: 0.7867284\ttest: 0.8131500\tbest: 0.8131500 (0)\ttotal: 694us\tremaining: 693ms\n",
      "999:\tlearn: 0.0099300\ttest: 0.0853699\tbest: 0.0853699 (999)\ttotal: 617ms\tremaining: 0us\n",
      "\n",
      "bestTest = 0.0853698773\n",
      "bestIteration = 999\n",
      "\n",
      "0:\tlearn: 0.7889283\ttest: 0.8163857\tbest: 0.8163857 (0)\ttotal: 915us\tremaining: 914ms\n",
      "999:\tlearn: 0.0073439\ttest: 0.1227342\tbest: 0.1227342 (999)\ttotal: 881ms\tremaining: 0us\n",
      "\n",
      "bestTest = 0.1227342297\n",
      "bestIteration = 999\n",
      "\n",
      "0:\tlearn: 0.7882791\ttest: 0.8158528\tbest: 0.8158528 (0)\ttotal: 857us\tremaining: 857ms\n",
      "999:\tlearn: 0.0067616\ttest: 0.1226806\tbest: 0.1226791 (988)\ttotal: 763ms\tremaining: 0us\n",
      "\n",
      "bestTest = 0.1226791258\n",
      "bestIteration = 988\n",
      "\n",
      "0:\tlearn: 0.7876299\ttest: 0.8153199\tbest: 0.8153199 (0)\ttotal: 981us\tremaining: 980ms\n",
      "999:\tlearn: 0.0061187\ttest: 0.1219352\tbest: 0.1219352 (999)\ttotal: 721ms\tremaining: 0us\n",
      "\n",
      "bestTest = 0.1219352171\n",
      "bestIteration = 999\n",
      "\n",
      "0:\tlearn: 0.7877144\ttest: 0.8139871\tbest: 0.8139871 (0)\ttotal: 681us\tremaining: 681ms\n",
      "999:\tlearn: 0.0110518\ttest: 0.0820778\tbest: 0.0820573 (997)\ttotal: 582ms\tremaining: 0us\n",
      "\n",
      "bestTest = 0.08205728498\n",
      "bestIteration = 997\n",
      "\n",
      "0:\tlearn: 0.7869937\ttest: 0.8133130\tbest: 0.8133130 (0)\ttotal: 442us\tremaining: 442ms\n",
      "999:\tlearn: 0.0104100\ttest: 0.0820302\tbest: 0.0820196 (995)\ttotal: 591ms\tremaining: 0us\n",
      "\n",
      "bestTest = 0.0820195502\n",
      "bestIteration = 995\n",
      "\n",
      "0:\tlearn: 0.7862731\ttest: 0.8126389\tbest: 0.8126389 (0)\ttotal: 495us\tremaining: 495ms\n",
      "999:\tlearn: 0.0096036\ttest: 0.0816944\tbest: 0.0816944 (999)\ttotal: 554ms\tremaining: 0us\n",
      "\n",
      "bestTest = 0.08169437456\n",
      "bestIteration = 999\n",
      "\n",
      "0:\tlearn: 0.7883816\ttest: 0.8156402\tbest: 0.8156402 (0)\ttotal: 999us\tremaining: 999ms\n",
      "999:\tlearn: 0.0066097\ttest: 0.1043507\tbest: 0.1043242 (978)\ttotal: 768ms\tremaining: 0us\n",
      "\n",
      "bestTest = 0.1043242017\n",
      "bestIteration = 978\n",
      "\n",
      "0:\tlearn: 0.7877002\ttest: 0.8150634\tbest: 0.8150634 (0)\ttotal: 775us\tremaining: 775ms\n",
      "999:\tlearn: 0.0059120\ttest: 0.1056637\tbest: 0.1056637 (999)\ttotal: 855ms\tremaining: 0us\n",
      "\n",
      "bestTest = 0.1056637034\n",
      "bestIteration = 999\n",
      "\n",
      "0:\tlearn: 0.7870188\ttest: 0.8144866\tbest: 0.8144866 (0)\ttotal: 712us\tremaining: 712ms\n",
      "999:\tlearn: 0.0055250\ttest: 0.1053427\tbest: 0.1053388 (979)\ttotal: 755ms\tremaining: 0us\n",
      "\n",
      "bestTest = 0.105338778\n",
      "bestIteration = 979\n",
      "\n",
      "0:\tlearn: 0.7879235\ttest: 0.8142243\tbest: 0.8142243 (0)\ttotal: 718us\tremaining: 718ms\n",
      "999:\tlearn: 0.0114482\ttest: 0.0830732\tbest: 0.0830679 (997)\ttotal: 647ms\tremaining: 0us\n",
      "\n",
      "bestTest = 0.08306791993\n",
      "bestIteration = 997\n",
      "\n",
      "0:\tlearn: 0.7872151\ttest: 0.8135642\tbest: 0.8135642 (0)\ttotal: 704us\tremaining: 703ms\n",
      "999:\tlearn: 0.0107986\ttest: 0.0829607\tbest: 0.0829417 (994)\ttotal: 615ms\tremaining: 0us\n",
      "\n",
      "bestTest = 0.08294168476\n",
      "bestIteration = 994\n",
      "\n",
      "0:\tlearn: 0.7865067\ttest: 0.8129041\tbest: 0.8129041 (0)\ttotal: 521us\tremaining: 521ms\n",
      "999:\tlearn: 0.0101573\ttest: 0.0835578\tbest: 0.0835578 (999)\ttotal: 607ms\tremaining: 0us\n",
      "\n",
      "bestTest = 0.08355780026\n",
      "bestIteration = 999\n",
      "\n",
      "0:\tlearn: 0.7886655\ttest: 0.8160349\tbest: 0.8160349 (0)\ttotal: 802us\tremaining: 801ms\n",
      "999:\tlearn: 0.0070966\ttest: 0.1098192\tbest: 0.1097750 (977)\ttotal: 730ms\tremaining: 0us\n",
      "\n",
      "bestTest = 0.1097749628\n",
      "bestIteration = 977\n",
      "\n",
      "0:\tlearn: 0.7880008\ttest: 0.8154813\tbest: 0.8154813 (0)\ttotal: 712us\tremaining: 711ms\n",
      "Stopped by overfitting detector  (44 iterations wait)\n",
      "\n",
      "bestTest = 0.108127889\n",
      "bestIteration = 817\n",
      "\n",
      "0:\tlearn: 0.7873361\ttest: 0.8149278\tbest: 0.8149278 (0)\ttotal: 902us\tremaining: 901ms\n",
      "999:\tlearn: 0.0060055\ttest: 0.1072217\tbest: 0.1071738 (987)\ttotal: 799ms\tremaining: 0us\n",
      "\n",
      "bestTest = 0.1071737592\n",
      "bestIteration = 987\n",
      "\n",
      "0:\tlearn: 0.7881218\ttest: 0.8144443\tbest: 0.8144443 (0)\ttotal: 581us\tremaining: 581ms\n",
      "999:\tlearn: 0.0124218\ttest: 0.0857210\tbest: 0.0857210 (999)\ttotal: 780ms\tremaining: 0us\n",
      "\n",
      "bestTest = 0.08572099254\n",
      "bestIteration = 999\n",
      "\n",
      "0:\tlearn: 0.7874251\ttest: 0.8137971\tbest: 0.8137971 (0)\ttotal: 559us\tremaining: 559ms\n",
      "999:\tlearn: 0.0114163\ttest: 0.0845784\tbest: 0.0845784 (999)\ttotal: 637ms\tremaining: 0us\n",
      "\n",
      "bestTest = 0.08457835161\n",
      "bestIteration = 999\n",
      "\n",
      "0:\tlearn: 0.7867284\ttest: 0.8131500\tbest: 0.8131500 (0)\ttotal: 763us\tremaining: 763ms\n",
      "999:\tlearn: 0.0109222\ttest: 0.0847296\tbest: 0.0847296 (999)\ttotal: 609ms\tremaining: 0us\n",
      "\n",
      "bestTest = 0.08472959424\n",
      "bestIteration = 999\n",
      "\n",
      "0:\tlearn: 0.7889283\ttest: 0.8163857\tbest: 0.8163857 (0)\ttotal: 992us\tremaining: 991ms\n",
      "999:\tlearn: 0.0078490\ttest: 0.1119862\tbest: 0.1119842 (998)\ttotal: 792ms\tremaining: 0us\n",
      "\n",
      "bestTest = 0.1119841659\n",
      "bestIteration = 998\n",
      "\n",
      "0:\tlearn: 0.7882791\ttest: 0.8158528\tbest: 0.8158528 (0)\ttotal: 721us\tremaining: 720ms\n",
      "999:\tlearn: 0.0070341\ttest: 0.1089632\tbest: 0.1089549 (980)\ttotal: 879ms\tremaining: 0us\n",
      "\n",
      "bestTest = 0.1089549307\n",
      "bestIteration = 980\n",
      "\n",
      "0:\tlearn: 0.7876299\ttest: 0.8153199\tbest: 0.8153199 (0)\ttotal: 841us\tremaining: 840ms\n",
      "999:\tlearn: 0.0065137\ttest: 0.1095901\tbest: 0.1095901 (999)\ttotal: 883ms\tremaining: 0us\n",
      "\n",
      "bestTest = 0.1095900932\n",
      "bestIteration = 999\n",
      "\n",
      "0:\tlearn: 0.7877144\ttest: 0.8139871\tbest: 0.8139871 (0)\ttotal: 597us\tremaining: 597ms\n",
      "999:\tlearn: 0.0110773\ttest: 0.0818840\tbest: 0.0818755 (997)\ttotal: 558ms\tremaining: 0us\n",
      "\n",
      "bestTest = 0.08187554835\n",
      "bestIteration = 997\n",
      "\n",
      "0:\tlearn: 0.7869937\ttest: 0.8133130\tbest: 0.8133130 (0)\ttotal: 549us\tremaining: 549ms\n",
      "999:\tlearn: 0.0104101\ttest: 0.0818124\tbest: 0.0818089 (997)\ttotal: 673ms\tremaining: 0us\n",
      "\n",
      "bestTest = 0.08180887927\n",
      "bestIteration = 997\n",
      "\n",
      "0:\tlearn: 0.7862731\ttest: 0.8126389\tbest: 0.8126389 (0)\ttotal: 520us\tremaining: 520ms\n",
      "999:\tlearn: 0.0097848\ttest: 0.0823885\tbest: 0.0823885 (999)\ttotal: 689ms\tremaining: 0us\n",
      "\n",
      "bestTest = 0.08238854235\n",
      "bestIteration = 999\n",
      "\n",
      "0:\tlearn: 0.7883816\ttest: 0.8156402\tbest: 0.8156402 (0)\ttotal: 825us\tremaining: 825ms\n",
      "999:\tlearn: 0.0065270\ttest: 0.1045978\tbest: 0.1045978 (999)\ttotal: 762ms\tremaining: 0us\n",
      "\n",
      "bestTest = 0.1045977666\n",
      "bestIteration = 999\n",
      "\n",
      "0:\tlearn: 0.7877002\ttest: 0.8150634\tbest: 0.8150634 (0)\ttotal: 735us\tremaining: 735ms\n",
      "999:\tlearn: 0.0059855\ttest: 0.1053623\tbest: 0.1053609 (980)\ttotal: 840ms\tremaining: 0us\n",
      "\n",
      "bestTest = 0.1053608578\n",
      "bestIteration = 980\n",
      "\n",
      "0:\tlearn: 0.7870188\ttest: 0.8144866\tbest: 0.8144866 (0)\ttotal: 694us\tremaining: 694ms\n",
      "999:\tlearn: 0.0055659\ttest: 0.1047019\tbest: 0.1046765 (993)\ttotal: 760ms\tremaining: 0us\n",
      "\n",
      "bestTest = 0.1046765416\n",
      "bestIteration = 993\n",
      "\n",
      "0:\tlearn: 0.7879235\ttest: 0.8142243\tbest: 0.8142243 (0)\ttotal: 774us\tremaining: 774ms\n",
      "999:\tlearn: 0.0114735\ttest: 0.0830648\tbest: 0.0830648 (999)\ttotal: 577ms\tremaining: 0us\n",
      "\n",
      "bestTest = 0.08306483411\n",
      "bestIteration = 999\n",
      "\n",
      "0:\tlearn: 0.7872151\ttest: 0.8135642\tbest: 0.8135642 (0)\ttotal: 511us\tremaining: 511ms\n",
      "999:\tlearn: 0.0108332\ttest: 0.0852251\tbest: 0.0852183 (996)\ttotal: 611ms\tremaining: 0us\n",
      "\n",
      "bestTest = 0.08521827864\n",
      "bestIteration = 996\n",
      "\n",
      "0:\tlearn: 0.7865067\ttest: 0.8129041\tbest: 0.8129041 (0)\ttotal: 660us\tremaining: 660ms\n",
      "999:\tlearn: 0.0101223\ttest: 0.0838876\tbest: 0.0838876 (999)\ttotal: 697ms\tremaining: 0us\n",
      "\n",
      "bestTest = 0.08388756693\n",
      "bestIteration = 999\n",
      "\n",
      "0:\tlearn: 0.7886655\ttest: 0.8160349\tbest: 0.8160349 (0)\ttotal: 2.08ms\tremaining: 2.08s\n",
      "999:\tlearn: 0.0070672\ttest: 0.1091465\tbest: 0.1091465 (999)\ttotal: 787ms\tremaining: 0us\n",
      "\n",
      "bestTest = 0.1091465267\n",
      "bestIteration = 999\n",
      "\n",
      "0:\tlearn: 0.7880008\ttest: 0.8154813\tbest: 0.8154813 (0)\ttotal: 726us\tremaining: 725ms\n",
      "999:\tlearn: 0.0064574\ttest: 0.1078671\tbest: 0.1078635 (977)\ttotal: 803ms\tremaining: 0us\n",
      "\n",
      "bestTest = 0.1078634519\n",
      "bestIteration = 977\n",
      "\n",
      "0:\tlearn: 0.7873361\ttest: 0.8149278\tbest: 0.8149278 (0)\ttotal: 987us\tremaining: 986ms\n",
      "999:\tlearn: 0.0059624\ttest: 0.1079924\tbest: 0.1079825 (981)\ttotal: 773ms\tremaining: 0us\n",
      "\n",
      "bestTest = 0.1079825169\n",
      "bestIteration = 981\n",
      "\n",
      "0:\tlearn: 0.7881218\ttest: 0.8144443\tbest: 0.8144443 (0)\ttotal: 576us\tremaining: 576ms\n",
      "999:\tlearn: 0.0123603\ttest: 0.0854936\tbest: 0.0854925 (998)\ttotal: 674ms\tremaining: 0us\n",
      "\n",
      "bestTest = 0.08549253338\n",
      "bestIteration = 998\n",
      "\n",
      "0:\tlearn: 0.7874251\ttest: 0.8137971\tbest: 0.8137971 (0)\ttotal: 512us\tremaining: 512ms\n",
      "999:\tlearn: 0.0114549\ttest: 0.0848458\tbest: 0.0848458 (999)\ttotal: 554ms\tremaining: 0us\n",
      "\n",
      "bestTest = 0.08484579888\n",
      "bestIteration = 999\n",
      "\n",
      "0:\tlearn: 0.7867284\ttest: 0.8131500\tbest: 0.8131500 (0)\ttotal: 652us\tremaining: 652ms\n",
      "999:\tlearn: 0.0109100\ttest: 0.0849666\tbest: 0.0849666 (999)\ttotal: 623ms\tremaining: 0us\n",
      "\n",
      "bestTest = 0.08496660505\n",
      "bestIteration = 999\n",
      "\n",
      "0:\tlearn: 0.7889283\ttest: 0.8163857\tbest: 0.8163857 (0)\ttotal: 713us\tremaining: 713ms\n",
      "999:\tlearn: 0.0078255\ttest: 0.1118259\tbest: 0.1118159 (980)\ttotal: 907ms\tremaining: 0us\n",
      "\n",
      "bestTest = 0.1118158778\n",
      "bestIteration = 980\n",
      "\n",
      "0:\tlearn: 0.7882791\ttest: 0.8158528\tbest: 0.8158528 (0)\ttotal: 3.14ms\tremaining: 3.13s\n",
      "999:\tlearn: 0.0069918\ttest: 0.1084747\tbest: 0.1084555 (977)\ttotal: 763ms\tremaining: 0us\n",
      "\n",
      "bestTest = 0.1084555303\n",
      "bestIteration = 977\n",
      "\n",
      "0:\tlearn: 0.7876299\ttest: 0.8153199\tbest: 0.8153199 (0)\ttotal: 813us\tremaining: 813ms\n",
      "999:\tlearn: 0.0064908\ttest: 0.1103845\tbest: 0.1103613 (994)\ttotal: 749ms\tremaining: 0us\n",
      "\n",
      "bestTest = 0.1103613279\n",
      "bestIteration = 994\n",
      "\n",
      "Training on fold [0/30]\n",
      "0:\tlearn: 0.7927630\ttest: 0.7857778\tbest: 0.7857778 (0)\ttotal: 704us\tremaining: 704ms\n",
      "\n",
      "bestTest = 0.04051293769\n",
      "bestIteration = 577\n",
      "\n",
      "Training on fold [1/30]\n",
      "0:\tlearn: 0.7949060\ttest: 0.7662852\tbest: 0.7662852 (0)\ttotal: 519us\tremaining: 519ms\n",
      "\n",
      "bestTest = 0.02244785957\n",
      "bestIteration = 811\n",
      "\n",
      "Training on fold [2/30]\n",
      "0:\tlearn: 0.7924442\ttest: 0.7886395\tbest: 0.7886395 (0)\ttotal: 1.28ms\tremaining: 1.28s\n",
      "\n",
      "bestTest = 0.03078410034\n",
      "bestIteration = 689\n",
      "\n",
      "Training on fold [3/30]\n",
      "0:\tlearn: 0.7891259\ttest: 0.8162510\tbest: 0.8162510 (0)\ttotal: 854us\tremaining: 853ms\n",
      "999:\tlearn: 0.0104812\ttest: 0.0452819\tbest: 0.0452819 (999)\ttotal: 603ms\tremaining: 0us\n",
      "\n",
      "bestTest = 0.04528189536\n",
      "bestIteration = 999\n",
      "\n",
      "Training on fold [4/30]\n",
      "0:\tlearn: 0.7900518\ttest: 0.8092494\tbest: 0.8092494 (0)\ttotal: 1.35ms\tremaining: 1.35s\n",
      "\n",
      "bestTest = 0.04198817602\n",
      "bestIteration = 380\n",
      "\n",
      "Training on fold [5/30]\n",
      "0:\tlearn: 0.7892514\ttest: 0.8156798\tbest: 0.8156798 (0)\ttotal: 518us\tremaining: 518ms\n",
      "\n",
      "bestTest = 0.05018111689\n",
      "bestIteration = 391\n",
      "\n",
      "Training on fold [6/30]\n",
      "0:\tlearn: 0.7930549\ttest: 0.7813251\tbest: 0.7813251 (0)\ttotal: 549us\tremaining: 549ms\n",
      "\n",
      "bestTest = 0.03764942635\n",
      "bestIteration = 471\n",
      "\n",
      "Training on fold [7/30]\n",
      "0:\tlearn: 0.7938087\ttest: 0.7754718\tbest: 0.7754718 (0)\ttotal: 564us\tremaining: 564ms\n",
      "999:\tlearn: 0.0106726\ttest: 0.0301399\tbest: 0.0301049 (991)\ttotal: 728ms\tremaining: 0us\n",
      "\n",
      "bestTest = 0.03010488961\n",
      "bestIteration = 991\n",
      "\n",
      "Training on fold [8/30]\n",
      "0:\tlearn: 0.7926323\ttest: 0.7858683\tbest: 0.7858683 (0)\ttotal: 987us\tremaining: 986ms\n",
      "\n",
      "bestTest = 0.02005640991\n",
      "bestIteration = 474\n",
      "\n",
      "Training on fold [9/30]\n",
      "0:\tlearn: 0.7920610\ttest: 0.7935165\tbest: 0.7935165 (0)\ttotal: 1.57ms\tremaining: 1.57s\n",
      "\n",
      "bestTest = 0.05608717078\n",
      "bestIteration = 468\n",
      "\n",
      "Training on fold [10/30]\n",
      "0:\tlearn: 0.7907280\ttest: 0.8030516\tbest: 0.8030516 (0)\ttotal: 499us\tremaining: 499ms\n",
      "\n",
      "bestTest = 0.05207373631\n",
      "bestIteration = 341\n",
      "\n",
      "Training on fold [11/30]\n",
      "0:\tlearn: 0.7923507\ttest: 0.7886074\tbest: 0.7886074 (0)\ttotal: 722us\tremaining: 721ms\n",
      "\n",
      "bestTest = 0.03354687891\n",
      "bestIteration = 422\n",
      "\n",
      "Training on fold [12/30]\n",
      "0:\tlearn: 0.7920734\ttest: 0.7917627\tbest: 0.7917627 (0)\ttotal: 536us\tremaining: 536ms\n",
      "\n",
      "bestTest = 0.04680378988\n",
      "bestIteration = 445\n",
      "\n",
      "Training on fold [13/30]\n",
      "0:\tlearn: 0.7939139\ttest: 0.7754893\tbest: 0.7754893 (0)\ttotal: 651us\tremaining: 651ms\n",
      "\n",
      "bestTest = 0.02816277989\n",
      "bestIteration = 342\n",
      "\n",
      "Training on fold [14/30]\n",
      "0:\tlearn: 0.7918922\ttest: 0.7931605\tbest: 0.7931605 (0)\ttotal: 481us\tremaining: 481ms\n",
      "\n",
      "bestTest = 0.04317240675\n",
      "bestIteration = 863\n",
      "\n",
      "Training on fold [15/30]\n",
      "0:\tlearn: 0.7920257\ttest: 0.7916131\tbest: 0.7916131 (0)\ttotal: 554us\tremaining: 554ms\n",
      "\n",
      "bestTest = 0.03095009252\n",
      "bestIteration = 392\n",
      "\n",
      "Training on fold [16/30]\n",
      "0:\tlearn: 0.7912789\ttest: 0.8000278\tbest: 0.8000278 (0)\ttotal: 501us\tremaining: 501ms\n",
      "\n",
      "bestTest = 0.05400732761\n",
      "bestIteration = 869\n",
      "\n",
      "Training on fold [17/30]\n",
      "0:\tlearn: 0.7916724\ttest: 0.7971074\tbest: 0.7971074 (0)\ttotal: 540us\tremaining: 540ms\n",
      "\n",
      "bestTest = 0.04424554277\n",
      "bestIteration = 572\n",
      "\n",
      "Training on fold [18/30]\n",
      "0:\tlearn: 0.7910122\ttest: 0.8018239\tbest: 0.8018239 (0)\ttotal: 570us\tremaining: 570ms\n",
      "\n",
      "bestTest = 0.04022903013\n",
      "bestIteration = 487\n",
      "\n",
      "Training on fold [19/30]\n",
      "0:\tlearn: 0.7931941\ttest: 0.7801877\tbest: 0.7801877 (0)\ttotal: 523us\tremaining: 523ms\n",
      "\n",
      "bestTest = 0.02102271164\n",
      "bestIteration = 453\n",
      "\n",
      "Training on fold [20/30]\n",
      "0:\tlearn: 0.7915301\ttest: 0.7958645\tbest: 0.7958645 (0)\ttotal: 849us\tremaining: 849ms\n",
      "\n",
      "bestTest = 0.03212643783\n",
      "bestIteration = 383\n",
      "\n",
      "Training on fold [21/30]\n",
      "0:\tlearn: 0.7927560\ttest: 0.7867905\tbest: 0.7867905 (0)\ttotal: 608us\tremaining: 608ms\n",
      "\n",
      "bestTest = 0.04446399084\n",
      "bestIteration = 376\n",
      "\n",
      "Training on fold [22/30]\n",
      "0:\tlearn: 0.7920015\ttest: 0.7920372\tbest: 0.7920372 (0)\ttotal: 682us\tremaining: 681ms\n",
      "\n",
      "bestTest = 0.04508018778\n",
      "bestIteration = 886\n",
      "\n",
      "Training on fold [23/30]\n",
      "0:\tlearn: 0.7922624\ttest: 0.7894428\tbest: 0.7894428 (0)\ttotal: 572us\tremaining: 572ms\n",
      "\n",
      "bestTest = 0.0299116801\n",
      "bestIteration = 523\n",
      "\n",
      "Training on fold [24/30]\n",
      "0:\tlearn: 0.7922497\ttest: 0.7898630\tbest: 0.7898630 (0)\ttotal: 523us\tremaining: 523ms\n",
      "\n",
      "bestTest = 0.03737414586\n",
      "bestIteration = 348\n",
      "\n",
      "Training on fold [25/30]\n",
      "0:\tlearn: 0.7908182\ttest: 0.8026671\tbest: 0.8026671 (0)\ttotal: 864us\tremaining: 864ms\n",
      "\n",
      "bestTest = 0.04562307209\n",
      "bestIteration = 626\n",
      "\n",
      "Training on fold [26/30]\n",
      "0:\tlearn: 0.7909611\ttest: 0.8019311\tbest: 0.8019311 (0)\ttotal: 536us\tremaining: 536ms\n",
      "\n",
      "bestTest = 0.03028328516\n",
      "bestIteration = 928\n",
      "\n",
      "Training on fold [27/30]\n",
      "0:\tlearn: 0.7913536\ttest: 0.8004108\tbest: 0.8004108 (0)\ttotal: 605us\tremaining: 605ms\n",
      "\n",
      "bestTest = 0.0632943337\n",
      "bestIteration = 534\n",
      "\n",
      "Training on fold [28/30]\n",
      "0:\tlearn: 0.7934005\ttest: 0.7792961\tbest: 0.7792961 (0)\ttotal: 615us\tremaining: 614ms\n",
      "\n",
      "bestTest = 0.03925390227\n",
      "bestIteration = 243\n",
      "\n",
      "Training on fold [29/30]\n",
      "0:\tlearn: 0.7927759\ttest: 0.7841660\tbest: 0.7841660 (0)\ttotal: 748us\tremaining: 748ms\n",
      "\n",
      "bestTest = 0.03102029366\n",
      "bestIteration = 408\n",
      "\n"
     ]
    }
   ],
   "source": [
    "model = CatBoostRegressor(verbose=1000)\n",
    "grid = {\n",
    "    'learning_rate': [0.017, 0.018, 0.019],\n",
    "    'depth': [4 , 5],\n",
    "    'l2_leaf_reg': [1, 1.2, 1.4],\n",
    "    'random_strength': [9,2, 9.4, 9.6],\n",
    "    'bagging_temperature': [4.088561104847901],\n",
    "    'od_wait': [44],\n",
    "    'od_type': ['Iter'],\n",
    "    'bootstrap_type': ['Bayesian'],\n",
    "\n",
    "}\n",
    "grid_search_result = model.grid_search(grid, X=dfX[cols], y=y, plot=True, cv=kf, verbose=False)"
   ]
  },
  {
   "cell_type": "code",
   "execution_count": 47,
   "metadata": {},
   "outputs": [
    {
     "data": {
      "text/plain": [
       "{'depth': 4,\n",
       " 'random_strength': 2,\n",
       " 'od_wait': 44,\n",
       " 'l2_leaf_reg': 1,\n",
       " 'bagging_temperature': 4.088561104847901,\n",
       " 'learning_rate': 0.018,\n",
       " 'od_type': 'Iter',\n",
       " 'bootstrap_type': 'Bayesian'}"
      ]
     },
     "execution_count": 47,
     "metadata": {},
     "output_type": "execute_result"
    }
   ],
   "source": [
    "grid_search_result['params']"
   ]
  },
  {
   "cell_type": "code",
   "execution_count": null,
   "metadata": {},
   "outputs": [],
   "source": [
    "{'iterations': 836,\n",
    " 'learning_rate': 0.018369975117039684,\n",
    " 'depth': 5,\n",
    " 'l2_leaf_reg': 1.1994924961669811e-06,\n",
    " 'bootstrap_type': 'Bayesian',\n",
    " 'random_strength': 9.311341227775438,\n",
    " 'bagging_temperature': 4.088561104847901,\n",
    " 'od_type': 'Iter',\n",
    " 'od_wait': 44}\n"
   ]
  },
  {
   "cell_type": "code",
   "execution_count": 50,
   "metadata": {},
   "outputs": [
    {
     "name": "stderr",
     "output_type": "stream",
     "text": [
      "[I 2023-06-22 17:46:42,406] A new study created in memory with name: no-name-1520e0f2-acbb-4aca-bd9d-6f27a953792b\n",
      "[I 2023-06-22 17:47:14,076] Trial 0 finished with value: 0.0347181719704004 and parameters: {'learning_rate': 0.015811390404929584, 'depth': 6, 'l2_leaf_reg': 1.0006061777325413e-08, 'bootstrap_type': 'Bayesian', 'random_strength': 8.558330239225555, 'bagging_temperature': 3.2935117816342263, 'od_type': 'Iter', 'od_wait': 41}. Best is trial 0 with value: 0.0347181719704004.\n"
     ]
    },
    {
     "name": "stdout",
     "output_type": "stream",
     "text": [
      "('Catboost', 0.0347181719704004, 0.028117088151993257, 0.4877369058741262)\n"
     ]
    },
    {
     "name": "stderr",
     "output_type": "stream",
     "text": [
      "[I 2023-06-22 17:47:39,245] Trial 1 finished with value: 0.03411433046248605 and parameters: {'learning_rate': 0.012270682125200601, 'depth': 5, 'l2_leaf_reg': 8.184155256441033e-08, 'bootstrap_type': 'Bayesian', 'random_strength': 9.022081038012919, 'bagging_temperature': 3.8383890288065894, 'od_type': 'Iter', 'od_wait': 47}. Best is trial 1 with value: 0.03411433046248605.\n"
     ]
    },
    {
     "name": "stdout",
     "output_type": "stream",
     "text": [
      "('Catboost', 0.03411433046248605, 0.027595848216313324, 0.5054011838367249)\n"
     ]
    },
    {
     "name": "stderr",
     "output_type": "stream",
     "text": [
      "[I 2023-06-22 17:48:11,291] Trial 2 finished with value: 0.03474061829250535 and parameters: {'learning_rate': 0.012518391049556016, 'depth': 6, 'l2_leaf_reg': 1.1561646150431216e-08, 'bootstrap_type': 'Bayesian', 'random_strength': 9.291054383008401, 'bagging_temperature': 3.834609604734254, 'od_type': 'Iter', 'od_wait': 46}. Best is trial 1 with value: 0.03411433046248605.\n"
     ]
    },
    {
     "name": "stdout",
     "output_type": "stream",
     "text": [
      "('Catboost', 0.03474061829250535, 0.028136166596098716, 0.4870743053514007)\n"
     ]
    },
    {
     "name": "stderr",
     "output_type": "stream",
     "text": [
      "[I 2023-06-22 17:48:31,598] Trial 3 finished with value: 0.03413044088278424 and parameters: {'learning_rate': 0.011667601625084336, 'depth': 4, 'l2_leaf_reg': 6.958846733372227e-07, 'bootstrap_type': 'Bayesian', 'random_strength': 9.9294279514606, 'bagging_temperature': 3.6268483563184857, 'od_type': 'Iter', 'od_wait': 47}. Best is trial 1 with value: 0.03411433046248605.\n"
     ]
    },
    {
     "name": "stdout",
     "output_type": "stream",
     "text": [
      "('Catboost', 0.03413044088278424, 0.02804225174524673, 0.5049339270457585)\n"
     ]
    },
    {
     "name": "stderr",
     "output_type": "stream",
     "text": [
      "[I 2023-06-22 17:49:05,061] Trial 4 finished with value: 0.03526329328145819 and parameters: {'learning_rate': 0.026190506174890684, 'depth': 6, 'l2_leaf_reg': 1.5692396803467862e-08, 'bootstrap_type': 'Bayesian', 'random_strength': 8.070023261198195, 'bagging_temperature': 3.339660839129138, 'od_type': 'Iter', 'od_wait': 49}. Best is trial 1 with value: 0.03411433046248605.\n"
     ]
    },
    {
     "name": "stdout",
     "output_type": "stream",
     "text": [
      "('Catboost', 0.03526329328145819, 0.02847717086870703, 0.47152419789161504)\n"
     ]
    },
    {
     "name": "stderr",
     "output_type": "stream",
     "text": [
      "[I 2023-06-22 17:49:30,346] Trial 5 finished with value: 0.03420379379025911 and parameters: {'learning_rate': 0.011140979234503929, 'depth': 5, 'l2_leaf_reg': 1.6000462688243749e-06, 'bootstrap_type': 'Bayesian', 'random_strength': 9.010710603345714, 'bagging_temperature': 4.383754227900947, 'od_type': 'Iter', 'od_wait': 43}. Best is trial 1 with value: 0.03411433046248605.\n"
     ]
    },
    {
     "name": "stdout",
     "output_type": "stream",
     "text": [
      "('Catboost', 0.03420379379025911, 0.027780160588212473, 0.5028036551607369)\n"
     ]
    },
    {
     "name": "stderr",
     "output_type": "stream",
     "text": [
      "[I 2023-06-22 17:50:03,006] Trial 6 finished with value: 0.034966742405087334 and parameters: {'learning_rate': 0.021259066183795413, 'depth': 6, 'l2_leaf_reg': 1.1017469952200706e-08, 'bootstrap_type': 'Bayesian', 'random_strength': 9.457720651626744, 'bagging_temperature': 4.977722177812989, 'od_type': 'Iter', 'od_wait': 48}. Best is trial 1 with value: 0.03411433046248605.\n"
     ]
    },
    {
     "name": "stdout",
     "output_type": "stream",
     "text": [
      "('Catboost', 0.034966742405087334, 0.02817838799589199, 0.48037538393317536)\n"
     ]
    },
    {
     "name": "stderr",
     "output_type": "stream",
     "text": [
      "[I 2023-06-22 17:50:37,655] Trial 7 finished with value: 0.03495456703756822 and parameters: {'learning_rate': 0.013608359988964373, 'depth': 6, 'l2_leaf_reg': 1.7279299706729465e-08, 'bootstrap_type': 'Bayesian', 'random_strength': 8.840877122426921, 'bagging_temperature': 4.817191006186191, 'od_type': 'Iter', 'od_wait': 43}. Best is trial 1 with value: 0.03411433046248605.\n"
     ]
    },
    {
     "name": "stdout",
     "output_type": "stream",
     "text": [
      "('Catboost', 0.03495456703756822, 0.028285353529276386, 0.48073718596433823)\n"
     ]
    },
    {
     "name": "stderr",
     "output_type": "stream",
     "text": [
      "[I 2023-06-22 17:50:58,227] Trial 8 finished with value: 0.034245634402202435 and parameters: {'learning_rate': 0.013718408490582593, 'depth': 4, 'l2_leaf_reg': 1.1080617183119714e-08, 'bootstrap_type': 'Bayesian', 'random_strength': 9.308419500705398, 'bagging_temperature': 3.423256232000118, 'od_type': 'Iter', 'od_wait': 42}. Best is trial 1 with value: 0.03411433046248605.\n"
     ]
    },
    {
     "name": "stdout",
     "output_type": "stream",
     "text": [
      "('Catboost', 0.034245634402202435, 0.02810942817053895, 0.5015864964247272)\n"
     ]
    },
    {
     "name": "stderr",
     "output_type": "stream",
     "text": [
      "[I 2023-06-22 17:51:19,316] Trial 9 finished with value: 0.03421603738653618 and parameters: {'learning_rate': 0.017160897705963518, 'depth': 4, 'l2_leaf_reg': 2.0944106195810963e-07, 'bootstrap_type': 'Bayesian', 'random_strength': 8.266267499313136, 'bagging_temperature': 4.178611073806568, 'od_type': 'Iter', 'od_wait': 47}. Best is trial 1 with value: 0.03411433046248605.\n"
     ]
    },
    {
     "name": "stdout",
     "output_type": "stream",
     "text": [
      "('Catboost', 0.03421603738653618, 0.027930625772311618, 0.5024476384632819)\n"
     ]
    },
    {
     "name": "stderr",
     "output_type": "stream",
     "text": [
      "[I 2023-06-22 17:51:46,232] Trial 10 finished with value: 0.034188591826794845 and parameters: {'learning_rate': 0.01013779013319371, 'depth': 5, 'l2_leaf_reg': 7.986542541067036e-08, 'bootstrap_type': 'Bayesian', 'random_strength': 8.635191187712657, 'bagging_temperature': 3.032539611481358, 'od_type': 'Iter', 'od_wait': 50}. Best is trial 1 with value: 0.03411433046248605.\n"
     ]
    },
    {
     "name": "stdout",
     "output_type": "stream",
     "text": [
      "('Catboost', 0.034188591826794845, 0.027975931213297774, 0.5032455173149065)\n"
     ]
    },
    {
     "name": "stderr",
     "output_type": "stream",
     "text": [
      "[I 2023-06-22 17:52:07,386] Trial 11 finished with value: 0.03408785063000489 and parameters: {'learning_rate': 0.010268795919455263, 'depth': 4, 'l2_leaf_reg': 5.237794436105545e-07, 'bootstrap_type': 'Bayesian', 'random_strength': 9.97812966017963, 'bagging_temperature': 3.7718074150400405, 'od_type': 'Iter', 'od_wait': 45}. Best is trial 11 with value: 0.03408785063000489.\n"
     ]
    },
    {
     "name": "stdout",
     "output_type": "stream",
     "text": [
      "('Catboost', 0.03408785063000489, 0.027895051799375375, 0.5061687094284575)\n"
     ]
    },
    {
     "name": "stderr",
     "output_type": "stream",
     "text": [
      "[I 2023-06-22 17:52:36,105] Trial 12 finished with value: 0.03422106216893024 and parameters: {'learning_rate': 0.01090241108353131, 'depth': 5, 'l2_leaf_reg': 2.1973834625190235e-07, 'bootstrap_type': 'Bayesian', 'random_strength': 9.95637815930082, 'bagging_temperature': 3.9071404510175287, 'od_type': 'Iter', 'od_wait': 45}. Best is trial 11 with value: 0.03408785063000489.\n"
     ]
    },
    {
     "name": "stdout",
     "output_type": "stream",
     "text": [
      "('Catboost', 0.03422106216893024, 0.027744893918448373, 0.5023014920294824)\n"
     ]
    },
    {
     "name": "stderr",
     "output_type": "stream",
     "text": [
      "[I 2023-06-22 17:52:56,629] Trial 13 finished with value: 0.03412925321665577 and parameters: {'learning_rate': 0.010116278422686711, 'depth': 4, 'l2_leaf_reg': 8.065600752024661e-08, 'bootstrap_type': 'Bayesian', 'random_strength': 9.662199050139034, 'bagging_temperature': 3.7026585167217583, 'od_type': 'Iter', 'od_wait': 44}. Best is trial 11 with value: 0.03408785063000489.\n"
     ]
    },
    {
     "name": "stdout",
     "output_type": "stream",
     "text": [
      "('Catboost', 0.03412925321665577, 0.027983645951253452, 0.5049683809210025)\n"
     ]
    },
    {
     "name": "stderr",
     "output_type": "stream",
     "text": [
      "[I 2023-06-22 17:53:22,599] Trial 14 finished with value: 0.03420835118135508 and parameters: {'learning_rate': 0.014472369745312413, 'depth': 5, 'l2_leaf_reg': 4.6146124868835777e-07, 'bootstrap_type': 'Bayesian', 'random_strength': 9.062920726531157, 'bagging_temperature': 4.090568841856144, 'od_type': 'Iter', 'od_wait': 45}. Best is trial 11 with value: 0.03408785063000489.\n"
     ]
    },
    {
     "name": "stdout",
     "output_type": "stream",
     "text": [
      "('Catboost', 0.03420835118135508, 0.02776746186617657, 0.5026711511954252)\n"
     ]
    },
    {
     "name": "stderr",
     "output_type": "stream",
     "text": [
      "[I 2023-06-22 17:53:43,391] Trial 15 finished with value: 0.03414598365921977 and parameters: {'learning_rate': 0.012365540910863995, 'depth': 4, 'l2_leaf_reg': 4.404968753044876e-08, 'bootstrap_type': 'Bayesian', 'random_strength': 9.646074536070849, 'bagging_temperature': 3.6044105683854837, 'od_type': 'Iter', 'od_wait': 40}. Best is trial 11 with value: 0.03408785063000489.\n"
     ]
    },
    {
     "name": "stdout",
     "output_type": "stream",
     "text": [
      "('Catboost', 0.03414598365921977, 0.02806136359699623, 0.5044829247644141)\n"
     ]
    },
    {
     "name": "stderr",
     "output_type": "stream",
     "text": [
      "[I 2023-06-22 17:54:09,118] Trial 16 finished with value: 0.03419377596873083 and parameters: {'learning_rate': 0.012191264114229257, 'depth': 5, 'l2_leaf_reg': 3.9956878582240166e-07, 'bootstrap_type': 'Bayesian', 'random_strength': 9.996152061483542, 'bagging_temperature': 4.2822663036095, 'od_type': 'Iter', 'od_wait': 46}. Best is trial 11 with value: 0.03408785063000489.\n"
     ]
    },
    {
     "name": "stdout",
     "output_type": "stream",
     "text": [
      "('Catboost', 0.03419377596873083, 0.027693347757194047, 0.5030948564742603)\n"
     ]
    },
    {
     "name": "stderr",
     "output_type": "stream",
     "text": [
      "[I 2023-06-22 17:54:29,294] Trial 17 finished with value: 0.03394110480238249 and parameters: {'learning_rate': 0.010148762724569832, 'depth': 4, 'l2_leaf_reg': 1.3997501183956801e-07, 'bootstrap_type': 'Bayesian', 'random_strength': 9.195758810424095, 'bagging_temperature': 3.894574859363259, 'od_type': 'Iter', 'od_wait': 48}. Best is trial 17 with value: 0.03394110480238249.\n"
     ]
    },
    {
     "name": "stdout",
     "output_type": "stream",
     "text": [
      "('Catboost', 0.03394110480238249, 0.027808720349181058, 0.510411376298824)\n"
     ]
    },
    {
     "name": "stderr",
     "output_type": "stream",
     "text": [
      "[I 2023-06-22 17:54:50,445] Trial 18 finished with value: 0.03391621743763539 and parameters: {'learning_rate': 0.010055565569171513, 'depth': 4, 'l2_leaf_reg': 9.05387537772107e-07, 'bootstrap_type': 'Bayesian', 'random_strength': 9.624745113704193, 'bagging_temperature': 4.0408910776767195, 'od_type': 'Iter', 'od_wait': 50}. Best is trial 18 with value: 0.03391621743763539.\n"
     ]
    },
    {
     "name": "stdout",
     "output_type": "stream",
     "text": [
      "('Catboost', 0.03391621743763539, 0.027800376526824943, 0.511129096216774)\n"
     ]
    },
    {
     "name": "stderr",
     "output_type": "stream",
     "text": [
      "[I 2023-06-22 17:55:11,840] Trial 19 finished with value: 0.03431404308759043 and parameters: {'learning_rate': 0.015320993175415047, 'depth': 4, 'l2_leaf_reg': 1.9536113104252325e-06, 'bootstrap_type': 'Bayesian', 'random_strength': 9.21060946152013, 'bagging_temperature': 4.024225473030197, 'od_type': 'Iter', 'od_wait': 50}. Best is trial 18 with value: 0.03391621743763539.\n"
     ]
    },
    {
     "name": "stdout",
     "output_type": "stream",
     "text": [
      "('Catboost', 0.03431404308759043, 0.028142560935429186, 0.4995932574115517)\n",
      "Number of finished trials: 20\n",
      "Best trial:\n",
      "  Value: 0.03391621743763539\n",
      "  Params: \n",
      "    learning_rate: 0.010055565569171513\n",
      "    depth: 4\n",
      "    l2_leaf_reg: 9.05387537772107e-07\n",
      "    bootstrap_type: Bayesian\n",
      "    random_strength: 9.624745113704193\n",
      "    bagging_temperature: 4.0408910776767195\n",
      "    od_type: Iter\n",
      "    od_wait: 50\n"
     ]
    }
   ],
   "source": [
    "from catboost import CatBoostRegressor\n",
    "from catboost import Pool\n",
    "import optuna\n",
    "from sklearn.metrics import mean_squared_error\n",
    "import Utils as utils\n",
    "import math\n",
    "\n",
    "def objective(trial):\n",
    "    model = CatBoostRegressor(\n",
    "        learning_rate=trial.suggest_float(\"learning_rate\", 1e-2, 3e-2, log=True),\n",
    "        depth=trial.suggest_int(\"depth\", 4, 6),\n",
    "        l2_leaf_reg=trial.suggest_float(\"l2_leaf_reg\", 1e-8, 2e-06, log=True),\n",
    "        bootstrap_type=trial.suggest_categorical(\"bootstrap_type\", [\"Bayesian\"]),\n",
    "        random_strength=trial.suggest_float(\"random_strength\", 8, 10.0, log=True),\n",
    "        bagging_temperature=trial.suggest_float(\"bagging_temperature\", 3, 5.0),\n",
    "        od_type=trial.suggest_categorical(\"od_type\", [\"Iter\"]),\n",
    "        od_wait=trial.suggest_int(\"od_wait\", 40, 50),\n",
    "        verbose=False\n",
    "    )\n",
    "    preds = []\n",
    "    vals = []\n",
    "    for train_index, test_index in kf.split(dfX):\n",
    "        train_x, train_y = dfX.iloc[train_index], y.iloc[train_index]\n",
    "        test_x, test_y = dfX.iloc[test_index], y.iloc[test_index]\n",
    "\n",
    "        train_pool = Pool(data=train_x, label=train_y)\n",
    "        test_pool = Pool(data=test_x, label=test_y)\n",
    "\n",
    "        model.fit(train_pool, verbose=False)\n",
    "        pred = model.predict(test_pool)\n",
    "        preds.append(pred)\n",
    "        vals.append(test_y) \n",
    "\n",
    "    results = utils.error_rate(\"Catboost\",flatten(preds),flatten(vals))\n",
    "    print(results)\n",
    "    rmse = math.sqrt(mean_squared_error(flatten(vals),flatten(preds)))\n",
    "    return rmse\n",
    "\n",
    "\n",
    "sampler = optuna.samplers.TPESampler(seed=1)\n",
    "study = optuna.create_study(direction=\"minimize\",sampler = sampler)\n",
    "\n",
    "study.optimize(objective, n_trials=20)\n",
    "\n",
    "print(\"Number of finished trials: {}\".format(len(study.trials)))\n",
    "print(\"Best trial:\")\n",
    "trial = study.best_trial\n",
    "\n",
    "print(\"  Value: {}\".format(trial.value))\n",
    "\n",
    "print(\"  Params: \")\n",
    "for key, value in trial.params.items():\n",
    "    print(\"    {}: {}\".format(key, value))\n"
   ]
  },
  {
   "cell_type": "code",
   "execution_count": 51,
   "metadata": {},
   "outputs": [],
   "source": [
    "trialsdf2  = study.trials_dataframe(multi_index=True)\n",
    "trialsdf2['number'] = trialsdf2['number'] + 1\n",
    "trialsdf2.to_excel('optuna2.xlsx')"
   ]
  },
  {
   "cell_type": "code",
   "execution_count": 54,
   "metadata": {},
   "outputs": [
    {
     "name": "stdout",
     "output_type": "stream",
     "text": [
      "{'nan_mode': 'Min', 'eval_metric': 'RMSE', 'iterations': 1000, 'sampling_frequency': 'PerTree', 'leaf_estimation_method': 'Newton', 'od_pval': 0, 'grow_policy': 'SymmetricTree', 'penalties_coefficient': 1, 'boosting_type': 'Plain', 'model_shrink_mode': 'Constant', 'feature_border_type': 'GreedyLogSum', 'bayesian_matrix_reg': 0.10000000149011612, 'eval_fraction': 0, 'force_unit_auto_pair_weights': False, 'l2_leaf_reg': 9.053875373865594e-07, 'random_strength': 9.62474536895752, 'od_type': 'Iter', 'rsm': 1, 'boost_from_average': True, 'model_size_reg': 0.5, 'pool_metainfo_options': {'tags': {}}, 'use_best_model': False, 'od_wait': 50, 'random_seed': 0, 'depth': 4, 'posterior_sampling': False, 'border_count': 254, 'bagging_temperature': 4.040891170501709, 'classes_count': 0, 'auto_class_weights': 'None', 'sparse_features_conflict_fraction': 0, 'leaf_estimation_backtracking': 'AnyImprovement', 'best_model_min_trees': 1, 'model_shrink_rate': 0, 'min_data_in_leaf': 1, 'loss_function': 'RMSE', 'learning_rate': 0.010055565275251864, 'score_function': 'Cosine', 'task_type': 'CPU', 'leaf_estimation_iterations': 1, 'bootstrap_type': 'Bayesian', 'max_leaves': 16}\n",
      "{'nan_mode': 'Min', 'eval_metric': 'RMSE', 'iterations': 1000, 'sampling_frequency': 'PerTree', 'leaf_estimation_method': 'Newton', 'od_pval': 0, 'grow_policy': 'SymmetricTree', 'penalties_coefficient': 1, 'boosting_type': 'Plain', 'model_shrink_mode': 'Constant', 'feature_border_type': 'GreedyLogSum', 'bayesian_matrix_reg': 0.10000000149011612, 'eval_fraction': 0, 'force_unit_auto_pair_weights': False, 'l2_leaf_reg': 9.053875373865594e-07, 'random_strength': 9.62474536895752, 'od_type': 'Iter', 'rsm': 1, 'boost_from_average': True, 'model_size_reg': 0.5, 'pool_metainfo_options': {'tags': {}}, 'use_best_model': False, 'od_wait': 50, 'random_seed': 0, 'depth': 4, 'posterior_sampling': False, 'border_count': 254, 'bagging_temperature': 4.040891170501709, 'classes_count': 0, 'auto_class_weights': 'None', 'sparse_features_conflict_fraction': 0, 'leaf_estimation_backtracking': 'AnyImprovement', 'best_model_min_trees': 1, 'model_shrink_rate': 0, 'min_data_in_leaf': 1, 'loss_function': 'RMSE', 'learning_rate': 0.010055565275251864, 'score_function': 'Cosine', 'task_type': 'CPU', 'leaf_estimation_iterations': 1, 'bootstrap_type': 'Bayesian', 'max_leaves': 16}\n",
      "{'nan_mode': 'Min', 'eval_metric': 'RMSE', 'iterations': 1000, 'sampling_frequency': 'PerTree', 'leaf_estimation_method': 'Newton', 'od_pval': 0, 'grow_policy': 'SymmetricTree', 'penalties_coefficient': 1, 'boosting_type': 'Plain', 'model_shrink_mode': 'Constant', 'feature_border_type': 'GreedyLogSum', 'bayesian_matrix_reg': 0.10000000149011612, 'eval_fraction': 0, 'force_unit_auto_pair_weights': False, 'l2_leaf_reg': 9.053875373865594e-07, 'random_strength': 9.62474536895752, 'od_type': 'Iter', 'rsm': 1, 'boost_from_average': True, 'model_size_reg': 0.5, 'pool_metainfo_options': {'tags': {}}, 'use_best_model': False, 'od_wait': 50, 'random_seed': 0, 'depth': 4, 'posterior_sampling': False, 'border_count': 254, 'bagging_temperature': 4.040891170501709, 'classes_count': 0, 'auto_class_weights': 'None', 'sparse_features_conflict_fraction': 0, 'leaf_estimation_backtracking': 'AnyImprovement', 'best_model_min_trees': 1, 'model_shrink_rate': 0, 'min_data_in_leaf': 1, 'loss_function': 'RMSE', 'learning_rate': 0.010055565275251864, 'score_function': 'Cosine', 'task_type': 'CPU', 'leaf_estimation_iterations': 1, 'bootstrap_type': 'Bayesian', 'max_leaves': 16}\n",
      "{'nan_mode': 'Min', 'eval_metric': 'RMSE', 'iterations': 1000, 'sampling_frequency': 'PerTree', 'leaf_estimation_method': 'Newton', 'od_pval': 0, 'grow_policy': 'SymmetricTree', 'penalties_coefficient': 1, 'boosting_type': 'Plain', 'model_shrink_mode': 'Constant', 'feature_border_type': 'GreedyLogSum', 'bayesian_matrix_reg': 0.10000000149011612, 'eval_fraction': 0, 'force_unit_auto_pair_weights': False, 'l2_leaf_reg': 9.053875373865594e-07, 'random_strength': 9.62474536895752, 'od_type': 'Iter', 'rsm': 1, 'boost_from_average': True, 'model_size_reg': 0.5, 'pool_metainfo_options': {'tags': {}}, 'use_best_model': False, 'od_wait': 50, 'random_seed': 0, 'depth': 4, 'posterior_sampling': False, 'border_count': 254, 'bagging_temperature': 4.040891170501709, 'classes_count': 0, 'auto_class_weights': 'None', 'sparse_features_conflict_fraction': 0, 'leaf_estimation_backtracking': 'AnyImprovement', 'best_model_min_trees': 1, 'model_shrink_rate': 0, 'min_data_in_leaf': 1, 'loss_function': 'RMSE', 'learning_rate': 0.010055565275251864, 'score_function': 'Cosine', 'task_type': 'CPU', 'leaf_estimation_iterations': 1, 'bootstrap_type': 'Bayesian', 'max_leaves': 16}\n",
      "{'nan_mode': 'Min', 'eval_metric': 'RMSE', 'iterations': 1000, 'sampling_frequency': 'PerTree', 'leaf_estimation_method': 'Newton', 'od_pval': 0, 'grow_policy': 'SymmetricTree', 'penalties_coefficient': 1, 'boosting_type': 'Plain', 'model_shrink_mode': 'Constant', 'feature_border_type': 'GreedyLogSum', 'bayesian_matrix_reg': 0.10000000149011612, 'eval_fraction': 0, 'force_unit_auto_pair_weights': False, 'l2_leaf_reg': 9.053875373865594e-07, 'random_strength': 9.62474536895752, 'od_type': 'Iter', 'rsm': 1, 'boost_from_average': True, 'model_size_reg': 0.5, 'pool_metainfo_options': {'tags': {}}, 'use_best_model': False, 'od_wait': 50, 'random_seed': 0, 'depth': 4, 'posterior_sampling': False, 'border_count': 254, 'bagging_temperature': 4.040891170501709, 'classes_count': 0, 'auto_class_weights': 'None', 'sparse_features_conflict_fraction': 0, 'leaf_estimation_backtracking': 'AnyImprovement', 'best_model_min_trees': 1, 'model_shrink_rate': 0, 'min_data_in_leaf': 1, 'loss_function': 'RMSE', 'learning_rate': 0.010055565275251864, 'score_function': 'Cosine', 'task_type': 'CPU', 'leaf_estimation_iterations': 1, 'bootstrap_type': 'Bayesian', 'max_leaves': 16}\n",
      "{'nan_mode': 'Min', 'eval_metric': 'RMSE', 'iterations': 1000, 'sampling_frequency': 'PerTree', 'leaf_estimation_method': 'Newton', 'od_pval': 0, 'grow_policy': 'SymmetricTree', 'penalties_coefficient': 1, 'boosting_type': 'Plain', 'model_shrink_mode': 'Constant', 'feature_border_type': 'GreedyLogSum', 'bayesian_matrix_reg': 0.10000000149011612, 'eval_fraction': 0, 'force_unit_auto_pair_weights': False, 'l2_leaf_reg': 9.053875373865594e-07, 'random_strength': 9.62474536895752, 'od_type': 'Iter', 'rsm': 1, 'boost_from_average': True, 'model_size_reg': 0.5, 'pool_metainfo_options': {'tags': {}}, 'use_best_model': False, 'od_wait': 50, 'random_seed': 0, 'depth': 4, 'posterior_sampling': False, 'border_count': 254, 'bagging_temperature': 4.040891170501709, 'classes_count': 0, 'auto_class_weights': 'None', 'sparse_features_conflict_fraction': 0, 'leaf_estimation_backtracking': 'AnyImprovement', 'best_model_min_trees': 1, 'model_shrink_rate': 0, 'min_data_in_leaf': 1, 'loss_function': 'RMSE', 'learning_rate': 0.010055565275251864, 'score_function': 'Cosine', 'task_type': 'CPU', 'leaf_estimation_iterations': 1, 'bootstrap_type': 'Bayesian', 'max_leaves': 16}\n",
      "{'nan_mode': 'Min', 'eval_metric': 'RMSE', 'iterations': 1000, 'sampling_frequency': 'PerTree', 'leaf_estimation_method': 'Newton', 'od_pval': 0, 'grow_policy': 'SymmetricTree', 'penalties_coefficient': 1, 'boosting_type': 'Plain', 'model_shrink_mode': 'Constant', 'feature_border_type': 'GreedyLogSum', 'bayesian_matrix_reg': 0.10000000149011612, 'eval_fraction': 0, 'force_unit_auto_pair_weights': False, 'l2_leaf_reg': 9.053875373865594e-07, 'random_strength': 9.62474536895752, 'od_type': 'Iter', 'rsm': 1, 'boost_from_average': True, 'model_size_reg': 0.5, 'pool_metainfo_options': {'tags': {}}, 'use_best_model': False, 'od_wait': 50, 'random_seed': 0, 'depth': 4, 'posterior_sampling': False, 'border_count': 254, 'bagging_temperature': 4.040891170501709, 'classes_count': 0, 'auto_class_weights': 'None', 'sparse_features_conflict_fraction': 0, 'leaf_estimation_backtracking': 'AnyImprovement', 'best_model_min_trees': 1, 'model_shrink_rate': 0, 'min_data_in_leaf': 1, 'loss_function': 'RMSE', 'learning_rate': 0.010055565275251864, 'score_function': 'Cosine', 'task_type': 'CPU', 'leaf_estimation_iterations': 1, 'bootstrap_type': 'Bayesian', 'max_leaves': 16}\n",
      "{'nan_mode': 'Min', 'eval_metric': 'RMSE', 'iterations': 1000, 'sampling_frequency': 'PerTree', 'leaf_estimation_method': 'Newton', 'od_pval': 0, 'grow_policy': 'SymmetricTree', 'penalties_coefficient': 1, 'boosting_type': 'Plain', 'model_shrink_mode': 'Constant', 'feature_border_type': 'GreedyLogSum', 'bayesian_matrix_reg': 0.10000000149011612, 'eval_fraction': 0, 'force_unit_auto_pair_weights': False, 'l2_leaf_reg': 9.053875373865594e-07, 'random_strength': 9.62474536895752, 'od_type': 'Iter', 'rsm': 1, 'boost_from_average': True, 'model_size_reg': 0.5, 'pool_metainfo_options': {'tags': {}}, 'use_best_model': False, 'od_wait': 50, 'random_seed': 0, 'depth': 4, 'posterior_sampling': False, 'border_count': 254, 'bagging_temperature': 4.040891170501709, 'classes_count': 0, 'auto_class_weights': 'None', 'sparse_features_conflict_fraction': 0, 'leaf_estimation_backtracking': 'AnyImprovement', 'best_model_min_trees': 1, 'model_shrink_rate': 0, 'min_data_in_leaf': 1, 'loss_function': 'RMSE', 'learning_rate': 0.010055565275251864, 'score_function': 'Cosine', 'task_type': 'CPU', 'leaf_estimation_iterations': 1, 'bootstrap_type': 'Bayesian', 'max_leaves': 16}\n",
      "{'nan_mode': 'Min', 'eval_metric': 'RMSE', 'iterations': 1000, 'sampling_frequency': 'PerTree', 'leaf_estimation_method': 'Newton', 'od_pval': 0, 'grow_policy': 'SymmetricTree', 'penalties_coefficient': 1, 'boosting_type': 'Plain', 'model_shrink_mode': 'Constant', 'feature_border_type': 'GreedyLogSum', 'bayesian_matrix_reg': 0.10000000149011612, 'eval_fraction': 0, 'force_unit_auto_pair_weights': False, 'l2_leaf_reg': 9.053875373865594e-07, 'random_strength': 9.62474536895752, 'od_type': 'Iter', 'rsm': 1, 'boost_from_average': True, 'model_size_reg': 0.5, 'pool_metainfo_options': {'tags': {}}, 'use_best_model': False, 'od_wait': 50, 'random_seed': 0, 'depth': 4, 'posterior_sampling': False, 'border_count': 254, 'bagging_temperature': 4.040891170501709, 'classes_count': 0, 'auto_class_weights': 'None', 'sparse_features_conflict_fraction': 0, 'leaf_estimation_backtracking': 'AnyImprovement', 'best_model_min_trees': 1, 'model_shrink_rate': 0, 'min_data_in_leaf': 1, 'loss_function': 'RMSE', 'learning_rate': 0.010055565275251864, 'score_function': 'Cosine', 'task_type': 'CPU', 'leaf_estimation_iterations': 1, 'bootstrap_type': 'Bayesian', 'max_leaves': 16}\n",
      "{'nan_mode': 'Min', 'eval_metric': 'RMSE', 'iterations': 1000, 'sampling_frequency': 'PerTree', 'leaf_estimation_method': 'Newton', 'od_pval': 0, 'grow_policy': 'SymmetricTree', 'penalties_coefficient': 1, 'boosting_type': 'Plain', 'model_shrink_mode': 'Constant', 'feature_border_type': 'GreedyLogSum', 'bayesian_matrix_reg': 0.10000000149011612, 'eval_fraction': 0, 'force_unit_auto_pair_weights': False, 'l2_leaf_reg': 9.053875373865594e-07, 'random_strength': 9.62474536895752, 'od_type': 'Iter', 'rsm': 1, 'boost_from_average': True, 'model_size_reg': 0.5, 'pool_metainfo_options': {'tags': {}}, 'use_best_model': False, 'od_wait': 50, 'random_seed': 0, 'depth': 4, 'posterior_sampling': False, 'border_count': 254, 'bagging_temperature': 4.040891170501709, 'classes_count': 0, 'auto_class_weights': 'None', 'sparse_features_conflict_fraction': 0, 'leaf_estimation_backtracking': 'AnyImprovement', 'best_model_min_trees': 1, 'model_shrink_rate': 0, 'min_data_in_leaf': 1, 'loss_function': 'RMSE', 'learning_rate': 0.010055565275251864, 'score_function': 'Cosine', 'task_type': 'CPU', 'leaf_estimation_iterations': 1, 'bootstrap_type': 'Bayesian', 'max_leaves': 16}\n",
      "{'nan_mode': 'Min', 'eval_metric': 'RMSE', 'iterations': 1000, 'sampling_frequency': 'PerTree', 'leaf_estimation_method': 'Newton', 'od_pval': 0, 'grow_policy': 'SymmetricTree', 'penalties_coefficient': 1, 'boosting_type': 'Plain', 'model_shrink_mode': 'Constant', 'feature_border_type': 'GreedyLogSum', 'bayesian_matrix_reg': 0.10000000149011612, 'eval_fraction': 0, 'force_unit_auto_pair_weights': False, 'l2_leaf_reg': 9.053875373865594e-07, 'random_strength': 9.62474536895752, 'od_type': 'Iter', 'rsm': 1, 'boost_from_average': True, 'model_size_reg': 0.5, 'pool_metainfo_options': {'tags': {}}, 'use_best_model': False, 'od_wait': 50, 'random_seed': 0, 'depth': 4, 'posterior_sampling': False, 'border_count': 254, 'bagging_temperature': 4.040891170501709, 'classes_count': 0, 'auto_class_weights': 'None', 'sparse_features_conflict_fraction': 0, 'leaf_estimation_backtracking': 'AnyImprovement', 'best_model_min_trees': 1, 'model_shrink_rate': 0, 'min_data_in_leaf': 1, 'loss_function': 'RMSE', 'learning_rate': 0.010055565275251864, 'score_function': 'Cosine', 'task_type': 'CPU', 'leaf_estimation_iterations': 1, 'bootstrap_type': 'Bayesian', 'max_leaves': 16}\n",
      "{'nan_mode': 'Min', 'eval_metric': 'RMSE', 'iterations': 1000, 'sampling_frequency': 'PerTree', 'leaf_estimation_method': 'Newton', 'od_pval': 0, 'grow_policy': 'SymmetricTree', 'penalties_coefficient': 1, 'boosting_type': 'Plain', 'model_shrink_mode': 'Constant', 'feature_border_type': 'GreedyLogSum', 'bayesian_matrix_reg': 0.10000000149011612, 'eval_fraction': 0, 'force_unit_auto_pair_weights': False, 'l2_leaf_reg': 9.053875373865594e-07, 'random_strength': 9.62474536895752, 'od_type': 'Iter', 'rsm': 1, 'boost_from_average': True, 'model_size_reg': 0.5, 'pool_metainfo_options': {'tags': {}}, 'use_best_model': False, 'od_wait': 50, 'random_seed': 0, 'depth': 4, 'posterior_sampling': False, 'border_count': 254, 'bagging_temperature': 4.040891170501709, 'classes_count': 0, 'auto_class_weights': 'None', 'sparse_features_conflict_fraction': 0, 'leaf_estimation_backtracking': 'AnyImprovement', 'best_model_min_trees': 1, 'model_shrink_rate': 0, 'min_data_in_leaf': 1, 'loss_function': 'RMSE', 'learning_rate': 0.010055565275251864, 'score_function': 'Cosine', 'task_type': 'CPU', 'leaf_estimation_iterations': 1, 'bootstrap_type': 'Bayesian', 'max_leaves': 16}\n",
      "{'nan_mode': 'Min', 'eval_metric': 'RMSE', 'iterations': 1000, 'sampling_frequency': 'PerTree', 'leaf_estimation_method': 'Newton', 'od_pval': 0, 'grow_policy': 'SymmetricTree', 'penalties_coefficient': 1, 'boosting_type': 'Plain', 'model_shrink_mode': 'Constant', 'feature_border_type': 'GreedyLogSum', 'bayesian_matrix_reg': 0.10000000149011612, 'eval_fraction': 0, 'force_unit_auto_pair_weights': False, 'l2_leaf_reg': 9.053875373865594e-07, 'random_strength': 9.62474536895752, 'od_type': 'Iter', 'rsm': 1, 'boost_from_average': True, 'model_size_reg': 0.5, 'pool_metainfo_options': {'tags': {}}, 'use_best_model': False, 'od_wait': 50, 'random_seed': 0, 'depth': 4, 'posterior_sampling': False, 'border_count': 254, 'bagging_temperature': 4.040891170501709, 'classes_count': 0, 'auto_class_weights': 'None', 'sparse_features_conflict_fraction': 0, 'leaf_estimation_backtracking': 'AnyImprovement', 'best_model_min_trees': 1, 'model_shrink_rate': 0, 'min_data_in_leaf': 1, 'loss_function': 'RMSE', 'learning_rate': 0.010055565275251864, 'score_function': 'Cosine', 'task_type': 'CPU', 'leaf_estimation_iterations': 1, 'bootstrap_type': 'Bayesian', 'max_leaves': 16}\n",
      "{'nan_mode': 'Min', 'eval_metric': 'RMSE', 'iterations': 1000, 'sampling_frequency': 'PerTree', 'leaf_estimation_method': 'Newton', 'od_pval': 0, 'grow_policy': 'SymmetricTree', 'penalties_coefficient': 1, 'boosting_type': 'Plain', 'model_shrink_mode': 'Constant', 'feature_border_type': 'GreedyLogSum', 'bayesian_matrix_reg': 0.10000000149011612, 'eval_fraction': 0, 'force_unit_auto_pair_weights': False, 'l2_leaf_reg': 9.053875373865594e-07, 'random_strength': 9.62474536895752, 'od_type': 'Iter', 'rsm': 1, 'boost_from_average': True, 'model_size_reg': 0.5, 'pool_metainfo_options': {'tags': {}}, 'use_best_model': False, 'od_wait': 50, 'random_seed': 0, 'depth': 4, 'posterior_sampling': False, 'border_count': 254, 'bagging_temperature': 4.040891170501709, 'classes_count': 0, 'auto_class_weights': 'None', 'sparse_features_conflict_fraction': 0, 'leaf_estimation_backtracking': 'AnyImprovement', 'best_model_min_trees': 1, 'model_shrink_rate': 0, 'min_data_in_leaf': 1, 'loss_function': 'RMSE', 'learning_rate': 0.010055565275251864, 'score_function': 'Cosine', 'task_type': 'CPU', 'leaf_estimation_iterations': 1, 'bootstrap_type': 'Bayesian', 'max_leaves': 16}\n",
      "{'nan_mode': 'Min', 'eval_metric': 'RMSE', 'iterations': 1000, 'sampling_frequency': 'PerTree', 'leaf_estimation_method': 'Newton', 'od_pval': 0, 'grow_policy': 'SymmetricTree', 'penalties_coefficient': 1, 'boosting_type': 'Plain', 'model_shrink_mode': 'Constant', 'feature_border_type': 'GreedyLogSum', 'bayesian_matrix_reg': 0.10000000149011612, 'eval_fraction': 0, 'force_unit_auto_pair_weights': False, 'l2_leaf_reg': 9.053875373865594e-07, 'random_strength': 9.62474536895752, 'od_type': 'Iter', 'rsm': 1, 'boost_from_average': True, 'model_size_reg': 0.5, 'pool_metainfo_options': {'tags': {}}, 'use_best_model': False, 'od_wait': 50, 'random_seed': 0, 'depth': 4, 'posterior_sampling': False, 'border_count': 254, 'bagging_temperature': 4.040891170501709, 'classes_count': 0, 'auto_class_weights': 'None', 'sparse_features_conflict_fraction': 0, 'leaf_estimation_backtracking': 'AnyImprovement', 'best_model_min_trees': 1, 'model_shrink_rate': 0, 'min_data_in_leaf': 1, 'loss_function': 'RMSE', 'learning_rate': 0.010055565275251864, 'score_function': 'Cosine', 'task_type': 'CPU', 'leaf_estimation_iterations': 1, 'bootstrap_type': 'Bayesian', 'max_leaves': 16}\n",
      "{'nan_mode': 'Min', 'eval_metric': 'RMSE', 'iterations': 1000, 'sampling_frequency': 'PerTree', 'leaf_estimation_method': 'Newton', 'od_pval': 0, 'grow_policy': 'SymmetricTree', 'penalties_coefficient': 1, 'boosting_type': 'Plain', 'model_shrink_mode': 'Constant', 'feature_border_type': 'GreedyLogSum', 'bayesian_matrix_reg': 0.10000000149011612, 'eval_fraction': 0, 'force_unit_auto_pair_weights': False, 'l2_leaf_reg': 9.053875373865594e-07, 'random_strength': 9.62474536895752, 'od_type': 'Iter', 'rsm': 1, 'boost_from_average': True, 'model_size_reg': 0.5, 'pool_metainfo_options': {'tags': {}}, 'use_best_model': False, 'od_wait': 50, 'random_seed': 0, 'depth': 4, 'posterior_sampling': False, 'border_count': 254, 'bagging_temperature': 4.040891170501709, 'classes_count': 0, 'auto_class_weights': 'None', 'sparse_features_conflict_fraction': 0, 'leaf_estimation_backtracking': 'AnyImprovement', 'best_model_min_trees': 1, 'model_shrink_rate': 0, 'min_data_in_leaf': 1, 'loss_function': 'RMSE', 'learning_rate': 0.010055565275251864, 'score_function': 'Cosine', 'task_type': 'CPU', 'leaf_estimation_iterations': 1, 'bootstrap_type': 'Bayesian', 'max_leaves': 16}\n",
      "{'nan_mode': 'Min', 'eval_metric': 'RMSE', 'iterations': 1000, 'sampling_frequency': 'PerTree', 'leaf_estimation_method': 'Newton', 'od_pval': 0, 'grow_policy': 'SymmetricTree', 'penalties_coefficient': 1, 'boosting_type': 'Plain', 'model_shrink_mode': 'Constant', 'feature_border_type': 'GreedyLogSum', 'bayesian_matrix_reg': 0.10000000149011612, 'eval_fraction': 0, 'force_unit_auto_pair_weights': False, 'l2_leaf_reg': 9.053875373865594e-07, 'random_strength': 9.62474536895752, 'od_type': 'Iter', 'rsm': 1, 'boost_from_average': True, 'model_size_reg': 0.5, 'pool_metainfo_options': {'tags': {}}, 'use_best_model': False, 'od_wait': 50, 'random_seed': 0, 'depth': 4, 'posterior_sampling': False, 'border_count': 254, 'bagging_temperature': 4.040891170501709, 'classes_count': 0, 'auto_class_weights': 'None', 'sparse_features_conflict_fraction': 0, 'leaf_estimation_backtracking': 'AnyImprovement', 'best_model_min_trees': 1, 'model_shrink_rate': 0, 'min_data_in_leaf': 1, 'loss_function': 'RMSE', 'learning_rate': 0.010055565275251864, 'score_function': 'Cosine', 'task_type': 'CPU', 'leaf_estimation_iterations': 1, 'bootstrap_type': 'Bayesian', 'max_leaves': 16}\n",
      "{'nan_mode': 'Min', 'eval_metric': 'RMSE', 'iterations': 1000, 'sampling_frequency': 'PerTree', 'leaf_estimation_method': 'Newton', 'od_pval': 0, 'grow_policy': 'SymmetricTree', 'penalties_coefficient': 1, 'boosting_type': 'Plain', 'model_shrink_mode': 'Constant', 'feature_border_type': 'GreedyLogSum', 'bayesian_matrix_reg': 0.10000000149011612, 'eval_fraction': 0, 'force_unit_auto_pair_weights': False, 'l2_leaf_reg': 9.053875373865594e-07, 'random_strength': 9.62474536895752, 'od_type': 'Iter', 'rsm': 1, 'boost_from_average': True, 'model_size_reg': 0.5, 'pool_metainfo_options': {'tags': {}}, 'use_best_model': False, 'od_wait': 50, 'random_seed': 0, 'depth': 4, 'posterior_sampling': False, 'border_count': 254, 'bagging_temperature': 4.040891170501709, 'classes_count': 0, 'auto_class_weights': 'None', 'sparse_features_conflict_fraction': 0, 'leaf_estimation_backtracking': 'AnyImprovement', 'best_model_min_trees': 1, 'model_shrink_rate': 0, 'min_data_in_leaf': 1, 'loss_function': 'RMSE', 'learning_rate': 0.010055565275251864, 'score_function': 'Cosine', 'task_type': 'CPU', 'leaf_estimation_iterations': 1, 'bootstrap_type': 'Bayesian', 'max_leaves': 16}\n",
      "{'nan_mode': 'Min', 'eval_metric': 'RMSE', 'iterations': 1000, 'sampling_frequency': 'PerTree', 'leaf_estimation_method': 'Newton', 'od_pval': 0, 'grow_policy': 'SymmetricTree', 'penalties_coefficient': 1, 'boosting_type': 'Plain', 'model_shrink_mode': 'Constant', 'feature_border_type': 'GreedyLogSum', 'bayesian_matrix_reg': 0.10000000149011612, 'eval_fraction': 0, 'force_unit_auto_pair_weights': False, 'l2_leaf_reg': 9.053875373865594e-07, 'random_strength': 9.62474536895752, 'od_type': 'Iter', 'rsm': 1, 'boost_from_average': True, 'model_size_reg': 0.5, 'pool_metainfo_options': {'tags': {}}, 'use_best_model': False, 'od_wait': 50, 'random_seed': 0, 'depth': 4, 'posterior_sampling': False, 'border_count': 254, 'bagging_temperature': 4.040891170501709, 'classes_count': 0, 'auto_class_weights': 'None', 'sparse_features_conflict_fraction': 0, 'leaf_estimation_backtracking': 'AnyImprovement', 'best_model_min_trees': 1, 'model_shrink_rate': 0, 'min_data_in_leaf': 1, 'loss_function': 'RMSE', 'learning_rate': 0.010055565275251864, 'score_function': 'Cosine', 'task_type': 'CPU', 'leaf_estimation_iterations': 1, 'bootstrap_type': 'Bayesian', 'max_leaves': 16}\n",
      "{'nan_mode': 'Min', 'eval_metric': 'RMSE', 'iterations': 1000, 'sampling_frequency': 'PerTree', 'leaf_estimation_method': 'Newton', 'od_pval': 0, 'grow_policy': 'SymmetricTree', 'penalties_coefficient': 1, 'boosting_type': 'Plain', 'model_shrink_mode': 'Constant', 'feature_border_type': 'GreedyLogSum', 'bayesian_matrix_reg': 0.10000000149011612, 'eval_fraction': 0, 'force_unit_auto_pair_weights': False, 'l2_leaf_reg': 9.053875373865594e-07, 'random_strength': 9.62474536895752, 'od_type': 'Iter', 'rsm': 1, 'boost_from_average': True, 'model_size_reg': 0.5, 'pool_metainfo_options': {'tags': {}}, 'use_best_model': False, 'od_wait': 50, 'random_seed': 0, 'depth': 4, 'posterior_sampling': False, 'border_count': 254, 'bagging_temperature': 4.040891170501709, 'classes_count': 0, 'auto_class_weights': 'None', 'sparse_features_conflict_fraction': 0, 'leaf_estimation_backtracking': 'AnyImprovement', 'best_model_min_trees': 1, 'model_shrink_rate': 0, 'min_data_in_leaf': 1, 'loss_function': 'RMSE', 'learning_rate': 0.010055565275251864, 'score_function': 'Cosine', 'task_type': 'CPU', 'leaf_estimation_iterations': 1, 'bootstrap_type': 'Bayesian', 'max_leaves': 16}\n",
      "{'nan_mode': 'Min', 'eval_metric': 'RMSE', 'iterations': 1000, 'sampling_frequency': 'PerTree', 'leaf_estimation_method': 'Newton', 'od_pval': 0, 'grow_policy': 'SymmetricTree', 'penalties_coefficient': 1, 'boosting_type': 'Plain', 'model_shrink_mode': 'Constant', 'feature_border_type': 'GreedyLogSum', 'bayesian_matrix_reg': 0.10000000149011612, 'eval_fraction': 0, 'force_unit_auto_pair_weights': False, 'l2_leaf_reg': 9.053875373865594e-07, 'random_strength': 9.62474536895752, 'od_type': 'Iter', 'rsm': 1, 'boost_from_average': True, 'model_size_reg': 0.5, 'pool_metainfo_options': {'tags': {}}, 'use_best_model': False, 'od_wait': 50, 'random_seed': 0, 'depth': 4, 'posterior_sampling': False, 'border_count': 254, 'bagging_temperature': 4.040891170501709, 'classes_count': 0, 'auto_class_weights': 'None', 'sparse_features_conflict_fraction': 0, 'leaf_estimation_backtracking': 'AnyImprovement', 'best_model_min_trees': 1, 'model_shrink_rate': 0, 'min_data_in_leaf': 1, 'loss_function': 'RMSE', 'learning_rate': 0.010055565275251864, 'score_function': 'Cosine', 'task_type': 'CPU', 'leaf_estimation_iterations': 1, 'bootstrap_type': 'Bayesian', 'max_leaves': 16}\n",
      "{'nan_mode': 'Min', 'eval_metric': 'RMSE', 'iterations': 1000, 'sampling_frequency': 'PerTree', 'leaf_estimation_method': 'Newton', 'od_pval': 0, 'grow_policy': 'SymmetricTree', 'penalties_coefficient': 1, 'boosting_type': 'Plain', 'model_shrink_mode': 'Constant', 'feature_border_type': 'GreedyLogSum', 'bayesian_matrix_reg': 0.10000000149011612, 'eval_fraction': 0, 'force_unit_auto_pair_weights': False, 'l2_leaf_reg': 9.053875373865594e-07, 'random_strength': 9.62474536895752, 'od_type': 'Iter', 'rsm': 1, 'boost_from_average': True, 'model_size_reg': 0.5, 'pool_metainfo_options': {'tags': {}}, 'use_best_model': False, 'od_wait': 50, 'random_seed': 0, 'depth': 4, 'posterior_sampling': False, 'border_count': 254, 'bagging_temperature': 4.040891170501709, 'classes_count': 0, 'auto_class_weights': 'None', 'sparse_features_conflict_fraction': 0, 'leaf_estimation_backtracking': 'AnyImprovement', 'best_model_min_trees': 1, 'model_shrink_rate': 0, 'min_data_in_leaf': 1, 'loss_function': 'RMSE', 'learning_rate': 0.010055565275251864, 'score_function': 'Cosine', 'task_type': 'CPU', 'leaf_estimation_iterations': 1, 'bootstrap_type': 'Bayesian', 'max_leaves': 16}\n",
      "{'nan_mode': 'Min', 'eval_metric': 'RMSE', 'iterations': 1000, 'sampling_frequency': 'PerTree', 'leaf_estimation_method': 'Newton', 'od_pval': 0, 'grow_policy': 'SymmetricTree', 'penalties_coefficient': 1, 'boosting_type': 'Plain', 'model_shrink_mode': 'Constant', 'feature_border_type': 'GreedyLogSum', 'bayesian_matrix_reg': 0.10000000149011612, 'eval_fraction': 0, 'force_unit_auto_pair_weights': False, 'l2_leaf_reg': 9.053875373865594e-07, 'random_strength': 9.62474536895752, 'od_type': 'Iter', 'rsm': 1, 'boost_from_average': True, 'model_size_reg': 0.5, 'pool_metainfo_options': {'tags': {}}, 'use_best_model': False, 'od_wait': 50, 'random_seed': 0, 'depth': 4, 'posterior_sampling': False, 'border_count': 254, 'bagging_temperature': 4.040891170501709, 'classes_count': 0, 'auto_class_weights': 'None', 'sparse_features_conflict_fraction': 0, 'leaf_estimation_backtracking': 'AnyImprovement', 'best_model_min_trees': 1, 'model_shrink_rate': 0, 'min_data_in_leaf': 1, 'loss_function': 'RMSE', 'learning_rate': 0.010055565275251864, 'score_function': 'Cosine', 'task_type': 'CPU', 'leaf_estimation_iterations': 1, 'bootstrap_type': 'Bayesian', 'max_leaves': 16}\n",
      "{'nan_mode': 'Min', 'eval_metric': 'RMSE', 'iterations': 1000, 'sampling_frequency': 'PerTree', 'leaf_estimation_method': 'Newton', 'od_pval': 0, 'grow_policy': 'SymmetricTree', 'penalties_coefficient': 1, 'boosting_type': 'Plain', 'model_shrink_mode': 'Constant', 'feature_border_type': 'GreedyLogSum', 'bayesian_matrix_reg': 0.10000000149011612, 'eval_fraction': 0, 'force_unit_auto_pair_weights': False, 'l2_leaf_reg': 9.053875373865594e-07, 'random_strength': 9.62474536895752, 'od_type': 'Iter', 'rsm': 1, 'boost_from_average': True, 'model_size_reg': 0.5, 'pool_metainfo_options': {'tags': {}}, 'use_best_model': False, 'od_wait': 50, 'random_seed': 0, 'depth': 4, 'posterior_sampling': False, 'border_count': 254, 'bagging_temperature': 4.040891170501709, 'classes_count': 0, 'auto_class_weights': 'None', 'sparse_features_conflict_fraction': 0, 'leaf_estimation_backtracking': 'AnyImprovement', 'best_model_min_trees': 1, 'model_shrink_rate': 0, 'min_data_in_leaf': 1, 'loss_function': 'RMSE', 'learning_rate': 0.010055565275251864, 'score_function': 'Cosine', 'task_type': 'CPU', 'leaf_estimation_iterations': 1, 'bootstrap_type': 'Bayesian', 'max_leaves': 16}\n",
      "{'nan_mode': 'Min', 'eval_metric': 'RMSE', 'iterations': 1000, 'sampling_frequency': 'PerTree', 'leaf_estimation_method': 'Newton', 'od_pval': 0, 'grow_policy': 'SymmetricTree', 'penalties_coefficient': 1, 'boosting_type': 'Plain', 'model_shrink_mode': 'Constant', 'feature_border_type': 'GreedyLogSum', 'bayesian_matrix_reg': 0.10000000149011612, 'eval_fraction': 0, 'force_unit_auto_pair_weights': False, 'l2_leaf_reg': 9.053875373865594e-07, 'random_strength': 9.62474536895752, 'od_type': 'Iter', 'rsm': 1, 'boost_from_average': True, 'model_size_reg': 0.5, 'pool_metainfo_options': {'tags': {}}, 'use_best_model': False, 'od_wait': 50, 'random_seed': 0, 'depth': 4, 'posterior_sampling': False, 'border_count': 254, 'bagging_temperature': 4.040891170501709, 'classes_count': 0, 'auto_class_weights': 'None', 'sparse_features_conflict_fraction': 0, 'leaf_estimation_backtracking': 'AnyImprovement', 'best_model_min_trees': 1, 'model_shrink_rate': 0, 'min_data_in_leaf': 1, 'loss_function': 'RMSE', 'learning_rate': 0.010055565275251864, 'score_function': 'Cosine', 'task_type': 'CPU', 'leaf_estimation_iterations': 1, 'bootstrap_type': 'Bayesian', 'max_leaves': 16}\n",
      "{'nan_mode': 'Min', 'eval_metric': 'RMSE', 'iterations': 1000, 'sampling_frequency': 'PerTree', 'leaf_estimation_method': 'Newton', 'od_pval': 0, 'grow_policy': 'SymmetricTree', 'penalties_coefficient': 1, 'boosting_type': 'Plain', 'model_shrink_mode': 'Constant', 'feature_border_type': 'GreedyLogSum', 'bayesian_matrix_reg': 0.10000000149011612, 'eval_fraction': 0, 'force_unit_auto_pair_weights': False, 'l2_leaf_reg': 9.053875373865594e-07, 'random_strength': 9.62474536895752, 'od_type': 'Iter', 'rsm': 1, 'boost_from_average': True, 'model_size_reg': 0.5, 'pool_metainfo_options': {'tags': {}}, 'use_best_model': False, 'od_wait': 50, 'random_seed': 0, 'depth': 4, 'posterior_sampling': False, 'border_count': 254, 'bagging_temperature': 4.040891170501709, 'classes_count': 0, 'auto_class_weights': 'None', 'sparse_features_conflict_fraction': 0, 'leaf_estimation_backtracking': 'AnyImprovement', 'best_model_min_trees': 1, 'model_shrink_rate': 0, 'min_data_in_leaf': 1, 'loss_function': 'RMSE', 'learning_rate': 0.010055565275251864, 'score_function': 'Cosine', 'task_type': 'CPU', 'leaf_estimation_iterations': 1, 'bootstrap_type': 'Bayesian', 'max_leaves': 16}\n",
      "{'nan_mode': 'Min', 'eval_metric': 'RMSE', 'iterations': 1000, 'sampling_frequency': 'PerTree', 'leaf_estimation_method': 'Newton', 'od_pval': 0, 'grow_policy': 'SymmetricTree', 'penalties_coefficient': 1, 'boosting_type': 'Plain', 'model_shrink_mode': 'Constant', 'feature_border_type': 'GreedyLogSum', 'bayesian_matrix_reg': 0.10000000149011612, 'eval_fraction': 0, 'force_unit_auto_pair_weights': False, 'l2_leaf_reg': 9.053875373865594e-07, 'random_strength': 9.62474536895752, 'od_type': 'Iter', 'rsm': 1, 'boost_from_average': True, 'model_size_reg': 0.5, 'pool_metainfo_options': {'tags': {}}, 'use_best_model': False, 'od_wait': 50, 'random_seed': 0, 'depth': 4, 'posterior_sampling': False, 'border_count': 254, 'bagging_temperature': 4.040891170501709, 'classes_count': 0, 'auto_class_weights': 'None', 'sparse_features_conflict_fraction': 0, 'leaf_estimation_backtracking': 'AnyImprovement', 'best_model_min_trees': 1, 'model_shrink_rate': 0, 'min_data_in_leaf': 1, 'loss_function': 'RMSE', 'learning_rate': 0.010055565275251864, 'score_function': 'Cosine', 'task_type': 'CPU', 'leaf_estimation_iterations': 1, 'bootstrap_type': 'Bayesian', 'max_leaves': 16}\n",
      "{'nan_mode': 'Min', 'eval_metric': 'RMSE', 'iterations': 1000, 'sampling_frequency': 'PerTree', 'leaf_estimation_method': 'Newton', 'od_pval': 0, 'grow_policy': 'SymmetricTree', 'penalties_coefficient': 1, 'boosting_type': 'Plain', 'model_shrink_mode': 'Constant', 'feature_border_type': 'GreedyLogSum', 'bayesian_matrix_reg': 0.10000000149011612, 'eval_fraction': 0, 'force_unit_auto_pair_weights': False, 'l2_leaf_reg': 9.053875373865594e-07, 'random_strength': 9.62474536895752, 'od_type': 'Iter', 'rsm': 1, 'boost_from_average': True, 'model_size_reg': 0.5, 'pool_metainfo_options': {'tags': {}}, 'use_best_model': False, 'od_wait': 50, 'random_seed': 0, 'depth': 4, 'posterior_sampling': False, 'border_count': 254, 'bagging_temperature': 4.040891170501709, 'classes_count': 0, 'auto_class_weights': 'None', 'sparse_features_conflict_fraction': 0, 'leaf_estimation_backtracking': 'AnyImprovement', 'best_model_min_trees': 1, 'model_shrink_rate': 0, 'min_data_in_leaf': 1, 'loss_function': 'RMSE', 'learning_rate': 0.010055565275251864, 'score_function': 'Cosine', 'task_type': 'CPU', 'leaf_estimation_iterations': 1, 'bootstrap_type': 'Bayesian', 'max_leaves': 16}\n",
      "{'nan_mode': 'Min', 'eval_metric': 'RMSE', 'iterations': 1000, 'sampling_frequency': 'PerTree', 'leaf_estimation_method': 'Newton', 'od_pval': 0, 'grow_policy': 'SymmetricTree', 'penalties_coefficient': 1, 'boosting_type': 'Plain', 'model_shrink_mode': 'Constant', 'feature_border_type': 'GreedyLogSum', 'bayesian_matrix_reg': 0.10000000149011612, 'eval_fraction': 0, 'force_unit_auto_pair_weights': False, 'l2_leaf_reg': 9.053875373865594e-07, 'random_strength': 9.62474536895752, 'od_type': 'Iter', 'rsm': 1, 'boost_from_average': True, 'model_size_reg': 0.5, 'pool_metainfo_options': {'tags': {}}, 'use_best_model': False, 'od_wait': 50, 'random_seed': 0, 'depth': 4, 'posterior_sampling': False, 'border_count': 254, 'bagging_temperature': 4.040891170501709, 'classes_count': 0, 'auto_class_weights': 'None', 'sparse_features_conflict_fraction': 0, 'leaf_estimation_backtracking': 'AnyImprovement', 'best_model_min_trees': 1, 'model_shrink_rate': 0, 'min_data_in_leaf': 1, 'loss_function': 'RMSE', 'learning_rate': 0.010055565275251864, 'score_function': 'Cosine', 'task_type': 'CPU', 'leaf_estimation_iterations': 1, 'bootstrap_type': 'Bayesian', 'max_leaves': 16}\n",
      "{'nan_mode': 'Min', 'eval_metric': 'RMSE', 'iterations': 1000, 'sampling_frequency': 'PerTree', 'leaf_estimation_method': 'Newton', 'od_pval': 0, 'grow_policy': 'SymmetricTree', 'penalties_coefficient': 1, 'boosting_type': 'Plain', 'model_shrink_mode': 'Constant', 'feature_border_type': 'GreedyLogSum', 'bayesian_matrix_reg': 0.10000000149011612, 'eval_fraction': 0, 'force_unit_auto_pair_weights': False, 'l2_leaf_reg': 9.053875373865594e-07, 'random_strength': 9.62474536895752, 'od_type': 'Iter', 'rsm': 1, 'boost_from_average': True, 'model_size_reg': 0.5, 'pool_metainfo_options': {'tags': {}}, 'use_best_model': False, 'od_wait': 50, 'random_seed': 0, 'depth': 4, 'posterior_sampling': False, 'border_count': 254, 'bagging_temperature': 4.040891170501709, 'classes_count': 0, 'auto_class_weights': 'None', 'sparse_features_conflict_fraction': 0, 'leaf_estimation_backtracking': 'AnyImprovement', 'best_model_min_trees': 1, 'model_shrink_rate': 0, 'min_data_in_leaf': 1, 'loss_function': 'RMSE', 'learning_rate': 0.010055565275251864, 'score_function': 'Cosine', 'task_type': 'CPU', 'leaf_estimation_iterations': 1, 'bootstrap_type': 'Bayesian', 'max_leaves': 16}\n"
     ]
    },
    {
     "data": {
      "text/plain": [
       "('Catboost', 0.03391621743763539, 0.027800376526824943, 0.511129096216774)"
      ]
     },
     "execution_count": 54,
     "metadata": {},
     "output_type": "execute_result"
    }
   ],
   "source": [
    "res = cbpred_params(dfX[cols],y,kf, trial.params)\n",
    "res"
   ]
  },
  {
   "cell_type": "code",
   "execution_count": 52,
   "metadata": {},
   "outputs": [],
   "source": [
    "relief = {'Indeks Pembangunan Manusia': 0.13284091911102613,\n",
    " 'SD': 0.12034276029063282,\n",
    " 'pendidikan_SMA': 0.11226924394021717,\n",
    " 'pendidikan_SD': 0.09862159114928643,\n",
    " 'DPT': 0.08951284040805399,\n",
    " 'Persentase Kemiskinan': 0.08670741003840189,\n",
    " 'pendidikan_Universitas': 0.0770181753771101,\n",
    " 'Pengeluaran Bulanan': 0.06752418168824369,\n",
    " 'Literate': 0.058178733750543235,\n",
    " 'Perempuan': 0.052779796704443833,\n",
    " 'Laki': 0.04879084066123379,\n",
    " 'TK': 0.04016274053710977,\n",
    " 'TPAK': 0.03947882612619671,\n",
    " 'Laju Pertumbuhan': 0.03707727177524649,\n",
    " 'Umur': 0.03485968154348226,\n",
    " 'Umur Squared': 0.03442564055727986,\n",
    " 'SMK': 0.033480552990718025,\n",
    " 'SMP': 0.02936339912835733,\n",
    " 'Sentiment': 0.017851810718429697,\n",
    " 'Weighted Sentiment': 0.017851810718429697,\n",
    " 'APM SD': 0.015954416625980503,\n",
    " 'SMA': 0.014888048240001402,\n",
    " 'pendidikan_SMP': 0.013984129438205239,\n",
    " 'APM SMP': 0.013054998632209899,\n",
    " 'APM SMA': 0.012096499861815853,\n",
    " 'Universitas': -0.013497161469518246}\n",
    "\n",
    "relief = pd.DataFrame.from_dict(relief, orient='index', columns=['ReliefF'])\n",
    "relief.sort_values(by='ReliefF', ascending=False, inplace=True)\n",
    "relief.to_excel('relief.xlsx')"
   ]
  },
  {
   "cell_type": "code",
   "execution_count": null,
   "metadata": {},
   "outputs": [],
   "source": []
  }
 ],
 "metadata": {
  "kernelspec": {
   "display_name": "Python 3",
   "language": "python",
   "name": "python3"
  },
  "language_info": {
   "codemirror_mode": {
    "name": "ipython",
    "version": 3
   },
   "file_extension": ".py",
   "mimetype": "text/x-python",
   "name": "python",
   "nbconvert_exporter": "python",
   "pygments_lexer": "ipython3",
   "version": "3.10.4"
  },
  "orig_nbformat": 4
 },
 "nbformat": 4,
 "nbformat_minor": 2
}
