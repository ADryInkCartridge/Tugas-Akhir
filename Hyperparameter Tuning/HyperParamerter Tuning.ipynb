{
 "cells": [
  {
   "cell_type": "code",
   "execution_count": 1,
   "metadata": {},
   "outputs": [],
   "source": [
    "import pandas as pd \n",
    "from sklearn.preprocessing import MinMaxScaler\n",
    "from sklearn.model_selection import train_test_split\n",
    "from sklearn.model_selection import RepeatedKFold\n",
    "\n",
    "df = pd.read_csv('Data/Dataset.csv', decimal =\".\", thousands=\",\")\n",
    "df = df.drop(['Kota','Paslon 1','Paslon 2','Total'],axis=1)\n",
    "\n",
    "scaler = MinMaxScaler()\n",
    "\n",
    "df_minmax = pd.DataFrame(scaler.fit_transform(df.values), columns=df.columns, index=df.index)\n",
    "dfX, dfY = df_minmax.iloc[:, :-1], df_minmax.iloc[:, [-1]]\n",
    "kf = RepeatedKFold(n_splits=10, n_repeats = 3 , random_state=1)\n",
    "kf.get_n_splits(dfX)\n",
    "y = df['Partisipasi']\n",
    "\n",
    "\n",
    "def beep():\n",
    "    import IPython\n",
    "    IPython.display.Audio(\"beep.mp3\", autoplay=True)\n",
    "\n",
    "def flatten(l):\n",
    "    return [item for sublist in l for item in sublist]"
   ]
  },
  {
   "cell_type": "code",
   "execution_count": 7,
   "metadata": {},
   "outputs": [
    {
     "name": "stderr",
     "output_type": "stream",
     "text": [
      "[I 2023-06-07 20:12:20,347] A new study created in memory with name: no-name-1f5096c1-7af5-48ed-a82d-ebf1bc8438f1\n",
      "C:\\Users\\Bayu Adjie Sidharta\\AppData\\Local\\Temp\\ipykernel_32688\\3008741279.py:33: ExperimentalWarning: CatBoostPruningCallback is experimental (supported from v3.0.0). The interface can change in the future.\n",
      "  pruning_callback = optuna.integration.CatBoostPruningCallback(trial, \"RMSE\")\n"
     ]
    },
    {
     "name": "stdout",
     "output_type": "stream",
     "text": [
      "Learning rate set to 0.032991\n",
      "0:\tlearn: 0.0480222\ttest: 0.0526873\tbest: 0.0526873 (0)\ttotal: 2.35ms\tremaining: 2.35s\n",
      "500:\tlearn: 0.0352131\ttest: 0.0473180\tbest: 0.0473180 (500)\ttotal: 579ms\tremaining: 576ms\n"
     ]
    },
    {
     "name": "stderr",
     "output_type": "stream",
     "text": [
      "[I 2023-06-07 20:12:22,229] Trial 0 finished with value: 0.0349815838846568 and parameters: {'objective': 'RMSE', 'colsample_bylevel': 0.019294785961930627, 'depth': 6, 'boosting_type': 'Ordered', 'bootstrap_type': 'Bayesian', 'bagging_temperature': 4.6044011355658085}. Best is trial 0 with value: 0.0349815838846568.\n"
     ]
    },
    {
     "name": "stdout",
     "output_type": "stream",
     "text": [
      "Stopped by overfitting detector  (100 iterations wait)\n",
      "\n",
      "bestTest = 0.04686541213\n",
      "bestIteration = 596\n",
      "\n",
      "Shrink model to first 597 iterations.\n",
      "('Catboost', 0.0349815838846568, 0.027204473841132337, 0.4295501324368346)\n",
      "Learning rate set to 0.032991\n",
      "0:\tlearn: 0.0491757\ttest: 0.0445211\tbest: 0.0445211 (0)\ttotal: 249us\tremaining: 249ms\n"
     ]
    },
    {
     "name": "stderr",
     "output_type": "stream",
     "text": [
      "C:\\Users\\Bayu Adjie Sidharta\\AppData\\Local\\Temp\\ipykernel_32688\\3008741279.py:33: ExperimentalWarning: CatBoostPruningCallback is experimental (supported from v3.0.0). The interface can change in the future.\n",
      "  pruning_callback = optuna.integration.CatBoostPruningCallback(trial, \"RMSE\")\n"
     ]
    },
    {
     "name": "stdout",
     "output_type": "stream",
     "text": [
      "500:\tlearn: 0.0322074\ttest: 0.0356184\tbest: 0.0355469 (476)\ttotal: 111ms\tremaining: 110ms\n"
     ]
    },
    {
     "name": "stderr",
     "output_type": "stream",
     "text": [
      "[I 2023-06-07 20:12:24,056] Trial 1 finished with value: 0.04388894224343549 and parameters: {'objective': 'RMSE', 'colsample_bylevel': 0.01963944856240657, 'depth': 7, 'boosting_type': 'Plain', 'bootstrap_type': 'Bernoulli', 'subsample': 0.3167168268977043}. Best is trial 0 with value: 0.0349815838846568.\n"
     ]
    },
    {
     "name": "stdout",
     "output_type": "stream",
     "text": [
      "Stopped by overfitting detector  (100 iterations wait)\n",
      "\n",
      "bestTest = 0.03381543904\n",
      "bestIteration = 822\n",
      "\n",
      "Shrink model to first 823 iterations.\n",
      "('Catboost', 0.04388894224343549, 0.03892649273438394, 0.23679946805274021)\n",
      "Learning rate set to 0.032991\n",
      "0:\tlearn: 0.0468309\ttest: 0.0449228\tbest: 0.0449228 (0)\ttotal: 6ms\tremaining: 6s\n"
     ]
    },
    {
     "name": "stderr",
     "output_type": "stream",
     "text": [
      "C:\\Users\\Bayu Adjie Sidharta\\AppData\\Local\\Temp\\ipykernel_32688\\3008741279.py:33: ExperimentalWarning: CatBoostPruningCallback is experimental (supported from v3.0.0). The interface can change in the future.\n",
      "  pruning_callback = optuna.integration.CatBoostPruningCallback(trial, \"RMSE\")\n",
      "[I 2023-06-07 20:12:26,265] Trial 2 finished with value: 0.044715973279318484 and parameters: {'objective': 'RMSE', 'colsample_bylevel': 0.06995412897307672, 'depth': 11, 'boosting_type': 'Ordered', 'bootstrap_type': 'MVS'}. Best is trial 0 with value: 0.0349815838846568.\n"
     ]
    },
    {
     "name": "stdout",
     "output_type": "stream",
     "text": [
      "Stopped by overfitting detector  (100 iterations wait)\n",
      "\n",
      "bestTest = 0.03663033953\n",
      "bestIteration = 271\n",
      "\n",
      "Shrink model to first 272 iterations.\n",
      "('Catboost', 0.044715973279318484, 0.037193473324274084, 0.3400660383260722)\n",
      "Learning rate set to 0.032991\n",
      "0:\tlearn: 0.0469066\ttest: 0.0511806\tbest: 0.0511806 (0)\ttotal: 1.21ms\tremaining: 1.21s\n"
     ]
    },
    {
     "name": "stderr",
     "output_type": "stream",
     "text": [
      "C:\\Users\\Bayu Adjie Sidharta\\AppData\\Local\\Temp\\ipykernel_32688\\3008741279.py:33: ExperimentalWarning: CatBoostPruningCallback is experimental (supported from v3.0.0). The interface can change in the future.\n",
      "  pruning_callback = optuna.integration.CatBoostPruningCallback(trial, \"RMSE\")\n"
     ]
    },
    {
     "name": "stdout",
     "output_type": "stream",
     "text": [
      "500:\tlearn: 0.0137702\ttest: 0.0381150\tbest: 0.0381150 (500)\ttotal: 317ms\tremaining: 315ms\n"
     ]
    },
    {
     "name": "stderr",
     "output_type": "stream",
     "text": [
      "[I 2023-06-07 20:12:28,476] Trial 3 finished with value: 0.04087864500088105 and parameters: {'objective': 'RMSE', 'colsample_bylevel': 0.06240098761259884, 'depth': 7, 'boosting_type': 'Plain', 'bootstrap_type': 'Bernoulli', 'subsample': 0.14374365063187686}. Best is trial 0 with value: 0.0349815838846568.\n"
     ]
    },
    {
     "name": "stdout",
     "output_type": "stream",
     "text": [
      "Stopped by overfitting detector  (100 iterations wait)\n",
      "\n",
      "bestTest = 0.03742691549\n",
      "bestIteration = 857\n",
      "\n",
      "Shrink model to first 858 iterations.\n",
      "('Catboost', 0.04087864500088105, 0.032604605964705956, 0.27540672839229474)\n",
      "Learning rate set to 0.032991\n",
      "0:\tlearn: 0.0501196\ttest: 0.0407744\tbest: 0.0407744 (0)\ttotal: 543us\tremaining: 543ms\n"
     ]
    },
    {
     "name": "stderr",
     "output_type": "stream",
     "text": [
      "C:\\Users\\Bayu Adjie Sidharta\\AppData\\Local\\Temp\\ipykernel_32688\\3008741279.py:33: ExperimentalWarning: CatBoostPruningCallback is experimental (supported from v3.0.0). The interface can change in the future.\n",
      "  pruning_callback = optuna.integration.CatBoostPruningCallback(trial, \"RMSE\")\n",
      "[I 2023-06-07 20:12:29,551] Trial 4 finished with value: 0.03981095379961922 and parameters: {'objective': 'RMSE', 'colsample_bylevel': 0.06505397670618852, 'depth': 4, 'boosting_type': 'Plain', 'bootstrap_type': 'Bernoulli', 'subsample': 0.36776856836508587}. Best is trial 0 with value: 0.0349815838846568.\n"
     ]
    },
    {
     "name": "stdout",
     "output_type": "stream",
     "text": [
      "500:\tlearn: 0.0188225\ttest: 0.0284757\tbest: 0.0284611 (435)\ttotal: 261ms\tremaining: 260ms\n",
      "Stopped by overfitting detector  (100 iterations wait)\n",
      "\n",
      "bestTest = 0.02846109937\n",
      "bestIteration = 435\n",
      "\n",
      "Shrink model to first 436 iterations.\n",
      "('Catboost', 0.03981095379961922, 0.030669424675023503, 0.31081574992191174)\n",
      "Learning rate set to 0.032991\n",
      "0:\tlearn: 0.0485112\ttest: 0.0440313\tbest: 0.0440313 (0)\ttotal: 1.41ms\tremaining: 1.41s\n"
     ]
    },
    {
     "name": "stderr",
     "output_type": "stream",
     "text": [
      "C:\\Users\\Bayu Adjie Sidharta\\AppData\\Local\\Temp\\ipykernel_32688\\3008741279.py:33: ExperimentalWarning: CatBoostPruningCallback is experimental (supported from v3.0.0). The interface can change in the future.\n",
      "  pruning_callback = optuna.integration.CatBoostPruningCallback(trial, \"RMSE\")\n",
      "[I 2023-06-07 20:12:29,699] Trial 5 pruned. Trial was pruned at iteration 39.\n",
      "[I 2023-06-07 20:12:29,757] Trial 6 pruned. Trial was pruned at iteration 10.\n",
      "[I 2023-06-07 20:12:29,823] Trial 7 pruned. Trial was pruned at iteration 10.\n"
     ]
    },
    {
     "name": "stdout",
     "output_type": "stream",
     "text": [
      "\n",
      "bestTest = 0.04258461055\n",
      "bestIteration = 37\n",
      "\n",
      "Shrink model to first 38 iterations.\n",
      "Learning rate set to 0.032991\n",
      "0:\tlearn: 0.0484210\ttest: 0.0578228\tbest: 0.0578228 (0)\ttotal: 352us\tremaining: 352ms\n",
      "\n",
      "bestTest = 0.0568419763\n",
      "bestIteration = 10\n",
      "\n",
      "Shrink model to first 11 iterations.\n",
      "Learning rate set to 0.032991\n",
      "0:\tlearn: 0.0459391\ttest: 0.0603960\tbest: 0.0603960 (0)\ttotal: 949us\tremaining: 948ms\n",
      "\n",
      "bestTest = 0.05911193028\n",
      "bestIteration = 10\n",
      "\n",
      "Shrink model to first 11 iterations.\n",
      "Learning rate set to 0.032991\n",
      "0:\tlearn: 0.0516369\ttest: 0.0477992\tbest: 0.0477992 (0)\ttotal: 1.22ms\tremaining: 1.22s\n",
      "\n",
      "bestTest = 0.04760009433\n",
      "bestIteration = 10\n",
      "\n",
      "Shrink model to first 11 iterations.\n"
     ]
    },
    {
     "name": "stderr",
     "output_type": "stream",
     "text": [
      "[I 2023-06-07 20:12:29,891] Trial 8 pruned. Trial was pruned at iteration 10.\n",
      "[I 2023-06-07 20:12:30,000] Trial 9 pruned. Trial was pruned at iteration 21.\n"
     ]
    },
    {
     "name": "stdout",
     "output_type": "stream",
     "text": [
      "Learning rate set to 0.032991\n",
      "0:\tlearn: 0.0439325\ttest: 0.0441419\tbest: 0.0441419 (0)\ttotal: 1.21ms\tremaining: 1.21s\n",
      "\n",
      "bestTest = 0.04383620437\n",
      "bestIteration = 21\n",
      "\n",
      "Shrink model to first 22 iterations.\n",
      "Learning rate set to 0.032991\n",
      "0:\tlearn: 0.0498080\ttest: 0.0381625\tbest: 0.0381625 (0)\ttotal: 3.92ms\tremaining: 3.91s\n",
      "500:\tlearn: 0.0424810\ttest: 0.0301237\tbest: 0.0301237 (500)\ttotal: 566ms\tremaining: 563ms\n"
     ]
    },
    {
     "name": "stderr",
     "output_type": "stream",
     "text": [
      "[I 2023-06-07 20:12:33,594] Trial 10 finished with value: 0.04360800310706779 and parameters: {'objective': 'RMSE', 'colsample_bylevel': 0.010030108200589447, 'depth': 9, 'boosting_type': 'Ordered', 'bootstrap_type': 'Bayesian', 'bagging_temperature': 9.78908269016841}. Best is trial 0 with value: 0.0349815838846568.\n"
     ]
    },
    {
     "name": "stdout",
     "output_type": "stream",
     "text": [
      "999:\tlearn: 0.0380534\ttest: 0.0275655\tbest: 0.0275454 (947)\ttotal: 1.14s\tremaining: 0us\n",
      "\n",
      "bestTest = 0.02754540111\n",
      "bestIteration = 947\n",
      "\n",
      "Shrink model to first 948 iterations.\n",
      "('Catboost', 0.04360800310706779, 0.03599348457717497, 0.31137453609701204)\n",
      "Learning rate set to 0.032991\n",
      "0:\tlearn: 0.0478574\ttest: 0.0372229\tbest: 0.0372229 (0)\ttotal: 205us\tremaining: 206ms\n"
     ]
    },
    {
     "name": "stderr",
     "output_type": "stream",
     "text": [
      "C:\\Users\\Bayu Adjie Sidharta\\AppData\\Local\\Temp\\ipykernel_32688\\3008741279.py:33: ExperimentalWarning: CatBoostPruningCallback is experimental (supported from v3.0.0). The interface can change in the future.\n",
      "  pruning_callback = optuna.integration.CatBoostPruningCallback(trial, \"RMSE\")\n",
      "[I 2023-06-07 20:12:34,086] Trial 11 finished with value: 0.04844227042657443 and parameters: {'objective': 'RMSE', 'colsample_bylevel': 0.03392717641182594, 'depth': 4, 'boosting_type': 'Plain', 'bootstrap_type': 'Bernoulli', 'subsample': 0.9584768917996317}. Best is trial 0 with value: 0.0349815838846568.\n",
      "C:\\Users\\Bayu Adjie Sidharta\\AppData\\Local\\Temp\\ipykernel_32688\\3008741279.py:33: ExperimentalWarning: CatBoostPruningCallback is experimental (supported from v3.0.0). The interface can change in the future.\n",
      "  pruning_callback = optuna.integration.CatBoostPruningCallback(trial, \"RMSE\")\n",
      "[I 2023-06-07 20:12:34,168] Trial 12 pruned. Trial was pruned at iteration 10.\n"
     ]
    },
    {
     "name": "stdout",
     "output_type": "stream",
     "text": [
      "Stopped by overfitting detector  (100 iterations wait)\n",
      "\n",
      "bestTest = 0.03182696143\n",
      "bestIteration = 173\n",
      "\n",
      "Shrink model to first 174 iterations.\n",
      "('Catboost', 0.04844227042657443, 0.04088448850762006, 0.28941534242537015)\n",
      "Learning rate set to 0.032991\n",
      "0:\tlearn: 0.0483076\ttest: 0.0534578\tbest: 0.0534578 (0)\ttotal: 329us\tremaining: 330ms\n",
      "\n",
      "bestTest = 0.05267083322\n",
      "bestIteration = 10\n",
      "\n",
      "Shrink model to first 11 iterations.\n",
      "Learning rate set to 0.032991\n",
      "0:\tlearn: 0.0476253\ttest: 0.0488992\tbest: 0.0488992 (0)\ttotal: 1.85ms\tremaining: 1.85s\n",
      "\n",
      "bestTest = 0.0479902286\n",
      "bestIteration = 10\n",
      "\n",
      "Shrink model to first 11 iterations.\n"
     ]
    },
    {
     "name": "stderr",
     "output_type": "stream",
     "text": [
      "[I 2023-06-07 20:12:34,265] Trial 13 pruned. Trial was pruned at iteration 10.\n",
      "[I 2023-06-07 20:12:34,358] Trial 14 pruned. Trial was pruned at iteration 10.\n",
      "[I 2023-06-07 20:12:34,439] Trial 15 pruned. Trial was pruned at iteration 10.\n"
     ]
    },
    {
     "name": "stdout",
     "output_type": "stream",
     "text": [
      "Learning rate set to 0.032991\n",
      "0:\tlearn: 0.0461547\ttest: 0.0531790\tbest: 0.0531790 (0)\ttotal: 1.02ms\tremaining: 1.02s\n",
      "\n",
      "bestTest = 0.05149391879\n",
      "bestIteration = 10\n",
      "\n",
      "Shrink model to first 11 iterations.\n",
      "Learning rate set to 0.032991\n",
      "0:\tlearn: 0.0452820\ttest: 0.0572792\tbest: 0.0572792 (0)\ttotal: 756us\tremaining: 755ms\n",
      "\n",
      "bestTest = 0.0551351239\n",
      "bestIteration = 10\n",
      "\n",
      "Shrink model to first 11 iterations.\n",
      "Learning rate set to 0.032991\n",
      "0:\tlearn: 0.0531153\ttest: 0.0449271\tbest: 0.0449271 (0)\ttotal: 201us\tremaining: 202ms\n",
      "\n",
      "bestTest = 0.04473025802\n",
      "bestIteration = 9\n",
      "\n",
      "Shrink model to first 10 iterations.\n"
     ]
    },
    {
     "name": "stderr",
     "output_type": "stream",
     "text": [
      "[I 2023-06-07 20:12:34,525] Trial 16 pruned. Trial was pruned at iteration 10.\n",
      "[I 2023-06-07 20:12:34,621] Trial 17 pruned. Trial was pruned at iteration 10.\n",
      "[I 2023-06-07 20:12:34,701] Trial 18 pruned. Trial was pruned at iteration 10.\n"
     ]
    },
    {
     "name": "stdout",
     "output_type": "stream",
     "text": [
      "Learning rate set to 0.032991\n",
      "0:\tlearn: 0.0478897\ttest: 0.0467908\tbest: 0.0467908 (0)\ttotal: 1.27ms\tremaining: 1.27s\n",
      "\n",
      "bestTest = 0.04627975821\n",
      "bestIteration = 10\n",
      "\n",
      "Shrink model to first 11 iterations.\n",
      "Learning rate set to 0.032991\n",
      "0:\tlearn: 0.0476088\ttest: 0.0537500\tbest: 0.0537500 (0)\ttotal: 400us\tremaining: 400ms\n",
      "\n",
      "bestTest = 0.05232895633\n",
      "bestIteration = 10\n",
      "\n",
      "Shrink model to first 11 iterations.\n",
      "Learning rate set to 0.032991\n",
      "0:\tlearn: 0.0457582\ttest: 0.0538639\tbest: 0.0538639 (0)\ttotal: 1.18ms\tremaining: 1.18s\n",
      "\n",
      "bestTest = 0.05305792277\n",
      "bestIteration = 10\n",
      "\n",
      "Shrink model to first 11 iterations.\n"
     ]
    },
    {
     "name": "stderr",
     "output_type": "stream",
     "text": [
      "[I 2023-06-07 20:12:34,782] Trial 19 pruned. Trial was pruned at iteration 10.\n",
      "[I 2023-06-07 20:12:34,868] Trial 20 pruned. Trial was pruned at iteration 10.\n"
     ]
    },
    {
     "name": "stdout",
     "output_type": "stream",
     "text": [
      "Learning rate set to 0.032991\n",
      "0:\tlearn: 0.0478581\ttest: 0.0475956\tbest: 0.0475956 (0)\ttotal: 1.18ms\tremaining: 1.18s\n",
      "\n",
      "bestTest = 0.04700926064\n",
      "bestIteration = 5\n",
      "\n",
      "Shrink model to first 6 iterations.\n",
      "Learning rate set to 0.032991\n",
      "0:\tlearn: 0.0502881\ttest: 0.0409247\tbest: 0.0409247 (0)\ttotal: 1.32ms\tremaining: 1.32s\n"
     ]
    },
    {
     "name": "stderr",
     "output_type": "stream",
     "text": [
      "[I 2023-06-07 20:12:35,879] Trial 21 finished with value: 0.0396582090631114 and parameters: {'objective': 'RMSE', 'colsample_bylevel': 0.057397531021142374, 'depth': 8, 'boosting_type': 'Plain', 'bootstrap_type': 'Bernoulli', 'subsample': 0.11222986138789078}. Best is trial 0 with value: 0.0349815838846568.\n",
      "C:\\Users\\Bayu Adjie Sidharta\\AppData\\Local\\Temp\\ipykernel_32688\\3008741279.py:33: ExperimentalWarning: CatBoostPruningCallback is experimental (supported from v3.0.0). The interface can change in the future.\n",
      "  pruning_callback = optuna.integration.CatBoostPruningCallback(trial, \"RMSE\")\n",
      "[I 2023-06-07 20:12:35,960] Trial 22 pruned. Trial was pruned at iteration 10.\n"
     ]
    },
    {
     "name": "stdout",
     "output_type": "stream",
     "text": [
      "Stopped by overfitting detector  (100 iterations wait)\n",
      "\n",
      "bestTest = 0.02940659656\n",
      "bestIteration = 397\n",
      "\n",
      "Shrink model to first 398 iterations.\n",
      "('Catboost', 0.0396582090631114, 0.0322978522868402, 0.2796696758559961)\n",
      "Learning rate set to 0.032991\n",
      "0:\tlearn: 0.0466392\ttest: 0.0546537\tbest: 0.0546537 (0)\ttotal: 628us\tremaining: 628ms\n",
      "\n",
      "bestTest = 0.05312171918\n",
      "bestIteration = 10\n",
      "\n",
      "Shrink model to first 11 iterations.\n",
      "Learning rate set to 0.032991\n",
      "0:\tlearn: 0.0520393\ttest: 0.0356312\tbest: 0.0356312 (0)\ttotal: 893us\tremaining: 893ms\n"
     ]
    },
    {
     "name": "stderr",
     "output_type": "stream",
     "text": [
      "[I 2023-06-07 20:12:36,282] Trial 23 finished with value: 0.03836162733992323 and parameters: {'objective': 'RMSE', 'colsample_bylevel': 0.07738091991236123, 'depth': 6, 'boosting_type': 'Plain', 'bootstrap_type': 'Bernoulli', 'subsample': 0.22584244788266333}. Best is trial 0 with value: 0.0349815838846568.\n",
      "C:\\Users\\Bayu Adjie Sidharta\\AppData\\Local\\Temp\\ipykernel_32688\\3008741279.py:33: ExperimentalWarning: CatBoostPruningCallback is experimental (supported from v3.0.0). The interface can change in the future.\n",
      "  pruning_callback = optuna.integration.CatBoostPruningCallback(trial, \"RMSE\")\n",
      "[I 2023-06-07 20:12:36,396] Trial 24 pruned. Trial was pruned at iteration 10.\n"
     ]
    },
    {
     "name": "stdout",
     "output_type": "stream",
     "text": [
      "Stopped by overfitting detector  (100 iterations wait)\n",
      "\n",
      "bestTest = 0.03181781317\n",
      "bestIteration = 68\n",
      "\n",
      "Shrink model to first 69 iterations.\n",
      "('Catboost', 0.03836162733992323, 0.0312533729194585, 0.33859159341494016)\n",
      "Learning rate set to 0.032991\n",
      "0:\tlearn: 0.0438401\ttest: 0.0567082\tbest: 0.0567082 (0)\ttotal: 6.24ms\tremaining: 6.24s\n",
      "\n",
      "bestTest = 0.0555258163\n",
      "bestIteration = 10\n",
      "\n",
      "Shrink model to first 11 iterations.\n",
      "Learning rate set to 0.032991\n",
      "0:\tlearn: 0.0474724\ttest: 0.0544478\tbest: 0.0544478 (0)\ttotal: 352us\tremaining: 352ms\n",
      "\n",
      "bestTest = 0.053329979\n",
      "bestIteration = 10\n",
      "\n",
      "Shrink model to first 11 iterations.\n"
     ]
    },
    {
     "name": "stderr",
     "output_type": "stream",
     "text": [
      "[I 2023-06-07 20:12:36,476] Trial 25 pruned. Trial was pruned at iteration 10.\n"
     ]
    },
    {
     "name": "stdout",
     "output_type": "stream",
     "text": [
      "Learning rate set to 0.032991\n",
      "0:\tlearn: 0.0477155\ttest: 0.0380940\tbest: 0.0380940 (0)\ttotal: 1.24ms\tremaining: 1.24s\n"
     ]
    },
    {
     "name": "stderr",
     "output_type": "stream",
     "text": [
      "[I 2023-06-07 20:12:37,451] Trial 26 finished with value: 0.04700466708387599 and parameters: {'objective': 'RMSE', 'colsample_bylevel': 0.08164152487810865, 'depth': 8, 'boosting_type': 'Plain', 'bootstrap_type': 'Bernoulli', 'subsample': 0.10133485845120119}. Best is trial 0 with value: 0.0349815838846568.\n",
      "C:\\Users\\Bayu Adjie Sidharta\\AppData\\Local\\Temp\\ipykernel_32688\\3008741279.py:33: ExperimentalWarning: CatBoostPruningCallback is experimental (supported from v3.0.0). The interface can change in the future.\n",
      "  pruning_callback = optuna.integration.CatBoostPruningCallback(trial, \"RMSE\")\n",
      "[I 2023-06-07 20:12:37,526] Trial 27 pruned. Trial was pruned at iteration 10.\n",
      "[I 2023-06-07 20:12:37,611] Trial 28 pruned. Trial was pruned at iteration 10.\n"
     ]
    },
    {
     "name": "stdout",
     "output_type": "stream",
     "text": [
      "Stopped by overfitting detector  (100 iterations wait)\n",
      "\n",
      "bestTest = 0.02698106508\n",
      "bestIteration = 289\n",
      "\n",
      "Shrink model to first 290 iterations.\n",
      "('Catboost', 0.04700466708387599, 0.040251129084795646, 0.29539365679659246)\n",
      "Learning rate set to 0.032991\n",
      "0:\tlearn: 0.0444746\ttest: 0.0401415\tbest: 0.0401415 (0)\ttotal: 585us\tremaining: 585ms\n",
      "\n",
      "bestTest = 0.03955141287\n",
      "bestIteration = 9\n",
      "\n",
      "Shrink model to first 10 iterations.\n",
      "Learning rate set to 0.032991\n",
      "0:\tlearn: 0.0467072\ttest: 0.0499611\tbest: 0.0499611 (0)\ttotal: 1.3ms\tremaining: 1.3s\n",
      "\n",
      "bestTest = 0.04968424318\n",
      "bestIteration = 10\n",
      "\n",
      "Shrink model to first 11 iterations.\n"
     ]
    },
    {
     "name": "stderr",
     "output_type": "stream",
     "text": [
      "[I 2023-06-07 20:12:37,701] Trial 29 pruned. Trial was pruned at iteration 10.\n",
      "[I 2023-06-07 20:12:37,784] Trial 30 pruned. Trial was pruned at iteration 10.\n"
     ]
    },
    {
     "name": "stdout",
     "output_type": "stream",
     "text": [
      "Learning rate set to 0.032991\n",
      "0:\tlearn: 0.0453814\ttest: 0.0553588\tbest: 0.0553588 (0)\ttotal: 361us\tremaining: 361ms\n",
      "\n",
      "bestTest = 0.05423310026\n",
      "bestIteration = 10\n",
      "\n",
      "Shrink model to first 11 iterations.\n",
      "Learning rate set to 0.032991\n",
      "0:\tlearn: 0.0461476\ttest: 0.0574518\tbest: 0.0574518 (0)\ttotal: 1.47ms\tremaining: 1.47s\n",
      "\n",
      "bestTest = 0.0568778674\n",
      "bestIteration = 10\n",
      "\n",
      "Shrink model to first 11 iterations.\n",
      "Learning rate set to 0.032991\n",
      "0:\tlearn: 0.0464233\ttest: 0.0547011\tbest: 0.0547011 (0)\ttotal: 641us\tremaining: 641ms\n",
      "\n",
      "bestTest = 0.05416916069\n",
      "bestIteration = 10\n",
      "\n",
      "Shrink model to first 11 iterations.\n"
     ]
    },
    {
     "name": "stderr",
     "output_type": "stream",
     "text": [
      "[I 2023-06-07 20:12:37,871] Trial 31 pruned. Trial was pruned at iteration 10.\n",
      "[I 2023-06-07 20:12:37,963] Trial 32 pruned. Trial was pruned at iteration 10.\n",
      "[I 2023-06-07 20:12:38,042] Trial 33 pruned. Trial was pruned at iteration 10.\n",
      "[I 2023-06-07 20:12:38,124] Trial 34 pruned. Trial was pruned at iteration 10.\n"
     ]
    },
    {
     "name": "stdout",
     "output_type": "stream",
     "text": [
      "Learning rate set to 0.032991\n",
      "0:\tlearn: 0.0462900\ttest: 0.0420695\tbest: 0.0420695 (0)\ttotal: 670us\tremaining: 670ms\n",
      "\n",
      "bestTest = 0.04125491917\n",
      "bestIteration = 9\n",
      "\n",
      "Shrink model to first 10 iterations.\n",
      "Learning rate set to 0.032991\n",
      "0:\tlearn: 0.0461198\ttest: 0.0527037\tbest: 0.0527037 (0)\ttotal: 972us\tremaining: 972ms\n",
      "\n",
      "bestTest = 0.05046471152\n",
      "bestIteration = 10\n",
      "\n",
      "Shrink model to first 11 iterations.\n",
      "Learning rate set to 0.032991\n",
      "0:\tlearn: 0.0454381\ttest: 0.0536745\tbest: 0.0536745 (0)\ttotal: 448us\tremaining: 449ms\n",
      "\n",
      "bestTest = 0.05187722789\n",
      "bestIteration = 10\n",
      "\n",
      "Shrink model to first 11 iterations.\n"
     ]
    },
    {
     "name": "stderr",
     "output_type": "stream",
     "text": [
      "[I 2023-06-07 20:12:38,211] Trial 35 pruned. Trial was pruned at iteration 10.\n",
      "[I 2023-06-07 20:12:38,287] Trial 36 pruned. Trial was pruned at iteration 10.\n"
     ]
    },
    {
     "name": "stdout",
     "output_type": "stream",
     "text": [
      "Learning rate set to 0.032991\n",
      "0:\tlearn: 0.0511379\ttest: 0.0483350\tbest: 0.0483350 (0)\ttotal: 1.55ms\tremaining: 1.55s\n",
      "\n",
      "bestTest = 0.04642114225\n",
      "bestIteration = 10\n",
      "\n",
      "Shrink model to first 11 iterations.\n",
      "Learning rate set to 0.032991\n",
      "0:\tlearn: 0.0438926\ttest: 0.0578705\tbest: 0.0578705 (0)\ttotal: 368us\tremaining: 368ms\n",
      "\n",
      "bestTest = 0.05609147293\n",
      "bestIteration = 10\n",
      "\n",
      "Shrink model to first 11 iterations.\n",
      "Learning rate set to 0.032991\n",
      "0:\tlearn: 0.0475684\ttest: 0.0468506\tbest: 0.0468506 (0)\ttotal: 1.67ms\tremaining: 1.67s\n",
      "\n",
      "bestTest = 0.0464574213\n",
      "bestIteration = 6\n",
      "\n",
      "Shrink model to first 7 iterations.\n"
     ]
    },
    {
     "name": "stderr",
     "output_type": "stream",
     "text": [
      "[I 2023-06-07 20:12:38,385] Trial 37 pruned. Trial was pruned at iteration 10.\n",
      "[I 2023-06-07 20:12:38,469] Trial 38 pruned. Trial was pruned at iteration 10.\n",
      "[I 2023-06-07 20:12:38,632] Trial 39 pruned. Trial was pruned at iteration 10.\n"
     ]
    },
    {
     "name": "stdout",
     "output_type": "stream",
     "text": [
      "Learning rate set to 0.032991\n",
      "0:\tlearn: 0.0496466\ttest: 0.0525855\tbest: 0.0525855 (0)\ttotal: 241us\tremaining: 241ms\n",
      "\n",
      "bestTest = 0.05165678014\n",
      "bestIteration = 10\n",
      "\n",
      "Shrink model to first 11 iterations.\n",
      "Learning rate set to 0.032991\n",
      "0:\tlearn: 0.0503021\ttest: 0.0462733\tbest: 0.0462733 (0)\ttotal: 1.62ms\tremaining: 1.62s\n",
      "\n",
      "bestTest = 0.04509384852\n",
      "bestIteration = 9\n",
      "\n",
      "Shrink model to first 10 iterations.\n"
     ]
    },
    {
     "name": "stderr",
     "output_type": "stream",
     "text": [
      "[I 2023-06-07 20:12:38,720] Trial 40 pruned. Trial was pruned at iteration 10.\n",
      "[I 2023-06-07 20:12:38,801] Trial 41 pruned. Trial was pruned at iteration 10.\n",
      "[I 2023-06-07 20:12:38,879] Trial 42 pruned. Trial was pruned at iteration 10.\n"
     ]
    },
    {
     "name": "stdout",
     "output_type": "stream",
     "text": [
      "Learning rate set to 0.032991\n",
      "0:\tlearn: 0.0524591\ttest: 0.0410299\tbest: 0.0410299 (0)\ttotal: 438us\tremaining: 438ms\n",
      "\n",
      "bestTest = 0.03987282144\n",
      "bestIteration = 10\n",
      "\n",
      "Shrink model to first 11 iterations.\n",
      "Learning rate set to 0.032991\n",
      "0:\tlearn: 0.0427220\ttest: 0.0619425\tbest: 0.0619425 (0)\ttotal: 1.15ms\tremaining: 1.15s\n",
      "\n",
      "bestTest = 0.06056973567\n",
      "bestIteration = 10\n",
      "\n",
      "Shrink model to first 11 iterations.\n",
      "Learning rate set to 0.032991\n",
      "0:\tlearn: 0.0483920\ttest: 0.0504315\tbest: 0.0504315 (0)\ttotal: 990us\tremaining: 989ms\n",
      "\n",
      "bestTest = 0.04987332523\n",
      "bestIteration = 7\n",
      "\n",
      "Shrink model to first 8 iterations.\n"
     ]
    },
    {
     "name": "stderr",
     "output_type": "stream",
     "text": [
      "[I 2023-06-07 20:12:38,958] Trial 43 pruned. Trial was pruned at iteration 10.\n",
      "[I 2023-06-07 20:12:39,058] Trial 44 pruned. Trial was pruned at iteration 10.\n"
     ]
    },
    {
     "name": "stdout",
     "output_type": "stream",
     "text": [
      "Learning rate set to 0.032991\n",
      "0:\tlearn: 0.0475150\ttest: 0.0446491\tbest: 0.0446491 (0)\ttotal: 1.03ms\tremaining: 1.02s\n",
      "\n",
      "bestTest = 0.04404327933\n",
      "bestIteration = 10\n",
      "\n",
      "Shrink model to first 11 iterations.\n",
      "Learning rate set to 0.032991\n",
      "0:\tlearn: 0.0470371\ttest: 0.0579650\tbest: 0.0579650 (0)\ttotal: 8.68ms\tremaining: 8.67s\n",
      "\n",
      "bestTest = 0.05599304994\n",
      "bestIteration = 10\n",
      "\n",
      "Shrink model to first 11 iterations.\n",
      "Learning rate set to 0.032991\n",
      "0:\tlearn: 0.0503105\ttest: 0.0446896\tbest: 0.0446896 (0)\ttotal: 3.66ms\tremaining: 3.66s\n",
      "\n",
      "bestTest = 0.04297843434\n",
      "bestIteration = 10\n",
      "\n",
      "Shrink model to first 11 iterations.\n"
     ]
    },
    {
     "name": "stderr",
     "output_type": "stream",
     "text": [
      "[I 2023-06-07 20:12:39,147] Trial 45 pruned. Trial was pruned at iteration 10.\n",
      "[I 2023-06-07 20:12:39,276] Trial 46 pruned. Trial was pruned at iteration 10.\n",
      "[I 2023-06-07 20:12:39,388] Trial 47 pruned. Trial was pruned at iteration 10.\n"
     ]
    },
    {
     "name": "stdout",
     "output_type": "stream",
     "text": [
      "Learning rate set to 0.032991\n",
      "0:\tlearn: 0.0500081\ttest: 0.0484142\tbest: 0.0484142 (0)\ttotal: 283us\tremaining: 283ms\n",
      "\n",
      "bestTest = 0.04690199482\n",
      "bestIteration = 10\n",
      "\n",
      "Shrink model to first 11 iterations.\n",
      "Learning rate set to 0.032991\n",
      "0:\tlearn: 0.0460342\ttest: 0.0501320\tbest: 0.0501320 (0)\ttotal: 1.39ms\tremaining: 1.39s\n",
      "\n",
      "bestTest = 0.05013202507\n",
      "bestIteration = 0\n",
      "\n",
      "Shrink model to first 1 iterations.\n"
     ]
    },
    {
     "name": "stderr",
     "output_type": "stream",
     "text": [
      "[I 2023-06-07 20:12:39,487] Trial 48 pruned. Trial was pruned at iteration 10.\n",
      "[I 2023-06-07 20:12:39,583] Trial 49 pruned. Trial was pruned at iteration 10.\n"
     ]
    },
    {
     "name": "stdout",
     "output_type": "stream",
     "text": [
      "Learning rate set to 0.032991\n",
      "0:\tlearn: 0.0459838\ttest: 0.0449124\tbest: 0.0449124 (0)\ttotal: 1.69ms\tremaining: 1.69s\n",
      "\n",
      "bestTest = 0.04400755445\n",
      "bestIteration = 10\n",
      "\n",
      "Shrink model to first 11 iterations.\n",
      "Learning rate set to 0.032991\n",
      "0:\tlearn: 0.0464328\ttest: 0.0416491\tbest: 0.0416491 (0)\ttotal: 1.4ms\tremaining: 1.39s\n",
      "\n",
      "bestTest = 0.04102396081\n",
      "bestIteration = 10\n",
      "\n",
      "Shrink model to first 11 iterations.\n",
      "Learning rate set to 0.032991\n",
      "0:\tlearn: 0.0509954\ttest: 0.0484312\tbest: 0.0484312 (0)\ttotal: 219us\tremaining: 219ms\n",
      "\n",
      "bestTest = 0.04815545572\n",
      "bestIteration = 8\n",
      "\n",
      "Shrink model to first 9 iterations.\n"
     ]
    },
    {
     "name": "stderr",
     "output_type": "stream",
     "text": [
      "[I 2023-06-07 20:12:39,664] Trial 50 pruned. Trial was pruned at iteration 10.\n",
      "[I 2023-06-07 20:12:39,841] Trial 51 pruned. Trial was pruned at iteration 10.\n",
      "[I 2023-06-07 20:12:39,947] Trial 52 pruned. Trial was pruned at iteration 10.\n"
     ]
    },
    {
     "name": "stdout",
     "output_type": "stream",
     "text": [
      "Learning rate set to 0.032991\n",
      "0:\tlearn: 0.0474305\ttest: 0.0445943\tbest: 0.0445943 (0)\ttotal: 1.05ms\tremaining: 1.05s\n",
      "\n",
      "bestTest = 0.04441180918\n",
      "bestIteration = 1\n",
      "\n",
      "Shrink model to first 2 iterations.\n",
      "Learning rate set to 0.032991\n",
      "0:\tlearn: 0.0480304\ttest: 0.0520633\tbest: 0.0520633 (0)\ttotal: 1.13ms\tremaining: 1.13s\n",
      "\n",
      "bestTest = 0.0518790217\n",
      "bestIteration = 1\n",
      "\n",
      "Shrink model to first 2 iterations.\n",
      "Learning rate set to 0.032991\n",
      "0:\tlearn: 0.0461770\ttest: 0.0493212\tbest: 0.0493212 (0)\ttotal: 1.11ms\tremaining: 1.11s\n"
     ]
    },
    {
     "name": "stderr",
     "output_type": "stream",
     "text": [
      "[I 2023-06-07 20:12:40,046] Trial 53 pruned. Trial was pruned at iteration 10.\n"
     ]
    },
    {
     "name": "stdout",
     "output_type": "stream",
     "text": [
      "\n",
      "bestTest = 0.04905261893\n",
      "bestIteration = 10\n",
      "\n",
      "Shrink model to first 11 iterations.\n",
      "Learning rate set to 0.032991\n",
      "0:\tlearn: 0.0417127\ttest: 0.0534972\tbest: 0.0534972 (0)\ttotal: 1.13ms\tremaining: 1.13s\n",
      "\n",
      "bestTest = 0.05331546882\n",
      "bestIteration = 10\n",
      "\n",
      "Shrink model to first 11 iterations.\n"
     ]
    },
    {
     "name": "stderr",
     "output_type": "stream",
     "text": [
      "[I 2023-06-07 20:12:40,217] Trial 54 pruned. Trial was pruned at iteration 10.\n",
      "[I 2023-06-07 20:12:40,319] Trial 55 pruned. Trial was pruned at iteration 10.\n",
      "[I 2023-06-07 20:12:40,416] Trial 56 pruned. Trial was pruned at iteration 10.\n"
     ]
    },
    {
     "name": "stdout",
     "output_type": "stream",
     "text": [
      "Learning rate set to 0.032991\n",
      "0:\tlearn: 0.0484878\ttest: 0.0526167\tbest: 0.0526167 (0)\ttotal: 1.25ms\tremaining: 1.25s\n",
      "\n",
      "bestTest = 0.05250378461\n",
      "bestIteration = 9\n",
      "\n",
      "Shrink model to first 10 iterations.\n",
      "Learning rate set to 0.032991\n",
      "0:\tlearn: 0.0481628\ttest: 0.0495363\tbest: 0.0495363 (0)\ttotal: 1.06ms\tremaining: 1.05s\n",
      "\n",
      "bestTest = 0.0487197676\n",
      "bestIteration = 10\n",
      "\n",
      "Shrink model to first 11 iterations.\n",
      "Learning rate set to 0.032991\n",
      "0:\tlearn: 0.0465198\ttest: 0.0570077\tbest: 0.0570077 (0)\ttotal: 342us\tremaining: 343ms\n",
      "\n",
      "bestTest = 0.05653678911\n",
      "bestIteration = 10\n",
      "\n",
      "Shrink model to first 11 iterations.\n"
     ]
    },
    {
     "name": "stderr",
     "output_type": "stream",
     "text": [
      "[I 2023-06-07 20:12:40,485] Trial 57 pruned. Trial was pruned at iteration 10.\n",
      "[I 2023-06-07 20:12:40,616] Trial 58 pruned. Trial was pruned at iteration 10.\n",
      "[I 2023-06-07 20:12:40,730] Trial 59 pruned. Trial was pruned at iteration 10.\n"
     ]
    },
    {
     "name": "stdout",
     "output_type": "stream",
     "text": [
      "Learning rate set to 0.032991\n",
      "0:\tlearn: 0.0407455\ttest: 0.0490472\tbest: 0.0490472 (0)\ttotal: 1.05ms\tremaining: 1.05s\n",
      "\n",
      "bestTest = 0.04843768608\n",
      "bestIteration = 10\n",
      "\n",
      "Shrink model to first 11 iterations.\n",
      "Learning rate set to 0.032991\n",
      "0:\tlearn: 0.0490703\ttest: 0.0476530\tbest: 0.0476530 (0)\ttotal: 2.09ms\tremaining: 2.09s\n",
      "\n",
      "bestTest = 0.04659504631\n",
      "bestIteration = 10\n",
      "\n",
      "Shrink model to first 11 iterations.\n"
     ]
    },
    {
     "name": "stderr",
     "output_type": "stream",
     "text": [
      "[I 2023-06-07 20:12:40,828] Trial 60 pruned. Trial was pruned at iteration 10.\n"
     ]
    },
    {
     "name": "stdout",
     "output_type": "stream",
     "text": [
      "Learning rate set to 0.032991\n",
      "0:\tlearn: 0.0456460\ttest: 0.0524873\tbest: 0.0524873 (0)\ttotal: 372us\tremaining: 372ms\n",
      "\n",
      "bestTest = 0.05204342687\n",
      "bestIteration = 5\n",
      "\n",
      "Shrink model to first 6 iterations.\n",
      "Learning rate set to 0.032991\n",
      "0:\tlearn: 0.0487313\ttest: 0.0394733\tbest: 0.0394733 (0)\ttotal: 228us\tremaining: 228ms\n",
      "\n",
      "bestTest = 0.03930256227\n",
      "bestIteration = 10\n",
      "\n",
      "Shrink model to first 11 iterations.\n"
     ]
    },
    {
     "name": "stderr",
     "output_type": "stream",
     "text": [
      "[I 2023-06-07 20:12:40,979] Trial 61 pruned. Trial was pruned at iteration 11.\n",
      "[I 2023-06-07 20:12:41,079] Trial 62 pruned. Trial was pruned at iteration 10.\n",
      "[I 2023-06-07 20:12:41,182] Trial 63 pruned. Trial was pruned at iteration 10.\n"
     ]
    },
    {
     "name": "stdout",
     "output_type": "stream",
     "text": [
      "Learning rate set to 0.032991\n",
      "0:\tlearn: 0.0479399\ttest: 0.0555871\tbest: 0.0555871 (0)\ttotal: 290us\tremaining: 290ms\n",
      "\n",
      "bestTest = 0.05471183262\n",
      "bestIteration = 9\n",
      "\n",
      "Shrink model to first 10 iterations.\n",
      "Learning rate set to 0.032991\n",
      "0:\tlearn: 0.0474174\ttest: 0.0513706\tbest: 0.0513706 (0)\ttotal: 302us\tremaining: 302ms\n",
      "\n",
      "bestTest = 0.05079864414\n",
      "bestIteration = 8\n",
      "\n",
      "Shrink model to first 9 iterations.\n"
     ]
    },
    {
     "name": "stderr",
     "output_type": "stream",
     "text": [
      "[I 2023-06-07 20:12:41,295] Trial 64 pruned. Trial was pruned at iteration 10.\n",
      "[I 2023-06-07 20:12:41,438] Trial 65 pruned. Trial was pruned at iteration 10.\n"
     ]
    },
    {
     "name": "stdout",
     "output_type": "stream",
     "text": [
      "Learning rate set to 0.032991\n",
      "0:\tlearn: 0.0514668\ttest: 0.0461336\tbest: 0.0461336 (0)\ttotal: 198us\tremaining: 198ms\n",
      "\n",
      "bestTest = 0.04560184939\n",
      "bestIteration = 9\n",
      "\n",
      "Shrink model to first 10 iterations.\n",
      "Learning rate set to 0.032991\n",
      "0:\tlearn: 0.0484616\ttest: 0.0581208\tbest: 0.0581208 (0)\ttotal: 271us\tremaining: 272ms\n",
      "\n",
      "bestTest = 0.05750726435\n",
      "bestIteration = 10\n",
      "\n",
      "Shrink model to first 11 iterations.\n"
     ]
    },
    {
     "name": "stderr",
     "output_type": "stream",
     "text": [
      "[I 2023-06-07 20:12:41,531] Trial 66 pruned. Trial was pruned at iteration 10.\n",
      "[I 2023-06-07 20:12:41,610] Trial 67 pruned. Trial was pruned at iteration 10.\n"
     ]
    },
    {
     "name": "stdout",
     "output_type": "stream",
     "text": [
      "Learning rate set to 0.032991\n",
      "0:\tlearn: 0.0417817\ttest: 0.0604238\tbest: 0.0604238 (0)\ttotal: 839us\tremaining: 839ms\n",
      "\n",
      "bestTest = 0.05979981016\n",
      "bestIteration = 9\n",
      "\n",
      "Shrink model to first 10 iterations.\n",
      "Learning rate set to 0.032991\n",
      "0:\tlearn: 0.0498787\ttest: 0.0473253\tbest: 0.0473253 (0)\ttotal: 377us\tremaining: 378ms\n",
      "\n",
      "bestTest = 0.04609565421\n",
      "bestIteration = 10\n",
      "\n",
      "Shrink model to first 11 iterations.\n",
      "Learning rate set to 0.032991\n",
      "0:\tlearn: 0.0510448\ttest: 0.0475900\tbest: 0.0475900 (0)\ttotal: 5.55ms\tremaining: 5.54s\n",
      "\n",
      "bestTest = 0.04602495822\n",
      "bestIteration = 10\n",
      "\n",
      "Shrink model to first 11 iterations."
     ]
    },
    {
     "name": "stderr",
     "output_type": "stream",
     "text": [
      "[I 2023-06-07 20:12:41,727] Trial 68 pruned. Trial was pruned at iteration 10.\n",
      "[I 2023-06-07 20:12:41,824] Trial 69 pruned. Trial was pruned at iteration 10.\n"
     ]
    },
    {
     "name": "stdout",
     "output_type": "stream",
     "text": [
      "\n",
      "Learning rate set to 0.032991\n",
      "0:\tlearn: 0.0471878\ttest: 0.0491362\tbest: 0.0491362 (0)\ttotal: 366us\tremaining: 366ms\n",
      "\n",
      "bestTest = 0.04748541472\n",
      "bestIteration = 10\n",
      "\n",
      "Shrink model to first 11 iterations.\n",
      "Learning rate set to 0.032991\n",
      "0:\tlearn: 0.0485965\ttest: 0.0455023\tbest: 0.0455023 (0)\ttotal: 1.5ms\tremaining: 1.5s\n",
      "\n",
      "bestTest = 0.04435168293\n",
      "bestIteration = 10\n",
      "\n",
      "Shrink model to first 11 iterations.\n"
     ]
    },
    {
     "name": "stderr",
     "output_type": "stream",
     "text": [
      "[I 2023-06-07 20:12:41,925] Trial 70 pruned. Trial was pruned at iteration 10.\n",
      "[I 2023-06-07 20:12:42,047] Trial 71 pruned. Trial was pruned at iteration 10.\n",
      "[I 2023-06-07 20:12:42,156] Trial 72 pruned. Trial was pruned at iteration 10.\n"
     ]
    },
    {
     "name": "stdout",
     "output_type": "stream",
     "text": [
      "Learning rate set to 0.032991\n",
      "0:\tlearn: 0.0503524\ttest: 0.0406909\tbest: 0.0406909 (0)\ttotal: 6.47ms\tremaining: 6.47s\n",
      "\n",
      "bestTest = 0.04016717166\n",
      "bestIteration = 10\n",
      "\n",
      "Shrink model to first 11 iterations.\n",
      "Learning rate set to 0.032991\n",
      "0:\tlearn: 0.0500717\ttest: 0.0524927\tbest: 0.0524927 (0)\ttotal: 1.09ms\tremaining: 1.09s\n",
      "\n",
      "bestTest = 0.05036540114\n",
      "bestIteration = 10\n",
      "\n",
      "Shrink model to first 11 iterations.\n"
     ]
    },
    {
     "name": "stderr",
     "output_type": "stream",
     "text": [
      "[I 2023-06-07 20:12:42,256] Trial 73 pruned. Trial was pruned at iteration 10.\n"
     ]
    },
    {
     "name": "stdout",
     "output_type": "stream",
     "text": [
      "Learning rate set to 0.032991\n",
      "0:\tlearn: 0.0488212\ttest: 0.0510611\tbest: 0.0510611 (0)\ttotal: 3.24ms\tremaining: 3.23s\n",
      "\n",
      "bestTest = 0.04955884844\n",
      "bestIteration = 9\n",
      "\n",
      "Shrink model to first 10 iterations.\n",
      "Learning rate set to 0.032991\n",
      "0:\tlearn: 0.0492519\ttest: 0.0502191\tbest: 0.0502191 (0)\ttotal: 26.9ms\tremaining: 26.9s\n",
      "\n",
      "bestTest = 0.0488072109\n",
      "bestIteration = 10\n",
      "\n",
      "Shrink model to first 11 iterations.\n"
     ]
    },
    {
     "name": "stderr",
     "output_type": "stream",
     "text": [
      "[I 2023-06-07 20:12:42,426] Trial 74 pruned. Trial was pruned at iteration 10.\n",
      "[I 2023-06-07 20:12:42,522] Trial 75 pruned. Trial was pruned at iteration 10.\n",
      "[I 2023-06-07 20:12:42,604] Trial 76 pruned. Trial was pruned at iteration 10.\n"
     ]
    },
    {
     "name": "stdout",
     "output_type": "stream",
     "text": [
      "Learning rate set to 0.032991\n",
      "0:\tlearn: 0.0490901\ttest: 0.0477631\tbest: 0.0477631 (0)\ttotal: 1.37ms\tremaining: 1.37s\n",
      "\n",
      "bestTest = 0.0466480775\n",
      "bestIteration = 8\n",
      "\n",
      "Shrink model to first 9 iterations.\n",
      "Learning rate set to 0.032991\n",
      "0:\tlearn: 0.0477469\ttest: 0.0513898\tbest: 0.0513898 (0)\ttotal: 950us\tremaining: 949ms\n",
      "\n",
      "bestTest = 0.05010264031\n",
      "bestIteration = 10\n",
      "\n",
      "Shrink model to first 11 iterations.\n",
      "Learning rate set to 0.032991\n",
      "0:\tlearn: 0.0485591\ttest: 0.0439271\tbest: 0.0439271 (0)\ttotal: 1.12ms\tremaining: 1.12s\n"
     ]
    },
    {
     "name": "stderr",
     "output_type": "stream",
     "text": [
      "[I 2023-06-07 20:12:42,757] Trial 77 pruned. Trial was pruned at iteration 10.\n",
      "[I 2023-06-07 20:12:42,847] Trial 78 pruned. Trial was pruned at iteration 11.\n"
     ]
    },
    {
     "name": "stdout",
     "output_type": "stream",
     "text": [
      "\n",
      "bestTest = 0.04299852985\n",
      "bestIteration = 10\n",
      "\n",
      "Shrink model to first 11 iterations.\n",
      "Learning rate set to 0.032991\n",
      "0:\tlearn: 0.0466569\ttest: 0.0392576\tbest: 0.0392576 (0)\ttotal: 421us\tremaining: 421ms\n",
      "\n",
      "bestTest = 0.03924141175\n",
      "bestIteration = 3\n",
      "\n",
      "Shrink model to first 4 iterations.\n",
      "Learning rate set to 0.032991\n",
      "0:\tlearn: 0.0480066\ttest: 0.0485107\tbest: 0.0485107 (0)\ttotal: 168us\tremaining: 168ms\n",
      "\n",
      "bestTest = 0.04807150445\n",
      "bestIteration = 8\n",
      "\n",
      "Shrink model to first 9 iterations.\n"
     ]
    },
    {
     "name": "stderr",
     "output_type": "stream",
     "text": [
      "[I 2023-06-07 20:12:42,931] Trial 79 pruned. Trial was pruned at iteration 10.\n",
      "[I 2023-06-07 20:12:43,031] Trial 80 pruned. Trial was pruned at iteration 10.\n",
      "[I 2023-06-07 20:12:43,119] Trial 81 pruned. Trial was pruned at iteration 10.\n"
     ]
    },
    {
     "name": "stdout",
     "output_type": "stream",
     "text": [
      "Learning rate set to 0.032991\n",
      "0:\tlearn: 0.0465758\ttest: 0.0499485\tbest: 0.0499485 (0)\ttotal: 1.63ms\tremaining: 1.63s\n",
      "\n",
      "bestTest = 0.04848975397\n",
      "bestIteration = 10\n",
      "\n",
      "Shrink model to first 11 iterations.\n",
      "Learning rate set to 0.032991\n",
      "0:\tlearn: 0.0446563\ttest: 0.0566436\tbest: 0.0566436 (0)\ttotal: 1.46ms\tremaining: 1.46s\n",
      "\n",
      "bestTest = 0.05559359168\n",
      "bestIteration = 10\n",
      "\n",
      "Shrink model to first 11 iterations.\n",
      "Learning rate set to 0.032991\n",
      "0:\tlearn: 0.0506921\ttest: 0.0510611\tbest: 0.0510611 (0)\ttotal: 1.49ms\tremaining: 1.48s\n",
      "\n",
      "bestTest = 0.04935238772\n",
      "bestIteration = 10\n",
      "\n",
      "Shrink model to first 11 iterations.\n"
     ]
    },
    {
     "name": "stderr",
     "output_type": "stream",
     "text": [
      "[I 2023-06-07 20:12:43,205] Trial 82 pruned. Trial was pruned at iteration 10.\n",
      "[I 2023-06-07 20:12:43,325] Trial 83 pruned. Trial was pruned at iteration 10.\n",
      "[I 2023-06-07 20:12:43,434] Trial 84 pruned. Trial was pruned at iteration 10.\n"
     ]
    },
    {
     "name": "stdout",
     "output_type": "stream",
     "text": [
      "Learning rate set to 0.032991\n",
      "0:\tlearn: 0.0436733\ttest: 0.0542942\tbest: 0.0542942 (0)\ttotal: 1.91ms\tremaining: 1.91s\n",
      "\n",
      "bestTest = 0.05272644584\n",
      "bestIteration = 10\n",
      "\n",
      "Shrink model to first 11 iterations.\n",
      "Learning rate set to 0.032991\n",
      "0:\tlearn: 0.0483904\ttest: 0.0443952\tbest: 0.0443952 (0)\ttotal: 984us\tremaining: 984ms\n",
      "\n",
      "bestTest = 0.04438820591\n",
      "bestIteration = 1\n",
      "\n",
      "Shrink model to first 2 iterations.\n"
     ]
    },
    {
     "name": "stderr",
     "output_type": "stream",
     "text": [
      "[I 2023-06-07 20:12:43,524] Trial 85 pruned. Trial was pruned at iteration 10.\n",
      "[I 2023-06-07 20:12:43,608] Trial 86 pruned. Trial was pruned at iteration 10.\n"
     ]
    },
    {
     "name": "stdout",
     "output_type": "stream",
     "text": [
      "Learning rate set to 0.032991\n",
      "0:\tlearn: 0.0511436\ttest: 0.0422791\tbest: 0.0422791 (0)\ttotal: 1.64ms\tremaining: 1.64s\n",
      "\n",
      "bestTest = 0.04209845139\n",
      "bestIteration = 5\n",
      "\n",
      "Shrink model to first 6 iterations.\n",
      "Learning rate set to 0.032991\n",
      "0:\tlearn: 0.0482756\ttest: 0.0535584\tbest: 0.0535584 (0)\ttotal: 944us\tremaining: 943ms\n",
      "\n",
      "bestTest = 0.05184416892\n",
      "bestIteration = 10\n",
      "\n",
      "Shrink model to first 11 iterations.\n",
      "Learning rate set to 0.032991\n",
      "0:\tlearn: 0.0488914\ttest: 0.0383588\tbest: 0.0383588 (0)\ttotal: 5.11ms\tremaining: 5.11s\n"
     ]
    },
    {
     "name": "stderr",
     "output_type": "stream",
     "text": [
      "[I 2023-06-07 20:12:44,718] Trial 87 pruned. Trial was pruned at iteration 235.\n",
      "[I 2023-06-07 20:12:44,824] Trial 88 pruned. Trial was pruned at iteration 10.\n"
     ]
    },
    {
     "name": "stdout",
     "output_type": "stream",
     "text": [
      "\n",
      "bestTest = 0.03274738393\n",
      "bestIteration = 197\n",
      "\n",
      "Shrink model to first 198 iterations.\n",
      "Learning rate set to 0.032991\n",
      "0:\tlearn: 0.0465151\ttest: 0.0400515\tbest: 0.0400515 (0)\ttotal: 1.49ms\tremaining: 1.49s\n",
      "\n",
      "bestTest = 0.03947344675\n",
      "bestIteration = 10\n",
      "\n",
      "Shrink model to first 11 iterations.\n",
      "Learning rate set to 0.032991\n",
      "0:\tlearn: 0.0488029\ttest: 0.0483880\tbest: 0.0483880 (0)\ttotal: 275us\tremaining: 275ms\n",
      "\n",
      "bestTest = 0.04794172178\n",
      "bestIteration = 8\n",
      "\n",
      "Shrink model to first 9 iterations.\n"
     ]
    },
    {
     "name": "stderr",
     "output_type": "stream",
     "text": [
      "[I 2023-06-07 20:12:44,900] Trial 89 pruned. Trial was pruned at iteration 10.\n",
      "[I 2023-06-07 20:12:44,999] Trial 90 pruned. Trial was pruned at iteration 10.\n",
      "[I 2023-06-07 20:12:45,075] Trial 91 pruned. Trial was pruned at iteration 10.\n"
     ]
    },
    {
     "name": "stdout",
     "output_type": "stream",
     "text": [
      "Learning rate set to 0.032991\n",
      "0:\tlearn: 0.0485307\ttest: 0.0510930\tbest: 0.0510930 (0)\ttotal: 1.15ms\tremaining: 1.15s\n",
      "\n",
      "bestTest = 0.05109301689\n",
      "bestIteration = 0\n",
      "\n",
      "Shrink model to first 1 iterations.\n",
      "Learning rate set to 0.032991\n",
      "0:\tlearn: 0.0491136\ttest: 0.0546014\tbest: 0.0546014 (0)\ttotal: 195us\tremaining: 196ms\n",
      "\n",
      "bestTest = 0.05437664606\n",
      "bestIteration = 5\n",
      "\n",
      "Shrink model to first 6 iterations.\n",
      "Learning rate set to 0.032991\n",
      "0:\tlearn: 0.0488832\ttest: 0.0494318\tbest: 0.0494318 (0)\ttotal: 220us\tremaining: 221ms\n",
      "\n",
      "bestTest = 0.04857793028\n",
      "bestIteration = 9\n",
      "\n",
      "Shrink model to first 10 iterations.\n"
     ]
    },
    {
     "name": "stderr",
     "output_type": "stream",
     "text": [
      "[I 2023-06-07 20:12:45,169] Trial 92 pruned. Trial was pruned at iteration 10.\n"
     ]
    },
    {
     "name": "stdout",
     "output_type": "stream",
     "text": [
      "Learning rate set to 0.032991\n",
      "0:\tlearn: 0.0503085\ttest: 0.0315210\tbest: 0.0315210 (0)\ttotal: 244us\tremaining: 244ms\n",
      "500:\tlearn: 0.0361110\ttest: 0.0244420\tbest: 0.0242953 (483)\ttotal: 122ms\tremaining: 121ms\n"
     ]
    },
    {
     "name": "stderr",
     "output_type": "stream",
     "text": [
      "[I 2023-06-07 20:12:46,494] Trial 93 finished with value: 0.04416431334818277 and parameters: {'objective': 'RMSE', 'colsample_bylevel': 0.019371257489827005, 'depth': 2, 'boosting_type': 'Plain', 'bootstrap_type': 'Bernoulli', 'subsample': 0.4044864564659565}. Best is trial 0 with value: 0.0349815838846568.\n",
      "C:\\Users\\Bayu Adjie Sidharta\\AppData\\Local\\Temp\\ipykernel_32688\\3008741279.py:33: ExperimentalWarning: CatBoostPruningCallback is experimental (supported from v3.0.0). The interface can change in the future.\n",
      "  pruning_callback = optuna.integration.CatBoostPruningCallback(trial, \"RMSE\")\n",
      "[I 2023-06-07 20:12:46,583] Trial 94 pruned. Trial was pruned at iteration 10.\n"
     ]
    },
    {
     "name": "stdout",
     "output_type": "stream",
     "text": [
      "Stopped by overfitting detector  (100 iterations wait)\n",
      "\n",
      "bestTest = 0.02427514856\n",
      "bestIteration = 541\n",
      "\n",
      "Shrink model to first 542 iterations.\n",
      "('Catboost', 0.04416431334818277, 0.03544916439497689, 0.35909972571587734)\n",
      "Learning rate set to 0.032991\n",
      "0:\tlearn: 0.0511224\ttest: 0.0486495\tbest: 0.0486495 (0)\ttotal: 225us\tremaining: 225ms\n",
      "\n",
      "bestTest = 0.04862017937\n",
      "bestIteration = 8\n",
      "\n",
      "Shrink model to first 9 iterations.\n",
      "Learning rate set to 0.032991\n"
     ]
    },
    {
     "name": "stderr",
     "output_type": "stream",
     "text": [
      "[I 2023-06-07 20:12:46,682] Trial 95 pruned. Trial was pruned at iteration 10.\n",
      "[I 2023-06-07 20:12:46,784] Trial 96 pruned. Trial was pruned at iteration 10.\n"
     ]
    },
    {
     "name": "stdout",
     "output_type": "stream",
     "text": [
      "0:\tlearn: 0.0510492\ttest: 0.0538492\tbest: 0.0538492 (0)\ttotal: 242us\tremaining: 243ms\n",
      "\n",
      "bestTest = 0.05277874674\n",
      "bestIteration = 10\n",
      "\n",
      "Shrink model to first 11 iterations.\n",
      "Learning rate set to 0.032991\n",
      "0:\tlearn: 0.0489718\ttest: 0.0520263\tbest: 0.0520263 (0)\ttotal: 281us\tremaining: 282ms\n",
      "\n",
      "bestTest = 0.05202625615\n",
      "bestIteration = 0\n",
      "\n",
      "Shrink model to first 1 iterations.\n",
      "Learning rate set to 0.032991\n",
      "0:\tlearn: 0.0458405\ttest: 0.0536157\tbest: 0.0536157 (0)\ttotal: 240us\tremaining: 240ms\n",
      "\n",
      "bestTest = 0.05361573074\n",
      "bestIteration = 1\n",
      "\n",
      "Shrink model to first 2 iterations.\n"
     ]
    },
    {
     "name": "stderr",
     "output_type": "stream",
     "text": [
      "[I 2023-06-07 20:12:46,878] Trial 97 pruned. Trial was pruned at iteration 10.\n",
      "[I 2023-06-07 20:12:46,997] Trial 98 pruned. Trial was pruned at iteration 10.\n"
     ]
    },
    {
     "name": "stdout",
     "output_type": "stream",
     "text": [
      "Learning rate set to 0.032991\n",
      "0:\tlearn: 0.0475042\ttest: 0.0443993\tbest: 0.0443993 (0)\ttotal: 5.14ms\tremaining: 5.14s\n",
      "\n",
      "bestTest = 0.04325713696\n",
      "bestIteration = 10\n",
      "\n",
      "Shrink model to first 11 iterations.\n",
      "Learning rate set to 0.032991\n",
      "0:\tlearn: 0.0550404\ttest: 0.0359751\tbest: 0.0359751 (0)\ttotal: 270us\tremaining: 271ms\n"
     ]
    },
    {
     "name": "stderr",
     "output_type": "stream",
     "text": [
      "[I 2023-06-07 20:12:47,161] Trial 99 pruned. Trial was pruned at iteration 95.\n"
     ]
    },
    {
     "name": "stdout",
     "output_type": "stream",
     "text": [
      "\n",
      "bestTest = 0.03364072166\n",
      "bestIteration = 89\n",
      "\n",
      "Shrink model to first 90 iterations.\n",
      "Number of finished trials: 100\n",
      "Best trial:\n",
      "  Value: 0.0349815838846568\n",
      "  Params: \n",
      "    objective: RMSE\n",
      "    colsample_bylevel: 0.019294785961930627\n",
      "    depth: 6\n",
      "    boosting_type: Ordered\n",
      "    bootstrap_type: Bayesian\n",
      "    bagging_temperature: 4.6044011355658085\n"
     ]
    }
   ],
   "source": [
    "from catboost import CatBoostRegressor\n",
    "from catboost import Pool\n",
    "import optuna\n",
    "from sklearn.metrics import mean_squared_error\n",
    "import Utils as utils\n",
    "\n",
    "def objective(trial):\n",
    "    data, target = dfX, y\n",
    "    train_x, test_x, train_y, test_y = train_test_split(data, target, test_size=0.2)\n",
    "    train_x, val_x, train_y, val_y = train_test_split(train_x, train_y, test_size=0.25)\n",
    "    train_pool = Pool(train_x, train_y)\n",
    "    val_pool = Pool(val_x, val_y)\n",
    "    test_pool = Pool(test_x)\n",
    "\n",
    "    params = {\n",
    "        \"objective\": trial.suggest_categorical(\"objective\", [\"RMSE\"]),\n",
    "        \"colsample_bylevel\": trial.suggest_float(\"colsample_bylevel\", 0.01, 0.1, log=True),\n",
    "        \"depth\": trial.suggest_int(\"depth\", 1, 12),\n",
    "        \"boosting_type\": trial.suggest_categorical(\"boosting_type\", [\"Ordered\", \"Plain\"]),\n",
    "         \"bootstrap_type\": trial.suggest_categorical(\n",
    "            \"bootstrap_type\", [\"Bayesian\", \"Bernoulli\", \"MVS\"]\n",
    "        ),\n",
    "        \"used_ram_limit\": \"3gb\",\n",
    "    }\n",
    "\n",
    "    if params[\"bootstrap_type\"] == \"Bayesian\":\n",
    "        params[\"bagging_temperature\"] = trial.suggest_float(\"bagging_temperature\", 0, 10)\n",
    "    elif params[\"bootstrap_type\"] == \"Bernoulli\":\n",
    "        params[\"subsample\"] = trial.suggest_float(\"subsample\", 0.1, 1, log=True)\n",
    "\n",
    "    model = CatBoostRegressor(**params)\n",
    "\n",
    "    pruning_callback = optuna.integration.CatBoostPruningCallback(trial, \"RMSE\")\n",
    "    model.fit(train_pool, eval_set=val_pool, callbacks=[pruning_callback], verbose=500, early_stopping_rounds=100)\n",
    "\n",
    "    pruning_callback.check_pruned()\n",
    "\n",
    "    preds = model.predict(test_pool)\n",
    "\n",
    "    results = utils.error_rate(\"Catboost\",preds,test_y)\n",
    "    print(results)\n",
    "\n",
    "    rmse = mean_squared_error(test_y, preds, squared=False)\n",
    "    return rmse\n",
    "\n",
    "\n",
    "study = optuna.create_study(direction=\"minimize\", pruner=optuna.pruners.MedianPruner(n_warmup_steps=10))\n",
    "\n",
    "study.optimize(objective, n_trials=100, timeout=600)\n",
    "\n",
    "print(\"Number of finished trials: {}\".format(len(study.trials)))\n",
    "print(\"Best trial:\")\n",
    "trial = study.best_trial\n",
    "\n",
    "print(\"  Value: {}\".format(trial.value))\n",
    "\n",
    "print(\"  Params: \")\n",
    "for key, value in trial.params.items():\n",
    "    print(\"    {}: {}\".format(key, value))\n",
    "\n",
    "\n",
    "    \n",
    "\n",
    "\n",
    "    \n",
    "\n",
    "\n",
    "\n",
    "\n"
   ]
  },
  {
   "cell_type": "code",
   "execution_count": 8,
   "metadata": {},
   "outputs": [
    {
     "name": "stderr",
     "output_type": "stream",
     "text": [
      "[I 2023-06-07 20:14:59,108] A new study created in memory with name: no-name-e719ca62-4c82-45dd-8d65-6e076a7b18e0\n",
      "C:\\Users\\Bayu Adjie Sidharta\\AppData\\Local\\Temp\\ipykernel_32688\\1628479321.py:34: ExperimentalWarning: CatBoostPruningCallback is experimental (supported from v3.0.0). The interface can change in the future.\n",
      "  pruning_callback = optuna.integration.CatBoostPruningCallback(trial, \"RMSE\")\n"
     ]
    },
    {
     "name": "stdout",
     "output_type": "stream",
     "text": [
      "Learning rate set to 0.032991\n",
      "0:\tlearn: 0.0486389\ttest: 0.0492778\tbest: 0.0492778 (0)\ttotal: 977us\tremaining: 976ms\n",
      "500:\tlearn: 0.0322777\ttest: 0.0391103\tbest: 0.0390906 (491)\ttotal: 518ms\tremaining: 516ms\n"
     ]
    },
    {
     "name": "stderr",
     "output_type": "stream",
     "text": [
      "[I 2023-06-07 20:15:02,012] Trial 0 finished with value: 0.036636711002973305 and parameters: {'objective': 'RMSE', 'colsample_bylevel': 0.052503740365612624, 'depth': 9, 'boosting_type': 'Ordered', 'bootstrap_type': 'MVS'}. Best is trial 0 with value: 0.036636711002973305.\n"
     ]
    },
    {
     "name": "stdout",
     "output_type": "stream",
     "text": [
      "999:\tlearn: 0.0268657\ttest: 0.0361930\tbest: 0.0361658 (958)\ttotal: 1.06s\tremaining: 0us\n",
      "\n",
      "bestTest = 0.03616579889\n",
      "bestIteration = 958\n",
      "\n",
      "Shrink model to first 959 iterations.\n",
      "('Catboost', 0.036636711002973305, 0.028105386558936983, 0.40950852705839)\n",
      "Learning rate set to 0.032991\n",
      "0:\tlearn: 0.0453744\ttest: 0.0597449\tbest: 0.0597449 (0)\ttotal: 267us\tremaining: 267ms\n"
     ]
    },
    {
     "name": "stderr",
     "output_type": "stream",
     "text": [
      "C:\\Users\\Bayu Adjie Sidharta\\AppData\\Local\\Temp\\ipykernel_32688\\1628479321.py:34: ExperimentalWarning: CatBoostPruningCallback is experimental (supported from v3.0.0). The interface can change in the future.\n",
      "  pruning_callback = optuna.integration.CatBoostPruningCallback(trial, \"RMSE\")\n"
     ]
    },
    {
     "name": "stdout",
     "output_type": "stream",
     "text": [
      "500:\tlearn: 0.0379600\ttest: 0.0544692\tbest: 0.0544099 (477)\ttotal: 76.8ms\tremaining: 76.5ms\n"
     ]
    },
    {
     "name": "stderr",
     "output_type": "stream",
     "text": [
      "[I 2023-06-07 20:15:03,822] Trial 1 finished with value: 0.040289937198733534 and parameters: {'objective': 'RMSE', 'colsample_bylevel': 0.024852371843516564, 'depth': 7, 'boosting_type': 'Plain', 'bootstrap_type': 'Bernoulli', 'subsample': 0.29616916980830804}. Best is trial 0 with value: 0.036636711002973305.\n"
     ]
    },
    {
     "name": "stdout",
     "output_type": "stream",
     "text": [
      "999:\tlearn: 0.0344715\ttest: 0.0524882\tbest: 0.0524881 (998)\ttotal: 166ms\tremaining: 0us\n",
      "\n",
      "bestTest = 0.05248810775\n",
      "bestIteration = 998\n",
      "\n",
      "Shrink model to first 999 iterations.\n",
      "('Catboost', 0.040289937198733534, 0.02802684320199307, 0.2211705302043815)\n",
      "Learning rate set to 0.032991\n",
      "0:\tlearn: 0.0465541\ttest: 0.0535208\tbest: 0.0535208 (0)\ttotal: 308us\tremaining: 308ms\n"
     ]
    },
    {
     "name": "stderr",
     "output_type": "stream",
     "text": [
      "C:\\Users\\Bayu Adjie Sidharta\\AppData\\Local\\Temp\\ipykernel_32688\\1628479321.py:34: ExperimentalWarning: CatBoostPruningCallback is experimental (supported from v3.0.0). The interface can change in the future.\n",
      "  pruning_callback = optuna.integration.CatBoostPruningCallback(trial, \"RMSE\")\n"
     ]
    },
    {
     "name": "stdout",
     "output_type": "stream",
     "text": [
      "500:\tlearn: 0.0410711\ttest: 0.0492811\tbest: 0.0492773 (493)\ttotal: 67.6ms\tremaining: 67.3ms\n"
     ]
    },
    {
     "name": "stderr",
     "output_type": "stream",
     "text": [
      "[I 2023-06-07 20:15:05,724] Trial 2 finished with value: 0.04886966022860354 and parameters: {'objective': 'RMSE', 'colsample_bylevel': 0.019744499109366074, 'depth': 8, 'boosting_type': 'Plain', 'bootstrap_type': 'Bayesian', 'bagging_temperature': 5.198272504075248}. Best is trial 0 with value: 0.036636711002973305.\n"
     ]
    },
    {
     "name": "stdout",
     "output_type": "stream",
     "text": [
      "999:\tlearn: 0.0384941\ttest: 0.0472645\tbest: 0.0471984 (990)\ttotal: 168ms\tremaining: 0us\n",
      "\n",
      "bestTest = 0.04719836794\n",
      "bestIteration = 990\n",
      "\n",
      "Shrink model to first 991 iterations.\n",
      "('Catboost', 0.04886966022860354, 0.039717340745024005, -0.4339433329071516)\n",
      "Learning rate set to 0.032991\n",
      "0:\tlearn: 0.0478008\ttest: 0.0500654\tbest: 0.0500654 (0)\ttotal: 258us\tremaining: 259ms\n"
     ]
    },
    {
     "name": "stderr",
     "output_type": "stream",
     "text": [
      "C:\\Users\\Bayu Adjie Sidharta\\AppData\\Local\\Temp\\ipykernel_32688\\1628479321.py:34: ExperimentalWarning: CatBoostPruningCallback is experimental (supported from v3.0.0). The interface can change in the future.\n",
      "  pruning_callback = optuna.integration.CatBoostPruningCallback(trial, \"RMSE\")\n"
     ]
    },
    {
     "name": "stdout",
     "output_type": "stream",
     "text": [
      "500:\tlearn: 0.0391410\ttest: 0.0459656\tbest: 0.0459656 (500)\ttotal: 79.1ms\tremaining: 78.8ms\n"
     ]
    },
    {
     "name": "stderr",
     "output_type": "stream",
     "text": [
      "[I 2023-06-07 20:15:07,323] Trial 3 finished with value: 0.04013155678232498 and parameters: {'objective': 'RMSE', 'colsample_bylevel': 0.0340265765948738, 'depth': 1, 'boosting_type': 'Plain', 'bootstrap_type': 'Bayesian', 'bagging_temperature': 4.266823929783542}. Best is trial 0 with value: 0.036636711002973305.\n"
     ]
    },
    {
     "name": "stdout",
     "output_type": "stream",
     "text": [
      "Stopped by overfitting detector  (100 iterations wait)\n",
      "\n",
      "bestTest = 0.04537259468\n",
      "bestIteration = 795\n",
      "\n",
      "Shrink model to first 796 iterations.\n",
      "('Catboost', 0.04013155678232498, 0.03290782728618466, 0.33630365768687165)\n",
      "Learning rate set to 0.032991\n",
      "0:\tlearn: 0.0498740\ttest: 0.0502905\tbest: 0.0502905 (0)\ttotal: 1.18ms\tremaining: 1.18s\n"
     ]
    },
    {
     "name": "stderr",
     "output_type": "stream",
     "text": [
      "C:\\Users\\Bayu Adjie Sidharta\\AppData\\Local\\Temp\\ipykernel_32688\\1628479321.py:34: ExperimentalWarning: CatBoostPruningCallback is experimental (supported from v3.0.0). The interface can change in the future.\n",
      "  pruning_callback = optuna.integration.CatBoostPruningCallback(trial, \"RMSE\")\n"
     ]
    },
    {
     "name": "stdout",
     "output_type": "stream",
     "text": [
      "500:\tlearn: 0.0462398\ttest: 0.0472298\tbest: 0.0472298 (500)\ttotal: 510ms\tremaining: 508ms\n"
     ]
    },
    {
     "name": "stderr",
     "output_type": "stream",
     "text": [
      "[I 2023-06-07 20:15:09,994] Trial 4 finished with value: 0.037499405605529945 and parameters: {'objective': 'RMSE', 'colsample_bylevel': 0.011312975860288201, 'depth': 8, 'boosting_type': 'Ordered', 'bootstrap_type': 'MVS'}. Best is trial 0 with value: 0.036636711002973305.\n"
     ]
    },
    {
     "name": "stdout",
     "output_type": "stream",
     "text": [
      "999:\tlearn: 0.0424467\ttest: 0.0433767\tbest: 0.0433767 (999)\ttotal: 1.03s\tremaining: 0us\n",
      "\n",
      "bestTest = 0.04337668297\n",
      "bestIteration = 999\n",
      "\n",
      "('Catboost', 0.037499405605529945, 0.02894272917750925, 0.13943617625327986)\n",
      "Learning rate set to 0.032991\n",
      "0:\tlearn: 0.0510450\ttest: 0.0377610\tbest: 0.0377610 (0)\ttotal: 1.22ms\tremaining: 1.22s\n"
     ]
    },
    {
     "name": "stderr",
     "output_type": "stream",
     "text": [
      "C:\\Users\\Bayu Adjie Sidharta\\AppData\\Local\\Temp\\ipykernel_32688\\1628479321.py:34: ExperimentalWarning: CatBoostPruningCallback is experimental (supported from v3.0.0). The interface can change in the future.\n",
      "  pruning_callback = optuna.integration.CatBoostPruningCallback(trial, \"RMSE\")\n"
     ]
    },
    {
     "name": "stdout",
     "output_type": "stream",
     "text": [
      "500:\tlearn: 0.0448292\ttest: 0.0345243\tbest: 0.0345243 (500)\ttotal: 553ms\tremaining: 550ms\n"
     ]
    },
    {
     "name": "stderr",
     "output_type": "stream",
     "text": [
      "[I 2023-06-07 20:15:13,162] Trial 5 finished with value: 0.04416807806590251 and parameters: {'objective': 'RMSE', 'colsample_bylevel': 0.012729581057403959, 'depth': 12, 'boosting_type': 'Ordered', 'bootstrap_type': 'MVS'}. Best is trial 0 with value: 0.036636711002973305.\n",
      "C:\\Users\\Bayu Adjie Sidharta\\AppData\\Local\\Temp\\ipykernel_32688\\1628479321.py:34: ExperimentalWarning: CatBoostPruningCallback is experimental (supported from v3.0.0). The interface can change in the future.\n",
      "  pruning_callback = optuna.integration.CatBoostPruningCallback(trial, \"RMSE\")\n",
      "[I 2023-06-07 20:15:13,230] Trial 6 pruned. Trial was pruned at iteration 10.\n",
      "C:\\Users\\Bayu Adjie Sidharta\\AppData\\Local\\Temp\\ipykernel_32688\\1628479321.py:34: ExperimentalWarning: CatBoostPruningCallback is experimental (supported from v3.0.0). The interface can change in the future.\n",
      "  pruning_callback = optuna.integration.CatBoostPruningCallback(trial, \"RMSE\")\n",
      "[I 2023-06-07 20:15:13,281] Trial 7 pruned. Trial was pruned at iteration 10.\n"
     ]
    },
    {
     "name": "stdout",
     "output_type": "stream",
     "text": [
      "999:\tlearn: 0.0403273\ttest: 0.0337421\tbest: 0.0337016 (957)\ttotal: 1.11s\tremaining: 0us\n",
      "\n",
      "bestTest = 0.03370157694\n",
      "bestIteration = 957\n",
      "\n",
      "Shrink model to first 958 iterations.\n",
      "('Catboost', 0.04416807806590251, 0.03668870793717504, 0.12856832158672238)\n",
      "Learning rate set to 0.032991\n",
      "0:\tlearn: 0.0470309\ttest: 0.0541767\tbest: 0.0541767 (0)\ttotal: 1.13ms\tremaining: 1.13s\n",
      "\n",
      "bestTest = 0.05353693316\n",
      "bestIteration = 8\n",
      "\n",
      "Shrink model to first 9 iterations.\n",
      "Learning rate set to 0.032991\n",
      "0:\tlearn: 0.0473765\ttest: 0.0520776\tbest: 0.0520776 (0)\ttotal: 328us\tremaining: 328ms\n",
      "\n",
      "bestTest = 0.05186351708\n",
      "bestIteration = 9\n",
      "\n",
      "Shrink model to first 10 iterations.\n",
      "Learning rate set to 0.032991\n",
      "0:\tlearn: 0.0484565\ttest: 0.0562089\tbest: 0.0562089 (0)\ttotal: 1.11ms\tremaining: 1.11s\n",
      "\n",
      "bestTest = 0.05591079477\n",
      "bestIteration = 10\n",
      "\n",
      "Shrink model to first 11 iterations.\n"
     ]
    },
    {
     "name": "stderr",
     "output_type": "stream",
     "text": [
      "C:\\Users\\Bayu Adjie Sidharta\\AppData\\Local\\Temp\\ipykernel_32688\\1628479321.py:34: ExperimentalWarning: CatBoostPruningCallback is experimental (supported from v3.0.0). The interface can change in the future.\n",
      "  pruning_callback = optuna.integration.CatBoostPruningCallback(trial, \"RMSE\")\n",
      "[I 2023-06-07 20:15:13,347] Trial 8 pruned. Trial was pruned at iteration 10.\n",
      "C:\\Users\\Bayu Adjie Sidharta\\AppData\\Local\\Temp\\ipykernel_32688\\1628479321.py:34: ExperimentalWarning: CatBoostPruningCallback is experimental (supported from v3.0.0). The interface can change in the future.\n",
      "  pruning_callback = optuna.integration.CatBoostPruningCallback(trial, \"RMSE\")\n",
      "[I 2023-06-07 20:15:13,415] Trial 9 pruned. Trial was pruned at iteration 10.\n",
      "C:\\Users\\Bayu Adjie Sidharta\\AppData\\Local\\Temp\\ipykernel_32688\\1628479321.py:34: ExperimentalWarning: CatBoostPruningCallback is experimental (supported from v3.0.0). The interface can change in the future.\n",
      "  pruning_callback = optuna.integration.CatBoostPruningCallback(trial, \"RMSE\")\n"
     ]
    },
    {
     "name": "stdout",
     "output_type": "stream",
     "text": [
      "Learning rate set to 0.032991\n",
      "0:\tlearn: 0.0480436\ttest: 0.0503828\tbest: 0.0503828 (0)\ttotal: 1.25ms\tremaining: 1.25s\n",
      "\n",
      "bestTest = 0.05014267357\n",
      "bestIteration = 10\n",
      "\n",
      "Shrink model to first 11 iterations.\n",
      "Learning rate set to 0.032991\n",
      "0:\tlearn: 0.0467123\ttest: 0.0400406\tbest: 0.0400406 (0)\ttotal: 1.08ms\tremaining: 1.08s\n"
     ]
    },
    {
     "name": "stderr",
     "output_type": "stream",
     "text": [
      "[I 2023-06-07 20:15:14,478] Trial 10 finished with value: 0.05233273641154647 and parameters: {'objective': 'RMSE', 'colsample_bylevel': 0.048159925202024355, 'depth': 5, 'boosting_type': 'Ordered', 'bootstrap_type': 'MVS'}. Best is trial 0 with value: 0.036636711002973305.\n",
      "C:\\Users\\Bayu Adjie Sidharta\\AppData\\Local\\Temp\\ipykernel_32688\\1628479321.py:34: ExperimentalWarning: CatBoostPruningCallback is experimental (supported from v3.0.0). The interface can change in the future.\n",
      "  pruning_callback = optuna.integration.CatBoostPruningCallback(trial, \"RMSE\")\n",
      "[I 2023-06-07 20:15:14,562] Trial 11 pruned. Trial was pruned at iteration 10.\n"
     ]
    },
    {
     "name": "stdout",
     "output_type": "stream",
     "text": [
      "Stopped by overfitting detector  (100 iterations wait)\n",
      "\n",
      "bestTest = 0.03622738982\n",
      "bestIteration = 347\n",
      "\n",
      "Shrink model to first 348 iterations.\n",
      "('Catboost', 0.05233273641154647, 0.04217447817917235, 0.22510041980929807)\n",
      "Learning rate set to 0.032991\n",
      "0:\tlearn: 0.0481364\ttest: 0.0549618\tbest: 0.0549618 (0)\ttotal: 1.05ms\tremaining: 1.05s\n",
      "\n",
      "bestTest = 0.05473293954\n",
      "bestIteration = 4\n",
      "\n",
      "Shrink model to first 5 iterations.\n",
      "Learning rate set to 0.032991\n",
      "0:\tlearn: 0.0483960\ttest: 0.0456168\tbest: 0.0456168 (0)\ttotal: 1.16ms\tremaining: 1.16s\n"
     ]
    },
    {
     "name": "stderr",
     "output_type": "stream",
     "text": [
      "C:\\Users\\Bayu Adjie Sidharta\\AppData\\Local\\Temp\\ipykernel_32688\\1628479321.py:34: ExperimentalWarning: CatBoostPruningCallback is experimental (supported from v3.0.0). The interface can change in the future.\n",
      "  pruning_callback = optuna.integration.CatBoostPruningCallback(trial, \"RMSE\")\n"
     ]
    },
    {
     "name": "stdout",
     "output_type": "stream",
     "text": [
      "500:\tlearn: 0.0350661\ttest: 0.0377557\tbest: 0.0377240 (494)\ttotal: 539ms\tremaining: 537ms\n"
     ]
    },
    {
     "name": "stderr",
     "output_type": "stream",
     "text": [
      "[I 2023-06-07 20:15:17,749] Trial 12 finished with value: 0.04228962458797814 and parameters: {'objective': 'RMSE', 'colsample_bylevel': 0.03764445666943533, 'depth': 6, 'boosting_type': 'Ordered', 'bootstrap_type': 'MVS'}. Best is trial 0 with value: 0.036636711002973305.\n",
      "C:\\Users\\Bayu Adjie Sidharta\\AppData\\Local\\Temp\\ipykernel_32688\\1628479321.py:34: ExperimentalWarning: CatBoostPruningCallback is experimental (supported from v3.0.0). The interface can change in the future.\n",
      "  pruning_callback = optuna.integration.CatBoostPruningCallback(trial, \"RMSE\")\n",
      "[I 2023-06-07 20:15:17,829] Trial 13 pruned. Trial was pruned at iteration 10.\n",
      "C:\\Users\\Bayu Adjie Sidharta\\AppData\\Local\\Temp\\ipykernel_32688\\1628479321.py:34: ExperimentalWarning: CatBoostPruningCallback is experimental (supported from v3.0.0). The interface can change in the future.\n",
      "  pruning_callback = optuna.integration.CatBoostPruningCallback(trial, \"RMSE\")\n",
      "[I 2023-06-07 20:15:17,914] Trial 14 pruned. Trial was pruned at iteration 10.\n"
     ]
    },
    {
     "name": "stdout",
     "output_type": "stream",
     "text": [
      "Stopped by overfitting detector  (100 iterations wait)\n",
      "\n",
      "bestTest = 0.03634122055\n",
      "bestIteration = 897\n",
      "\n",
      "Shrink model to first 898 iterations.\n",
      "('Catboost', 0.04228962458797814, 0.0338232884709933, 0.3125891165417415)\n",
      "Learning rate set to 0.032991\n",
      "0:\tlearn: 0.0488101\ttest: 0.0546905\tbest: 0.0546905 (0)\ttotal: 1.2ms\tremaining: 1.2s\n",
      "\n",
      "bestTest = 0.05366264287\n",
      "bestIteration = 10\n",
      "\n",
      "Shrink model to first 11 iterations.\n",
      "Learning rate set to 0.032991\n",
      "0:\tlearn: 0.0475310\ttest: 0.0554368\tbest: 0.0554368 (0)\ttotal: 1.18ms\tremaining: 1.17s\n",
      "\n",
      "bestTest = 0.05418817996\n",
      "bestIteration = 10\n",
      "\n",
      "Shrink model to first 11 iterations.\n"
     ]
    },
    {
     "name": "stderr",
     "output_type": "stream",
     "text": [
      "C:\\Users\\Bayu Adjie Sidharta\\AppData\\Local\\Temp\\ipykernel_32688\\1628479321.py:34: ExperimentalWarning: CatBoostPruningCallback is experimental (supported from v3.0.0). The interface can change in the future.\n",
      "  pruning_callback = optuna.integration.CatBoostPruningCallback(trial, \"RMSE\")\n",
      "[I 2023-06-07 20:15:18,000] Trial 15 pruned. Trial was pruned at iteration 10.\n",
      "C:\\Users\\Bayu Adjie Sidharta\\AppData\\Local\\Temp\\ipykernel_32688\\1628479321.py:34: ExperimentalWarning: CatBoostPruningCallback is experimental (supported from v3.0.0). The interface can change in the future.\n",
      "  pruning_callback = optuna.integration.CatBoostPruningCallback(trial, \"RMSE\")\n"
     ]
    },
    {
     "name": "stdout",
     "output_type": "stream",
     "text": [
      "Learning rate set to 0.032991\n",
      "0:\tlearn: 0.0471224\ttest: 0.0539081\tbest: 0.0539081 (0)\ttotal: 1.17ms\tremaining: 1.17s\n",
      "\n",
      "bestTest = 0.05332731088\n",
      "bestIteration = 8\n",
      "\n",
      "Shrink model to first 9 iterations.\n",
      "Learning rate set to 0.032991\n",
      "0:\tlearn: 0.0500619\ttest: 0.0481559\tbest: 0.0481559 (0)\ttotal: 1.64ms\tremaining: 1.64s\n"
     ]
    },
    {
     "name": "stderr",
     "output_type": "stream",
     "text": [
      "[I 2023-06-07 20:15:18,350] Trial 16 pruned. Trial was pruned at iteration 137.\n"
     ]
    },
    {
     "name": "stdout",
     "output_type": "stream",
     "text": [
      "\n",
      "bestTest = 0.04645956783\n",
      "bestIteration = 124\n",
      "\n",
      "Shrink model to first 125 iterations.\n",
      "Learning rate set to 0.032991\n",
      "0:\tlearn: 0.0508360\ttest: 0.0479018\tbest: 0.0479018 (0)\ttotal: 1.15ms\tremaining: 1.15s\n",
      "\n",
      "bestTest = 0.04762275831\n",
      "bestIteration = 74\n",
      "\n",
      "Shrink model to first 75 iterations.\n"
     ]
    },
    {
     "name": "stderr",
     "output_type": "stream",
     "text": [
      "C:\\Users\\Bayu Adjie Sidharta\\AppData\\Local\\Temp\\ipykernel_32688\\1628479321.py:34: ExperimentalWarning: CatBoostPruningCallback is experimental (supported from v3.0.0). The interface can change in the future.\n",
      "  pruning_callback = optuna.integration.CatBoostPruningCallback(trial, \"RMSE\")\n",
      "[I 2023-06-07 20:15:18,562] Trial 17 pruned. Trial was pruned at iteration 74.\n",
      "C:\\Users\\Bayu Adjie Sidharta\\AppData\\Local\\Temp\\ipykernel_32688\\1628479321.py:34: ExperimentalWarning: CatBoostPruningCallback is experimental (supported from v3.0.0). The interface can change in the future.\n",
      "  pruning_callback = optuna.integration.CatBoostPruningCallback(trial, \"RMSE\")\n"
     ]
    },
    {
     "name": "stdout",
     "output_type": "stream",
     "text": [
      "Learning rate set to 0.032991\n",
      "0:\tlearn: 0.0451736\ttest: 0.0446094\tbest: 0.0446094 (0)\ttotal: 265us\tremaining: 265ms\n",
      "500:\tlearn: 0.0312864\ttest: 0.0389079\tbest: 0.0388936 (497)\ttotal: 153ms\tremaining: 152ms\n"
     ]
    },
    {
     "name": "stderr",
     "output_type": "stream",
     "text": [
      "[I 2023-06-07 20:15:20,715] Trial 18 finished with value: 0.05275871384163919 and parameters: {'objective': 'RMSE', 'colsample_bylevel': 0.04018678783493958, 'depth': 12, 'boosting_type': 'Plain', 'bootstrap_type': 'MVS'}. Best is trial 0 with value: 0.036636711002973305.\n"
     ]
    },
    {
     "name": "stdout",
     "output_type": "stream",
     "text": [
      "Stopped by overfitting detector  (100 iterations wait)\n",
      "\n",
      "bestTest = 0.03850777975\n",
      "bestIteration = 637\n",
      "\n",
      "Shrink model to first 638 iterations.\n",
      "('Catboost', 0.05275871384163919, 0.04445086063799067, 0.12425503979314245)\n",
      "Learning rate set to 0.032991\n",
      "0:\tlearn: 0.0517613\ttest: 0.0360371\tbest: 0.0360371 (0)\ttotal: 1.2ms\tremaining: 1.2s\n"
     ]
    },
    {
     "name": "stderr",
     "output_type": "stream",
     "text": [
      "C:\\Users\\Bayu Adjie Sidharta\\AppData\\Local\\Temp\\ipykernel_32688\\1628479321.py:34: ExperimentalWarning: CatBoostPruningCallback is experimental (supported from v3.0.0). The interface can change in the future.\n",
      "  pruning_callback = optuna.integration.CatBoostPruningCallback(trial, \"RMSE\")\n"
     ]
    },
    {
     "name": "stdout",
     "output_type": "stream",
     "text": [
      "500:\tlearn: 0.0388667\ttest: 0.0291216\tbest: 0.0291216 (500)\ttotal: 559ms\tremaining: 557ms\n"
     ]
    },
    {
     "name": "stderr",
     "output_type": "stream",
     "text": [
      "[I 2023-06-07 20:15:22,692] Trial 19 finished with value: 0.0432542943777916 and parameters: {'objective': 'RMSE', 'colsample_bylevel': 0.027800946368374366, 'depth': 6, 'boosting_type': 'Ordered', 'bootstrap_type': 'Bernoulli', 'subsample': 0.9848114977765494}. Best is trial 0 with value: 0.036636711002973305.\n",
      "C:\\Users\\Bayu Adjie Sidharta\\AppData\\Local\\Temp\\ipykernel_32688\\1628479321.py:34: ExperimentalWarning: CatBoostPruningCallback is experimental (supported from v3.0.0). The interface can change in the future.\n",
      "  pruning_callback = optuna.integration.CatBoostPruningCallback(trial, \"RMSE\")\n",
      "[I 2023-06-07 20:15:22,786] Trial 20 pruned. Trial was pruned at iteration 10.\n",
      "C:\\Users\\Bayu Adjie Sidharta\\AppData\\Local\\Temp\\ipykernel_32688\\1628479321.py:34: ExperimentalWarning: CatBoostPruningCallback is experimental (supported from v3.0.0). The interface can change in the future.\n",
      "  pruning_callback = optuna.integration.CatBoostPruningCallback(trial, \"RMSE\")\n",
      "[I 2023-06-07 20:15:22,860] Trial 21 pruned. Trial was pruned at iteration 10.\n"
     ]
    },
    {
     "name": "stdout",
     "output_type": "stream",
     "text": [
      "Stopped by overfitting detector  (100 iterations wait)\n",
      "\n",
      "bestTest = 0.02911489676\n",
      "bestIteration = 539\n",
      "\n",
      "Shrink model to first 540 iterations.\n",
      "('Catboost', 0.0432542943777916, 0.03242867226395915, 0.10219838436415274)\n",
      "Learning rate set to 0.032991\n",
      "0:\tlearn: 0.0478631\ttest: 0.0493447\tbest: 0.0493447 (0)\ttotal: 947us\tremaining: 946ms\n",
      "\n",
      "bestTest = 0.04863798295\n",
      "bestIteration = 10\n",
      "\n",
      "Shrink model to first 11 iterations.\n",
      "Learning rate set to 0.032991\n",
      "0:\tlearn: 0.0489931\ttest: 0.0554580\tbest: 0.0554580 (0)\ttotal: 238us\tremaining: 239ms\n",
      "\n",
      "bestTest = 0.05538196645\n",
      "bestIteration = 10\n",
      "\n",
      "Shrink model to first 11 iterations.\n"
     ]
    },
    {
     "name": "stderr",
     "output_type": "stream",
     "text": [
      "C:\\Users\\Bayu Adjie Sidharta\\AppData\\Local\\Temp\\ipykernel_32688\\1628479321.py:34: ExperimentalWarning: CatBoostPruningCallback is experimental (supported from v3.0.0). The interface can change in the future.\n",
      "  pruning_callback = optuna.integration.CatBoostPruningCallback(trial, \"RMSE\")\n"
     ]
    },
    {
     "name": "stdout",
     "output_type": "stream",
     "text": [
      "Learning rate set to 0.032991\n",
      "0:\tlearn: 0.0512074\ttest: 0.0421817\tbest: 0.0421817 (0)\ttotal: 273us\tremaining: 273ms\n",
      "500:\tlearn: 0.0415270\ttest: 0.0360066\tbest: 0.0360066 (500)\ttotal: 111ms\tremaining: 111ms\n"
     ]
    },
    {
     "name": "stderr",
     "output_type": "stream",
     "text": [
      "[I 2023-06-07 20:15:25,577] Trial 22 finished with value: 0.03668736324133321 and parameters: {'objective': 'RMSE', 'colsample_bylevel': 0.03253933328980005, 'depth': 3, 'boosting_type': 'Plain', 'bootstrap_type': 'Bayesian', 'bagging_temperature': 4.2032926419969066}. Best is trial 0 with value: 0.036636711002973305.\n",
      "C:\\Users\\Bayu Adjie Sidharta\\AppData\\Local\\Temp\\ipykernel_32688\\1628479321.py:34: ExperimentalWarning: CatBoostPruningCallback is experimental (supported from v3.0.0). The interface can change in the future.\n",
      "  pruning_callback = optuna.integration.CatBoostPruningCallback(trial, \"RMSE\")\n",
      "[I 2023-06-07 20:15:25,649] Trial 23 pruned. Trial was pruned at iteration 10.\n",
      "C:\\Users\\Bayu Adjie Sidharta\\AppData\\Local\\Temp\\ipykernel_32688\\1628479321.py:34: ExperimentalWarning: CatBoostPruningCallback is experimental (supported from v3.0.0). The interface can change in the future.\n",
      "  pruning_callback = optuna.integration.CatBoostPruningCallback(trial, \"RMSE\")\n",
      "[I 2023-06-07 20:15:25,762] Trial 24 pruned. Trial was pruned at iteration 10.\n"
     ]
    },
    {
     "name": "stdout",
     "output_type": "stream",
     "text": [
      "999:\tlearn: 0.0365763\ttest: 0.0330646\tbest: 0.0330502 (990)\ttotal: 232ms\tremaining: 0us\n",
      "\n",
      "bestTest = 0.03305023439\n",
      "bestIteration = 990\n",
      "\n",
      "Shrink model to first 991 iterations.\n",
      "('Catboost', 0.03668736324133321, 0.030091063632566518, 0.36023604659133657)\n",
      "Learning rate set to 0.032991\n",
      "0:\tlearn: 0.0490370\ttest: 0.0515178\tbest: 0.0515178 (0)\ttotal: 381us\tremaining: 382ms\n",
      "\n",
      "bestTest = 0.05148358844\n",
      "bestIteration = 10\n",
      "\n",
      "Shrink model to first 11 iterations.\n",
      "Learning rate set to 0.032991\n",
      "0:\tlearn: 0.0470894\ttest: 0.0498227\tbest: 0.0498227 (0)\ttotal: 300us\tremaining: 301ms\n",
      "\n",
      "bestTest = 0.0495654487\n",
      "bestIteration = 9\n",
      "\n",
      "Shrink model to first 10 iterations.\n"
     ]
    },
    {
     "name": "stderr",
     "output_type": "stream",
     "text": [
      "C:\\Users\\Bayu Adjie Sidharta\\AppData\\Local\\Temp\\ipykernel_32688\\1628479321.py:34: ExperimentalWarning: CatBoostPruningCallback is experimental (supported from v3.0.0). The interface can change in the future.\n",
      "  pruning_callback = optuna.integration.CatBoostPruningCallback(trial, \"RMSE\")\n",
      "[I 2023-06-07 20:15:25,842] Trial 25 pruned. Trial was pruned at iteration 10.\n",
      "C:\\Users\\Bayu Adjie Sidharta\\AppData\\Local\\Temp\\ipykernel_32688\\1628479321.py:34: ExperimentalWarning: CatBoostPruningCallback is experimental (supported from v3.0.0). The interface can change in the future.\n",
      "  pruning_callback = optuna.integration.CatBoostPruningCallback(trial, \"RMSE\")\n",
      "[I 2023-06-07 20:15:25,907] Trial 26 pruned. Trial was pruned at iteration 10.\n",
      "C:\\Users\\Bayu Adjie Sidharta\\AppData\\Local\\Temp\\ipykernel_32688\\1628479321.py:34: ExperimentalWarning: CatBoostPruningCallback is experimental (supported from v3.0.0). The interface can change in the future.\n",
      "  pruning_callback = optuna.integration.CatBoostPruningCallback(trial, \"RMSE\")\n"
     ]
    },
    {
     "name": "stdout",
     "output_type": "stream",
     "text": [
      "Learning rate set to 0.032991\n",
      "0:\tlearn: 0.0499238\ttest: 0.0473788\tbest: 0.0473788 (0)\ttotal: 320us\tremaining: 320ms\n",
      "\n",
      "bestTest = 0.04737865238\n",
      "bestIteration = 10\n",
      "\n",
      "Shrink model to first 11 iterations.\n",
      "Learning rate set to 0.032991\n",
      "0:\tlearn: 0.0478424\ttest: 0.0535133\tbest: 0.0535133 (0)\ttotal: 238us\tremaining: 238ms\n",
      "\n",
      "bestTest = 0.05316540206\n",
      "bestIteration = 10\n",
      "\n",
      "Shrink model to first 11 iterations.\n",
      "Learning rate set to 0.032991\n",
      "0:\tlearn: 0.0529637\ttest: 0.0377325\tbest: 0.0377325 (0)\ttotal: 1.11ms\tremaining: 1.11s\n",
      "500:\tlearn: 0.0423591\ttest: 0.0334739\tbest: 0.0334739 (500)\ttotal: 543ms\tremaining: 541ms\n"
     ]
    },
    {
     "name": "stderr",
     "output_type": "stream",
     "text": [
      "[I 2023-06-07 20:15:27,841] Trial 27 finished with value: 0.038067106702611285 and parameters: {'objective': 'RMSE', 'colsample_bylevel': 0.019661648877883135, 'depth': 7, 'boosting_type': 'Ordered', 'bootstrap_type': 'MVS'}. Best is trial 0 with value: 0.036636711002973305.\n",
      "C:\\Users\\Bayu Adjie Sidharta\\AppData\\Local\\Temp\\ipykernel_32688\\1628479321.py:34: ExperimentalWarning: CatBoostPruningCallback is experimental (supported from v3.0.0). The interface can change in the future.\n",
      "  pruning_callback = optuna.integration.CatBoostPruningCallback(trial, \"RMSE\")\n",
      "[I 2023-06-07 20:15:27,917] Trial 28 pruned. Trial was pruned at iteration 10.\n",
      "C:\\Users\\Bayu Adjie Sidharta\\AppData\\Local\\Temp\\ipykernel_32688\\1628479321.py:34: ExperimentalWarning: CatBoostPruningCallback is experimental (supported from v3.0.0). The interface can change in the future.\n",
      "  pruning_callback = optuna.integration.CatBoostPruningCallback(trial, \"RMSE\")\n",
      "[I 2023-06-07 20:15:27,993] Trial 29 pruned. Trial was pruned at iteration 10.\n"
     ]
    },
    {
     "name": "stdout",
     "output_type": "stream",
     "text": [
      "Stopped by overfitting detector  (100 iterations wait)\n",
      "\n",
      "bestTest = 0.0333222246\n",
      "bestIteration = 536\n",
      "\n",
      "Shrink model to first 537 iterations.\n",
      "('Catboost', 0.038067106702611285, 0.030297669174257778, 0.13075025595076384)\n",
      "Learning rate set to 0.032991\n",
      "0:\tlearn: 0.0446515\ttest: 0.0543466\tbest: 0.0543466 (0)\ttotal: 404us\tremaining: 404ms\n",
      "\n",
      "bestTest = 0.05389605244\n",
      "bestIteration = 10\n",
      "\n",
      "Shrink model to first 11 iterations.\n",
      "Learning rate set to 0.032991\n",
      "0:\tlearn: 0.0477652\ttest: 0.0577683\tbest: 0.0577683 (0)\ttotal: 258us\tremaining: 258ms\n",
      "\n",
      "bestTest = 0.05749021558\n",
      "bestIteration = 9\n",
      "\n",
      "Shrink model to first 10 iterations.\n"
     ]
    },
    {
     "name": "stderr",
     "output_type": "stream",
     "text": [
      "C:\\Users\\Bayu Adjie Sidharta\\AppData\\Local\\Temp\\ipykernel_32688\\1628479321.py:34: ExperimentalWarning: CatBoostPruningCallback is experimental (supported from v3.0.0). The interface can change in the future.\n",
      "  pruning_callback = optuna.integration.CatBoostPruningCallback(trial, \"RMSE\")\n",
      "[I 2023-06-07 20:15:28,096] Trial 30 pruned. Trial was pruned at iteration 10.\n",
      "C:\\Users\\Bayu Adjie Sidharta\\AppData\\Local\\Temp\\ipykernel_32688\\1628479321.py:34: ExperimentalWarning: CatBoostPruningCallback is experimental (supported from v3.0.0). The interface can change in the future.\n",
      "  pruning_callback = optuna.integration.CatBoostPruningCallback(trial, \"RMSE\")\n",
      "[I 2023-06-07 20:15:28,196] Trial 31 pruned. Trial was pruned at iteration 10.\n",
      "C:\\Users\\Bayu Adjie Sidharta\\AppData\\Local\\Temp\\ipykernel_32688\\1628479321.py:34: ExperimentalWarning: CatBoostPruningCallback is experimental (supported from v3.0.0). The interface can change in the future.\n",
      "  pruning_callback = optuna.integration.CatBoostPruningCallback(trial, \"RMSE\")\n"
     ]
    },
    {
     "name": "stdout",
     "output_type": "stream",
     "text": [
      "Learning rate set to 0.032991\n",
      "0:\tlearn: 0.0487366\ttest: 0.0454796\tbest: 0.0454796 (0)\ttotal: 1.36ms\tremaining: 1.36s\n",
      "\n",
      "bestTest = 0.04526232977\n",
      "bestIteration = 8\n",
      "\n",
      "Shrink model to first 9 iterations.\n",
      "Learning rate set to 0.032991\n",
      "0:\tlearn: 0.0476947\ttest: 0.0461936\tbest: 0.0461936 (0)\ttotal: 1.07ms\tremaining: 1.07s\n",
      "\n",
      "bestTest = 0.04606573754\n",
      "bestIteration = 10\n",
      "\n",
      "Shrink model to first 11 iterations.\n",
      "Learning rate set to 0.032991\n",
      "0:\tlearn: 0.0480650\ttest: 0.0572412\tbest: 0.0572412 (0)\ttotal: 1.06ms\tremaining: 1.05s\n",
      "\n",
      "bestTest = 0.05688455079\n",
      "bestIteration = 10\n",
      "\n",
      "Shrink model to first 11 iterations.\n"
     ]
    },
    {
     "name": "stderr",
     "output_type": "stream",
     "text": [
      "[I 2023-06-07 20:15:28,281] Trial 32 pruned. Trial was pruned at iteration 10.\n",
      "C:\\Users\\Bayu Adjie Sidharta\\AppData\\Local\\Temp\\ipykernel_32688\\1628479321.py:34: ExperimentalWarning: CatBoostPruningCallback is experimental (supported from v3.0.0). The interface can change in the future.\n",
      "  pruning_callback = optuna.integration.CatBoostPruningCallback(trial, \"RMSE\")\n",
      "[I 2023-06-07 20:15:28,371] Trial 33 pruned. Trial was pruned at iteration 10.\n",
      "C:\\Users\\Bayu Adjie Sidharta\\AppData\\Local\\Temp\\ipykernel_32688\\1628479321.py:34: ExperimentalWarning: CatBoostPruningCallback is experimental (supported from v3.0.0). The interface can change in the future.\n",
      "  pruning_callback = optuna.integration.CatBoostPruningCallback(trial, \"RMSE\")\n",
      "[I 2023-06-07 20:15:28,461] Trial 34 pruned. Trial was pruned at iteration 10.\n",
      "C:\\Users\\Bayu Adjie Sidharta\\AppData\\Local\\Temp\\ipykernel_32688\\1628479321.py:34: ExperimentalWarning: CatBoostPruningCallback is experimental (supported from v3.0.0). The interface can change in the future.\n",
      "  pruning_callback = optuna.integration.CatBoostPruningCallback(trial, \"RMSE\")\n"
     ]
    },
    {
     "name": "stdout",
     "output_type": "stream",
     "text": [
      "Learning rate set to 0.032991\n",
      "0:\tlearn: 0.0489823\ttest: 0.0503161\tbest: 0.0503161 (0)\ttotal: 1.13ms\tremaining: 1.13s\n",
      "\n",
      "bestTest = 0.04990742757\n",
      "bestIteration = 10\n",
      "\n",
      "Shrink model to first 11 iterations.\n",
      "Learning rate set to 0.032991\n",
      "0:\tlearn: 0.0480780\ttest: 0.0519959\tbest: 0.0519959 (0)\ttotal: 1.12ms\tremaining: 1.12s\n",
      "\n",
      "bestTest = 0.05175447918\n",
      "bestIteration = 10\n",
      "\n",
      "Shrink model to first 11 iterations.\n",
      "Learning rate set to 0.032991\n",
      "0:\tlearn: 0.0524178\ttest: 0.0438393\tbest: 0.0438393 (0)\ttotal: 1.1ms\tremaining: 1.1s\n"
     ]
    },
    {
     "name": "stderr",
     "output_type": "stream",
     "text": [
      "[I 2023-06-07 20:15:28,624] Trial 35 pruned. Trial was pruned at iteration 42.\n",
      "C:\\Users\\Bayu Adjie Sidharta\\AppData\\Local\\Temp\\ipykernel_32688\\1628479321.py:34: ExperimentalWarning: CatBoostPruningCallback is experimental (supported from v3.0.0). The interface can change in the future.\n",
      "  pruning_callback = optuna.integration.CatBoostPruningCallback(trial, \"RMSE\")\n",
      "[I 2023-06-07 20:15:28,706] Trial 36 pruned. Trial was pruned at iteration 27.\n",
      "C:\\Users\\Bayu Adjie Sidharta\\AppData\\Local\\Temp\\ipykernel_32688\\1628479321.py:34: ExperimentalWarning: CatBoostPruningCallback is experimental (supported from v3.0.0). The interface can change in the future.\n",
      "  pruning_callback = optuna.integration.CatBoostPruningCallback(trial, \"RMSE\")\n",
      "[I 2023-06-07 20:15:28,790] Trial 37 pruned. Trial was pruned at iteration 10.\n"
     ]
    },
    {
     "name": "stdout",
     "output_type": "stream",
     "text": [
      "\n",
      "bestTest = 0.04324727963\n",
      "bestIteration = 27\n",
      "\n",
      "Shrink model to first 28 iterations.\n",
      "Learning rate set to 0.032991\n",
      "0:\tlearn: 0.0512851\ttest: 0.0440056\tbest: 0.0440056 (0)\ttotal: 267us\tremaining: 267ms\n",
      "\n",
      "bestTest = 0.04398589623\n",
      "bestIteration = 17\n",
      "\n",
      "Shrink model to first 18 iterations.\n",
      "Learning rate set to 0.032991\n",
      "0:\tlearn: 0.0480273\ttest: 0.0529945\tbest: 0.0529945 (0)\ttotal: 1.06ms\tremaining: 1.06s\n",
      "\n",
      "bestTest = 0.05249748139\n",
      "bestIteration = 10\n",
      "\n",
      "Shrink model to first 11 iterations.\n"
     ]
    },
    {
     "name": "stderr",
     "output_type": "stream",
     "text": [
      "C:\\Users\\Bayu Adjie Sidharta\\AppData\\Local\\Temp\\ipykernel_32688\\1628479321.py:34: ExperimentalWarning: CatBoostPruningCallback is experimental (supported from v3.0.0). The interface can change in the future.\n",
      "  pruning_callback = optuna.integration.CatBoostPruningCallback(trial, \"RMSE\")\n",
      "[I 2023-06-07 20:15:28,857] Trial 38 pruned. Trial was pruned at iteration 10.\n",
      "C:\\Users\\Bayu Adjie Sidharta\\AppData\\Local\\Temp\\ipykernel_32688\\1628479321.py:34: ExperimentalWarning: CatBoostPruningCallback is experimental (supported from v3.0.0). The interface can change in the future.\n",
      "  pruning_callback = optuna.integration.CatBoostPruningCallback(trial, \"RMSE\")\n"
     ]
    },
    {
     "name": "stdout",
     "output_type": "stream",
     "text": [
      "Learning rate set to 0.032991\n",
      "0:\tlearn: 0.0482970\ttest: 0.0569523\tbest: 0.0569523 (0)\ttotal: 284us\tremaining: 285ms\n",
      "\n",
      "bestTest = 0.05657191442\n",
      "bestIteration = 10\n",
      "\n",
      "Shrink model to first 11 iterations.\n",
      "Learning rate set to 0.032991\n",
      "0:\tlearn: 0.0520507\ttest: 0.0413726\tbest: 0.0413726 (0)\ttotal: 1.23ms\tremaining: 1.23s\n",
      "500:\tlearn: 0.0435354\ttest: 0.0345264\tbest: 0.0345148 (447)\ttotal: 530ms\tremaining: 528ms\n"
     ]
    },
    {
     "name": "stderr",
     "output_type": "stream",
     "text": [
      "[I 2023-06-07 20:15:32,217] Trial 39 finished with value: 0.03834814552357715 and parameters: {'objective': 'RMSE', 'colsample_bylevel': 0.03177945805431129, 'depth': 8, 'boosting_type': 'Ordered', 'bootstrap_type': 'Bayesian', 'bagging_temperature': 5.700127327337446}. Best is trial 0 with value: 0.036636711002973305.\n",
      "C:\\Users\\Bayu Adjie Sidharta\\AppData\\Local\\Temp\\ipykernel_32688\\1628479321.py:34: ExperimentalWarning: CatBoostPruningCallback is experimental (supported from v3.0.0). The interface can change in the future.\n",
      "  pruning_callback = optuna.integration.CatBoostPruningCallback(trial, \"RMSE\")\n",
      "[I 2023-06-07 20:15:32,297] Trial 40 pruned. Trial was pruned at iteration 10.\n"
     ]
    },
    {
     "name": "stdout",
     "output_type": "stream",
     "text": [
      "999:\tlearn: 0.0387960\ttest: 0.0314901\tbest: 0.0314475 (985)\ttotal: 1.11s\tremaining: 0us\n",
      "\n",
      "bestTest = 0.03144748272\n",
      "bestIteration = 985\n",
      "\n",
      "Shrink model to first 986 iterations.\n",
      "('Catboost', 0.03834814552357715, 0.029386115162968587, 0.20406034798122474)\n",
      "Learning rate set to 0.032991\n",
      "0:\tlearn: 0.0479374\ttest: 0.0552601\tbest: 0.0552601 (0)\ttotal: 1.56ms\tremaining: 1.56s\n",
      "\n",
      "bestTest = 0.05494130903\n",
      "bestIteration = 6\n",
      "\n",
      "Shrink model to first 7 iterations.\n",
      "Learning rate set to 0.032991\n",
      "0:\tlearn: 0.0512239\ttest: 0.0430582\tbest: 0.0430582 (0)\ttotal: 1.2ms\tremaining: 1.2s\n"
     ]
    },
    {
     "name": "stderr",
     "output_type": "stream",
     "text": [
      "C:\\Users\\Bayu Adjie Sidharta\\AppData\\Local\\Temp\\ipykernel_32688\\1628479321.py:34: ExperimentalWarning: CatBoostPruningCallback is experimental (supported from v3.0.0). The interface can change in the future.\n",
      "  pruning_callback = optuna.integration.CatBoostPruningCallback(trial, \"RMSE\")\n",
      "[I 2023-06-07 20:15:32,542] Trial 41 pruned. Trial was pruned at iteration 87.\n",
      "C:\\Users\\Bayu Adjie Sidharta\\AppData\\Local\\Temp\\ipykernel_32688\\1628479321.py:34: ExperimentalWarning: CatBoostPruningCallback is experimental (supported from v3.0.0). The interface can change in the future.\n",
      "  pruning_callback = optuna.integration.CatBoostPruningCallback(trial, \"RMSE\")\n",
      "[I 2023-06-07 20:15:32,635] Trial 42 pruned. Trial was pruned at iteration 10.\n"
     ]
    },
    {
     "name": "stdout",
     "output_type": "stream",
     "text": [
      "\n",
      "bestTest = 0.04236989258\n",
      "bestIteration = 70\n",
      "\n",
      "Shrink model to first 71 iterations.\n",
      "Learning rate set to 0.032991\n",
      "0:\tlearn: 0.0468395\ttest: 0.0461831\tbest: 0.0461831 (0)\ttotal: 966us\tremaining: 966ms\n",
      "\n",
      "bestTest = 0.04595110566\n",
      "bestIteration = 10\n",
      "\n",
      "Shrink model to first 11 iterations.\n",
      "Learning rate set to 0.032991\n",
      "0:\tlearn: 0.0481586\ttest: 0.0431421\tbest: 0.0431421 (0)\ttotal: 1.24ms\tremaining: 1.24s\n"
     ]
    },
    {
     "name": "stderr",
     "output_type": "stream",
     "text": [
      "C:\\Users\\Bayu Adjie Sidharta\\AppData\\Local\\Temp\\ipykernel_32688\\1628479321.py:34: ExperimentalWarning: CatBoostPruningCallback is experimental (supported from v3.0.0). The interface can change in the future.\n",
      "  pruning_callback = optuna.integration.CatBoostPruningCallback(trial, \"RMSE\")\n",
      "[I 2023-06-07 20:15:32,882] Trial 43 pruned. Trial was pruned at iteration 87.\n",
      "C:\\Users\\Bayu Adjie Sidharta\\AppData\\Local\\Temp\\ipykernel_32688\\1628479321.py:34: ExperimentalWarning: CatBoostPruningCallback is experimental (supported from v3.0.0). The interface can change in the future.\n",
      "  pruning_callback = optuna.integration.CatBoostPruningCallback(trial, \"RMSE\")\n",
      "[I 2023-06-07 20:15:33,008] Trial 44 pruned. Trial was pruned at iteration 33.\n"
     ]
    },
    {
     "name": "stdout",
     "output_type": "stream",
     "text": [
      "\n",
      "bestTest = 0.04221380858\n",
      "bestIteration = 78\n",
      "\n",
      "Shrink model to first 79 iterations.\n",
      "Learning rate set to 0.032991\n",
      "0:\tlearn: 0.0477099\ttest: 0.0436858\tbest: 0.0436858 (0)\ttotal: 1.16ms\tremaining: 1.16s\n",
      "\n",
      "bestTest = 0.04339235894\n",
      "bestIteration = 24\n",
      "\n",
      "Shrink model to first 25 iterations.\n",
      "Learning rate set to 0.032991\n",
      "0:\tlearn: 0.0479905\ttest: 0.0419074\tbest: 0.0419074 (0)\ttotal: 1.05ms\tremaining: 1.05s\n"
     ]
    },
    {
     "name": "stderr",
     "output_type": "stream",
     "text": [
      "C:\\Users\\Bayu Adjie Sidharta\\AppData\\Local\\Temp\\ipykernel_32688\\1628479321.py:34: ExperimentalWarning: CatBoostPruningCallback is experimental (supported from v3.0.0). The interface can change in the future.\n",
      "  pruning_callback = optuna.integration.CatBoostPruningCallback(trial, \"RMSE\")\n",
      "[I 2023-06-07 20:15:33,333] Trial 45 pruned. Trial was pruned at iteration 120.\n",
      "C:\\Users\\Bayu Adjie Sidharta\\AppData\\Local\\Temp\\ipykernel_32688\\1628479321.py:34: ExperimentalWarning: CatBoostPruningCallback is experimental (supported from v3.0.0). The interface can change in the future.\n",
      "  pruning_callback = optuna.integration.CatBoostPruningCallback(trial, \"RMSE\")\n",
      "[I 2023-06-07 20:15:33,421] Trial 46 pruned. Trial was pruned at iteration 10.\n"
     ]
    },
    {
     "name": "stdout",
     "output_type": "stream",
     "text": [
      "\n",
      "bestTest = 0.04143489931\n",
      "bestIteration = 98\n",
      "\n",
      "Shrink model to first 99 iterations.\n",
      "Learning rate set to 0.032991\n",
      "0:\tlearn: 0.0486901\ttest: 0.0513325\tbest: 0.0513325 (0)\ttotal: 1.05ms\tremaining: 1.05s\n",
      "\n",
      "bestTest = 0.0511594985\n",
      "bestIteration = 9\n",
      "\n",
      "Shrink model to first 10 iterations.\n",
      "Learning rate set to 0.032991\n",
      "0:\tlearn: 0.0507513\ttest: 0.0406981\tbest: 0.0406981 (0)\ttotal: 1.08ms\tremaining: 1.08s\n"
     ]
    },
    {
     "name": "stderr",
     "output_type": "stream",
     "text": [
      "C:\\Users\\Bayu Adjie Sidharta\\AppData\\Local\\Temp\\ipykernel_32688\\1628479321.py:34: ExperimentalWarning: CatBoostPruningCallback is experimental (supported from v3.0.0). The interface can change in the future.\n",
      "  pruning_callback = optuna.integration.CatBoostPruningCallback(trial, \"RMSE\")\n",
      "[I 2023-06-07 20:15:33,868] Trial 47 pruned. Trial was pruned at iteration 173.\n",
      "C:\\Users\\Bayu Adjie Sidharta\\AppData\\Local\\Temp\\ipykernel_32688\\1628479321.py:34: ExperimentalWarning: CatBoostPruningCallback is experimental (supported from v3.0.0). The interface can change in the future.\n",
      "  pruning_callback = optuna.integration.CatBoostPruningCallback(trial, \"RMSE\")\n",
      "[I 2023-06-07 20:15:33,962] Trial 48 pruned. Trial was pruned at iteration 10.\n",
      "C:\\Users\\Bayu Adjie Sidharta\\AppData\\Local\\Temp\\ipykernel_32688\\1628479321.py:34: ExperimentalWarning: CatBoostPruningCallback is experimental (supported from v3.0.0). The interface can change in the future.\n",
      "  pruning_callback = optuna.integration.CatBoostPruningCallback(trial, \"RMSE\")\n",
      "[I 2023-06-07 20:15:34,047] Trial 49 pruned. Trial was pruned at iteration 10.\n"
     ]
    },
    {
     "name": "stdout",
     "output_type": "stream",
     "text": [
      "\n",
      "bestTest = 0.04035528751\n",
      "bestIteration = 129\n",
      "\n",
      "Shrink model to first 130 iterations.\n",
      "Learning rate set to 0.032991\n",
      "0:\tlearn: 0.0479869\ttest: 0.0518498\tbest: 0.0518498 (0)\ttotal: 1.43ms\tremaining: 1.43s\n",
      "\n",
      "bestTest = 0.05157755598\n",
      "bestIteration = 10\n",
      "\n",
      "Shrink model to first 11 iterations.\n",
      "Learning rate set to 0.032991\n",
      "0:\tlearn: 0.0513649\ttest: 0.0462869\tbest: 0.0462869 (0)\ttotal: 1.3ms\tremaining: 1.3s\n",
      "\n",
      "bestTest = 0.04622312527\n",
      "bestIteration = 4\n",
      "\n",
      "Shrink model to first 5 iterations.\n"
     ]
    },
    {
     "name": "stderr",
     "output_type": "stream",
     "text": [
      "C:\\Users\\Bayu Adjie Sidharta\\AppData\\Local\\Temp\\ipykernel_32688\\1628479321.py:34: ExperimentalWarning: CatBoostPruningCallback is experimental (supported from v3.0.0). The interface can change in the future.\n",
      "  pruning_callback = optuna.integration.CatBoostPruningCallback(trial, \"RMSE\")\n",
      "[I 2023-06-07 20:15:34,128] Trial 50 pruned. Trial was pruned at iteration 10.\n",
      "C:\\Users\\Bayu Adjie Sidharta\\AppData\\Local\\Temp\\ipykernel_32688\\1628479321.py:34: ExperimentalWarning: CatBoostPruningCallback is experimental (supported from v3.0.0). The interface can change in the future.\n",
      "  pruning_callback = optuna.integration.CatBoostPruningCallback(trial, \"RMSE\")\n",
      "[I 2023-06-07 20:15:34,219] Trial 51 pruned. Trial was pruned at iteration 10.\n",
      "C:\\Users\\Bayu Adjie Sidharta\\AppData\\Local\\Temp\\ipykernel_32688\\1628479321.py:34: ExperimentalWarning: CatBoostPruningCallback is experimental (supported from v3.0.0). The interface can change in the future.\n",
      "  pruning_callback = optuna.integration.CatBoostPruningCallback(trial, \"RMSE\")\n"
     ]
    },
    {
     "name": "stdout",
     "output_type": "stream",
     "text": [
      "Learning rate set to 0.032991\n",
      "0:\tlearn: 0.0469941\ttest: 0.0556456\tbest: 0.0556456 (0)\ttotal: 262us\tremaining: 262ms\n",
      "\n",
      "bestTest = 0.05564556166\n",
      "bestIteration = 0\n",
      "\n",
      "Shrink model to first 1 iterations.\n",
      "Learning rate set to 0.032991\n",
      "0:\tlearn: 0.0475578\ttest: 0.0490518\tbest: 0.0490518 (0)\ttotal: 302us\tremaining: 303ms\n",
      "\n",
      "bestTest = 0.048916518\n",
      "bestIteration = 9\n",
      "\n",
      "Shrink model to first 10 iterations.\n",
      "Learning rate set to 0.032991\n",
      "0:\tlearn: 0.0543525\ttest: 0.0429205\tbest: 0.0429205 (0)\ttotal: 379us\tremaining: 379ms\n"
     ]
    },
    {
     "name": "stderr",
     "output_type": "stream",
     "text": [
      "[I 2023-06-07 20:15:34,429] Trial 52 pruned. Trial was pruned at iteration 126.\n",
      "C:\\Users\\Bayu Adjie Sidharta\\AppData\\Local\\Temp\\ipykernel_32688\\1628479321.py:34: ExperimentalWarning: CatBoostPruningCallback is experimental (supported from v3.0.0). The interface can change in the future.\n",
      "  pruning_callback = optuna.integration.CatBoostPruningCallback(trial, \"RMSE\")\n",
      "[I 2023-06-07 20:15:34,514] Trial 53 pruned. Trial was pruned at iteration 10.\n",
      "C:\\Users\\Bayu Adjie Sidharta\\AppData\\Local\\Temp\\ipykernel_32688\\1628479321.py:34: ExperimentalWarning: CatBoostPruningCallback is experimental (supported from v3.0.0). The interface can change in the future.\n",
      "  pruning_callback = optuna.integration.CatBoostPruningCallback(trial, \"RMSE\")\n",
      "[I 2023-06-07 20:15:34,594] Trial 54 pruned. Trial was pruned at iteration 10.\n"
     ]
    },
    {
     "name": "stdout",
     "output_type": "stream",
     "text": [
      "\n",
      "bestTest = 0.04127167423\n",
      "bestIteration = 125\n",
      "\n",
      "Shrink model to first 126 iterations.\n",
      "Learning rate set to 0.032991\n",
      "0:\tlearn: 0.0526197\ttest: 0.0449971\tbest: 0.0449971 (0)\ttotal: 313us\tremaining: 313ms\n",
      "\n",
      "bestTest = 0.0447592346\n",
      "bestIteration = 8\n",
      "\n",
      "Shrink model to first 9 iterations.\n",
      "Learning rate set to 0.032991\n",
      "0:\tlearn: 0.0443420\ttest: 0.0579456\tbest: 0.0579456 (0)\ttotal: 321us\tremaining: 321ms\n",
      "\n",
      "bestTest = 0.0577125406\n",
      "bestIteration = 10\n",
      "\n",
      "Shrink model to first 11 iterations.\n"
     ]
    },
    {
     "name": "stderr",
     "output_type": "stream",
     "text": [
      "C:\\Users\\Bayu Adjie Sidharta\\AppData\\Local\\Temp\\ipykernel_32688\\1628479321.py:34: ExperimentalWarning: CatBoostPruningCallback is experimental (supported from v3.0.0). The interface can change in the future.\n",
      "  pruning_callback = optuna.integration.CatBoostPruningCallback(trial, \"RMSE\")\n",
      "[I 2023-06-07 20:15:34,718] Trial 55 pruned. Trial was pruned at iteration 10.\n",
      "C:\\Users\\Bayu Adjie Sidharta\\AppData\\Local\\Temp\\ipykernel_32688\\1628479321.py:34: ExperimentalWarning: CatBoostPruningCallback is experimental (supported from v3.0.0). The interface can change in the future.\n",
      "  pruning_callback = optuna.integration.CatBoostPruningCallback(trial, \"RMSE\")\n",
      "[I 2023-06-07 20:15:34,801] Trial 56 pruned. Trial was pruned at iteration 10.\n"
     ]
    },
    {
     "name": "stdout",
     "output_type": "stream",
     "text": [
      "Learning rate set to 0.032991\n",
      "0:\tlearn: 0.0470432\ttest: 0.0581607\tbest: 0.0581607 (0)\ttotal: 1.09ms\tremaining: 1.09s\n",
      "\n",
      "bestTest = 0.05770119716\n",
      "bestIteration = 8\n",
      "\n",
      "Shrink model to first 9 iterations.\n",
      "Learning rate set to 0.032991\n",
      "0:\tlearn: 0.0465163\ttest: 0.0548861\tbest: 0.0548861 (0)\ttotal: 273us\tremaining: 273ms\n",
      "\n",
      "bestTest = 0.05464035462\n",
      "bestIteration = 10\n",
      "\n",
      "Shrink model to first 11 iterations.\n"
     ]
    },
    {
     "name": "stderr",
     "output_type": "stream",
     "text": [
      "C:\\Users\\Bayu Adjie Sidharta\\AppData\\Local\\Temp\\ipykernel_32688\\1628479321.py:34: ExperimentalWarning: CatBoostPruningCallback is experimental (supported from v3.0.0). The interface can change in the future.\n",
      "  pruning_callback = optuna.integration.CatBoostPruningCallback(trial, \"RMSE\")\n",
      "[I 2023-06-07 20:15:34,907] Trial 57 pruned. Trial was pruned at iteration 10.\n",
      "C:\\Users\\Bayu Adjie Sidharta\\AppData\\Local\\Temp\\ipykernel_32688\\1628479321.py:34: ExperimentalWarning: CatBoostPruningCallback is experimental (supported from v3.0.0). The interface can change in the future.\n",
      "  pruning_callback = optuna.integration.CatBoostPruningCallback(trial, \"RMSE\")\n",
      "[I 2023-06-07 20:15:34,982] Trial 58 pruned. Trial was pruned at iteration 10.\n",
      "C:\\Users\\Bayu Adjie Sidharta\\AppData\\Local\\Temp\\ipykernel_32688\\1628479321.py:34: ExperimentalWarning: CatBoostPruningCallback is experimental (supported from v3.0.0). The interface can change in the future.\n",
      "  pruning_callback = optuna.integration.CatBoostPruningCallback(trial, \"RMSE\")\n"
     ]
    },
    {
     "name": "stdout",
     "output_type": "stream",
     "text": [
      "Learning rate set to 0.032991\n",
      "0:\tlearn: 0.0487626\ttest: 0.0528982\tbest: 0.0528982 (0)\ttotal: 1.17ms\tremaining: 1.17s\n",
      "\n",
      "bestTest = 0.05258780574\n",
      "bestIteration = 9\n",
      "\n",
      "Shrink model to first 10 iterations.\n",
      "Learning rate set to 0.032991\n",
      "0:\tlearn: 0.0504115\ttest: 0.0468731\tbest: 0.0468731 (0)\ttotal: 262us\tremaining: 263ms\n",
      "\n",
      "bestTest = 0.04658488046\n",
      "bestIteration = 10\n",
      "\n",
      "Shrink model to first 11 iterations.\n",
      "Learning rate set to 0.032991\n",
      "0:\tlearn: 0.0478251\ttest: 0.0473442\tbest: 0.0473442 (0)\ttotal: 2.4ms\tremaining: 2.39s\n"
     ]
    },
    {
     "name": "stderr",
     "output_type": "stream",
     "text": [
      "[I 2023-06-07 20:15:35,080] Trial 59 pruned. Trial was pruned at iteration 10.\n",
      "C:\\Users\\Bayu Adjie Sidharta\\AppData\\Local\\Temp\\ipykernel_32688\\1628479321.py:34: ExperimentalWarning: CatBoostPruningCallback is experimental (supported from v3.0.0). The interface can change in the future.\n",
      "  pruning_callback = optuna.integration.CatBoostPruningCallback(trial, \"RMSE\")\n",
      "[I 2023-06-07 20:15:35,190] Trial 60 pruned. Trial was pruned at iteration 10.\n",
      "C:\\Users\\Bayu Adjie Sidharta\\AppData\\Local\\Temp\\ipykernel_32688\\1628479321.py:34: ExperimentalWarning: CatBoostPruningCallback is experimental (supported from v3.0.0). The interface can change in the future.\n",
      "  pruning_callback = optuna.integration.CatBoostPruningCallback(trial, \"RMSE\")\n",
      "[I 2023-06-07 20:15:35,268] Trial 61 pruned. Trial was pruned at iteration 10.\n"
     ]
    },
    {
     "name": "stdout",
     "output_type": "stream",
     "text": [
      "\n",
      "bestTest = 0.04691246643\n",
      "bestIteration = 10\n",
      "\n",
      "Shrink model to first 11 iterations.\n",
      "Learning rate set to 0.032991\n",
      "0:\tlearn: 0.0517178\ttest: 0.0456979\tbest: 0.0456979 (0)\ttotal: 353us\tremaining: 353ms\n",
      "\n",
      "bestTest = 0.04547617461\n",
      "bestIteration = 10\n",
      "\n",
      "Shrink model to first 11 iterations.\n",
      "Learning rate set to 0.032991\n",
      "0:\tlearn: 0.0454954\ttest: 0.0458149\tbest: 0.0458149 (0)\ttotal: 200us\tremaining: 200ms\n",
      "\n",
      "bestTest = 0.04549152043\n",
      "bestIteration = 4\n",
      "\n",
      "Shrink model to first 5 iterations.\n"
     ]
    },
    {
     "name": "stderr",
     "output_type": "stream",
     "text": [
      "C:\\Users\\Bayu Adjie Sidharta\\AppData\\Local\\Temp\\ipykernel_32688\\1628479321.py:34: ExperimentalWarning: CatBoostPruningCallback is experimental (supported from v3.0.0). The interface can change in the future.\n",
      "  pruning_callback = optuna.integration.CatBoostPruningCallback(trial, \"RMSE\")\n",
      "[I 2023-06-07 20:15:35,345] Trial 62 pruned. Trial was pruned at iteration 10.\n",
      "C:\\Users\\Bayu Adjie Sidharta\\AppData\\Local\\Temp\\ipykernel_32688\\1628479321.py:34: ExperimentalWarning: CatBoostPruningCallback is experimental (supported from v3.0.0). The interface can change in the future.\n",
      "  pruning_callback = optuna.integration.CatBoostPruningCallback(trial, \"RMSE\")\n"
     ]
    },
    {
     "name": "stdout",
     "output_type": "stream",
     "text": [
      "Learning rate set to 0.032991\n",
      "0:\tlearn: 0.0475603\ttest: 0.0499309\tbest: 0.0499309 (0)\ttotal: 380us\tremaining: 380ms\n",
      "\n",
      "bestTest = 0.04931400861\n",
      "bestIteration = 8\n",
      "\n",
      "Shrink model to first 9 iterations.\n",
      "Learning rate set to 0.032991\n",
      "0:\tlearn: 0.0501984\ttest: 0.0385698\tbest: 0.0385698 (0)\ttotal: 203us\tremaining: 203ms\n",
      "500:\tlearn: 0.0398380\ttest: 0.0312502\tbest: 0.0312502 (500)\ttotal: 91.6ms\tremaining: 91.3ms\n"
     ]
    },
    {
     "name": "stderr",
     "output_type": "stream",
     "text": [
      "[I 2023-06-07 20:15:36,466] Trial 63 finished with value: 0.04551118601528584 and parameters: {'objective': 'RMSE', 'colsample_bylevel': 0.03386927591305926, 'depth': 8, 'boosting_type': 'Plain', 'bootstrap_type': 'Bernoulli', 'subsample': 0.19458574707110549}. Best is trial 0 with value: 0.036636711002973305.\n",
      "C:\\Users\\Bayu Adjie Sidharta\\AppData\\Local\\Temp\\ipykernel_32688\\1628479321.py:34: ExperimentalWarning: CatBoostPruningCallback is experimental (supported from v3.0.0). The interface can change in the future.\n",
      "  pruning_callback = optuna.integration.CatBoostPruningCallback(trial, \"RMSE\")\n",
      "[I 2023-06-07 20:15:36,537] Trial 64 pruned. Trial was pruned at iteration 10.\n",
      "C:\\Users\\Bayu Adjie Sidharta\\AppData\\Local\\Temp\\ipykernel_32688\\1628479321.py:34: ExperimentalWarning: CatBoostPruningCallback is experimental (supported from v3.0.0). The interface can change in the future.\n",
      "  pruning_callback = optuna.integration.CatBoostPruningCallback(trial, \"RMSE\")\n",
      "[I 2023-06-07 20:15:36,617] Trial 65 pruned. Trial was pruned at iteration 10.\n"
     ]
    },
    {
     "name": "stdout",
     "output_type": "stream",
     "text": [
      "Stopped by overfitting detector  (100 iterations wait)\n",
      "\n",
      "bestTest = 0.03116241432\n",
      "bestIteration = 531\n",
      "\n",
      "Shrink model to first 532 iterations.\n",
      "('Catboost', 0.04551118601528584, 0.03349429502269046, 0.19500254660956373)\n",
      "Learning rate set to 0.032991\n",
      "0:\tlearn: 0.0466758\ttest: 0.0518593\tbest: 0.0518593 (0)\ttotal: 251us\tremaining: 252ms\n",
      "\n",
      "bestTest = 0.05108377923\n",
      "bestIteration = 4\n",
      "\n",
      "Shrink model to first 5 iterations.\n",
      "Learning rate set to 0.032991\n",
      "0:\tlearn: 0.0479701\ttest: 0.0477919\tbest: 0.0477919 (0)\ttotal: 1.19ms\tremaining: 1.19s\n",
      "\n",
      "bestTest = 0.04774547634\n",
      "bestIteration = 5\n",
      "\n",
      "Shrink model to first 6 iterations.\n"
     ]
    },
    {
     "name": "stderr",
     "output_type": "stream",
     "text": [
      "C:\\Users\\Bayu Adjie Sidharta\\AppData\\Local\\Temp\\ipykernel_32688\\1628479321.py:34: ExperimentalWarning: CatBoostPruningCallback is experimental (supported from v3.0.0). The interface can change in the future.\n",
      "  pruning_callback = optuna.integration.CatBoostPruningCallback(trial, \"RMSE\")\n",
      "[I 2023-06-07 20:15:36,689] Trial 66 pruned. Trial was pruned at iteration 10.\n",
      "C:\\Users\\Bayu Adjie Sidharta\\AppData\\Local\\Temp\\ipykernel_32688\\1628479321.py:34: ExperimentalWarning: CatBoostPruningCallback is experimental (supported from v3.0.0). The interface can change in the future.\n",
      "  pruning_callback = optuna.integration.CatBoostPruningCallback(trial, \"RMSE\")\n",
      "[I 2023-06-07 20:15:36,780] Trial 67 pruned. Trial was pruned at iteration 10.\n",
      "C:\\Users\\Bayu Adjie Sidharta\\AppData\\Local\\Temp\\ipykernel_32688\\1628479321.py:34: ExperimentalWarning: CatBoostPruningCallback is experimental (supported from v3.0.0). The interface can change in the future.\n",
      "  pruning_callback = optuna.integration.CatBoostPruningCallback(trial, \"RMSE\")\n"
     ]
    },
    {
     "name": "stdout",
     "output_type": "stream",
     "text": [
      "Learning rate set to 0.032991\n",
      "0:\tlearn: 0.0447342\ttest: 0.0513078\tbest: 0.0513078 (0)\ttotal: 139us\tremaining: 140ms\n",
      "\n",
      "bestTest = 0.05105048745\n",
      "bestIteration = 10\n",
      "\n",
      "Shrink model to first 11 iterations.\n",
      "Learning rate set to 0.032991\n",
      "0:\tlearn: 0.0459325\ttest: 0.0589210\tbest: 0.0589210 (0)\ttotal: 1.16ms\tremaining: 1.16s\n",
      "\n",
      "bestTest = 0.05878943932\n",
      "bestIteration = 10\n",
      "\n",
      "Shrink model to first 11 iterations.\n",
      "Learning rate set to 0.032991\n",
      "0:\tlearn: 0.0480506\ttest: 0.0460199\tbest: 0.0460199 (0)\ttotal: 296us\tremaining: 296ms\n",
      "\n",
      "bestTest = 0.0456882391\n",
      "bestIteration = 10\n",
      "\n",
      "Shrink model to first 11 iterations.\n"
     ]
    },
    {
     "name": "stderr",
     "output_type": "stream",
     "text": [
      "[I 2023-06-07 20:15:36,859] Trial 68 pruned. Trial was pruned at iteration 10.\n",
      "C:\\Users\\Bayu Adjie Sidharta\\AppData\\Local\\Temp\\ipykernel_32688\\1628479321.py:34: ExperimentalWarning: CatBoostPruningCallback is experimental (supported from v3.0.0). The interface can change in the future.\n",
      "  pruning_callback = optuna.integration.CatBoostPruningCallback(trial, \"RMSE\")\n",
      "[I 2023-06-07 20:15:36,940] Trial 69 pruned. Trial was pruned at iteration 10.\n",
      "C:\\Users\\Bayu Adjie Sidharta\\AppData\\Local\\Temp\\ipykernel_32688\\1628479321.py:34: ExperimentalWarning: CatBoostPruningCallback is experimental (supported from v3.0.0). The interface can change in the future.\n",
      "  pruning_callback = optuna.integration.CatBoostPruningCallback(trial, \"RMSE\")\n",
      "[I 2023-06-07 20:15:37,032] Trial 70 pruned. Trial was pruned at iteration 10.\n",
      "C:\\Users\\Bayu Adjie Sidharta\\AppData\\Local\\Temp\\ipykernel_32688\\1628479321.py:34: ExperimentalWarning: CatBoostPruningCallback is experimental (supported from v3.0.0). The interface can change in the future.\n",
      "  pruning_callback = optuna.integration.CatBoostPruningCallback(trial, \"RMSE\")\n"
     ]
    },
    {
     "name": "stdout",
     "output_type": "stream",
     "text": [
      "Learning rate set to 0.032991\n",
      "0:\tlearn: 0.0475789\ttest: 0.0483365\tbest: 0.0483365 (0)\ttotal: 1.16ms\tremaining: 1.16s\n",
      "\n",
      "bestTest = 0.04831878251\n",
      "bestIteration = 3\n",
      "\n",
      "Shrink model to first 4 iterations.\n",
      "Learning rate set to 0.032991\n",
      "0:\tlearn: 0.0507211\ttest: 0.0471641\tbest: 0.0471641 (0)\ttotal: 1.24ms\tremaining: 1.24s\n",
      "\n",
      "bestTest = 0.04648304885\n",
      "bestIteration = 10\n",
      "\n",
      "Shrink model to first 11 iterations.\n",
      "Learning rate set to 0.032991\n",
      "0:\tlearn: 0.0493742\ttest: 0.0413392\tbest: 0.0413392 (0)\ttotal: 1.15ms\tremaining: 1.15s\n"
     ]
    },
    {
     "name": "stderr",
     "output_type": "stream",
     "text": [
      "[I 2023-06-07 20:15:37,404] Trial 71 pruned. Trial was pruned at iteration 151.\n",
      "C:\\Users\\Bayu Adjie Sidharta\\AppData\\Local\\Temp\\ipykernel_32688\\1628479321.py:34: ExperimentalWarning: CatBoostPruningCallback is experimental (supported from v3.0.0). The interface can change in the future.\n",
      "  pruning_callback = optuna.integration.CatBoostPruningCallback(trial, \"RMSE\")\n",
      "[I 2023-06-07 20:15:37,497] Trial 72 pruned. Trial was pruned at iteration 10.\n",
      "C:\\Users\\Bayu Adjie Sidharta\\AppData\\Local\\Temp\\ipykernel_32688\\1628479321.py:34: ExperimentalWarning: CatBoostPruningCallback is experimental (supported from v3.0.0). The interface can change in the future.\n",
      "  pruning_callback = optuna.integration.CatBoostPruningCallback(trial, \"RMSE\")\n",
      "[I 2023-06-07 20:15:37,586] Trial 73 pruned. Trial was pruned at iteration 10.\n"
     ]
    },
    {
     "name": "stdout",
     "output_type": "stream",
     "text": [
      "\n",
      "bestTest = 0.0399848121\n",
      "bestIteration = 145\n",
      "\n",
      "Shrink model to first 146 iterations.\n",
      "Learning rate set to 0.032991\n",
      "0:\tlearn: 0.0484971\ttest: 0.0461747\tbest: 0.0461747 (0)\ttotal: 1.16ms\tremaining: 1.16s\n",
      "\n",
      "bestTest = 0.04578850293\n",
      "bestIteration = 10\n",
      "\n",
      "Shrink model to first 11 iterations.\n",
      "Learning rate set to 0.032991\n",
      "0:\tlearn: 0.0507951\ttest: 0.0481571\tbest: 0.0481571 (0)\ttotal: 1.2ms\tremaining: 1.2s\n",
      "\n",
      "bestTest = 0.04795151785\n",
      "bestIteration = 10\n",
      "\n",
      "Shrink model to first 11 iterations.\n"
     ]
    },
    {
     "name": "stderr",
     "output_type": "stream",
     "text": [
      "C:\\Users\\Bayu Adjie Sidharta\\AppData\\Local\\Temp\\ipykernel_32688\\1628479321.py:34: ExperimentalWarning: CatBoostPruningCallback is experimental (supported from v3.0.0). The interface can change in the future.\n",
      "  pruning_callback = optuna.integration.CatBoostPruningCallback(trial, \"RMSE\")\n",
      "[I 2023-06-07 20:15:37,766] Trial 74 pruned. Trial was pruned at iteration 33.\n",
      "C:\\Users\\Bayu Adjie Sidharta\\AppData\\Local\\Temp\\ipykernel_32688\\1628479321.py:34: ExperimentalWarning: CatBoostPruningCallback is experimental (supported from v3.0.0). The interface can change in the future.\n",
      "  pruning_callback = optuna.integration.CatBoostPruningCallback(trial, \"RMSE\")\n",
      "[I 2023-06-07 20:15:37,858] Trial 75 pruned. Trial was pruned at iteration 10.\n"
     ]
    },
    {
     "name": "stdout",
     "output_type": "stream",
     "text": [
      "Learning rate set to 0.032991\n",
      "0:\tlearn: 0.0455352\ttest: 0.0425294\tbest: 0.0425294 (0)\ttotal: 1.17ms\tremaining: 1.17s\n",
      "\n",
      "bestTest = 0.04250772801\n",
      "bestIteration = 3\n",
      "\n",
      "Shrink model to first 4 iterations.\n",
      "Learning rate set to 0.032991\n",
      "0:\tlearn: 0.0507040\ttest: 0.0454248\tbest: 0.0454248 (0)\ttotal: 1.02ms\tremaining: 1.02s\n",
      "\n",
      "bestTest = 0.04484257559\n",
      "bestIteration = 10\n",
      "\n",
      "Shrink model to first 11 iterations.\n"
     ]
    },
    {
     "name": "stderr",
     "output_type": "stream",
     "text": [
      "C:\\Users\\Bayu Adjie Sidharta\\AppData\\Local\\Temp\\ipykernel_32688\\1628479321.py:34: ExperimentalWarning: CatBoostPruningCallback is experimental (supported from v3.0.0). The interface can change in the future.\n",
      "  pruning_callback = optuna.integration.CatBoostPruningCallback(trial, \"RMSE\")\n",
      "[I 2023-06-07 20:15:37,953] Trial 76 pruned. Trial was pruned at iteration 10.\n",
      "C:\\Users\\Bayu Adjie Sidharta\\AppData\\Local\\Temp\\ipykernel_32688\\1628479321.py:34: ExperimentalWarning: CatBoostPruningCallback is experimental (supported from v3.0.0). The interface can change in the future.\n",
      "  pruning_callback = optuna.integration.CatBoostPruningCallback(trial, \"RMSE\")\n",
      "[I 2023-06-07 20:15:38,036] Trial 77 pruned. Trial was pruned at iteration 10.\n",
      "C:\\Users\\Bayu Adjie Sidharta\\AppData\\Local\\Temp\\ipykernel_32688\\1628479321.py:34: ExperimentalWarning: CatBoostPruningCallback is experimental (supported from v3.0.0). The interface can change in the future.\n",
      "  pruning_callback = optuna.integration.CatBoostPruningCallback(trial, \"RMSE\")\n"
     ]
    },
    {
     "name": "stdout",
     "output_type": "stream",
     "text": [
      "Learning rate set to 0.032991\n",
      "0:\tlearn: 0.0506327\ttest: 0.0455349\tbest: 0.0455349 (0)\ttotal: 1.21ms\tremaining: 1.21s\n",
      "\n",
      "bestTest = 0.04530460457\n",
      "bestIteration = 10\n",
      "\n",
      "Shrink model to first 11 iterations.\n",
      "Learning rate set to 0.032991\n",
      "0:\tlearn: 0.0447496\ttest: 0.0543380\tbest: 0.0543380 (0)\ttotal: 286us\tremaining: 287ms\n",
      "\n",
      "bestTest = 0.0541848682\n",
      "bestIteration = 10\n",
      "\n",
      "Shrink model to first 11 iterations.\n",
      "Learning rate set to 0.032991\n",
      "0:\tlearn: 0.0485170\ttest: 0.0554651\tbest: 0.0554651 (0)\ttotal: 1.3ms\tremaining: 1.3s\n",
      "\n",
      "bestTest = 0.05502639487\n",
      "bestIteration = 10\n",
      "\n",
      "Shrink model to first 11 iterations.\n"
     ]
    },
    {
     "name": "stderr",
     "output_type": "stream",
     "text": [
      "[I 2023-06-07 20:15:38,133] Trial 78 pruned. Trial was pruned at iteration 10.\n",
      "C:\\Users\\Bayu Adjie Sidharta\\AppData\\Local\\Temp\\ipykernel_32688\\1628479321.py:34: ExperimentalWarning: CatBoostPruningCallback is experimental (supported from v3.0.0). The interface can change in the future.\n",
      "  pruning_callback = optuna.integration.CatBoostPruningCallback(trial, \"RMSE\")\n",
      "[I 2023-06-07 20:15:38,230] Trial 79 pruned. Trial was pruned at iteration 10.\n",
      "C:\\Users\\Bayu Adjie Sidharta\\AppData\\Local\\Temp\\ipykernel_32688\\1628479321.py:34: ExperimentalWarning: CatBoostPruningCallback is experimental (supported from v3.0.0). The interface can change in the future.\n",
      "  pruning_callback = optuna.integration.CatBoostPruningCallback(trial, \"RMSE\")\n"
     ]
    },
    {
     "name": "stdout",
     "output_type": "stream",
     "text": [
      "Learning rate set to 0.032991\n",
      "0:\tlearn: 0.0481345\ttest: 0.0518823\tbest: 0.0518823 (0)\ttotal: 1.27ms\tremaining: 1.27s\n",
      "\n",
      "bestTest = 0.05158162632\n",
      "bestIteration = 6\n",
      "\n",
      "Shrink model to first 7 iterations.\n",
      "Learning rate set to 0.032991\n",
      "0:\tlearn: 0.0504548\ttest: 0.0388677\tbest: 0.0388677 (0)\ttotal: 269us\tremaining: 269ms\n",
      "500:\tlearn: 0.0396471\ttest: 0.0334709\tbest: 0.0334592 (484)\ttotal: 117ms\tremaining: 116ms\n"
     ]
    },
    {
     "name": "stderr",
     "output_type": "stream",
     "text": [
      "[I 2023-06-07 20:15:41,031] Trial 80 finished with value: 0.043682730118987045 and parameters: {'objective': 'RMSE', 'colsample_bylevel': 0.036243754170971657, 'depth': 2, 'boosting_type': 'Plain', 'bootstrap_type': 'Bayesian', 'bagging_temperature': 3.7709045630830733}. Best is trial 0 with value: 0.036636711002973305.\n"
     ]
    },
    {
     "name": "stdout",
     "output_type": "stream",
     "text": [
      "999:\tlearn: 0.0344079\ttest: 0.0316434\tbest: 0.0315302 (984)\ttotal: 249ms\tremaining: 0us\n",
      "\n",
      "bestTest = 0.03153019614\n",
      "bestIteration = 984\n",
      "\n",
      "Shrink model to first 985 iterations.\n",
      "('Catboost', 0.043682730118987045, 0.035901537296467695, 0.26552705801701704)\n",
      "Learning rate set to 0.032991\n",
      "0:\tlearn: 0.0483560\ttest: 0.0405556\tbest: 0.0405556 (0)\ttotal: 1.4ms\tremaining: 1.4s\n"
     ]
    },
    {
     "name": "stderr",
     "output_type": "stream",
     "text": [
      "C:\\Users\\Bayu Adjie Sidharta\\AppData\\Local\\Temp\\ipykernel_32688\\1628479321.py:34: ExperimentalWarning: CatBoostPruningCallback is experimental (supported from v3.0.0). The interface can change in the future.\n",
      "  pruning_callback = optuna.integration.CatBoostPruningCallback(trial, \"RMSE\")\n",
      "[I 2023-06-07 20:15:41,444] Trial 81 pruned. Trial was pruned at iteration 143.\n",
      "C:\\Users\\Bayu Adjie Sidharta\\AppData\\Local\\Temp\\ipykernel_32688\\1628479321.py:34: ExperimentalWarning: CatBoostPruningCallback is experimental (supported from v3.0.0). The interface can change in the future.\n",
      "  pruning_callback = optuna.integration.CatBoostPruningCallback(trial, \"RMSE\")\n",
      "[I 2023-06-07 20:15:41,545] Trial 82 pruned. Trial was pruned at iteration 10.\n"
     ]
    },
    {
     "name": "stdout",
     "output_type": "stream",
     "text": [
      "\n",
      "bestTest = 0.03963823146\n",
      "bestIteration = 95\n",
      "\n",
      "Shrink model to first 96 iterations.\n",
      "Learning rate set to 0.032991\n",
      "0:\tlearn: 0.0502949\ttest: 0.0479480\tbest: 0.0479480 (0)\ttotal: 1.34ms\tremaining: 1.34s\n",
      "\n",
      "bestTest = 0.0476119133\n",
      "bestIteration = 8\n",
      "\n",
      "Shrink model to first 9 iterations.\n",
      "Learning rate set to 0.032991\n",
      "0:\tlearn: 0.0533707\ttest: 0.0341468\tbest: 0.0341468 (0)\ttotal: 1.38ms\tremaining: 1.38s\n"
     ]
    },
    {
     "name": "stderr",
     "output_type": "stream",
     "text": [
      "C:\\Users\\Bayu Adjie Sidharta\\AppData\\Local\\Temp\\ipykernel_32688\\1628479321.py:34: ExperimentalWarning: CatBoostPruningCallback is experimental (supported from v3.0.0). The interface can change in the future.\n",
      "  pruning_callback = optuna.integration.CatBoostPruningCallback(trial, \"RMSE\")\n",
      "[I 2023-06-07 20:15:42,333] Trial 83 finished with value: 0.041432100415282204 and parameters: {'objective': 'RMSE', 'colsample_bylevel': 0.02789091970525695, 'depth': 5, 'boosting_type': 'Ordered', 'bootstrap_type': 'Bernoulli', 'subsample': 0.6372804051329629}. Best is trial 0 with value: 0.036636711002973305.\n",
      "C:\\Users\\Bayu Adjie Sidharta\\AppData\\Local\\Temp\\ipykernel_32688\\1628479321.py:34: ExperimentalWarning: CatBoostPruningCallback is experimental (supported from v3.0.0). The interface can change in the future.\n",
      "  pruning_callback = optuna.integration.CatBoostPruningCallback(trial, \"RMSE\")\n",
      "[I 2023-06-07 20:15:42,427] Trial 84 pruned. Trial was pruned at iteration 10.\n"
     ]
    },
    {
     "name": "stdout",
     "output_type": "stream",
     "text": [
      "Stopped by overfitting detector  (100 iterations wait)\n",
      "\n",
      "bestTest = 0.03280118379\n",
      "bestIteration = 184\n",
      "\n",
      "Shrink model to first 185 iterations.\n",
      "('Catboost', 0.041432100415282204, 0.03230230472365153, 0.08552698854777707)\n",
      "Learning rate set to 0.032991\n",
      "0:\tlearn: 0.0501711\ttest: 0.0434869\tbest: 0.0434869 (0)\ttotal: 1.3ms\tremaining: 1.3s\n",
      "\n",
      "bestTest = 0.04300125512\n",
      "bestIteration = 8\n",
      "\n",
      "Shrink model to first 9 iterations.\n",
      "Learning rate set to 0.032991\n",
      "0:\tlearn: 0.0523305\ttest: 0.0395271\tbest: 0.0395271 (0)\ttotal: 1.44ms\tremaining: 1.44s\n"
     ]
    },
    {
     "name": "stderr",
     "output_type": "stream",
     "text": [
      "C:\\Users\\Bayu Adjie Sidharta\\AppData\\Local\\Temp\\ipykernel_32688\\1628479321.py:34: ExperimentalWarning: CatBoostPruningCallback is experimental (supported from v3.0.0). The interface can change in the future.\n",
      "  pruning_callback = optuna.integration.CatBoostPruningCallback(trial, \"RMSE\")\n"
     ]
    },
    {
     "name": "stdout",
     "output_type": "stream",
     "text": [
      "500:\tlearn: 0.0387962\ttest: 0.0333319\tbest: 0.0332923 (475)\ttotal: 624ms\tremaining: 621ms\n"
     ]
    },
    {
     "name": "stderr",
     "output_type": "stream",
     "text": [
      "[I 2023-06-07 20:15:45,355] Trial 85 finished with value: 0.0383418350230637 and parameters: {'objective': 'RMSE', 'colsample_bylevel': 0.03896995582780438, 'depth': 5, 'boosting_type': 'Ordered', 'bootstrap_type': 'Bernoulli', 'subsample': 0.2543329623540803}. Best is trial 0 with value: 0.036636711002973305.\n",
      "C:\\Users\\Bayu Adjie Sidharta\\AppData\\Local\\Temp\\ipykernel_32688\\1628479321.py:34: ExperimentalWarning: CatBoostPruningCallback is experimental (supported from v3.0.0). The interface can change in the future.\n",
      "  pruning_callback = optuna.integration.CatBoostPruningCallback(trial, \"RMSE\")\n",
      "[I 2023-06-07 20:15:45,453] Trial 86 pruned. Trial was pruned at iteration 10.\n",
      "C:\\Users\\Bayu Adjie Sidharta\\AppData\\Local\\Temp\\ipykernel_32688\\1628479321.py:34: ExperimentalWarning: CatBoostPruningCallback is experimental (supported from v3.0.0). The interface can change in the future.\n",
      "  pruning_callback = optuna.integration.CatBoostPruningCallback(trial, \"RMSE\")\n",
      "[I 2023-06-07 20:15:45,552] Trial 87 pruned. Trial was pruned at iteration 10.\n"
     ]
    },
    {
     "name": "stdout",
     "output_type": "stream",
     "text": [
      "Stopped by overfitting detector  (100 iterations wait)\n",
      "\n",
      "bestTest = 0.03290384544\n",
      "bestIteration = 689\n",
      "\n",
      "Shrink model to first 690 iterations.\n",
      "('Catboost', 0.0383418350230637, 0.029989858704142128, 0.09780659312281903)\n",
      "Learning rate set to 0.032991\n",
      "0:\tlearn: 0.0483164\ttest: 0.0482546\tbest: 0.0482546 (0)\ttotal: 1.28ms\tremaining: 1.28s\n",
      "\n",
      "bestTest = 0.04814130543\n",
      "bestIteration = 10\n",
      "\n",
      "Shrink model to first 11 iterations.\n",
      "Learning rate set to 0.032991\n",
      "0:\tlearn: 0.0476647\ttest: 0.0439992\tbest: 0.0439992 (0)\ttotal: 1.14ms\tremaining: 1.14s\n",
      "\n",
      "bestTest = 0.04399922666\n",
      "bestIteration = 0\n",
      "\n",
      "Shrink model to first 1 iterations.\n"
     ]
    },
    {
     "name": "stderr",
     "output_type": "stream",
     "text": [
      "C:\\Users\\Bayu Adjie Sidharta\\AppData\\Local\\Temp\\ipykernel_32688\\1628479321.py:34: ExperimentalWarning: CatBoostPruningCallback is experimental (supported from v3.0.0). The interface can change in the future.\n",
      "  pruning_callback = optuna.integration.CatBoostPruningCallback(trial, \"RMSE\")\n",
      "[I 2023-06-07 20:15:45,654] Trial 88 pruned. Trial was pruned at iteration 10.\n",
      "C:\\Users\\Bayu Adjie Sidharta\\AppData\\Local\\Temp\\ipykernel_32688\\1628479321.py:34: ExperimentalWarning: CatBoostPruningCallback is experimental (supported from v3.0.0). The interface can change in the future.\n",
      "  pruning_callback = optuna.integration.CatBoostPruningCallback(trial, \"RMSE\")\n",
      "[I 2023-06-07 20:15:45,740] Trial 89 pruned. Trial was pruned at iteration 10.\n"
     ]
    },
    {
     "name": "stdout",
     "output_type": "stream",
     "text": [
      "Learning rate set to 0.032991\n",
      "0:\tlearn: 0.0436296\ttest: 0.0549341\tbest: 0.0549341 (0)\ttotal: 1.23ms\tremaining: 1.23s\n",
      "\n",
      "bestTest = 0.05474050384\n",
      "bestIteration = 8\n",
      "\n",
      "Shrink model to first 9 iterations.\n",
      "Learning rate set to 0.032991\n",
      "0:\tlearn: 0.0470243\ttest: 0.0500719\tbest: 0.0500719 (0)\ttotal: 256us\tremaining: 256ms\n",
      "\n",
      "bestTest = 0.0496496403\n",
      "bestIteration = 8\n",
      "\n",
      "Shrink model to first 9 iterations.\n"
     ]
    },
    {
     "name": "stderr",
     "output_type": "stream",
     "text": [
      "C:\\Users\\Bayu Adjie Sidharta\\AppData\\Local\\Temp\\ipykernel_32688\\1628479321.py:34: ExperimentalWarning: CatBoostPruningCallback is experimental (supported from v3.0.0). The interface can change in the future.\n",
      "  pruning_callback = optuna.integration.CatBoostPruningCallback(trial, \"RMSE\")\n",
      "[I 2023-06-07 20:15:45,872] Trial 90 pruned. Trial was pruned at iteration 10.\n",
      "C:\\Users\\Bayu Adjie Sidharta\\AppData\\Local\\Temp\\ipykernel_32688\\1628479321.py:34: ExperimentalWarning: CatBoostPruningCallback is experimental (supported from v3.0.0). The interface can change in the future.\n",
      "  pruning_callback = optuna.integration.CatBoostPruningCallback(trial, \"RMSE\")\n"
     ]
    },
    {
     "name": "stdout",
     "output_type": "stream",
     "text": [
      "Learning rate set to 0.032991\n",
      "0:\tlearn: 0.0492200\ttest: 0.0477125\tbest: 0.0477125 (0)\ttotal: 1.28ms\tremaining: 1.28s\n",
      "\n",
      "bestTest = 0.04767449522\n",
      "bestIteration = 10\n",
      "\n",
      "Shrink model to first 11 iterations.\n",
      "Learning rate set to 0.032991\n",
      "0:\tlearn: 0.0498117\ttest: 0.0399906\tbest: 0.0399906 (0)\ttotal: 1.12ms\tremaining: 1.12s\n"
     ]
    },
    {
     "name": "stderr",
     "output_type": "stream",
     "text": [
      "[I 2023-06-07 20:15:47,302] Trial 91 finished with value: 0.04992761289022155 and parameters: {'objective': 'RMSE', 'colsample_bylevel': 0.029297041966203873, 'depth': 6, 'boosting_type': 'Ordered', 'bootstrap_type': 'Bayesian', 'bagging_temperature': 5.084557282294862}. Best is trial 0 with value: 0.036636711002973305.\n",
      "C:\\Users\\Bayu Adjie Sidharta\\AppData\\Local\\Temp\\ipykernel_32688\\1628479321.py:34: ExperimentalWarning: CatBoostPruningCallback is experimental (supported from v3.0.0). The interface can change in the future.\n",
      "  pruning_callback = optuna.integration.CatBoostPruningCallback(trial, \"RMSE\")\n",
      "[I 2023-06-07 20:15:47,391] Trial 92 pruned. Trial was pruned at iteration 10.\n",
      "C:\\Users\\Bayu Adjie Sidharta\\AppData\\Local\\Temp\\ipykernel_32688\\1628479321.py:34: ExperimentalWarning: CatBoostPruningCallback is experimental (supported from v3.0.0). The interface can change in the future.\n",
      "  pruning_callback = optuna.integration.CatBoostPruningCallback(trial, \"RMSE\")\n",
      "[I 2023-06-07 20:15:47,492] Trial 93 pruned. Trial was pruned at iteration 10.\n"
     ]
    },
    {
     "name": "stdout",
     "output_type": "stream",
     "text": [
      "Stopped by overfitting detector  (100 iterations wait)\n",
      "\n",
      "bestTest = 0.03571262211\n",
      "bestIteration = 363\n",
      "\n",
      "Shrink model to first 364 iterations.\n",
      "('Catboost', 0.04992761289022155, 0.03917825153697176, 0.12589426330309694)\n",
      "Learning rate set to 0.032991\n",
      "0:\tlearn: 0.0470467\ttest: 0.0415433\tbest: 0.0415433 (0)\ttotal: 1.1ms\tremaining: 1.09s\n",
      "\n",
      "bestTest = 0.04096568785\n",
      "bestIteration = 7\n",
      "\n",
      "Shrink model to first 8 iterations.\n",
      "Learning rate set to 0.032991\n",
      "0:\tlearn: 0.0482239\ttest: 0.0499596\tbest: 0.0499596 (0)\ttotal: 1.16ms\tremaining: 1.16s\n",
      "\n",
      "bestTest = 0.04942963457\n",
      "bestIteration = 10\n",
      "\n",
      "Shrink model to first 11 iterations.\n"
     ]
    },
    {
     "name": "stderr",
     "output_type": "stream",
     "text": [
      "C:\\Users\\Bayu Adjie Sidharta\\AppData\\Local\\Temp\\ipykernel_32688\\1628479321.py:34: ExperimentalWarning: CatBoostPruningCallback is experimental (supported from v3.0.0). The interface can change in the future.\n",
      "  pruning_callback = optuna.integration.CatBoostPruningCallback(trial, \"RMSE\")\n",
      "[I 2023-06-07 20:15:47,603] Trial 94 pruned. Trial was pruned at iteration 10.\n",
      "C:\\Users\\Bayu Adjie Sidharta\\AppData\\Local\\Temp\\ipykernel_32688\\1628479321.py:34: ExperimentalWarning: CatBoostPruningCallback is experimental (supported from v3.0.0). The interface can change in the future.\n",
      "  pruning_callback = optuna.integration.CatBoostPruningCallback(trial, \"RMSE\")\n",
      "[I 2023-06-07 20:15:47,682] Trial 95 pruned. Trial was pruned at iteration 10.\n",
      "C:\\Users\\Bayu Adjie Sidharta\\AppData\\Local\\Temp\\ipykernel_32688\\1628479321.py:34: ExperimentalWarning: CatBoostPruningCallback is experimental (supported from v3.0.0). The interface can change in the future.\n",
      "  pruning_callback = optuna.integration.CatBoostPruningCallback(trial, \"RMSE\")\n"
     ]
    },
    {
     "name": "stdout",
     "output_type": "stream",
     "text": [
      "Learning rate set to 0.032991\n",
      "0:\tlearn: 0.0484320\ttest: 0.0412963\tbest: 0.0412963 (0)\ttotal: 1.28ms\tremaining: 1.28s\n",
      "\n",
      "bestTest = 0.04119179183\n",
      "bestIteration = 10\n",
      "\n",
      "Shrink model to first 11 iterations.\n",
      "Learning rate set to 0.032991\n",
      "0:\tlearn: 0.0492385\ttest: 0.0512994\tbest: 0.0512994 (0)\ttotal: 308us\tremaining: 309ms\n",
      "\n",
      "bestTest = 0.0506999177\n",
      "bestIteration = 6\n",
      "\n",
      "Shrink model to first 7 iterations.\n",
      "Learning rate set to 0.032991\n",
      "0:\tlearn: 0.0496944\ttest: 0.0426903\tbest: 0.0426903 (0)\ttotal: 1.28ms\tremaining: 1.28s\n"
     ]
    },
    {
     "name": "stderr",
     "output_type": "stream",
     "text": [
      "[I 2023-06-07 20:15:47,810] Trial 96 pruned. Trial was pruned at iteration 10.\n",
      "C:\\Users\\Bayu Adjie Sidharta\\AppData\\Local\\Temp\\ipykernel_32688\\1628479321.py:34: ExperimentalWarning: CatBoostPruningCallback is experimental (supported from v3.0.0). The interface can change in the future.\n",
      "  pruning_callback = optuna.integration.CatBoostPruningCallback(trial, \"RMSE\")\n",
      "[I 2023-06-07 20:15:47,893] Trial 97 pruned. Trial was pruned at iteration 10.\n",
      "C:\\Users\\Bayu Adjie Sidharta\\AppData\\Local\\Temp\\ipykernel_32688\\1628479321.py:34: ExperimentalWarning: CatBoostPruningCallback is experimental (supported from v3.0.0). The interface can change in the future.\n",
      "  pruning_callback = optuna.integration.CatBoostPruningCallback(trial, \"RMSE\")\n",
      "[I 2023-06-07 20:15:48,001] Trial 98 pruned. Trial was pruned at iteration 10.\n"
     ]
    },
    {
     "name": "stdout",
     "output_type": "stream",
     "text": [
      "\n",
      "bestTest = 0.04199504562\n",
      "bestIteration = 10\n",
      "\n",
      "Shrink model to first 11 iterations.\n",
      "Learning rate set to 0.032991\n",
      "0:\tlearn: 0.0455415\ttest: 0.0541023\tbest: 0.0541023 (0)\ttotal: 302us\tremaining: 302ms\n",
      "\n",
      "bestTest = 0.05316446872\n",
      "bestIteration = 10\n",
      "\n",
      "Shrink model to first 11 iterations.\n",
      "Learning rate set to 0.032991\n",
      "0:\tlearn: 0.0444556\ttest: 0.0510119\tbest: 0.0510119 (0)\ttotal: 1.15ms\tremaining: 1.15s\n",
      "\n",
      "bestTest = 0.0509160874\n",
      "bestIteration = 6\n",
      "\n",
      "Shrink model to first 7 iterations.\n"
     ]
    },
    {
     "name": "stderr",
     "output_type": "stream",
     "text": [
      "C:\\Users\\Bayu Adjie Sidharta\\AppData\\Local\\Temp\\ipykernel_32688\\1628479321.py:34: ExperimentalWarning: CatBoostPruningCallback is experimental (supported from v3.0.0). The interface can change in the future.\n",
      "  pruning_callback = optuna.integration.CatBoostPruningCallback(trial, \"RMSE\")\n",
      "[I 2023-06-07 20:15:48,105] Trial 99 pruned. Trial was pruned at iteration 10.\n"
     ]
    },
    {
     "name": "stdout",
     "output_type": "stream",
     "text": [
      "Learning rate set to 0.032991\n",
      "0:\tlearn: 0.0480794\ttest: 0.0538179\tbest: 0.0538179 (0)\ttotal: 1.21ms\tremaining: 1.21s\n",
      "\n",
      "bestTest = 0.05374895923\n",
      "bestIteration = 8\n",
      "\n",
      "Shrink model to first 9 iterations.\n",
      "Number of finished trials: 100\n",
      "Best trial:\n",
      "  Value: 0.036636711002973305\n",
      "  Params: \n",
      "    objective: RMSE\n",
      "    colsample_bylevel: 0.052503740365612624\n",
      "    depth: 9\n",
      "    boosting_type: Ordered\n",
      "    bootstrap_type: MVS\n"
     ]
    }
   ],
   "source": [
    "from catboost import CatBoostRegressor\n",
    "from catboost import Pool\n",
    "import optuna\n",
    "from sklearn.metrics import mean_squared_error\n",
    "import Utils as utils\n",
    "\n",
    "def objective(trial):\n",
    "    cols = ['Umur', 'Umur Squared', 'APM SMA', 'Pengeluaran Bulanan','Indeks Pembangunan Manusia', 'DPT', 'Sentiment', 'Weighted Sentiment']\n",
    "    data, target = dfX[cols], y\n",
    "    train_x, test_x, train_y, test_y = train_test_split(data, target, test_size=0.2)\n",
    "    train_x, val_x, train_y, val_y = train_test_split(train_x, train_y, test_size=0.25)\n",
    "    train_pool = Pool(train_x, train_y)\n",
    "    val_pool = Pool(val_x, val_y)\n",
    "    test_pool = Pool(test_x)\n",
    "\n",
    "    params = {\n",
    "        \"objective\": trial.suggest_categorical(\"objective\", [\"RMSE\"]),\n",
    "        \"colsample_bylevel\": trial.suggest_float(\"colsample_bylevel\", 0.01, 0.1, log=True),\n",
    "        \"depth\": trial.suggest_int(\"depth\", 1, 12),\n",
    "        \"boosting_type\": trial.suggest_categorical(\"boosting_type\", [\"Ordered\", \"Plain\"]),\n",
    "         \"bootstrap_type\": trial.suggest_categorical(\n",
    "            \"bootstrap_type\", [\"Bayesian\", \"Bernoulli\", \"MVS\"]\n",
    "        ),\n",
    "        \"used_ram_limit\": \"3gb\",\n",
    "    }\n",
    "\n",
    "    if params[\"bootstrap_type\"] == \"Bayesian\":\n",
    "        params[\"bagging_temperature\"] = trial.suggest_float(\"bagging_temperature\", 0, 10)\n",
    "    elif params[\"bootstrap_type\"] == \"Bernoulli\":\n",
    "        params[\"subsample\"] = trial.suggest_float(\"subsample\", 0.1, 1, log=True)\n",
    "\n",
    "    model = CatBoostRegressor(**params)\n",
    "\n",
    "    pruning_callback = optuna.integration.CatBoostPruningCallback(trial, \"RMSE\")\n",
    "    model.fit(train_pool, eval_set=val_pool, callbacks=[pruning_callback], verbose=500, early_stopping_rounds=100)\n",
    "\n",
    "    pruning_callback.check_pruned()\n",
    "\n",
    "    preds = model.predict(test_pool)\n",
    "\n",
    "    results = utils.error_rate(\"Catboost\",preds,test_y)\n",
    "    print(results)\n",
    "\n",
    "    rmse = mean_squared_error(test_y, preds, squared=False)\n",
    "    return rmse\n",
    "\n",
    "\n",
    "\n",
    "study = optuna.create_study(direction=\"minimize\", pruner=optuna.pruners.MedianPruner(n_warmup_steps=10))\n",
    "\n",
    "study.optimize(objective, n_trials=100, timeout=600)\n",
    "\n",
    "print(\"Number of finished trials: {}\".format(len(study.trials)))\n",
    "print(\"Best trial:\")\n",
    "trial = study.best_trial\n",
    "\n",
    "print(\"  Value: {}\".format(trial.value))\n",
    "\n",
    "print(\"  Params: \")\n",
    "for key, value in trial.params.items():\n",
    "    print(\"    {}: {}\".format(key, value))\n",
    "\n",
    "\n",
    "    \n",
    "\n",
    "\n",
    "    \n",
    "\n",
    "\n",
    "\n",
    "\n"
   ]
  },
  {
   "cell_type": "code",
   "execution_count": 9,
   "metadata": {},
   "outputs": [
    {
     "data": {
      "text/plain": [
       "('Catboost', 0.03512429844587696, 0.028615520062230004, 0.47568209883632273)"
      ]
     },
     "execution_count": 9,
     "metadata": {},
     "output_type": "execute_result"
    }
   ],
   "source": [
    "cols = ['Umur', 'Umur Squared', 'APM SMA', 'Pengeluaran Bulanan','Indeks Pembangunan Manusia', 'DPT', 'Sentiment', 'Weighted Sentiment']\n",
    "utils.evaluate_catboost(dfX[cols],y,kf)"
   ]
  },
  {
   "cell_type": "code",
   "execution_count": 11,
   "metadata": {},
   "outputs": [
    {
     "data": {
      "text/plain": [
       "('Catboost', 0.0379735377563578, 0.030907234780759615, 0.3871679255729855)"
      ]
     },
     "execution_count": 11,
     "metadata": {},
     "output_type": "execute_result"
    }
   ],
   "source": [
    "\n",
    "\n",
    "def evaluate_catboost(dfX,y,kf):\n",
    "  from catboost import CatBoostRegressor\n",
    "  from catboost import Pool\n",
    "  from sklearn.metrics import r2_score, mean_squared_error\n",
    "  vals = []\n",
    "  preds = []\n",
    "  error_rates_dt = []\n",
    "\n",
    "  cbr = CatBoostRegressor(\n",
    "    boosting_type= 'Ordered',\n",
    "    colsample_bylevel= 0.052503740365612624,\n",
    "    depth= 9,\n",
    "    bootstrap_type= 'MVS',\n",
    "    )\n",
    "  for train_index, test_index in kf.split(dfX):\n",
    "    # print(\"TRAIN:\", train_index, \"TEST:\", test_index)\n",
    "      X_train, X_test = dfX.iloc[train_index], dfX.iloc[test_index]\n",
    "      y_train, y_test = y.iloc[train_index], y.iloc[test_index]\n",
    "      train_pool = Pool(data=X_train, label=y_train)\n",
    "      test_pool = Pool(data=X_test, label=y_test)\n",
    "\n",
    "      cbr.fit(train_pool, verbose=False)\n",
    "      cbr_pred = cbr.predict(test_pool)\n",
    "      preds.append(cbr_pred)\n",
    "      vals.append(y_test)\n",
    "\n",
    "  cat_df = pd.DataFrame({'Prediction':utils.flatten(preds),'Actual Values': utils.flatten(vals)})\n",
    "  return utils.error_rate(\"Catboost\",cat_df['Prediction'],cat_df['Actual Values'])\n",
    "\n",
    "evaluate_catboost(dfX[cols],y,kf)"
   ]
  },
  {
   "attachments": {},
   "cell_type": "markdown",
   "metadata": {},
   "source": [
    "Shrink model to first 90 iterations.\n",
    "Number of finished trials: 100\n",
    "Best trial:\n",
    "  Value: 0.0349815838846568\n",
    "  Params: \n",
    "    objective: RMSE\n",
    "    colsample_bylevel: 0.019294785961930627\n",
    "    depth: 6\n",
    "    boosting_type: Ordered\n",
    "    bootstrap_type: Bayesian\n",
    "    bagging_temperature: 4.6044011355658085"
   ]
  },
  {
   "cell_type": "code",
   "execution_count": 12,
   "metadata": {},
   "outputs": [
    {
     "data": {
      "text/plain": [
       "('Catboost', 0.04339805479488252, 0.03453902698156212, 0.19957637991715627)"
      ]
     },
     "execution_count": 12,
     "metadata": {},
     "output_type": "execute_result"
    }
   ],
   "source": [
    "\n",
    "\n",
    "def evaluate_catboost(dfX,y,kf):\n",
    "  from catboost import CatBoostRegressor\n",
    "  from catboost import Pool\n",
    "  from sklearn.metrics import r2_score, mean_squared_error\n",
    "  vals = []\n",
    "  preds = []\n",
    "  error_rates_dt = []\n",
    "\n",
    "  cbr = CatBoostRegressor(\n",
    "    boosting_type= 'Ordered',\n",
    "    colsample_bylevel= 0.019294785961930627,\n",
    "    depth= 6,\n",
    "    bootstrap_type= 'Bayesian',\n",
    "    bagging_temperature= 4.6044011355658085,\n",
    "    )\n",
    "  for train_index, test_index in kf.split(dfX):\n",
    "    # print(\"TRAIN:\", train_index, \"TEST:\", test_index)\n",
    "      X_train, X_test = dfX.iloc[train_index], dfX.iloc[test_index]\n",
    "      y_train, y_test = y.iloc[train_index], y.iloc[test_index]\n",
    "      train_pool = Pool(data=X_train, label=y_train)\n",
    "      test_pool = Pool(data=X_test, label=y_test)\n",
    "\n",
    "      cbr.fit(train_pool, verbose=False)\n",
    "      cbr_pred = cbr.predict(test_pool)\n",
    "      preds.append(cbr_pred)\n",
    "      vals.append(y_test)\n",
    "\n",
    "  cat_df = pd.DataFrame({'Prediction':utils.flatten(preds),'Actual Values': utils.flatten(vals)})\n",
    "  return utils.error_rate(\"Catboost\",cat_df['Prediction'],cat_df['Actual Values'])\n",
    "\n",
    "evaluate_catboost(dfX[cols],y,kf)"
   ]
  },
  {
   "cell_type": "code",
   "execution_count": 14,
   "metadata": {},
   "outputs": [
    {
     "data": {
      "application/vnd.jupyter.widget-view+json": {
       "model_id": "e3c71c86f0b646bcb0bf08e1d5c7cd59",
       "version_major": 2,
       "version_minor": 0
      },
      "text/plain": [
       "MetricVisualizer(layout=Layout(align_self='stretch', height='500px'))"
      ]
     },
     "metadata": {},
     "output_type": "display_data"
    },
    {
     "name": "stdout",
     "output_type": "stream",
     "text": [
      "0:\tlearn: 0.7794596\ttest: 0.8047215\tbest: 0.8047215 (0)\ttotal: 704us\tremaining: 704ms\n",
      "999:\tlearn: 0.0017389\ttest: 0.0857531\tbest: 0.0857467 (985)\ttotal: 600ms\tremaining: 0us\n",
      "\n",
      "bestTest = 0.08574666853\n",
      "bestIteration = 985\n",
      "\n",
      "0:\tlearn: 0.7657917\ttest: 0.7909031\tbest: 0.7909031 (0)\ttotal: 519us\tremaining: 519ms\n",
      "999:\tlearn: 0.0004218\ttest: 0.0934371\tbest: 0.0934209 (979)\ttotal: 753ms\tremaining: 0us\n",
      "\n",
      "bestTest = 0.09342090662\n",
      "bestIteration = 979\n",
      "\n",
      "0:\tlearn: 0.7521271\ttest: 0.7770863\tbest: 0.7770863 (0)\ttotal: 654us\tremaining: 654ms\n",
      "999:\tlearn: 0.0000640\ttest: 0.0936871\tbest: 0.0936867 (995)\ttotal: 688ms\tremaining: 0us\n",
      "\n",
      "bestTest = 0.09368672517\n",
      "bestIteration = 995\n",
      "\n",
      "0:\tlearn: 0.7316370\ttest: 0.7563645\tbest: 0.7563645 (0)\ttotal: 476us\tremaining: 476ms\n",
      "999:\tlearn: 0.0000073\ttest: 0.0916838\tbest: 0.0916838 (999)\ttotal: 648ms\tremaining: 0us\n",
      "\n",
      "bestTest = 0.0916838414\n",
      "bestIteration = 999\n",
      "\n",
      "0:\tlearn: 0.7836079\ttest: 0.8090148\tbest: 0.8090148 (0)\ttotal: 781us\tremaining: 781ms\n",
      "999:\tlearn: 0.0037578\ttest: 0.0945903\tbest: 0.0945903 (999)\ttotal: 746ms\tremaining: 0us\n",
      "\n",
      "bestTest = 0.09459033187\n",
      "bestIteration = 999\n",
      "\n",
      "0:\tlearn: 0.7727094\ttest: 0.7980606\tbest: 0.7980606 (0)\ttotal: 535us\tremaining: 535ms\n",
      "999:\tlearn: 0.0013734\ttest: 0.1109392\tbest: 0.1109388 (991)\ttotal: 737ms\tremaining: 0us\n",
      "\n",
      "bestTest = 0.1109387667\n",
      "bestIteration = 991\n",
      "\n",
      "0:\tlearn: 0.7618176\ttest: 0.7871099\tbest: 0.7871099 (0)\ttotal: 1.12ms\tremaining: 1.11s\n",
      "999:\tlearn: 0.0004956\ttest: 0.1170497\tbest: 0.1170497 (999)\ttotal: 703ms\tremaining: 0us\n",
      "\n",
      "bestTest = 0.1170496743\n",
      "bestIteration = 999\n",
      "\n",
      "0:\tlearn: 0.7454930\ttest: 0.7706904\tbest: 0.7706904 (0)\ttotal: 705us\tremaining: 705ms\n",
      "999:\tlearn: 0.0001317\ttest: 0.1151277\tbest: 0.1151277 (999)\ttotal: 618ms\tremaining: 0us\n",
      "\n",
      "bestTest = 0.1151276812\n",
      "bestIteration = 999\n",
      "\n",
      "0:\tlearn: 0.7862139\ttest: 0.8117446\tbest: 0.8117446 (0)\ttotal: 775us\tremaining: 775ms\n",
      "999:\tlearn: 0.0056535\ttest: 0.1070574\tbest: 0.1070438 (992)\ttotal: 610ms\tremaining: 0us\n",
      "\n",
      "bestTest = 0.1070438079\n",
      "bestIteration = 992\n",
      "\n",
      "0:\tlearn: 0.7770535\ttest: 0.8026112\tbest: 0.8026112 (0)\ttotal: 734us\tremaining: 734ms\n",
      "999:\tlearn: 0.0022723\ttest: 0.1193602\tbest: 0.1193352 (958)\ttotal: 743ms\tremaining: 0us\n",
      "\n",
      "bestTest = 0.1193352037\n",
      "bestIteration = 958\n",
      "\n",
      "0:\tlearn: 0.7679002\ttest: 0.7934818\tbest: 0.7934818 (0)\ttotal: 2.75ms\tremaining: 2.75s\n",
      "999:\tlearn: 0.0011504\ttest: 0.1203116\tbest: 0.1202897 (980)\ttotal: 1s\tremaining: 0us\n",
      "\n",
      "bestTest = 0.1202897403\n",
      "bestIteration = 980\n",
      "\n",
      "0:\tlearn: 0.7541841\ttest: 0.7797956\tbest: 0.7797956 (0)\ttotal: 496us\tremaining: 496ms\n",
      "999:\tlearn: 0.0003631\ttest: 0.1153968\tbest: 0.1153942 (986)\ttotal: 618ms\tremaining: 0us\n",
      "\n",
      "bestTest = 0.1153941869\n",
      "bestIteration = 986\n",
      "\n",
      "0:\tlearn: 0.7880558\ttest: 0.8136598\tbest: 0.8136598 (0)\ttotal: 619us\tremaining: 618ms\n",
      "999:\tlearn: 0.0067019\ttest: 0.1154734\tbest: 0.1154620 (998)\ttotal: 688ms\tremaining: 0us\n",
      "\n",
      "bestTest = 0.1154619707\n",
      "bestIteration = 998\n",
      "\n",
      "0:\tlearn: 0.7801228\ttest: 0.8058031\tbest: 0.8058031 (0)\ttotal: 541us\tremaining: 541ms\n",
      "999:\tlearn: 0.0033320\ttest: 0.1237369\tbest: 0.1236869 (984)\ttotal: 771ms\tremaining: 0us\n",
      "\n",
      "bestTest = 0.1236869186\n",
      "bestIteration = 984\n",
      "\n",
      "0:\tlearn: 0.7721965\ttest: 0.7979505\tbest: 0.7979505 (0)\ttotal: 2.43ms\tremaining: 2.43s\n",
      "999:\tlearn: 0.0016083\ttest: 0.1179984\tbest: 0.1179132 (785)\ttotal: 1.02s\tremaining: 0us\n",
      "\n",
      "bestTest = 0.1179132294\n",
      "bestIteration = 785\n",
      "\n",
      "0:\tlearn: 0.7603202\ttest: 0.7861796\tbest: 0.7861796 (0)\ttotal: 424us\tremaining: 424ms\n",
      "999:\tlearn: 0.0006958\ttest: 0.1140587\tbest: 0.1140567 (997)\ttotal: 767ms\tremaining: 0us\n",
      "\n",
      "bestTest = 0.1140566942\n",
      "bestIteration = 997\n",
      "\n",
      "0:\tlearn: 0.7894420\ttest: 0.8150877\tbest: 0.8150877 (0)\ttotal: 488us\tremaining: 488ms\n",
      "999:\tlearn: 0.0085115\ttest: 0.1172142\tbest: 0.1172142 (999)\ttotal: 718ms\tremaining: 0us\n",
      "\n",
      "bestTest = 0.1172141644\n",
      "bestIteration = 999\n",
      "\n",
      "0:\tlearn: 0.7824323\ttest: 0.8081827\tbest: 0.8081827 (0)\ttotal: 1.51ms\tremaining: 1.51s\n",
      "999:\tlearn: 0.0045169\ttest: 0.1196841\tbest: 0.1196629 (993)\ttotal: 728ms\tremaining: 0us\n",
      "\n",
      "bestTest = 0.1196628748\n",
      "bestIteration = 993\n",
      "\n",
      "0:\tlearn: 0.7754288\ttest: 0.8012816\tbest: 0.8012816 (0)\ttotal: 487us\tremaining: 487ms\n",
      "999:\tlearn: 0.0024662\ttest: 0.1140858\tbest: 0.1140646 (983)\ttotal: 783ms\tremaining: 0us\n",
      "\n",
      "bestTest = 0.1140645645\n",
      "bestIteration = 983\n",
      "\n",
      "0:\tlearn: 0.7649353\ttest: 0.7909374\tbest: 0.7909374 (0)\ttotal: 724us\tremaining: 724ms\n",
      "999:\tlearn: 0.0011238\ttest: 0.1304192\tbest: 0.1304081 (996)\ttotal: 736ms\tremaining: 0us\n",
      "\n",
      "bestTest = 0.1304080693\n",
      "bestIteration = 996\n",
      "\n",
      "0:\tlearn: 0.7814691\ttest: 0.8096537\tbest: 0.8096537 (0)\ttotal: 1.2ms\tremaining: 1.19s\n",
      "999:\tlearn: 0.0002292\ttest: 0.1535160\tbest: 0.1535160 (999)\ttotal: 1.9s\tremaining: 0us\n",
      "\n",
      "bestTest = 0.1535160406\n",
      "bestIteration = 999\n",
      "\n",
      "0:\tlearn: 0.7691450\ttest: 0.7991483\tbest: 0.7991483 (0)\ttotal: 1.33ms\tremaining: 1.33s\n",
      "999:\tlearn: 0.0000116\ttest: 0.1660450\tbest: 0.1660008 (317)\ttotal: 1.45s\tremaining: 0us\n",
      "\n",
      "bestTest = 0.1660007831\n",
      "bestIteration = 317\n",
      "\n",
      "0:\tlearn: 0.7568277\ttest: 0.7886653\tbest: 0.7886653 (0)\ttotal: 1.98ms\tremaining: 1.98s\n",
      "999:\tlearn: 0.0000010\ttest: 0.1649132\tbest: 0.1649131 (983)\ttotal: 1.61s\tremaining: 0us\n",
      "\n",
      "bestTest = 0.1649131086\n",
      "bestIteration = 983\n",
      "\n",
      "0:\tlearn: 0.7383655\ttest: 0.7729850\tbest: 0.7729850 (0)\ttotal: 1.47ms\tremaining: 1.47s\n",
      "999:\tlearn: 0.0000000\ttest: 0.1875966\tbest: 0.1875966 (999)\ttotal: 1.89s\tremaining: 0us\n",
      "\n",
      "bestTest = 0.1875965544\n",
      "bestIteration = 999\n",
      "\n",
      "0:\tlearn: 0.7865083\ttest: 0.8148535\tbest: 0.8148535 (0)\ttotal: 1.28ms\tremaining: 1.28s\n",
      "999:\tlearn: 0.0012329\ttest: 0.1854257\tbest: 0.1854241 (998)\ttotal: 1.98s\tremaining: 0us\n",
      "\n",
      "bestTest = 0.1854240815\n",
      "bestIteration = 998\n",
      "\n",
      "0:\tlearn: 0.7775481\ttest: 0.8078049\tbest: 0.8078049 (0)\ttotal: 1.36ms\tremaining: 1.36s\n",
      "999:\tlearn: 0.0001361\ttest: 0.1835228\tbest: 0.1835210 (959)\ttotal: 1.44s\tremaining: 0us\n",
      "\n",
      "bestTest = 0.1835210416\n",
      "bestIteration = 959\n",
      "\n",
      "0:\tlearn: 0.7685983\ttest: 0.8007703\tbest: 0.8007703 (0)\ttotal: 1.19ms\tremaining: 1.19s\n",
      "999:\tlearn: 0.0000278\ttest: 0.1916059\tbest: 0.1916058 (997)\ttotal: 1.92s\tremaining: 0us\n",
      "\n",
      "bestTest = 0.1916057906\n",
      "bestIteration = 997\n",
      "\n",
      "0:\tlearn: 0.7551940\ttest: 0.7902458\tbest: 0.7902458 (0)\ttotal: 1.15ms\tremaining: 1.15s\n",
      "999:\tlearn: 0.0000015\ttest: 0.1967396\tbest: 0.1967394 (867)\ttotal: 1.46s\tremaining: 0us\n",
      "\n",
      "bestTest = 0.1967394259\n",
      "bestIteration = 867\n",
      "\n",
      "0:\tlearn: 0.7892024\ttest: 0.8173624\tbest: 0.8173624 (0)\ttotal: 1.48ms\tremaining: 1.48s\n",
      "999:\tlearn: 0.0030463\ttest: 0.1821343\tbest: 0.1821343 (999)\ttotal: 1.56s\tremaining: 0us\n",
      "\n",
      "bestTest = 0.1821343343\n",
      "bestIteration = 999\n",
      "\n",
      "0:\tlearn: 0.7820369\ttest: 0.8119816\tbest: 0.8119816 (0)\ttotal: 1.26ms\tremaining: 1.26s\n",
      "999:\tlearn: 0.0005391\ttest: 0.1805271\tbest: 0.1805271 (999)\ttotal: 1.49s\tremaining: 0us\n",
      "\n",
      "bestTest = 0.1805271084\n",
      "bestIteration = 999\n",
      "\n",
      "0:\tlearn: 0.7748809\ttest: 0.8066108\tbest: 0.8066108 (0)\ttotal: 1.29ms\tremaining: 1.29s\n",
      "999:\tlearn: 0.0001556\ttest: 0.1907459\tbest: 0.1907459 (999)\ttotal: 1.56s\tremaining: 0us\n",
      "\n",
      "bestTest = 0.1907458903\n",
      "bestIteration = 999\n",
      "\n",
      "0:\tlearn: 0.7641650\ttest: 0.7985742\tbest: 0.7985742 (0)\ttotal: 1.62ms\tremaining: 1.62s\n",
      "999:\tlearn: 0.0000238\ttest: 0.2003261\tbest: 0.2003261 (999)\ttotal: 1.54s\tremaining: 0us\n",
      "\n",
      "bestTest = 0.2003261306\n",
      "bestIteration = 999\n",
      "\n",
      "0:\tlearn: 0.7909492\ttest: 0.8188758\tbest: 0.8188758 (0)\ttotal: 1.54ms\tremaining: 1.54s\n",
      "999:\tlearn: 0.0052191\ttest: 0.1987037\tbest: 0.1987037 (998)\ttotal: 1.62s\tremaining: 0us\n",
      "\n",
      "bestTest = 0.1987037365\n",
      "bestIteration = 998\n",
      "\n",
      "0:\tlearn: 0.7849466\ttest: 0.8145009\tbest: 0.8145009 (0)\ttotal: 953us\tremaining: 953ms\n",
      "999:\tlearn: 0.0015331\ttest: 0.1954907\tbest: 0.1954907 (999)\ttotal: 1.44s\tremaining: 0us\n",
      "\n",
      "bestTest = 0.1954906609\n",
      "bestIteration = 999\n",
      "\n",
      "0:\tlearn: 0.7789518\ttest: 0.8101337\tbest: 0.8101337 (0)\ttotal: 1.19ms\tremaining: 1.19s\n",
      "999:\tlearn: 0.0004956\ttest: 0.2052443\tbest: 0.2052433 (997)\ttotal: 1.34s\tremaining: 0us\n",
      "\n",
      "bestTest = 0.2052433418\n",
      "bestIteration = 997\n",
      "\n",
      "0:\tlearn: 0.7699747\ttest: 0.8035976\tbest: 0.8035976 (0)\ttotal: 1.25ms\tremaining: 1.25s\n",
      "999:\tlearn: 0.0001032\ttest: 0.2100266\tbest: 0.2100266 (999)\ttotal: 1.34s\tremaining: 0us\n",
      "\n",
      "bestTest = 0.210026636\n",
      "bestIteration = 999\n",
      "\n",
      "0:\tlearn: 0.7921905\ttest: 0.8198982\tbest: 0.8198982 (0)\ttotal: 1.17ms\tremaining: 1.17s\n",
      "999:\tlearn: 0.0077613\ttest: 0.2012672\tbest: 0.2012672 (999)\ttotal: 1.63s\tremaining: 0us\n",
      "\n",
      "bestTest = 0.201267173\n",
      "bestIteration = 999\n",
      "\n",
      "0:\tlearn: 0.7870138\ttest: 0.8162029\tbest: 0.8162029 (0)\ttotal: 955us\tremaining: 955ms\n",
      "999:\tlearn: 0.0025114\ttest: 0.1873159\tbest: 0.1873152 (998)\ttotal: 1.6s\tremaining: 0us\n",
      "\n",
      "bestTest = 0.1873152464\n",
      "bestIteration = 998\n",
      "\n",
      "0:\tlearn: 0.7818436\ttest: 0.8125136\tbest: 0.8125136 (0)\ttotal: 3.64ms\tremaining: 3.64s\n",
      "999:\tlearn: 0.0010512\ttest: 0.1958338\tbest: 0.1958336 (997)\ttotal: 1.58s\tremaining: 0us\n",
      "\n",
      "bestTest = 0.1958336139\n",
      "bestIteration = 997\n",
      "\n",
      "0:\tlearn: 0.7741007\ttest: 0.8069912\tbest: 0.8069912 (0)\ttotal: 1.29ms\tremaining: 1.29s\n",
      "999:\tlearn: 0.0002422\ttest: 0.2207861\tbest: 0.2207853 (985)\ttotal: 1.76s\tremaining: 0us\n",
      "\n",
      "bestTest = 0.2207853185\n",
      "bestIteration = 985\n",
      "\n",
      "0:\tlearn: 0.7843992\ttest: 0.8222044\tbest: 0.8222044 (0)\ttotal: 11ms\tremaining: 11s\n",
      "999:\tlearn: 0.0000048\ttest: 0.2599009\tbest: 0.2598997 (732)\ttotal: 8.13s\tremaining: 0us\n",
      "\n",
      "bestTest = 0.2598996586\n",
      "bestIteration = 732\n",
      "\n",
      "0:\tlearn: 0.7740293\ttest: 0.8200772\tbest: 0.8200772 (0)\ttotal: 8.4ms\tremaining: 8.39s\n",
      "999:\tlearn: 0.0000000\ttest: 0.2609006\tbest: 0.2609006 (779)\ttotal: 7.08s\tremaining: 0us\n",
      "\n",
      "bestTest = 0.2609005728\n",
      "bestIteration = 779\n",
      "\n",
      "0:\tlearn: 0.7636668\ttest: 0.8179804\tbest: 0.8179804 (0)\ttotal: 9.62ms\tremaining: 9.61s\n",
      "999:\tlearn: 0.0000000\ttest: 0.2806918\tbest: 0.2806917 (451)\ttotal: 7.38s\tremaining: 0us\n",
      "\n",
      "bestTest = 0.2806917488\n",
      "bestIteration = 451\n",
      "\n",
      "0:\tlearn: 0.7481379\ttest: 0.8148932\tbest: 0.8148932 (0)\ttotal: 8.78ms\tremaining: 8.77s\n",
      "999:\tlearn: 0.0000000\ttest: 0.2840938\tbest: 0.2840853 (180)\ttotal: 7.39s\tremaining: 0us\n",
      "\n",
      "bestTest = 0.2840852596\n",
      "bestIteration = 180\n",
      "\n",
      "0:\tlearn: 0.7900158\ttest: 0.8231254\tbest: 0.8231254 (0)\ttotal: 8.56ms\tremaining: 8.55s\n",
      "999:\tlearn: 0.0001736\ttest: 0.2882692\tbest: 0.2882692 (999)\ttotal: 7.76s\tremaining: 0us\n",
      "\n",
      "bestTest = 0.2882692316\n",
      "bestIteration = 999\n",
      "\n",
      "0:\tlearn: 0.7833924\ttest: 0.8215935\tbest: 0.8215935 (0)\ttotal: 11.3ms\tremaining: 11.3s\n",
      "999:\tlearn: 0.0000050\ttest: 0.2979253\tbest: 0.2979252 (966)\ttotal: 7.7s\tremaining: 0us\n",
      "\n",
      "bestTest = 0.2979251758\n",
      "bestIteration = 966\n",
      "\n",
      "0:\tlearn: 0.7767782\ttest: 0.8200772\tbest: 0.8200772 (0)\ttotal: 9.14ms\tremaining: 9.13s\n",
      "999:\tlearn: 0.0000002\ttest: 0.3106451\tbest: 0.3106439 (623)\ttotal: 7.37s\tremaining: 0us\n",
      "\n",
      "bestTest = 0.3106438795\n",
      "bestIteration = 623\n",
      "\n",
      "0:\tlearn: 0.7668744\ttest: 0.8178319\tbest: 0.8178319 (0)\ttotal: 7.94ms\tremaining: 7.93s\n",
      "999:\tlearn: 0.0000000\ttest: 0.3368676\tbest: 0.3368670 (473)\ttotal: 6.94s\tremaining: 0us\n",
      "\n",
      "bestTest = 0.3368670473\n",
      "bestIteration = 473\n",
      "\n",
      "0:\tlearn: 0.7925323\ttest: 0.8236395\tbest: 0.8236395 (0)\ttotal: 8.62ms\tremaining: 8.61s\n",
      "999:\tlearn: 0.0009743\ttest: 0.2661412\tbest: 0.2661412 (999)\ttotal: 8.05s\tremaining: 0us\n",
      "\n",
      "bestTest = 0.2661412467\n",
      "bestIteration = 999\n",
      "\n",
      "0:\tlearn: 0.7875843\ttest: 0.8224427\tbest: 0.8224427 (0)\ttotal: 9.35ms\tremaining: 9.34s\n",
      "999:\tlearn: 0.0000668\ttest: 0.2721579\tbest: 0.2721579 (999)\ttotal: 8.5s\tremaining: 0us\n",
      "\n",
      "bestTest = 0.2721578633\n",
      "bestIteration = 999\n",
      "\n",
      "0:\tlearn: 0.7826436\ttest: 0.8212552\tbest: 0.8212552 (0)\ttotal: 9.12ms\tremaining: 9.11s\n",
      "999:\tlearn: 0.0000090\ttest: 0.2856330\tbest: 0.2856330 (999)\ttotal: 7.74s\tremaining: 0us\n",
      "\n",
      "bestTest = 0.2856330297\n",
      "bestIteration = 999\n",
      "\n",
      "0:\tlearn: 0.7752465\ttest: 0.8194917\tbest: 0.8194917 (0)\ttotal: 8.58ms\tremaining: 8.57s\n",
      "999:\tlearn: 0.0000008\ttest: 0.2921088\tbest: 0.2921086 (778)\ttotal: 7.26s\tremaining: 0us\n",
      "\n",
      "bestTest = 0.2921085733\n",
      "bestIteration = 778\n",
      "\n",
      "0:\tlearn: 0.7939965\ttest: 0.8239675\tbest: 0.8239675 (0)\ttotal: 8.65ms\tremaining: 8.65s\n",
      "999:\tlearn: 0.0022374\ttest: 0.2471200\tbest: 0.2471191 (997)\ttotal: 7.08s\tremaining: 0us\n",
      "\n",
      "bestTest = 0.2471191454\n",
      "bestIteration = 997\n",
      "\n",
      "0:\tlearn: 0.7900227\ttest: 0.8229855\tbest: 0.8229855 (0)\ttotal: 8.66ms\tremaining: 8.65s\n",
      "999:\tlearn: 0.0003124\ttest: 0.2426971\tbest: 0.2426967 (996)\ttotal: 7.69s\tremaining: 0us\n",
      "\n",
      "bestTest = 0.242696728\n",
      "bestIteration = 996\n",
      "\n",
      "0:\tlearn: 0.7860546\ttest: 0.8220098\tbest: 0.8220098 (0)\ttotal: 8.94ms\tremaining: 8.93s\n",
      "999:\tlearn: 0.0000437\ttest: 0.2413724\tbest: 0.2413724 (999)\ttotal: 7.33s\tremaining: 0us\n",
      "\n",
      "bestTest = 0.2413723527\n",
      "bestIteration = 999\n",
      "\n",
      "0:\tlearn: 0.7801131\ttest: 0.8205580\tbest: 0.8205580 (0)\ttotal: 8.75ms\tremaining: 8.74s\n",
      "999:\tlearn: 0.0000049\ttest: 0.2727208\tbest: 0.2727208 (996)\ttotal: 7.4s\tremaining: 0us\n",
      "\n",
      "bestTest = 0.2727208156\n",
      "bestIteration = 996\n",
      "\n",
      "0:\tlearn: 0.7949661\ttest: 0.8241950\tbest: 0.8241950 (0)\ttotal: 9.63ms\tremaining: 9.62s\n",
      "999:\tlearn: 0.0042022\ttest: 0.2333894\tbest: 0.2333894 (999)\ttotal: 7.93s\tremaining: 0us\n",
      "\n",
      "bestTest = 0.2333893554\n",
      "bestIteration = 999\n",
      "\n",
      "0:\tlearn: 0.7916374\ttest: 0.8233625\tbest: 0.8233625 (0)\ttotal: 9.82ms\tremaining: 9.81s\n",
      "999:\tlearn: 0.0007790\ttest: 0.2438459\tbest: 0.2438459 (999)\ttotal: 8.08s\tremaining: 0us\n",
      "\n",
      "bestTest = 0.2438459421\n",
      "bestIteration = 999\n",
      "\n",
      "0:\tlearn: 0.7883130\ttest: 0.8225344\tbest: 0.8225344 (0)\ttotal: 8.61ms\tremaining: 8.6s\n",
      "999:\tlearn: 0.0001338\ttest: 0.2382401\tbest: 0.2382401 (999)\ttotal: 7.33s\tremaining: 0us\n",
      "\n",
      "bestTest = 0.238240117\n",
      "bestIteration = 999\n",
      "\n",
      "0:\tlearn: 0.7833349\ttest: 0.8213007\tbest: 0.8213007 (0)\ttotal: 9.12ms\tremaining: 9.11s\n",
      "999:\tlearn: 0.0000160\ttest: 0.2444184\tbest: 0.2444184 (999)\ttotal: 7.78s\tremaining: 0us\n",
      "\n",
      "bestTest = 0.2444184403\n",
      "bestIteration = 999\n",
      "\n",
      "0:\tlearn: 0.7850174\ttest: 0.8224574\tbest: 0.8224574 (0)\ttotal: 28ms\tremaining: 28s\n",
      "999:\tlearn: 0.0000006\ttest: 0.2809419\tbest: 0.2809415 (790)\ttotal: 24.4s\tremaining: 0us\n",
      "\n",
      "bestTest = 0.2809415411\n",
      "bestIteration = 790\n",
      "\n",
      "0:\tlearn: 0.7750572\ttest: 0.8204931\tbest: 0.8204931 (0)\ttotal: 30ms\tremaining: 30s\n",
      "999:\tlearn: 0.0000000\ttest: 0.3446699\tbest: 0.3446699 (999)\ttotal: 23.3s\tremaining: 0us\n",
      "\n",
      "bestTest = 0.3446699268\n",
      "bestIteration = 999\n",
      "\n",
      "0:\tlearn: 0.7651026\ttest: 0.8185546\tbest: 0.8185546 (0)\ttotal: 27.7ms\tremaining: 27.7s\n",
      "999:\tlearn: 0.0000000\ttest: 0.3716625\tbest: 0.3716625 (507)\ttotal: 23.4s\tremaining: 0us\n",
      "\n",
      "bestTest = 0.3716624718\n",
      "bestIteration = 507\n",
      "\n",
      "0:\tlearn: 0.7501814\ttest: 0.8156959\tbest: 0.8156959 (0)\ttotal: 28.3ms\tremaining: 28.2s\n",
      "999:\tlearn: 0.0000000\ttest: 0.3999967\tbest: 0.3999967 (288)\ttotal: 23.7s\tremaining: 0us\n",
      "\n",
      "bestTest = 0.3999966819\n",
      "bestIteration = 288\n",
      "\n",
      "0:\tlearn: 0.7908579\ttest: 0.8234493\tbest: 0.8234493 (0)\ttotal: 28.6ms\tremaining: 28.6s\n",
      "999:\tlearn: 0.0001064\ttest: 0.2979366\tbest: 0.2979366 (999)\ttotal: 23.8s\tremaining: 0us\n",
      "\n",
      "bestTest = 0.2979365595\n",
      "bestIteration = 999\n",
      "\n",
      "0:\tlearn: 0.7847920\ttest: 0.8221283\tbest: 0.8221283 (0)\ttotal: 30.6ms\tremaining: 30.6s\n",
      "999:\tlearn: 0.0000011\ttest: 0.3128945\tbest: 0.3128945 (999)\ttotal: 25.4s\tremaining: 0us\n",
      "\n",
      "bestTest = 0.3128944832\n",
      "bestIteration = 999\n",
      "\n",
      "0:\tlearn: 0.7787321\ttest: 0.8208187\tbest: 0.8208187 (0)\ttotal: 26.8ms\tremaining: 26.7s\n",
      "999:\tlearn: 0.0000000\ttest: 0.3282014\tbest: 0.3282014 (914)\ttotal: 25.5s\tremaining: 0us\n",
      "\n",
      "bestTest = 0.3282013623\n",
      "bestIteration = 914\n",
      "\n",
      "0:\tlearn: 0.7696535\ttest: 0.8188759\tbest: 0.8188759 (0)\ttotal: 27.1ms\tremaining: 27.1s\n",
      "999:\tlearn: 0.0000000\ttest: 0.3463771\tbest: 0.3463771 (872)\ttotal: 24.8s\tremaining: 0us\n",
      "\n",
      "bestTest = 0.346377114\n",
      "bestIteration = 872\n",
      "\n",
      "0:\tlearn: 0.7933531\ttest: 0.8239476\tbest: 0.8239476 (0)\ttotal: 29.3ms\tremaining: 29.3s\n",
      "999:\tlearn: 0.0008444\ttest: 0.2839902\tbest: 0.2839902 (999)\ttotal: 23.3s\tremaining: 0us\n",
      "\n",
      "bestTest = 0.2839901913\n",
      "bestIteration = 999\n",
      "\n",
      "0:\tlearn: 0.7889488\ttest: 0.8229526\tbest: 0.8229526 (0)\ttotal: 24.4ms\tremaining: 24.4s\n",
      "999:\tlearn: 0.0000374\ttest: 0.2919827\tbest: 0.2919827 (999)\ttotal: 26.7s\tremaining: 0us\n",
      "\n",
      "bestTest = 0.2919827368\n",
      "bestIteration = 999\n",
      "\n",
      "0:\tlearn: 0.7845487\ttest: 0.8219639\tbest: 0.8219639 (0)\ttotal: 28.2ms\tremaining: 28.2s\n",
      "999:\tlearn: 0.0000025\ttest: 0.3096707\tbest: 0.3096706 (937)\ttotal: 25.4s\tremaining: 0us\n",
      "\n",
      "bestTest = 0.3096705908\n",
      "bestIteration = 937\n",
      "\n",
      "0:\tlearn: 0.7779569\ttest: 0.8204931\tbest: 0.8204931 (0)\ttotal: 30.5ms\tremaining: 30.5s\n",
      "999:\tlearn: 0.0000001\ttest: 0.3455200\tbest: 0.3455200 (994)\ttotal: 25.4s\tremaining: 0us\n",
      "\n",
      "bestTest = 0.345519972\n",
      "bestIteration = 994\n",
      "\n",
      "0:\tlearn: 0.7947563\ttest: 0.8242474\tbest: 0.8242474 (0)\ttotal: 28.5ms\tremaining: 28.5s\n",
      "999:\tlearn: 0.0023972\ttest: 0.2655345\tbest: 0.2655345 (999)\ttotal: 24.3s\tremaining: 0us\n",
      "\n",
      "bestTest = 0.2655344622\n",
      "bestIteration = 999\n",
      "\n",
      "0:\tlearn: 0.7912860\ttest: 0.8234493\tbest: 0.8234493 (0)\ttotal: 27.6ms\tremaining: 27.5s\n",
      "999:\tlearn: 0.0002146\ttest: 0.2777079\tbest: 0.2777079 (999)\ttotal: 25.2s\tremaining: 0us\n",
      "\n",
      "bestTest = 0.2777078655\n",
      "bestIteration = 999\n",
      "\n",
      "0:\tlearn: 0.7878189\ttest: 0.8226553\tbest: 0.8226553 (0)\ttotal: 28.3ms\tremaining: 28.3s\n",
      "999:\tlearn: 0.0000211\ttest: 0.2952231\tbest: 0.2952231 (999)\ttotal: 26s\tremaining: 0us\n",
      "\n",
      "bestTest = 0.2952230705\n",
      "bestIteration = 999\n",
      "\n",
      "0:\tlearn: 0.7826242\ttest: 0.8214720\tbest: 0.8214720 (0)\ttotal: 29.5ms\tremaining: 29.4s\n",
      "999:\tlearn: 0.0000015\ttest: 0.3125562\tbest: 0.3125562 (999)\ttotal: 26s\tremaining: 0us\n",
      "\n",
      "bestTest = 0.3125562204\n",
      "bestIteration = 999\n",
      "\n",
      "0:\tlearn: 0.7956622\ttest: 0.8244475\tbest: 0.8244475 (0)\ttotal: 29.5ms\tremaining: 29.5s\n",
      "999:\tlearn: 0.0046191\ttest: 0.2391737\tbest: 0.2391737 (999)\ttotal: 23.7s\tremaining: 0us\n",
      "\n",
      "bestTest = 0.2391736999\n",
      "bestIteration = 999\n",
      "\n",
      "0:\tlearn: 0.7927950\ttest: 0.8237813\tbest: 0.8237813 (0)\ttotal: 29.3ms\tremaining: 29.3s\n",
      "999:\tlearn: 0.0006473\ttest: 0.2340443\tbest: 0.2340443 (999)\ttotal: 25.2s\tremaining: 0us\n",
      "\n",
      "bestTest = 0.2340443148\n",
      "bestIteration = 999\n",
      "\n",
      "0:\tlearn: 0.7899301\ttest: 0.8231180\tbest: 0.8231180 (0)\ttotal: 30.2ms\tremaining: 30.2s\n",
      "999:\tlearn: 0.0001182\ttest: 0.2631292\tbest: 0.2631292 (999)\ttotal: 26.1s\tremaining: 0us\n",
      "\n",
      "bestTest = 0.2631292327\n",
      "bestIteration = 999\n",
      "\n",
      "0:\tlearn: 0.7856373\ttest: 0.8221283\tbest: 0.8221283 (0)\ttotal: 29.1ms\tremaining: 29.1s\n",
      "999:\tlearn: 0.0000101\ttest: 0.3063858\tbest: 0.3063858 (999)\ttotal: 26s\tremaining: 0us\n",
      "\n",
      "bestTest = 0.3063857716\n",
      "bestIteration = 999\n",
      "\n",
      "Training on fold [0/30]\n",
      "0:\tlearn: 0.7850757\ttest: 0.7809982\tbest: 0.7809982 (0)\ttotal: 898us\tremaining: 898ms\n",
      "999:\tlearn: 0.0027191\ttest: 0.0384374\tbest: 0.0384374 (999)\ttotal: 673ms\tremaining: 0us\n",
      "\n",
      "bestTest = 0.03843741936\n",
      "bestIteration = 999\n",
      "\n",
      "Training on fold [1/30]\n",
      "0:\tlearn: 0.7872934\ttest: 0.7587982\tbest: 0.7587982 (0)\ttotal: 979us\tremaining: 979ms\n",
      "999:\tlearn: 0.0023117\ttest: 0.0281864\tbest: 0.0242939 (184)\ttotal: 676ms\tremaining: 0us\n",
      "\n",
      "bestTest = 0.02429393622\n",
      "bestIteration = 184\n",
      "\n",
      "Training on fold [2/30]\n",
      "0:\tlearn: 0.7848579\ttest: 0.7808327\tbest: 0.7808327 (0)\ttotal: 2.14ms\tremaining: 2.14s\n",
      "999:\tlearn: 0.0020968\ttest: 0.0352290\tbest: 0.0349338 (430)\ttotal: 759ms\tremaining: 0us\n",
      "\n",
      "bestTest = 0.03493383307\n",
      "bestIteration = 430\n",
      "\n",
      "Training on fold [3/30]\n",
      "0:\tlearn: 0.7814468\ttest: 0.8118552\tbest: 0.8118552 (0)\ttotal: 555us\tremaining: 555ms\n",
      "999:\tlearn: 0.0028821\ttest: 0.0588871\tbest: 0.0588871 (999)\ttotal: 678ms\tremaining: 0us\n",
      "\n",
      "bestTest = 0.05888707116\n",
      "bestIteration = 999\n",
      "\n",
      "Training on fold [4/30]\n",
      "0:\tlearn: 0.7825255\ttest: 0.8017784\tbest: 0.8017784 (0)\ttotal: 558us\tremaining: 557ms\n",
      "999:\tlearn: 0.0022408\ttest: 0.0515434\tbest: 0.0500327 (266)\ttotal: 650ms\tremaining: 0us\n",
      "\n",
      "bestTest = 0.05003271453\n",
      "bestIteration = 266\n",
      "\n",
      "Training on fold [5/30]\n",
      "0:\tlearn: 0.7816608\ttest: 0.8094603\tbest: 0.8094603 (0)\ttotal: 869us\tremaining: 868ms\n",
      "999:\tlearn: 0.0017572\ttest: 0.0461615\tbest: 0.0441978 (176)\ttotal: 629ms\tremaining: 0us\n",
      "\n",
      "bestTest = 0.04419783274\n",
      "bestIteration = 176\n",
      "\n",
      "Training on fold [6/30]\n",
      "0:\tlearn: 0.7854475\ttest: 0.7735734\tbest: 0.7735734 (0)\ttotal: 605us\tremaining: 605ms\n",
      "999:\tlearn: 0.0022456\ttest: 0.0325466\tbest: 0.0325466 (999)\ttotal: 672ms\tremaining: 0us\n",
      "\n",
      "bestTest = 0.03254658585\n",
      "bestIteration = 999\n",
      "\n",
      "Training on fold [7/30]\n",
      "0:\tlearn: 0.7861965\ttest: 0.7659596\tbest: 0.7659596 (0)\ttotal: 529us\tremaining: 529ms\n",
      "999:\tlearn: 0.0023362\ttest: 0.0328427\tbest: 0.0324759 (609)\ttotal: 738ms\tremaining: 0us\n",
      "\n",
      "bestTest = 0.03247589616\n",
      "bestIteration = 609\n",
      "\n",
      "Training on fold [8/30]\n",
      "0:\tlearn: 0.7849145\ttest: 0.7773210\tbest: 0.7773210 (0)\ttotal: 500us\tremaining: 500ms\n",
      "999:\tlearn: 0.0020925\ttest: 0.0269498\tbest: 0.0193975 (224)\ttotal: 663ms\tremaining: 0us\n",
      "\n",
      "bestTest = 0.01939749674\n",
      "bestIteration = 224\n",
      "\n",
      "Training on fold [9/30]\n",
      "0:\tlearn: 0.7842941\ttest: 0.7847988\tbest: 0.7847988 (0)\ttotal: 618us\tremaining: 618ms\n",
      "999:\tlearn: 0.0021823\ttest: 0.0393128\tbest: 0.0393128 (999)\ttotal: 710ms\tremaining: 0us\n",
      "\n",
      "bestTest = 0.03931280849\n",
      "bestIteration = 999\n",
      "\n",
      "Training on fold [10/30]\n",
      "0:\tlearn: 0.7830806\ttest: 0.7971353\tbest: 0.7971353 (0)\ttotal: 594us\tremaining: 594ms\n",
      "999:\tlearn: 0.0017826\ttest: 0.0498155\tbest: 0.0491076 (470)\ttotal: 686ms\tremaining: 0us\n",
      "\n",
      "bestTest = 0.04910764469\n",
      "bestIteration = 470\n",
      "\n",
      "Training on fold [11/30]\n",
      "0:\tlearn: 0.7847833\ttest: 0.7813544\tbest: 0.7813544 (0)\ttotal: 747us\tremaining: 747ms\n",
      "999:\tlearn: 0.0021833\ttest: 0.0352272\tbest: 0.0298265 (229)\ttotal: 659ms\tremaining: 0us\n",
      "\n",
      "bestTest = 0.02982648903\n",
      "bestIteration = 229\n",
      "\n",
      "Training on fold [12/30]\n",
      "0:\tlearn: 0.7844875\ttest: 0.7828088\tbest: 0.7828088 (0)\ttotal: 721us\tremaining: 720ms\n",
      "999:\tlearn: 0.0022448\ttest: 0.0417950\tbest: 0.0417810 (885)\ttotal: 661ms\tremaining: 0us\n",
      "\n",
      "bestTest = 0.04178101176\n",
      "bestIteration = 885\n",
      "\n",
      "Training on fold [13/30]\n",
      "0:\tlearn: 0.7861972\ttest: 0.7676243\tbest: 0.7676243 (0)\ttotal: 550us\tremaining: 550ms\n",
      "999:\tlearn: 0.0025045\ttest: 0.0237019\tbest: 0.0229485 (324)\ttotal: 705ms\tremaining: 0us\n",
      "\n",
      "bestTest = 0.02294845746\n",
      "bestIteration = 324\n",
      "\n",
      "Training on fold [14/30]\n",
      "0:\tlearn: 0.7842935\ttest: 0.7858522\tbest: 0.7858522 (0)\ttotal: 2.59ms\tremaining: 2.59s\n",
      "999:\tlearn: 0.0022436\ttest: 0.0398730\tbest: 0.0391628 (308)\ttotal: 705ms\tremaining: 0us\n",
      "\n",
      "bestTest = 0.03916283836\n",
      "bestIteration = 308\n",
      "\n",
      "Training on fold [15/30]\n",
      "0:\tlearn: 0.7844231\ttest: 0.7864817\tbest: 0.7864817 (0)\ttotal: 1.9ms\tremaining: 1.9s\n",
      "999:\tlearn: 0.0022465\ttest: 0.0329510\tbest: 0.0326053 (241)\ttotal: 726ms\tremaining: 0us\n",
      "\n",
      "bestTest = 0.03260525442\n",
      "bestIteration = 241\n",
      "\n",
      "Training on fold [16/30]\n",
      "0:\tlearn: 0.7835901\ttest: 0.7925819\tbest: 0.7925819 (0)\ttotal: 539us\tremaining: 539ms\n",
      "999:\tlearn: 0.0026612\ttest: 0.0642176\tbest: 0.0642017 (922)\ttotal: 744ms\tremaining: 0us\n",
      "\n",
      "bestTest = 0.06420165733\n",
      "bestIteration = 922\n",
      "\n",
      "Training on fold [17/30]\n",
      "0:\tlearn: 0.7837381\ttest: 0.7911425\tbest: 0.7911425 (0)\ttotal: 591us\tremaining: 591ms\n",
      "999:\tlearn: 0.0024094\ttest: 0.0395843\tbest: 0.0392174 (553)\ttotal: 855ms\tremaining: 0us\n",
      "\n",
      "bestTest = 0.03921737626\n",
      "bestIteration = 553\n",
      "\n",
      "Training on fold [18/30]\n",
      "0:\tlearn: 0.7834832\ttest: 0.7926663\tbest: 0.7926663 (0)\ttotal: 1.09ms\tremaining: 1.09s\n",
      "999:\tlearn: 0.0022815\ttest: 0.0417950\tbest: 0.0386791 (259)\ttotal: 729ms\tremaining: 0us\n",
      "\n",
      "bestTest = 0.03867909115\n",
      "bestIteration = 259\n",
      "\n",
      "Training on fold [19/30]\n",
      "0:\tlearn: 0.7855551\ttest: 0.7734573\tbest: 0.7734573 (0)\ttotal: 925us\tremaining: 925ms\n",
      "999:\tlearn: 0.0022294\ttest: 0.0237447\tbest: 0.0202409 (278)\ttotal: 681ms\tremaining: 0us\n",
      "\n",
      "bestTest = 0.0202408758\n",
      "bestIteration = 278\n",
      "\n",
      "Training on fold [20/30]\n",
      "0:\tlearn: 0.7838108\ttest: 0.7890441\tbest: 0.7890441 (0)\ttotal: 720us\tremaining: 720ms\n",
      "999:\tlearn: 0.0024969\ttest: 0.0289021\tbest: 0.0287623 (692)\ttotal: 738ms\tremaining: 0us\n",
      "\n",
      "bestTest = 0.02876225417\n",
      "bestIteration = 692\n",
      "\n",
      "Training on fold [21/30]\n",
      "0:\tlearn: 0.7848616\ttest: 0.7799070\tbest: 0.7799070 (0)\ttotal: 2.54ms\tremaining: 2.53s\n",
      "999:\tlearn: 0.0020140\ttest: 0.0434858\tbest: 0.0423828 (408)\ttotal: 845ms\tremaining: 0us\n",
      "\n",
      "bestTest = 0.04238282652\n",
      "bestIteration = 408\n",
      "\n",
      "Training on fold [22/30]\n",
      "0:\tlearn: 0.7844521\ttest: 0.7839630\tbest: 0.7839630 (0)\ttotal: 614us\tremaining: 613ms\n",
      "999:\tlearn: 0.0024454\ttest: 0.0484613\tbest: 0.0483981 (916)\ttotal: 744ms\tremaining: 0us\n",
      "\n",
      "bestTest = 0.04839813154\n",
      "bestIteration = 916\n",
      "\n",
      "Training on fold [23/30]\n",
      "0:\tlearn: 0.7846869\ttest: 0.7822606\tbest: 0.7822606 (0)\ttotal: 2.41ms\tremaining: 2.41s\n",
      "999:\tlearn: 0.0020595\ttest: 0.0415181\tbest: 0.0369855 (204)\ttotal: 675ms\tremaining: 0us\n",
      "\n",
      "bestTest = 0.03698551824\n",
      "bestIteration = 204\n",
      "\n",
      "Training on fold [24/30]\n",
      "0:\tlearn: 0.7846962\ttest: 0.7818374\tbest: 0.7818374 (0)\ttotal: 2.17ms\tremaining: 2.17s\n",
      "999:\tlearn: 0.0021820\ttest: 0.0422040\tbest: 0.0367944 (186)\ttotal: 671ms\tremaining: 0us\n",
      "\n",
      "bestTest = 0.03679436791\n",
      "bestIteration = 186\n",
      "\n",
      "Training on fold [25/30]\n",
      "0:\tlearn: 0.7832313\ttest: 0.7950144\tbest: 0.7950144 (0)\ttotal: 517us\tremaining: 517ms\n",
      "999:\tlearn: 0.0021028\ttest: 0.0556926\tbest: 0.0555691 (894)\ttotal: 748ms\tremaining: 0us\n",
      "\n",
      "bestTest = 0.05556911394\n",
      "bestIteration = 894\n",
      "\n",
      "Training on fold [26/30]\n",
      "0:\tlearn: 0.7833521\ttest: 0.7955276\tbest: 0.7955276 (0)\ttotal: 1.17ms\tremaining: 1.17s\n",
      "999:\tlearn: 0.0022583\ttest: 0.0383139\tbest: 0.0383115 (998)\ttotal: 650ms\tremaining: 0us\n",
      "\n",
      "bestTest = 0.03831146335\n",
      "bestIteration = 998\n",
      "\n",
      "Training on fold [27/30]\n",
      "0:\tlearn: 0.7837601\ttest: 0.7918937\tbest: 0.7918937 (0)\ttotal: 1.75ms\tremaining: 1.75s\n",
      "999:\tlearn: 0.0022045\ttest: 0.0499786\tbest: 0.0486140 (459)\ttotal: 642ms\tremaining: 0us\n",
      "\n",
      "bestTest = 0.04861400226\n",
      "bestIteration = 459\n",
      "\n",
      "Training on fold [28/30]\n",
      "0:\tlearn: 0.7857407\ttest: 0.7714899\tbest: 0.7714899 (0)\ttotal: 970us\tremaining: 970ms\n",
      "999:\tlearn: 0.0019638\ttest: 0.0449014\tbest: 0.0389097 (154)\ttotal: 676ms\tremaining: 0us\n",
      "\n",
      "bestTest = 0.03890971672\n",
      "bestIteration = 154\n",
      "\n",
      "Training on fold [29/30]\n",
      "0:\tlearn: 0.7850592\ttest: 0.7760757\tbest: 0.7760757 (0)\ttotal: 1.28ms\tremaining: 1.28s\n",
      "999:\tlearn: 0.0023815\ttest: 0.0322620\tbest: 0.0266704 (220)\ttotal: 740ms\tremaining: 0us\n",
      "\n",
      "bestTest = 0.02667035078\n",
      "bestIteration = 220\n",
      "\n"
     ]
    }
   ],
   "source": [
    "model = CatBoostRegressor(verbose=1000)\n",
    "grid = {\n",
    "    'learning_rate': [0.03, 0.05, 0.07, 0.1],\n",
    "    'depth': [4, 6, 10, 12],\n",
    "    'l2_leaf_reg': [1, 3, 5, 7, 9]\n",
    "}\n",
    "grid_search_result = model.grid_search(grid, X=dfX[cols], y=y, plot=True, cv=kf, verbose=False)"
   ]
  },
  {
   "cell_type": "code",
   "execution_count": 17,
   "metadata": {},
   "outputs": [
    {
     "data": {
      "text/plain": [
       "{'depth': 4, 'l2_leaf_reg': 1, 'learning_rate': 0.03}"
      ]
     },
     "execution_count": 17,
     "metadata": {},
     "output_type": "execute_result"
    }
   ],
   "source": [
    "grid_search_result['params']"
   ]
  },
  {
   "cell_type": "code",
   "execution_count": 18,
   "metadata": {},
   "outputs": [
    {
     "data": {
      "text/plain": [
       "('Catboost', 0.03603586259414829, 0.029358332918660912, 0.4481142088724709)"
      ]
     },
     "execution_count": 18,
     "metadata": {},
     "output_type": "execute_result"
    }
   ],
   "source": [
    "\n",
    "\n",
    "def evaluate_catboost(dfX,y,kf):\n",
    "  from catboost import CatBoostRegressor\n",
    "  from catboost import Pool\n",
    "  from sklearn.metrics import r2_score, mean_squared_error\n",
    "  vals = []\n",
    "  preds = []\n",
    "  error_rates_dt = []\n",
    "\n",
    "  cbr = CatBoostRegressor(\n",
    "    depth= 4,\n",
    "    l2_leaf_reg= 1,\n",
    "    learning_rate= 0.03,\n",
    "    )\n",
    "  for train_index, test_index in kf.split(dfX):\n",
    "    # print(\"TRAIN:\", train_index, \"TEST:\", test_index)\n",
    "      X_train, X_test = dfX.iloc[train_index], dfX.iloc[test_index]\n",
    "      y_train, y_test = y.iloc[train_index], y.iloc[test_index]\n",
    "      train_pool = Pool(data=X_train, label=y_train)\n",
    "      test_pool = Pool(data=X_test, label=y_test)\n",
    "\n",
    "      cbr.fit(train_pool, verbose=False)\n",
    "      cbr_pred = cbr.predict(test_pool)\n",
    "      preds.append(cbr_pred)\n",
    "      vals.append(y_test)\n",
    "\n",
    "  cat_df = pd.DataFrame({'Prediction':utils.flatten(preds),'Actual Values': utils.flatten(vals)})\n",
    "  return utils.error_rate(\"Catboost\",cat_df['Prediction'],cat_df['Actual Values'])\n",
    "\n",
    "evaluate_catboost(dfX[cols],y,kf)"
   ]
  },
  {
   "cell_type": "code",
   "execution_count": 7,
   "metadata": {},
   "outputs": [
    {
     "name": "stderr",
     "output_type": "stream",
     "text": [
      "[I 2023-06-08 14:38:08,042] A new study created in memory with name: no-name-a820b070-628f-4db5-9c86-d7caba9e046e\n",
      "C:\\Users\\Bayu Adjie Sidharta\\AppData\\Local\\Temp\\ipykernel_26256\\3613356961.py:26: FutureWarning: suggest_discrete_uniform has been deprecated in v3.0.0. This feature will be removed in v6.0.0. See https://github.com/optuna/optuna/releases/tag/v3.0.0. Use suggest_float(..., step=...) instead.\n",
      "  \"learning_rate\": trial.suggest_discrete_uniform(\"learning_rate\", 0.001, 0.05, 0.005),\n",
      "c:\\Users\\Bayu Adjie Sidharta\\AppData\\Local\\Programs\\Python\\Python310\\lib\\site-packages\\optuna\\distributions.py:685: UserWarning: The distribution is specified by [0.001, 0.05] and step=0.005, but the range is not divisible by `step`. It will be replaced by [0.001, 0.046].\n",
      "  warnings.warn(\n",
      "C:\\Users\\Bayu Adjie Sidharta\\AppData\\Local\\Temp\\ipykernel_26256\\3613356961.py:28: FutureWarning: suggest_discrete_uniform has been deprecated in v3.0.0. This feature will be removed in v6.0.0. See https://github.com/optuna/optuna/releases/tag/v3.0.0. Use suggest_float(..., step=...) instead.\n",
      "  \"l2_leaf_reg\": trial.suggest_discrete_uniform(\"l2_leaf_reg\", 1, 5.5, 0.5),\n"
     ]
    },
    {
     "name": "stdout",
     "output_type": "stream",
     "text": [
      "{'objective': 'RMSE', 'learning_rate': 0.001, 'depth': 16, 'l2_leaf_reg': 2.0, 'use_best_model': True, 'random_seed': 0}\n"
     ]
    },
    {
     "name": "stderr",
     "output_type": "stream",
     "text": [
      "[W 2023-06-08 14:38:28,381] Trial 0 failed with parameters: {'objective': 'RMSE', 'learning_rate': 0.001, 'depth': 16, 'l2_leaf_reg': 2.0} because of the following error: KeyboardInterrupt('').\n",
      "Traceback (most recent call last):\n",
      "  File \"c:\\Users\\Bayu Adjie Sidharta\\AppData\\Local\\Programs\\Python\\Python310\\lib\\site-packages\\optuna\\study\\_optimize.py\", line 200, in _run_trial\n",
      "    value_or_values = func(trial)\n",
      "  File \"C:\\Users\\Bayu Adjie Sidharta\\AppData\\Local\\Temp\\ipykernel_26256\\3613356961.py\", line 53, in objective\n",
      "    model.fit(train_pool, eval_set=val_pool)\n",
      "  File \"c:\\Users\\Bayu Adjie Sidharta\\AppData\\Local\\Programs\\Python\\Python310\\lib\\site-packages\\catboost\\core.py\", line 5730, in fit\n",
      "    return self._fit(X, y, cat_features, text_features, embedding_features, None, sample_weight, None, None, None, None, baseline,\n",
      "  File \"c:\\Users\\Bayu Adjie Sidharta\\AppData\\Local\\Programs\\Python\\Python310\\lib\\site-packages\\catboost\\core.py\", line 2355, in _fit\n",
      "    self._train(\n",
      "  File \"c:\\Users\\Bayu Adjie Sidharta\\AppData\\Local\\Programs\\Python\\Python310\\lib\\site-packages\\catboost\\core.py\", line 1759, in _train\n",
      "    self._object._train(train_pool, test_pool, params, allow_clear_pool, init_model._object if init_model else None)\n",
      "  File \"_catboost.pyx\", line 4623, in _catboost._CatBoost._train\n",
      "  File \"_catboost.pyx\", line 4672, in _catboost._CatBoost._train\n",
      "KeyboardInterrupt\n",
      "[W 2023-06-08 14:38:28,386] Trial 0 failed with value None.\n"
     ]
    },
    {
     "ename": "KeyboardInterrupt",
     "evalue": "",
     "output_type": "error",
     "traceback": [
      "\u001b[1;31m---------------------------------------------------------------------------\u001b[0m",
      "\u001b[1;31mKeyboardInterrupt\u001b[0m                         Traceback (most recent call last)",
      "Cell \u001b[1;32mIn[7], line 75\u001b[0m\n\u001b[0;32m     69\u001b[0m     \u001b[39mreturn\u001b[39;00m rmse\n\u001b[0;32m     73\u001b[0m study \u001b[39m=\u001b[39m optuna\u001b[39m.\u001b[39mcreate_study(direction\u001b[39m=\u001b[39m\u001b[39m\"\u001b[39m\u001b[39mminimize\u001b[39m\u001b[39m\"\u001b[39m, pruner\u001b[39m=\u001b[39moptuna\u001b[39m.\u001b[39mpruners\u001b[39m.\u001b[39mMedianPruner(n_warmup_steps\u001b[39m=\u001b[39m\u001b[39m10\u001b[39m))\n\u001b[1;32m---> 75\u001b[0m study\u001b[39m.\u001b[39;49moptimize(objective, n_trials\u001b[39m=\u001b[39;49m\u001b[39m15\u001b[39;49m)\n\u001b[0;32m     77\u001b[0m \u001b[39mprint\u001b[39m(\u001b[39m\"\u001b[39m\u001b[39mNumber of finished trials: \u001b[39m\u001b[39m{}\u001b[39;00m\u001b[39m\"\u001b[39m\u001b[39m.\u001b[39mformat(\u001b[39mlen\u001b[39m(study\u001b[39m.\u001b[39mtrials)))\n\u001b[0;32m     78\u001b[0m \u001b[39mprint\u001b[39m(\u001b[39m\"\u001b[39m\u001b[39mBest trial:\u001b[39m\u001b[39m\"\u001b[39m)\n",
      "File \u001b[1;32mc:\\Users\\Bayu Adjie Sidharta\\AppData\\Local\\Programs\\Python\\Python310\\lib\\site-packages\\optuna\\study\\study.py:443\u001b[0m, in \u001b[0;36mStudy.optimize\u001b[1;34m(self, func, n_trials, timeout, n_jobs, catch, callbacks, gc_after_trial, show_progress_bar)\u001b[0m\n\u001b[0;32m    339\u001b[0m \u001b[39mdef\u001b[39;00m \u001b[39moptimize\u001b[39m(\n\u001b[0;32m    340\u001b[0m     \u001b[39mself\u001b[39m,\n\u001b[0;32m    341\u001b[0m     func: ObjectiveFuncType,\n\u001b[1;32m   (...)\u001b[0m\n\u001b[0;32m    348\u001b[0m     show_progress_bar: \u001b[39mbool\u001b[39m \u001b[39m=\u001b[39m \u001b[39mFalse\u001b[39;00m,\n\u001b[0;32m    349\u001b[0m ) \u001b[39m-\u001b[39m\u001b[39m>\u001b[39m \u001b[39mNone\u001b[39;00m:\n\u001b[0;32m    350\u001b[0m     \u001b[39m\"\"\"Optimize an objective function.\u001b[39;00m\n\u001b[0;32m    351\u001b[0m \n\u001b[0;32m    352\u001b[0m \u001b[39m    Optimization is done by choosing a suitable set of hyperparameter values from a given\u001b[39;00m\n\u001b[1;32m   (...)\u001b[0m\n\u001b[0;32m    440\u001b[0m \u001b[39m            If nested invocation of this method occurs.\u001b[39;00m\n\u001b[0;32m    441\u001b[0m \u001b[39m    \"\"\"\u001b[39;00m\n\u001b[1;32m--> 443\u001b[0m     _optimize(\n\u001b[0;32m    444\u001b[0m         study\u001b[39m=\u001b[39;49m\u001b[39mself\u001b[39;49m,\n\u001b[0;32m    445\u001b[0m         func\u001b[39m=\u001b[39;49mfunc,\n\u001b[0;32m    446\u001b[0m         n_trials\u001b[39m=\u001b[39;49mn_trials,\n\u001b[0;32m    447\u001b[0m         timeout\u001b[39m=\u001b[39;49mtimeout,\n\u001b[0;32m    448\u001b[0m         n_jobs\u001b[39m=\u001b[39;49mn_jobs,\n\u001b[0;32m    449\u001b[0m         catch\u001b[39m=\u001b[39;49m\u001b[39mtuple\u001b[39;49m(catch) \u001b[39mif\u001b[39;49;00m \u001b[39misinstance\u001b[39;49m(catch, Iterable) \u001b[39melse\u001b[39;49;00m (catch,),\n\u001b[0;32m    450\u001b[0m         callbacks\u001b[39m=\u001b[39;49mcallbacks,\n\u001b[0;32m    451\u001b[0m         gc_after_trial\u001b[39m=\u001b[39;49mgc_after_trial,\n\u001b[0;32m    452\u001b[0m         show_progress_bar\u001b[39m=\u001b[39;49mshow_progress_bar,\n\u001b[0;32m    453\u001b[0m     )\n",
      "File \u001b[1;32mc:\\Users\\Bayu Adjie Sidharta\\AppData\\Local\\Programs\\Python\\Python310\\lib\\site-packages\\optuna\\study\\_optimize.py:66\u001b[0m, in \u001b[0;36m_optimize\u001b[1;34m(study, func, n_trials, timeout, n_jobs, catch, callbacks, gc_after_trial, show_progress_bar)\u001b[0m\n\u001b[0;32m     64\u001b[0m \u001b[39mtry\u001b[39;00m:\n\u001b[0;32m     65\u001b[0m     \u001b[39mif\u001b[39;00m n_jobs \u001b[39m==\u001b[39m \u001b[39m1\u001b[39m:\n\u001b[1;32m---> 66\u001b[0m         _optimize_sequential(\n\u001b[0;32m     67\u001b[0m             study,\n\u001b[0;32m     68\u001b[0m             func,\n\u001b[0;32m     69\u001b[0m             n_trials,\n\u001b[0;32m     70\u001b[0m             timeout,\n\u001b[0;32m     71\u001b[0m             catch,\n\u001b[0;32m     72\u001b[0m             callbacks,\n\u001b[0;32m     73\u001b[0m             gc_after_trial,\n\u001b[0;32m     74\u001b[0m             reseed_sampler_rng\u001b[39m=\u001b[39;49m\u001b[39mFalse\u001b[39;49;00m,\n\u001b[0;32m     75\u001b[0m             time_start\u001b[39m=\u001b[39;49m\u001b[39mNone\u001b[39;49;00m,\n\u001b[0;32m     76\u001b[0m             progress_bar\u001b[39m=\u001b[39;49mprogress_bar,\n\u001b[0;32m     77\u001b[0m         )\n\u001b[0;32m     78\u001b[0m     \u001b[39melse\u001b[39;00m:\n\u001b[0;32m     79\u001b[0m         \u001b[39mif\u001b[39;00m n_jobs \u001b[39m==\u001b[39m \u001b[39m-\u001b[39m\u001b[39m1\u001b[39m:\n",
      "File \u001b[1;32mc:\\Users\\Bayu Adjie Sidharta\\AppData\\Local\\Programs\\Python\\Python310\\lib\\site-packages\\optuna\\study\\_optimize.py:163\u001b[0m, in \u001b[0;36m_optimize_sequential\u001b[1;34m(study, func, n_trials, timeout, catch, callbacks, gc_after_trial, reseed_sampler_rng, time_start, progress_bar)\u001b[0m\n\u001b[0;32m    160\u001b[0m         \u001b[39mbreak\u001b[39;00m\n\u001b[0;32m    162\u001b[0m \u001b[39mtry\u001b[39;00m:\n\u001b[1;32m--> 163\u001b[0m     frozen_trial \u001b[39m=\u001b[39m _run_trial(study, func, catch)\n\u001b[0;32m    164\u001b[0m \u001b[39mfinally\u001b[39;00m:\n\u001b[0;32m    165\u001b[0m     \u001b[39m# The following line mitigates memory problems that can be occurred in some\u001b[39;00m\n\u001b[0;32m    166\u001b[0m     \u001b[39m# environments (e.g., services that use computing containers such as GitHub Actions).\u001b[39;00m\n\u001b[0;32m    167\u001b[0m     \u001b[39m# Please refer to the following PR for further details:\u001b[39;00m\n\u001b[0;32m    168\u001b[0m     \u001b[39m# https://github.com/optuna/optuna/pull/325.\u001b[39;00m\n\u001b[0;32m    169\u001b[0m     \u001b[39mif\u001b[39;00m gc_after_trial:\n",
      "File \u001b[1;32mc:\\Users\\Bayu Adjie Sidharta\\AppData\\Local\\Programs\\Python\\Python310\\lib\\site-packages\\optuna\\study\\_optimize.py:251\u001b[0m, in \u001b[0;36m_run_trial\u001b[1;34m(study, func, catch)\u001b[0m\n\u001b[0;32m    244\u001b[0m         \u001b[39massert\u001b[39;00m \u001b[39mFalse\u001b[39;00m, \u001b[39m\"\u001b[39m\u001b[39mShould not reach.\u001b[39m\u001b[39m\"\u001b[39m\n\u001b[0;32m    246\u001b[0m \u001b[39mif\u001b[39;00m (\n\u001b[0;32m    247\u001b[0m     frozen_trial\u001b[39m.\u001b[39mstate \u001b[39m==\u001b[39m TrialState\u001b[39m.\u001b[39mFAIL\n\u001b[0;32m    248\u001b[0m     \u001b[39mand\u001b[39;00m func_err \u001b[39mis\u001b[39;00m \u001b[39mnot\u001b[39;00m \u001b[39mNone\u001b[39;00m\n\u001b[0;32m    249\u001b[0m     \u001b[39mand\u001b[39;00m \u001b[39mnot\u001b[39;00m \u001b[39misinstance\u001b[39m(func_err, catch)\n\u001b[0;32m    250\u001b[0m ):\n\u001b[1;32m--> 251\u001b[0m     \u001b[39mraise\u001b[39;00m func_err\n\u001b[0;32m    252\u001b[0m \u001b[39mreturn\u001b[39;00m frozen_trial\n",
      "File \u001b[1;32mc:\\Users\\Bayu Adjie Sidharta\\AppData\\Local\\Programs\\Python\\Python310\\lib\\site-packages\\optuna\\study\\_optimize.py:200\u001b[0m, in \u001b[0;36m_run_trial\u001b[1;34m(study, func, catch)\u001b[0m\n\u001b[0;32m    198\u001b[0m \u001b[39mwith\u001b[39;00m get_heartbeat_thread(trial\u001b[39m.\u001b[39m_trial_id, study\u001b[39m.\u001b[39m_storage):\n\u001b[0;32m    199\u001b[0m     \u001b[39mtry\u001b[39;00m:\n\u001b[1;32m--> 200\u001b[0m         value_or_values \u001b[39m=\u001b[39m func(trial)\n\u001b[0;32m    201\u001b[0m     \u001b[39mexcept\u001b[39;00m exceptions\u001b[39m.\u001b[39mTrialPruned \u001b[39mas\u001b[39;00m e:\n\u001b[0;32m    202\u001b[0m         \u001b[39m# TODO(mamu): Handle multi-objective cases.\u001b[39;00m\n\u001b[0;32m    203\u001b[0m         state \u001b[39m=\u001b[39m TrialState\u001b[39m.\u001b[39mPRUNED\n",
      "Cell \u001b[1;32mIn[7], line 53\u001b[0m, in \u001b[0;36mobjective\u001b[1;34m(trial)\u001b[0m\n\u001b[0;32m     50\u001b[0m val_pool \u001b[39m=\u001b[39m Pool(val_x, val_y)\n\u001b[0;32m     51\u001b[0m test_pool \u001b[39m=\u001b[39m Pool(test_x)\n\u001b[1;32m---> 53\u001b[0m model\u001b[39m.\u001b[39;49mfit(train_pool, eval_set\u001b[39m=\u001b[39;49mval_pool)\n\u001b[0;32m     55\u001b[0m pred \u001b[39m=\u001b[39m model\u001b[39m.\u001b[39mpredict(test_pool)\n\u001b[0;32m     56\u001b[0m \u001b[39m# convert np float array to list\u001b[39;00m\n",
      "File \u001b[1;32mc:\\Users\\Bayu Adjie Sidharta\\AppData\\Local\\Programs\\Python\\Python310\\lib\\site-packages\\catboost\\core.py:5730\u001b[0m, in \u001b[0;36mCatBoostRegressor.fit\u001b[1;34m(self, X, y, cat_features, text_features, embedding_features, sample_weight, baseline, use_best_model, eval_set, verbose, logging_level, plot, plot_file, column_description, verbose_eval, metric_period, silent, early_stopping_rounds, save_snapshot, snapshot_file, snapshot_interval, init_model, callbacks, log_cout, log_cerr)\u001b[0m\n\u001b[0;32m   5727\u001b[0m \u001b[39mif\u001b[39;00m \u001b[39m'\u001b[39m\u001b[39mloss_function\u001b[39m\u001b[39m'\u001b[39m \u001b[39min\u001b[39;00m params:\n\u001b[0;32m   5728\u001b[0m     CatBoostRegressor\u001b[39m.\u001b[39m_check_is_compatible_loss(params[\u001b[39m'\u001b[39m\u001b[39mloss_function\u001b[39m\u001b[39m'\u001b[39m])\n\u001b[1;32m-> 5730\u001b[0m \u001b[39mreturn\u001b[39;00m \u001b[39mself\u001b[39;49m\u001b[39m.\u001b[39;49m_fit(X, y, cat_features, text_features, embedding_features, \u001b[39mNone\u001b[39;49;00m, sample_weight, \u001b[39mNone\u001b[39;49;00m, \u001b[39mNone\u001b[39;49;00m, \u001b[39mNone\u001b[39;49;00m, \u001b[39mNone\u001b[39;49;00m, baseline,\n\u001b[0;32m   5731\u001b[0m                  use_best_model, eval_set, verbose, logging_level, plot, plot_file, column_description,\n\u001b[0;32m   5732\u001b[0m                  verbose_eval, metric_period, silent, early_stopping_rounds,\n\u001b[0;32m   5733\u001b[0m                  save_snapshot, snapshot_file, snapshot_interval, init_model, callbacks, log_cout, log_cerr)\n",
      "File \u001b[1;32mc:\\Users\\Bayu Adjie Sidharta\\AppData\\Local\\Programs\\Python\\Python310\\lib\\site-packages\\catboost\\core.py:2355\u001b[0m, in \u001b[0;36mCatBoost._fit\u001b[1;34m(self, X, y, cat_features, text_features, embedding_features, pairs, sample_weight, group_id, group_weight, subgroup_id, pairs_weight, baseline, use_best_model, eval_set, verbose, logging_level, plot, plot_file, column_description, verbose_eval, metric_period, silent, early_stopping_rounds, save_snapshot, snapshot_file, snapshot_interval, init_model, callbacks, log_cout, log_cerr)\u001b[0m\n\u001b[0;32m   2351\u001b[0m allow_clear_pool \u001b[39m=\u001b[39m train_params[\u001b[39m\"\u001b[39m\u001b[39mallow_clear_pool\u001b[39m\u001b[39m\"\u001b[39m]\n\u001b[0;32m   2353\u001b[0m \u001b[39mwith\u001b[39;00m log_fixup(log_cout, log_cerr), \\\n\u001b[0;32m   2354\u001b[0m     plot_wrapper(plot, plot_file, \u001b[39m'\u001b[39m\u001b[39mTraining plots\u001b[39m\u001b[39m'\u001b[39m, [_get_train_dir(\u001b[39mself\u001b[39m\u001b[39m.\u001b[39mget_params())]):\n\u001b[1;32m-> 2355\u001b[0m     \u001b[39mself\u001b[39;49m\u001b[39m.\u001b[39;49m_train(\n\u001b[0;32m   2356\u001b[0m         train_pool,\n\u001b[0;32m   2357\u001b[0m         train_params[\u001b[39m\"\u001b[39;49m\u001b[39meval_sets\u001b[39;49m\u001b[39m\"\u001b[39;49m],\n\u001b[0;32m   2358\u001b[0m         params,\n\u001b[0;32m   2359\u001b[0m         allow_clear_pool,\n\u001b[0;32m   2360\u001b[0m         train_params[\u001b[39m\"\u001b[39;49m\u001b[39minit_model\u001b[39;49m\u001b[39m\"\u001b[39;49m]\n\u001b[0;32m   2361\u001b[0m     )\n\u001b[0;32m   2363\u001b[0m \u001b[39m# Have property feature_importance possibly set\u001b[39;00m\n\u001b[0;32m   2364\u001b[0m loss \u001b[39m=\u001b[39m \u001b[39mself\u001b[39m\u001b[39m.\u001b[39m_object\u001b[39m.\u001b[39m_get_loss_function_name()\n",
      "File \u001b[1;32mc:\\Users\\Bayu Adjie Sidharta\\AppData\\Local\\Programs\\Python\\Python310\\lib\\site-packages\\catboost\\core.py:1759\u001b[0m, in \u001b[0;36m_CatBoostBase._train\u001b[1;34m(self, train_pool, test_pool, params, allow_clear_pool, init_model)\u001b[0m\n\u001b[0;32m   1758\u001b[0m \u001b[39mdef\u001b[39;00m \u001b[39m_train\u001b[39m(\u001b[39mself\u001b[39m, train_pool, test_pool, params, allow_clear_pool, init_model):\n\u001b[1;32m-> 1759\u001b[0m     \u001b[39mself\u001b[39;49m\u001b[39m.\u001b[39;49m_object\u001b[39m.\u001b[39;49m_train(train_pool, test_pool, params, allow_clear_pool, init_model\u001b[39m.\u001b[39;49m_object \u001b[39mif\u001b[39;49;00m init_model \u001b[39melse\u001b[39;49;00m \u001b[39mNone\u001b[39;49;00m)\n\u001b[0;32m   1760\u001b[0m     \u001b[39mself\u001b[39m\u001b[39m.\u001b[39m_set_trained_model_attributes()\n",
      "File \u001b[1;32m_catboost.pyx:4623\u001b[0m, in \u001b[0;36m_catboost._CatBoost._train\u001b[1;34m()\u001b[0m\n",
      "File \u001b[1;32m_catboost.pyx:4672\u001b[0m, in \u001b[0;36m_catboost._CatBoost._train\u001b[1;34m()\u001b[0m\n",
      "\u001b[1;31mKeyboardInterrupt\u001b[0m: "
     ]
    }
   ],
   "source": [
    "from catboost import CatBoostRegressor\n",
    "from catboost import Pool\n",
    "import optuna\n",
    "import Utils as utils\n",
    "from sklearn.metrics import mean_squared_error\n",
    "from sklearn.model_selection import train_test_split\n",
    "from sklearn.pipeline import Pipeline\n",
    "from optuna.integration import CatBoostPruningCallback\n",
    "\n",
    "\n",
    "def objective(trial):\n",
    "    cols = ['Umur', 'Umur Squared', 'APM SMA', 'Pengeluaran Bulanan','Indeks Pembangunan Manusia', 'DPT', 'Sentiment', 'Weighted Sentiment']\n",
    "    usedDF = dfX[cols]\n",
    "    # data, target = dfX[cols], y\n",
    "    # train_x, test_x, train_y, test_y = train_test_split(data, target, test_size=0.2)\n",
    "    # train_x, val_x, train_y, val_y = train_test_split(train_x, train_y, test_size=0.25)\n",
    "    # train_pool = Pool(train_x, train_y)\n",
    "    # val_pool = Pool(val_x, val_y)\n",
    "    # test_pool = Pool(test_x)\n",
    "\n",
    "    preds = []\n",
    "    vals = []\n",
    "\n",
    "    params = {\n",
    "        \"objective\": trial.suggest_categorical(\"objective\", [\"RMSE\"]),\n",
    "        \"learning_rate\": trial.suggest_discrete_uniform(\"learning_rate\", 0.001, 0.05, 0.005),\n",
    "        \"depth\": trial.suggest_int(\"depth\", 8, 16),\n",
    "        \"l2_leaf_reg\": trial.suggest_discrete_uniform(\"l2_leaf_reg\", 1, 5.5, 0.5),\n",
    "        \"use_best_model\": True,\n",
    "        \"random_seed\": 0,\n",
    "    }\n",
    "\n",
    "    print(params)\n",
    "\n",
    "    # if params[\"bootstrap_type\"] == \"Bayesian\":\n",
    "    #     params[\"bagging_temperature\"] = trial.suggest_float(\"bagging_temperature\", 0, 10)\n",
    "    # elif params[\"bootstrap_type\"] == \"Bernoulli\":\n",
    "    #     params[\"subsample\"] = trial.suggest_float(\"subsample\", 0.1, 1, log=True)\n",
    "\n",
    "    model = CatBoostRegressor(**params, verbose=False)\n",
    "\n",
    "    # pruning_callback = CatBoostPruningCallback(trial, \"RMSE\")\n",
    "\n",
    "    for i, (train_index , test_index) in enumerate(kf.split(usedDF)):\n",
    "        train_x, test_x = usedDF.iloc[train_index], usedDF.iloc[test_index]\n",
    "        train_y, test_y = y.iloc[train_index], y.iloc[test_index]\n",
    "        \n",
    "        train_x, val_x, train_y, val_y = train_test_split(train_x, train_y, test_size=0.25)\n",
    "        train_pool = Pool(train_x, train_y)\n",
    "        val_pool = Pool(val_x, val_y)\n",
    "        test_pool = Pool(test_x)\n",
    "\n",
    "        model.fit(train_pool, eval_set=val_pool)\n",
    "\n",
    "        pred = model.predict(test_pool)\n",
    "        # convert np float array to list\n",
    "\n",
    "        preds.append(pred.tolist())\n",
    "        vals.append(test_y.values)\n",
    "        \n",
    "    \n",
    "    preds = flatten(preds)\n",
    "    vals = flatten(vals)\n",
    "    \n",
    "    results = utils.error_rate(\"Catboost\",preds ,vals)\n",
    "    print(results)\n",
    "\n",
    "    rmse = mean_squared_error(vals, preds, squared=False)\n",
    "    return rmse\n",
    "\n",
    "\n",
    "\n",
    "study = optuna.create_study(direction=\"minimize\", pruner=optuna.pruners.MedianPruner(n_warmup_steps=10))\n",
    "\n",
    "study.optimize(objective, n_trials=15)\n",
    "\n",
    "print(\"Number of finished trials: {}\".format(len(study.trials)))\n",
    "print(\"Best trial:\")\n",
    "trial = study.best_trial\n",
    "\n",
    "print(\"  Value: {}\".format(trial.value))\n",
    "\n",
    "print(\"  Params: \")\n",
    "for key, value in trial.params.items():\n",
    "    print(\"    {}: {}\".format(key, value))\n",
    "\n",
    "\n"
   ]
  },
  {
   "cell_type": "code",
   "execution_count": 43,
   "metadata": {},
   "outputs": [],
   "source": [
    "from winsound import Beep\n",
    "\n",
    "Beep(300, 200)\n",
    "Beep(300, 200)\n",
    "Beep(300, 700)"
   ]
  },
  {
   "cell_type": "code",
   "execution_count": 8,
   "metadata": {},
   "outputs": [
    {
     "name": "stdout",
     "output_type": "stream",
     "text": [
      "{'nan_mode': 'Min', 'eval_metric': 'RMSE', 'iterations': 1000, 'sampling_frequency': 'PerTree', 'leaf_estimation_method': 'Newton', 'grow_policy': 'SymmetricTree', 'penalties_coefficient': 1, 'boosting_type': 'Plain', 'model_shrink_mode': 'Constant', 'feature_border_type': 'GreedyLogSum', 'bayesian_matrix_reg': 0.10000000149011612, 'eval_fraction': 0, 'force_unit_auto_pair_weights': False, 'l2_leaf_reg': 3, 'random_strength': 1, 'rsm': 1, 'boost_from_average': True, 'model_size_reg': 0.5, 'pool_metainfo_options': {'tags': {}}, 'subsample': 1, 'use_best_model': False, 'random_seed': 0, 'depth': 6, 'posterior_sampling': False, 'border_count': 254, 'classes_count': 0, 'auto_class_weights': 'None', 'sparse_features_conflict_fraction': 0, 'leaf_estimation_backtracking': 'AnyImprovement', 'best_model_min_trees': 1, 'model_shrink_rate': 0, 'min_data_in_leaf': 1, 'loss_function': 'RMSE', 'learning_rate': 0.028226999565958977, 'score_function': 'Cosine', 'task_type': 'CPU', 'leaf_estimation_iterations': 1, 'bootstrap_type': 'MVS', 'max_leaves': 64}\n",
      "{'nan_mode': 'Min', 'eval_metric': 'RMSE', 'iterations': 1000, 'sampling_frequency': 'PerTree', 'leaf_estimation_method': 'Newton', 'grow_policy': 'SymmetricTree', 'penalties_coefficient': 1, 'boosting_type': 'Plain', 'model_shrink_mode': 'Constant', 'feature_border_type': 'GreedyLogSum', 'bayesian_matrix_reg': 0.10000000149011612, 'eval_fraction': 0, 'force_unit_auto_pair_weights': False, 'l2_leaf_reg': 3, 'random_strength': 1, 'rsm': 1, 'boost_from_average': True, 'model_size_reg': 0.5, 'pool_metainfo_options': {'tags': {}}, 'subsample': 1, 'use_best_model': False, 'random_seed': 0, 'depth': 6, 'posterior_sampling': False, 'border_count': 254, 'classes_count': 0, 'auto_class_weights': 'None', 'sparse_features_conflict_fraction': 0, 'leaf_estimation_backtracking': 'AnyImprovement', 'best_model_min_trees': 1, 'model_shrink_rate': 0, 'min_data_in_leaf': 1, 'loss_function': 'RMSE', 'learning_rate': 0.028226999565958977, 'score_function': 'Cosine', 'task_type': 'CPU', 'leaf_estimation_iterations': 1, 'bootstrap_type': 'MVS', 'max_leaves': 64}\n",
      "{'nan_mode': 'Min', 'eval_metric': 'RMSE', 'iterations': 1000, 'sampling_frequency': 'PerTree', 'leaf_estimation_method': 'Newton', 'grow_policy': 'SymmetricTree', 'penalties_coefficient': 1, 'boosting_type': 'Plain', 'model_shrink_mode': 'Constant', 'feature_border_type': 'GreedyLogSum', 'bayesian_matrix_reg': 0.10000000149011612, 'eval_fraction': 0, 'force_unit_auto_pair_weights': False, 'l2_leaf_reg': 3, 'random_strength': 1, 'rsm': 1, 'boost_from_average': True, 'model_size_reg': 0.5, 'pool_metainfo_options': {'tags': {}}, 'subsample': 1, 'use_best_model': False, 'random_seed': 0, 'depth': 6, 'posterior_sampling': False, 'border_count': 254, 'classes_count': 0, 'auto_class_weights': 'None', 'sparse_features_conflict_fraction': 0, 'leaf_estimation_backtracking': 'AnyImprovement', 'best_model_min_trees': 1, 'model_shrink_rate': 0, 'min_data_in_leaf': 1, 'loss_function': 'RMSE', 'learning_rate': 0.028226999565958977, 'score_function': 'Cosine', 'task_type': 'CPU', 'leaf_estimation_iterations': 1, 'bootstrap_type': 'MVS', 'max_leaves': 64}\n",
      "{'nan_mode': 'Min', 'eval_metric': 'RMSE', 'iterations': 1000, 'sampling_frequency': 'PerTree', 'leaf_estimation_method': 'Newton', 'grow_policy': 'SymmetricTree', 'penalties_coefficient': 1, 'boosting_type': 'Plain', 'model_shrink_mode': 'Constant', 'feature_border_type': 'GreedyLogSum', 'bayesian_matrix_reg': 0.10000000149011612, 'eval_fraction': 0, 'force_unit_auto_pair_weights': False, 'l2_leaf_reg': 3, 'random_strength': 1, 'rsm': 1, 'boost_from_average': True, 'model_size_reg': 0.5, 'pool_metainfo_options': {'tags': {}}, 'subsample': 1, 'use_best_model': False, 'random_seed': 0, 'depth': 6, 'posterior_sampling': False, 'border_count': 254, 'classes_count': 0, 'auto_class_weights': 'None', 'sparse_features_conflict_fraction': 0, 'leaf_estimation_backtracking': 'AnyImprovement', 'best_model_min_trees': 1, 'model_shrink_rate': 0, 'min_data_in_leaf': 1, 'loss_function': 'RMSE', 'learning_rate': 0.028226999565958977, 'score_function': 'Cosine', 'task_type': 'CPU', 'leaf_estimation_iterations': 1, 'bootstrap_type': 'MVS', 'max_leaves': 64}\n",
      "{'nan_mode': 'Min', 'eval_metric': 'RMSE', 'iterations': 1000, 'sampling_frequency': 'PerTree', 'leaf_estimation_method': 'Newton', 'grow_policy': 'SymmetricTree', 'penalties_coefficient': 1, 'boosting_type': 'Plain', 'model_shrink_mode': 'Constant', 'feature_border_type': 'GreedyLogSum', 'bayesian_matrix_reg': 0.10000000149011612, 'eval_fraction': 0, 'force_unit_auto_pair_weights': False, 'l2_leaf_reg': 3, 'random_strength': 1, 'rsm': 1, 'boost_from_average': True, 'model_size_reg': 0.5, 'pool_metainfo_options': {'tags': {}}, 'subsample': 1, 'use_best_model': False, 'random_seed': 0, 'depth': 6, 'posterior_sampling': False, 'border_count': 254, 'classes_count': 0, 'auto_class_weights': 'None', 'sparse_features_conflict_fraction': 0, 'leaf_estimation_backtracking': 'AnyImprovement', 'best_model_min_trees': 1, 'model_shrink_rate': 0, 'min_data_in_leaf': 1, 'loss_function': 'RMSE', 'learning_rate': 0.028226999565958977, 'score_function': 'Cosine', 'task_type': 'CPU', 'leaf_estimation_iterations': 1, 'bootstrap_type': 'MVS', 'max_leaves': 64}\n",
      "{'nan_mode': 'Min', 'eval_metric': 'RMSE', 'iterations': 1000, 'sampling_frequency': 'PerTree', 'leaf_estimation_method': 'Newton', 'grow_policy': 'SymmetricTree', 'penalties_coefficient': 1, 'boosting_type': 'Plain', 'model_shrink_mode': 'Constant', 'feature_border_type': 'GreedyLogSum', 'bayesian_matrix_reg': 0.10000000149011612, 'eval_fraction': 0, 'force_unit_auto_pair_weights': False, 'l2_leaf_reg': 3, 'random_strength': 1, 'rsm': 1, 'boost_from_average': True, 'model_size_reg': 0.5, 'pool_metainfo_options': {'tags': {}}, 'subsample': 1, 'use_best_model': False, 'random_seed': 0, 'depth': 6, 'posterior_sampling': False, 'border_count': 254, 'classes_count': 0, 'auto_class_weights': 'None', 'sparse_features_conflict_fraction': 0, 'leaf_estimation_backtracking': 'AnyImprovement', 'best_model_min_trees': 1, 'model_shrink_rate': 0, 'min_data_in_leaf': 1, 'loss_function': 'RMSE', 'learning_rate': 0.028226999565958977, 'score_function': 'Cosine', 'task_type': 'CPU', 'leaf_estimation_iterations': 1, 'bootstrap_type': 'MVS', 'max_leaves': 64}\n",
      "{'nan_mode': 'Min', 'eval_metric': 'RMSE', 'iterations': 1000, 'sampling_frequency': 'PerTree', 'leaf_estimation_method': 'Newton', 'grow_policy': 'SymmetricTree', 'penalties_coefficient': 1, 'boosting_type': 'Plain', 'model_shrink_mode': 'Constant', 'feature_border_type': 'GreedyLogSum', 'bayesian_matrix_reg': 0.10000000149011612, 'eval_fraction': 0, 'force_unit_auto_pair_weights': False, 'l2_leaf_reg': 3, 'random_strength': 1, 'rsm': 1, 'boost_from_average': True, 'model_size_reg': 0.5, 'pool_metainfo_options': {'tags': {}}, 'subsample': 1, 'use_best_model': False, 'random_seed': 0, 'depth': 6, 'posterior_sampling': False, 'border_count': 254, 'classes_count': 0, 'auto_class_weights': 'None', 'sparse_features_conflict_fraction': 0, 'leaf_estimation_backtracking': 'AnyImprovement', 'best_model_min_trees': 1, 'model_shrink_rate': 0, 'min_data_in_leaf': 1, 'loss_function': 'RMSE', 'learning_rate': 0.028272999450564384, 'score_function': 'Cosine', 'task_type': 'CPU', 'leaf_estimation_iterations': 1, 'bootstrap_type': 'MVS', 'max_leaves': 64}\n",
      "{'nan_mode': 'Min', 'eval_metric': 'RMSE', 'iterations': 1000, 'sampling_frequency': 'PerTree', 'leaf_estimation_method': 'Newton', 'grow_policy': 'SymmetricTree', 'penalties_coefficient': 1, 'boosting_type': 'Plain', 'model_shrink_mode': 'Constant', 'feature_border_type': 'GreedyLogSum', 'bayesian_matrix_reg': 0.10000000149011612, 'eval_fraction': 0, 'force_unit_auto_pair_weights': False, 'l2_leaf_reg': 3, 'random_strength': 1, 'rsm': 1, 'boost_from_average': True, 'model_size_reg': 0.5, 'pool_metainfo_options': {'tags': {}}, 'subsample': 1, 'use_best_model': False, 'random_seed': 0, 'depth': 6, 'posterior_sampling': False, 'border_count': 254, 'classes_count': 0, 'auto_class_weights': 'None', 'sparse_features_conflict_fraction': 0, 'leaf_estimation_backtracking': 'AnyImprovement', 'best_model_min_trees': 1, 'model_shrink_rate': 0, 'min_data_in_leaf': 1, 'loss_function': 'RMSE', 'learning_rate': 0.028272999450564384, 'score_function': 'Cosine', 'task_type': 'CPU', 'leaf_estimation_iterations': 1, 'bootstrap_type': 'MVS', 'max_leaves': 64}\n",
      "{'nan_mode': 'Min', 'eval_metric': 'RMSE', 'iterations': 1000, 'sampling_frequency': 'PerTree', 'leaf_estimation_method': 'Newton', 'grow_policy': 'SymmetricTree', 'penalties_coefficient': 1, 'boosting_type': 'Plain', 'model_shrink_mode': 'Constant', 'feature_border_type': 'GreedyLogSum', 'bayesian_matrix_reg': 0.10000000149011612, 'eval_fraction': 0, 'force_unit_auto_pair_weights': False, 'l2_leaf_reg': 3, 'random_strength': 1, 'rsm': 1, 'boost_from_average': True, 'model_size_reg': 0.5, 'pool_metainfo_options': {'tags': {}}, 'subsample': 1, 'use_best_model': False, 'random_seed': 0, 'depth': 6, 'posterior_sampling': False, 'border_count': 254, 'classes_count': 0, 'auto_class_weights': 'None', 'sparse_features_conflict_fraction': 0, 'leaf_estimation_backtracking': 'AnyImprovement', 'best_model_min_trees': 1, 'model_shrink_rate': 0, 'min_data_in_leaf': 1, 'loss_function': 'RMSE', 'learning_rate': 0.028272999450564384, 'score_function': 'Cosine', 'task_type': 'CPU', 'leaf_estimation_iterations': 1, 'bootstrap_type': 'MVS', 'max_leaves': 64}\n",
      "{'nan_mode': 'Min', 'eval_metric': 'RMSE', 'iterations': 1000, 'sampling_frequency': 'PerTree', 'leaf_estimation_method': 'Newton', 'grow_policy': 'SymmetricTree', 'penalties_coefficient': 1, 'boosting_type': 'Plain', 'model_shrink_mode': 'Constant', 'feature_border_type': 'GreedyLogSum', 'bayesian_matrix_reg': 0.10000000149011612, 'eval_fraction': 0, 'force_unit_auto_pair_weights': False, 'l2_leaf_reg': 3, 'random_strength': 1, 'rsm': 1, 'boost_from_average': True, 'model_size_reg': 0.5, 'pool_metainfo_options': {'tags': {}}, 'subsample': 1, 'use_best_model': False, 'random_seed': 0, 'depth': 6, 'posterior_sampling': False, 'border_count': 254, 'classes_count': 0, 'auto_class_weights': 'None', 'sparse_features_conflict_fraction': 0, 'leaf_estimation_backtracking': 'AnyImprovement', 'best_model_min_trees': 1, 'model_shrink_rate': 0, 'min_data_in_leaf': 1, 'loss_function': 'RMSE', 'learning_rate': 0.028272999450564384, 'score_function': 'Cosine', 'task_type': 'CPU', 'leaf_estimation_iterations': 1, 'bootstrap_type': 'MVS', 'max_leaves': 64}\n",
      "{'nan_mode': 'Min', 'eval_metric': 'RMSE', 'iterations': 1000, 'sampling_frequency': 'PerTree', 'leaf_estimation_method': 'Newton', 'grow_policy': 'SymmetricTree', 'penalties_coefficient': 1, 'boosting_type': 'Plain', 'model_shrink_mode': 'Constant', 'feature_border_type': 'GreedyLogSum', 'bayesian_matrix_reg': 0.10000000149011612, 'eval_fraction': 0, 'force_unit_auto_pair_weights': False, 'l2_leaf_reg': 3, 'random_strength': 1, 'rsm': 1, 'boost_from_average': True, 'model_size_reg': 0.5, 'pool_metainfo_options': {'tags': {}}, 'subsample': 1, 'use_best_model': False, 'random_seed': 0, 'depth': 6, 'posterior_sampling': False, 'border_count': 254, 'classes_count': 0, 'auto_class_weights': 'None', 'sparse_features_conflict_fraction': 0, 'leaf_estimation_backtracking': 'AnyImprovement', 'best_model_min_trees': 1, 'model_shrink_rate': 0, 'min_data_in_leaf': 1, 'loss_function': 'RMSE', 'learning_rate': 0.028226999565958977, 'score_function': 'Cosine', 'task_type': 'CPU', 'leaf_estimation_iterations': 1, 'bootstrap_type': 'MVS', 'max_leaves': 64}\n",
      "{'nan_mode': 'Min', 'eval_metric': 'RMSE', 'iterations': 1000, 'sampling_frequency': 'PerTree', 'leaf_estimation_method': 'Newton', 'grow_policy': 'SymmetricTree', 'penalties_coefficient': 1, 'boosting_type': 'Plain', 'model_shrink_mode': 'Constant', 'feature_border_type': 'GreedyLogSum', 'bayesian_matrix_reg': 0.10000000149011612, 'eval_fraction': 0, 'force_unit_auto_pair_weights': False, 'l2_leaf_reg': 3, 'random_strength': 1, 'rsm': 1, 'boost_from_average': True, 'model_size_reg': 0.5, 'pool_metainfo_options': {'tags': {}}, 'subsample': 1, 'use_best_model': False, 'random_seed': 0, 'depth': 6, 'posterior_sampling': False, 'border_count': 254, 'classes_count': 0, 'auto_class_weights': 'None', 'sparse_features_conflict_fraction': 0, 'leaf_estimation_backtracking': 'AnyImprovement', 'best_model_min_trees': 1, 'model_shrink_rate': 0, 'min_data_in_leaf': 1, 'loss_function': 'RMSE', 'learning_rate': 0.028226999565958977, 'score_function': 'Cosine', 'task_type': 'CPU', 'leaf_estimation_iterations': 1, 'bootstrap_type': 'MVS', 'max_leaves': 64}\n",
      "{'nan_mode': 'Min', 'eval_metric': 'RMSE', 'iterations': 1000, 'sampling_frequency': 'PerTree', 'leaf_estimation_method': 'Newton', 'grow_policy': 'SymmetricTree', 'penalties_coefficient': 1, 'boosting_type': 'Plain', 'model_shrink_mode': 'Constant', 'feature_border_type': 'GreedyLogSum', 'bayesian_matrix_reg': 0.10000000149011612, 'eval_fraction': 0, 'force_unit_auto_pair_weights': False, 'l2_leaf_reg': 3, 'random_strength': 1, 'rsm': 1, 'boost_from_average': True, 'model_size_reg': 0.5, 'pool_metainfo_options': {'tags': {}}, 'subsample': 1, 'use_best_model': False, 'random_seed': 0, 'depth': 6, 'posterior_sampling': False, 'border_count': 254, 'classes_count': 0, 'auto_class_weights': 'None', 'sparse_features_conflict_fraction': 0, 'leaf_estimation_backtracking': 'AnyImprovement', 'best_model_min_trees': 1, 'model_shrink_rate': 0, 'min_data_in_leaf': 1, 'loss_function': 'RMSE', 'learning_rate': 0.028226999565958977, 'score_function': 'Cosine', 'task_type': 'CPU', 'leaf_estimation_iterations': 1, 'bootstrap_type': 'MVS', 'max_leaves': 64}\n",
      "{'nan_mode': 'Min', 'eval_metric': 'RMSE', 'iterations': 1000, 'sampling_frequency': 'PerTree', 'leaf_estimation_method': 'Newton', 'grow_policy': 'SymmetricTree', 'penalties_coefficient': 1, 'boosting_type': 'Plain', 'model_shrink_mode': 'Constant', 'feature_border_type': 'GreedyLogSum', 'bayesian_matrix_reg': 0.10000000149011612, 'eval_fraction': 0, 'force_unit_auto_pair_weights': False, 'l2_leaf_reg': 3, 'random_strength': 1, 'rsm': 1, 'boost_from_average': True, 'model_size_reg': 0.5, 'pool_metainfo_options': {'tags': {}}, 'subsample': 1, 'use_best_model': False, 'random_seed': 0, 'depth': 6, 'posterior_sampling': False, 'border_count': 254, 'classes_count': 0, 'auto_class_weights': 'None', 'sparse_features_conflict_fraction': 0, 'leaf_estimation_backtracking': 'AnyImprovement', 'best_model_min_trees': 1, 'model_shrink_rate': 0, 'min_data_in_leaf': 1, 'loss_function': 'RMSE', 'learning_rate': 0.028226999565958977, 'score_function': 'Cosine', 'task_type': 'CPU', 'leaf_estimation_iterations': 1, 'bootstrap_type': 'MVS', 'max_leaves': 64}\n",
      "{'nan_mode': 'Min', 'eval_metric': 'RMSE', 'iterations': 1000, 'sampling_frequency': 'PerTree', 'leaf_estimation_method': 'Newton', 'grow_policy': 'SymmetricTree', 'penalties_coefficient': 1, 'boosting_type': 'Plain', 'model_shrink_mode': 'Constant', 'feature_border_type': 'GreedyLogSum', 'bayesian_matrix_reg': 0.10000000149011612, 'eval_fraction': 0, 'force_unit_auto_pair_weights': False, 'l2_leaf_reg': 3, 'random_strength': 1, 'rsm': 1, 'boost_from_average': True, 'model_size_reg': 0.5, 'pool_metainfo_options': {'tags': {}}, 'subsample': 1, 'use_best_model': False, 'random_seed': 0, 'depth': 6, 'posterior_sampling': False, 'border_count': 254, 'classes_count': 0, 'auto_class_weights': 'None', 'sparse_features_conflict_fraction': 0, 'leaf_estimation_backtracking': 'AnyImprovement', 'best_model_min_trees': 1, 'model_shrink_rate': 0, 'min_data_in_leaf': 1, 'loss_function': 'RMSE', 'learning_rate': 0.028226999565958977, 'score_function': 'Cosine', 'task_type': 'CPU', 'leaf_estimation_iterations': 1, 'bootstrap_type': 'MVS', 'max_leaves': 64}\n",
      "{'nan_mode': 'Min', 'eval_metric': 'RMSE', 'iterations': 1000, 'sampling_frequency': 'PerTree', 'leaf_estimation_method': 'Newton', 'grow_policy': 'SymmetricTree', 'penalties_coefficient': 1, 'boosting_type': 'Plain', 'model_shrink_mode': 'Constant', 'feature_border_type': 'GreedyLogSum', 'bayesian_matrix_reg': 0.10000000149011612, 'eval_fraction': 0, 'force_unit_auto_pair_weights': False, 'l2_leaf_reg': 3, 'random_strength': 1, 'rsm': 1, 'boost_from_average': True, 'model_size_reg': 0.5, 'pool_metainfo_options': {'tags': {}}, 'subsample': 1, 'use_best_model': False, 'random_seed': 0, 'depth': 6, 'posterior_sampling': False, 'border_count': 254, 'classes_count': 0, 'auto_class_weights': 'None', 'sparse_features_conflict_fraction': 0, 'leaf_estimation_backtracking': 'AnyImprovement', 'best_model_min_trees': 1, 'model_shrink_rate': 0, 'min_data_in_leaf': 1, 'loss_function': 'RMSE', 'learning_rate': 0.028226999565958977, 'score_function': 'Cosine', 'task_type': 'CPU', 'leaf_estimation_iterations': 1, 'bootstrap_type': 'MVS', 'max_leaves': 64}\n",
      "{'nan_mode': 'Min', 'eval_metric': 'RMSE', 'iterations': 1000, 'sampling_frequency': 'PerTree', 'leaf_estimation_method': 'Newton', 'grow_policy': 'SymmetricTree', 'penalties_coefficient': 1, 'boosting_type': 'Plain', 'model_shrink_mode': 'Constant', 'feature_border_type': 'GreedyLogSum', 'bayesian_matrix_reg': 0.10000000149011612, 'eval_fraction': 0, 'force_unit_auto_pair_weights': False, 'l2_leaf_reg': 3, 'random_strength': 1, 'rsm': 1, 'boost_from_average': True, 'model_size_reg': 0.5, 'pool_metainfo_options': {'tags': {}}, 'subsample': 1, 'use_best_model': False, 'random_seed': 0, 'depth': 6, 'posterior_sampling': False, 'border_count': 254, 'classes_count': 0, 'auto_class_weights': 'None', 'sparse_features_conflict_fraction': 0, 'leaf_estimation_backtracking': 'AnyImprovement', 'best_model_min_trees': 1, 'model_shrink_rate': 0, 'min_data_in_leaf': 1, 'loss_function': 'RMSE', 'learning_rate': 0.028272999450564384, 'score_function': 'Cosine', 'task_type': 'CPU', 'leaf_estimation_iterations': 1, 'bootstrap_type': 'MVS', 'max_leaves': 64}\n",
      "{'nan_mode': 'Min', 'eval_metric': 'RMSE', 'iterations': 1000, 'sampling_frequency': 'PerTree', 'leaf_estimation_method': 'Newton', 'grow_policy': 'SymmetricTree', 'penalties_coefficient': 1, 'boosting_type': 'Plain', 'model_shrink_mode': 'Constant', 'feature_border_type': 'GreedyLogSum', 'bayesian_matrix_reg': 0.10000000149011612, 'eval_fraction': 0, 'force_unit_auto_pair_weights': False, 'l2_leaf_reg': 3, 'random_strength': 1, 'rsm': 1, 'boost_from_average': True, 'model_size_reg': 0.5, 'pool_metainfo_options': {'tags': {}}, 'subsample': 1, 'use_best_model': False, 'random_seed': 0, 'depth': 6, 'posterior_sampling': False, 'border_count': 254, 'classes_count': 0, 'auto_class_weights': 'None', 'sparse_features_conflict_fraction': 0, 'leaf_estimation_backtracking': 'AnyImprovement', 'best_model_min_trees': 1, 'model_shrink_rate': 0, 'min_data_in_leaf': 1, 'loss_function': 'RMSE', 'learning_rate': 0.028272999450564384, 'score_function': 'Cosine', 'task_type': 'CPU', 'leaf_estimation_iterations': 1, 'bootstrap_type': 'MVS', 'max_leaves': 64}\n",
      "{'nan_mode': 'Min', 'eval_metric': 'RMSE', 'iterations': 1000, 'sampling_frequency': 'PerTree', 'leaf_estimation_method': 'Newton', 'grow_policy': 'SymmetricTree', 'penalties_coefficient': 1, 'boosting_type': 'Plain', 'model_shrink_mode': 'Constant', 'feature_border_type': 'GreedyLogSum', 'bayesian_matrix_reg': 0.10000000149011612, 'eval_fraction': 0, 'force_unit_auto_pair_weights': False, 'l2_leaf_reg': 3, 'random_strength': 1, 'rsm': 1, 'boost_from_average': True, 'model_size_reg': 0.5, 'pool_metainfo_options': {'tags': {}}, 'subsample': 1, 'use_best_model': False, 'random_seed': 0, 'depth': 6, 'posterior_sampling': False, 'border_count': 254, 'classes_count': 0, 'auto_class_weights': 'None', 'sparse_features_conflict_fraction': 0, 'leaf_estimation_backtracking': 'AnyImprovement', 'best_model_min_trees': 1, 'model_shrink_rate': 0, 'min_data_in_leaf': 1, 'loss_function': 'RMSE', 'learning_rate': 0.028272999450564384, 'score_function': 'Cosine', 'task_type': 'CPU', 'leaf_estimation_iterations': 1, 'bootstrap_type': 'MVS', 'max_leaves': 64}\n",
      "{'nan_mode': 'Min', 'eval_metric': 'RMSE', 'iterations': 1000, 'sampling_frequency': 'PerTree', 'leaf_estimation_method': 'Newton', 'grow_policy': 'SymmetricTree', 'penalties_coefficient': 1, 'boosting_type': 'Plain', 'model_shrink_mode': 'Constant', 'feature_border_type': 'GreedyLogSum', 'bayesian_matrix_reg': 0.10000000149011612, 'eval_fraction': 0, 'force_unit_auto_pair_weights': False, 'l2_leaf_reg': 3, 'random_strength': 1, 'rsm': 1, 'boost_from_average': True, 'model_size_reg': 0.5, 'pool_metainfo_options': {'tags': {}}, 'subsample': 1, 'use_best_model': False, 'random_seed': 0, 'depth': 6, 'posterior_sampling': False, 'border_count': 254, 'classes_count': 0, 'auto_class_weights': 'None', 'sparse_features_conflict_fraction': 0, 'leaf_estimation_backtracking': 'AnyImprovement', 'best_model_min_trees': 1, 'model_shrink_rate': 0, 'min_data_in_leaf': 1, 'loss_function': 'RMSE', 'learning_rate': 0.028272999450564384, 'score_function': 'Cosine', 'task_type': 'CPU', 'leaf_estimation_iterations': 1, 'bootstrap_type': 'MVS', 'max_leaves': 64}\n",
      "{'nan_mode': 'Min', 'eval_metric': 'RMSE', 'iterations': 1000, 'sampling_frequency': 'PerTree', 'leaf_estimation_method': 'Newton', 'grow_policy': 'SymmetricTree', 'penalties_coefficient': 1, 'boosting_type': 'Plain', 'model_shrink_mode': 'Constant', 'feature_border_type': 'GreedyLogSum', 'bayesian_matrix_reg': 0.10000000149011612, 'eval_fraction': 0, 'force_unit_auto_pair_weights': False, 'l2_leaf_reg': 3, 'random_strength': 1, 'rsm': 1, 'boost_from_average': True, 'model_size_reg': 0.5, 'pool_metainfo_options': {'tags': {}}, 'subsample': 1, 'use_best_model': False, 'random_seed': 0, 'depth': 6, 'posterior_sampling': False, 'border_count': 254, 'classes_count': 0, 'auto_class_weights': 'None', 'sparse_features_conflict_fraction': 0, 'leaf_estimation_backtracking': 'AnyImprovement', 'best_model_min_trees': 1, 'model_shrink_rate': 0, 'min_data_in_leaf': 1, 'loss_function': 'RMSE', 'learning_rate': 0.028226999565958977, 'score_function': 'Cosine', 'task_type': 'CPU', 'leaf_estimation_iterations': 1, 'bootstrap_type': 'MVS', 'max_leaves': 64}\n",
      "{'nan_mode': 'Min', 'eval_metric': 'RMSE', 'iterations': 1000, 'sampling_frequency': 'PerTree', 'leaf_estimation_method': 'Newton', 'grow_policy': 'SymmetricTree', 'penalties_coefficient': 1, 'boosting_type': 'Plain', 'model_shrink_mode': 'Constant', 'feature_border_type': 'GreedyLogSum', 'bayesian_matrix_reg': 0.10000000149011612, 'eval_fraction': 0, 'force_unit_auto_pair_weights': False, 'l2_leaf_reg': 3, 'random_strength': 1, 'rsm': 1, 'boost_from_average': True, 'model_size_reg': 0.5, 'pool_metainfo_options': {'tags': {}}, 'subsample': 1, 'use_best_model': False, 'random_seed': 0, 'depth': 6, 'posterior_sampling': False, 'border_count': 254, 'classes_count': 0, 'auto_class_weights': 'None', 'sparse_features_conflict_fraction': 0, 'leaf_estimation_backtracking': 'AnyImprovement', 'best_model_min_trees': 1, 'model_shrink_rate': 0, 'min_data_in_leaf': 1, 'loss_function': 'RMSE', 'learning_rate': 0.028226999565958977, 'score_function': 'Cosine', 'task_type': 'CPU', 'leaf_estimation_iterations': 1, 'bootstrap_type': 'MVS', 'max_leaves': 64}\n",
      "{'nan_mode': 'Min', 'eval_metric': 'RMSE', 'iterations': 1000, 'sampling_frequency': 'PerTree', 'leaf_estimation_method': 'Newton', 'grow_policy': 'SymmetricTree', 'penalties_coefficient': 1, 'boosting_type': 'Plain', 'model_shrink_mode': 'Constant', 'feature_border_type': 'GreedyLogSum', 'bayesian_matrix_reg': 0.10000000149011612, 'eval_fraction': 0, 'force_unit_auto_pair_weights': False, 'l2_leaf_reg': 3, 'random_strength': 1, 'rsm': 1, 'boost_from_average': True, 'model_size_reg': 0.5, 'pool_metainfo_options': {'tags': {}}, 'subsample': 1, 'use_best_model': False, 'random_seed': 0, 'depth': 6, 'posterior_sampling': False, 'border_count': 254, 'classes_count': 0, 'auto_class_weights': 'None', 'sparse_features_conflict_fraction': 0, 'leaf_estimation_backtracking': 'AnyImprovement', 'best_model_min_trees': 1, 'model_shrink_rate': 0, 'min_data_in_leaf': 1, 'loss_function': 'RMSE', 'learning_rate': 0.028226999565958977, 'score_function': 'Cosine', 'task_type': 'CPU', 'leaf_estimation_iterations': 1, 'bootstrap_type': 'MVS', 'max_leaves': 64}\n",
      "{'nan_mode': 'Min', 'eval_metric': 'RMSE', 'iterations': 1000, 'sampling_frequency': 'PerTree', 'leaf_estimation_method': 'Newton', 'grow_policy': 'SymmetricTree', 'penalties_coefficient': 1, 'boosting_type': 'Plain', 'model_shrink_mode': 'Constant', 'feature_border_type': 'GreedyLogSum', 'bayesian_matrix_reg': 0.10000000149011612, 'eval_fraction': 0, 'force_unit_auto_pair_weights': False, 'l2_leaf_reg': 3, 'random_strength': 1, 'rsm': 1, 'boost_from_average': True, 'model_size_reg': 0.5, 'pool_metainfo_options': {'tags': {}}, 'subsample': 1, 'use_best_model': False, 'random_seed': 0, 'depth': 6, 'posterior_sampling': False, 'border_count': 254, 'classes_count': 0, 'auto_class_weights': 'None', 'sparse_features_conflict_fraction': 0, 'leaf_estimation_backtracking': 'AnyImprovement', 'best_model_min_trees': 1, 'model_shrink_rate': 0, 'min_data_in_leaf': 1, 'loss_function': 'RMSE', 'learning_rate': 0.028226999565958977, 'score_function': 'Cosine', 'task_type': 'CPU', 'leaf_estimation_iterations': 1, 'bootstrap_type': 'MVS', 'max_leaves': 64}\n",
      "{'nan_mode': 'Min', 'eval_metric': 'RMSE', 'iterations': 1000, 'sampling_frequency': 'PerTree', 'leaf_estimation_method': 'Newton', 'grow_policy': 'SymmetricTree', 'penalties_coefficient': 1, 'boosting_type': 'Plain', 'model_shrink_mode': 'Constant', 'feature_border_type': 'GreedyLogSum', 'bayesian_matrix_reg': 0.10000000149011612, 'eval_fraction': 0, 'force_unit_auto_pair_weights': False, 'l2_leaf_reg': 3, 'random_strength': 1, 'rsm': 1, 'boost_from_average': True, 'model_size_reg': 0.5, 'pool_metainfo_options': {'tags': {}}, 'subsample': 1, 'use_best_model': False, 'random_seed': 0, 'depth': 6, 'posterior_sampling': False, 'border_count': 254, 'classes_count': 0, 'auto_class_weights': 'None', 'sparse_features_conflict_fraction': 0, 'leaf_estimation_backtracking': 'AnyImprovement', 'best_model_min_trees': 1, 'model_shrink_rate': 0, 'min_data_in_leaf': 1, 'loss_function': 'RMSE', 'learning_rate': 0.028226999565958977, 'score_function': 'Cosine', 'task_type': 'CPU', 'leaf_estimation_iterations': 1, 'bootstrap_type': 'MVS', 'max_leaves': 64}\n",
      "{'nan_mode': 'Min', 'eval_metric': 'RMSE', 'iterations': 1000, 'sampling_frequency': 'PerTree', 'leaf_estimation_method': 'Newton', 'grow_policy': 'SymmetricTree', 'penalties_coefficient': 1, 'boosting_type': 'Plain', 'model_shrink_mode': 'Constant', 'feature_border_type': 'GreedyLogSum', 'bayesian_matrix_reg': 0.10000000149011612, 'eval_fraction': 0, 'force_unit_auto_pair_weights': False, 'l2_leaf_reg': 3, 'random_strength': 1, 'rsm': 1, 'boost_from_average': True, 'model_size_reg': 0.5, 'pool_metainfo_options': {'tags': {}}, 'subsample': 1, 'use_best_model': False, 'random_seed': 0, 'depth': 6, 'posterior_sampling': False, 'border_count': 254, 'classes_count': 0, 'auto_class_weights': 'None', 'sparse_features_conflict_fraction': 0, 'leaf_estimation_backtracking': 'AnyImprovement', 'best_model_min_trees': 1, 'model_shrink_rate': 0, 'min_data_in_leaf': 1, 'loss_function': 'RMSE', 'learning_rate': 0.028226999565958977, 'score_function': 'Cosine', 'task_type': 'CPU', 'leaf_estimation_iterations': 1, 'bootstrap_type': 'MVS', 'max_leaves': 64}\n",
      "{'nan_mode': 'Min', 'eval_metric': 'RMSE', 'iterations': 1000, 'sampling_frequency': 'PerTree', 'leaf_estimation_method': 'Newton', 'grow_policy': 'SymmetricTree', 'penalties_coefficient': 1, 'boosting_type': 'Plain', 'model_shrink_mode': 'Constant', 'feature_border_type': 'GreedyLogSum', 'bayesian_matrix_reg': 0.10000000149011612, 'eval_fraction': 0, 'force_unit_auto_pair_weights': False, 'l2_leaf_reg': 3, 'random_strength': 1, 'rsm': 1, 'boost_from_average': True, 'model_size_reg': 0.5, 'pool_metainfo_options': {'tags': {}}, 'subsample': 1, 'use_best_model': False, 'random_seed': 0, 'depth': 6, 'posterior_sampling': False, 'border_count': 254, 'classes_count': 0, 'auto_class_weights': 'None', 'sparse_features_conflict_fraction': 0, 'leaf_estimation_backtracking': 'AnyImprovement', 'best_model_min_trees': 1, 'model_shrink_rate': 0, 'min_data_in_leaf': 1, 'loss_function': 'RMSE', 'learning_rate': 0.028272999450564384, 'score_function': 'Cosine', 'task_type': 'CPU', 'leaf_estimation_iterations': 1, 'bootstrap_type': 'MVS', 'max_leaves': 64}\n",
      "{'nan_mode': 'Min', 'eval_metric': 'RMSE', 'iterations': 1000, 'sampling_frequency': 'PerTree', 'leaf_estimation_method': 'Newton', 'grow_policy': 'SymmetricTree', 'penalties_coefficient': 1, 'boosting_type': 'Plain', 'model_shrink_mode': 'Constant', 'feature_border_type': 'GreedyLogSum', 'bayesian_matrix_reg': 0.10000000149011612, 'eval_fraction': 0, 'force_unit_auto_pair_weights': False, 'l2_leaf_reg': 3, 'random_strength': 1, 'rsm': 1, 'boost_from_average': True, 'model_size_reg': 0.5, 'pool_metainfo_options': {'tags': {}}, 'subsample': 1, 'use_best_model': False, 'random_seed': 0, 'depth': 6, 'posterior_sampling': False, 'border_count': 254, 'classes_count': 0, 'auto_class_weights': 'None', 'sparse_features_conflict_fraction': 0, 'leaf_estimation_backtracking': 'AnyImprovement', 'best_model_min_trees': 1, 'model_shrink_rate': 0, 'min_data_in_leaf': 1, 'loss_function': 'RMSE', 'learning_rate': 0.028272999450564384, 'score_function': 'Cosine', 'task_type': 'CPU', 'leaf_estimation_iterations': 1, 'bootstrap_type': 'MVS', 'max_leaves': 64}\n",
      "{'nan_mode': 'Min', 'eval_metric': 'RMSE', 'iterations': 1000, 'sampling_frequency': 'PerTree', 'leaf_estimation_method': 'Newton', 'grow_policy': 'SymmetricTree', 'penalties_coefficient': 1, 'boosting_type': 'Plain', 'model_shrink_mode': 'Constant', 'feature_border_type': 'GreedyLogSum', 'bayesian_matrix_reg': 0.10000000149011612, 'eval_fraction': 0, 'force_unit_auto_pair_weights': False, 'l2_leaf_reg': 3, 'random_strength': 1, 'rsm': 1, 'boost_from_average': True, 'model_size_reg': 0.5, 'pool_metainfo_options': {'tags': {}}, 'subsample': 1, 'use_best_model': False, 'random_seed': 0, 'depth': 6, 'posterior_sampling': False, 'border_count': 254, 'classes_count': 0, 'auto_class_weights': 'None', 'sparse_features_conflict_fraction': 0, 'leaf_estimation_backtracking': 'AnyImprovement', 'best_model_min_trees': 1, 'model_shrink_rate': 0, 'min_data_in_leaf': 1, 'loss_function': 'RMSE', 'learning_rate': 0.028272999450564384, 'score_function': 'Cosine', 'task_type': 'CPU', 'leaf_estimation_iterations': 1, 'bootstrap_type': 'MVS', 'max_leaves': 64}\n",
      "{'nan_mode': 'Min', 'eval_metric': 'RMSE', 'iterations': 1000, 'sampling_frequency': 'PerTree', 'leaf_estimation_method': 'Newton', 'grow_policy': 'SymmetricTree', 'penalties_coefficient': 1, 'boosting_type': 'Plain', 'model_shrink_mode': 'Constant', 'feature_border_type': 'GreedyLogSum', 'bayesian_matrix_reg': 0.10000000149011612, 'eval_fraction': 0, 'force_unit_auto_pair_weights': False, 'l2_leaf_reg': 3, 'random_strength': 1, 'rsm': 1, 'boost_from_average': True, 'model_size_reg': 0.5, 'pool_metainfo_options': {'tags': {}}, 'subsample': 1, 'use_best_model': False, 'random_seed': 0, 'depth': 6, 'posterior_sampling': False, 'border_count': 254, 'classes_count': 0, 'auto_class_weights': 'None', 'sparse_features_conflict_fraction': 0, 'leaf_estimation_backtracking': 'AnyImprovement', 'best_model_min_trees': 1, 'model_shrink_rate': 0, 'min_data_in_leaf': 1, 'loss_function': 'RMSE', 'learning_rate': 0.028272999450564384, 'score_function': 'Cosine', 'task_type': 'CPU', 'leaf_estimation_iterations': 1, 'bootstrap_type': 'MVS', 'max_leaves': 64}\n"
     ]
    }
   ],
   "source": [
    "import Utils as utils\n",
    "from catboost import CatBoostRegressor\n",
    "from catboost import Pool\n",
    "\n",
    "# utils.evaluate_catboost(dfX,y,kf)\n",
    "def cbpred(dfX,y,kf):\n",
    "    vals = []\n",
    "    preds = []\n",
    "    cbr = CatBoostRegressor()\n",
    "    for train_index, test_index in kf.split(dfX):\n",
    "    # print(\"TRAIN:\", train_index, \"TEST:\", test_index)\n",
    "        X_train, X_test = dfX.iloc[train_index], dfX.iloc[test_index]\n",
    "        y_train, y_test = y.iloc[train_index], y.iloc[test_index]\n",
    "        train_pool = Pool(data=X_train, label=y_train)\n",
    "        test_pool = Pool(data=X_test, label=y_test)\n",
    "\n",
    "        \n",
    "        cbr.fit(train_pool, verbose=False)\n",
    "        cbr_pred = cbr.predict(test_pool)\n",
    "        print(cbr.get_all_params())\n",
    "        preds.append(cbr_pred)\n",
    "        vals.append(y_test)\n",
    "\n",
    "    return utils.error_rate(\"Catboost\",flatten(preds),flatten(vals))\n",
    "cols = ['Umur', 'Umur Squared', 'APM SMA', 'Pengeluaran Bulanan','Indeks Pembangunan Manusia', 'DPT', 'Sentiment', 'Weighted Sentiment']\n",
    "\n",
    "res = cbpred(dfX[cols],y,kf)\n"
   ]
  },
  {
   "cell_type": "code",
   "execution_count": 9,
   "metadata": {},
   "outputs": [
    {
     "data": {
      "text/plain": [
       "('Catboost', 0.03512429844587696, 0.028615520062230004, 0.47568209883632273)"
      ]
     },
     "execution_count": 9,
     "metadata": {},
     "output_type": "execute_result"
    }
   ],
   "source": [
    "res"
   ]
  }
 ],
 "metadata": {
  "kernelspec": {
   "display_name": "Python 3",
   "language": "python",
   "name": "python3"
  },
  "language_info": {
   "codemirror_mode": {
    "name": "ipython",
    "version": 3
   },
   "file_extension": ".py",
   "mimetype": "text/x-python",
   "name": "python",
   "nbconvert_exporter": "python",
   "pygments_lexer": "ipython3",
   "version": "3.10.4"
  },
  "orig_nbformat": 4
 },
 "nbformat": 4,
 "nbformat_minor": 2
}
